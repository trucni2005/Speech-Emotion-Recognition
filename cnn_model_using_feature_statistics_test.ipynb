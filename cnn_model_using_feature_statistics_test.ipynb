{
 "cells": [
  {
   "cell_type": "code",
   "execution_count": 1,
   "metadata": {},
   "outputs": [],
   "source": [
    "from training_models.best_cnn_feature_statistics import SpeechEmotionRecognitionModelUsingFeatureStatistics\n",
    "import matplotlib.pyplot as plt"
   ]
  },
  {
   "cell_type": "code",
   "execution_count": 2,
   "metadata": {},
   "outputs": [],
   "source": [
    "from config.config import Config"
   ]
  },
  {
   "cell_type": "code",
   "execution_count": 3,
   "metadata": {},
   "outputs": [],
   "source": [
    "def get_n_mfcc_paths(n_mfcc):\n",
    "    train_path = Config.n_mfcc_config[n_mfcc].train_path\n",
    "    validation_path = Config.n_mfcc_config[n_mfcc].validation_path\n",
    "    test_path = Config.n_mfcc_config[n_mfcc].test_path\n",
    "    return train_path, validation_path, test_path"
   ]
  },
  {
   "cell_type": "code",
   "execution_count": 4,
   "metadata": {},
   "outputs": [],
   "source": [
    "def train_model(n_mfcc):\n",
    "    train_path, validation_path, test_path = get_n_mfcc_paths(n_mfcc)\n",
    "    model = SpeechEmotionRecognitionModelUsingFeatureStatistics(train_path, test_path, validation_path, n_mfcc)"
   ]
  },
  {
   "cell_type": "code",
   "execution_count": 5,
   "metadata": {},
   "outputs": [
    {
     "name": "stderr",
     "output_type": "stream",
     "text": [
      "d:\\data_analysis\\speech_emotion_recognition\\.venv\\Lib\\site-packages\\keras\\src\\layers\\convolutional\\base_conv.py:107: UserWarning: Do not pass an `input_shape`/`input_dim` argument to a layer. When using Sequential models, prefer using an `Input(shape)` object as the first layer in the model instead.\n",
      "  super().__init__(activity_regularizer=activity_regularizer, **kwargs)\n"
     ]
    },
    {
     "data": {
      "text/html": [
       "<pre style=\"white-space:pre;overflow-x:auto;line-height:normal;font-family:Menlo,'DejaVu Sans Mono',consolas,'Courier New',monospace\"></pre>\n"
      ],
      "text/plain": []
     },
     "metadata": {},
     "output_type": "display_data"
    },
    {
     "name": "stderr",
     "output_type": "stream",
     "text": [
      "\u001b[32m2024-06-06 11:36:43.288\u001b[0m | \u001b[1mINFO    \u001b[0m | \u001b[36mkeras.src.utils.summary_utils\u001b[0m:\u001b[36mprint_summary\u001b[0m:\u001b[36m366\u001b[0m - \u001b[1mModel: \"sequential\"\n",
      "┏━━━━━━━━━━━━━━━━━━━━━━━━━━━━━━━━━┳━━━━━━━━━━━━━━━━━━━━━━━━┳━━━━━━━━━━━━━━━┓\n",
      "┃ Layer (type)                    ┃ Output Shape           ┃       Param # ┃\n",
      "┡━━━━━━━━━━━━━━━━━━━━━━━━━━━━━━━━━╇━━━━━━━━━━━━━━━━━━━━━━━━╇━━━━━━━━━━━━━━━┩\n",
      "│ conv1d (Conv1D)                 │ (None, 244, 64)        │           384 │\n",
      "├─────────────────────────────────┼────────────────────────┼───────────────┤\n",
      "│ batch_normalization             │ (None, 244, 64)        │           256 │\n",
      "│ (BatchNormalization)            │                        │               │\n",
      "├─────────────────────────────────┼────────────────────────┼───────────────┤\n",
      "│ conv1d_1 (Conv1D)               │ (None, 244, 64)        │        20,544 │\n",
      "├─────────────────────────────────┼────────────────────────┼───────────────┤\n",
      "│ batch_normalization_1           │ (None, 244, 64)        │           256 │\n",
      "│ (BatchNormalization)            │                        │               │\n",
      "├─────────────────────────────────┼────────────────────────┼───────────────┤\n",
      "│ max_pooling1d (MaxPooling1D)    │ (None, 122, 64)        │             0 │\n",
      "├─────────────────────────────────┼────────────────────────┼───────────────┤\n",
      "│ dropout (Dropout)               │ (None, 122, 64)        │             0 │\n",
      "├─────────────────────────────────┼────────────────────────┼───────────────┤\n",
      "│ conv1d_2 (Conv1D)               │ (None, 122, 128)       │        41,088 │\n",
      "├─────────────────────────────────┼────────────────────────┼───────────────┤\n",
      "│ batch_normalization_2           │ (None, 122, 128)       │           512 │\n",
      "│ (BatchNormalization)            │                        │               │\n",
      "├─────────────────────────────────┼────────────────────────┼───────────────┤\n",
      "│ conv1d_3 (Conv1D)               │ (None, 122, 128)       │        82,048 │\n",
      "├─────────────────────────────────┼────────────────────────┼───────────────┤\n",
      "│ batch_normalization_3           │ (None, 122, 128)       │           512 │\n",
      "│ (BatchNormalization)            │                        │               │\n",
      "├─────────────────────────────────┼────────────────────────┼───────────────┤\n",
      "│ max_pooling1d_1 (MaxPooling1D)  │ (None, 61, 128)        │             0 │\n",
      "├─────────────────────────────────┼────────────────────────┼───────────────┤\n",
      "│ dropout_1 (Dropout)             │ (None, 61, 128)        │             0 │\n",
      "├─────────────────────────────────┼────────────────────────┼───────────────┤\n",
      "│ conv1d_4 (Conv1D)               │ (None, 61, 256)        │        98,560 │\n",
      "├─────────────────────────────────┼────────────────────────┼───────────────┤\n",
      "│ batch_normalization_4           │ (None, 61, 256)        │         1,024 │\n",
      "│ (BatchNormalization)            │                        │               │\n",
      "├─────────────────────────────────┼────────────────────────┼───────────────┤\n",
      "│ conv1d_5 (Conv1D)               │ (None, 61, 256)        │       196,864 │\n",
      "├─────────────────────────────────┼────────────────────────┼───────────────┤\n",
      "│ batch_normalization_5           │ (None, 61, 256)        │         1,024 │\n",
      "│ (BatchNormalization)            │                        │               │\n",
      "├─────────────────────────────────┼────────────────────────┼───────────────┤\n",
      "│ max_pooling1d_2 (MaxPooling1D)  │ (None, 31, 256)        │             0 │\n",
      "├─────────────────────────────────┼────────────────────────┼───────────────┤\n",
      "│ dropout_2 (Dropout)             │ (None, 31, 256)        │             0 │\n",
      "├─────────────────────────────────┼────────────────────────┼───────────────┤\n",
      "│ flatten (Flatten)               │ (None, 7936)           │             0 │\n",
      "├─────────────────────────────────┼────────────────────────┼───────────────┤\n",
      "│ dense (Dense)                   │ (None, 256)            │     2,031,872 │\n",
      "├─────────────────────────────────┼────────────────────────┼───────────────┤\n",
      "│ batch_normalization_6           │ (None, 256)            │         1,024 │\n",
      "│ (BatchNormalization)            │                        │               │\n",
      "├─────────────────────────────────┼────────────────────────┼───────────────┤\n",
      "│ dropout_3 (Dropout)             │ (None, 256)            │             0 │\n",
      "├─────────────────────────────────┼────────────────────────┼───────────────┤\n",
      "│ dense_1 (Dense)                 │ (None, 7)              │         1,799 │\n",
      "└─────────────────────────────────┴────────────────────────┴───────────────┘\n",
      " Total params: 2,477,767 (9.45 MB)\n",
      " Trainable params: 2,475,463 (9.44 MB)\n",
      " Non-trainable params: 2,304 (9.00 KB)\n",
      "\u001b[0m\n"
     ]
    },
    {
     "name": "stdout",
     "output_type": "stream",
     "text": [
      "Epoch 1/50\n",
      "\u001b[1m421/421\u001b[0m \u001b[32m━━━━━━━━━━━━━━━━━━━━\u001b[0m\u001b[37m\u001b[0m \u001b[1m24s\u001b[0m 50ms/step - accuracy: 0.3371 - loss: 2.0647 - val_accuracy: 0.4785 - val_loss: 1.3938 - learning_rate: 8.0000e-05\n",
      "Epoch 2/50\n",
      "\u001b[1m421/421\u001b[0m \u001b[32m━━━━━━━━━━━━━━━━━━━━\u001b[0m\u001b[37m\u001b[0m \u001b[1m21s\u001b[0m 49ms/step - accuracy: 0.5153 - loss: 1.3667 - val_accuracy: 0.6026 - val_loss: 1.0682 - learning_rate: 8.0000e-05\n",
      "Epoch 3/50\n",
      "\u001b[1m421/421\u001b[0m \u001b[32m━━━━━━━━━━━━━━━━━━━━\u001b[0m\u001b[37m\u001b[0m \u001b[1m22s\u001b[0m 51ms/step - accuracy: 0.5566 - loss: 1.2102 - val_accuracy: 0.6251 - val_loss: 1.0291 - learning_rate: 8.0000e-05\n",
      "Epoch 4/50\n",
      "\u001b[1m421/421\u001b[0m \u001b[32m━━━━━━━━━━━━━━━━━━━━\u001b[0m\u001b[37m\u001b[0m \u001b[1m22s\u001b[0m 52ms/step - accuracy: 0.5883 - loss: 1.1064 - val_accuracy: 0.6260 - val_loss: 0.9911 - learning_rate: 8.0000e-05\n",
      "Epoch 5/50\n",
      "\u001b[1m421/421\u001b[0m \u001b[32m━━━━━━━━━━━━━━━━━━━━\u001b[0m\u001b[37m\u001b[0m \u001b[1m23s\u001b[0m 56ms/step - accuracy: 0.6075 - loss: 1.0375 - val_accuracy: 0.6447 - val_loss: 0.9653 - learning_rate: 8.0000e-05\n",
      "Epoch 6/50\n",
      "\u001b[1m421/421\u001b[0m \u001b[32m━━━━━━━━━━━━━━━━━━━━\u001b[0m\u001b[37m\u001b[0m \u001b[1m23s\u001b[0m 54ms/step - accuracy: 0.6255 - loss: 0.9839 - val_accuracy: 0.6429 - val_loss: 0.9616 - learning_rate: 8.0000e-05\n",
      "Epoch 7/50\n",
      "\u001b[1m421/421\u001b[0m \u001b[32m━━━━━━━━━━━━━━━━━━━━\u001b[0m\u001b[37m\u001b[0m \u001b[1m21s\u001b[0m 51ms/step - accuracy: 0.6432 - loss: 0.9311 - val_accuracy: 0.6530 - val_loss: 0.9367 - learning_rate: 8.0000e-05\n",
      "Epoch 8/50\n",
      "\u001b[1m421/421\u001b[0m \u001b[32m━━━━━━━━━━━━━━━━━━━━\u001b[0m\u001b[37m\u001b[0m \u001b[1m23s\u001b[0m 55ms/step - accuracy: 0.6514 - loss: 0.9062 - val_accuracy: 0.6554 - val_loss: 0.9254 - learning_rate: 8.0000e-05\n",
      "Epoch 9/50\n",
      "\u001b[1m421/421\u001b[0m \u001b[32m━━━━━━━━━━━━━━━━━━━━\u001b[0m\u001b[37m\u001b[0m \u001b[1m22s\u001b[0m 51ms/step - accuracy: 0.6659 - loss: 0.8761 - val_accuracy: 0.6587 - val_loss: 0.9125 - learning_rate: 8.0000e-05\n",
      "Epoch 10/50\n",
      "\u001b[1m421/421\u001b[0m \u001b[32m━━━━━━━━━━━━━━━━━━━━\u001b[0m\u001b[37m\u001b[0m \u001b[1m22s\u001b[0m 53ms/step - accuracy: 0.6822 - loss: 0.8362 - val_accuracy: 0.6518 - val_loss: 0.9243 - learning_rate: 8.0000e-05\n",
      "Epoch 11/50\n",
      "\u001b[1m421/421\u001b[0m \u001b[32m━━━━━━━━━━━━━━━━━━━━\u001b[0m\u001b[37m\u001b[0m \u001b[1m22s\u001b[0m 52ms/step - accuracy: 0.6940 - loss: 0.7973 - val_accuracy: 0.6634 - val_loss: 0.9166 - learning_rate: 8.0000e-05\n",
      "Epoch 12/50\n",
      "\u001b[1m421/421\u001b[0m \u001b[32m━━━━━━━━━━━━━━━━━━━━\u001b[0m\u001b[37m\u001b[0m \u001b[1m21s\u001b[0m 51ms/step - accuracy: 0.7079 - loss: 0.7661 - val_accuracy: 0.6548 - val_loss: 0.9190 - learning_rate: 8.0000e-05\n",
      "Epoch 13/50\n",
      "\u001b[1m421/421\u001b[0m \u001b[32m━━━━━━━━━━━━━━━━━━━━\u001b[0m\u001b[37m\u001b[0m \u001b[1m21s\u001b[0m 50ms/step - accuracy: 0.7223 - loss: 0.7372 - val_accuracy: 0.6569 - val_loss: 0.9170 - learning_rate: 8.0000e-05\n",
      "Epoch 14/50\n",
      "\u001b[1m421/421\u001b[0m \u001b[32m━━━━━━━━━━━━━━━━━━━━\u001b[0m\u001b[37m\u001b[0m \u001b[1m0s\u001b[0m 51ms/step - accuracy: 0.7256 - loss: 0.7118\n",
      "Epoch 14: ReduceLROnPlateau reducing learning rate to 3.9999998989515007e-05.\n",
      "\u001b[1m421/421\u001b[0m \u001b[32m━━━━━━━━━━━━━━━━━━━━\u001b[0m\u001b[37m\u001b[0m \u001b[1m22s\u001b[0m 52ms/step - accuracy: 0.7256 - loss: 0.7118 - val_accuracy: 0.6598 - val_loss: 0.9217 - learning_rate: 8.0000e-05\n",
      "\u001b[1m105/105\u001b[0m \u001b[32m━━━━━━━━━━━━━━━━━━━━\u001b[0m\u001b[37m\u001b[0m \u001b[1m1s\u001b[0m 7ms/step - accuracy: 0.6430 - loss: 0.9672\n"
     ]
    },
    {
     "name": "stderr",
     "output_type": "stream",
     "text": [
      "\u001b[32m2024-06-06 11:41:53.053\u001b[0m | \u001b[1mINFO    \u001b[0m | \u001b[36mtraining_models.best_cnn_feature_statistics\u001b[0m:\u001b[36mevaluate\u001b[0m:\u001b[36m73\u001b[0m - \u001b[1mTest Loss: 0.9171040654182434, Test Accuracy: 0.6534771919250488\u001b[0m\n"
     ]
    }
   ],
   "source": [
    "train_model(20)"
   ]
  },
  {
   "cell_type": "code",
   "execution_count": 6,
   "metadata": {},
   "outputs": [
    {
     "name": "stderr",
     "output_type": "stream",
     "text": [
      "d:\\data_analysis\\speech_emotion_recognition\\.venv\\Lib\\site-packages\\keras\\src\\layers\\convolutional\\base_conv.py:107: UserWarning: Do not pass an `input_shape`/`input_dim` argument to a layer. When using Sequential models, prefer using an `Input(shape)` object as the first layer in the model instead.\n",
      "  super().__init__(activity_regularizer=activity_regularizer, **kwargs)\n"
     ]
    },
    {
     "data": {
      "text/html": [
       "<pre style=\"white-space:pre;overflow-x:auto;line-height:normal;font-family:Menlo,'DejaVu Sans Mono',consolas,'Courier New',monospace\"></pre>\n"
      ],
      "text/plain": []
     },
     "metadata": {},
     "output_type": "display_data"
    },
    {
     "name": "stderr",
     "output_type": "stream",
     "text": [
      "\u001b[32m2024-06-06 11:42:14.078\u001b[0m | \u001b[1mINFO    \u001b[0m | \u001b[36mkeras.src.utils.summary_utils\u001b[0m:\u001b[36mprint_summary\u001b[0m:\u001b[36m366\u001b[0m - \u001b[1mModel: \"sequential_1\"\n",
      "┏━━━━━━━━━━━━━━━━━━━━━━━━━━━━━━━━━┳━━━━━━━━━━━━━━━━━━━━━━━━┳━━━━━━━━━━━━━━━┓\n",
      "┃ Layer (type)                    ┃ Output Shape           ┃       Param # ┃\n",
      "┡━━━━━━━━━━━━━━━━━━━━━━━━━━━━━━━━━╇━━━━━━━━━━━━━━━━━━━━━━━━╇━━━━━━━━━━━━━━━┩\n",
      "│ conv1d_6 (Conv1D)               │ (None, 167, 64)        │           384 │\n",
      "├─────────────────────────────────┼────────────────────────┼───────────────┤\n",
      "│ batch_normalization_7           │ (None, 167, 64)        │           256 │\n",
      "│ (BatchNormalization)            │                        │               │\n",
      "├─────────────────────────────────┼────────────────────────┼───────────────┤\n",
      "│ conv1d_7 (Conv1D)               │ (None, 167, 64)        │        20,544 │\n",
      "├─────────────────────────────────┼────────────────────────┼───────────────┤\n",
      "│ batch_normalization_8           │ (None, 167, 64)        │           256 │\n",
      "│ (BatchNormalization)            │                        │               │\n",
      "├─────────────────────────────────┼────────────────────────┼───────────────┤\n",
      "│ max_pooling1d_3 (MaxPooling1D)  │ (None, 84, 64)         │             0 │\n",
      "├─────────────────────────────────┼────────────────────────┼───────────────┤\n",
      "│ dropout_4 (Dropout)             │ (None, 84, 64)         │             0 │\n",
      "├─────────────────────────────────┼────────────────────────┼───────────────┤\n",
      "│ conv1d_8 (Conv1D)               │ (None, 84, 128)        │        41,088 │\n",
      "├─────────────────────────────────┼────────────────────────┼───────────────┤\n",
      "│ batch_normalization_9           │ (None, 84, 128)        │           512 │\n",
      "│ (BatchNormalization)            │                        │               │\n",
      "├─────────────────────────────────┼────────────────────────┼───────────────┤\n",
      "│ conv1d_9 (Conv1D)               │ (None, 84, 128)        │        82,048 │\n",
      "├─────────────────────────────────┼────────────────────────┼───────────────┤\n",
      "│ batch_normalization_10          │ (None, 84, 128)        │           512 │\n",
      "│ (BatchNormalization)            │                        │               │\n",
      "├─────────────────────────────────┼────────────────────────┼───────────────┤\n",
      "│ max_pooling1d_4 (MaxPooling1D)  │ (None, 42, 128)        │             0 │\n",
      "├─────────────────────────────────┼────────────────────────┼───────────────┤\n",
      "│ dropout_5 (Dropout)             │ (None, 42, 128)        │             0 │\n",
      "├─────────────────────────────────┼────────────────────────┼───────────────┤\n",
      "│ conv1d_10 (Conv1D)              │ (None, 42, 256)        │        98,560 │\n",
      "├─────────────────────────────────┼────────────────────────┼───────────────┤\n",
      "│ batch_normalization_11          │ (None, 42, 256)        │         1,024 │\n",
      "│ (BatchNormalization)            │                        │               │\n",
      "├─────────────────────────────────┼────────────────────────┼───────────────┤\n",
      "│ conv1d_11 (Conv1D)              │ (None, 42, 256)        │       196,864 │\n",
      "├─────────────────────────────────┼────────────────────────┼───────────────┤\n",
      "│ batch_normalization_12          │ (None, 42, 256)        │         1,024 │\n",
      "│ (BatchNormalization)            │                        │               │\n",
      "├─────────────────────────────────┼────────────────────────┼───────────────┤\n",
      "│ max_pooling1d_5 (MaxPooling1D)  │ (None, 21, 256)        │             0 │\n",
      "├─────────────────────────────────┼────────────────────────┼───────────────┤\n",
      "│ dropout_6 (Dropout)             │ (None, 21, 256)        │             0 │\n",
      "├─────────────────────────────────┼────────────────────────┼───────────────┤\n",
      "│ flatten_1 (Flatten)             │ (None, 5376)           │             0 │\n",
      "├─────────────────────────────────┼────────────────────────┼───────────────┤\n",
      "│ dense_2 (Dense)                 │ (None, 256)            │     1,376,512 │\n",
      "├─────────────────────────────────┼────────────────────────┼───────────────┤\n",
      "│ batch_normalization_13          │ (None, 256)            │         1,024 │\n",
      "│ (BatchNormalization)            │                        │               │\n",
      "├─────────────────────────────────┼────────────────────────┼───────────────┤\n",
      "│ dropout_7 (Dropout)             │ (None, 256)            │             0 │\n",
      "├─────────────────────────────────┼────────────────────────┼───────────────┤\n",
      "│ dense_3 (Dense)                 │ (None, 7)              │         1,799 │\n",
      "└─────────────────────────────────┴────────────────────────┴───────────────┘\n",
      " Total params: 1,822,407 (6.95 MB)\n",
      " Trainable params: 1,820,103 (6.94 MB)\n",
      " Non-trainable params: 2,304 (9.00 KB)\n",
      "\u001b[0m\n"
     ]
    },
    {
     "name": "stdout",
     "output_type": "stream",
     "text": [
      "Epoch 1/50\n",
      "\u001b[1m415/415\u001b[0m \u001b[32m━━━━━━━━━━━━━━━━━━━━\u001b[0m\u001b[37m\u001b[0m \u001b[1m18s\u001b[0m 36ms/step - accuracy: 0.3074 - loss: 2.1571 - val_accuracy: 0.4601 - val_loss: 1.4245 - learning_rate: 8.0000e-05\n",
      "Epoch 2/50\n",
      "\u001b[1m415/415\u001b[0m \u001b[32m━━━━━━━━━━━━━━━━━━━━\u001b[0m\u001b[37m\u001b[0m \u001b[1m15s\u001b[0m 35ms/step - accuracy: 0.4821 - loss: 1.4693 - val_accuracy: 0.5764 - val_loss: 1.1390 - learning_rate: 8.0000e-05\n",
      "Epoch 3/50\n",
      "\u001b[1m415/415\u001b[0m \u001b[32m━━━━━━━━━━━━━━━━━━━━\u001b[0m\u001b[37m\u001b[0m \u001b[1m15s\u001b[0m 36ms/step - accuracy: 0.5230 - loss: 1.3182 - val_accuracy: 0.5821 - val_loss: 1.1032 - learning_rate: 8.0000e-05\n",
      "Epoch 4/50\n",
      "\u001b[1m415/415\u001b[0m \u001b[32m━━━━━━━━━━━━━━━━━━━━\u001b[0m\u001b[37m\u001b[0m \u001b[1m16s\u001b[0m 40ms/step - accuracy: 0.5597 - loss: 1.1908 - val_accuracy: 0.5972 - val_loss: 1.0640 - learning_rate: 8.0000e-05\n",
      "Epoch 5/50\n",
      "\u001b[1m415/415\u001b[0m \u001b[32m━━━━━━━━━━━━━━━━━━━━\u001b[0m\u001b[37m\u001b[0m \u001b[1m16s\u001b[0m 37ms/step - accuracy: 0.5764 - loss: 1.1342 - val_accuracy: 0.6112 - val_loss: 1.0353 - learning_rate: 8.0000e-05\n",
      "Epoch 6/50\n",
      "\u001b[1m415/415\u001b[0m \u001b[32m━━━━━━━━━━━━━━━━━━━━\u001b[0m\u001b[37m\u001b[0m \u001b[1m16s\u001b[0m 37ms/step - accuracy: 0.5942 - loss: 1.0855 - val_accuracy: 0.6141 - val_loss: 1.0202 - learning_rate: 8.0000e-05\n",
      "Epoch 7/50\n",
      "\u001b[1m415/415\u001b[0m \u001b[32m━━━━━━━━━━━━━━━━━━━━\u001b[0m\u001b[37m\u001b[0m \u001b[1m15s\u001b[0m 35ms/step - accuracy: 0.6128 - loss: 1.0294 - val_accuracy: 0.6245 - val_loss: 1.0010 - learning_rate: 8.0000e-05\n",
      "Epoch 8/50\n",
      "\u001b[1m415/415\u001b[0m \u001b[32m━━━━━━━━━━━━━━━━━━━━\u001b[0m\u001b[37m\u001b[0m \u001b[1m15s\u001b[0m 35ms/step - accuracy: 0.6190 - loss: 1.0052 - val_accuracy: 0.6281 - val_loss: 0.9857 - learning_rate: 8.0000e-05\n",
      "Epoch 9/50\n",
      "\u001b[1m415/415\u001b[0m \u001b[32m━━━━━━━━━━━━━━━━━━━━\u001b[0m\u001b[37m\u001b[0m \u001b[1m14s\u001b[0m 35ms/step - accuracy: 0.6309 - loss: 0.9704 - val_accuracy: 0.6254 - val_loss: 0.9849 - learning_rate: 8.0000e-05\n",
      "Epoch 10/50\n",
      "\u001b[1m415/415\u001b[0m \u001b[32m━━━━━━━━━━━━━━━━━━━━\u001b[0m\u001b[37m\u001b[0m \u001b[1m15s\u001b[0m 36ms/step - accuracy: 0.6403 - loss: 0.9433 - val_accuracy: 0.6322 - val_loss: 0.9717 - learning_rate: 8.0000e-05\n",
      "Epoch 11/50\n",
      "\u001b[1m415/415\u001b[0m \u001b[32m━━━━━━━━━━━━━━━━━━━━\u001b[0m\u001b[37m\u001b[0m \u001b[1m15s\u001b[0m 37ms/step - accuracy: 0.6535 - loss: 0.9149 - val_accuracy: 0.6450 - val_loss: 0.9523 - learning_rate: 8.0000e-05\n",
      "Epoch 12/50\n",
      "\u001b[1m415/415\u001b[0m \u001b[32m━━━━━━━━━━━━━━━━━━━━\u001b[0m\u001b[37m\u001b[0m \u001b[1m15s\u001b[0m 37ms/step - accuracy: 0.6662 - loss: 0.8754 - val_accuracy: 0.6417 - val_loss: 0.9572 - learning_rate: 8.0000e-05\n",
      "Epoch 13/50\n",
      "\u001b[1m415/415\u001b[0m \u001b[32m━━━━━━━━━━━━━━━━━━━━\u001b[0m\u001b[37m\u001b[0m \u001b[1m15s\u001b[0m 36ms/step - accuracy: 0.6738 - loss: 0.8450 - val_accuracy: 0.6456 - val_loss: 0.9498 - learning_rate: 8.0000e-05\n",
      "Epoch 14/50\n",
      "\u001b[1m415/415\u001b[0m \u001b[32m━━━━━━━━━━━━━━━━━━━━\u001b[0m\u001b[37m\u001b[0m \u001b[1m15s\u001b[0m 36ms/step - accuracy: 0.6832 - loss: 0.8459 - val_accuracy: 0.6444 - val_loss: 0.9402 - learning_rate: 8.0000e-05\n",
      "Epoch 15/50\n",
      "\u001b[1m415/415\u001b[0m \u001b[32m━━━━━━━━━━━━━━━━━━━━\u001b[0m\u001b[37m\u001b[0m \u001b[1m14s\u001b[0m 34ms/step - accuracy: 0.6854 - loss: 0.8131 - val_accuracy: 0.6545 - val_loss: 0.9392 - learning_rate: 8.0000e-05\n",
      "Epoch 16/50\n",
      "\u001b[1m415/415\u001b[0m \u001b[32m━━━━━━━━━━━━━━━━━━━━\u001b[0m\u001b[37m\u001b[0m \u001b[1m14s\u001b[0m 34ms/step - accuracy: 0.7038 - loss: 0.7866 - val_accuracy: 0.6432 - val_loss: 0.9521 - learning_rate: 8.0000e-05\n",
      "Epoch 17/50\n",
      "\u001b[1m415/415\u001b[0m \u001b[32m━━━━━━━━━━━━━━━━━━━━\u001b[0m\u001b[37m\u001b[0m \u001b[1m14s\u001b[0m 34ms/step - accuracy: 0.7077 - loss: 0.7627 - val_accuracy: 0.6515 - val_loss: 0.9415 - learning_rate: 8.0000e-05\n",
      "Epoch 18/50\n",
      "\u001b[1m415/415\u001b[0m \u001b[32m━━━━━━━━━━━━━━━━━━━━\u001b[0m\u001b[37m\u001b[0m \u001b[1m15s\u001b[0m 37ms/step - accuracy: 0.7185 - loss: 0.7438 - val_accuracy: 0.6548 - val_loss: 0.9353 - learning_rate: 8.0000e-05\n",
      "Epoch 19/50\n",
      "\u001b[1m415/415\u001b[0m \u001b[32m━━━━━━━━━━━━━━━━━━━━\u001b[0m\u001b[37m\u001b[0m \u001b[1m15s\u001b[0m 36ms/step - accuracy: 0.7226 - loss: 0.7293 - val_accuracy: 0.6506 - val_loss: 0.9386 - learning_rate: 8.0000e-05\n",
      "Epoch 20/50\n",
      "\u001b[1m415/415\u001b[0m \u001b[32m━━━━━━━━━━━━━━━━━━━━\u001b[0m\u001b[37m\u001b[0m \u001b[1m15s\u001b[0m 37ms/step - accuracy: 0.7289 - loss: 0.7098 - val_accuracy: 0.6536 - val_loss: 0.9499 - learning_rate: 8.0000e-05\n",
      "Epoch 21/50\n",
      "\u001b[1m415/415\u001b[0m \u001b[32m━━━━━━━━━━━━━━━━━━━━\u001b[0m\u001b[37m\u001b[0m \u001b[1m15s\u001b[0m 37ms/step - accuracy: 0.7364 - loss: 0.6900 - val_accuracy: 0.6572 - val_loss: 0.9442 - learning_rate: 8.0000e-05\n",
      "Epoch 22/50\n",
      "\u001b[1m415/415\u001b[0m \u001b[32m━━━━━━━━━━━━━━━━━━━━\u001b[0m\u001b[37m\u001b[0m \u001b[1m15s\u001b[0m 35ms/step - accuracy: 0.7440 - loss: 0.6714 - val_accuracy: 0.6601 - val_loss: 0.9509 - learning_rate: 8.0000e-05\n",
      "Epoch 23/50\n",
      "\u001b[1m415/415\u001b[0m \u001b[32m━━━━━━━━━━━━━━━━━━━━\u001b[0m\u001b[37m\u001b[0m \u001b[1m14s\u001b[0m 34ms/step - accuracy: 0.7500 - loss: 0.6569 - val_accuracy: 0.6515 - val_loss: 0.9651 - learning_rate: 8.0000e-05\n",
      "\u001b[1m105/105\u001b[0m \u001b[32m━━━━━━━━━━━━━━━━━━━━\u001b[0m\u001b[37m\u001b[0m \u001b[1m1s\u001b[0m 5ms/step - accuracy: 0.6580 - loss: 0.9263\n"
     ]
    },
    {
     "name": "stderr",
     "output_type": "stream",
     "text": [
      "\u001b[32m2024-06-06 11:48:00.777\u001b[0m | \u001b[1mINFO    \u001b[0m | \u001b[36mtraining_models.best_cnn_feature_statistics\u001b[0m:\u001b[36mevaluate\u001b[0m:\u001b[36m73\u001b[0m - \u001b[1mTest Loss: 0.901592493057251, Test Accuracy: 0.6600719690322876\u001b[0m\n"
     ]
    }
   ],
   "source": [
    "train_model(13)"
   ]
  },
  {
   "cell_type": "code",
   "execution_count": 7,
   "metadata": {},
   "outputs": [
    {
     "name": "stderr",
     "output_type": "stream",
     "text": [
      "d:\\data_analysis\\speech_emotion_recognition\\.venv\\Lib\\site-packages\\keras\\src\\layers\\convolutional\\base_conv.py:107: UserWarning: Do not pass an `input_shape`/`input_dim` argument to a layer. When using Sequential models, prefer using an `Input(shape)` object as the first layer in the model instead.\n",
      "  super().__init__(activity_regularizer=activity_regularizer, **kwargs)\n"
     ]
    },
    {
     "data": {
      "text/html": [
       "<pre style=\"white-space:pre;overflow-x:auto;line-height:normal;font-family:Menlo,'DejaVu Sans Mono',consolas,'Courier New',monospace\"></pre>\n"
      ],
      "text/plain": []
     },
     "metadata": {},
     "output_type": "display_data"
    },
    {
     "name": "stderr",
     "output_type": "stream",
     "text": [
      "\u001b[32m2024-06-06 11:57:25.640\u001b[0m | \u001b[1mINFO    \u001b[0m | \u001b[36mkeras.src.utils.summary_utils\u001b[0m:\u001b[36mprint_summary\u001b[0m:\u001b[36m366\u001b[0m - \u001b[1mModel: \"sequential_2\"\n",
      "┏━━━━━━━━━━━━━━━━━━━━━━━━━━━━━━━━━┳━━━━━━━━━━━━━━━━━━━━━━━━┳━━━━━━━━━━━━━━━┓\n",
      "┃ Layer (type)                    ┃ Output Shape           ┃       Param # ┃\n",
      "┡━━━━━━━━━━━━━━━━━━━━━━━━━━━━━━━━━╇━━━━━━━━━━━━━━━━━━━━━━━━╇━━━━━━━━━━━━━━━┩\n",
      "│ conv1d_12 (Conv1D)              │ (None, 310, 64)        │           384 │\n",
      "├─────────────────────────────────┼────────────────────────┼───────────────┤\n",
      "│ batch_normalization_14          │ (None, 310, 64)        │           256 │\n",
      "│ (BatchNormalization)            │                        │               │\n",
      "├─────────────────────────────────┼────────────────────────┼───────────────┤\n",
      "│ conv1d_13 (Conv1D)              │ (None, 310, 64)        │        20,544 │\n",
      "├─────────────────────────────────┼────────────────────────┼───────────────┤\n",
      "│ batch_normalization_15          │ (None, 310, 64)        │           256 │\n",
      "│ (BatchNormalization)            │                        │               │\n",
      "├─────────────────────────────────┼────────────────────────┼───────────────┤\n",
      "│ max_pooling1d_6 (MaxPooling1D)  │ (None, 155, 64)        │             0 │\n",
      "├─────────────────────────────────┼────────────────────────┼───────────────┤\n",
      "│ dropout_8 (Dropout)             │ (None, 155, 64)        │             0 │\n",
      "├─────────────────────────────────┼────────────────────────┼───────────────┤\n",
      "│ conv1d_14 (Conv1D)              │ (None, 155, 128)       │        41,088 │\n",
      "├─────────────────────────────────┼────────────────────────┼───────────────┤\n",
      "│ batch_normalization_16          │ (None, 155, 128)       │           512 │\n",
      "│ (BatchNormalization)            │                        │               │\n",
      "├─────────────────────────────────┼────────────────────────┼───────────────┤\n",
      "│ conv1d_15 (Conv1D)              │ (None, 155, 128)       │        82,048 │\n",
      "├─────────────────────────────────┼────────────────────────┼───────────────┤\n",
      "│ batch_normalization_17          │ (None, 155, 128)       │           512 │\n",
      "│ (BatchNormalization)            │                        │               │\n",
      "├─────────────────────────────────┼────────────────────────┼───────────────┤\n",
      "│ max_pooling1d_7 (MaxPooling1D)  │ (None, 78, 128)        │             0 │\n",
      "├─────────────────────────────────┼────────────────────────┼───────────────┤\n",
      "│ dropout_9 (Dropout)             │ (None, 78, 128)        │             0 │\n",
      "├─────────────────────────────────┼────────────────────────┼───────────────┤\n",
      "│ conv1d_16 (Conv1D)              │ (None, 78, 256)        │        98,560 │\n",
      "├─────────────────────────────────┼────────────────────────┼───────────────┤\n",
      "│ batch_normalization_18          │ (None, 78, 256)        │         1,024 │\n",
      "│ (BatchNormalization)            │                        │               │\n",
      "├─────────────────────────────────┼────────────────────────┼───────────────┤\n",
      "│ conv1d_17 (Conv1D)              │ (None, 78, 256)        │       196,864 │\n",
      "├─────────────────────────────────┼────────────────────────┼───────────────┤\n",
      "│ batch_normalization_19          │ (None, 78, 256)        │         1,024 │\n",
      "│ (BatchNormalization)            │                        │               │\n",
      "├─────────────────────────────────┼────────────────────────┼───────────────┤\n",
      "│ max_pooling1d_8 (MaxPooling1D)  │ (None, 39, 256)        │             0 │\n",
      "├─────────────────────────────────┼────────────────────────┼───────────────┤\n",
      "│ dropout_10 (Dropout)            │ (None, 39, 256)        │             0 │\n",
      "├─────────────────────────────────┼────────────────────────┼───────────────┤\n",
      "│ flatten_2 (Flatten)             │ (None, 9984)           │             0 │\n",
      "├─────────────────────────────────┼────────────────────────┼───────────────┤\n",
      "│ dense_4 (Dense)                 │ (None, 256)            │     2,556,160 │\n",
      "├─────────────────────────────────┼────────────────────────┼───────────────┤\n",
      "│ batch_normalization_20          │ (None, 256)            │         1,024 │\n",
      "│ (BatchNormalization)            │                        │               │\n",
      "├─────────────────────────────────┼────────────────────────┼───────────────┤\n",
      "│ dropout_11 (Dropout)            │ (None, 256)            │             0 │\n",
      "├─────────────────────────────────┼────────────────────────┼───────────────┤\n",
      "│ dense_5 (Dense)                 │ (None, 7)              │         1,799 │\n",
      "└─────────────────────────────────┴────────────────────────┴───────────────┘\n",
      " Total params: 3,002,055 (11.45 MB)\n",
      " Trainable params: 2,999,751 (11.44 MB)\n",
      " Non-trainable params: 2,304 (9.00 KB)\n",
      "\u001b[0m\n"
     ]
    },
    {
     "name": "stdout",
     "output_type": "stream",
     "text": [
      "Epoch 1/50\n",
      "\u001b[1m421/421\u001b[0m \u001b[32m━━━━━━━━━━━━━━━━━━━━\u001b[0m\u001b[37m\u001b[0m \u001b[1m32s\u001b[0m 70ms/step - accuracy: 0.3583 - loss: 1.9821 - val_accuracy: 0.5123 - val_loss: 1.2785 - learning_rate: 8.0000e-05\n",
      "Epoch 2/50\n",
      "\u001b[1m421/421\u001b[0m \u001b[32m━━━━━━━━━━━━━━━━━━━━\u001b[0m\u001b[37m\u001b[0m \u001b[1m29s\u001b[0m 69ms/step - accuracy: 0.5332 - loss: 1.3005 - val_accuracy: 0.6031 - val_loss: 1.0544 - learning_rate: 8.0000e-05\n",
      "Epoch 3/50\n",
      "\u001b[1m421/421\u001b[0m \u001b[32m━━━━━━━━━━━━━━━━━━━━\u001b[0m\u001b[37m\u001b[0m \u001b[1m29s\u001b[0m 69ms/step - accuracy: 0.5757 - loss: 1.1508 - val_accuracy: 0.6165 - val_loss: 1.0103 - learning_rate: 8.0000e-05\n",
      "Epoch 4/50\n",
      "\u001b[1m421/421\u001b[0m \u001b[32m━━━━━━━━━━━━━━━━━━━━\u001b[0m\u001b[37m\u001b[0m \u001b[1m29s\u001b[0m 69ms/step - accuracy: 0.5975 - loss: 1.0557 - val_accuracy: 0.6308 - val_loss: 0.9826 - learning_rate: 8.0000e-05\n",
      "Epoch 5/50\n",
      "\u001b[1m421/421\u001b[0m \u001b[32m━━━━━━━━━━━━━━━━━━━━\u001b[0m\u001b[37m\u001b[0m \u001b[1m30s\u001b[0m 71ms/step - accuracy: 0.6261 - loss: 0.9940 - val_accuracy: 0.6379 - val_loss: 0.9699 - learning_rate: 8.0000e-05\n",
      "Epoch 6/50\n",
      "\u001b[1m421/421\u001b[0m \u001b[32m━━━━━━━━━━━━━━━━━━━━\u001b[0m\u001b[37m\u001b[0m \u001b[1m31s\u001b[0m 74ms/step - accuracy: 0.6469 - loss: 0.9333 - val_accuracy: 0.6405 - val_loss: 0.9438 - learning_rate: 8.0000e-05\n",
      "Epoch 7/50\n",
      "\u001b[1m421/421\u001b[0m \u001b[32m━━━━━━━━━━━━━━━━━━━━\u001b[0m\u001b[37m\u001b[0m \u001b[1m31s\u001b[0m 74ms/step - accuracy: 0.6547 - loss: 0.9049 - val_accuracy: 0.6512 - val_loss: 0.9323 - learning_rate: 8.0000e-05\n",
      "Epoch 8/50\n",
      "\u001b[1m421/421\u001b[0m \u001b[32m━━━━━━━━━━━━━━━━━━━━\u001b[0m\u001b[37m\u001b[0m \u001b[1m29s\u001b[0m 69ms/step - accuracy: 0.6842 - loss: 0.8382 - val_accuracy: 0.6530 - val_loss: 0.9261 - learning_rate: 8.0000e-05\n",
      "Epoch 9/50\n",
      "\u001b[1m421/421\u001b[0m \u001b[32m━━━━━━━━━━━━━━━━━━━━\u001b[0m\u001b[37m\u001b[0m \u001b[1m30s\u001b[0m 71ms/step - accuracy: 0.6950 - loss: 0.8065 - val_accuracy: 0.6557 - val_loss: 0.9170 - learning_rate: 8.0000e-05\n",
      "Epoch 10/50\n",
      "\u001b[1m421/421\u001b[0m \u001b[32m━━━━━━━━━━━━━━━━━━━━\u001b[0m\u001b[37m\u001b[0m \u001b[1m31s\u001b[0m 73ms/step - accuracy: 0.7026 - loss: 0.7823 - val_accuracy: 0.6587 - val_loss: 0.9120 - learning_rate: 8.0000e-05\n",
      "Epoch 11/50\n",
      "\u001b[1m421/421\u001b[0m \u001b[32m━━━━━━━━━━━━━━━━━━━━\u001b[0m\u001b[37m\u001b[0m \u001b[1m30s\u001b[0m 71ms/step - accuracy: 0.7259 - loss: 0.7283 - val_accuracy: 0.6548 - val_loss: 0.9097 - learning_rate: 8.0000e-05\n",
      "Epoch 12/50\n",
      "\u001b[1m421/421\u001b[0m \u001b[32m━━━━━━━━━━━━━━━━━━━━\u001b[0m\u001b[37m\u001b[0m \u001b[1m29s\u001b[0m 69ms/step - accuracy: 0.7397 - loss: 0.6960 - val_accuracy: 0.6637 - val_loss: 0.9138 - learning_rate: 8.0000e-05\n",
      "Epoch 13/50\n",
      "\u001b[1m421/421\u001b[0m \u001b[32m━━━━━━━━━━━━━━━━━━━━\u001b[0m\u001b[37m\u001b[0m \u001b[1m29s\u001b[0m 68ms/step - accuracy: 0.7507 - loss: 0.6691 - val_accuracy: 0.6604 - val_loss: 0.9204 - learning_rate: 8.0000e-05\n",
      "Epoch 14/50\n",
      "\u001b[1m421/421\u001b[0m \u001b[32m━━━━━━━━━━━━━━━━━━━━\u001b[0m\u001b[37m\u001b[0m \u001b[1m29s\u001b[0m 68ms/step - accuracy: 0.7637 - loss: 0.6273 - val_accuracy: 0.6625 - val_loss: 0.9202 - learning_rate: 8.0000e-05\n",
      "Epoch 15/50\n",
      "\u001b[1m420/421\u001b[0m \u001b[32m━━━━━━━━━━━━━━━━━━━\u001b[0m\u001b[37m━\u001b[0m \u001b[1m0s\u001b[0m 69ms/step - accuracy: 0.7756 - loss: 0.6097\n",
      "Epoch 15: ReduceLROnPlateau reducing learning rate to 3.9999998989515007e-05.\n",
      "\u001b[1m421/421\u001b[0m \u001b[32m━━━━━━━━━━━━━━━━━━━━\u001b[0m\u001b[37m\u001b[0m \u001b[1m30s\u001b[0m 71ms/step - accuracy: 0.7756 - loss: 0.6097 - val_accuracy: 0.6607 - val_loss: 0.9423 - learning_rate: 8.0000e-05\n",
      "Epoch 16/50\n",
      "\u001b[1m421/421\u001b[0m \u001b[32m━━━━━━━━━━━━━━━━━━━━\u001b[0m\u001b[37m\u001b[0m \u001b[1m66s\u001b[0m 157ms/step - accuracy: 0.7866 - loss: 0.5686 - val_accuracy: 0.6693 - val_loss: 0.9261 - learning_rate: 4.0000e-05\n",
      "\u001b[1m105/105\u001b[0m \u001b[32m━━━━━━━━━━━━━━━━━━━━\u001b[0m\u001b[37m\u001b[0m \u001b[1m3s\u001b[0m 29ms/step - accuracy: 0.6527 - loss: 0.9422\n"
     ]
    },
    {
     "name": "stderr",
     "output_type": "stream",
     "text": [
      "\u001b[32m2024-06-06 12:06:01.735\u001b[0m | \u001b[1mINFO    \u001b[0m | \u001b[36mtraining_models.best_cnn_feature_statistics\u001b[0m:\u001b[36mevaluate\u001b[0m:\u001b[36m73\u001b[0m - \u001b[1mTest Loss: 0.9216654896736145, Test Accuracy: 0.6585731506347656\u001b[0m\n"
     ]
    }
   ],
   "source": [
    "train_model(26)"
   ]
  },
  {
   "cell_type": "code",
   "execution_count": 8,
   "metadata": {},
   "outputs": [
    {
     "name": "stderr",
     "output_type": "stream",
     "text": [
      "d:\\data_analysis\\speech_emotion_recognition\\.venv\\Lib\\site-packages\\keras\\src\\layers\\convolutional\\base_conv.py:107: UserWarning: Do not pass an `input_shape`/`input_dim` argument to a layer. When using Sequential models, prefer using an `Input(shape)` object as the first layer in the model instead.\n",
      "  super().__init__(activity_regularizer=activity_regularizer, **kwargs)\n"
     ]
    },
    {
     "data": {
      "text/html": [
       "<pre style=\"white-space:pre;overflow-x:auto;line-height:normal;font-family:Menlo,'DejaVu Sans Mono',consolas,'Courier New',monospace\"></pre>\n"
      ],
      "text/plain": []
     },
     "metadata": {},
     "output_type": "display_data"
    },
    {
     "name": "stderr",
     "output_type": "stream",
     "text": [
      "\u001b[32m2024-06-06 12:11:03.061\u001b[0m | \u001b[1mINFO    \u001b[0m | \u001b[36mkeras.src.utils.summary_utils\u001b[0m:\u001b[36mprint_summary\u001b[0m:\u001b[36m366\u001b[0m - \u001b[1mModel: \"sequential_3\"\n",
      "┏━━━━━━━━━━━━━━━━━━━━━━━━━━━━━━━━━┳━━━━━━━━━━━━━━━━━━━━━━━━┳━━━━━━━━━━━━━━━┓\n",
      "┃ Layer (type)                    ┃ Output Shape           ┃       Param # ┃\n",
      "┡━━━━━━━━━━━━━━━━━━━━━━━━━━━━━━━━━╇━━━━━━━━━━━━━━━━━━━━━━━━╇━━━━━━━━━━━━━━━┩\n",
      "│ conv1d_18 (Conv1D)              │ (None, 464, 64)        │           384 │\n",
      "├─────────────────────────────────┼────────────────────────┼───────────────┤\n",
      "│ batch_normalization_21          │ (None, 464, 64)        │           256 │\n",
      "│ (BatchNormalization)            │                        │               │\n",
      "├─────────────────────────────────┼────────────────────────┼───────────────┤\n",
      "│ conv1d_19 (Conv1D)              │ (None, 464, 64)        │        20,544 │\n",
      "├─────────────────────────────────┼────────────────────────┼───────────────┤\n",
      "│ batch_normalization_22          │ (None, 464, 64)        │           256 │\n",
      "│ (BatchNormalization)            │                        │               │\n",
      "├─────────────────────────────────┼────────────────────────┼───────────────┤\n",
      "│ max_pooling1d_9 (MaxPooling1D)  │ (None, 232, 64)        │             0 │\n",
      "├─────────────────────────────────┼────────────────────────┼───────────────┤\n",
      "│ dropout_12 (Dropout)            │ (None, 232, 64)        │             0 │\n",
      "├─────────────────────────────────┼────────────────────────┼───────────────┤\n",
      "│ conv1d_20 (Conv1D)              │ (None, 232, 128)       │        41,088 │\n",
      "├─────────────────────────────────┼────────────────────────┼───────────────┤\n",
      "│ batch_normalization_23          │ (None, 232, 128)       │           512 │\n",
      "│ (BatchNormalization)            │                        │               │\n",
      "├─────────────────────────────────┼────────────────────────┼───────────────┤\n",
      "│ conv1d_21 (Conv1D)              │ (None, 232, 128)       │        82,048 │\n",
      "├─────────────────────────────────┼────────────────────────┼───────────────┤\n",
      "│ batch_normalization_24          │ (None, 232, 128)       │           512 │\n",
      "│ (BatchNormalization)            │                        │               │\n",
      "├─────────────────────────────────┼────────────────────────┼───────────────┤\n",
      "│ max_pooling1d_10 (MaxPooling1D) │ (None, 116, 128)       │             0 │\n",
      "├─────────────────────────────────┼────────────────────────┼───────────────┤\n",
      "│ dropout_13 (Dropout)            │ (None, 116, 128)       │             0 │\n",
      "├─────────────────────────────────┼────────────────────────┼───────────────┤\n",
      "│ conv1d_22 (Conv1D)              │ (None, 116, 256)       │        98,560 │\n",
      "├─────────────────────────────────┼────────────────────────┼───────────────┤\n",
      "│ batch_normalization_25          │ (None, 116, 256)       │         1,024 │\n",
      "│ (BatchNormalization)            │                        │               │\n",
      "├─────────────────────────────────┼────────────────────────┼───────────────┤\n",
      "│ conv1d_23 (Conv1D)              │ (None, 116, 256)       │       196,864 │\n",
      "├─────────────────────────────────┼────────────────────────┼───────────────┤\n",
      "│ batch_normalization_26          │ (None, 116, 256)       │         1,024 │\n",
      "│ (BatchNormalization)            │                        │               │\n",
      "├─────────────────────────────────┼────────────────────────┼───────────────┤\n",
      "│ max_pooling1d_11 (MaxPooling1D) │ (None, 58, 256)        │             0 │\n",
      "├─────────────────────────────────┼────────────────────────┼───────────────┤\n",
      "│ dropout_14 (Dropout)            │ (None, 58, 256)        │             0 │\n",
      "├─────────────────────────────────┼────────────────────────┼───────────────┤\n",
      "│ flatten_3 (Flatten)             │ (None, 14848)          │             0 │\n",
      "├─────────────────────────────────┼────────────────────────┼───────────────┤\n",
      "│ dense_6 (Dense)                 │ (None, 256)            │     3,801,344 │\n",
      "├─────────────────────────────────┼────────────────────────┼───────────────┤\n",
      "│ batch_normalization_27          │ (None, 256)            │         1,024 │\n",
      "│ (BatchNormalization)            │                        │               │\n",
      "├─────────────────────────────────┼────────────────────────┼───────────────┤\n",
      "│ dropout_15 (Dropout)            │ (None, 256)            │             0 │\n",
      "├─────────────────────────────────┼────────────────────────┼───────────────┤\n",
      "│ dense_7 (Dense)                 │ (None, 7)              │         1,799 │\n",
      "└─────────────────────────────────┴────────────────────────┴───────────────┘\n",
      " Total params: 4,247,239 (16.20 MB)\n",
      " Trainable params: 4,244,935 (16.19 MB)\n",
      " Non-trainable params: 2,304 (9.00 KB)\n",
      "\u001b[0m\n"
     ]
    },
    {
     "name": "stdout",
     "output_type": "stream",
     "text": [
      "Epoch 1/50\n",
      "\u001b[1m421/421\u001b[0m \u001b[32m━━━━━━━━━━━━━━━━━━━━\u001b[0m\u001b[37m\u001b[0m \u001b[1m116s\u001b[0m 240ms/step - accuracy: 0.3930 - loss: 1.8440 - val_accuracy: 0.4886 - val_loss: 1.3056 - learning_rate: 8.0000e-05\n",
      "Epoch 2/50\n",
      "\u001b[1m421/421\u001b[0m \u001b[32m━━━━━━━━━━━━━━━━━━━━\u001b[0m\u001b[37m\u001b[0m \u001b[1m102s\u001b[0m 242ms/step - accuracy: 0.5559 - loss: 1.1847 - val_accuracy: 0.6037 - val_loss: 1.0403 - learning_rate: 8.0000e-05\n",
      "Epoch 3/50\n",
      "\u001b[1m421/421\u001b[0m \u001b[32m━━━━━━━━━━━━━━━━━━━━\u001b[0m\u001b[37m\u001b[0m \u001b[1m96s\u001b[0m 228ms/step - accuracy: 0.6051 - loss: 1.0574 - val_accuracy: 0.6245 - val_loss: 0.9811 - learning_rate: 8.0000e-05\n",
      "Epoch 4/50\n",
      "\u001b[1m421/421\u001b[0m \u001b[32m━━━━━━━━━━━━━━━━━━━━\u001b[0m\u001b[37m\u001b[0m \u001b[1m96s\u001b[0m 229ms/step - accuracy: 0.6294 - loss: 0.9743 - val_accuracy: 0.6334 - val_loss: 0.9515 - learning_rate: 8.0000e-05\n",
      "Epoch 5/50\n",
      "\u001b[1m421/421\u001b[0m \u001b[32m━━━━━━━━━━━━━━━━━━━━\u001b[0m\u001b[37m\u001b[0m \u001b[1m99s\u001b[0m 234ms/step - accuracy: 0.6667 - loss: 0.8860 - val_accuracy: 0.6459 - val_loss: 0.9268 - learning_rate: 8.0000e-05\n",
      "Epoch 6/50\n",
      "\u001b[1m421/421\u001b[0m \u001b[32m━━━━━━━━━━━━━━━━━━━━\u001b[0m\u001b[37m\u001b[0m \u001b[1m96s\u001b[0m 229ms/step - accuracy: 0.6838 - loss: 0.8298 - val_accuracy: 0.6503 - val_loss: 0.9281 - learning_rate: 8.0000e-05\n",
      "Epoch 7/50\n",
      "\u001b[1m421/421\u001b[0m \u001b[32m━━━━━━━━━━━━━━━━━━━━\u001b[0m\u001b[37m\u001b[0m \u001b[1m96s\u001b[0m 227ms/step - accuracy: 0.7082 - loss: 0.7701 - val_accuracy: 0.6539 - val_loss: 0.9412 - learning_rate: 8.0000e-05\n",
      "Epoch 8/50\n",
      "\u001b[1m421/421\u001b[0m \u001b[32m━━━━━━━━━━━━━━━━━━━━\u001b[0m\u001b[37m\u001b[0m \u001b[1m97s\u001b[0m 229ms/step - accuracy: 0.7253 - loss: 0.7277 - val_accuracy: 0.6441 - val_loss: 0.9615 - learning_rate: 8.0000e-05\n",
      "Epoch 9/50\n",
      "\u001b[1m421/421\u001b[0m \u001b[32m━━━━━━━━━━━━━━━━━━━━\u001b[0m\u001b[37m\u001b[0m \u001b[1m98s\u001b[0m 233ms/step - accuracy: 0.7525 - loss: 0.6576 - val_accuracy: 0.6545 - val_loss: 0.9476 - learning_rate: 8.0000e-05\n",
      "Epoch 10/50\n",
      "\u001b[1m421/421\u001b[0m \u001b[32m━━━━━━━━━━━━━━━━━━━━\u001b[0m\u001b[37m\u001b[0m \u001b[1m97s\u001b[0m 230ms/step - accuracy: 0.7718 - loss: 0.6078 - val_accuracy: 0.6643 - val_loss: 0.9453 - learning_rate: 8.0000e-05\n",
      "\u001b[1m105/105\u001b[0m \u001b[32m━━━━━━━━━━━━━━━━━━━━\u001b[0m\u001b[37m\u001b[0m \u001b[1m4s\u001b[0m 39ms/step - accuracy: 0.6380 - loss: 0.9640\n"
     ]
    },
    {
     "name": "stderr",
     "output_type": "stream",
     "text": [
      "\u001b[32m2024-06-06 12:27:40.642\u001b[0m | \u001b[1mINFO    \u001b[0m | \u001b[36mtraining_models.best_cnn_feature_statistics\u001b[0m:\u001b[36mevaluate\u001b[0m:\u001b[36m73\u001b[0m - \u001b[1mTest Loss: 0.9177327156066895, Test Accuracy: 0.6510791182518005\u001b[0m\n"
     ]
    }
   ],
   "source": [
    "train_model(40)"
   ]
  }
 ],
 "metadata": {
  "kernelspec": {
   "display_name": ".venv",
   "language": "python",
   "name": "python3"
  },
  "language_info": {
   "codemirror_mode": {
    "name": "ipython",
    "version": 3
   },
   "file_extension": ".py",
   "mimetype": "text/x-python",
   "name": "python",
   "nbconvert_exporter": "python",
   "pygments_lexer": "ipython3",
   "version": "3.11.9"
  }
 },
 "nbformat": 4,
 "nbformat_minor": 2
}
