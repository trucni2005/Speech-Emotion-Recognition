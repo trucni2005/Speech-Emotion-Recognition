{
 "cells": [
  {
   "cell_type": "code",
   "execution_count": 1,
   "metadata": {},
   "outputs": [],
   "source": [
    "from config.vi_config import VietnameseDatasetConfig\n",
    "from config.eng_config import Config\n",
    "import os\n",
    "import shutil\n",
    "from src.data_preparation_runner import DataPreparationRunner\n",
    "from src.data_preprocessing_runner import DataPreprocessingRunner\n",
    "from src.feature_extraction_runner import FeatureExtractionRunner\n",
    "from src.mel_spectrogram_extraction_runner import MelSpectrogramExtractionRunner"
   ]
  },
  {
   "cell_type": "code",
   "execution_count": 2,
   "metadata": {},
   "outputs": [],
   "source": [
    "class AudioFeaturePipeline:\n",
    "    def __init__(self, config):\n",
    "        self.config = config\n",
    "        self.data_preparation_runner = DataPreparationRunner(config)\n",
    "        self.data_preprocessing_runner = DataPreprocessingRunner(config)\n",
    "        self.feature_extraction_runner = FeatureExtractionRunner(config)\n",
    "        self.mel_spectrogram_extraction_runner = MelSpectrogramExtractionRunner(config)\n",
    "\n",
    "    def run(self):\n",
    "        self.data_preparation_runner.run()\n",
    "        self.data_preprocessing_runner.run()\n",
    "        self.feature_extraction_runner.run()\n",
    "        self.mel_spectrogram_extraction_runner.run()"
   ]
  },
  {
   "cell_type": "markdown",
   "metadata": {},
   "source": [
    "\n",
    "**Pipeline chuẩn bị dữ liệu, tiền xử lý và trích xuất đặc trưng cho Tiếng Anh**\n",
    "1. Chuẩn bị dữ liệu: Thu thập và chuẩn bị các tập dữ liệu tiếng Anh.\n",
    "\n",
    "2. Tiền xử lý dữ liệu: Đưa dữ liệu vào định dạng chuẩn, xử lý bất thường (outliers) và thiếu sót (missing data).\n",
    "\n",
    "3. Trích xuất đặc trưng Statistics: Tính toán các thống kê cơ bản như trung bình, độ lệch chuẩn, max, min của các đặc trưng âm thanh.\n",
    "\n",
    "4. Trích xuất ảnh Mel Spectrogram: Chuyển đổi tín hiệu âm thanh thành biểu diễn hình ảnh Mel Spectrogram.\n",
    "\n",
    "*Thời gian thực thi: Khoảng 10-15 giờ.*\n",
    "\n"
   ]
  },
  {
   "cell_type": "code",
   "execution_count": 3,
   "metadata": {},
   "outputs": [],
   "source": [
    "# config = Config()\n",
    "# pipeline = AudioFeaturePipeline(config)\n",
    "# pipeline.run()"
   ]
  },
  {
   "cell_type": "markdown",
   "metadata": {},
   "source": [
    "**Pipeline chuẩn bị dữ liệu, tiền xử lý và trích xuất đặc trưng cho Tiếng Việt**\n",
    "*Thời gian thực thi: Khoảng 10 phút.*\n"
   ]
  },
  {
   "cell_type": "code",
   "execution_count": 4,
   "metadata": {},
   "outputs": [],
   "source": [
    "def remove_folder(path):\n",
    "    if os.path.exists(path):\n",
    "        shutil.rmtree(path)\n",
    "    os.makedirs(path)"
   ]
  },
  {
   "cell_type": "code",
   "execution_count": 5,
   "metadata": {},
   "outputs": [
    {
     "name": "stderr",
     "output_type": "stream",
     "text": [
      "\u001b[32m2024-06-24 10:08:19.637\u001b[0m | \u001b[1mINFO    \u001b[0m | \u001b[36mmodules.preparing.scripts.train_test_validation_split\u001b[0m:\u001b[36mprocess_folders\u001b[0m:\u001b[36m22\u001b[0m - \u001b[1mProcessing: Splitting files into train, test, and validation sets.\u001b[0m\n"
     ]
    },
    {
     "name": "stdout",
     "output_type": "stream",
     "text": [
      "Splitting data into train, test, and validation sets...\n"
     ]
    },
    {
     "name": "stderr",
     "output_type": "stream",
     "text": [
      "\u001b[32m2024-06-24 10:08:21.631\u001b[0m | \u001b[1mINFO    \u001b[0m | \u001b[36mmodules.preparing.scripts.augment_audio_and_extract_file_path\u001b[0m:\u001b[36mprocess_folders\u001b[0m:\u001b[36m79\u001b[0m - \u001b[1mProcessing: ./data/VietnameseDataset/train_test_splited_data/raw/train\u001b[0m\n",
      "\u001b[32m2024-06-24 10:08:21.632\u001b[0m | \u001b[1mINFO    \u001b[0m | \u001b[36mmodules.preparing.scripts.augment_audio_and_extract_file_path\u001b[0m:\u001b[36m_process_folder\u001b[0m:\u001b[36m60\u001b[0m - \u001b[1mProcessing folder: Angry\u001b[0m\n"
     ]
    },
    {
     "name": "stdout",
     "output_type": "stream",
     "text": [
      "Augmenting audio and extracting file paths...\n"
     ]
    },
    {
     "name": "stderr",
     "output_type": "stream",
     "text": [
      "\u001b[32m2024-06-24 10:08:23.068\u001b[0m | \u001b[1mINFO    \u001b[0m | \u001b[36mmodules.preparing.scripts.augment_audio_and_extract_file_path\u001b[0m:\u001b[36m_process_folder\u001b[0m:\u001b[36m60\u001b[0m - \u001b[1mProcessing folder: Disgusted\u001b[0m\n",
      "\u001b[32m2024-06-24 10:08:23.721\u001b[0m | \u001b[1mINFO    \u001b[0m | \u001b[36mmodules.preparing.scripts.augment_audio_and_extract_file_path\u001b[0m:\u001b[36m_process_folder\u001b[0m:\u001b[36m60\u001b[0m - \u001b[1mProcessing folder: Fearful\u001b[0m\n",
      "\u001b[32m2024-06-24 10:08:24.164\u001b[0m | \u001b[1mINFO    \u001b[0m | \u001b[36mmodules.preparing.scripts.augment_audio_and_extract_file_path\u001b[0m:\u001b[36m_process_folder\u001b[0m:\u001b[36m60\u001b[0m - \u001b[1mProcessing folder: Happy\u001b[0m\n",
      "\u001b[32m2024-06-24 10:08:24.599\u001b[0m | \u001b[1mINFO    \u001b[0m | \u001b[36mmodules.preparing.scripts.augment_audio_and_extract_file_path\u001b[0m:\u001b[36m_process_folder\u001b[0m:\u001b[36m60\u001b[0m - \u001b[1mProcessing folder: Neutral\u001b[0m\n",
      "\u001b[32m2024-06-24 10:08:25.416\u001b[0m | \u001b[1mINFO    \u001b[0m | \u001b[36mmodules.preparing.scripts.augment_audio_and_extract_file_path\u001b[0m:\u001b[36m_process_folder\u001b[0m:\u001b[36m60\u001b[0m - \u001b[1mProcessing folder: Sad\u001b[0m\n",
      "\u001b[32m2024-06-24 10:08:26.013\u001b[0m | \u001b[1mINFO    \u001b[0m | \u001b[36mmodules.preparing.scripts.augment_audio_and_extract_file_path\u001b[0m:\u001b[36m_process_folder\u001b[0m:\u001b[36m60\u001b[0m - \u001b[1mProcessing folder: Suprised\u001b[0m\n",
      "\u001b[32m2024-06-24 10:08:26.489\u001b[0m | \u001b[1mINFO    \u001b[0m | \u001b[36mmodules.preparing.scripts.augment_audio_and_extract_file_path\u001b[0m:\u001b[36mprocess_folders\u001b[0m:\u001b[36m79\u001b[0m - \u001b[1mProcessing: ./data/VietnameseDataset/train_test_splited_data/raw/validation\u001b[0m\n",
      "\u001b[32m2024-06-24 10:08:26.490\u001b[0m | \u001b[1mINFO    \u001b[0m | \u001b[36mmodules.preparing.scripts.augment_audio_and_extract_file_path\u001b[0m:\u001b[36m_process_folder\u001b[0m:\u001b[36m60\u001b[0m - \u001b[1mProcessing folder: Angry\u001b[0m\n",
      "\u001b[32m2024-06-24 10:08:26.641\u001b[0m | \u001b[1mINFO    \u001b[0m | \u001b[36mmodules.preparing.scripts.augment_audio_and_extract_file_path\u001b[0m:\u001b[36m_process_folder\u001b[0m:\u001b[36m60\u001b[0m - \u001b[1mProcessing folder: Disgusted\u001b[0m\n",
      "\u001b[32m2024-06-24 10:08:26.724\u001b[0m | \u001b[1mINFO    \u001b[0m | \u001b[36mmodules.preparing.scripts.augment_audio_and_extract_file_path\u001b[0m:\u001b[36m_process_folder\u001b[0m:\u001b[36m60\u001b[0m - \u001b[1mProcessing folder: Fearful\u001b[0m\n",
      "\u001b[32m2024-06-24 10:08:26.783\u001b[0m | \u001b[1mINFO    \u001b[0m | \u001b[36mmodules.preparing.scripts.augment_audio_and_extract_file_path\u001b[0m:\u001b[36m_process_folder\u001b[0m:\u001b[36m60\u001b[0m - \u001b[1mProcessing folder: Happy\u001b[0m\n",
      "\u001b[32m2024-06-24 10:08:26.833\u001b[0m | \u001b[1mINFO    \u001b[0m | \u001b[36mmodules.preparing.scripts.augment_audio_and_extract_file_path\u001b[0m:\u001b[36m_process_folder\u001b[0m:\u001b[36m60\u001b[0m - \u001b[1mProcessing folder: Neutral\u001b[0m\n",
      "\u001b[32m2024-06-24 10:08:26.970\u001b[0m | \u001b[1mINFO    \u001b[0m | \u001b[36mmodules.preparing.scripts.augment_audio_and_extract_file_path\u001b[0m:\u001b[36m_process_folder\u001b[0m:\u001b[36m60\u001b[0m - \u001b[1mProcessing folder: Sad\u001b[0m\n",
      "\u001b[32m2024-06-24 10:08:27.064\u001b[0m | \u001b[1mINFO    \u001b[0m | \u001b[36mmodules.preparing.scripts.augment_audio_and_extract_file_path\u001b[0m:\u001b[36m_process_folder\u001b[0m:\u001b[36m60\u001b[0m - \u001b[1mProcessing folder: Suprised\u001b[0m\n",
      "\u001b[32m2024-06-24 10:08:27.141\u001b[0m | \u001b[1mINFO    \u001b[0m | \u001b[36mmodules.preparing.scripts.augment_audio_and_extract_file_path\u001b[0m:\u001b[36mprocess_folders\u001b[0m:\u001b[36m79\u001b[0m - \u001b[1mProcessing: ./data/VietnameseDataset/train_test_splited_data/raw/test\u001b[0m\n",
      "\u001b[32m2024-06-24 10:08:27.141\u001b[0m | \u001b[1mINFO    \u001b[0m | \u001b[36mmodules.preparing.scripts.augment_audio_and_extract_file_path\u001b[0m:\u001b[36m_process_folder\u001b[0m:\u001b[36m60\u001b[0m - \u001b[1mProcessing folder: Angry\u001b[0m\n",
      "\u001b[32m2024-06-24 10:08:27.550\u001b[0m | \u001b[1mINFO    \u001b[0m | \u001b[36mmodules.preparing.scripts.augment_audio_and_extract_file_path\u001b[0m:\u001b[36m_process_folder\u001b[0m:\u001b[36m60\u001b[0m - \u001b[1mProcessing folder: Disgusted\u001b[0m\n",
      "\u001b[32m2024-06-24 10:08:27.739\u001b[0m | \u001b[1mINFO    \u001b[0m | \u001b[36mmodules.preparing.scripts.augment_audio_and_extract_file_path\u001b[0m:\u001b[36m_process_folder\u001b[0m:\u001b[36m60\u001b[0m - \u001b[1mProcessing folder: Fearful\u001b[0m\n",
      "\u001b[32m2024-06-24 10:08:27.880\u001b[0m | \u001b[1mINFO    \u001b[0m | \u001b[36mmodules.preparing.scripts.augment_audio_and_extract_file_path\u001b[0m:\u001b[36m_process_folder\u001b[0m:\u001b[36m60\u001b[0m - \u001b[1mProcessing folder: Happy\u001b[0m\n",
      "\u001b[32m2024-06-24 10:08:28.053\u001b[0m | \u001b[1mINFO    \u001b[0m | \u001b[36mmodules.preparing.scripts.augment_audio_and_extract_file_path\u001b[0m:\u001b[36m_process_folder\u001b[0m:\u001b[36m60\u001b[0m - \u001b[1mProcessing folder: Neutral\u001b[0m\n",
      "\u001b[32m2024-06-24 10:08:28.336\u001b[0m | \u001b[1mINFO    \u001b[0m | \u001b[36mmodules.preparing.scripts.augment_audio_and_extract_file_path\u001b[0m:\u001b[36m_process_folder\u001b[0m:\u001b[36m60\u001b[0m - \u001b[1mProcessing folder: Sad\u001b[0m\n",
      "\u001b[32m2024-06-24 10:08:28.522\u001b[0m | \u001b[1mINFO    \u001b[0m | \u001b[36mmodules.preparing.scripts.augment_audio_and_extract_file_path\u001b[0m:\u001b[36m_process_folder\u001b[0m:\u001b[36m60\u001b[0m - \u001b[1mProcessing folder: Suprised\u001b[0m\n",
      "\u001b[32m2024-06-24 10:08:28.715\u001b[0m | \u001b[1mINFO    \u001b[0m | \u001b[36mmodules.pre_processing.scripts.pre_processing_data\u001b[0m:\u001b[36mprocess_and_save_audio_files\u001b[0m:\u001b[36m57\u001b[0m - \u001b[1mProcessed 0 files in train dataset.\u001b[0m\n"
     ]
    },
    {
     "name": "stdout",
     "output_type": "stream",
     "text": [
      "Data preparation completed.\n"
     ]
    },
    {
     "name": "stderr",
     "output_type": "stream",
     "text": [
      "\u001b[32m2024-06-24 10:08:40.562\u001b[0m | \u001b[1mINFO    \u001b[0m | \u001b[36mmodules.pre_processing.scripts.pre_processing_data\u001b[0m:\u001b[36mprocess_and_save_audio_files\u001b[0m:\u001b[36m57\u001b[0m - \u001b[1mProcessed 1000 files in train dataset.\u001b[0m\n",
      "\u001b[32m2024-06-24 10:08:43.341\u001b[0m | \u001b[1mINFO    \u001b[0m | \u001b[36mmodules.pre_processing.scripts.pre_processing_data\u001b[0m:\u001b[36mprocess_and_save_audio_files\u001b[0m:\u001b[36m57\u001b[0m - \u001b[1mProcessed 0 files in test dataset.\u001b[0m\n",
      "\u001b[32m2024-06-24 10:08:45.071\u001b[0m | \u001b[1mINFO    \u001b[0m | \u001b[36mmodules.pre_processing.scripts.pre_processing_data\u001b[0m:\u001b[36mprocess_and_save_audio_files\u001b[0m:\u001b[36m57\u001b[0m - \u001b[1mProcessed 0 files in validation dataset.\u001b[0m\n"
     ]
    },
    {
     "name": "stdout",
     "output_type": "stream",
     "text": [
      "Running feature extraction for train dataset...\n"
     ]
    },
    {
     "name": "stderr",
     "output_type": "stream",
     "text": [
      "\u001b[32m2024-06-24 10:08:47.912\u001b[0m | \u001b[1mINFO    \u001b[0m | \u001b[36mmodules.extracting_feature.scripts.extract_statistic_features\u001b[0m:\u001b[36mprocess_folder\u001b[0m:\u001b[36m165\u001b[0m - \u001b[1mProcessed 0 file.\u001b[0m\n",
      "\u001b[32m2024-06-24 10:09:28.824\u001b[0m | \u001b[1mINFO    \u001b[0m | \u001b[36mmodules.extracting_feature.scripts.extract_statistic_features\u001b[0m:\u001b[36mprocess_folder\u001b[0m:\u001b[36m165\u001b[0m - \u001b[1mProcessed 100 file.\u001b[0m\n",
      "\u001b[32m2024-06-24 10:10:08.705\u001b[0m | \u001b[1mINFO    \u001b[0m | \u001b[36mmodules.extracting_feature.scripts.extract_statistic_features\u001b[0m:\u001b[36mprocess_folder\u001b[0m:\u001b[36m165\u001b[0m - \u001b[1mProcessed 200 file.\u001b[0m\n"
     ]
    }
   ],
   "source": [
    "config = VietnameseDatasetConfig()\n",
    "remove_folder(config.train_test_split_path)\n",
    "remove_folder(config.feature_path)\n",
    "pipeline = AudioFeaturePipeline(config)\n",
    "pipeline.run()"
   ]
  }
 ],
 "metadata": {
  "kernelspec": {
   "display_name": ".venv",
   "language": "python",
   "name": "python3"
  },
  "language_info": {
   "codemirror_mode": {
    "name": "ipython",
    "version": 3
   },
   "file_extension": ".py",
   "mimetype": "text/x-python",
   "name": "python",
   "nbconvert_exporter": "python",
   "pygments_lexer": "ipython3",
   "version": "3.11.9"
  }
 },
 "nbformat": 4,
 "nbformat_minor": 2
}
