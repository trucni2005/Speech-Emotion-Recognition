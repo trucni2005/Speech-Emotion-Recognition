{
 "cells": [
  {
   "cell_type": "code",
   "execution_count": 1,
   "metadata": {},
   "outputs": [],
   "source": [
    "import pandas as pd\n",
    "from sklearn.metrics import accuracy_score\n",
    "from sklearn.model_selection import KFold,train_test_split\n",
    "from sklearn.ensemble import RandomForestClassifier\n",
    "# from sklearn.\n",
    "import numpy as np"
   ]
  },
  {
   "cell_type": "code",
   "execution_count": 2,
   "metadata": {},
   "outputs": [],
   "source": [
    "# Đọc tệp CSV vào DataFrame\n",
    "df = pd.read_csv('mfcc_data_combined.csv')\n",
    "\n",
    "# Trộn ngẫu nhiên các hàng của DataFrame\n",
    "df_shuffled = df.sample(frac=1, random_state=42).reset_index(drop=True)\n",
    "\n",
    "validation_data = df_shuffled.head(1000)\n",
    "train_test_data = df_shuffled.drop(range(1000))"
   ]
  },
  {
   "cell_type": "code",
   "execution_count": 3,
   "metadata": {},
   "outputs": [],
   "source": [
    "from collections import defaultdict"
   ]
  },
  {
   "cell_type": "code",
   "execution_count": 4,
   "metadata": {},
   "outputs": [],
   "source": [
    "def find_model(data, models):  \n",
    "    kf = KFold(n_splits=5, shuffle=False)\n",
    "    y = data['label']\n",
    "    X = data.drop(['label', 'file'], axis=1)\n",
    "\n",
    "    # Khởi tạo một từ điển để lưu trữ tỉ lệ nhận dạng đúng cho từng nhãn\n",
    "    label_accuracies = defaultdict(list)\n",
    "\n",
    "    # Loop through models\n",
    "    for model in models:\n",
    "        \n",
    "        acc_scores = []\n",
    "\n",
    "        for train_index, test_index in kf.split(X):\n",
    "            X_train, X_test = X.iloc[train_index], X.iloc[test_index]\n",
    "            y_train, y_test = y.iloc[train_index], y.iloc[test_index]\n",
    "\n",
    "            # Khởi tạo model\n",
    "            clf = model()\n",
    "\n",
    "            # Train model\n",
    "            clf.fit(X_train, y_train)\n",
    "\n",
    "            # Dự đoán trên tập test\n",
    "            y_pred = clf.predict(X_test)\n",
    "\n",
    "            acc = accuracy_score(y_test, y_pred)\n",
    "            acc_scores.append(acc)\n",
    "\n",
    "            # Tính accuracy cho từng nhãn và lưu vào từ điển\n",
    "            for label in y.unique():\n",
    "                mask = y_test == label\n",
    "                label_acc = accuracy_score(y_test[mask], y_pred[mask])\n",
    "                label_accuracies[label].append(label_acc)\n",
    "\n",
    "    # In ra tỉ lệ nhận dạng đúng cho từng nhãn\n",
    "    for label, accs in label_accuracies.items():\n",
    "        avg_acc = np.mean(accs)\n",
    "        print(f\"Label: {label}, Average Accuracy: {avg_acc}\")\n",
    "    \n",
    "    avg_acc = np.mean(acc_scores)\n",
    "    print(f\"Model: {model.__name__}, Average Accuracy: {avg_acc}\")"
   ]
  },
  {
   "cell_type": "code",
   "execution_count": 5,
   "metadata": {},
   "outputs": [
    {
     "name": "stdout",
     "output_type": "stream",
     "text": [
      "Label: Neutral, Average Accuracy: 0.5850736799765355\n",
      "Label: Happy, Average Accuracy: 0.5548322058358257\n",
      "Label: Fearful, Average Accuracy: 0.49151271811770336\n",
      "Label: Disgusted, Average Accuracy: 0.5590659006524069\n",
      "Label: Angry, Average Accuracy: 0.7867758566872528\n",
      "Label: Suprised, Average Accuracy: 0.5989623721719903\n",
      "Label: Sad, Average Accuracy: 0.804057396724905\n",
      "Model: RandomForestClassifier, Average Accuracy: 0.6381221865763218\n"
     ]
    }
   ],
   "source": [
    "find_model(train_test_data, [RandomForestClassifier])"
   ]
  }
 ],
 "metadata": {
  "kernelspec": {
   "display_name": ".venv",
   "language": "python",
   "name": "python3"
  },
  "language_info": {
   "codemirror_mode": {
    "name": "ipython",
    "version": 3
   },
   "file_extension": ".py",
   "mimetype": "text/x-python",
   "name": "python",
   "nbconvert_exporter": "python",
   "pygments_lexer": "ipython3",
   "version": "3.11.9"
  }
 },
 "nbformat": 4,
 "nbformat_minor": 2
}
