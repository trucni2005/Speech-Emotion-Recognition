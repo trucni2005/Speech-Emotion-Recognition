{
 "cells": [
  {
   "cell_type": "markdown",
   "metadata": {},
   "source": [
    "**Chia dữ liệu sau khi gộp thành 3 phần Train, Test và Validation, trong đó 80% là Train, 10% Validation và 10% Test**"
   ]
  },
  {
   "cell_type": "code",
   "execution_count": 1,
   "metadata": {},
   "outputs": [
    {
     "name": "stdout",
     "output_type": "stream",
     "text": [
      "Processing complete.\n"
     ]
    }
   ],
   "source": [
    "import os\n",
    "import random\n",
    "import shutil\n",
    "\n",
    "class FolderProcessor:\n",
    "    def __init__(self):\n",
    "        pass\n",
    "\n",
    "    def process_folders(self, input_folder, output_folder):\n",
    "        for root, dirs, files in os.walk(input_folder):\n",
    "            for folder in dirs:\n",
    "                subdirectory_input = os.path.join(root, folder)\n",
    "                relative_path = os.path.relpath(subdirectory_input, input_folder)\n",
    "\n",
    "                train_output_subdirectory = os.path.join(output_folder, 'train', relative_path)\n",
    "                test_output_subdirectory = os.path.join(output_folder, 'test', relative_path)\n",
    "                validation_output_subdirectory = os.path.join(output_folder, 'validation', relative_path)\n",
    "\n",
    "                if not os.path.exists(train_output_subdirectory):\n",
    "                    os.makedirs(train_output_subdirectory)\n",
    "                if not os.path.exists(test_output_subdirectory):\n",
    "                    os.makedirs(test_output_subdirectory)\n",
    "                if not os.path.exists(validation_output_subdirectory):\n",
    "                    os.makedirs(validation_output_subdirectory)\n",
    "\n",
    "                self.process_folder(subdirectory_input, train_output_subdirectory, test_output_subdirectory, validation_output_subdirectory)\n",
    "\n",
    "    def process_folder(self, input_subdirectory, train_output_subdirectory, test_output_subdirectory, validation_output_subdirectory):\n",
    "        files = os.listdir(input_subdirectory)\n",
    "        random.shuffle(files)\n",
    "\n",
    "        train_split_index = int(0.8 * len(files))\n",
    "        test_split_index = train_split_index + int(0.1 * len(files))\n",
    "\n",
    "        train_files = files[:train_split_index]\n",
    "        test_files = files[train_split_index:test_split_index]\n",
    "        validation_files = files[test_split_index:]\n",
    "\n",
    "        for file in train_files:\n",
    "            source_path = os.path.join(input_subdirectory, file)\n",
    "            destination_path = os.path.join(train_output_subdirectory, file)\n",
    "            shutil.copy(source_path, destination_path)\n",
    "\n",
    "        for file in test_files:\n",
    "            source_path = os.path.join(input_subdirectory, file)\n",
    "            destination_path = os.path.join(test_output_subdirectory, file)\n",
    "            shutil.copy(source_path, destination_path)\n",
    "\n",
    "        for file in validation_files:\n",
    "            source_path = os.path.join(input_subdirectory, file)\n",
    "            destination_path = os.path.join(validation_output_subdirectory, file)\n",
    "            shutil.copy(source_path, destination_path)\n",
    "\n",
    "input_folder = r'D:\\data_analysis\\speech_emotion_recognition\\data\\EnglishDataset\\combined_data'\n",
    "output_folder = r'D:\\data_analysis\\speech_emotion_recognition\\data\\EnglishDataset\\train_test_splited_data\\raw_data'\n",
    "\n",
    "processor = FolderProcessor()\n",
    "processor.process_folders(input_folder, output_folder)\n",
    "\n",
    "print('Processing complete.')\n"
   ]
  }
 ],
 "metadata": {
  "kernelspec": {
   "display_name": ".venv",
   "language": "python",
   "name": "python3"
  },
  "language_info": {
   "codemirror_mode": {
    "name": "ipython",
    "version": 3
   },
   "file_extension": ".py",
   "mimetype": "text/x-python",
   "name": "python",
   "nbconvert_exporter": "python",
   "pygments_lexer": "ipython3",
   "version": "3.11.9"
  }
 },
 "nbformat": 4,
 "nbformat_minor": 2
}
