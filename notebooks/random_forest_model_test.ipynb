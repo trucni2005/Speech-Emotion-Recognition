{
 "cells": [
  {
   "cell_type": "code",
   "execution_count": 1,
   "metadata": {},
   "outputs": [],
   "source": [
    "import pandas as pd\n",
    "train_data = pd.read_csv(r'D:\\data_analysis\\speech_emotion_recognition\\data\\EnglishDataset\\features\\statistic_features\\train.csv')\n",
    "val_data = pd.read_csv(r'D:\\data_analysis\\speech_emotion_recognition\\data\\EnglishDataset\\features\\statistic_features\\validation.csv')\n",
    "test_data = pd.read_csv(r'D:\\data_analysis\\speech_emotion_recognition\\data\\EnglishDataset\\features\\statistic_features\\test.csv')\n",
    "\n",
    "X_train = train_data.drop(columns=['label', 'file_path'])\n",
    "y_train = train_data['label']\n",
    "\n",
    "X_val = val_data.drop(columns=['label', 'file_path'])\n",
    "y_val = val_data['label']\n",
    "\n",
    "X_test = test_data.drop(columns=['label', 'file_path'])\n",
    "y_test = test_data['label']"
   ]
  },
  {
   "cell_type": "code",
   "execution_count": 2,
   "metadata": {},
   "outputs": [
    {
     "data": {
      "text/plain": [
       "((26921, 310), (26921,), (3369, 310), (3369,), (3336, 310), (3336,))"
      ]
     },
     "execution_count": 2,
     "metadata": {},
     "output_type": "execute_result"
    }
   ],
   "source": [
    "X_train.shape, y_train.shape, X_val.shape, y_val.shape, X_test.shape, y_test.shape"
   ]
  },
  {
   "cell_type": "code",
   "execution_count": 3,
   "metadata": {},
   "outputs": [
    {
     "name": "stdout",
     "output_type": "stream",
     "text": [
      "Fitting 5 folds for each of 108 candidates, totalling 540 fits\n"
     ]
    },
    {
     "name": "stderr",
     "output_type": "stream",
     "text": [
      "\u001b[32m2024-06-01 17:28:32.759\u001b[0m | \u001b[1mINFO    \u001b[0m | \u001b[36m__main__\u001b[0m:\u001b[36m<module>\u001b[0m:\u001b[36m28\u001b[0m - \u001b[1mBest parameters found: {'max_depth': None, 'min_samples_leaf': 1, 'min_samples_split': 2, 'n_estimators': 300}\u001b[0m\n",
      "\u001b[32m2024-06-01 17:30:46.652\u001b[0m | \u001b[1mINFO    \u001b[0m | \u001b[36m__main__\u001b[0m:\u001b[36m<module>\u001b[0m:\u001b[36m42\u001b[0m - \u001b[1mTest Accuracy: 0.6432853717026379\u001b[0m\n",
      "\u001b[32m2024-06-01 17:30:46.654\u001b[0m | \u001b[1mINFO    \u001b[0m | \u001b[36m__main__\u001b[0m:\u001b[36m<module>\u001b[0m:\u001b[36m43\u001b[0m - \u001b[1mTest Classification Report:\n",
      "              precision    recall  f1-score   support\n",
      "\n",
      "       Angry       0.73      0.82      0.77       555\n",
      "   Disgusted       0.60      0.51      0.55       518\n",
      "     Fearful       0.74      0.47      0.58       550\n",
      "       Happy       0.58      0.54      0.56       542\n",
      "     Neutral       0.56      0.72      0.63       470\n",
      "         Sad       0.61      0.76      0.68       521\n",
      "    Suprised       0.88      0.79      0.84       180\n",
      "\n",
      "    accuracy                           0.64      3336\n",
      "   macro avg       0.67      0.66      0.66      3336\n",
      "weighted avg       0.65      0.64      0.64      3336\n",
      "\u001b[0m\n"
     ]
    },
    {
     "name": "stdout",
     "output_type": "stream",
     "text": [
      "Test Accuracy: 0.6432853717026379\n",
      "Test Classification Report:\n",
      "              precision    recall  f1-score   support\n",
      "\n",
      "       Angry       0.73      0.82      0.77       555\n",
      "   Disgusted       0.60      0.51      0.55       518\n",
      "     Fearful       0.74      0.47      0.58       550\n",
      "       Happy       0.58      0.54      0.56       542\n",
      "     Neutral       0.56      0.72      0.63       470\n",
      "         Sad       0.61      0.76      0.68       521\n",
      "    Suprised       0.88      0.79      0.84       180\n",
      "\n",
      "    accuracy                           0.64      3336\n",
      "   macro avg       0.67      0.66      0.66      3336\n",
      "weighted avg       0.65      0.64      0.64      3336\n",
      "\n"
     ]
    }
   ],
   "source": [
    "import pandas as pd\n",
    "from sklearn.preprocessing import StandardScaler\n",
    "from sklearn.ensemble import RandomForestClassifier\n",
    "from sklearn.metrics import classification_report, accuracy_score\n",
    "from sklearn.model_selection import GridSearchCV\n",
    "from loguru import logger\n",
    "\n",
    "X_train_combined = pd.concat([X_train, X_val])\n",
    "y_train_combined = pd.concat([y_train, y_val])\n",
    "\n",
    "scaler = StandardScaler()\n",
    "X_train_combined = scaler.fit_transform(X_train_combined)\n",
    "X_test = scaler.transform(X_test)\n",
    "\n",
    "param_grid = {\n",
    "    'n_estimators': [100, 200, 300],\n",
    "    'max_depth': [None, 10, 20, 30],\n",
    "    'min_samples_split': [2, 5, 10],\n",
    "    'min_samples_leaf': [1, 2, 4]\n",
    "}\n",
    "\n",
    "rf = RandomForestClassifier(random_state=42)\n",
    "grid_search = GridSearchCV(estimator=rf, param_grid=param_grid, cv=5, n_jobs=-1, verbose=2)\n",
    "\n",
    "grid_search.fit(X_train_combined, y_train_combined)\n",
    "\n",
    "best_params = grid_search.best_params_\n",
    "logger.info(f\"Best parameters found: {best_params}\")\n",
    "\n",
    "best_rf = grid_search.best_estimator_\n",
    "best_rf.fit(X_train_combined, y_train_combined)\n",
    "\n",
    "import joblib\n",
    "\n",
    "# Lưu mô hình best_rf vào file\n",
    "joblib.dump(best_rf, 'best_random_forest_model.pkl')\n",
    "\n",
    "y_test_pred = best_rf.predict(X_test)\n",
    "test_accuracy = accuracy_score(y_test, y_test_pred)\n",
    "test_report = classification_report(y_test, y_test_pred)\n",
    "\n",
    "logger.info(f\"Test Accuracy: {test_accuracy}\")\n",
    "logger.info(f\"Test Classification Report:\\n{test_report}\")\n",
    "\n",
    "print(f\"Test Accuracy: {test_accuracy}\")\n",
    "print(f\"Test Classification Report:\\n{test_report}\")\n"
   ]
  }
 ],
 "metadata": {
  "kernelspec": {
   "display_name": ".venv",
   "language": "python",
   "name": "python3"
  },
  "language_info": {
   "codemirror_mode": {
    "name": "ipython",
    "version": 3
   },
   "file_extension": ".py",
   "mimetype": "text/x-python",
   "name": "python",
   "nbconvert_exporter": "python",
   "pygments_lexer": "ipython3",
   "version": "3.11.9"
  }
 },
 "nbformat": 4,
 "nbformat_minor": 2
}
