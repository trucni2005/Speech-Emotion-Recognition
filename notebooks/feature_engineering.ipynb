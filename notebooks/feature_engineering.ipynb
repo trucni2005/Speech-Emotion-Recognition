{
 "cells": [
  {
   "cell_type": "code",
   "execution_count": 1,
   "metadata": {},
   "outputs": [],
   "source": [
    "import numpy as np\n",
    "import librosa\n",
    "import os\n",
    "import pandas as pd"
   ]
  },
  {
   "cell_type": "code",
   "execution_count": 2,
   "metadata": {},
   "outputs": [],
   "source": [
    "# MFCCs\n",
    "\n",
    "def compute_mfccs(signal, sample_rate, n_mfcc=13):\n",
    "    \"\"\"\n",
    "    Tính toán Mel-frequency cepstral coefficients (MFCCs) của tín hiệu âm thanh.\n",
    "\n",
    "    Parameters:\n",
    "        signal (numpy array): Tín hiệu âm thanh.\n",
    "        sample_rate (int): Tần số lấy mẫu của tín hiệu âm thanh.\n",
    "        n_mfcc (int): Số lượng MFCCs.\n",
    "\n",
    "    Returns:\n",
    "        numpy array: Trung bình của MFCCs.\n",
    "    \"\"\"\n",
    "    mfccs = librosa.feature.mfcc(y=signal, sr=sample_rate, n_mfcc=n_mfcc)\n",
    "    return np.mean(mfccs.T, axis=0)"
   ]
  },
  {
   "cell_type": "code",
   "execution_count": 3,
   "metadata": {},
   "outputs": [],
   "source": [
    "def compute_chroma(signal, sample_rate):\n",
    "    \"\"\"\n",
    "    Tính toán Chroma của tín hiệu âm thanh.\n",
    "\n",
    "    Parameters:\n",
    "        signal (numpy array): Tín hiệu âm thanh.\n",
    "        sample_rate (int): Tần số lấy mẫu của tín hiệu âm thanh.\n",
    "\n",
    "    Returns:\n",
    "        numpy array: Trung bình của Chroma.\n",
    "    \"\"\"\n",
    "    chroma = librosa.feature.chroma_stft(y=signal, sr=sample_rate)\n",
    "    return chroma.mean(axis=1)"
   ]
  },
  {
   "cell_type": "code",
   "execution_count": 4,
   "metadata": {},
   "outputs": [],
   "source": [
    "def compute_zcr(signal):\n",
    "    \"\"\"\n",
    "    Tính toán Zero Crossing Rate (ZCR) của tín hiệu âm thanh.\n",
    "\n",
    "    Parameters:\n",
    "        signal (numpy array): Tín hiệu âm thanh.\n",
    "\n",
    "    Returns:\n",
    "        float: ZCR của tín hiệu âm thanh.\n",
    "    \"\"\"\n",
    "    return np.mean(np.abs(np.diff(np.sign(signal))))"
   ]
  },
  {
   "cell_type": "code",
   "execution_count": 5,
   "metadata": {},
   "outputs": [],
   "source": [
    "def feature_engineering_for_file(audio_file, n_mfcc):\n",
    "    signal, sample_rate = librosa.load(audio_file, sr=None)\n",
    "    return compute_mfccs(signal, sample_rate, n_mfcc), compute_zcr(signal)"
   ]
  },
  {
   "cell_type": "code",
   "execution_count": 6,
   "metadata": {},
   "outputs": [],
   "source": [
    "def process_file(label, input_folder_path, n_mfcc):\n",
    "    \"\"\"\n",
    "    Xử lý tất cả các tệp WAV trong thư mục để tìm các phân đoạn nói.\n",
    "    \"\"\"\n",
    "    # Tạo một DataFrame để lưu trữ đặc trưng MFCC\n",
    "    mfcc_data = pd.DataFrame()\n",
    "\n",
    "    for file_name in os.listdir(input_folder_path):\n",
    "        if file_name.endswith('.wav'):\n",
    "            file_path = os.path.join(input_folder_path, file_name)\n",
    " \n",
    "            mfcc_array, zcr = feature_engineering_for_file(file_path, n_mfcc)\n",
    "            \n",
    "            mfcc_df = pd.DataFrame(mfcc_array.reshape(1, -1), columns=[f'mfcc_{i+1}' for i in range(len(mfcc_array))])\n",
    "\n",
    "            mfcc_df['label'] = label\n",
    "            mfcc_df['file'] = file_name\n",
    "            mfcc_df['ZCR'] = zcr\n",
    "\n",
    "            mfcc_data = pd.concat([mfcc_data, mfcc_df], ignore_index=True)\n",
    "    \n",
    "    return mfcc_data"
   ]
  },
  {
   "cell_type": "code",
   "execution_count": 7,
   "metadata": {},
   "outputs": [],
   "source": [
    "# mfcc_data = process_file('Angry', 'D:/data_analysis/speech_emotion_recognition/data/combined_data/Angry', 30)\n",
    "# print(mfcc_data)"
   ]
  },
  {
   "cell_type": "code",
   "execution_count": 8,
   "metadata": {},
   "outputs": [],
   "source": [
    "def process_folder(input_folder, n_mfcc):\n",
    "    # Tạo một DataFrame để lưu trữ dữ liệu MFCC\n",
    "    mfcc_data = pd.DataFrame()\n",
    "\n",
    "    # Duyệt qua tất cả các thư mục con trong thư mục đầu vào\n",
    "    for root, dirs, files in os.walk(input_folder):\n",
    "        for folder in dirs:\n",
    "            # Xác định đường dẫn của thư mục con trong thư mục đầu vào\n",
    "            subdirectory_input = os.path.join(root, folder)\n",
    "            # Xử lý các tệp trong thư mục con và thêm dữ liệu MFCC vào DataFrame\n",
    "            mfcc_df = process_file(folder, subdirectory_input, n_mfcc)\n",
    "            mfcc_data = pd.concat([mfcc_data, mfcc_df], ignore_index=True)\n",
    "\n",
    "    # Lưu DataFrame thành tệp CSV\n",
    "    output_csv_path = 'mfcc_data_combined.csv'\n",
    "    mfcc_data.to_csv(output_csv_path, index=False)\n",
    "    print(f\"Đã lưu dữ liệu MFCC vào {output_csv_path}\")"
   ]
  },
  {
   "cell_type": "code",
   "execution_count": 9,
   "metadata": {},
   "outputs": [
    {
     "name": "stdout",
     "output_type": "stream",
     "text": [
      "Đã lưu dữ liệu MFCC vào mfcc_data_combined.csv\n"
     ]
    }
   ],
   "source": [
    "process_folder('D:/data_analysis/speech_emotion_recognition/data/combined_data', 40)"
   ]
  }
 ],
 "metadata": {
  "kernelspec": {
   "display_name": ".venv",
   "language": "python",
   "name": "python3"
  },
  "language_info": {
   "codemirror_mode": {
    "name": "ipython",
    "version": 3
   },
   "file_extension": ".py",
   "mimetype": "text/x-python",
   "name": "python",
   "nbconvert_exporter": "python",
   "pygments_lexer": "ipython3",
   "version": "3.11.9"
  }
 },
 "nbformat": 4,
 "nbformat_minor": 2
}
