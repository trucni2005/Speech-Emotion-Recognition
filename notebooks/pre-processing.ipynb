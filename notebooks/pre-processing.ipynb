{
 "cells": [
  {
   "cell_type": "code",
   "execution_count": 1,
   "metadata": {},
   "outputs": [],
   "source": [
    "from scipy.io import wavfile\n",
    "from scipy.signal import butter, filtfilt\n",
    "import numpy as np\n",
    "import librosa\n",
    "import matplotlib.pyplot as plt"
   ]
  },
  {
   "cell_type": "code",
   "execution_count": 2,
   "metadata": {},
   "outputs": [],
   "source": [
    "def read_audio_file(file_path):\n",
    "    \"\"\"Đọc file âm thanh và trả về tỷ lệ mẫu và dữ liệu âm thanh đã chuẩn hóa.\"\"\"\n",
    "    sample_rate, audio_data = wavfile.read(file_path)\n",
    "    audio_data = audio_data / np.max(np.abs(audio_data))  # Chuẩn hóa dữ liệu âm thanh về phạm vi từ -1 đến 1\n",
    "    return sample_rate, audio_data"
   ]
  },
  {
   "cell_type": "code",
   "execution_count": 3,
   "metadata": {},
   "outputs": [],
   "source": [
    "def apply_lowpass_filter(audio_data, sample_rate, cutoff_freq, order):\n",
    "    \"\"\"Áp dụng bộ lọc thông thấp cho dữ liệu âm thanh.\"\"\"\n",
    "    b, a = butter(order, cutoff_freq / (sample_rate / 2), btype='low', analog=False)\n",
    "    filtered_audio_data = filtfilt(b, a, audio_data)\n",
    "    return filtered_audio_data"
   ]
  },
  {
   "cell_type": "code",
   "execution_count": 4,
   "metadata": {},
   "outputs": [],
   "source": [
    "def apply_highpass_filter(audio_data, sample_rate, cutoff_freq, order):\n",
    "    \"\"\"Áp dụng bộ lọc thông cao cho dữ liệu âm thanh.\"\"\"\n",
    "    b, a = butter(order, cutoff_freq / (sample_rate / 2), btype='high', analog=False)\n",
    "    filtered_audio_data = filtfilt(b, a, audio_data)\n",
    "    return filtered_audio_data"
   ]
  },
  {
   "cell_type": "code",
   "execution_count": 5,
   "metadata": {},
   "outputs": [],
   "source": [
    "def save_audio_file(output_file, sample_rate, audio_data):\n",
    "    \"\"\"Lưu dữ liệu âm thanh vào file mới.\"\"\"\n",
    "    wavfile.write(output_file, sample_rate, np.array(audio_data * (2**15 - 1), dtype=np.int16))"
   ]
  },
  {
   "cell_type": "code",
   "execution_count": 6,
   "metadata": {},
   "outputs": [],
   "source": [
    "# def normalize_sample_rate(audio_data, orig_sr, target_sr):\n",
    "#     if orig_sr != target_sr:\n",
    "#         audio_data = librosa.resample(audio_data, target_sr)\n",
    "#     return audio_data"
   ]
  },
  {
   "cell_type": "code",
   "execution_count": 7,
   "metadata": {},
   "outputs": [],
   "source": [
    "from scipy.signal import resample\n",
    "\n",
    "def normalize_sample_rate(audio_data, orig_sr, target_sr):\n",
    "    if orig_sr != target_sr:\n",
    "        # Tính toán số lượng mẫu mới dựa trên tỷ lệ mẫu mới\n",
    "        num_samples = int(round(len(audio_data) * float(target_sr) / orig_sr))\n",
    "        # Resample âm thanh\n",
    "        resampled_audio = resample(audio_data, num_samples)\n",
    "        return resampled_audio, target_sr\n",
    "    else:\n",
    "        return audio_data, target_sr"
   ]
  },
  {
   "cell_type": "code",
   "execution_count": 8,
   "metadata": {},
   "outputs": [],
   "source": [
    "def normalize_audio(audio, target_dBFS):\n",
    "    current_dBFS = librosa.amplitude_to_db(np.max(np.abs(audio)), ref=1.0)\n",
    "\n",
    "    # Tính toán độ chênh lệch giữa mức âm thanh hiện tại và mức âm thanh mục tiêu\n",
    "    dBFS_change = target_dBFS - current_dBFS\n",
    "\n",
    "    # Chuẩn hóa âm thanh bằng cách thay đổi biên độ\n",
    "    normalized_audio = audio * (10.0 ** (dBFS_change / 20.0))\n",
    "    return normalized_audio"
   ]
  },
  {
   "cell_type": "code",
   "execution_count": 9,
   "metadata": {},
   "outputs": [],
   "source": [
    "def plot_audio(audio_data, sample_rate, filtered_audio_data):\n",
    "    \"\"\"Hiển thị âm thanh gốc và âm thanh đã lọc.\"\"\"\n",
    "    plt.figure(figsize=(12, 6))\n",
    "    plt.plot(np.arange(len(audio_data)) / sample_rate, audio_data, label='Original Audio')\n",
    "    plt.plot(np.arange(len(filtered_audio_data)) / sample_rate, filtered_audio_data, label='Filtered Audio (Thresholded)')\n",
    "    plt.xlabel('Time (s)')\n",
    "    plt.ylabel('Amplitude')\n",
    "    plt.title('Original vs. Filtered Audio')\n",
    "    plt.legend()\n",
    "    plt.grid(True)\n",
    "    plt.show()"
   ]
  },
  {
   "cell_type": "code",
   "execution_count": 10,
   "metadata": {},
   "outputs": [],
   "source": [
    "def normalize_audio_file(output_folder_path, file_name, file_path, cutoff_freq_low, cutoff_freq_high, order, target_sr, target_dBFS):\n",
    "    sample_rate, audio_data = read_audio_file(file_path)\n",
    "\n",
    "    # audio_data, sample_rate = normalize_sample_rate(audio_data, sample_rate, target_sr)\n",
    "\n",
    "    audio_data = normalize_audio(audio_data, target_dBFS)\n",
    "\n",
    "    filtered_audio_data = apply_lowpass_filter(audio_data, sample_rate, cutoff_freq_low, order)\n",
    "    filtered_audio_data = apply_highpass_filter(audio_data, sample_rate, cutoff_freq_high, order)\n",
    "\n",
    "    # plot_audio(audio_data, sample_rate, filtered_audio_data)\n",
    "    # # Lưu dữ liệu âm thanh đã lọc vào file mới\n",
    "    output_file = f'{output_folder_path}/cleaned_{file_name}.wav'\n",
    "    save_audio_file(output_file, sample_rate, filtered_audio_data)\n",
    "\n",
    "    # # Hiển thị âm thanh gốc và âm thanh đã lọc\n",
    "    # plot_audio(audio_data, sample_rate, filtered_audio_data)"
   ]
  },
  {
   "cell_type": "code",
   "execution_count": 11,
   "metadata": {},
   "outputs": [],
   "source": [
    "normalize_audio_file(\"\", \"normalized_audio\", r\"D:\\data_analysis\\speech_emotion_recognition\\audio_test\\Bong_Dung_Muon_Khoc\\divide_segment\\1\\Sad\\segment_745.wav\", 800, 100, 5, 16000, -20)"
   ]
  },
  {
   "cell_type": "code",
   "execution_count": 12,
   "metadata": {},
   "outputs": [],
   "source": [
    "import os"
   ]
  },
  {
   "cell_type": "code",
   "execution_count": 13,
   "metadata": {},
   "outputs": [],
   "source": [
    "def create_output_folder(output_folder):\n",
    "        \"\"\"\n",
    "        Kiểm tra và tạo thư mục đầu ra nếu nó không tồn tại.\n",
    "        \"\"\"\n",
    "        if not os.path.exists(output_folder):\n",
    "            os.makedirs(output_folder)"
   ]
  },
  {
   "cell_type": "code",
   "execution_count": 14,
   "metadata": {},
   "outputs": [],
   "source": [
    "def process_folder(input_folder_path, output_folder_path):\n",
    "    \"\"\"\n",
    "    Xử lý tất cả các tệp WAV trong thư mục để tìm các phân đoạn nói.\n",
    "    \"\"\"\n",
    "    for file_name in os.listdir(input_folder_path):\n",
    "        try:\n",
    "            if file_name.endswith('.wav'):\n",
    "                file_path = os.path.join(input_folder_path, file_name)\n",
    "                create_output_folder(output_folder_path)\n",
    "                normalize_audio_file(output_folder_path, file_name.replace('.wav', ''), file_path, 2000, 100, 5, 48000, -20)\n",
    "        except Exception as e:\n",
    "            print(f\"An error occurred while processing file '{file_name}': {e}\")"
   ]
  },
  {
   "cell_type": "code",
   "execution_count": 15,
   "metadata": {},
   "outputs": [],
   "source": [
    "def process_folders(input_folder, output_folder):\n",
    "    for root, dirs, files in os.walk(input_folder):\n",
    "        for folder in dirs:\n",
    "            subdirectory_input = os.path.join(root, folder)\n",
    "\n",
    "            relative_path = os.path.relpath(subdirectory_input, input_folder)\n",
    "            subdirectory_output = os.path.join(output_folder, relative_path)\n",
    "\n",
    "            if not os.path.exists(subdirectory_output):\n",
    "                os.makedirs(subdirectory_output)\n",
    "            process_folder(subdirectory_input,subdirectory_output)"
   ]
  },
  {
   "cell_type": "code",
   "execution_count": 16,
   "metadata": {},
   "outputs": [
    {
     "name": "stderr",
     "output_type": "stream",
     "text": [
      "C:\\Users\\ADMIN\\AppData\\Local\\Temp\\ipykernel_10528\\2549505823.py:4: RuntimeWarning: invalid value encountered in divide\n",
      "  audio_data = audio_data / np.max(np.abs(audio_data))  # Chuẩn hóa dữ liệu âm thanh về phạm vi từ -1 đến 1\n",
      "C:\\Users\\ADMIN\\AppData\\Local\\Temp\\ipykernel_10528\\1610263151.py:3: RuntimeWarning: invalid value encountered in cast\n",
      "  wavfile.write(output_file, sample_rate, np.array(audio_data * (2**15 - 1), dtype=np.int16))\n"
     ]
    }
   ],
   "source": [
    "process_folders(r'D:\\data_analysis\\speech_emotion_recognition\\data\\EnglishDataset\\cleaned_data', r'D:\\data_analysis\\speech_emotion_recognition\\data\\EnglishDataset\\normalized_data')"
   ]
  }
 ],
 "metadata": {
  "kernelspec": {
   "display_name": ".venv",
   "language": "python",
   "name": "python3"
  },
  "language_info": {
   "codemirror_mode": {
    "name": "ipython",
    "version": 3
   },
   "file_extension": ".py",
   "mimetype": "text/x-python",
   "name": "python",
   "nbconvert_exporter": "python",
   "pygments_lexer": "ipython3",
   "version": "3.11.9"
  }
 },
 "nbformat": 4,
 "nbformat_minor": 2
}
