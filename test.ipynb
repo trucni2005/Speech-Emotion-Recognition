{
 "cells": [
  {
   "cell_type": "code",
   "execution_count": 19,
   "metadata": {},
   "outputs": [
    {
     "name": "stdout",
     "output_type": "stream",
     "text": [
      "Recording...\n",
      "Recording finished.\n",
      "Audio saved to test.wav\n"
     ]
    }
   ],
   "source": [
    "import sounddevice as sd\n",
    "import wavio\n",
    "\n",
    "def record_audio(filename, duration, samplerate=44100):\n",
    "    print(\"Recording...\")\n",
    "    recording = sd.rec(int(duration * samplerate), samplerate=samplerate, channels=2)\n",
    "    sd.wait()\n",
    "    print(\"Recording finished.\")\n",
    "    wavio.write(filename, recording, samplerate, sampwidth=2)\n",
    "    print(f\"Audio saved to {filename}\")\n",
    "\n",
    "record_audio('test.wav', duration=10)\n"
   ]
  },
  {
   "cell_type": "code",
   "execution_count": 20,
   "metadata": {},
   "outputs": [
    {
     "data": {
      "text/plain": [
       "'./test.wav'"
      ]
     },
     "execution_count": 20,
     "metadata": {},
     "output_type": "execute_result"
    }
   ],
   "source": [
    "from modules.pre_processing.scripts.pre_processing_data import AudioDataPreProcessor\n",
    "import numpy as np\n",
    "from modules.extracting_feature.scripts.extract_statistic_features import StatisticFeatureExtraction\n",
    "audio_data_processor = AudioDataPreProcessor(\"./\", \"./\")\n",
    "audio_data_processor.process_file(\"test.wav\", './')\n"
   ]
  },
  {
   "cell_type": "code",
   "execution_count": 21,
   "metadata": {},
   "outputs": [],
   "source": [
    "statistic_feature_extractor = StatisticFeatureExtraction(26)\n",
    "features = statistic_feature_extractor._feature_engineering_for_file('test.wav')\n",
    "feature_arr = np.array(list(features.values())).reshape(1, -1)"
   ]
  },
  {
   "cell_type": "code",
   "execution_count": 22,
   "metadata": {},
   "outputs": [
    {
     "data": {
      "text/plain": [
       "array([[-4.73648773e+02,  1.09435361e+04, -2.61865204e+02,\n",
       "        -6.35029114e+02, -4.52641357e+02, -5.84783066e+02,\n",
       "        -3.83976616e+02,  3.73163910e+02, -2.44200632e-01,\n",
       "        -1.23798692e+00,  5.31747960e+07,  1.51727661e+02,\n",
       "         2.70947632e+03,  2.52443512e+02,  7.23837357e+01,\n",
       "         1.58725616e+02,  9.35849342e+01,  1.94682873e+02,\n",
       "         1.80059784e+02, -8.49626784e-04, -1.28684580e+00,\n",
       "         5.81515300e+06,  7.83324385e+00,  1.08773047e+03,\n",
       "         8.67350159e+01, -7.95908890e+01,  1.07277889e+01,\n",
       "        -1.46160710e+01,  2.69455237e+01,  1.66325897e+02,\n",
       "        -1.69113010e-01, -2.97439098e-02,  2.59694391e+05,\n",
       "        -8.63058949e+00,  8.45875488e+02,  4.06371651e+01,\n",
       "        -1.03748756e+02, -8.88125420e-01, -2.35766072e+01,\n",
       "         1.08146417e+01,  1.44385925e+02, -8.02585185e-01,\n",
       "         1.39176846e-01,  2.08001938e+05,  7.60221100e+00,\n",
       "         2.17695618e+02,  4.26838760e+01, -4.04512672e+01,\n",
       "         1.07618475e+01,  3.85809496e-01,  1.73855596e+01,\n",
       "         8.31351471e+01, -8.96977365e-01,  9.91311312e-01,\n",
       "         6.22605703e+04,  2.21292162e+00,  3.40800171e+02,\n",
       "         3.58139114e+01, -5.95464554e+01,  8.07777977e+00,\n",
       "        -5.71520972e+00,  1.52441597e+01,  9.53603668e+01,\n",
       "        -9.69110548e-01,  5.10026693e-01,  7.81275625e+04,\n",
       "        -4.98528242e+00,  1.74027512e+02,  3.68291130e+01,\n",
       "        -4.53048172e+01, -4.32385254e+00, -1.37240057e+01,\n",
       "         3.70804089e+00,  8.21339264e+01, -5.93667924e-02,\n",
       "         4.27039146e-01,  4.49470078e+04,  9.56314206e-01,\n",
       "         1.48454208e+02,  2.89796658e+01, -3.57567024e+01,\n",
       "         2.29420209e+00, -5.79072130e+00,  8.73546743e+00,\n",
       "         6.47363663e+01, -4.41548735e-01,  3.00543785e-01,\n",
       "         3.37573398e+04,  1.55368000e-01,  1.85958755e+02,\n",
       "         2.56058388e+01, -3.18386154e+01,  1.87363696e+00,\n",
       "        -8.28483176e+00,  1.10053461e+01,  5.74444542e+01,\n",
       "        -5.39402843e-01, -5.67207336e-01,  4.20321328e+04,\n",
       "         7.55498457e+00,  8.22405624e+01,  2.94790058e+01,\n",
       "        -2.31425438e+01,  8.11328030e+00,  2.09395480e+00,\n",
       "         1.32502174e+01,  5.26215515e+01, -2.31892124e-01,\n",
       "         1.37475252e-01,  3.14859492e+04, -6.01806974e+00,\n",
       "         1.14588928e+02,  1.91741714e+01, -3.40000992e+01,\n",
       "        -3.76715136e+00, -1.27128537e+01,  1.82533237e+00,\n",
       "         5.31742706e+01, -3.86173278e-01, -2.96392918e-01,\n",
       "         3.40821797e+04, -5.98464394e+00,  7.00226288e+01,\n",
       "         1.20320377e+01, -3.03425102e+01, -3.67973423e+00,\n",
       "        -1.11969976e+01,  3.62956680e-01,  4.23745499e+01,\n",
       "        -6.09810233e-01, -2.25152493e-01,  2.39195215e+04,\n",
       "         2.83966517e+00,  4.32667656e+01,  2.32780704e+01,\n",
       "        -1.31208210e+01,  2.88850737e+00, -7.26307198e-01,\n",
       "         6.35190511e+00,  3.63988914e+01,  1.30832255e-01,\n",
       "         4.42257881e-01,  1.16006836e+04,  1.00239861e+00,\n",
       "         8.00735245e+01,  3.22292862e+01, -2.84084110e+01,\n",
       "         1.91128159e+00, -2.90982783e+00,  5.86203313e+00,\n",
       "         6.06376953e+01, -1.93829373e-01,  1.93944216e+00,\n",
       "         1.83237051e+04,  2.91735268e+00,  8.86338959e+01,\n",
       "         4.42863388e+01, -2.72107391e+01,  2.17756224e+00,\n",
       "        -2.39265954e+00,  6.27543771e+00,  7.14970779e+01,\n",
       "         1.36555719e+00,  4.47090626e+00,  2.19547344e+04,\n",
       "         4.03640091e-01,  1.04891022e+02,  5.43403625e+01,\n",
       "        -2.03976746e+01,  1.93124220e-01, -5.47094369e+00,\n",
       "         4.62948310e+00,  7.47380371e+01,  1.57315099e+00,\n",
       "         5.84721279e+00,  2.37421914e+04,  3.82921195e+00,\n",
       "         1.29397018e+02,  6.14624786e+01, -2.11868458e+01,\n",
       "         2.65011334e+00, -1.67396921e+00,  5.83070409e+00,\n",
       "         8.26493225e+01,  1.96993899e+00,  6.09815407e+00,\n",
       "         3.25575332e+04,  1.97915912e+00,  1.44666412e+02,\n",
       "         5.03467789e+01, -2.02227039e+01,  1.65278757e+00,\n",
       "        -7.06623256e+00,  6.36435509e+00,  7.05694809e+01,\n",
       "         1.11479497e+00,  1.91813183e+00,  3.35798711e+04,\n",
       "         2.83092666e+00,  2.06795151e+02,  5.37141037e+01,\n",
       "        -3.05812378e+01,  2.01704359e+00, -6.35064030e+00,\n",
       "         7.53915668e+00,  8.42953415e+01,  8.84510279e-01,\n",
       "         9.25580263e-01,  4.85469023e+04,  1.12751245e+01,\n",
       "         3.25708252e+02,  7.49593582e+01, -3.53924942e+01,\n",
       "         7.37296343e+00,  1.29129717e+00,  1.51293497e+01,\n",
       "         1.10351852e+02,  1.19526422e+00,  1.82073545e+00,\n",
       "         1.02341094e+05,  8.06808662e+00,  2.63708374e+02,\n",
       "         6.28212357e+01, -3.51644554e+01,  5.88061142e+00,\n",
       "        -7.11647235e-02,  1.35165396e+01,  9.79856873e+01,\n",
       "         8.72248054e-01,  1.64563704e+00,  7.43093438e+04,\n",
       "         3.79508948e+00,  1.42256470e+02,  5.45664825e+01,\n",
       "        -1.97986374e+01,  2.20665407e+00, -3.63485974e+00,\n",
       "         6.57761633e+00,  7.43651199e+01,  1.49279404e+00,\n",
       "         3.17554235e+00,  3.54049727e+04, -2.81380177e+00,\n",
       "         1.39184265e+02,  4.10311127e+01, -3.62795944e+01,\n",
       "        -5.88858247e-01, -1.06887181e+01,  3.44681823e+00,\n",
       "         7.73107071e+01,  4.86147664e-02,  1.22151947e+00,\n",
       "         3.32449922e+04, -2.41680443e-01,  9.16953506e+01,\n",
       "         3.26554184e+01, -2.37014503e+01,  7.95452476e-01,\n",
       "        -5.50021410e+00,  4.92599642e+00,  5.63568687e+01,\n",
       "         1.97746083e-01,  1.36715174e+00,  2.07363477e+04,\n",
       "         7.57261276e-01,  7.59895935e+01,  3.46747437e+01,\n",
       "        -2.27485123e+01,  1.03312349e+00, -3.28423923e+00,\n",
       "         4.72113490e+00,  5.74232559e+01,  3.99991512e-01,\n",
       "         2.11109114e+00,  1.73032461e+04, -2.49868073e-02,\n",
       "         1.29754303e+02,  4.93464966e+01, -3.55659294e+01,\n",
       "         1.06615376e+00, -4.00217289e+00,  4.60580635e+00,\n",
       "         8.49124298e+01, -1.12738580e-01,  2.74966192e+00,\n",
       "         2.93246152e+04,  4.91154764e-02,  4.74751238e-04,\n",
       "         1.09863281e-01,  9.27734375e-03,  4.39453125e-02,\n",
       "         3.52783203e-02,  4.39453125e-02,  6.04248047e-02,\n",
       "         2.41058625e+02,  1.21640286e+04,  4.50284512e+02,\n",
       "         6.54063913e+01,  2.55650029e+02,  1.91521124e+02,\n",
       "         2.55650029e+02,  3.22098853e+02,  1.94019694e-02,\n",
       "         2.67049414e-04,  6.41778558e-02,  4.88718797e-04,\n",
       "         1.71110258e-02,  3.01518932e-03,  1.71110258e-02,\n",
       "         3.23465578e-02]])"
      ]
     },
     "execution_count": 22,
     "metadata": {},
     "output_type": "execute_result"
    }
   ],
   "source": [
    "feature_arr"
   ]
  },
  {
   "cell_type": "code",
   "execution_count": 23,
   "metadata": {},
   "outputs": [],
   "source": [
    "import joblib\n",
    "def load_scaler(scaler_file):\n",
    "  return joblib.load(scaler_file) \n",
    "\n",
    "scaler = load_scaler(\"models/scaler_fine_tuned_cnn_model_using_feature_statistics_with_26_n_mfcc.pkl\")"
   ]
  },
  {
   "cell_type": "code",
   "execution_count": 24,
   "metadata": {},
   "outputs": [
    {
     "name": "stderr",
     "output_type": "stream",
     "text": [
      "d:\\data_analysis\\speech_emotion_recognition\\.venv\\Lib\\site-packages\\sklearn\\base.py:493: UserWarning: X does not have valid feature names, but StandardScaler was fitted with feature names\n",
      "  warnings.warn(\n"
     ]
    }
   ],
   "source": [
    "scaled_arr = scaler.transform(feature_arr)"
   ]
  },
  {
   "cell_type": "code",
   "execution_count": 25,
   "metadata": {},
   "outputs": [],
   "source": [
    "import numpy as np\n",
    "import tensorflow as tf\n",
    "from tensorflow.keras.models import load_model\n",
    "from tensorflow.keras.preprocessing import image\n",
    "\n",
    "model_path = 'models/fine_tuned_model_using_feature_statistics_with_26_n_mfccs.keras'\n",
    "model = load_model(model_path)"
   ]
  },
  {
   "cell_type": "code",
   "execution_count": 26,
   "metadata": {},
   "outputs": [],
   "source": [
    "from sklearn.preprocessing import StandardScaler"
   ]
  },
  {
   "cell_type": "code",
   "execution_count": 27,
   "metadata": {},
   "outputs": [],
   "source": [
    "scaled_arr = np.expand_dims(scaled_arr, axis=2)"
   ]
  },
  {
   "cell_type": "code",
   "execution_count": 28,
   "metadata": {},
   "outputs": [
    {
     "data": {
      "text/plain": [
       "(1, 310, 1)"
      ]
     },
     "execution_count": 28,
     "metadata": {},
     "output_type": "execute_result"
    }
   ],
   "source": [
    "scaled_arr.shape"
   ]
  },
  {
   "cell_type": "code",
   "execution_count": 29,
   "metadata": {},
   "outputs": [
    {
     "data": {
      "text/plain": [
       "array([[[-1.63580532],\n",
       "        [-0.91754304],\n",
       "        [-2.09567821],\n",
       "        [-0.69873507],\n",
       "        [-1.7926423 ],\n",
       "        [-0.79912875],\n",
       "        [-2.20051792],\n",
       "        [-0.53726041],\n",
       "        [ 0.24315972],\n",
       "        [-0.33326038],\n",
       "        [ 9.29495906],\n",
       "        [ 2.00698314],\n",
       "        [ 0.47807849],\n",
       "        [ 2.54942541],\n",
       "        [ 2.1896117 ],\n",
       "        [ 1.77413462],\n",
       "        [ 1.06889205],\n",
       "        [ 2.12980129],\n",
       "        [ 1.15454618],\n",
       "        [ 0.42707388],\n",
       "        [-0.46198303],\n",
       "        [11.28256214],\n",
       "        [ 0.98908644],\n",
       "        [ 0.92213041],\n",
       "        [ 2.55967668],\n",
       "        [-0.26303518],\n",
       "        [ 0.97764728],\n",
       "        [ 0.49419986],\n",
       "        [ 1.25484298],\n",
       "        [ 2.06607009],\n",
       "        [ 0.46559603],\n",
       "        [-0.05318571],\n",
       "        [ 3.25361857],\n",
       "        [-1.18301363],\n",
       "        [ 2.03789542],\n",
       "        [-0.48218398],\n",
       "        [-3.76378132],\n",
       "        [-0.49523182],\n",
       "        [-1.27662718],\n",
       "        [-0.50755729],\n",
       "        [ 3.06491618],\n",
       "        [-1.46184231],\n",
       "        [ 0.08876439],\n",
       "        [ 6.51584432],\n",
       "        [ 1.69804037],\n",
       "        [-0.15621335],\n",
       "        [ 2.3907392 ],\n",
       "        [ 0.37709382],\n",
       "        [ 1.63241401],\n",
       "        [ 1.409908  ],\n",
       "        [ 2.04381679],\n",
       "        [ 1.12132073],\n",
       "        [-0.56419188],\n",
       "        [ 0.68922965],\n",
       "        [ 1.36154688],\n",
       "        [ 0.80318633],\n",
       "        [ 1.05971288],\n",
       "        [ 1.14823995],\n",
       "        [-1.43783601],\n",
       "        [ 1.34426927],\n",
       "        [ 0.62732886],\n",
       "        [ 1.52194087],\n",
       "        [ 2.64923309],\n",
       "        [-1.07164968],\n",
       "        [ 0.38802179],\n",
       "        [ 2.66884085],\n",
       "        [ 0.20078195],\n",
       "        [ 0.44129947],\n",
       "        [ 2.17292204],\n",
       "        [-0.978935  ],\n",
       "        [ 0.0849784 ],\n",
       "        [-0.04061245],\n",
       "        [ 0.51689486],\n",
       "        [ 2.52351174],\n",
       "        [ 0.41492715],\n",
       "        [ 0.28317798],\n",
       "        [ 2.50713739],\n",
       "        [ 0.84966958],\n",
       "        [ 0.29467494],\n",
       "        [ 1.09763087],\n",
       "        [-0.48493005],\n",
       "        [ 0.86973975],\n",
       "        [ 0.65131028],\n",
       "        [ 1.15508356],\n",
       "        [ 1.35405573],\n",
       "        [-0.33134638],\n",
       "        [ 0.1196851 ],\n",
       "        [ 2.35035303],\n",
       "        [ 0.6490328 ],\n",
       "        [ 1.65119193],\n",
       "        [ 1.06006871],\n",
       "        [-0.46586341],\n",
       "        [ 0.80506499],\n",
       "        [ 0.19676713],\n",
       "        [ 1.64938406],\n",
       "        [ 1.48998515],\n",
       "        [-0.53191911],\n",
       "        [-0.68587299],\n",
       "        [ 3.78076598],\n",
       "        [ 1.72686763],\n",
       "        [ 0.01698854],\n",
       "        [ 1.37946848],\n",
       "        [-0.03755651],\n",
       "        [ 1.8729244 ],\n",
       "        [ 1.40534511],\n",
       "        [ 1.87642667],\n",
       "        [ 1.40911182],\n",
       "        [-0.15850074],\n",
       "        [-0.06938856],\n",
       "        [ 3.68529725],\n",
       "        [-0.86724231],\n",
       "        [ 1.25302971],\n",
       "        [ 0.55170659],\n",
       "        [-1.67122703],\n",
       "        [-0.57098031],\n",
       "        [-1.07121786],\n",
       "        [-0.11127449],\n",
       "        [ 1.76797714],\n",
       "        [-0.37607867],\n",
       "        [-0.5086984 ],\n",
       "        [ 7.41524334],\n",
       "        [-0.50552251],\n",
       "        [ 0.08330662],\n",
       "        [-0.14738679],\n",
       "        [-1.11341476],\n",
       "        [-0.16320365],\n",
       "        [-0.46452313],\n",
       "        [-0.1871602 ],\n",
       "        [ 0.67408851],\n",
       "        [-0.6546968 ],\n",
       "        [-0.38538782],\n",
       "        [ 3.26109033],\n",
       "        [ 1.55099618],\n",
       "        [-0.42884922],\n",
       "        [ 1.14551427],\n",
       "        [ 1.02570022],\n",
       "        [ 1.42221464],\n",
       "        [ 1.31520524],\n",
       "        [ 1.57436205],\n",
       "        [ 0.19274725],\n",
       "        [ 0.49977312],\n",
       "        [ 0.0203366 ],\n",
       "        [ 1.62565364],\n",
       "        [ 0.5797516 ],\n",
       "        [ 0.27054684],\n",
       "        [ 1.76657593],\n",
       "        [-0.92863894],\n",
       "        [ 0.68667215],\n",
       "        [ 0.57032722],\n",
       "        [ 0.67321242],\n",
       "        [ 2.31821354],\n",
       "        [-0.19306797],\n",
       "        [ 1.36389972],\n",
       "        [ 1.47058195],\n",
       "        [ 1.7577177 ],\n",
       "        [ 0.59401929],\n",
       "        [ 3.12219596],\n",
       "        [-0.83557402],\n",
       "        [ 1.37483999],\n",
       "        [ 1.29224978],\n",
       "        [ 1.58962594],\n",
       "        [ 3.14231957],\n",
       "        [ 2.28432688],\n",
       "        [ 3.38150971],\n",
       "        [ 3.622154  ],\n",
       "        [ 0.95640631],\n",
       "        [ 0.8535573 ],\n",
       "        [ 3.77008056],\n",
       "        [ 0.11217845],\n",
       "        [ 0.76061842],\n",
       "        [ 0.53653178],\n",
       "        [ 0.9929738 ],\n",
       "        [ 3.20683346],\n",
       "        [ 2.23558897],\n",
       "        [ 3.28176026],\n",
       "        [ 3.6252937 ],\n",
       "        [ 1.43079627],\n",
       "        [ 0.87776957],\n",
       "        [ 3.37631376],\n",
       "        [-0.37068367],\n",
       "        [ 1.23761945],\n",
       "        [ 1.00099111],\n",
       "        [ 0.7723849 ],\n",
       "        [ 2.96163624],\n",
       "        [ 2.2565376 ],\n",
       "        [ 3.00989626],\n",
       "        [ 4.85225357],\n",
       "        [ 1.15993909],\n",
       "        [ 0.84079813],\n",
       "        [ 2.47886503],\n",
       "        [ 0.11341145],\n",
       "        [ 1.1188543 ],\n",
       "        [ 0.24533023],\n",
       "        [ 0.91382245],\n",
       "        [ 2.04558239],\n",
       "        [ 1.47248853],\n",
       "        [ 1.06431336],\n",
       "        [ 4.32084521],\n",
       "        [ 1.19684335],\n",
       "        [ 1.79806952],\n",
       "        [ 2.62660429],\n",
       "        [-1.72463587],\n",
       "        [ 1.20011386],\n",
       "        [ 0.21509817],\n",
       "        [ 0.96722945],\n",
       "        [ 2.94130181],\n",
       "        [ 1.07702221],\n",
       "        [ 0.30949595],\n",
       "        [ 7.56160246],\n",
       "        [ 2.98018146],\n",
       "        [ 3.30600726],\n",
       "        [ 3.90333185],\n",
       "        [-2.24003044],\n",
       "        [ 2.63005714],\n",
       "        [ 1.7482195 ],\n",
       "        [ 2.21164018],\n",
       "        [ 4.08662382],\n",
       "        [ 1.37450569],\n",
       "        [ 0.92891169],\n",
       "        [16.21955508],\n",
       "        [ 2.1822825 ],\n",
       "        [ 2.26292574],\n",
       "        [ 2.9688942 ],\n",
       "        [-2.07001637],\n",
       "        [ 1.94641115],\n",
       "        [ 1.45488601],\n",
       "        [ 1.96718532],\n",
       "        [ 3.28039241],\n",
       "        [ 0.93651442],\n",
       "        [ 0.57428161],\n",
       "        [11.40435725],\n",
       "        [ 1.14309785],\n",
       "        [ 0.77489034],\n",
       "        [ 2.48014968],\n",
       "        [-0.23889126],\n",
       "        [ 1.02769145],\n",
       "        [ 0.5786109 ],\n",
       "        [ 0.56132015],\n",
       "        [ 2.13605692],\n",
       "        [ 1.68622422],\n",
       "        [ 1.8549273 ],\n",
       "        [ 5.11058609],\n",
       "        [-0.49638693],\n",
       "        [ 0.82730751],\n",
       "        [ 1.57239233],\n",
       "        [-2.32114168],\n",
       "        [ 0.18308961],\n",
       "        [-1.18582944],\n",
       "        [ 0.03952657],\n",
       "        [ 2.33328789],\n",
       "        [-0.21337698],\n",
       "        [ 0.32402253],\n",
       "        [ 5.4925145 ],\n",
       "        [ 0.0397576 ],\n",
       "        [ 0.22809868],\n",
       "        [ 0.9017177 ],\n",
       "        [-0.84707847],\n",
       "        [ 0.49724753],\n",
       "        [-0.13925271],\n",
       "        [ 0.29552314],\n",
       "        [ 1.08869451],\n",
       "        [-0.10541533],\n",
       "        [ 0.41668834],\n",
       "        [ 2.95033974],\n",
       "        [ 0.36871621],\n",
       "        [ 0.01857689],\n",
       "        [ 1.17717416],\n",
       "        [-0.69835245],\n",
       "        [ 0.67460335],\n",
       "        [ 0.49271401],\n",
       "        [ 0.28481023],\n",
       "        [ 1.32493579],\n",
       "        [ 0.21569861],\n",
       "        [ 0.99629845],\n",
       "        [ 2.45602548],\n",
       "        [ 0.14218312],\n",
       "        [ 1.03072252],\n",
       "        [ 2.45604622],\n",
       "        [-2.57335756],\n",
       "        [ 0.67175644],\n",
       "        [ 0.26977106],\n",
       "        [ 0.29881742],\n",
       "        [ 3.32810944],\n",
       "        [-0.43708385],\n",
       "        [ 1.19434337],\n",
       "        [ 5.61213606],\n",
       "        [-0.68692306],\n",
       "        [-0.71273491],\n",
       "        [-0.84140759],\n",
       "        [-0.1241817 ],\n",
       "        [-0.78395488],\n",
       "        [ 0.04919641],\n",
       "        [-0.78395488],\n",
       "        [-0.89467298],\n",
       "        [ 0.08933115],\n",
       "        [ 2.77275111],\n",
       "        [ 1.06835452],\n",
       "        [-1.17052487],\n",
       "        [ 0.26304919],\n",
       "        [-0.11411296],\n",
       "        [ 0.26304919],\n",
       "        [ 0.62125181],\n",
       "        [-0.89721689],\n",
       "        [-0.44592455],\n",
       "        [-0.8924469 ],\n",
       "        [-0.43086727],\n",
       "        [-0.80354253],\n",
       "        [-0.53915836],\n",
       "        [-0.80354253],\n",
       "        [-0.87935268]]])"
      ]
     },
     "execution_count": 29,
     "metadata": {},
     "output_type": "execute_result"
    }
   ],
   "source": [
    "scaled_arr"
   ]
  },
  {
   "cell_type": "code",
   "execution_count": 30,
   "metadata": {},
   "outputs": [
    {
     "data": {
      "text/html": [
       "<pre style=\"white-space:pre;overflow-x:auto;line-height:normal;font-family:Menlo,'DejaVu Sans Mono',consolas,'Courier New',monospace\"><span style=\"font-weight: bold\">Model: \"sequential_4\"</span>\n",
       "</pre>\n"
      ],
      "text/plain": [
       "\u001b[1mModel: \"sequential_4\"\u001b[0m\n"
      ]
     },
     "metadata": {},
     "output_type": "display_data"
    },
    {
     "data": {
      "text/html": [
       "<pre style=\"white-space:pre;overflow-x:auto;line-height:normal;font-family:Menlo,'DejaVu Sans Mono',consolas,'Courier New',monospace\">┏━━━━━━━━━━━━━━━━━━━━━━━━━━━━━━━━━┳━━━━━━━━━━━━━━━━━━━━━━━━┳━━━━━━━━━━━━━━━┓\n",
       "┃<span style=\"font-weight: bold\"> Layer (type)                    </span>┃<span style=\"font-weight: bold\"> Output Shape           </span>┃<span style=\"font-weight: bold\">       Param # </span>┃\n",
       "┡━━━━━━━━━━━━━━━━━━━━━━━━━━━━━━━━━╇━━━━━━━━━━━━━━━━━━━━━━━━╇━━━━━━━━━━━━━━━┩\n",
       "│ conv1d_16 (<span style=\"color: #0087ff; text-decoration-color: #0087ff\">Conv1D</span>)              │ (<span style=\"color: #00d7ff; text-decoration-color: #00d7ff\">None</span>, <span style=\"color: #00af00; text-decoration-color: #00af00\">310</span>, <span style=\"color: #00af00; text-decoration-color: #00af00\">128</span>)       │           <span style=\"color: #00af00; text-decoration-color: #00af00\">512</span> │\n",
       "├─────────────────────────────────┼────────────────────────┼───────────────┤\n",
       "│ batch_normalization_20          │ (<span style=\"color: #00d7ff; text-decoration-color: #00d7ff\">None</span>, <span style=\"color: #00af00; text-decoration-color: #00af00\">310</span>, <span style=\"color: #00af00; text-decoration-color: #00af00\">128</span>)       │           <span style=\"color: #00af00; text-decoration-color: #00af00\">512</span> │\n",
       "│ (<span style=\"color: #0087ff; text-decoration-color: #0087ff\">BatchNormalization</span>)            │                        │               │\n",
       "├─────────────────────────────────┼────────────────────────┼───────────────┤\n",
       "│ conv1d_17 (<span style=\"color: #0087ff; text-decoration-color: #0087ff\">Conv1D</span>)              │ (<span style=\"color: #00d7ff; text-decoration-color: #00d7ff\">None</span>, <span style=\"color: #00af00; text-decoration-color: #00af00\">310</span>, <span style=\"color: #00af00; text-decoration-color: #00af00\">128</span>)       │        <span style=\"color: #00af00; text-decoration-color: #00af00\">49,280</span> │\n",
       "├─────────────────────────────────┼────────────────────────┼───────────────┤\n",
       "│ batch_normalization_21          │ (<span style=\"color: #00d7ff; text-decoration-color: #00d7ff\">None</span>, <span style=\"color: #00af00; text-decoration-color: #00af00\">310</span>, <span style=\"color: #00af00; text-decoration-color: #00af00\">128</span>)       │           <span style=\"color: #00af00; text-decoration-color: #00af00\">512</span> │\n",
       "│ (<span style=\"color: #0087ff; text-decoration-color: #0087ff\">BatchNormalization</span>)            │                        │               │\n",
       "├─────────────────────────────────┼────────────────────────┼───────────────┤\n",
       "│ max_pooling1d_8 (<span style=\"color: #0087ff; text-decoration-color: #0087ff\">MaxPooling1D</span>)  │ (<span style=\"color: #00d7ff; text-decoration-color: #00d7ff\">None</span>, <span style=\"color: #00af00; text-decoration-color: #00af00\">155</span>, <span style=\"color: #00af00; text-decoration-color: #00af00\">128</span>)       │             <span style=\"color: #00af00; text-decoration-color: #00af00\">0</span> │\n",
       "├─────────────────────────────────┼────────────────────────┼───────────────┤\n",
       "│ dropout_12 (<span style=\"color: #0087ff; text-decoration-color: #0087ff\">Dropout</span>)            │ (<span style=\"color: #00d7ff; text-decoration-color: #00d7ff\">None</span>, <span style=\"color: #00af00; text-decoration-color: #00af00\">155</span>, <span style=\"color: #00af00; text-decoration-color: #00af00\">128</span>)       │             <span style=\"color: #00af00; text-decoration-color: #00af00\">0</span> │\n",
       "├─────────────────────────────────┼────────────────────────┼───────────────┤\n",
       "│ conv1d_18 (<span style=\"color: #0087ff; text-decoration-color: #0087ff\">Conv1D</span>)              │ (<span style=\"color: #00d7ff; text-decoration-color: #00d7ff\">None</span>, <span style=\"color: #00af00; text-decoration-color: #00af00\">155</span>, <span style=\"color: #00af00; text-decoration-color: #00af00\">64</span>)        │        <span style=\"color: #00af00; text-decoration-color: #00af00\">24,640</span> │\n",
       "├─────────────────────────────────┼────────────────────────┼───────────────┤\n",
       "│ batch_normalization_22          │ (<span style=\"color: #00d7ff; text-decoration-color: #00d7ff\">None</span>, <span style=\"color: #00af00; text-decoration-color: #00af00\">155</span>, <span style=\"color: #00af00; text-decoration-color: #00af00\">64</span>)        │           <span style=\"color: #00af00; text-decoration-color: #00af00\">256</span> │\n",
       "│ (<span style=\"color: #0087ff; text-decoration-color: #0087ff\">BatchNormalization</span>)            │                        │               │\n",
       "├─────────────────────────────────┼────────────────────────┼───────────────┤\n",
       "│ conv1d_19 (<span style=\"color: #0087ff; text-decoration-color: #0087ff\">Conv1D</span>)              │ (<span style=\"color: #00d7ff; text-decoration-color: #00d7ff\">None</span>, <span style=\"color: #00af00; text-decoration-color: #00af00\">155</span>, <span style=\"color: #00af00; text-decoration-color: #00af00\">64</span>)        │        <span style=\"color: #00af00; text-decoration-color: #00af00\">12,352</span> │\n",
       "├─────────────────────────────────┼────────────────────────┼───────────────┤\n",
       "│ batch_normalization_23          │ (<span style=\"color: #00d7ff; text-decoration-color: #00d7ff\">None</span>, <span style=\"color: #00af00; text-decoration-color: #00af00\">155</span>, <span style=\"color: #00af00; text-decoration-color: #00af00\">64</span>)        │           <span style=\"color: #00af00; text-decoration-color: #00af00\">256</span> │\n",
       "│ (<span style=\"color: #0087ff; text-decoration-color: #0087ff\">BatchNormalization</span>)            │                        │               │\n",
       "├─────────────────────────────────┼────────────────────────┼───────────────┤\n",
       "│ max_pooling1d_9 (<span style=\"color: #0087ff; text-decoration-color: #0087ff\">MaxPooling1D</span>)  │ (<span style=\"color: #00d7ff; text-decoration-color: #00d7ff\">None</span>, <span style=\"color: #00af00; text-decoration-color: #00af00\">78</span>, <span style=\"color: #00af00; text-decoration-color: #00af00\">64</span>)         │             <span style=\"color: #00af00; text-decoration-color: #00af00\">0</span> │\n",
       "├─────────────────────────────────┼────────────────────────┼───────────────┤\n",
       "│ dropout_13 (<span style=\"color: #0087ff; text-decoration-color: #0087ff\">Dropout</span>)            │ (<span style=\"color: #00d7ff; text-decoration-color: #00d7ff\">None</span>, <span style=\"color: #00af00; text-decoration-color: #00af00\">78</span>, <span style=\"color: #00af00; text-decoration-color: #00af00\">64</span>)         │             <span style=\"color: #00af00; text-decoration-color: #00af00\">0</span> │\n",
       "├─────────────────────────────────┼────────────────────────┼───────────────┤\n",
       "│ flatten_4 (<span style=\"color: #0087ff; text-decoration-color: #0087ff\">Flatten</span>)             │ (<span style=\"color: #00d7ff; text-decoration-color: #00d7ff\">None</span>, <span style=\"color: #00af00; text-decoration-color: #00af00\">4992</span>)           │             <span style=\"color: #00af00; text-decoration-color: #00af00\">0</span> │\n",
       "├─────────────────────────────────┼────────────────────────┼───────────────┤\n",
       "│ dense_8 (<span style=\"color: #0087ff; text-decoration-color: #0087ff\">Dense</span>)                 │ (<span style=\"color: #00d7ff; text-decoration-color: #00d7ff\">None</span>, <span style=\"color: #00af00; text-decoration-color: #00af00\">256</span>)            │     <span style=\"color: #00af00; text-decoration-color: #00af00\">1,278,208</span> │\n",
       "├─────────────────────────────────┼────────────────────────┼───────────────┤\n",
       "│ batch_normalization_24          │ (<span style=\"color: #00d7ff; text-decoration-color: #00d7ff\">None</span>, <span style=\"color: #00af00; text-decoration-color: #00af00\">256</span>)            │         <span style=\"color: #00af00; text-decoration-color: #00af00\">1,024</span> │\n",
       "│ (<span style=\"color: #0087ff; text-decoration-color: #0087ff\">BatchNormalization</span>)            │                        │               │\n",
       "├─────────────────────────────────┼────────────────────────┼───────────────┤\n",
       "│ dropout_14 (<span style=\"color: #0087ff; text-decoration-color: #0087ff\">Dropout</span>)            │ (<span style=\"color: #00d7ff; text-decoration-color: #00d7ff\">None</span>, <span style=\"color: #00af00; text-decoration-color: #00af00\">256</span>)            │             <span style=\"color: #00af00; text-decoration-color: #00af00\">0</span> │\n",
       "├─────────────────────────────────┼────────────────────────┼───────────────┤\n",
       "│ dense_9 (<span style=\"color: #0087ff; text-decoration-color: #0087ff\">Dense</span>)                 │ (<span style=\"color: #00d7ff; text-decoration-color: #00d7ff\">None</span>, <span style=\"color: #00af00; text-decoration-color: #00af00\">7</span>)              │         <span style=\"color: #00af00; text-decoration-color: #00af00\">1,799</span> │\n",
       "└─────────────────────────────────┴────────────────────────┴───────────────┘\n",
       "</pre>\n"
      ],
      "text/plain": [
       "┏━━━━━━━━━━━━━━━━━━━━━━━━━━━━━━━━━┳━━━━━━━━━━━━━━━━━━━━━━━━┳━━━━━━━━━━━━━━━┓\n",
       "┃\u001b[1m \u001b[0m\u001b[1mLayer (type)                   \u001b[0m\u001b[1m \u001b[0m┃\u001b[1m \u001b[0m\u001b[1mOutput Shape          \u001b[0m\u001b[1m \u001b[0m┃\u001b[1m \u001b[0m\u001b[1m      Param #\u001b[0m\u001b[1m \u001b[0m┃\n",
       "┡━━━━━━━━━━━━━━━━━━━━━━━━━━━━━━━━━╇━━━━━━━━━━━━━━━━━━━━━━━━╇━━━━━━━━━━━━━━━┩\n",
       "│ conv1d_16 (\u001b[38;5;33mConv1D\u001b[0m)              │ (\u001b[38;5;45mNone\u001b[0m, \u001b[38;5;34m310\u001b[0m, \u001b[38;5;34m128\u001b[0m)       │           \u001b[38;5;34m512\u001b[0m │\n",
       "├─────────────────────────────────┼────────────────────────┼───────────────┤\n",
       "│ batch_normalization_20          │ (\u001b[38;5;45mNone\u001b[0m, \u001b[38;5;34m310\u001b[0m, \u001b[38;5;34m128\u001b[0m)       │           \u001b[38;5;34m512\u001b[0m │\n",
       "│ (\u001b[38;5;33mBatchNormalization\u001b[0m)            │                        │               │\n",
       "├─────────────────────────────────┼────────────────────────┼───────────────┤\n",
       "│ conv1d_17 (\u001b[38;5;33mConv1D\u001b[0m)              │ (\u001b[38;5;45mNone\u001b[0m, \u001b[38;5;34m310\u001b[0m, \u001b[38;5;34m128\u001b[0m)       │        \u001b[38;5;34m49,280\u001b[0m │\n",
       "├─────────────────────────────────┼────────────────────────┼───────────────┤\n",
       "│ batch_normalization_21          │ (\u001b[38;5;45mNone\u001b[0m, \u001b[38;5;34m310\u001b[0m, \u001b[38;5;34m128\u001b[0m)       │           \u001b[38;5;34m512\u001b[0m │\n",
       "│ (\u001b[38;5;33mBatchNormalization\u001b[0m)            │                        │               │\n",
       "├─────────────────────────────────┼────────────────────────┼───────────────┤\n",
       "│ max_pooling1d_8 (\u001b[38;5;33mMaxPooling1D\u001b[0m)  │ (\u001b[38;5;45mNone\u001b[0m, \u001b[38;5;34m155\u001b[0m, \u001b[38;5;34m128\u001b[0m)       │             \u001b[38;5;34m0\u001b[0m │\n",
       "├─────────────────────────────────┼────────────────────────┼───────────────┤\n",
       "│ dropout_12 (\u001b[38;5;33mDropout\u001b[0m)            │ (\u001b[38;5;45mNone\u001b[0m, \u001b[38;5;34m155\u001b[0m, \u001b[38;5;34m128\u001b[0m)       │             \u001b[38;5;34m0\u001b[0m │\n",
       "├─────────────────────────────────┼────────────────────────┼───────────────┤\n",
       "│ conv1d_18 (\u001b[38;5;33mConv1D\u001b[0m)              │ (\u001b[38;5;45mNone\u001b[0m, \u001b[38;5;34m155\u001b[0m, \u001b[38;5;34m64\u001b[0m)        │        \u001b[38;5;34m24,640\u001b[0m │\n",
       "├─────────────────────────────────┼────────────────────────┼───────────────┤\n",
       "│ batch_normalization_22          │ (\u001b[38;5;45mNone\u001b[0m, \u001b[38;5;34m155\u001b[0m, \u001b[38;5;34m64\u001b[0m)        │           \u001b[38;5;34m256\u001b[0m │\n",
       "│ (\u001b[38;5;33mBatchNormalization\u001b[0m)            │                        │               │\n",
       "├─────────────────────────────────┼────────────────────────┼───────────────┤\n",
       "│ conv1d_19 (\u001b[38;5;33mConv1D\u001b[0m)              │ (\u001b[38;5;45mNone\u001b[0m, \u001b[38;5;34m155\u001b[0m, \u001b[38;5;34m64\u001b[0m)        │        \u001b[38;5;34m12,352\u001b[0m │\n",
       "├─────────────────────────────────┼────────────────────────┼───────────────┤\n",
       "│ batch_normalization_23          │ (\u001b[38;5;45mNone\u001b[0m, \u001b[38;5;34m155\u001b[0m, \u001b[38;5;34m64\u001b[0m)        │           \u001b[38;5;34m256\u001b[0m │\n",
       "│ (\u001b[38;5;33mBatchNormalization\u001b[0m)            │                        │               │\n",
       "├─────────────────────────────────┼────────────────────────┼───────────────┤\n",
       "│ max_pooling1d_9 (\u001b[38;5;33mMaxPooling1D\u001b[0m)  │ (\u001b[38;5;45mNone\u001b[0m, \u001b[38;5;34m78\u001b[0m, \u001b[38;5;34m64\u001b[0m)         │             \u001b[38;5;34m0\u001b[0m │\n",
       "├─────────────────────────────────┼────────────────────────┼───────────────┤\n",
       "│ dropout_13 (\u001b[38;5;33mDropout\u001b[0m)            │ (\u001b[38;5;45mNone\u001b[0m, \u001b[38;5;34m78\u001b[0m, \u001b[38;5;34m64\u001b[0m)         │             \u001b[38;5;34m0\u001b[0m │\n",
       "├─────────────────────────────────┼────────────────────────┼───────────────┤\n",
       "│ flatten_4 (\u001b[38;5;33mFlatten\u001b[0m)             │ (\u001b[38;5;45mNone\u001b[0m, \u001b[38;5;34m4992\u001b[0m)           │             \u001b[38;5;34m0\u001b[0m │\n",
       "├─────────────────────────────────┼────────────────────────┼───────────────┤\n",
       "│ dense_8 (\u001b[38;5;33mDense\u001b[0m)                 │ (\u001b[38;5;45mNone\u001b[0m, \u001b[38;5;34m256\u001b[0m)            │     \u001b[38;5;34m1,278,208\u001b[0m │\n",
       "├─────────────────────────────────┼────────────────────────┼───────────────┤\n",
       "│ batch_normalization_24          │ (\u001b[38;5;45mNone\u001b[0m, \u001b[38;5;34m256\u001b[0m)            │         \u001b[38;5;34m1,024\u001b[0m │\n",
       "│ (\u001b[38;5;33mBatchNormalization\u001b[0m)            │                        │               │\n",
       "├─────────────────────────────────┼────────────────────────┼───────────────┤\n",
       "│ dropout_14 (\u001b[38;5;33mDropout\u001b[0m)            │ (\u001b[38;5;45mNone\u001b[0m, \u001b[38;5;34m256\u001b[0m)            │             \u001b[38;5;34m0\u001b[0m │\n",
       "├─────────────────────────────────┼────────────────────────┼───────────────┤\n",
       "│ dense_9 (\u001b[38;5;33mDense\u001b[0m)                 │ (\u001b[38;5;45mNone\u001b[0m, \u001b[38;5;34m7\u001b[0m)              │         \u001b[38;5;34m1,799\u001b[0m │\n",
       "└─────────────────────────────────┴────────────────────────┴───────────────┘\n"
      ]
     },
     "metadata": {},
     "output_type": "display_data"
    },
    {
     "data": {
      "text/html": [
       "<pre style=\"white-space:pre;overflow-x:auto;line-height:normal;font-family:Menlo,'DejaVu Sans Mono',consolas,'Courier New',monospace\"><span style=\"font-weight: bold\"> Total params: </span><span style=\"color: #00af00; text-decoration-color: #00af00\">4,105,495</span> (15.66 MB)\n",
       "</pre>\n"
      ],
      "text/plain": [
       "\u001b[1m Total params: \u001b[0m\u001b[38;5;34m4,105,495\u001b[0m (15.66 MB)\n"
      ]
     },
     "metadata": {},
     "output_type": "display_data"
    },
    {
     "data": {
      "text/html": [
       "<pre style=\"white-space:pre;overflow-x:auto;line-height:normal;font-family:Menlo,'DejaVu Sans Mono',consolas,'Courier New',monospace\"><span style=\"font-weight: bold\"> Trainable params: </span><span style=\"color: #00af00; text-decoration-color: #00af00\">1,368,071</span> (5.22 MB)\n",
       "</pre>\n"
      ],
      "text/plain": [
       "\u001b[1m Trainable params: \u001b[0m\u001b[38;5;34m1,368,071\u001b[0m (5.22 MB)\n"
      ]
     },
     "metadata": {},
     "output_type": "display_data"
    },
    {
     "data": {
      "text/html": [
       "<pre style=\"white-space:pre;overflow-x:auto;line-height:normal;font-family:Menlo,'DejaVu Sans Mono',consolas,'Courier New',monospace\"><span style=\"font-weight: bold\"> Non-trainable params: </span><span style=\"color: #00af00; text-decoration-color: #00af00\">1,280</span> (5.00 KB)\n",
       "</pre>\n"
      ],
      "text/plain": [
       "\u001b[1m Non-trainable params: \u001b[0m\u001b[38;5;34m1,280\u001b[0m (5.00 KB)\n"
      ]
     },
     "metadata": {},
     "output_type": "display_data"
    },
    {
     "data": {
      "text/html": [
       "<pre style=\"white-space:pre;overflow-x:auto;line-height:normal;font-family:Menlo,'DejaVu Sans Mono',consolas,'Courier New',monospace\"><span style=\"font-weight: bold\"> Optimizer params: </span><span style=\"color: #00af00; text-decoration-color: #00af00\">2,736,144</span> (10.44 MB)\n",
       "</pre>\n"
      ],
      "text/plain": [
       "\u001b[1m Optimizer params: \u001b[0m\u001b[38;5;34m2,736,144\u001b[0m (10.44 MB)\n"
      ]
     },
     "metadata": {},
     "output_type": "display_data"
    }
   ],
   "source": [
    "model.summary()"
   ]
  },
  {
   "cell_type": "code",
   "execution_count": 31,
   "metadata": {},
   "outputs": [
    {
     "name": "stdout",
     "output_type": "stream",
     "text": [
      "\u001b[1m1/1\u001b[0m \u001b[32m━━━━━━━━━━━━━━━━━━━━\u001b[0m\u001b[37m\u001b[0m \u001b[1m0s\u001b[0m 106ms/step\n",
      "Emotion: Disgusted, Score: 0.9724\n",
      "Emotion: Sad, Score: 0.0143\n",
      "Emotion: Happy, Score: 0.0124\n"
     ]
    }
   ],
   "source": [
    "predictions = model.predict(scaled_arr)\n",
    "top_3_indices = np.argsort(predictions[0])[-3:][::-1]\n",
    "emotion_classes = ['Angry', 'Disgusted', 'Fearful', 'Happy', 'Neutral', 'Sad', 'Surprised']\n",
    "top_3_emotions = [(emotion_classes[i], predictions[0][i]) for i in top_3_indices]\n",
    "for emotion, score in top_3_emotions:\n",
    "    print(f'Emotion: {emotion}, Score: {score:.4f}')\n"
   ]
  }
 ],
 "metadata": {
  "kernelspec": {
   "display_name": ".venv",
   "language": "python",
   "name": "python3"
  },
  "language_info": {
   "codemirror_mode": {
    "name": "ipython",
    "version": 3
   },
   "file_extension": ".py",
   "mimetype": "text/x-python",
   "name": "python",
   "nbconvert_exporter": "python",
   "pygments_lexer": "ipython3",
   "version": "3.11.9"
  }
 },
 "nbformat": 4,
 "nbformat_minor": 2
}
