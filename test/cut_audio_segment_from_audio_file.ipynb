{
 "cells": [
  {
   "cell_type": "code",
   "execution_count": 1,
   "metadata": {},
   "outputs": [],
   "source": [
    "import numpy as np\n",
    "import librosa\n",
    "import matplotlib.pyplot as plt\n",
    "import os\n",
    "from scipy.misc import derivative\n",
    "import soundfile as sf"
   ]
  },
  {
   "cell_type": "code",
   "execution_count": 2,
   "metadata": {},
   "outputs": [],
   "source": [
    "def read_wav_file(file_path):\n",
    "    \"\"\"\n",
    "    Đọc tệp WAV và trả về dữ liệu âm thanh (y) và tốc độ lấy mẫu (fs).\n",
    "    \"\"\"\n",
    "    y, fs = librosa.load(file_path)\n",
    "    return y, fs"
   ]
  },
  {
   "cell_type": "code",
   "execution_count": 3,
   "metadata": {},
   "outputs": [],
   "source": [
    "def calculate_ste(y, frame_size=256, hop_size=128):\n",
    "    \"\"\"\n",
    "    Tính toán năng lượng theo thời gian ngắn (STE) của tín hiệu âm thanh.\n",
    "\n",
    "    Parameters:\n",
    "        y (numpy.ndarray): Tín hiệu âm thanh.\n",
    "        frame_size (int): Kích thước của khung.\n",
    "        hop_size (int): Kích thước của bước nhảy.\n",
    "\n",
    "    Returns:\n",
    "        numpy.ndarray: Mảng STE.\n",
    "    \"\"\"\n",
    "    num_frames = len(y) - frame_size + hop_size\n",
    "    num_frames = num_frames // hop_size\n",
    "    ste = np.zeros(num_frames)\n",
    "    \n",
    "    for i in range(num_frames):\n",
    "        start = i * hop_size\n",
    "        end = start + frame_size\n",
    "        ste[i] = np.sum(np.abs(y[start:end]) ** 2)\n",
    "    \n",
    "    return ste"
   ]
  },
  {
   "cell_type": "code",
   "execution_count": 4,
   "metadata": {},
   "outputs": [],
   "source": [
    "def normalize(ste):\n",
    "    \"\"\"\n",
    "    Chuẩn hóa năng lượng theo thời gian ngắn (STE).\n",
    "\n",
    "    Parameters:\n",
    "        ste (numpy.ndarray): Mảng STE.\n",
    "\n",
    "    Returns:\n",
    "        numpy.ndarray: Mảng STE đã được chuẩn hóa.\n",
    "    \"\"\"\n",
    "    return ste / np.max(ste)"
   ]
  },
  {
   "cell_type": "code",
   "execution_count": 5,
   "metadata": {},
   "outputs": [],
   "source": [
    "def find_voiced_segments(ste, threshold):\n",
    "    \"\"\"\n",
    "    Tìm các phân đoạn nói dựa trên giá trị STE và ngưỡng tốt nhất.\n",
    "    \"\"\"\n",
    "    starts = []\n",
    "    ends = []\n",
    "    start = None\n",
    "    end = None\n",
    "\n",
    "    for i in range(len(ste)):\n",
    "        if ste[i] > threshold:\n",
    "            if end is None:\n",
    "                start = i\n",
    "            end = i + 1\n",
    "        else:\n",
    "            if start is not None:\n",
    "                starts.append(start)\n",
    "                ends.append(end)\n",
    "                start = None\n",
    "                end = None\n",
    "\n",
    "    return starts, ends\n"
   ]
  },
  {
   "cell_type": "code",
   "execution_count": 6,
   "metadata": {},
   "outputs": [],
   "source": [
    "def remove_short_silences(starts, ends, hop_size, fs, min_silence_duration=0.3):\n",
    "    \"\"\"\n",
    "    Loại bỏ các khoảng lặng ngắn.\n",
    "    \"\"\"\n",
    "    i = 0\n",
    "    while i < (len(ends) - 1):\n",
    "        if (starts[i + 1] * hop_size / fs) - (ends[i] * hop_size / fs) <= min_silence_duration:\n",
    "            starts.pop(i + 1)\n",
    "            ends.pop(i)\n",
    "        else:\n",
    "            i += 1\n",
    "    \n",
    "    return starts, ends"
   ]
  },
  {
   "cell_type": "code",
   "execution_count": 7,
   "metadata": {},
   "outputs": [],
   "source": [
    "def create_output_folder(output_folder):\n",
    "    \"\"\"\n",
    "    Kiểm tra và tạo thư mục đầu ra nếu nó không tồn tại.\n",
    "    \"\"\"\n",
    "    if not os.path.exists(output_folder):\n",
    "        os.makedirs(output_folder)"
   ]
  },
  {
   "cell_type": "code",
   "execution_count": 8,
   "metadata": {},
   "outputs": [],
   "source": [
    "def create_output_folder(output_folder):\n",
    "    \"\"\"\n",
    "    Kiểm tra và tạo thư mục đầu ra nếu nó không tồn tại.\n",
    "    \"\"\"\n",
    "    if not os.path.exists(output_folder):\n",
    "        os.makedirs(output_folder)"
   ]
  },
  {
   "cell_type": "code",
   "execution_count": 9,
   "metadata": {},
   "outputs": [],
   "source": [
    "def calculate_sample_indices(start_time, end_time, sr):\n",
    "    \"\"\"\n",
    "    Tính chỉ số mẫu bắt đầu và kết thúc từ thời gian (giây).\n",
    "    \"\"\"\n",
    "    start_sample = int(start_time * sr)\n",
    "    end_sample = int(end_time * sr)\n",
    "    return start_sample, end_sample"
   ]
  },
  {
   "cell_type": "code",
   "execution_count": 10,
   "metadata": {},
   "outputs": [],
   "source": [
    "def cut_audio_segment(y, start_sample, end_sample):\n",
    "    \"\"\"\n",
    "    Cắt đoạn âm thanh từ mẫu bắt đầu đến mẫu kết thúc.\n",
    "    \"\"\"\n",
    "    segment = y[start_sample:end_sample]\n",
    "    return segment"
   ]
  },
  {
   "cell_type": "code",
   "execution_count": 11,
   "metadata": {},
   "outputs": [],
   "source": [
    "def generate_output_file_name(input_file, start_time, end_time):\n",
    "    \"\"\"\n",
    "    Tạo tên file cho đoạn cắt.\n",
    "    \"\"\"\n",
    "    file_name = os.path.basename(input_file)\n",
    "    file_name_without_extension = os.path.splitext(file_name)[0]\n",
    "    output_file_name = f\"{file_name_without_extension}_{start_time}s_to_{end_time}s.wav\"\n",
    "    return output_file_name"
   ]
  },
  {
   "cell_type": "code",
   "execution_count": 12,
   "metadata": {},
   "outputs": [],
   "source": [
    "def save_audio_segment(segment, output_file_path, sr):\n",
    "    \"\"\"\n",
    "    Lưu đoạn âm thanh vào tệp WAV.\n",
    "    \"\"\"\n",
    "    print(output_file_path)\n",
    "    sf.write(output_file_path, segment, sr)"
   ]
  },
  {
   "cell_type": "code",
   "execution_count": 13,
   "metadata": {},
   "outputs": [],
   "source": [
    "def cut_and_save_segment(input_file, output_folder, start_time, end_time):\n",
    "    \"\"\"\n",
    "    Cắt một đoạn từ tệp âm thanh đầu vào từ giây a đến giây b và lưu vào thư mục đầu ra.\n",
    "    \"\"\"\n",
    "    create_output_folder(output_folder)\n",
    "\n",
    "    y, sr = librosa.load(input_file, sr=None)\n",
    "    start_sample, end_sample = calculate_sample_indices(start_time, end_time, sr)\n",
    "    segment = cut_audio_segment(y, start_sample, end_sample)\n",
    "    output_file_name = generate_output_file_name(input_file, start_time, end_time)\n",
    "    output_file_path = os.path.join(output_folder, output_file_name)\n",
    "    save_audio_segment(segment, output_file_path, sr)\n",
    "    print(start_time, end_time)"
   ]
  },
  {
   "cell_type": "code",
   "execution_count": 14,
   "metadata": {},
   "outputs": [],
   "source": [
    "def process_ste(y, fs, frame_size, hop_size, best_threshold, min_silence_duration):\n",
    "    \"\"\"\n",
    "    Xử lý Short-term energy (STE) và loại bỏ các khoảng im lặng ngắn.\n",
    "    \"\"\"\n",
    "    ste = calculate_ste(y, frame_size, hop_size)\n",
    "    ste = normalize(ste)\n",
    "    starts, ends = find_voiced_segments(ste, best_threshold)\n",
    "    starts, ends = remove_short_silences(starts, ends, hop_size, fs, min_silence_duration)\n",
    "    return ste, starts, ends"
   ]
  },
  {
   "cell_type": "code",
   "execution_count": 15,
   "metadata": {},
   "outputs": [],
   "source": [
    "def process_audio_file(folder, file_path, output_folder, frame_size=256, hop_size=128, best_threshold=0.001, min_silence_duration=0.3):\n",
    "    \"\"\"\n",
    "    Xử lý một tệp âm thanh WAV để tìm các phân đoạn nói.\n",
    "    \"\"\"\n",
    "    if folder == 'Sad':\n",
    "        best_threshold = 0.0003\n",
    "    y, fs = librosa.load(file_path)\n",
    "    \n",
    "    # Tính STE và loại bỏ các khoảng im lặng ngắn\n",
    "    ste, starts, ends = process_ste(y, fs, frame_size, hop_size, best_threshold, min_silence_duration)\n",
    "    \n",
    "    # Nếu có ít nhất một phân đoạn nói được tìm thấy\n",
    "    if starts and ends:\n",
    "        # Lấy chỉ số của phân đoạn đầu tiên\n",
    "        start_index = starts[-1]\n",
    "        end_index = ends[-1]\n",
    "        \n",
    "        # Chuyển đổi chỉ số thành thời gian (giây)\n",
    "        start_time = start_index * hop_size / fs\n",
    "        end_time = end_index * hop_size / fs\n",
    "        \n",
    "        # Hiển thị đồ thị STE và các đoạn phân đoạn nói\n",
    "        # visualize_ste_with_segments(y, fs, ste, start_index, end_index, best_threshold, file_path)\n",
    "        \n",
    "        # Cắt và lưu phân đoạn nói vào thư mục đầu ra\n",
    "        cut_and_save_segment(file_path, output_folder, start_time, end_time)\n",
    "    else:\n",
    "        print(\"Không tìm thấy phân đoạn nói trong tệp âm thanh.\")"
   ]
  },
  {
   "cell_type": "code",
   "execution_count": 16,
   "metadata": {},
   "outputs": [],
   "source": [
    "def process_folder(folder, input_folder_path,output_folder_path):\n",
    "    \"\"\"\n",
    "    Xử lý tất cả các tệp WAV trong thư mục để tìm các phân đoạn nói.\n",
    "    \"\"\"\n",
    "    for file_name in os.listdir(input_folder_path):\n",
    "        print(file_name)\n",
    "        if file_name.endswith('.wav'):\n",
    "            file_path = os.path.join(input_folder_path, file_name)\n",
    "            process_audio_file(folder, file_path, output_folder_path)"
   ]
  },
  {
   "cell_type": "code",
   "execution_count": 17,
   "metadata": {},
   "outputs": [],
   "source": [
    "def process_folders(input_folder, output_folder):\n",
    "    # Duyệt qua tất cả các thư mục con trong thư mục đầu vào\n",
    "    for root, dirs, files in os.walk(input_folder):\n",
    "        print(dirs)\n",
    "        for folder in dirs:\n",
    "            # Xác định đường dẫn của thư mục con trong thư mục đầu vào\n",
    "            subdirectory_input = os.path.join(root, folder)\n",
    "            \n",
    "            # Xác định đường dẫn của thư mục con tương ứng trong thư mục đầu ra\n",
    "            relative_path = os.path.relpath(subdirectory_input, input_folder)\n",
    "            subdirectory_output = os.path.join(output_folder, relative_path)\n",
    "            \n",
    "            # Tạo thư mục con trong thư mục đầu ra nếu nó không tồn tại\n",
    "            if not os.path.exists(subdirectory_output):\n",
    "                os.makedirs(subdirectory_output)\n",
    "            process_folder(folder, subdirectory_input,subdirectory_output)"
   ]
  },
  {
   "cell_type": "code",
   "execution_count": 18,
   "metadata": {},
   "outputs": [],
   "source": [
    "process_folders('D:/data_analysis/speech_emotion_recognition/data/combined_data', 'D:/data_analysis/speech_emotion_recognition/data/cleaned_data')"
   ]
  },
  {
   "cell_type": "code",
   "execution_count": 19,
   "metadata": {},
   "outputs": [
    {
     "name": "stderr",
     "output_type": "stream",
     "text": [
      "d:\\data_analysis\\speech_emotion_recognition\\.venv\\Lib\\site-packages\\scipy\\signal\\_signaltools.py:1659: RuntimeWarning: divide by zero encountered in divide\n",
      "  res *= (1 - noise / lVar)\n",
      "d:\\data_analysis\\speech_emotion_recognition\\.venv\\Lib\\site-packages\\scipy\\signal\\_signaltools.py:1659: RuntimeWarning: invalid value encountered in multiply\n",
      "  res *= (1 - noise / lVar)\n"
     ]
    }
   ],
   "source": [
    "from scipy.io import wavfile\n",
    "from scipy.signal import wiener\n",
    "import soundfile as sf\n",
    "\n",
    "# Đọc file âm thanh\n",
    "data, samplerate = sf.read(r'D:\\data_analysis\\test3\\data\\17.26, 24 thg 4_.wav')\n",
    "\n",
    "# Áp dụng bộ lọc Wiener\n",
    "filtered_data = wiener(data)\n",
    "\n",
    "# Ghi dữ liệu đã được lọc vào file mới\n",
    "sf.write('output.wav', filtered_data, samplerate)"
   ]
  }
 ],
 "metadata": {
  "kernelspec": {
   "display_name": ".venv",
   "language": "python",
   "name": "python3"
  },
  "language_info": {
   "codemirror_mode": {
    "name": "ipython",
    "version": 3
   },
   "file_extension": ".py",
   "mimetype": "text/x-python",
   "name": "python",
   "nbconvert_exporter": "python",
   "pygments_lexer": "ipython3",
   "version": "3.11.9"
  }
 },
 "nbformat": 4,
 "nbformat_minor": 2
}
