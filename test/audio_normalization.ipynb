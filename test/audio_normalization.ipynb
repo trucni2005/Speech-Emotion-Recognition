{
 "cells": [
  {
   "cell_type": "markdown",
   "metadata": {},
   "source": [
    "**Các bước chuẩn hóa âm thanh tiền xử lý dữ liệu:**\n",
    "1. Đọc tập tin âm thanh.\n",
    "2. Chuẩn hóa âm lượng.\n",
    "3. Lọc thông thấp.\n",
    "4. Chia tín hiệu thành các khung.\n",
    "5. Thực hiện hiển thị sự khác biệt trước và sau khi chuẩn hóa."
   ]
  },
  {
   "cell_type": "code",
   "execution_count": 69,
   "metadata": {},
   "outputs": [],
   "source": [
    "import numpy as np\n",
    "import scipy.io.wavfile as wav\n",
    "from scipy import signal\n",
    "import matplotlib.pyplot as plt\n",
    "import librosa"
   ]
  },
  {
   "cell_type": "code",
   "execution_count": 70,
   "metadata": {},
   "outputs": [],
   "source": [
    "def plot_frequency_time_spectrum(data, rate):\n",
    "    # Tạo mảng thời gian từ 0 đến chiều dài dữ liệu chia cho tần số lấy mẫu\n",
    "    time = np.arange(len(data)) / rate  \n",
    "    \n",
    "    # Vẽ biểu đồ biên độ của tín hiệu âm thanh trong miền thời gian\n",
    "    plt.figure(figsize=(10, 6))\n",
    "    plt.subplot(2, 1, 1)\n",
    "    plt.plot(time, data)\n",
    "    plt.title('Time Domain')\n",
    "    plt.xlabel('Time (s)')\n",
    "    plt.ylabel('Amplitude')\n",
    "\n",
    "    # Tính FFT của tín hiệu âm thanh để lấy biểu đồ phổ tần số\n",
    "    n = len(data)\n",
    "    fft_result = np.fft.fft(data)  # Thực hiện FFT\n",
    "    fft_freqs = np.fft.fftfreq(n, d=1/rate)  # Tính các tần số tương ứng\n",
    "\n",
    "    # Vẽ biểu đồ phổ tần số của tín hiệu âm thanh trong miền tần số\n",
    "    plt.subplot(2, 1, 2)\n",
    "    plt.plot(fft_freqs[:n//2], np.abs(fft_result[:n//2]))\n",
    "    plt.title('Frequency Domain')\n",
    "    plt.xlabel('Frequency (Hz)')\n",
    "    plt.ylabel('Magnitude')\n",
    "\n",
    "    # Đảm bảo rằng không gian giữa các biểu đồ không bị trùng lên nhau\n",
    "    plt.tight_layout()\n",
    "\n",
    "    # Hiển thị biểu đồ\n",
    "    plt.show()"
   ]
  },
  {
   "cell_type": "code",
   "execution_count": 71,
   "metadata": {},
   "outputs": [],
   "source": [
    "def read_wav_file(file_path):\n",
    "  \"\"\"Hàm này đọc tập tin âm thanh .wav và trả về một mảng numpy chứa dữ liệu âm thanh.\"\"\"\n",
    "  rate, data = wav.read(file_path)\n",
    "  return rate, data"
   ]
  },
  {
   "cell_type": "markdown",
   "metadata": {},
   "source": [
    "Chuẩn hóa về dải 0, 1"
   ]
  },
  {
   "cell_type": "code",
   "execution_count": 72,
   "metadata": {},
   "outputs": [],
   "source": [
    "def normalize_audio(data):\n",
    "    \"\"\"Hàm này chuẩn hóa mức độ âm lượng của dữ liệu âm thanh.\"\"\"\n",
    "    max_amplitude = np.max(np.abs(data))\n",
    "    print(max_amplitude)\n",
    "    normalized_data = data / max_amplitude\n",
    "    return normalized_data"
   ]
  },
  {
   "cell_type": "code",
   "execution_count": 73,
   "metadata": {},
   "outputs": [],
   "source": [
    "# rate, data = read_wav_file(r'D:\\data_analysis\\test3\\data\\raw\\Emotions\\Sad\\03-01-04-01-01-01-01.wav')\n",
    "# normalized_data = normalize_audio(data)\n",
    "# plot_frequency_time_spectrum(normalized_data, rate)"
   ]
  },
  {
   "cell_type": "markdown",
   "metadata": {},
   "source": [
    "TODO: Nghiên cứu phần này sau"
   ]
  },
  {
   "cell_type": "code",
   "execution_count": 74,
   "metadata": {},
   "outputs": [],
   "source": [
    "# def low_pass_filter(data, rate, cutoff_freq=4000):\n",
    "#     \"\"\"Hàm này áp dụng bộ lọc thông thấp cho dữ liệu âm thanh.\"\"\"\n",
    "#     nyquist_freq = 0.5 * rate\n",
    "#     normalized_cutoff_freq = cutoff_freq / nyquist_freq\n",
    "#     b, a = signal.butter(6, normalized_cutoff_freq, btype='low')\n",
    "#     filtered_data = signal.filtfilt(b, a, data)\n",
    "#     return filtered_data"
   ]
  },
  {
   "cell_type": "code",
   "execution_count": 75,
   "metadata": {},
   "outputs": [],
   "source": [
    "# filtered_data = low_pass_filter(normalized_data, rate)\n",
    "# plot_frequency_time_spectrum(filtered_data, rate, 'Frequency Spectrum - Normalized')"
   ]
  },
  {
   "cell_type": "code",
   "execution_count": 76,
   "metadata": {},
   "outputs": [],
   "source": [
    "# normalized_data.dtype"
   ]
  },
  {
   "cell_type": "code",
   "execution_count": 77,
   "metadata": {},
   "outputs": [],
   "source": [
    "# import librosa\n",
    "# mfcc = librosa.feature.mfcc(y=normalized_data, sr=44100, n_mfcc=20)\n",
    "# print(mfcc)"
   ]
  },
  {
   "cell_type": "code",
   "execution_count": 78,
   "metadata": {},
   "outputs": [],
   "source": [
    "def plot_frequency_spectrum(data, rate):\n",
    "    # Tính toán biến đổi Fourier\n",
    "    D = np.abs(librosa.stft(data))\n",
    "\n",
    "    # Chuyển đổi tần số thành độ phân giải\n",
    "    freqs = librosa.fft_frequencies(sr=rate)\n",
    "\n",
    "    # Lọc tần số từ 0 đến 5000 Hz\n",
    "    freqs_filtered = freqs[freqs <= 5000]\n",
    "\n",
    "    # Lấy chỉ mục của các tần số trong khoảng từ 0 đến 5000 Hz\n",
    "    freqs_index = np.where(freqs <= 5000)\n",
    "\n",
    "    # Trích xuất các giá trị của D ứng với các tần số trong khoảng từ 0 đến 5000 Hz\n",
    "    D_filtered = D[freqs_index[0], :]\n",
    "\n",
    "    # Vẽ biểu đồ miền tần số\n",
    "    plt.figure(figsize=(10, 6))\n",
    "    plt.plot(freqs_filtered, np.mean(D_filtered, axis=1))\n",
    "    plt.xlabel('Frequency (Hz)')\n",
    "    plt.ylabel('Magnitude')\n",
    "    plt.title('Frequency Spectrum (0 - 5000 Hz)')\n",
    "    plt.show()"
   ]
  },
  {
   "cell_type": "code",
   "execution_count": 82,
   "metadata": {},
   "outputs": [
    {
     "name": "stdout",
     "output_type": "stream",
     "text": [
      "3613\n"
     ]
    }
   ],
   "source": [
    "rate, data = read_wav_file(r'D:\\data_analysis\\test3\\data\\clean\\Fearful\\03-01-06-01-01-01-01_1.0100680272108844s_to_2.6238548752834467s.wav')\n",
    "np.savetxt('data', data)\n",
    "normalized_data = normalize_audio(data)\n",
    "\n",
    "# Specify the file path\n",
    "file_path = \"normalized_data.txt\"\n",
    "\n",
    "# Save the normalized data to a text file\n",
    "np.savetxt(file_path, normalized_data)\n",
    "\n",
    "# plot_frequency_spectrum(data, rate) "
   ]
  },
  {
   "cell_type": "code",
   "execution_count": 80,
   "metadata": {},
   "outputs": [],
   "source": [
    "# rate, data = read_wav_file(r'D:\\data_analysis\\test3\\data\\clean\\Fearful\\03-01-06-01-01-01-01_1.0100680272108844s_to_2.6238548752834467s.wav')\n",
    "# normalized_data = normalize_audio(data)\n",
    "# # plot_frequency_time_spectrum(normalized_data, rate)\n",
    "# D = np.abs(librosa.stft(normalized_data))\n",
    "# ste = np.sum(D, axis=0)\n",
    "# ste = normalize(ste)\n",
    "\n",
    "# # Thời gian tương ứng với mỗi frame STE\n",
    "# times_ste = librosa.times_like(ste, sr=44100)\n",
    "\n",
    "# # Vẽ biểu đồ\n",
    "# plt.figure(figsize=(10, 6))\n",
    "\n",
    "# # Biểu đồ STE\n",
    "# plt.plot(times_ste, ste, label='STE', color='blue')\n",
    "# plt.xlabel('Time (s)')\n",
    "# plt.ylabel('Spectral Temporal Energy (STE)')\n",
    "# plt.title('Zero Crossing Rate (ZCR) and Spectral Temporal Energy (STE)')\n",
    "# plt.legend()\n",
    "\n",
    "# plt.show()\n"
   ]
  },
  {
   "cell_type": "code",
   "execution_count": 81,
   "metadata": {},
   "outputs": [],
   "source": [
    "# rate, data = read_wav_file(r'D:\\data_analysis\\test3\\data\\raw\\Emotions\\Sad\\03-01-04-01-01-01-19.wav')\n",
    "# normalized_data = normalize_audio(data)\n",
    "# # plot_frequency_time_spectrum(normalized_data, rate)\n",
    "\n",
    "# # Tính toán ZCR\n",
    "# zcr = librosa.feature.zero_crossing_rate(y=normalized_data)\n",
    "\n",
    "# # Tính toán STE\n",
    "# D = np.abs(librosa.stft(normalized_data))\n",
    "# ste = np.sum(D, axis=0)\n",
    "\n",
    "# # Thời gian tương ứng với mỗi frame STE\n",
    "# times_ste = librosa.times_like(ste, sr=44100)\n",
    "\n",
    "# # Vẽ biểu đồ\n",
    "# plt.figure(figsize=(10, 6))\n",
    "\n",
    "# # Biểu đồ STE\n",
    "# plt.plot(times_ste, ste, label='STE', color='blue')\n",
    "# plt.xlabel('Time (s)')\n",
    "# plt.ylabel('Spectral Temporal Energy (STE)')\n",
    "# plt.title('Zero Crossing Rate (ZCR) and Spectral Temporal Energy (STE)')\n",
    "# plt.legend()\n",
    "\n",
    "# # Biểu đồ ZCR (vẽ lên cùng biểu đồ STE)\n",
    "# plt.twinx()\n",
    "# plt.plot(librosa.times_like(zcr, sr=44100), zcr[0], label='ZCR', color='red')\n",
    "# plt.ylabel('Zero Crossing Rate (ZCR)')\n",
    "# plt.legend(loc='upper right')\n",
    "\n",
    "# plt.show()"
   ]
  }
 ],
 "metadata": {
  "kernelspec": {
   "display_name": ".venv",
   "language": "python",
   "name": "python3"
  },
  "language_info": {
   "codemirror_mode": {
    "name": "ipython",
    "version": 3
   },
   "file_extension": ".py",
   "mimetype": "text/x-python",
   "name": "python",
   "nbconvert_exporter": "python",
   "pygments_lexer": "ipython3",
   "version": "3.11.9"
  }
 },
 "nbformat": 4,
 "nbformat_minor": 2
}
