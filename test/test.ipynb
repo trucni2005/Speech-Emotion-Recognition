{
 "cells": [
  {
   "cell_type": "code",
   "execution_count": 4,
   "metadata": {},
   "outputs": [
    {
     "name": "stdout",
     "output_type": "stream",
     "text": [
      "The noise in the audio file has been successfully reduced and saved as denoised.wav\n"
     ]
    }
   ],
   "source": [
    "import numpy as np\n",
    "import scipy.signal\n",
    "import librosa\n",
    "import soundfile as sf\n",
    "\n",
    "def reduce_noise(audio_file):\n",
    "    # Load the audio file\n",
    "    y, sr = librosa.load(audio_file)\n",
    "\n",
    "    # Apply pre-emphasis filter\n",
    "    pre_emphasis = 0.97\n",
    "    y = np.append(y[0], y[1:] - pre_emphasis * y[:-1])\n",
    "\n",
    "    # Compute short time fourier transform\n",
    "    D = librosa.stft(y)\n",
    "\n",
    "    # Compute spectral magnitude and phase\n",
    "    S, phase = librosa.magphase(D)\n",
    "\n",
    "    # Apply median filtering on the magnitude\n",
    "    S = scipy.signal.medfilt(S, kernel_size=3)  # Adjust kernel_size as needed\n",
    "\n",
    "    # Reconstruct the complex-valued spectrogram\n",
    "    D = S * phase\n",
    "\n",
    "    # Reconstruct the audio signal\n",
    "    y = librosa.istft(D)\n",
    "\n",
    "    # Save the denoised audio\n",
    "    sf.write('denoised.wav', y, sr)\n",
    "\n",
    "# Call the function to reduce noise in the audio file\n",
    "reduce_noise(r'D:\\data_analysis\\test3\\data\\17.26, 24 thg 4_.wav')\n",
    "\n",
    "# Print a success message\n",
    "print(\"The noise in the audio file has been successfully reduced and saved as denoised.wav\")\n"
   ]
  }
 ],
 "metadata": {
  "kernelspec": {
   "display_name": ".venv",
   "language": "python",
   "name": "python3"
  },
  "language_info": {
   "codemirror_mode": {
    "name": "ipython",
    "version": 3
   },
   "file_extension": ".py",
   "mimetype": "text/x-python",
   "name": "python",
   "nbconvert_exporter": "python",
   "pygments_lexer": "ipython3",
   "version": "3.11.9"
  }
 },
 "nbformat": 4,
 "nbformat_minor": 2
}
