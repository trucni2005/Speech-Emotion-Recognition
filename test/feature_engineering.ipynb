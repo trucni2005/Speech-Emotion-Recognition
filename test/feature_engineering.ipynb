{
 "cells": [
  {
   "cell_type": "code",
   "execution_count": 1,
   "metadata": {},
   "outputs": [],
   "source": [
    "import numpy as np\n",
    "import librosa\n",
    "import os"
   ]
  },
  {
   "cell_type": "code",
   "execution_count": null,
   "metadata": {},
   "outputs": [],
   "source": [
    "# MFCCs\n",
    "\n",
    "def compute_mfccs(signal, sample_rate, n_mfcc=13):\n",
    "    \"\"\"\n",
    "    Tính toán Mel-frequency cepstral coefficients (MFCCs) của tín hiệu âm thanh.\n",
    "\n",
    "    Parameters:\n",
    "        signal (numpy array): Tín hiệu âm thanh.\n",
    "        sample_rate (int): Tần số lấy mẫu của tín hiệu âm thanh.\n",
    "        n_mfcc (int): Số lượng MFCCs.\n",
    "\n",
    "    Returns:\n",
    "        numpy array: Trung bình của MFCCs.\n",
    "    \"\"\"\n",
    "    mfccs = librosa.feature.mfcc(y=signal, sr=sample_rate, n_mfcc=n_mfcc)\n",
    "    return np.mean(mfccs.T, axis=0)"
   ]
  },
  {
   "cell_type": "code",
   "execution_count": null,
   "metadata": {},
   "outputs": [],
   "source": [
    "def feature_engineering_for_file(audio_file, n_mfcc):\n",
    "    # Đọc tín hiệu âm thanh từ tệp âm thanh\n",
    "    audio_file = r\"D:\\data_analysis\\test3\\data\\clean\\Angry\\03-01-05-01-01-01-01_1.0158730158730158s_to_2.786394557823129s.wav\"\n",
    "    signal, sample_rate = librosa.load(audio_file, sr=None)"
   ]
  }
 ],
 "metadata": {
  "kernelspec": {
   "display_name": ".venv",
   "language": "python",
   "name": "python3"
  },
  "language_info": {
   "codemirror_mode": {
    "name": "ipython",
    "version": 3
   },
   "file_extension": ".py",
   "mimetype": "text/x-python",
   "name": "python",
   "nbconvert_exporter": "python",
   "pygments_lexer": "ipython3",
   "version": "3.11.9"
  }
 },
 "nbformat": 4,
 "nbformat_minor": 2
}
