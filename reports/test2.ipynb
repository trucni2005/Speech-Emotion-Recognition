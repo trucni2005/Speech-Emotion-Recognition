{
 "cells": [
  {
   "cell_type": "code",
   "execution_count": null,
   "metadata": {},
   "outputs": [],
   "source": [
    "import pandas as pd\n",
    "import matplotlib.pyplot as plt\n",
    "\n",
    "# Đọc dữ liệu từ tệp CSV\n",
    "file_path = 'D:/data_analysis/speech_emotion_recognition/notebooks/feature1.csv'\n",
    "data = pd.read_csv(file_path)\n",
    "\n",
    "# Tạo một từ điển để ánh xạ các nhãn cảm xúc thành màu sắc tương ứng\n",
    "emotion_to_color = {'Happy': 'red', 'Sad': 'blue', 'Angry': 'green', 'Neutral': 'yellow', 'Fearful': 'pink', 'Disgusted': 'orange'}\n",
    "\n",
    "# Lặp qua từng thông số thống kê MFCC trung bình từ 1 đến 40\n",
    "for i in range(1, 41):\n",
    "    # Chọn cột thông số thống kê MFCC trung bình tương ứng\n",
    "    mfcc_mean_column = f'mfcc_mean_{i}'\n",
    "    \n",
    "    # Tạo một cột màu mới dựa trên cột nhãn\n",
    "    data['color'] = data['label'].map(emotion_to_color)\n",
    "    \n",
    "    # Loại bỏ các dòng có giá trị NaN trong cột thông số thống kê MFCC trung bình\n",
    "    data.dropna(subset=[mfcc_mean_column], inplace=True)\n",
    "    \n",
    "    # Tạo một biểu đồ mới\n",
    "    plt.figure(figsize=(10, 6))\n",
    "    \n",
    "    # Lặp qua từng nhãn cảm xúc và vẽ biểu đồ đường cho giá trị trung bình của MFCC\n",
    "    for emotion, color in emotion_to_color.items():\n",
    "        # Lọc dữ liệu cho từng nhãn cảm xúc\n",
    "        emotion_data = data[data['label'] == emotion]\n",
    "        # Vẽ biểu đồ đường\n",
    "        plt.plot(emotion_data[mfcc_mean_column], label=emotion, color=color)\n",
    "    \n",
    "    # Đặt nhãn cho trục và tiêu đề biểu đồ\n",
    "    plt.xlabel(f'MFCC Mean {i}')\n",
    "    plt.ylabel('Value')\n",
    "    plt.title(f'Line Plot of MFCC Mean {i}')\n",
    "    plt.legend()  # Hiển thị chú thích\n",
    "    plt.grid(True)  # Hiển thị lưới\n",
    "    plt.show()\n"
   ]
  }
 ],
 "metadata": {
  "language_info": {
   "name": "python"
  }
 },
 "nbformat": 4,
 "nbformat_minor": 2
}
