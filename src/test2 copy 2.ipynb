{
 "cells": [
  {
   "cell_type": "code",
   "execution_count": 8,
   "metadata": {},
   "outputs": [],
   "source": [
    "from audio_preprocessing.cut_audio_segment_from_audio_file import AudioProcessor\n",
    "from feature_extraction.feature_extractor import FeatureExtractor\n",
    "from feature_extraction.mfcc_images_extractor import MelSpectrogramImageExtractor\n",
    "from data_processing.english_data_processing import ModelEvaluator\n",
    "from itertools import combinations\n",
    "from sklearn.ensemble import ExtraTreesClassifier\n",
    "from sklearn.ensemble import RandomForestClassifier\n",
    "import pandas as pd"
   ]
  },
  {
   "cell_type": "code",
   "execution_count": 9,
   "metadata": {},
   "outputs": [],
   "source": [
    "def extract_mfcc_images(n_mfcc, figsize, input_folder, output_folder):\n",
    "    mfccImageExtractor = MelSpectrogramImageExtractor(n_mfcc, figsize)\n",
    "    mfccImageExtractor.extract_from_folders(input_folder, output_folder)"
   ]
  },
  {
   "cell_type": "code",
   "execution_count": 10,
   "metadata": {},
   "outputs": [],
   "source": [
    "def cut_audio_segment_from_audio_file(frame_size, hop_size, threshold, input_folder, output_folder):\n",
    "    segmentation = AudioProcessor(frame_size, hop_size, threshold)\n",
    "    segmentation.process_folders(input_folder, output_folder)"
   ]
  },
  {
   "cell_type": "code",
   "execution_count": 11,
   "metadata": {},
   "outputs": [],
   "source": [
    "def extract_feature(n_mfcc, input_folder, output_folder, selected_features):\n",
    "    featureExtractor = FeatureExtractor(n_mfcc)\n",
    "    featureExtractor.process_folder(input_folder, output_folder, selected_features)\n",
    "    # featureExtractor.process_folder(input_folder, output_folder, ['mfcc','mfcc_statistics', 'zcr', 'pitch', 'rms'])"
   ]
  },
  {
   "cell_type": "code",
   "execution_count": 12,
   "metadata": {},
   "outputs": [],
   "source": [
    "def model(featured_data):\n",
    "    models = [RandomForestClassifier, ExtraTreesClassifier]\n",
    "    \n",
    "    df_train_test = pd.read_csv(featured_data)\n",
    "    df_shuffled = df_train_test.sample(frac=1, random_state=42).reset_index(drop=True)\n",
    "\n",
    "    modelEvaluator = ModelEvaluator(models)\n",
    "    best_model, best_scaler, best_avg_acc = modelEvaluator.evaluate_models(df_shuffled)\n",
    "    return best_model, best_scaler, best_avg_acc"
   ]
  },
  {
   "cell_type": "code",
   "execution_count": 13,
   "metadata": {},
   "outputs": [],
   "source": [
    "def process_data(frame_size, hop_size, threshold, raw_folder, cutted_folder, n_mfcc_list, featured_data_path, n_mfcc_for_images, images_folder, features):\n",
    "    cut_audio_segment_from_audio_file(frame_size, hop_size, threshold, raw_folder, cutted_folder)\n",
    "    n = len(features)\n",
    "\n",
    "    results = []\n",
    "\n",
    "    for n_mfcc in n_mfcc_list:\n",
    "        for r in range(0, n + 1):\n",
    "            for combo in combinations(range(n), r):\n",
    "                selected_features = [features[i] for i in range(n) if i not in combo]\n",
    "                extract_feature(n_mfcc, cutted_folder, featured_data_path, selected_features)\n",
    "                current_model, current_scaler, current_avg_acc = model(featured_data_path)\n",
    "                print(f\"Scaler: {current_scaler}, Model: {current_model}, n_mfcc: {n_mfcc}, Selected features: {selected_features}, Accuracy: {current_avg_acc}\")\n",
    "                results.append({'Scaler': current_scaler, 'Model': current_model, 'N_MFCC': n_mfcc, 'Selected Features': selected_features, 'Average Accuracy': current_avg_acc})\n",
    "\n",
    "    results_df = pd.DataFrame(results)\n",
    "    ranked_results = results_df.sort_values(by='Average Accuracy', ascending=False)\n",
    "\n",
    "    return ranked_results"
   ]
  },
  {
   "cell_type": "code",
   "execution_count": 14,
   "metadata": {},
   "outputs": [
    {
     "name": "stderr",
     "output_type": "stream",
     "text": [
      "d:\\data_analysis\\speech_emotion_recognition\\src\\audio_preprocessing\\utils\\audio_utils.py:79: RuntimeWarning: invalid value encountered in divide\n",
      "  return ste / np.max(ste)\n",
      "\u001b[32m2024-05-22 14:25:15.261\u001b[0m | \u001b[1mINFO    \u001b[0m | \u001b[36mfeature_extraction.feature_extractor\u001b[0m:\u001b[36mprocess_folder\u001b[0m:\u001b[36m148\u001b[0m - \u001b[1mProcessing input folder: D:/data_analysis/speech_emotion_recognition/data/EnglishDataset/cleaned_data0\u001b[0m\n",
      "\u001b[32m2024-05-22 14:28:27.663\u001b[0m | \u001b[1mINFO    \u001b[0m | \u001b[36mfeature_extraction.feature_extractor\u001b[0m:\u001b[36mprocess_folder\u001b[0m:\u001b[36m158\u001b[0m - \u001b[1mFeature extraction completed. Data saved to: D:/data_analysis/speech_emotion_recognition/notebooks/feature2.csv\u001b[0m\n",
      "\u001b[32m2024-05-22 14:28:27.758\u001b[0m | \u001b[1mINFO    \u001b[0m | \u001b[36mdata_processing.english_data_processing\u001b[0m:\u001b[36mevaluate_models\u001b[0m:\u001b[36m53\u001b[0m - \u001b[1mFinding best model....\u001b[0m\n",
      "\u001b[32m2024-05-22 14:29:34.615\u001b[0m | \u001b[1mINFO    \u001b[0m | \u001b[36mdata_processing.english_data_processing\u001b[0m:\u001b[36mevaluate_models\u001b[0m:\u001b[36m74\u001b[0m - \u001b[1mModel <class 'sklearn.ensemble._forest.RandomForestClassifier'> - scaler: None, accuracy: 0.6168331269094212\u001b[0m\n",
      "\u001b[32m2024-05-22 14:29:50.054\u001b[0m | \u001b[1mINFO    \u001b[0m | \u001b[36mdata_processing.english_data_processing\u001b[0m:\u001b[36mevaluate_models\u001b[0m:\u001b[36m74\u001b[0m - \u001b[1mModel <class 'sklearn.ensemble._forest.ExtraTreesClassifier'> - scaler: None, accuracy: 0.6208302369746512\u001b[0m\n",
      "\u001b[32m2024-05-22 14:31:02.511\u001b[0m | \u001b[1mINFO    \u001b[0m | \u001b[36mdata_processing.english_data_processing\u001b[0m:\u001b[36mevaluate_models\u001b[0m:\u001b[36m74\u001b[0m - \u001b[1mModel <class 'sklearn.ensemble._forest.RandomForestClassifier'> - scaler: StandardScaler(), accuracy: 0.6226508133102139\u001b[0m\n",
      "\u001b[32m2024-05-22 14:31:18.729\u001b[0m | \u001b[1mINFO    \u001b[0m | \u001b[36mdata_processing.english_data_processing\u001b[0m:\u001b[36mevaluate_models\u001b[0m:\u001b[36m74\u001b[0m - \u001b[1mModel <class 'sklearn.ensemble._forest.ExtraTreesClassifier'> - scaler: StandardScaler(), accuracy: 0.6178319709355132\u001b[0m\n",
      "\u001b[32m2024-05-22 14:32:28.876\u001b[0m | \u001b[1mINFO    \u001b[0m | \u001b[36mdata_processing.english_data_processing\u001b[0m:\u001b[36mevaluate_models\u001b[0m:\u001b[36m74\u001b[0m - \u001b[1mModel <class 'sklearn.ensemble._forest.RandomForestClassifier'> - scaler: MinMaxScaler(), accuracy: 0.6234694905457848\u001b[0m\n",
      "\u001b[32m2024-05-22 14:32:45.483\u001b[0m | \u001b[1mINFO    \u001b[0m | \u001b[36mdata_processing.english_data_processing\u001b[0m:\u001b[36mevaluate_models\u001b[0m:\u001b[36m74\u001b[0m - \u001b[1mModel <class 'sklearn.ensemble._forest.ExtraTreesClassifier'> - scaler: MinMaxScaler(), accuracy: 0.6244680868631823\u001b[0m\n",
      "\u001b[32m2024-05-22 14:33:52.463\u001b[0m | \u001b[1mINFO    \u001b[0m | \u001b[36mdata_processing.english_data_processing\u001b[0m:\u001b[36mevaluate_models\u001b[0m:\u001b[36m74\u001b[0m - \u001b[1mModel <class 'sklearn.ensemble._forest.RandomForestClassifier'> - scaler: MaxAbsScaler(), accuracy: 0.6185609776236479\u001b[0m\n",
      "\u001b[32m2024-05-22 14:34:07.336\u001b[0m | \u001b[1mINFO    \u001b[0m | \u001b[36mdata_processing.english_data_processing\u001b[0m:\u001b[36mevaluate_models\u001b[0m:\u001b[36m74\u001b[0m - \u001b[1mModel <class 'sklearn.ensemble._forest.ExtraTreesClassifier'> - scaler: MaxAbsScaler(), accuracy: 0.618287424655272\u001b[0m\n",
      "\u001b[32m2024-05-22 14:35:17.390\u001b[0m | \u001b[1mINFO    \u001b[0m | \u001b[36mdata_processing.english_data_processing\u001b[0m:\u001b[36mevaluate_models\u001b[0m:\u001b[36m74\u001b[0m - \u001b[1mModel <class 'sklearn.ensemble._forest.RandomForestClassifier'> - scaler: RobustScaler(), accuracy: 0.6216475105276196\u001b[0m\n",
      "\u001b[32m2024-05-22 14:35:33.873\u001b[0m | \u001b[1mINFO    \u001b[0m | \u001b[36mdata_processing.english_data_processing\u001b[0m:\u001b[36mevaluate_models\u001b[0m:\u001b[36m74\u001b[0m - \u001b[1mModel <class 'sklearn.ensemble._forest.ExtraTreesClassifier'> - scaler: RobustScaler(), accuracy: 0.6147436215011146\u001b[0m\n",
      "\u001b[32m2024-05-22 14:36:38.643\u001b[0m | \u001b[1mINFO    \u001b[0m | \u001b[36mdata_processing.english_data_processing\u001b[0m:\u001b[36mevaluate_models\u001b[0m:\u001b[36m74\u001b[0m - \u001b[1mModel <class 'sklearn.ensemble._forest.RandomForestClassifier'> - scaler: Normalizer(), accuracy: 0.5945656015192801\u001b[0m\n",
      "\u001b[32m2024-05-22 14:36:53.549\u001b[0m | \u001b[1mINFO    \u001b[0m | \u001b[36mdata_processing.english_data_processing\u001b[0m:\u001b[36mevaluate_models\u001b[0m:\u001b[36m74\u001b[0m - \u001b[1mModel <class 'sklearn.ensemble._forest.ExtraTreesClassifier'> - scaler: Normalizer(), accuracy: 0.5918394021963505\u001b[0m\n",
      "\u001b[32m2024-05-22 14:36:53.550\u001b[0m | \u001b[1mINFO    \u001b[0m | \u001b[36mdata_processing.english_data_processing\u001b[0m:\u001b[36mevaluate_models\u001b[0m:\u001b[36m82\u001b[0m - \u001b[1mBest Model: <class 'sklearn.ensemble._forest.ExtraTreesClassifier'>\u001b[0m\n",
      "\u001b[32m2024-05-22 14:36:53.551\u001b[0m | \u001b[1mINFO    \u001b[0m | \u001b[36mdata_processing.english_data_processing\u001b[0m:\u001b[36mevaluate_models\u001b[0m:\u001b[36m83\u001b[0m - \u001b[1mBest Scaler: MinMaxScaler\u001b[0m\n",
      "\u001b[32m2024-05-22 14:36:53.551\u001b[0m | \u001b[1mINFO    \u001b[0m | \u001b[36mdata_processing.english_data_processing\u001b[0m:\u001b[36mevaluate_models\u001b[0m:\u001b[36m84\u001b[0m - \u001b[1mBest Average Accuracy: 0.6244680868631823\u001b[0m\n",
      "\u001b[32m2024-05-22 14:36:53.553\u001b[0m | \u001b[1mINFO    \u001b[0m | \u001b[36mfeature_extraction.feature_extractor\u001b[0m:\u001b[36mprocess_folder\u001b[0m:\u001b[36m148\u001b[0m - \u001b[1mProcessing input folder: D:/data_analysis/speech_emotion_recognition/data/EnglishDataset/cleaned_data0\u001b[0m\n"
     ]
    },
    {
     "name": "stdout",
     "output_type": "stream",
     "text": [
      "Scaler: MinMaxScaler, Model: <class 'sklearn.ensemble._forest.ExtraTreesClassifier'>, n_mfcc: 13, Selected features: ['mfcc', 'mfcc_statistics', 'zcr', 'pitch', 'rms'], Accuracy: 0.6244680868631823\n"
     ]
    },
    {
     "name": "stderr",
     "output_type": "stream",
     "text": [
      "\u001b[32m2024-05-22 14:38:33.550\u001b[0m | \u001b[1mINFO    \u001b[0m | \u001b[36mfeature_extraction.feature_extractor\u001b[0m:\u001b[36mprocess_folder\u001b[0m:\u001b[36m158\u001b[0m - \u001b[1mFeature extraction completed. Data saved to: D:/data_analysis/speech_emotion_recognition/notebooks/feature2.csv\u001b[0m\n",
      "\u001b[32m2024-05-22 14:38:33.631\u001b[0m | \u001b[1mINFO    \u001b[0m | \u001b[36mdata_processing.english_data_processing\u001b[0m:\u001b[36mevaluate_models\u001b[0m:\u001b[36m53\u001b[0m - \u001b[1mFinding best model....\u001b[0m\n",
      "\u001b[32m2024-05-22 14:39:30.763\u001b[0m | \u001b[1mINFO    \u001b[0m | \u001b[36mdata_processing.english_data_processing\u001b[0m:\u001b[36mevaluate_models\u001b[0m:\u001b[36m74\u001b[0m - \u001b[1mModel <class 'sklearn.ensemble._forest.RandomForestClassifier'> - scaler: None, accuracy: 0.6231932953513335\u001b[0m\n",
      "\u001b[32m2024-05-22 14:39:44.104\u001b[0m | \u001b[1mINFO    \u001b[0m | \u001b[36mdata_processing.english_data_processing\u001b[0m:\u001b[36mevaluate_models\u001b[0m:\u001b[36m74\u001b[0m - \u001b[1mModel <class 'sklearn.ensemble._forest.ExtraTreesClassifier'> - scaler: None, accuracy: 0.6176504004623896\u001b[0m\n",
      "\u001b[32m2024-05-22 14:40:44.531\u001b[0m | \u001b[1mINFO    \u001b[0m | \u001b[36mdata_processing.english_data_processing\u001b[0m:\u001b[36mevaluate_models\u001b[0m:\u001b[36m74\u001b[0m - \u001b[1mModel <class 'sklearn.ensemble._forest.RandomForestClassifier'> - scaler: StandardScaler(), accuracy: 0.6189234580133762\u001b[0m\n",
      "\u001b[32m2024-05-22 14:40:57.958\u001b[0m | \u001b[1mINFO    \u001b[0m | \u001b[36mdata_processing.english_data_processing\u001b[0m:\u001b[36mevaluate_models\u001b[0m:\u001b[36m74\u001b[0m - \u001b[1mModel <class 'sklearn.ensemble._forest.ExtraTreesClassifier'> - scaler: StandardScaler(), accuracy: 0.6157410618446041\u001b[0m\n",
      "\u001b[32m2024-05-22 14:41:58.457\u001b[0m | \u001b[1mINFO    \u001b[0m | \u001b[36mdata_processing.english_data_processing\u001b[0m:\u001b[36mevaluate_models\u001b[0m:\u001b[36m74\u001b[0m - \u001b[1mModel <class 'sklearn.ensemble._forest.RandomForestClassifier'> - scaler: MinMaxScaler(), accuracy: 0.6199222194699033\u001b[0m\n",
      "\u001b[32m2024-05-22 14:42:11.794\u001b[0m | \u001b[1mINFO    \u001b[0m | \u001b[36mdata_processing.english_data_processing\u001b[0m:\u001b[36mevaluate_models\u001b[0m:\u001b[36m74\u001b[0m - \u001b[1mModel <class 'sklearn.ensemble._forest.ExtraTreesClassifier'> - scaler: MinMaxScaler(), accuracy: 0.6171046982082405\u001b[0m\n",
      "\u001b[32m2024-05-22 14:43:16.268\u001b[0m | \u001b[1mINFO    \u001b[0m | \u001b[36mdata_processing.english_data_processing\u001b[0m:\u001b[36mevaluate_models\u001b[0m:\u001b[36m74\u001b[0m - \u001b[1mModel <class 'sklearn.ensemble._forest.RandomForestClassifier'> - scaler: MaxAbsScaler(), accuracy: 0.6221956898687144\u001b[0m\n",
      "\u001b[32m2024-05-22 14:43:34.974\u001b[0m | \u001b[1mINFO    \u001b[0m | \u001b[36mdata_processing.english_data_processing\u001b[0m:\u001b[36mevaluate_models\u001b[0m:\u001b[36m74\u001b[0m - \u001b[1mModel <class 'sklearn.ensemble._forest.ExtraTreesClassifier'> - scaler: MaxAbsScaler(), accuracy: 0.62183089753117\u001b[0m\n",
      "\u001b[32m2024-05-22 14:44:45.170\u001b[0m | \u001b[1mINFO    \u001b[0m | \u001b[36mdata_processing.english_data_processing\u001b[0m:\u001b[36mevaluate_models\u001b[0m:\u001b[36m74\u001b[0m - \u001b[1mModel <class 'sklearn.ensemble._forest.RandomForestClassifier'> - scaler: RobustScaler(), accuracy: 0.6166501527536951\u001b[0m\n",
      "\u001b[32m2024-05-22 14:45:01.174\u001b[0m | \u001b[1mINFO    \u001b[0m | \u001b[36mdata_processing.english_data_processing\u001b[0m:\u001b[36mevaluate_models\u001b[0m:\u001b[36m74\u001b[0m - \u001b[1mModel <class 'sklearn.ensemble._forest.ExtraTreesClassifier'> - scaler: RobustScaler(), accuracy: 0.6159251919742383\u001b[0m\n",
      "\u001b[32m2024-05-22 14:46:12.251\u001b[0m | \u001b[1mINFO    \u001b[0m | \u001b[36mdata_processing.english_data_processing\u001b[0m:\u001b[36mevaluate_models\u001b[0m:\u001b[36m74\u001b[0m - \u001b[1mModel <class 'sklearn.ensemble._forest.RandomForestClassifier'> - scaler: Normalizer(), accuracy: 0.5917483279663116\u001b[0m\n",
      "\u001b[32m2024-05-22 14:46:30.152\u001b[0m | \u001b[1mINFO    \u001b[0m | \u001b[36mdata_processing.english_data_processing\u001b[0m:\u001b[36mevaluate_models\u001b[0m:\u001b[36m74\u001b[0m - \u001b[1mModel <class 'sklearn.ensemble._forest.ExtraTreesClassifier'> - scaler: Normalizer(), accuracy: 0.5973826273635537\u001b[0m\n",
      "\u001b[32m2024-05-22 14:46:30.153\u001b[0m | \u001b[1mINFO    \u001b[0m | \u001b[36mdata_processing.english_data_processing\u001b[0m:\u001b[36mevaluate_models\u001b[0m:\u001b[36m82\u001b[0m - \u001b[1mBest Model: <class 'sklearn.ensemble._forest.RandomForestClassifier'>\u001b[0m\n",
      "\u001b[32m2024-05-22 14:46:30.154\u001b[0m | \u001b[1mINFO    \u001b[0m | \u001b[36mdata_processing.english_data_processing\u001b[0m:\u001b[36mevaluate_models\u001b[0m:\u001b[36m83\u001b[0m - \u001b[1mBest Scaler: None\u001b[0m\n",
      "\u001b[32m2024-05-22 14:46:30.154\u001b[0m | \u001b[1mINFO    \u001b[0m | \u001b[36mdata_processing.english_data_processing\u001b[0m:\u001b[36mevaluate_models\u001b[0m:\u001b[36m84\u001b[0m - \u001b[1mBest Average Accuracy: 0.6231932953513335\u001b[0m\n",
      "\u001b[32m2024-05-22 14:46:30.156\u001b[0m | \u001b[1mINFO    \u001b[0m | \u001b[36mfeature_extraction.feature_extractor\u001b[0m:\u001b[36mprocess_folder\u001b[0m:\u001b[36m148\u001b[0m - \u001b[1mProcessing input folder: D:/data_analysis/speech_emotion_recognition/data/EnglishDataset/cleaned_data0\u001b[0m\n"
     ]
    },
    {
     "name": "stdout",
     "output_type": "stream",
     "text": [
      "Scaler: None, Model: <class 'sklearn.ensemble._forest.RandomForestClassifier'>, n_mfcc: 13, Selected features: ['mfcc_statistics', 'zcr', 'pitch', 'rms'], Accuracy: 0.6231932953513335\n"
     ]
    },
    {
     "name": "stderr",
     "output_type": "stream",
     "text": [
      "\u001b[32m2024-05-22 14:48:04.023\u001b[0m | \u001b[1mINFO    \u001b[0m | \u001b[36mfeature_extraction.feature_extractor\u001b[0m:\u001b[36mprocess_folder\u001b[0m:\u001b[36m158\u001b[0m - \u001b[1mFeature extraction completed. Data saved to: D:/data_analysis/speech_emotion_recognition/notebooks/feature2.csv\u001b[0m\n",
      "\u001b[32m2024-05-22 14:48:04.058\u001b[0m | \u001b[1mINFO    \u001b[0m | \u001b[36mdata_processing.english_data_processing\u001b[0m:\u001b[36mevaluate_models\u001b[0m:\u001b[36m53\u001b[0m - \u001b[1mFinding best model....\u001b[0m\n",
      "\u001b[32m2024-05-22 14:48:38.780\u001b[0m | \u001b[1mINFO    \u001b[0m | \u001b[36mdata_processing.english_data_processing\u001b[0m:\u001b[36mevaluate_models\u001b[0m:\u001b[36m74\u001b[0m - \u001b[1mModel <class 'sklearn.ensemble._forest.RandomForestClassifier'> - scaler: None, accuracy: 0.5883865081331021\u001b[0m\n",
      "\u001b[32m2024-05-22 14:48:52.820\u001b[0m | \u001b[1mINFO    \u001b[0m | \u001b[36mdata_processing.english_data_processing\u001b[0m:\u001b[36mevaluate_models\u001b[0m:\u001b[36m74\u001b[0m - \u001b[1mModel <class 'sklearn.ensemble._forest.ExtraTreesClassifier'> - scaler: None, accuracy: 0.5912955990421931\u001b[0m\n",
      "\u001b[32m2024-05-22 14:49:35.130\u001b[0m | \u001b[1mINFO    \u001b[0m | \u001b[36mdata_processing.english_data_processing\u001b[0m:\u001b[36mevaluate_models\u001b[0m:\u001b[36m74\u001b[0m - \u001b[1mModel <class 'sklearn.ensemble._forest.RandomForestClassifier'> - scaler: StandardScaler(), accuracy: 0.5912941127900255\u001b[0m\n",
      "\u001b[32m2024-05-22 14:49:48.145\u001b[0m | \u001b[1mINFO    \u001b[0m | \u001b[36mdata_processing.english_data_processing\u001b[0m:\u001b[36mevaluate_models\u001b[0m:\u001b[36m74\u001b[0m - \u001b[1mModel <class 'sklearn.ensemble._forest.ExtraTreesClassifier'> - scaler: StandardScaler(), accuracy: 0.5888408884485179\u001b[0m\n",
      "\u001b[32m2024-05-22 14:50:25.669\u001b[0m | \u001b[1mINFO    \u001b[0m | \u001b[36mdata_processing.english_data_processing\u001b[0m:\u001b[36mevaluate_models\u001b[0m:\u001b[36m74\u001b[0m - \u001b[1mModel <class 'sklearn.ensemble._forest.RandomForestClassifier'> - scaler: MinMaxScaler(), accuracy: 0.5912065064817109\u001b[0m\n",
      "\u001b[32m2024-05-22 14:50:35.223\u001b[0m | \u001b[1mINFO    \u001b[0m | \u001b[36mdata_processing.english_data_processing\u001b[0m:\u001b[36mevaluate_models\u001b[0m:\u001b[36m74\u001b[0m - \u001b[1mModel <class 'sklearn.ensemble._forest.ExtraTreesClassifier'> - scaler: MinMaxScaler(), accuracy: 0.5922954339030634\u001b[0m\n",
      "\u001b[32m2024-05-22 14:51:05.859\u001b[0m | \u001b[1mINFO    \u001b[0m | \u001b[36mdata_processing.english_data_processing\u001b[0m:\u001b[36mevaluate_models\u001b[0m:\u001b[36m74\u001b[0m - \u001b[1mModel <class 'sklearn.ensemble._forest.RandomForestClassifier'> - scaler: MaxAbsScaler(), accuracy: 0.5929308892742136\u001b[0m\n",
      "\u001b[32m2024-05-22 14:51:17.381\u001b[0m | \u001b[1mINFO    \u001b[0m | \u001b[36mdata_processing.english_data_processing\u001b[0m:\u001b[36mevaluate_models\u001b[0m:\u001b[36m74\u001b[0m - \u001b[1mModel <class 'sklearn.ensemble._forest.ExtraTreesClassifier'> - scaler: MaxAbsScaler(), accuracy: 0.5900232020477254\u001b[0m\n",
      "\u001b[32m2024-05-22 14:51:59.992\u001b[0m | \u001b[1mINFO    \u001b[0m | \u001b[36mdata_processing.english_data_processing\u001b[0m:\u001b[36mevaluate_models\u001b[0m:\u001b[36m74\u001b[0m - \u001b[1mModel <class 'sklearn.ensemble._forest.RandomForestClassifier'> - scaler: RobustScaler(), accuracy: 0.5930222112129468\u001b[0m\n",
      "\u001b[32m2024-05-22 14:52:13.326\u001b[0m | \u001b[1mINFO    \u001b[0m | \u001b[36mdata_processing.english_data_processing\u001b[0m:\u001b[36mevaluate_models\u001b[0m:\u001b[36m74\u001b[0m - \u001b[1mModel <class 'sklearn.ensemble._forest.ExtraTreesClassifier'> - scaler: RobustScaler(), accuracy: 0.5913846090331103\u001b[0m\n",
      "\u001b[32m2024-05-22 14:52:49.250\u001b[0m | \u001b[1mINFO    \u001b[0m | \u001b[36mdata_processing.english_data_processing\u001b[0m:\u001b[36mevaluate_models\u001b[0m:\u001b[36m74\u001b[0m - \u001b[1mModel <class 'sklearn.ensemble._forest.RandomForestClassifier'> - scaler: Normalizer(), accuracy: 0.5853884072330938\u001b[0m\n",
      "\u001b[32m2024-05-22 14:52:58.819\u001b[0m | \u001b[1mINFO    \u001b[0m | \u001b[36mdata_processing.english_data_processing\u001b[0m:\u001b[36mevaluate_models\u001b[0m:\u001b[36m74\u001b[0m - \u001b[1mModel <class 'sklearn.ensemble._forest.ExtraTreesClassifier'> - scaler: Normalizer(), accuracy: 0.5872941953595904\u001b[0m\n",
      "\u001b[32m2024-05-22 14:52:58.819\u001b[0m | \u001b[1mINFO    \u001b[0m | \u001b[36mdata_processing.english_data_processing\u001b[0m:\u001b[36mevaluate_models\u001b[0m:\u001b[36m82\u001b[0m - \u001b[1mBest Model: <class 'sklearn.ensemble._forest.RandomForestClassifier'>\u001b[0m\n",
      "\u001b[32m2024-05-22 14:52:58.820\u001b[0m | \u001b[1mINFO    \u001b[0m | \u001b[36mdata_processing.english_data_processing\u001b[0m:\u001b[36mevaluate_models\u001b[0m:\u001b[36m83\u001b[0m - \u001b[1mBest Scaler: RobustScaler\u001b[0m\n",
      "\u001b[32m2024-05-22 14:52:58.821\u001b[0m | \u001b[1mINFO    \u001b[0m | \u001b[36mdata_processing.english_data_processing\u001b[0m:\u001b[36mevaluate_models\u001b[0m:\u001b[36m84\u001b[0m - \u001b[1mBest Average Accuracy: 0.5930222112129468\u001b[0m\n",
      "\u001b[32m2024-05-22 14:52:58.822\u001b[0m | \u001b[1mINFO    \u001b[0m | \u001b[36mfeature_extraction.feature_extractor\u001b[0m:\u001b[36mprocess_folder\u001b[0m:\u001b[36m148\u001b[0m - \u001b[1mProcessing input folder: D:/data_analysis/speech_emotion_recognition/data/EnglishDataset/cleaned_data0\u001b[0m\n"
     ]
    },
    {
     "name": "stdout",
     "output_type": "stream",
     "text": [
      "Scaler: RobustScaler, Model: <class 'sklearn.ensemble._forest.RandomForestClassifier'>, n_mfcc: 13, Selected features: ['mfcc', 'zcr', 'pitch', 'rms'], Accuracy: 0.5930222112129468\n"
     ]
    },
    {
     "name": "stderr",
     "output_type": "stream",
     "text": [
      "\u001b[32m2024-05-22 14:54:43.140\u001b[0m | \u001b[1mINFO    \u001b[0m | \u001b[36mfeature_extraction.feature_extractor\u001b[0m:\u001b[36mprocess_folder\u001b[0m:\u001b[36m158\u001b[0m - \u001b[1mFeature extraction completed. Data saved to: D:/data_analysis/speech_emotion_recognition/notebooks/feature2.csv\u001b[0m\n",
      "\u001b[32m2024-05-22 14:54:43.227\u001b[0m | \u001b[1mINFO    \u001b[0m | \u001b[36mdata_processing.english_data_processing\u001b[0m:\u001b[36mevaluate_models\u001b[0m:\u001b[36m53\u001b[0m - \u001b[1mFinding best model....\u001b[0m\n",
      "\u001b[32m2024-05-22 14:55:51.326\u001b[0m | \u001b[1mINFO    \u001b[0m | \u001b[36mdata_processing.english_data_processing\u001b[0m:\u001b[36mevaluate_models\u001b[0m:\u001b[36m74\u001b[0m - \u001b[1mModel <class 'sklearn.ensemble._forest.RandomForestClassifier'> - scaler: None, accuracy: 0.6221040376517216\u001b[0m\n",
      "\u001b[32m2024-05-22 14:56:05.780\u001b[0m | \u001b[1mINFO    \u001b[0m | \u001b[36mdata_processing.english_data_processing\u001b[0m:\u001b[36mevaluate_models\u001b[0m:\u001b[36m74\u001b[0m - \u001b[1mModel <class 'sklearn.ensemble._forest.ExtraTreesClassifier'> - scaler: None, accuracy: 0.6204683345718769\u001b[0m\n",
      "\u001b[32m2024-05-22 14:57:19.389\u001b[0m | \u001b[1mINFO    \u001b[0m | \u001b[36mdata_processing.english_data_processing\u001b[0m:\u001b[36mevaluate_models\u001b[0m:\u001b[36m74\u001b[0m - \u001b[1mModel <class 'sklearn.ensemble._forest.RandomForestClassifier'> - scaler: StandardScaler(), accuracy: 0.6225591610932211\u001b[0m\n",
      "\u001b[32m2024-05-22 14:57:37.947\u001b[0m | \u001b[1mINFO    \u001b[0m | \u001b[36mdata_processing.english_data_processing\u001b[0m:\u001b[36mevaluate_models\u001b[0m:\u001b[36m74\u001b[0m - \u001b[1mModel <class 'sklearn.ensemble._forest.ExtraTreesClassifier'> - scaler: StandardScaler(), accuracy: 0.6176503178928248\u001b[0m\n",
      "\u001b[32m2024-05-22 14:58:57.539\u001b[0m | \u001b[1mINFO    \u001b[0m | \u001b[36mdata_processing.english_data_processing\u001b[0m:\u001b[36mevaluate_models\u001b[0m:\u001b[36m74\u001b[0m - \u001b[1mModel <class 'sklearn.ensemble._forest.RandomForestClassifier'> - scaler: MinMaxScaler(), accuracy: 0.6221963504252332\u001b[0m\n",
      "\u001b[32m2024-05-22 14:59:17.620\u001b[0m | \u001b[1mINFO    \u001b[0m | \u001b[36mdata_processing.english_data_processing\u001b[0m:\u001b[36mevaluate_models\u001b[0m:\u001b[36m74\u001b[0m - \u001b[1mModel <class 'sklearn.ensemble._forest.ExtraTreesClassifier'> - scaler: MinMaxScaler(), accuracy: 0.6126523821319461\u001b[0m\n",
      "\u001b[32m2024-05-22 15:00:50.748\u001b[0m | \u001b[1mINFO    \u001b[0m | \u001b[36mdata_processing.english_data_processing\u001b[0m:\u001b[36mevaluate_models\u001b[0m:\u001b[36m74\u001b[0m - \u001b[1mModel <class 'sklearn.ensemble._forest.RandomForestClassifier'> - scaler: MaxAbsScaler(), accuracy: 0.6196498224754355\u001b[0m\n",
      "\u001b[32m2024-05-22 15:01:12.062\u001b[0m | \u001b[1mINFO    \u001b[0m | \u001b[36mdata_processing.english_data_processing\u001b[0m:\u001b[36mevaluate_models\u001b[0m:\u001b[36m74\u001b[0m - \u001b[1mModel <class 'sklearn.ensemble._forest.ExtraTreesClassifier'> - scaler: MaxAbsScaler(), accuracy: 0.6172866815291884\u001b[0m\n",
      "\u001b[32m2024-05-22 15:02:33.166\u001b[0m | \u001b[1mINFO    \u001b[0m | \u001b[36mdata_processing.english_data_processing\u001b[0m:\u001b[36mevaluate_models\u001b[0m:\u001b[36m74\u001b[0m - \u001b[1mModel <class 'sklearn.ensemble._forest.RandomForestClassifier'> - scaler: RobustScaler(), accuracy: 0.6189235405829412\u001b[0m\n",
      "\u001b[32m2024-05-22 15:02:53.798\u001b[0m | \u001b[1mINFO    \u001b[0m | \u001b[36mdata_processing.english_data_processing\u001b[0m:\u001b[36mevaluate_models\u001b[0m:\u001b[36m74\u001b[0m - \u001b[1mModel <class 'sklearn.ensemble._forest.ExtraTreesClassifier'> - scaler: RobustScaler(), accuracy: 0.618197671538271\u001b[0m\n",
      "\u001b[32m2024-05-22 15:04:23.231\u001b[0m | \u001b[1mINFO    \u001b[0m | \u001b[36mdata_processing.english_data_processing\u001b[0m:\u001b[36mevaluate_models\u001b[0m:\u001b[36m74\u001b[0m - \u001b[1mModel <class 'sklearn.ensemble._forest.RandomForestClassifier'> - scaler: Normalizer(), accuracy: 0.589383700767897\u001b[0m\n",
      "\u001b[32m2024-05-22 15:04:38.397\u001b[0m | \u001b[1mINFO    \u001b[0m | \u001b[36mdata_processing.english_data_processing\u001b[0m:\u001b[36mevaluate_models\u001b[0m:\u001b[36m74\u001b[0m - \u001b[1mModel <class 'sklearn.ensemble._forest.ExtraTreesClassifier'> - scaler: Normalizer(), accuracy: 0.5951109734951696\u001b[0m\n",
      "\u001b[32m2024-05-22 15:04:38.398\u001b[0m | \u001b[1mINFO    \u001b[0m | \u001b[36mdata_processing.english_data_processing\u001b[0m:\u001b[36mevaluate_models\u001b[0m:\u001b[36m82\u001b[0m - \u001b[1mBest Model: <class 'sklearn.ensemble._forest.RandomForestClassifier'>\u001b[0m\n",
      "\u001b[32m2024-05-22 15:04:38.399\u001b[0m | \u001b[1mINFO    \u001b[0m | \u001b[36mdata_processing.english_data_processing\u001b[0m:\u001b[36mevaluate_models\u001b[0m:\u001b[36m83\u001b[0m - \u001b[1mBest Scaler: StandardScaler\u001b[0m\n",
      "\u001b[32m2024-05-22 15:04:38.399\u001b[0m | \u001b[1mINFO    \u001b[0m | \u001b[36mdata_processing.english_data_processing\u001b[0m:\u001b[36mevaluate_models\u001b[0m:\u001b[36m84\u001b[0m - \u001b[1mBest Average Accuracy: 0.6225591610932211\u001b[0m\n",
      "\u001b[32m2024-05-22 15:04:38.401\u001b[0m | \u001b[1mINFO    \u001b[0m | \u001b[36mfeature_extraction.feature_extractor\u001b[0m:\u001b[36mprocess_folder\u001b[0m:\u001b[36m148\u001b[0m - \u001b[1mProcessing input folder: D:/data_analysis/speech_emotion_recognition/data/EnglishDataset/cleaned_data0\u001b[0m\n"
     ]
    },
    {
     "name": "stdout",
     "output_type": "stream",
     "text": [
      "Scaler: StandardScaler, Model: <class 'sklearn.ensemble._forest.RandomForestClassifier'>, n_mfcc: 13, Selected features: ['mfcc', 'mfcc_statistics', 'pitch', 'rms'], Accuracy: 0.6225591610932211\n"
     ]
    },
    {
     "name": "stderr",
     "output_type": "stream",
     "text": [
      "\u001b[32m2024-05-22 15:06:37.994\u001b[0m | \u001b[1mINFO    \u001b[0m | \u001b[36mfeature_extraction.feature_extractor\u001b[0m:\u001b[36mprocess_folder\u001b[0m:\u001b[36m158\u001b[0m - \u001b[1mFeature extraction completed. Data saved to: D:/data_analysis/speech_emotion_recognition/notebooks/feature2.csv\u001b[0m\n",
      "\u001b[32m2024-05-22 15:06:38.112\u001b[0m | \u001b[1mINFO    \u001b[0m | \u001b[36mdata_processing.english_data_processing\u001b[0m:\u001b[36mevaluate_models\u001b[0m:\u001b[36m53\u001b[0m - \u001b[1mFinding best model....\u001b[0m\n",
      "\u001b[32m2024-05-22 15:07:54.742\u001b[0m | \u001b[1mINFO    \u001b[0m | \u001b[36mdata_processing.english_data_processing\u001b[0m:\u001b[36mevaluate_models\u001b[0m:\u001b[36m74\u001b[0m - \u001b[1mModel <class 'sklearn.ensemble._forest.RandomForestClassifier'> - scaler: None, accuracy: 0.6221959375774089\u001b[0m\n",
      "\u001b[32m2024-05-22 15:08:11.284\u001b[0m | \u001b[1mINFO    \u001b[0m | \u001b[36mdata_processing.english_data_processing\u001b[0m:\u001b[36mevaluate_models\u001b[0m:\u001b[36m74\u001b[0m - \u001b[1mModel <class 'sklearn.ensemble._forest.ExtraTreesClassifier'> - scaler: None, accuracy: 0.6210126331434234\u001b[0m\n",
      "\u001b[32m2024-05-22 15:09:25.795\u001b[0m | \u001b[1mINFO    \u001b[0m | \u001b[36mdata_processing.english_data_processing\u001b[0m:\u001b[36mevaluate_models\u001b[0m:\u001b[36m74\u001b[0m - \u001b[1mModel <class 'sklearn.ensemble._forest.RandomForestClassifier'> - scaler: StandardScaler(), accuracy: 0.6216516390058625\u001b[0m\n",
      "\u001b[32m2024-05-22 15:09:40.216\u001b[0m | \u001b[1mINFO    \u001b[0m | \u001b[36mdata_processing.english_data_processing\u001b[0m:\u001b[36mevaluate_models\u001b[0m:\u001b[36m74\u001b[0m - \u001b[1mModel <class 'sklearn.ensemble._forest.ExtraTreesClassifier'> - scaler: StandardScaler(), accuracy: 0.6208300718355215\u001b[0m\n",
      "\u001b[32m2024-05-22 15:10:48.487\u001b[0m | \u001b[1mINFO    \u001b[0m | \u001b[36mdata_processing.english_data_processing\u001b[0m:\u001b[36mevaluate_models\u001b[0m:\u001b[36m74\u001b[0m - \u001b[1mModel <class 'sklearn.ensemble._forest.RandomForestClassifier'> - scaler: MinMaxScaler(), accuracy: 0.6223771777722732\u001b[0m\n",
      "\u001b[32m2024-05-22 15:11:05.031\u001b[0m | \u001b[1mINFO    \u001b[0m | \u001b[36mdata_processing.english_data_processing\u001b[0m:\u001b[36mevaluate_models\u001b[0m:\u001b[36m74\u001b[0m - \u001b[1mModel <class 'sklearn.ensemble._forest.ExtraTreesClassifier'> - scaler: MinMaxScaler(), accuracy: 0.6195576748410535\u001b[0m\n",
      "\u001b[32m2024-05-22 15:12:23.533\u001b[0m | \u001b[1mINFO    \u001b[0m | \u001b[36mdata_processing.english_data_processing\u001b[0m:\u001b[36mevaluate_models\u001b[0m:\u001b[36m74\u001b[0m - \u001b[1mModel <class 'sklearn.ensemble._forest.RandomForestClassifier'> - scaler: MaxAbsScaler(), accuracy: 0.6212861861117992\u001b[0m\n",
      "\u001b[32m2024-05-22 15:12:41.032\u001b[0m | \u001b[1mINFO    \u001b[0m | \u001b[36mdata_processing.english_data_processing\u001b[0m:\u001b[36mevaluate_models\u001b[0m:\u001b[36m74\u001b[0m - \u001b[1mModel <class 'sklearn.ensemble._forest.ExtraTreesClassifier'> - scaler: MaxAbsScaler(), accuracy: 0.617105523903889\u001b[0m\n",
      "\u001b[32m2024-05-22 15:13:59.078\u001b[0m | \u001b[1mINFO    \u001b[0m | \u001b[36mdata_processing.english_data_processing\u001b[0m:\u001b[36mevaluate_models\u001b[0m:\u001b[36m74\u001b[0m - \u001b[1mModel <class 'sklearn.ensemble._forest.RandomForestClassifier'> - scaler: RobustScaler(), accuracy: 0.6241955247295847\u001b[0m\n",
      "\u001b[32m2024-05-22 15:14:16.428\u001b[0m | \u001b[1mINFO    \u001b[0m | \u001b[36mdata_processing.english_data_processing\u001b[0m:\u001b[36mevaluate_models\u001b[0m:\u001b[36m74\u001b[0m - \u001b[1mModel <class 'sklearn.ensemble._forest.ExtraTreesClassifier'> - scaler: RobustScaler(), accuracy: 0.6153785814548758\u001b[0m\n",
      "\u001b[32m2024-05-22 15:15:28.816\u001b[0m | \u001b[1mINFO    \u001b[0m | \u001b[36mdata_processing.english_data_processing\u001b[0m:\u001b[36mevaluate_models\u001b[0m:\u001b[36m74\u001b[0m - \u001b[1mModel <class 'sklearn.ensemble._forest.RandomForestClassifier'> - scaler: Normalizer(), accuracy: 0.5966558500536703\u001b[0m\n",
      "\u001b[32m2024-05-22 15:15:46.339\u001b[0m | \u001b[1mINFO    \u001b[0m | \u001b[36mdata_processing.english_data_processing\u001b[0m:\u001b[36mevaluate_models\u001b[0m:\u001b[36m74\u001b[0m - \u001b[1mModel <class 'sklearn.ensemble._forest.ExtraTreesClassifier'> - scaler: Normalizer(), accuracy: 0.5960191561390472\u001b[0m\n",
      "\u001b[32m2024-05-22 15:15:46.340\u001b[0m | \u001b[1mINFO    \u001b[0m | \u001b[36mdata_processing.english_data_processing\u001b[0m:\u001b[36mevaluate_models\u001b[0m:\u001b[36m82\u001b[0m - \u001b[1mBest Model: <class 'sklearn.ensemble._forest.RandomForestClassifier'>\u001b[0m\n",
      "\u001b[32m2024-05-22 15:15:46.341\u001b[0m | \u001b[1mINFO    \u001b[0m | \u001b[36mdata_processing.english_data_processing\u001b[0m:\u001b[36mevaluate_models\u001b[0m:\u001b[36m83\u001b[0m - \u001b[1mBest Scaler: RobustScaler\u001b[0m\n",
      "\u001b[32m2024-05-22 15:15:46.341\u001b[0m | \u001b[1mINFO    \u001b[0m | \u001b[36mdata_processing.english_data_processing\u001b[0m:\u001b[36mevaluate_models\u001b[0m:\u001b[36m84\u001b[0m - \u001b[1mBest Average Accuracy: 0.6241955247295847\u001b[0m\n",
      "\u001b[32m2024-05-22 15:15:46.343\u001b[0m | \u001b[1mINFO    \u001b[0m | \u001b[36mfeature_extraction.feature_extractor\u001b[0m:\u001b[36mprocess_folder\u001b[0m:\u001b[36m148\u001b[0m - \u001b[1mProcessing input folder: D:/data_analysis/speech_emotion_recognition/data/EnglishDataset/cleaned_data0\u001b[0m\n"
     ]
    },
    {
     "name": "stdout",
     "output_type": "stream",
     "text": [
      "Scaler: RobustScaler, Model: <class 'sklearn.ensemble._forest.RandomForestClassifier'>, n_mfcc: 13, Selected features: ['mfcc', 'mfcc_statistics', 'zcr', 'rms'], Accuracy: 0.6241955247295847\n"
     ]
    },
    {
     "name": "stderr",
     "output_type": "stream",
     "text": [
      "\u001b[32m2024-05-22 15:17:50.752\u001b[0m | \u001b[1mINFO    \u001b[0m | \u001b[36mfeature_extraction.feature_extractor\u001b[0m:\u001b[36mprocess_folder\u001b[0m:\u001b[36m158\u001b[0m - \u001b[1mFeature extraction completed. Data saved to: D:/data_analysis/speech_emotion_recognition/notebooks/feature2.csv\u001b[0m\n",
      "\u001b[32m2024-05-22 15:17:50.844\u001b[0m | \u001b[1mINFO    \u001b[0m | \u001b[36mdata_processing.english_data_processing\u001b[0m:\u001b[36mevaluate_models\u001b[0m:\u001b[36m53\u001b[0m - \u001b[1mFinding best model....\u001b[0m\n",
      "\u001b[32m2024-05-22 15:18:55.958\u001b[0m | \u001b[1mINFO    \u001b[0m | \u001b[36mdata_processing.english_data_processing\u001b[0m:\u001b[36mevaluate_models\u001b[0m:\u001b[36m74\u001b[0m - \u001b[1mModel <class 'sklearn.ensemble._forest.RandomForestClassifier'> - scaler: None, accuracy: 0.6199243662785897\u001b[0m\n",
      "\u001b[32m2024-05-22 15:19:10.352\u001b[0m | \u001b[1mINFO    \u001b[0m | \u001b[36mdata_processing.english_data_processing\u001b[0m:\u001b[36mevaluate_models\u001b[0m:\u001b[36m74\u001b[0m - \u001b[1mModel <class 'sklearn.ensemble._forest.ExtraTreesClassifier'> - scaler: None, accuracy: 0.6138337874659399\u001b[0m\n",
      "\u001b[32m2024-05-22 15:20:22.138\u001b[0m | \u001b[1mINFO    \u001b[0m | \u001b[36mdata_processing.english_data_processing\u001b[0m:\u001b[36mevaluate_models\u001b[0m:\u001b[36m74\u001b[0m - \u001b[1mModel <class 'sklearn.ensemble._forest.RandomForestClassifier'> - scaler: StandardScaler(), accuracy: 0.620013954256461\u001b[0m\n",
      "\u001b[32m2024-05-22 15:20:38.100\u001b[0m | \u001b[1mINFO    \u001b[0m | \u001b[36mdata_processing.english_data_processing\u001b[0m:\u001b[36mevaluate_models\u001b[0m:\u001b[36m74\u001b[0m - \u001b[1mModel <class 'sklearn.ensemble._forest.ExtraTreesClassifier'> - scaler: StandardScaler(), accuracy: 0.6169236231525059\u001b[0m\n",
      "\u001b[32m2024-05-22 15:21:44.750\u001b[0m | \u001b[1mINFO    \u001b[0m | \u001b[36mdata_processing.english_data_processing\u001b[0m:\u001b[36mevaluate_models\u001b[0m:\u001b[36m74\u001b[0m - \u001b[1mModel <class 'sklearn.ensemble._forest.RandomForestClassifier'> - scaler: MinMaxScaler(), accuracy: 0.6193759392288003\u001b[0m\n",
      "\u001b[32m2024-05-22 15:21:59.078\u001b[0m | \u001b[1mINFO    \u001b[0m | \u001b[36mdata_processing.english_data_processing\u001b[0m:\u001b[36mevaluate_models\u001b[0m:\u001b[36m74\u001b[0m - \u001b[1mModel <class 'sklearn.ensemble._forest.ExtraTreesClassifier'> - scaler: MinMaxScaler(), accuracy: 0.6222867640987532\u001b[0m\n",
      "\u001b[32m2024-05-22 15:23:10.064\u001b[0m | \u001b[1mINFO    \u001b[0m | \u001b[36mdata_processing.english_data_processing\u001b[0m:\u001b[36mevaluate_models\u001b[0m:\u001b[36m74\u001b[0m - \u001b[1mModel <class 'sklearn.ensemble._forest.RandomForestClassifier'> - scaler: MaxAbsScaler(), accuracy: 0.620558005119313\u001b[0m\n",
      "\u001b[32m2024-05-22 15:23:26.045\u001b[0m | \u001b[1mINFO    \u001b[0m | \u001b[36mdata_processing.english_data_processing\u001b[0m:\u001b[36mevaluate_models\u001b[0m:\u001b[36m74\u001b[0m - \u001b[1mModel <class 'sklearn.ensemble._forest.ExtraTreesClassifier'> - scaler: MaxAbsScaler(), accuracy: 0.6199210634959954\u001b[0m\n",
      "\u001b[32m2024-05-22 15:24:32.770\u001b[0m | \u001b[1mINFO    \u001b[0m | \u001b[36mdata_processing.english_data_processing\u001b[0m:\u001b[36mevaluate_models\u001b[0m:\u001b[36m74\u001b[0m - \u001b[1mModel <class 'sklearn.ensemble._forest.RandomForestClassifier'> - scaler: RobustScaler(), accuracy: 0.6167418049706878\u001b[0m\n",
      "\u001b[32m2024-05-22 15:24:47.755\u001b[0m | \u001b[1mINFO    \u001b[0m | \u001b[36mdata_processing.english_data_processing\u001b[0m:\u001b[36mevaluate_models\u001b[0m:\u001b[36m74\u001b[0m - \u001b[1mModel <class 'sklearn.ensemble._forest.ExtraTreesClassifier'> - scaler: RobustScaler(), accuracy: 0.613744116918504\u001b[0m\n",
      "\u001b[32m2024-05-22 15:25:59.761\u001b[0m | \u001b[1mINFO    \u001b[0m | \u001b[36mdata_processing.english_data_processing\u001b[0m:\u001b[36mevaluate_models\u001b[0m:\u001b[36m74\u001b[0m - \u001b[1mModel <class 'sklearn.ensemble._forest.RandomForestClassifier'> - scaler: Normalizer(), accuracy: 0.593383700767897\u001b[0m\n",
      "\u001b[32m2024-05-22 15:26:15.770\u001b[0m | \u001b[1mINFO    \u001b[0m | \u001b[36mdata_processing.english_data_processing\u001b[0m:\u001b[36mevaluate_models\u001b[0m:\u001b[36m74\u001b[0m - \u001b[1mModel <class 'sklearn.ensemble._forest.ExtraTreesClassifier'> - scaler: Normalizer(), accuracy: 0.594111386342994\u001b[0m\n",
      "\u001b[32m2024-05-22 15:26:15.771\u001b[0m | \u001b[1mINFO    \u001b[0m | \u001b[36mdata_processing.english_data_processing\u001b[0m:\u001b[36mevaluate_models\u001b[0m:\u001b[36m82\u001b[0m - \u001b[1mBest Model: <class 'sklearn.ensemble._forest.ExtraTreesClassifier'>\u001b[0m\n",
      "\u001b[32m2024-05-22 15:26:15.771\u001b[0m | \u001b[1mINFO    \u001b[0m | \u001b[36mdata_processing.english_data_processing\u001b[0m:\u001b[36mevaluate_models\u001b[0m:\u001b[36m83\u001b[0m - \u001b[1mBest Scaler: MinMaxScaler\u001b[0m\n",
      "\u001b[32m2024-05-22 15:26:15.772\u001b[0m | \u001b[1mINFO    \u001b[0m | \u001b[36mdata_processing.english_data_processing\u001b[0m:\u001b[36mevaluate_models\u001b[0m:\u001b[36m84\u001b[0m - \u001b[1mBest Average Accuracy: 0.6222867640987532\u001b[0m\n",
      "\u001b[32m2024-05-22 15:26:15.774\u001b[0m | \u001b[1mINFO    \u001b[0m | \u001b[36mfeature_extraction.feature_extractor\u001b[0m:\u001b[36mprocess_folder\u001b[0m:\u001b[36m148\u001b[0m - \u001b[1mProcessing input folder: D:/data_analysis/speech_emotion_recognition/data/EnglishDataset/cleaned_data0\u001b[0m\n"
     ]
    },
    {
     "name": "stdout",
     "output_type": "stream",
     "text": [
      "Scaler: MinMaxScaler, Model: <class 'sklearn.ensemble._forest.ExtraTreesClassifier'>, n_mfcc: 13, Selected features: ['mfcc', 'mfcc_statistics', 'zcr', 'pitch'], Accuracy: 0.6222867640987532\n"
     ]
    },
    {
     "name": "stderr",
     "output_type": "stream",
     "text": [
      "\u001b[32m2024-05-22 15:27:04.474\u001b[0m | \u001b[1mINFO    \u001b[0m | \u001b[36mfeature_extraction.feature_extractor\u001b[0m:\u001b[36mprocess_folder\u001b[0m:\u001b[36m158\u001b[0m - \u001b[1mFeature extraction completed. Data saved to: D:/data_analysis/speech_emotion_recognition/notebooks/feature2.csv\u001b[0m\n",
      "\u001b[32m2024-05-22 15:27:04.500\u001b[0m | \u001b[1mINFO    \u001b[0m | \u001b[36mdata_processing.english_data_processing\u001b[0m:\u001b[36mevaluate_models\u001b[0m:\u001b[36m53\u001b[0m - \u001b[1mFinding best model....\u001b[0m\n",
      "\u001b[32m2024-05-22 15:27:28.129\u001b[0m | \u001b[1mINFO    \u001b[0m | \u001b[36mdata_processing.english_data_processing\u001b[0m:\u001b[36mevaluate_models\u001b[0m:\u001b[36m74\u001b[0m - \u001b[1mModel <class 'sklearn.ensemble._forest.RandomForestClassifier'> - scaler: None, accuracy: 0.5281321938733383\u001b[0m\n",
      "\u001b[32m2024-05-22 15:27:36.854\u001b[0m | \u001b[1mINFO    \u001b[0m | \u001b[36mdata_processing.english_data_processing\u001b[0m:\u001b[36mevaluate_models\u001b[0m:\u001b[36m74\u001b[0m - \u001b[1mModel <class 'sklearn.ensemble._forest.ExtraTreesClassifier'> - scaler: None, accuracy: 0.5315838493931138\u001b[0m\n",
      "\u001b[32m2024-05-22 15:28:00.450\u001b[0m | \u001b[1mINFO    \u001b[0m | \u001b[36mdata_processing.english_data_processing\u001b[0m:\u001b[36mevaluate_models\u001b[0m:\u001b[36m74\u001b[0m - \u001b[1mModel <class 'sklearn.ensemble._forest.RandomForestClassifier'> - scaler: StandardScaler(), accuracy: 0.5318563289571465\u001b[0m\n",
      "\u001b[32m2024-05-22 15:28:08.768\u001b[0m | \u001b[1mINFO    \u001b[0m | \u001b[36mdata_processing.english_data_processing\u001b[0m:\u001b[36mevaluate_models\u001b[0m:\u001b[36m74\u001b[0m - \u001b[1mModel <class 'sklearn.ensemble._forest.ExtraTreesClassifier'> - scaler: StandardScaler(), accuracy: 0.5310374865824457\u001b[0m\n",
      "\u001b[32m2024-05-22 15:28:31.594\u001b[0m | \u001b[1mINFO    \u001b[0m | \u001b[36mdata_processing.english_data_processing\u001b[0m:\u001b[36mevaluate_models\u001b[0m:\u001b[36m74\u001b[0m - \u001b[1mModel <class 'sklearn.ensemble._forest.RandomForestClassifier'> - scaler: MinMaxScaler(), accuracy: 0.531129469077698\u001b[0m\n",
      "\u001b[32m2024-05-22 15:28:40.628\u001b[0m | \u001b[1mINFO    \u001b[0m | \u001b[36mdata_processing.english_data_processing\u001b[0m:\u001b[36mevaluate_models\u001b[0m:\u001b[36m74\u001b[0m - \u001b[1mModel <class 'sklearn.ensemble._forest.ExtraTreesClassifier'> - scaler: MinMaxScaler(), accuracy: 0.5298570720832301\u001b[0m\n",
      "\u001b[32m2024-05-22 15:29:04.932\u001b[0m | \u001b[1mINFO    \u001b[0m | \u001b[36mdata_processing.english_data_processing\u001b[0m:\u001b[36mevaluate_models\u001b[0m:\u001b[36m74\u001b[0m - \u001b[1mModel <class 'sklearn.ensemble._forest.RandomForestClassifier'> - scaler: MaxAbsScaler(), accuracy: 0.530223846090331\u001b[0m\n",
      "\u001b[32m2024-05-22 15:29:13.745\u001b[0m | \u001b[1mINFO    \u001b[0m | \u001b[36mdata_processing.english_data_processing\u001b[0m:\u001b[36mevaluate_models\u001b[0m:\u001b[36m74\u001b[0m - \u001b[1mModel <class 'sklearn.ensemble._forest.ExtraTreesClassifier'> - scaler: MaxAbsScaler(), accuracy: 0.529130625051606\u001b[0m\n",
      "\u001b[32m2024-05-22 15:29:37.415\u001b[0m | \u001b[1mINFO    \u001b[0m | \u001b[36mdata_processing.english_data_processing\u001b[0m:\u001b[36mevaluate_models\u001b[0m:\u001b[36m74\u001b[0m - \u001b[1mModel <class 'sklearn.ensemble._forest.RandomForestClassifier'> - scaler: RobustScaler(), accuracy: 0.5324033523243332\u001b[0m\n",
      "\u001b[32m2024-05-22 15:29:45.974\u001b[0m | \u001b[1mINFO    \u001b[0m | \u001b[36mdata_processing.english_data_processing\u001b[0m:\u001b[36mevaluate_models\u001b[0m:\u001b[36m74\u001b[0m - \u001b[1mModel <class 'sklearn.ensemble._forest.ExtraTreesClassifier'> - scaler: RobustScaler(), accuracy: 0.5312190570555694\u001b[0m\n",
      "\u001b[32m2024-05-22 15:30:08.999\u001b[0m | \u001b[1mINFO    \u001b[0m | \u001b[36mdata_processing.english_data_processing\u001b[0m:\u001b[36mevaluate_models\u001b[0m:\u001b[36m74\u001b[0m - \u001b[1mModel <class 'sklearn.ensemble._forest.RandomForestClassifier'> - scaler: Normalizer(), accuracy: 0.4964107010156056\u001b[0m\n",
      "\u001b[32m2024-05-22 15:30:17.461\u001b[0m | \u001b[1mINFO    \u001b[0m | \u001b[36mdata_processing.english_data_processing\u001b[0m:\u001b[36mevaluate_models\u001b[0m:\u001b[36m74\u001b[0m - \u001b[1mModel <class 'sklearn.ensemble._forest.ExtraTreesClassifier'> - scaler: Normalizer(), accuracy: 0.48832334241598546\u001b[0m\n",
      "\u001b[32m2024-05-22 15:30:17.462\u001b[0m | \u001b[1mINFO    \u001b[0m | \u001b[36mdata_processing.english_data_processing\u001b[0m:\u001b[36mevaluate_models\u001b[0m:\u001b[36m82\u001b[0m - \u001b[1mBest Model: <class 'sklearn.ensemble._forest.RandomForestClassifier'>\u001b[0m\n",
      "\u001b[32m2024-05-22 15:30:17.463\u001b[0m | \u001b[1mINFO    \u001b[0m | \u001b[36mdata_processing.english_data_processing\u001b[0m:\u001b[36mevaluate_models\u001b[0m:\u001b[36m83\u001b[0m - \u001b[1mBest Scaler: RobustScaler\u001b[0m\n",
      "\u001b[32m2024-05-22 15:30:17.463\u001b[0m | \u001b[1mINFO    \u001b[0m | \u001b[36mdata_processing.english_data_processing\u001b[0m:\u001b[36mevaluate_models\u001b[0m:\u001b[36m84\u001b[0m - \u001b[1mBest Average Accuracy: 0.5324033523243332\u001b[0m\n",
      "\u001b[32m2024-05-22 15:30:17.464\u001b[0m | \u001b[1mINFO    \u001b[0m | \u001b[36mfeature_extraction.feature_extractor\u001b[0m:\u001b[36mprocess_folder\u001b[0m:\u001b[36m148\u001b[0m - \u001b[1mProcessing input folder: D:/data_analysis/speech_emotion_recognition/data/EnglishDataset/cleaned_data0\u001b[0m\n"
     ]
    },
    {
     "name": "stdout",
     "output_type": "stream",
     "text": [
      "Scaler: RobustScaler, Model: <class 'sklearn.ensemble._forest.RandomForestClassifier'>, n_mfcc: 13, Selected features: ['zcr', 'pitch', 'rms'], Accuracy: 0.5324033523243332\n"
     ]
    },
    {
     "name": "stderr",
     "output_type": "stream",
     "text": [
      "\u001b[32m2024-05-22 15:31:38.795\u001b[0m | \u001b[1mINFO    \u001b[0m | \u001b[36mfeature_extraction.feature_extractor\u001b[0m:\u001b[36mprocess_folder\u001b[0m:\u001b[36m158\u001b[0m - \u001b[1mFeature extraction completed. Data saved to: D:/data_analysis/speech_emotion_recognition/notebooks/feature2.csv\u001b[0m\n",
      "\u001b[32m2024-05-22 15:31:38.869\u001b[0m | \u001b[1mINFO    \u001b[0m | \u001b[36mdata_processing.english_data_processing\u001b[0m:\u001b[36mevaluate_models\u001b[0m:\u001b[36m53\u001b[0m - \u001b[1mFinding best model....\u001b[0m\n",
      "\u001b[32m2024-05-22 15:32:38.342\u001b[0m | \u001b[1mINFO    \u001b[0m | \u001b[36mdata_processing.english_data_processing\u001b[0m:\u001b[36mevaluate_models\u001b[0m:\u001b[36m74\u001b[0m - \u001b[1mModel <class 'sklearn.ensemble._forest.RandomForestClassifier'> - scaler: None, accuracy: 0.6266490793493519\u001b[0m\n",
      "\u001b[32m2024-05-22 15:32:51.248\u001b[0m | \u001b[1mINFO    \u001b[0m | \u001b[36mdata_processing.english_data_processing\u001b[0m:\u001b[36mevaluate_models\u001b[0m:\u001b[36m74\u001b[0m - \u001b[1mModel <class 'sklearn.ensemble._forest.ExtraTreesClassifier'> - scaler: None, accuracy: 0.6235566014367104\u001b[0m\n",
      "\u001b[32m2024-05-22 15:33:48.438\u001b[0m | \u001b[1mINFO    \u001b[0m | \u001b[36mdata_processing.english_data_processing\u001b[0m:\u001b[36mevaluate_models\u001b[0m:\u001b[36m74\u001b[0m - \u001b[1mModel <class 'sklearn.ensemble._forest.RandomForestClassifier'> - scaler: StandardScaler(), accuracy: 0.6228306498224755\u001b[0m\n",
      "\u001b[32m2024-05-22 15:34:01.590\u001b[0m | \u001b[1mINFO    \u001b[0m | \u001b[36mdata_processing.english_data_processing\u001b[0m:\u001b[36mevaluate_models\u001b[0m:\u001b[36m74\u001b[0m - \u001b[1mModel <class 'sklearn.ensemble._forest.ExtraTreesClassifier'> - scaler: StandardScaler(), accuracy: 0.6205578399801832\u001b[0m\n",
      "\u001b[32m2024-05-22 15:35:01.502\u001b[0m | \u001b[1mINFO    \u001b[0m | \u001b[36mdata_processing.english_data_processing\u001b[0m:\u001b[36mevaluate_models\u001b[0m:\u001b[36m74\u001b[0m - \u001b[1mModel <class 'sklearn.ensemble._forest.RandomForestClassifier'> - scaler: MinMaxScaler(), accuracy: 0.6233772603418379\u001b[0m\n",
      "\u001b[32m2024-05-22 15:35:15.983\u001b[0m | \u001b[1mINFO    \u001b[0m | \u001b[36mdata_processing.english_data_processing\u001b[0m:\u001b[36mevaluate_models\u001b[0m:\u001b[36m74\u001b[0m - \u001b[1mModel <class 'sklearn.ensemble._forest.ExtraTreesClassifier'> - scaler: MinMaxScaler(), accuracy: 0.6234673437370984\u001b[0m\n",
      "\u001b[32m2024-05-22 15:36:19.059\u001b[0m | \u001b[1mINFO    \u001b[0m | \u001b[36mdata_processing.english_data_processing\u001b[0m:\u001b[36mevaluate_models\u001b[0m:\u001b[36m74\u001b[0m - \u001b[1mModel <class 'sklearn.ensemble._forest.RandomForestClassifier'> - scaler: MaxAbsScaler(), accuracy: 0.6207411444141689\u001b[0m\n",
      "\u001b[32m2024-05-22 15:36:33.328\u001b[0m | \u001b[1mINFO    \u001b[0m | \u001b[36mdata_processing.english_data_processing\u001b[0m:\u001b[36mevaluate_models\u001b[0m:\u001b[36m74\u001b[0m - \u001b[1mModel <class 'sklearn.ensemble._forest.ExtraTreesClassifier'> - scaler: MaxAbsScaler(), accuracy: 0.6237396581620015\u001b[0m\n",
      "\u001b[32m2024-05-22 15:37:36.261\u001b[0m | \u001b[1mINFO    \u001b[0m | \u001b[36mdata_processing.english_data_processing\u001b[0m:\u001b[36mevaluate_models\u001b[0m:\u001b[36m74\u001b[0m - \u001b[1mModel <class 'sklearn.ensemble._forest.RandomForestClassifier'> - scaler: RobustScaler(), accuracy: 0.6233782511766163\u001b[0m\n",
      "\u001b[32m2024-05-22 15:37:50.952\u001b[0m | \u001b[1mINFO    \u001b[0m | \u001b[36mdata_processing.english_data_processing\u001b[0m:\u001b[36mevaluate_models\u001b[0m:\u001b[36m74\u001b[0m - \u001b[1mModel <class 'sklearn.ensemble._forest.ExtraTreesClassifier'> - scaler: RobustScaler(), accuracy: 0.6244674263066634\u001b[0m\n",
      "\u001b[32m2024-05-22 15:38:49.978\u001b[0m | \u001b[1mINFO    \u001b[0m | \u001b[36mdata_processing.english_data_processing\u001b[0m:\u001b[36mevaluate_models\u001b[0m:\u001b[36m74\u001b[0m - \u001b[1mModel <class 'sklearn.ensemble._forest.RandomForestClassifier'> - scaler: Normalizer(), accuracy: 0.6018373379572289\u001b[0m\n",
      "\u001b[32m2024-05-22 15:39:03.273\u001b[0m | \u001b[1mINFO    \u001b[0m | \u001b[36mdata_processing.english_data_processing\u001b[0m:\u001b[36mevaluate_models\u001b[0m:\u001b[36m74\u001b[0m - \u001b[1mModel <class 'sklearn.ensemble._forest.ExtraTreesClassifier'> - scaler: Normalizer(), accuracy: 0.5965656840888449\u001b[0m\n",
      "\u001b[32m2024-05-22 15:39:03.274\u001b[0m | \u001b[1mINFO    \u001b[0m | \u001b[36mdata_processing.english_data_processing\u001b[0m:\u001b[36mevaluate_models\u001b[0m:\u001b[36m82\u001b[0m - \u001b[1mBest Model: <class 'sklearn.ensemble._forest.RandomForestClassifier'>\u001b[0m\n",
      "\u001b[32m2024-05-22 15:39:03.274\u001b[0m | \u001b[1mINFO    \u001b[0m | \u001b[36mdata_processing.english_data_processing\u001b[0m:\u001b[36mevaluate_models\u001b[0m:\u001b[36m83\u001b[0m - \u001b[1mBest Scaler: None\u001b[0m\n",
      "\u001b[32m2024-05-22 15:39:03.275\u001b[0m | \u001b[1mINFO    \u001b[0m | \u001b[36mdata_processing.english_data_processing\u001b[0m:\u001b[36mevaluate_models\u001b[0m:\u001b[36m84\u001b[0m - \u001b[1mBest Average Accuracy: 0.6266490793493519\u001b[0m\n",
      "\u001b[32m2024-05-22 15:39:03.277\u001b[0m | \u001b[1mINFO    \u001b[0m | \u001b[36mfeature_extraction.feature_extractor\u001b[0m:\u001b[36mprocess_folder\u001b[0m:\u001b[36m148\u001b[0m - \u001b[1mProcessing input folder: D:/data_analysis/speech_emotion_recognition/data/EnglishDataset/cleaned_data0\u001b[0m\n"
     ]
    },
    {
     "name": "stdout",
     "output_type": "stream",
     "text": [
      "Scaler: None, Model: <class 'sklearn.ensemble._forest.RandomForestClassifier'>, n_mfcc: 13, Selected features: ['mfcc_statistics', 'pitch', 'rms'], Accuracy: 0.6266490793493519\n"
     ]
    },
    {
     "name": "stderr",
     "output_type": "stream",
     "text": [
      "\u001b[32m2024-05-22 15:40:36.878\u001b[0m | \u001b[1mINFO    \u001b[0m | \u001b[36mfeature_extraction.feature_extractor\u001b[0m:\u001b[36mprocess_folder\u001b[0m:\u001b[36m158\u001b[0m - \u001b[1mFeature extraction completed. Data saved to: D:/data_analysis/speech_emotion_recognition/notebooks/feature2.csv\u001b[0m\n",
      "\u001b[32m2024-05-22 15:40:36.965\u001b[0m | \u001b[1mINFO    \u001b[0m | \u001b[36mdata_processing.english_data_processing\u001b[0m:\u001b[36mevaluate_models\u001b[0m:\u001b[36m53\u001b[0m - \u001b[1mFinding best model....\u001b[0m\n",
      "\u001b[32m2024-05-22 15:41:35.588\u001b[0m | \u001b[1mINFO    \u001b[0m | \u001b[36mdata_processing.english_data_processing\u001b[0m:\u001b[36mevaluate_models\u001b[0m:\u001b[36m74\u001b[0m - \u001b[1mModel <class 'sklearn.ensemble._forest.RandomForestClassifier'> - scaler: None, accuracy: 0.6231958550078441\u001b[0m\n",
      "\u001b[32m2024-05-22 15:41:48.711\u001b[0m | \u001b[1mINFO    \u001b[0m | \u001b[36mdata_processing.english_data_processing\u001b[0m:\u001b[36mevaluate_models\u001b[0m:\u001b[36m74\u001b[0m - \u001b[1mModel <class 'sklearn.ensemble._forest.ExtraTreesClassifier'> - scaler: None, accuracy: 0.6171057716125836\u001b[0m\n",
      "\u001b[32m2024-05-22 15:42:46.923\u001b[0m | \u001b[1mINFO    \u001b[0m | \u001b[36mdata_processing.english_data_processing\u001b[0m:\u001b[36mevaluate_models\u001b[0m:\u001b[36m74\u001b[0m - \u001b[1mModel <class 'sklearn.ensemble._forest.RandomForestClassifier'> - scaler: StandardScaler(), accuracy: 0.6232858558335398\u001b[0m\n",
      "\u001b[32m2024-05-22 15:43:00.300\u001b[0m | \u001b[1mINFO    \u001b[0m | \u001b[36mdata_processing.english_data_processing\u001b[0m:\u001b[36mevaluate_models\u001b[0m:\u001b[36m74\u001b[0m - \u001b[1mModel <class 'sklearn.ensemble._forest.ExtraTreesClassifier'> - scaler: StandardScaler(), accuracy: 0.6176491619189166\u001b[0m\n",
      "\u001b[32m2024-05-22 15:43:59.309\u001b[0m | \u001b[1mINFO    \u001b[0m | \u001b[36mdata_processing.english_data_processing\u001b[0m:\u001b[36mevaluate_models\u001b[0m:\u001b[36m74\u001b[0m - \u001b[1mModel <class 'sklearn.ensemble._forest.RandomForestClassifier'> - scaler: MinMaxScaler(), accuracy: 0.6176486665015275\u001b[0m\n",
      "\u001b[32m2024-05-22 15:44:12.811\u001b[0m | \u001b[1mINFO    \u001b[0m | \u001b[36mdata_processing.english_data_processing\u001b[0m:\u001b[36mevaluate_models\u001b[0m:\u001b[36m74\u001b[0m - \u001b[1mModel <class 'sklearn.ensemble._forest.ExtraTreesClassifier'> - scaler: MinMaxScaler(), accuracy: 0.6154690776979604\u001b[0m\n",
      "\u001b[32m2024-05-22 15:45:14.259\u001b[0m | \u001b[1mINFO    \u001b[0m | \u001b[36mdata_processing.english_data_processing\u001b[0m:\u001b[36mevaluate_models\u001b[0m:\u001b[36m74\u001b[0m - \u001b[1mModel <class 'sklearn.ensemble._forest.RandomForestClassifier'> - scaler: MaxAbsScaler(), accuracy: 0.6225580876888778\u001b[0m\n",
      "\u001b[32m2024-05-22 15:45:29.201\u001b[0m | \u001b[1mINFO    \u001b[0m | \u001b[36mdata_processing.english_data_processing\u001b[0m:\u001b[36mevaluate_models\u001b[0m:\u001b[36m74\u001b[0m - \u001b[1mModel <class 'sklearn.ensemble._forest.ExtraTreesClassifier'> - scaler: MaxAbsScaler(), accuracy: 0.6197402361489555\u001b[0m\n",
      "\u001b[32m2024-05-22 15:46:32.826\u001b[0m | \u001b[1mINFO    \u001b[0m | \u001b[36mdata_processing.english_data_processing\u001b[0m:\u001b[36mevaluate_models\u001b[0m:\u001b[36m74\u001b[0m - \u001b[1mModel <class 'sklearn.ensemble._forest.RandomForestClassifier'> - scaler: RobustScaler(), accuracy: 0.6201046982082403\u001b[0m\n",
      "\u001b[32m2024-05-22 15:46:48.028\u001b[0m | \u001b[1mINFO    \u001b[0m | \u001b[36mdata_processing.english_data_processing\u001b[0m:\u001b[36mevaluate_models\u001b[0m:\u001b[36m74\u001b[0m - \u001b[1mModel <class 'sklearn.ensemble._forest.ExtraTreesClassifier'> - scaler: RobustScaler(), accuracy: 0.6211952770208902\u001b[0m\n",
      "\u001b[32m2024-05-22 15:47:47.614\u001b[0m | \u001b[1mINFO    \u001b[0m | \u001b[36mdata_processing.english_data_processing\u001b[0m:\u001b[36mevaluate_models\u001b[0m:\u001b[36m74\u001b[0m - \u001b[1mModel <class 'sklearn.ensemble._forest.RandomForestClassifier'> - scaler: Normalizer(), accuracy: 0.5965646932540667\u001b[0m\n",
      "\u001b[32m2024-05-22 15:48:01.076\u001b[0m | \u001b[1mINFO    \u001b[0m | \u001b[36mdata_processing.english_data_processing\u001b[0m:\u001b[36mevaluate_models\u001b[0m:\u001b[36m74\u001b[0m - \u001b[1mModel <class 'sklearn.ensemble._forest.ExtraTreesClassifier'> - scaler: Normalizer(), accuracy: 0.5984743621501114\u001b[0m\n",
      "\u001b[32m2024-05-22 15:48:01.077\u001b[0m | \u001b[1mINFO    \u001b[0m | \u001b[36mdata_processing.english_data_processing\u001b[0m:\u001b[36mevaluate_models\u001b[0m:\u001b[36m82\u001b[0m - \u001b[1mBest Model: <class 'sklearn.ensemble._forest.RandomForestClassifier'>\u001b[0m\n",
      "\u001b[32m2024-05-22 15:48:01.077\u001b[0m | \u001b[1mINFO    \u001b[0m | \u001b[36mdata_processing.english_data_processing\u001b[0m:\u001b[36mevaluate_models\u001b[0m:\u001b[36m83\u001b[0m - \u001b[1mBest Scaler: StandardScaler\u001b[0m\n",
      "\u001b[32m2024-05-22 15:48:01.078\u001b[0m | \u001b[1mINFO    \u001b[0m | \u001b[36mdata_processing.english_data_processing\u001b[0m:\u001b[36mevaluate_models\u001b[0m:\u001b[36m84\u001b[0m - \u001b[1mBest Average Accuracy: 0.6232858558335398\u001b[0m\n",
      "\u001b[32m2024-05-22 15:48:01.080\u001b[0m | \u001b[1mINFO    \u001b[0m | \u001b[36mfeature_extraction.feature_extractor\u001b[0m:\u001b[36mprocess_folder\u001b[0m:\u001b[36m148\u001b[0m - \u001b[1mProcessing input folder: D:/data_analysis/speech_emotion_recognition/data/EnglishDataset/cleaned_data0\u001b[0m\n"
     ]
    },
    {
     "name": "stdout",
     "output_type": "stream",
     "text": [
      "Scaler: StandardScaler, Model: <class 'sklearn.ensemble._forest.RandomForestClassifier'>, n_mfcc: 13, Selected features: ['mfcc_statistics', 'zcr', 'rms'], Accuracy: 0.6232858558335398\n"
     ]
    },
    {
     "name": "stderr",
     "output_type": "stream",
     "text": [
      "\u001b[32m2024-05-22 15:49:15.674\u001b[0m | \u001b[1mINFO    \u001b[0m | \u001b[36mfeature_extraction.feature_extractor\u001b[0m:\u001b[36mprocess_folder\u001b[0m:\u001b[36m158\u001b[0m - \u001b[1mFeature extraction completed. Data saved to: D:/data_analysis/speech_emotion_recognition/notebooks/feature2.csv\u001b[0m\n",
      "\u001b[32m2024-05-22 15:49:15.753\u001b[0m | \u001b[1mINFO    \u001b[0m | \u001b[36mdata_processing.english_data_processing\u001b[0m:\u001b[36mevaluate_models\u001b[0m:\u001b[36m53\u001b[0m - \u001b[1mFinding best model....\u001b[0m\n",
      "\u001b[32m2024-05-22 15:50:14.209\u001b[0m | \u001b[1mINFO    \u001b[0m | \u001b[36mdata_processing.english_data_processing\u001b[0m:\u001b[36mevaluate_models\u001b[0m:\u001b[36m74\u001b[0m - \u001b[1mModel <class 'sklearn.ensemble._forest.RandomForestClassifier'> - scaler: None, accuracy: 0.621832631492032\u001b[0m\n",
      "\u001b[32m2024-05-22 15:50:27.318\u001b[0m | \u001b[1mINFO    \u001b[0m | \u001b[36mdata_processing.english_data_processing\u001b[0m:\u001b[36mevaluate_models\u001b[0m:\u001b[36m74\u001b[0m - \u001b[1mModel <class 'sklearn.ensemble._forest.ExtraTreesClassifier'> - scaler: None, accuracy: 0.6164693254066551\u001b[0m\n",
      "\u001b[32m2024-05-22 15:51:24.901\u001b[0m | \u001b[1mINFO    \u001b[0m | \u001b[36mdata_processing.english_data_processing\u001b[0m:\u001b[36mevaluate_models\u001b[0m:\u001b[36m74\u001b[0m - \u001b[1mModel <class 'sklearn.ensemble._forest.RandomForestClassifier'> - scaler: StandardScaler(), accuracy: 0.6178337874659401\u001b[0m\n",
      "\u001b[32m2024-05-22 15:51:38.252\u001b[0m | \u001b[1mINFO    \u001b[0m | \u001b[36mdata_processing.english_data_processing\u001b[0m:\u001b[36mevaluate_models\u001b[0m:\u001b[36m74\u001b[0m - \u001b[1mModel <class 'sklearn.ensemble._forest.ExtraTreesClassifier'> - scaler: StandardScaler(), accuracy: 0.6161059367517134\u001b[0m\n",
      "\u001b[32m2024-05-22 15:52:36.642\u001b[0m | \u001b[1mINFO    \u001b[0m | \u001b[36mdata_processing.english_data_processing\u001b[0m:\u001b[36mevaluate_models\u001b[0m:\u001b[36m74\u001b[0m - \u001b[1mModel <class 'sklearn.ensemble._forest.RandomForestClassifier'> - scaler: MinMaxScaler(), accuracy: 0.6181051110560647\u001b[0m\n",
      "\u001b[32m2024-05-22 15:52:50.219\u001b[0m | \u001b[1mINFO    \u001b[0m | \u001b[36mdata_processing.english_data_processing\u001b[0m:\u001b[36mevaluate_models\u001b[0m:\u001b[36m74\u001b[0m - \u001b[1mModel <class 'sklearn.ensemble._forest.ExtraTreesClassifier'> - scaler: MinMaxScaler(), accuracy: 0.6191048633473701\u001b[0m\n",
      "\u001b[32m2024-05-22 15:53:51.324\u001b[0m | \u001b[1mINFO    \u001b[0m | \u001b[36mdata_processing.english_data_processing\u001b[0m:\u001b[36mevaluate_models\u001b[0m:\u001b[36m74\u001b[0m - \u001b[1mModel <class 'sklearn.ensemble._forest.RandomForestClassifier'> - scaler: MaxAbsScaler(), accuracy: 0.6184682520023119\u001b[0m\n",
      "\u001b[32m2024-05-22 15:54:05.609\u001b[0m | \u001b[1mINFO    \u001b[0m | \u001b[36mdata_processing.english_data_processing\u001b[0m:\u001b[36mevaluate_models\u001b[0m:\u001b[36m74\u001b[0m - \u001b[1mModel <class 'sklearn.ensemble._forest.ExtraTreesClassifier'> - scaler: MaxAbsScaler(), accuracy: 0.6141945338948064\u001b[0m\n",
      "\u001b[32m2024-05-22 15:55:07.260\u001b[0m | \u001b[1mINFO    \u001b[0m | \u001b[36mdata_processing.english_data_processing\u001b[0m:\u001b[36mevaluate_models\u001b[0m:\u001b[36m74\u001b[0m - \u001b[1mModel <class 'sklearn.ensemble._forest.RandomForestClassifier'> - scaler: RobustScaler(), accuracy: 0.6158316406572537\u001b[0m\n",
      "\u001b[32m2024-05-22 15:55:22.079\u001b[0m | \u001b[1mINFO    \u001b[0m | \u001b[36mdata_processing.english_data_processing\u001b[0m:\u001b[36mevaluate_models\u001b[0m:\u001b[36m74\u001b[0m - \u001b[1mModel <class 'sklearn.ensemble._forest.ExtraTreesClassifier'> - scaler: RobustScaler(), accuracy: 0.6184686648501362\u001b[0m\n",
      "\u001b[32m2024-05-22 15:56:23.549\u001b[0m | \u001b[1mINFO    \u001b[0m | \u001b[36mdata_processing.english_data_processing\u001b[0m:\u001b[36mevaluate_models\u001b[0m:\u001b[36m74\u001b[0m - \u001b[1mModel <class 'sklearn.ensemble._forest.RandomForestClassifier'> - scaler: Normalizer(), accuracy: 0.5961107257864751\u001b[0m\n",
      "\u001b[32m2024-05-22 15:56:38.057\u001b[0m | \u001b[1mINFO    \u001b[0m | \u001b[36mdata_processing.english_data_processing\u001b[0m:\u001b[36mevaluate_models\u001b[0m:\u001b[36m74\u001b[0m - \u001b[1mModel <class 'sklearn.ensemble._forest.ExtraTreesClassifier'> - scaler: Normalizer(), accuracy: 0.5946557674841053\u001b[0m\n",
      "\u001b[32m2024-05-22 15:56:38.058\u001b[0m | \u001b[1mINFO    \u001b[0m | \u001b[36mdata_processing.english_data_processing\u001b[0m:\u001b[36mevaluate_models\u001b[0m:\u001b[36m82\u001b[0m - \u001b[1mBest Model: <class 'sklearn.ensemble._forest.RandomForestClassifier'>\u001b[0m\n",
      "\u001b[32m2024-05-22 15:56:38.059\u001b[0m | \u001b[1mINFO    \u001b[0m | \u001b[36mdata_processing.english_data_processing\u001b[0m:\u001b[36mevaluate_models\u001b[0m:\u001b[36m83\u001b[0m - \u001b[1mBest Scaler: None\u001b[0m\n",
      "\u001b[32m2024-05-22 15:56:38.060\u001b[0m | \u001b[1mINFO    \u001b[0m | \u001b[36mdata_processing.english_data_processing\u001b[0m:\u001b[36mevaluate_models\u001b[0m:\u001b[36m84\u001b[0m - \u001b[1mBest Average Accuracy: 0.621832631492032\u001b[0m\n",
      "\u001b[32m2024-05-22 15:56:38.064\u001b[0m | \u001b[1mINFO    \u001b[0m | \u001b[36mfeature_extraction.feature_extractor\u001b[0m:\u001b[36mprocess_folder\u001b[0m:\u001b[36m148\u001b[0m - \u001b[1mProcessing input folder: D:/data_analysis/speech_emotion_recognition/data/EnglishDataset/cleaned_data0\u001b[0m\n"
     ]
    },
    {
     "name": "stdout",
     "output_type": "stream",
     "text": [
      "Scaler: None, Model: <class 'sklearn.ensemble._forest.RandomForestClassifier'>, n_mfcc: 13, Selected features: ['mfcc_statistics', 'zcr', 'pitch'], Accuracy: 0.621832631492032\n"
     ]
    },
    {
     "name": "stderr",
     "output_type": "stream",
     "text": [
      "\u001b[32m2024-05-22 15:57:50.444\u001b[0m | \u001b[1mINFO    \u001b[0m | \u001b[36mfeature_extraction.feature_extractor\u001b[0m:\u001b[36mprocess_folder\u001b[0m:\u001b[36m158\u001b[0m - \u001b[1mFeature extraction completed. Data saved to: D:/data_analysis/speech_emotion_recognition/notebooks/feature2.csv\u001b[0m\n",
      "\u001b[32m2024-05-22 15:57:50.477\u001b[0m | \u001b[1mINFO    \u001b[0m | \u001b[36mdata_processing.english_data_processing\u001b[0m:\u001b[36mevaluate_models\u001b[0m:\u001b[36m53\u001b[0m - \u001b[1mFinding best model....\u001b[0m\n",
      "\u001b[32m2024-05-22 15:58:21.101\u001b[0m | \u001b[1mINFO    \u001b[0m | \u001b[36mdata_processing.english_data_processing\u001b[0m:\u001b[36mevaluate_models\u001b[0m:\u001b[36m74\u001b[0m - \u001b[1mModel <class 'sklearn.ensemble._forest.RandomForestClassifier'> - scaler: None, accuracy: 0.5928400627528692\u001b[0m\n",
      "\u001b[32m2024-05-22 15:58:30.634\u001b[0m | \u001b[1mINFO    \u001b[0m | \u001b[36mdata_processing.english_data_processing\u001b[0m:\u001b[36mevaluate_models\u001b[0m:\u001b[36m74\u001b[0m - \u001b[1mModel <class 'sklearn.ensemble._forest.ExtraTreesClassifier'> - scaler: None, accuracy: 0.5986560151928\u001b[0m\n",
      "\u001b[32m2024-05-22 15:59:04.306\u001b[0m | \u001b[1mINFO    \u001b[0m | \u001b[36mdata_processing.english_data_processing\u001b[0m:\u001b[36mevaluate_models\u001b[0m:\u001b[36m74\u001b[0m - \u001b[1mModel <class 'sklearn.ensemble._forest.RandomForestClassifier'> - scaler: StandardScaler(), accuracy: 0.5962033688382462\u001b[0m\n",
      "\u001b[32m2024-05-22 15:59:14.338\u001b[0m | \u001b[1mINFO    \u001b[0m | \u001b[36mdata_processing.english_data_processing\u001b[0m:\u001b[36mevaluate_models\u001b[0m:\u001b[36m74\u001b[0m - \u001b[1mModel <class 'sklearn.ensemble._forest.ExtraTreesClassifier'> - scaler: StandardScaler(), accuracy: 0.6036556849145406\u001b[0m\n",
      "\u001b[32m2024-05-22 15:59:46.806\u001b[0m | \u001b[1mINFO    \u001b[0m | \u001b[36mdata_processing.english_data_processing\u001b[0m:\u001b[36mevaluate_models\u001b[0m:\u001b[36m74\u001b[0m - \u001b[1mModel <class 'sklearn.ensemble._forest.RandomForestClassifier'> - scaler: MinMaxScaler(), accuracy: 0.5913855998678887\u001b[0m\n",
      "\u001b[32m2024-05-22 15:59:56.607\u001b[0m | \u001b[1mINFO    \u001b[0m | \u001b[36mdata_processing.english_data_processing\u001b[0m:\u001b[36mevaluate_models\u001b[0m:\u001b[36m74\u001b[0m - \u001b[1mModel <class 'sklearn.ensemble._forest.ExtraTreesClassifier'> - scaler: MinMaxScaler(), accuracy: 0.6015641152671125\u001b[0m\n",
      "\u001b[32m2024-05-22 16:00:29.602\u001b[0m | \u001b[1mINFO    \u001b[0m | \u001b[36mdata_processing.english_data_processing\u001b[0m:\u001b[36mevaluate_models\u001b[0m:\u001b[36m74\u001b[0m - \u001b[1mModel <class 'sklearn.ensemble._forest.RandomForestClassifier'> - scaler: MaxAbsScaler(), accuracy: 0.5927488233837007\u001b[0m\n",
      "\u001b[32m2024-05-22 16:00:39.502\u001b[0m | \u001b[1mINFO    \u001b[0m | \u001b[36mdata_processing.english_data_processing\u001b[0m:\u001b[36mevaluate_models\u001b[0m:\u001b[36m74\u001b[0m - \u001b[1mModel <class 'sklearn.ensemble._forest.ExtraTreesClassifier'> - scaler: MaxAbsScaler(), accuracy: 0.5983838659070267\u001b[0m\n",
      "\u001b[32m2024-05-22 16:01:11.351\u001b[0m | \u001b[1mINFO    \u001b[0m | \u001b[36mdata_processing.english_data_processing\u001b[0m:\u001b[36mevaluate_models\u001b[0m:\u001b[36m74\u001b[0m - \u001b[1mModel <class 'sklearn.ensemble._forest.RandomForestClassifier'> - scaler: RobustScaler(), accuracy: 0.5923869209809265\u001b[0m\n",
      "\u001b[32m2024-05-22 16:01:20.956\u001b[0m | \u001b[1mINFO    \u001b[0m | \u001b[36mdata_processing.english_data_processing\u001b[0m:\u001b[36mevaluate_models\u001b[0m:\u001b[36m74\u001b[0m - \u001b[1mModel <class 'sklearn.ensemble._forest.ExtraTreesClassifier'> - scaler: RobustScaler(), accuracy: 0.598839071918091\u001b[0m\n",
      "\u001b[32m2024-05-22 16:01:50.234\u001b[0m | \u001b[1mINFO    \u001b[0m | \u001b[36mdata_processing.english_data_processing\u001b[0m:\u001b[36mevaluate_models\u001b[0m:\u001b[36m74\u001b[0m - \u001b[1mModel <class 'sklearn.ensemble._forest.RandomForestClassifier'> - scaler: Normalizer(), accuracy: 0.5914745272892412\u001b[0m\n",
      "\u001b[32m2024-05-22 16:01:59.593\u001b[0m | \u001b[1mINFO    \u001b[0m | \u001b[36mdata_processing.english_data_processing\u001b[0m:\u001b[36mevaluate_models\u001b[0m:\u001b[36m74\u001b[0m - \u001b[1mModel <class 'sklearn.ensemble._forest.ExtraTreesClassifier'> - scaler: Normalizer(), accuracy: 0.5961118817603831\u001b[0m\n",
      "\u001b[32m2024-05-22 16:01:59.593\u001b[0m | \u001b[1mINFO    \u001b[0m | \u001b[36mdata_processing.english_data_processing\u001b[0m:\u001b[36mevaluate_models\u001b[0m:\u001b[36m82\u001b[0m - \u001b[1mBest Model: <class 'sklearn.ensemble._forest.ExtraTreesClassifier'>\u001b[0m\n",
      "\u001b[32m2024-05-22 16:01:59.594\u001b[0m | \u001b[1mINFO    \u001b[0m | \u001b[36mdata_processing.english_data_processing\u001b[0m:\u001b[36mevaluate_models\u001b[0m:\u001b[36m83\u001b[0m - \u001b[1mBest Scaler: StandardScaler\u001b[0m\n",
      "\u001b[32m2024-05-22 16:01:59.594\u001b[0m | \u001b[1mINFO    \u001b[0m | \u001b[36mdata_processing.english_data_processing\u001b[0m:\u001b[36mevaluate_models\u001b[0m:\u001b[36m84\u001b[0m - \u001b[1mBest Average Accuracy: 0.6036556849145406\u001b[0m\n",
      "\u001b[32m2024-05-22 16:01:59.596\u001b[0m | \u001b[1mINFO    \u001b[0m | \u001b[36mfeature_extraction.feature_extractor\u001b[0m:\u001b[36mprocess_folder\u001b[0m:\u001b[36m148\u001b[0m - \u001b[1mProcessing input folder: D:/data_analysis/speech_emotion_recognition/data/EnglishDataset/cleaned_data0\u001b[0m\n"
     ]
    },
    {
     "name": "stdout",
     "output_type": "stream",
     "text": [
      "Scaler: StandardScaler, Model: <class 'sklearn.ensemble._forest.ExtraTreesClassifier'>, n_mfcc: 13, Selected features: ['mfcc', 'pitch', 'rms'], Accuracy: 0.6036556849145406\n"
     ]
    },
    {
     "name": "stderr",
     "output_type": "stream",
     "text": [
      "\u001b[32m2024-05-22 16:02:54.048\u001b[0m | \u001b[1mINFO    \u001b[0m | \u001b[36mfeature_extraction.feature_extractor\u001b[0m:\u001b[36mprocess_folder\u001b[0m:\u001b[36m158\u001b[0m - \u001b[1mFeature extraction completed. Data saved to: D:/data_analysis/speech_emotion_recognition/notebooks/feature2.csv\u001b[0m\n",
      "\u001b[32m2024-05-22 16:02:54.079\u001b[0m | \u001b[1mINFO    \u001b[0m | \u001b[36mdata_processing.english_data_processing\u001b[0m:\u001b[36mevaluate_models\u001b[0m:\u001b[36m53\u001b[0m - \u001b[1mFinding best model....\u001b[0m\n",
      "\u001b[32m2024-05-22 16:03:23.533\u001b[0m | \u001b[1mINFO    \u001b[0m | \u001b[36mdata_processing.english_data_processing\u001b[0m:\u001b[36mevaluate_models\u001b[0m:\u001b[36m74\u001b[0m - \u001b[1mModel <class 'sklearn.ensemble._forest.RandomForestClassifier'> - scaler: None, accuracy: 0.590205267938238\u001b[0m\n",
      "\u001b[32m2024-05-22 16:03:33.234\u001b[0m | \u001b[1mINFO    \u001b[0m | \u001b[36mdata_processing.english_data_processing\u001b[0m:\u001b[36mevaluate_models\u001b[0m:\u001b[36m74\u001b[0m - \u001b[1mModel <class 'sklearn.ensemble._forest.ExtraTreesClassifier'> - scaler: None, accuracy: 0.5892043596730245\u001b[0m\n",
      "\u001b[32m2024-05-22 16:04:05.057\u001b[0m | \u001b[1mINFO    \u001b[0m | \u001b[36mdata_processing.english_data_processing\u001b[0m:\u001b[36mevaluate_models\u001b[0m:\u001b[36m74\u001b[0m - \u001b[1mModel <class 'sklearn.ensemble._forest.RandomForestClassifier'> - scaler: StandardScaler(), accuracy: 0.5914751052761952\u001b[0m\n",
      "\u001b[32m2024-05-22 16:04:15.230\u001b[0m | \u001b[1mINFO    \u001b[0m | \u001b[36mdata_processing.english_data_processing\u001b[0m:\u001b[36mevaluate_models\u001b[0m:\u001b[36m74\u001b[0m - \u001b[1mModel <class 'sklearn.ensemble._forest.ExtraTreesClassifier'> - scaler: StandardScaler(), accuracy: 0.5884763438196681\u001b[0m\n",
      "\u001b[32m2024-05-22 16:04:46.988\u001b[0m | \u001b[1mINFO    \u001b[0m | \u001b[36mdata_processing.english_data_processing\u001b[0m:\u001b[36mevaluate_models\u001b[0m:\u001b[36m74\u001b[0m - \u001b[1mModel <class 'sklearn.ensemble._forest.RandomForestClassifier'> - scaler: MinMaxScaler(), accuracy: 0.5897500619271736\u001b[0m\n",
      "\u001b[32m2024-05-22 16:04:56.655\u001b[0m | \u001b[1mINFO    \u001b[0m | \u001b[36mdata_processing.english_data_processing\u001b[0m:\u001b[36mevaluate_models\u001b[0m:\u001b[36m74\u001b[0m - \u001b[1mModel <class 'sklearn.ensemble._forest.ExtraTreesClassifier'> - scaler: MinMaxScaler(), accuracy: 0.5922042771034597\u001b[0m\n",
      "\u001b[32m2024-05-22 16:05:28.754\u001b[0m | \u001b[1mINFO    \u001b[0m | \u001b[36mdata_processing.english_data_processing\u001b[0m:\u001b[36mevaluate_models\u001b[0m:\u001b[36m74\u001b[0m - \u001b[1mModel <class 'sklearn.ensemble._forest.RandomForestClassifier'> - scaler: MaxAbsScaler(), accuracy: 0.588205267938238\u001b[0m\n",
      "\u001b[32m2024-05-22 16:05:38.771\u001b[0m | \u001b[1mINFO    \u001b[0m | \u001b[36mdata_processing.english_data_processing\u001b[0m:\u001b[36mevaluate_models\u001b[0m:\u001b[36m74\u001b[0m - \u001b[1mModel <class 'sklearn.ensemble._forest.ExtraTreesClassifier'> - scaler: MaxAbsScaler(), accuracy: 0.5932020477252086\u001b[0m\n",
      "\u001b[32m2024-05-22 16:06:10.018\u001b[0m | \u001b[1mINFO    \u001b[0m | \u001b[36mdata_processing.english_data_processing\u001b[0m:\u001b[36mevaluate_models\u001b[0m:\u001b[36m74\u001b[0m - \u001b[1mModel <class 'sklearn.ensemble._forest.RandomForestClassifier'> - scaler: RobustScaler(), accuracy: 0.5891139459995046\u001b[0m\n",
      "\u001b[32m2024-05-22 16:06:19.256\u001b[0m | \u001b[1mINFO    \u001b[0m | \u001b[36mdata_processing.english_data_processing\u001b[0m:\u001b[36mevaluate_models\u001b[0m:\u001b[36m74\u001b[0m - \u001b[1mModel <class 'sklearn.ensemble._forest.ExtraTreesClassifier'> - scaler: RobustScaler(), accuracy: 0.5888388242093964\u001b[0m\n",
      "\u001b[32m2024-05-22 16:06:47.435\u001b[0m | \u001b[1mINFO    \u001b[0m | \u001b[36mdata_processing.english_data_processing\u001b[0m:\u001b[36mevaluate_models\u001b[0m:\u001b[36m74\u001b[0m - \u001b[1mModel <class 'sklearn.ensemble._forest.RandomForestClassifier'> - scaler: Normalizer(), accuracy: 0.5838416315746017\u001b[0m\n",
      "\u001b[32m2024-05-22 16:06:56.629\u001b[0m | \u001b[1mINFO    \u001b[0m | \u001b[36mdata_processing.english_data_processing\u001b[0m:\u001b[36mevaluate_models\u001b[0m:\u001b[36m74\u001b[0m - \u001b[1mModel <class 'sklearn.ensemble._forest.ExtraTreesClassifier'> - scaler: Normalizer(), accuracy: 0.586749814218479\u001b[0m\n",
      "\u001b[32m2024-05-22 16:06:56.630\u001b[0m | \u001b[1mINFO    \u001b[0m | \u001b[36mdata_processing.english_data_processing\u001b[0m:\u001b[36mevaluate_models\u001b[0m:\u001b[36m82\u001b[0m - \u001b[1mBest Model: <class 'sklearn.ensemble._forest.ExtraTreesClassifier'>\u001b[0m\n",
      "\u001b[32m2024-05-22 16:06:56.630\u001b[0m | \u001b[1mINFO    \u001b[0m | \u001b[36mdata_processing.english_data_processing\u001b[0m:\u001b[36mevaluate_models\u001b[0m:\u001b[36m83\u001b[0m - \u001b[1mBest Scaler: MaxAbsScaler\u001b[0m\n",
      "\u001b[32m2024-05-22 16:06:56.631\u001b[0m | \u001b[1mINFO    \u001b[0m | \u001b[36mdata_processing.english_data_processing\u001b[0m:\u001b[36mevaluate_models\u001b[0m:\u001b[36m84\u001b[0m - \u001b[1mBest Average Accuracy: 0.5932020477252086\u001b[0m\n",
      "\u001b[32m2024-05-22 16:06:56.632\u001b[0m | \u001b[1mINFO    \u001b[0m | \u001b[36mfeature_extraction.feature_extractor\u001b[0m:\u001b[36mprocess_folder\u001b[0m:\u001b[36m148\u001b[0m - \u001b[1mProcessing input folder: D:/data_analysis/speech_emotion_recognition/data/EnglishDataset/cleaned_data0\u001b[0m\n"
     ]
    },
    {
     "name": "stdout",
     "output_type": "stream",
     "text": [
      "Scaler: MaxAbsScaler, Model: <class 'sklearn.ensemble._forest.ExtraTreesClassifier'>, n_mfcc: 13, Selected features: ['mfcc', 'zcr', 'rms'], Accuracy: 0.5932020477252086\n"
     ]
    },
    {
     "name": "stderr",
     "output_type": "stream",
     "text": [
      "\u001b[32m2024-05-22 16:08:08.115\u001b[0m | \u001b[1mINFO    \u001b[0m | \u001b[36mfeature_extraction.feature_extractor\u001b[0m:\u001b[36mprocess_folder\u001b[0m:\u001b[36m158\u001b[0m - \u001b[1mFeature extraction completed. Data saved to: D:/data_analysis/speech_emotion_recognition/notebooks/feature2.csv\u001b[0m\n",
      "\u001b[32m2024-05-22 16:08:08.151\u001b[0m | \u001b[1mINFO    \u001b[0m | \u001b[36mdata_processing.english_data_processing\u001b[0m:\u001b[36mevaluate_models\u001b[0m:\u001b[36m53\u001b[0m - \u001b[1mFinding best model....\u001b[0m\n",
      "\u001b[32m2024-05-22 16:08:38.589\u001b[0m | \u001b[1mINFO    \u001b[0m | \u001b[36mdata_processing.english_data_processing\u001b[0m:\u001b[36mevaluate_models\u001b[0m:\u001b[36m74\u001b[0m - \u001b[1mModel <class 'sklearn.ensemble._forest.RandomForestClassifier'> - scaler: None, accuracy: 0.5867513830402113\u001b[0m\n",
      "\u001b[32m2024-05-22 16:08:48.225\u001b[0m | \u001b[1mINFO    \u001b[0m | \u001b[36mdata_processing.english_data_processing\u001b[0m:\u001b[36mevaluate_models\u001b[0m:\u001b[36m74\u001b[0m - \u001b[1mModel <class 'sklearn.ensemble._forest.ExtraTreesClassifier'> - scaler: None, accuracy: 0.5817513004706466\u001b[0m\n",
      "\u001b[32m2024-05-22 16:09:20.544\u001b[0m | \u001b[1mINFO    \u001b[0m | \u001b[36mdata_processing.english_data_processing\u001b[0m:\u001b[36mevaluate_models\u001b[0m:\u001b[36m74\u001b[0m - \u001b[1mModel <class 'sklearn.ensemble._forest.RandomForestClassifier'> - scaler: StandardScaler(), accuracy: 0.5892062587730164\u001b[0m\n",
      "\u001b[32m2024-05-22 16:09:30.807\u001b[0m | \u001b[1mINFO    \u001b[0m | \u001b[36mdata_processing.english_data_processing\u001b[0m:\u001b[36mevaluate_models\u001b[0m:\u001b[36m74\u001b[0m - \u001b[1mModel <class 'sklearn.ensemble._forest.ExtraTreesClassifier'> - scaler: StandardScaler(), accuracy: 0.5845703905540418\u001b[0m\n",
      "\u001b[32m2024-05-22 16:10:03.065\u001b[0m | \u001b[1mINFO    \u001b[0m | \u001b[36mdata_processing.english_data_processing\u001b[0m:\u001b[36mevaluate_models\u001b[0m:\u001b[36m74\u001b[0m - \u001b[1mModel <class 'sklearn.ensemble._forest.RandomForestClassifier'> - scaler: MinMaxScaler(), accuracy: 0.588934109487243\u001b[0m\n",
      "\u001b[32m2024-05-22 16:10:13.352\u001b[0m | \u001b[1mINFO    \u001b[0m | \u001b[36mdata_processing.english_data_processing\u001b[0m:\u001b[36mevaluate_models\u001b[0m:\u001b[36m74\u001b[0m - \u001b[1mModel <class 'sklearn.ensemble._forest.ExtraTreesClassifier'> - scaler: MinMaxScaler(), accuracy: 0.5846603088101726\u001b[0m\n",
      "\u001b[32m2024-05-22 16:10:45.424\u001b[0m | \u001b[1mINFO    \u001b[0m | \u001b[36mdata_processing.english_data_processing\u001b[0m:\u001b[36mevaluate_models\u001b[0m:\u001b[36m74\u001b[0m - \u001b[1mModel <class 'sklearn.ensemble._forest.RandomForestClassifier'> - scaler: MaxAbsScaler(), accuracy: 0.5862059284947568\u001b[0m\n",
      "\u001b[32m2024-05-22 16:10:55.615\u001b[0m | \u001b[1mINFO    \u001b[0m | \u001b[36mdata_processing.english_data_processing\u001b[0m:\u001b[36mevaluate_models\u001b[0m:\u001b[36m74\u001b[0m - \u001b[1mModel <class 'sklearn.ensemble._forest.ExtraTreesClassifier'> - scaler: MaxAbsScaler(), accuracy: 0.5856607216579969\u001b[0m\n",
      "\u001b[32m2024-05-22 16:11:28.134\u001b[0m | \u001b[1mINFO    \u001b[0m | \u001b[36mdata_processing.english_data_processing\u001b[0m:\u001b[36mevaluate_models\u001b[0m:\u001b[36m74\u001b[0m - \u001b[1mModel <class 'sklearn.ensemble._forest.RandomForestClassifier'> - scaler: RobustScaler(), accuracy: 0.588840227891999\u001b[0m\n",
      "\u001b[32m2024-05-22 16:11:37.878\u001b[0m | \u001b[1mINFO    \u001b[0m | \u001b[36mdata_processing.english_data_processing\u001b[0m:\u001b[36mevaluate_models\u001b[0m:\u001b[36m74\u001b[0m - \u001b[1mModel <class 'sklearn.ensemble._forest.ExtraTreesClassifier'> - scaler: RobustScaler(), accuracy: 0.5905677483279663\u001b[0m\n",
      "\u001b[32m2024-05-22 16:12:07.911\u001b[0m | \u001b[1mINFO    \u001b[0m | \u001b[36mdata_processing.english_data_processing\u001b[0m:\u001b[36mevaluate_models\u001b[0m:\u001b[36m74\u001b[0m - \u001b[1mModel <class 'sklearn.ensemble._forest.RandomForestClassifier'> - scaler: Normalizer(), accuracy: 0.5733018743291223\u001b[0m\n",
      "\u001b[32m2024-05-22 16:12:17.275\u001b[0m | \u001b[1mINFO    \u001b[0m | \u001b[36mdata_processing.english_data_processing\u001b[0m:\u001b[36mevaluate_models\u001b[0m:\u001b[36m74\u001b[0m - \u001b[1mModel <class 'sklearn.ensemble._forest.ExtraTreesClassifier'> - scaler: Normalizer(), accuracy: 0.5713006357856494\u001b[0m\n",
      "\u001b[32m2024-05-22 16:12:17.275\u001b[0m | \u001b[1mINFO    \u001b[0m | \u001b[36mdata_processing.english_data_processing\u001b[0m:\u001b[36mevaluate_models\u001b[0m:\u001b[36m82\u001b[0m - \u001b[1mBest Model: <class 'sklearn.ensemble._forest.ExtraTreesClassifier'>\u001b[0m\n",
      "\u001b[32m2024-05-22 16:12:17.276\u001b[0m | \u001b[1mINFO    \u001b[0m | \u001b[36mdata_processing.english_data_processing\u001b[0m:\u001b[36mevaluate_models\u001b[0m:\u001b[36m83\u001b[0m - \u001b[1mBest Scaler: RobustScaler\u001b[0m\n",
      "\u001b[32m2024-05-22 16:12:17.276\u001b[0m | \u001b[1mINFO    \u001b[0m | \u001b[36mdata_processing.english_data_processing\u001b[0m:\u001b[36mevaluate_models\u001b[0m:\u001b[36m84\u001b[0m - \u001b[1mBest Average Accuracy: 0.5905677483279663\u001b[0m\n",
      "\u001b[32m2024-05-22 16:12:17.278\u001b[0m | \u001b[1mINFO    \u001b[0m | \u001b[36mfeature_extraction.feature_extractor\u001b[0m:\u001b[36mprocess_folder\u001b[0m:\u001b[36m148\u001b[0m - \u001b[1mProcessing input folder: D:/data_analysis/speech_emotion_recognition/data/EnglishDataset/cleaned_data0\u001b[0m\n"
     ]
    },
    {
     "name": "stdout",
     "output_type": "stream",
     "text": [
      "Scaler: RobustScaler, Model: <class 'sklearn.ensemble._forest.ExtraTreesClassifier'>, n_mfcc: 13, Selected features: ['mfcc', 'zcr', 'pitch'], Accuracy: 0.5905677483279663\n"
     ]
    },
    {
     "name": "stderr",
     "output_type": "stream",
     "text": [
      "\u001b[32m2024-05-22 16:13:40.796\u001b[0m | \u001b[1mINFO    \u001b[0m | \u001b[36mfeature_extraction.feature_extractor\u001b[0m:\u001b[36mprocess_folder\u001b[0m:\u001b[36m158\u001b[0m - \u001b[1mFeature extraction completed. Data saved to: D:/data_analysis/speech_emotion_recognition/notebooks/feature2.csv\u001b[0m\n",
      "\u001b[32m2024-05-22 16:13:40.885\u001b[0m | \u001b[1mINFO    \u001b[0m | \u001b[36mdata_processing.english_data_processing\u001b[0m:\u001b[36mevaluate_models\u001b[0m:\u001b[36m53\u001b[0m - \u001b[1mFinding best model....\u001b[0m\n",
      "\u001b[32m2024-05-22 16:14:46.744\u001b[0m | \u001b[1mINFO    \u001b[0m | \u001b[36mdata_processing.english_data_processing\u001b[0m:\u001b[36mevaluate_models\u001b[0m:\u001b[36m74\u001b[0m - \u001b[1mModel <class 'sklearn.ensemble._forest.RandomForestClassifier'> - scaler: None, accuracy: 0.6217394930228718\u001b[0m\n",
      "\u001b[32m2024-05-22 16:15:00.712\u001b[0m | \u001b[1mINFO    \u001b[0m | \u001b[36mdata_processing.english_data_processing\u001b[0m:\u001b[36mevaluate_models\u001b[0m:\u001b[36m74\u001b[0m - \u001b[1mModel <class 'sklearn.ensemble._forest.ExtraTreesClassifier'> - scaler: None, accuracy: 0.6187407315663446\u001b[0m\n",
      "\u001b[32m2024-05-22 16:16:07.896\u001b[0m | \u001b[1mINFO    \u001b[0m | \u001b[36mdata_processing.english_data_processing\u001b[0m:\u001b[36mevaluate_models\u001b[0m:\u001b[36m74\u001b[0m - \u001b[1mModel <class 'sklearn.ensemble._forest.RandomForestClassifier'> - scaler: StandardScaler(), accuracy: 0.6214669308892742\u001b[0m\n",
      "\u001b[32m2024-05-22 16:16:23.282\u001b[0m | \u001b[1mINFO    \u001b[0m | \u001b[36mdata_processing.english_data_processing\u001b[0m:\u001b[36mevaluate_models\u001b[0m:\u001b[36m74\u001b[0m - \u001b[1mModel <class 'sklearn.ensemble._forest.ExtraTreesClassifier'> - scaler: StandardScaler(), accuracy: 0.6145615556106019\u001b[0m\n",
      "\u001b[32m2024-05-22 16:17:32.556\u001b[0m | \u001b[1mINFO    \u001b[0m | \u001b[36mdata_processing.english_data_processing\u001b[0m:\u001b[36mevaluate_models\u001b[0m:\u001b[36m74\u001b[0m - \u001b[1mModel <class 'sklearn.ensemble._forest.RandomForestClassifier'> - scaler: MinMaxScaler(), accuracy: 0.6201947816035009\u001b[0m\n",
      "\u001b[32m2024-05-22 16:17:47.498\u001b[0m | \u001b[1mINFO    \u001b[0m | \u001b[36mdata_processing.english_data_processing\u001b[0m:\u001b[36mevaluate_models\u001b[0m:\u001b[36m74\u001b[0m - \u001b[1mModel <class 'sklearn.ensemble._forest.ExtraTreesClassifier'> - scaler: MinMaxScaler(), accuracy: 0.6219237057220708\u001b[0m\n",
      "\u001b[32m2024-05-22 16:18:58.941\u001b[0m | \u001b[1mINFO    \u001b[0m | \u001b[36mdata_processing.english_data_processing\u001b[0m:\u001b[36mevaluate_models\u001b[0m:\u001b[36m74\u001b[0m - \u001b[1mModel <class 'sklearn.ensemble._forest.RandomForestClassifier'> - scaler: MaxAbsScaler(), accuracy: 0.6189232103046817\u001b[0m\n",
      "\u001b[32m2024-05-22 16:19:14.356\u001b[0m | \u001b[1mINFO    \u001b[0m | \u001b[36mdata_processing.english_data_processing\u001b[0m:\u001b[36mevaluate_models\u001b[0m:\u001b[36m74\u001b[0m - \u001b[1mModel <class 'sklearn.ensemble._forest.ExtraTreesClassifier'> - scaler: MaxAbsScaler(), accuracy: 0.6196502353232598\u001b[0m\n",
      "\u001b[32m2024-05-22 16:20:27.158\u001b[0m | \u001b[1mINFO    \u001b[0m | \u001b[36mdata_processing.english_data_processing\u001b[0m:\u001b[36mevaluate_models\u001b[0m:\u001b[36m74\u001b[0m - \u001b[1mModel <class 'sklearn.ensemble._forest.RandomForestClassifier'> - scaler: RobustScaler(), accuracy: 0.6230125505738585\u001b[0m\n",
      "\u001b[32m2024-05-22 16:20:43.058\u001b[0m | \u001b[1mINFO    \u001b[0m | \u001b[36mdata_processing.english_data_processing\u001b[0m:\u001b[36mevaluate_models\u001b[0m:\u001b[36m74\u001b[0m - \u001b[1mModel <class 'sklearn.ensemble._forest.ExtraTreesClassifier'> - scaler: RobustScaler(), accuracy: 0.6201956072991495\u001b[0m\n",
      "\u001b[32m2024-05-22 16:21:49.970\u001b[0m | \u001b[1mINFO    \u001b[0m | \u001b[36mdata_processing.english_data_processing\u001b[0m:\u001b[36mevaluate_models\u001b[0m:\u001b[36m74\u001b[0m - \u001b[1mModel <class 'sklearn.ensemble._forest.RandomForestClassifier'> - scaler: Normalizer(), accuracy: 0.5952939476508958\u001b[0m\n",
      "\u001b[32m2024-05-22 16:22:04.449\u001b[0m | \u001b[1mINFO    \u001b[0m | \u001b[36mdata_processing.english_data_processing\u001b[0m:\u001b[36mevaluate_models\u001b[0m:\u001b[36m74\u001b[0m - \u001b[1mModel <class 'sklearn.ensemble._forest.ExtraTreesClassifier'> - scaler: Normalizer(), accuracy: 0.5968377508050532\u001b[0m\n",
      "\u001b[32m2024-05-22 16:22:04.450\u001b[0m | \u001b[1mINFO    \u001b[0m | \u001b[36mdata_processing.english_data_processing\u001b[0m:\u001b[36mevaluate_models\u001b[0m:\u001b[36m82\u001b[0m - \u001b[1mBest Model: <class 'sklearn.ensemble._forest.RandomForestClassifier'>\u001b[0m\n",
      "\u001b[32m2024-05-22 16:22:04.450\u001b[0m | \u001b[1mINFO    \u001b[0m | \u001b[36mdata_processing.english_data_processing\u001b[0m:\u001b[36mevaluate_models\u001b[0m:\u001b[36m83\u001b[0m - \u001b[1mBest Scaler: RobustScaler\u001b[0m\n",
      "\u001b[32m2024-05-22 16:22:04.451\u001b[0m | \u001b[1mINFO    \u001b[0m | \u001b[36mdata_processing.english_data_processing\u001b[0m:\u001b[36mevaluate_models\u001b[0m:\u001b[36m84\u001b[0m - \u001b[1mBest Average Accuracy: 0.6230125505738585\u001b[0m\n",
      "\u001b[32m2024-05-22 16:22:04.453\u001b[0m | \u001b[1mINFO    \u001b[0m | \u001b[36mfeature_extraction.feature_extractor\u001b[0m:\u001b[36mprocess_folder\u001b[0m:\u001b[36m148\u001b[0m - \u001b[1mProcessing input folder: D:/data_analysis/speech_emotion_recognition/data/EnglishDataset/cleaned_data0\u001b[0m\n"
     ]
    },
    {
     "name": "stdout",
     "output_type": "stream",
     "text": [
      "Scaler: RobustScaler, Model: <class 'sklearn.ensemble._forest.RandomForestClassifier'>, n_mfcc: 13, Selected features: ['mfcc', 'mfcc_statistics', 'rms'], Accuracy: 0.6230125505738585\n"
     ]
    },
    {
     "name": "stderr",
     "output_type": "stream",
     "text": [
      "\u001b[32m2024-05-22 16:23:42.949\u001b[0m | \u001b[1mINFO    \u001b[0m | \u001b[36mfeature_extraction.feature_extractor\u001b[0m:\u001b[36mprocess_folder\u001b[0m:\u001b[36m158\u001b[0m - \u001b[1mFeature extraction completed. Data saved to: D:/data_analysis/speech_emotion_recognition/notebooks/feature2.csv\u001b[0m\n",
      "\u001b[32m2024-05-22 16:23:43.037\u001b[0m | \u001b[1mINFO    \u001b[0m | \u001b[36mdata_processing.english_data_processing\u001b[0m:\u001b[36mevaluate_models\u001b[0m:\u001b[36m53\u001b[0m - \u001b[1mFinding best model....\u001b[0m\n",
      "\u001b[32m2024-05-22 16:24:42.645\u001b[0m | \u001b[1mINFO    \u001b[0m | \u001b[36mdata_processing.english_data_processing\u001b[0m:\u001b[36mevaluate_models\u001b[0m:\u001b[36m74\u001b[0m - \u001b[1mModel <class 'sklearn.ensemble._forest.RandomForestClassifier'> - scaler: None, accuracy: 0.6162879200726612\u001b[0m\n",
      "\u001b[32m2024-05-22 16:24:57.096\u001b[0m | \u001b[1mINFO    \u001b[0m | \u001b[36mdata_processing.english_data_processing\u001b[0m:\u001b[36mevaluate_models\u001b[0m:\u001b[36m74\u001b[0m - \u001b[1mModel <class 'sklearn.ensemble._forest.ExtraTreesClassifier'> - scaler: None, accuracy: 0.6149251919742383\u001b[0m\n",
      "\u001b[32m2024-05-22 16:25:59.536\u001b[0m | \u001b[1mINFO    \u001b[0m | \u001b[36mdata_processing.english_data_processing\u001b[0m:\u001b[36mevaluate_models\u001b[0m:\u001b[36m74\u001b[0m - \u001b[1mModel <class 'sklearn.ensemble._forest.RandomForestClassifier'> - scaler: StandardScaler(), accuracy: 0.6169240360003302\u001b[0m\n",
      "\u001b[32m2024-05-22 16:26:14.194\u001b[0m | \u001b[1mINFO    \u001b[0m | \u001b[36mdata_processing.english_data_processing\u001b[0m:\u001b[36mevaluate_models\u001b[0m:\u001b[36m74\u001b[0m - \u001b[1mModel <class 'sklearn.ensemble._forest.ExtraTreesClassifier'> - scaler: StandardScaler(), accuracy: 0.6181955247295847\u001b[0m\n",
      "\u001b[32m2024-05-22 16:27:15.743\u001b[0m | \u001b[1mINFO    \u001b[0m | \u001b[36mdata_processing.english_data_processing\u001b[0m:\u001b[36mevaluate_models\u001b[0m:\u001b[36m74\u001b[0m - \u001b[1mModel <class 'sklearn.ensemble._forest.RandomForestClassifier'> - scaler: MinMaxScaler(), accuracy: 0.6176499876145652\u001b[0m\n",
      "\u001b[32m2024-05-22 16:27:29.028\u001b[0m | \u001b[1mINFO    \u001b[0m | \u001b[36mdata_processing.english_data_processing\u001b[0m:\u001b[36mevaluate_models\u001b[0m:\u001b[36m74\u001b[0m - \u001b[1mModel <class 'sklearn.ensemble._forest.ExtraTreesClassifier'> - scaler: MinMaxScaler(), accuracy: 0.6135613079019074\u001b[0m\n",
      "\u001b[32m2024-05-22 16:28:31.619\u001b[0m | \u001b[1mINFO    \u001b[0m | \u001b[36mdata_processing.english_data_processing\u001b[0m:\u001b[36mevaluate_models\u001b[0m:\u001b[36m74\u001b[0m - \u001b[1mModel <class 'sklearn.ensemble._forest.RandomForestClassifier'> - scaler: MaxAbsScaler(), accuracy: 0.6193771777722732\u001b[0m\n",
      "\u001b[32m2024-05-22 16:28:46.279\u001b[0m | \u001b[1mINFO    \u001b[0m | \u001b[36mdata_processing.english_data_processing\u001b[0m:\u001b[36mevaluate_models\u001b[0m:\u001b[36m74\u001b[0m - \u001b[1mModel <class 'sklearn.ensemble._forest.ExtraTreesClassifier'> - scaler: MaxAbsScaler(), accuracy: 0.6171961027165388\u001b[0m\n",
      "\u001b[32m2024-05-22 16:29:51.358\u001b[0m | \u001b[1mINFO    \u001b[0m | \u001b[36mdata_processing.english_data_processing\u001b[0m:\u001b[36mevaluate_models\u001b[0m:\u001b[36m74\u001b[0m - \u001b[1mModel <class 'sklearn.ensemble._forest.RandomForestClassifier'> - scaler: RobustScaler(), accuracy: 0.6188319709355132\u001b[0m\n",
      "\u001b[32m2024-05-22 16:30:06.610\u001b[0m | \u001b[1mINFO    \u001b[0m | \u001b[36mdata_processing.english_data_processing\u001b[0m:\u001b[36mevaluate_models\u001b[0m:\u001b[36m74\u001b[0m - \u001b[1mModel <class 'sklearn.ensemble._forest.ExtraTreesClassifier'> - scaler: RobustScaler(), accuracy: 0.621194203616547\u001b[0m\n",
      "\u001b[32m2024-05-22 16:31:06.429\u001b[0m | \u001b[1mINFO    \u001b[0m | \u001b[36mdata_processing.english_data_processing\u001b[0m:\u001b[36mevaluate_models\u001b[0m:\u001b[36m74\u001b[0m - \u001b[1mModel <class 'sklearn.ensemble._forest.RandomForestClassifier'> - scaler: Normalizer(), accuracy: 0.5914756832631491\u001b[0m\n",
      "\u001b[32m2024-05-22 16:31:20.176\u001b[0m | \u001b[1mINFO    \u001b[0m | \u001b[36mdata_processing.english_data_processing\u001b[0m:\u001b[36mevaluate_models\u001b[0m:\u001b[36m74\u001b[0m - \u001b[1mModel <class 'sklearn.ensemble._forest.ExtraTreesClassifier'> - scaler: Normalizer(), accuracy: 0.5922935348030716\u001b[0m\n",
      "\u001b[32m2024-05-22 16:31:20.177\u001b[0m | \u001b[1mINFO    \u001b[0m | \u001b[36mdata_processing.english_data_processing\u001b[0m:\u001b[36mevaluate_models\u001b[0m:\u001b[36m82\u001b[0m - \u001b[1mBest Model: <class 'sklearn.ensemble._forest.ExtraTreesClassifier'>\u001b[0m\n",
      "\u001b[32m2024-05-22 16:31:20.178\u001b[0m | \u001b[1mINFO    \u001b[0m | \u001b[36mdata_processing.english_data_processing\u001b[0m:\u001b[36mevaluate_models\u001b[0m:\u001b[36m83\u001b[0m - \u001b[1mBest Scaler: RobustScaler\u001b[0m\n",
      "\u001b[32m2024-05-22 16:31:20.178\u001b[0m | \u001b[1mINFO    \u001b[0m | \u001b[36mdata_processing.english_data_processing\u001b[0m:\u001b[36mevaluate_models\u001b[0m:\u001b[36m84\u001b[0m - \u001b[1mBest Average Accuracy: 0.621194203616547\u001b[0m\n",
      "\u001b[32m2024-05-22 16:31:20.180\u001b[0m | \u001b[1mINFO    \u001b[0m | \u001b[36mfeature_extraction.feature_extractor\u001b[0m:\u001b[36mprocess_folder\u001b[0m:\u001b[36m148\u001b[0m - \u001b[1mProcessing input folder: D:/data_analysis/speech_emotion_recognition/data/EnglishDataset/cleaned_data0\u001b[0m\n"
     ]
    },
    {
     "name": "stdout",
     "output_type": "stream",
     "text": [
      "Scaler: RobustScaler, Model: <class 'sklearn.ensemble._forest.ExtraTreesClassifier'>, n_mfcc: 13, Selected features: ['mfcc', 'mfcc_statistics', 'pitch'], Accuracy: 0.621194203616547\n"
     ]
    },
    {
     "name": "stderr",
     "output_type": "stream",
     "text": [
      "\u001b[32m2024-05-22 16:32:41.136\u001b[0m | \u001b[1mINFO    \u001b[0m | \u001b[36mfeature_extraction.feature_extractor\u001b[0m:\u001b[36mprocess_folder\u001b[0m:\u001b[36m158\u001b[0m - \u001b[1mFeature extraction completed. Data saved to: D:/data_analysis/speech_emotion_recognition/notebooks/feature2.csv\u001b[0m\n",
      "\u001b[32m2024-05-22 16:32:41.220\u001b[0m | \u001b[1mINFO    \u001b[0m | \u001b[36mdata_processing.english_data_processing\u001b[0m:\u001b[36mevaluate_models\u001b[0m:\u001b[36m53\u001b[0m - \u001b[1mFinding best model....\u001b[0m\n",
      "\u001b[32m2024-05-22 16:33:46.249\u001b[0m | \u001b[1mINFO    \u001b[0m | \u001b[36mdata_processing.english_data_processing\u001b[0m:\u001b[36mevaluate_models\u001b[0m:\u001b[36m74\u001b[0m - \u001b[1mModel <class 'sklearn.ensemble._forest.RandomForestClassifier'> - scaler: None, accuracy: 0.6125604822062589\u001b[0m\n",
      "\u001b[32m2024-05-22 16:34:00.522\u001b[0m | \u001b[1mINFO    \u001b[0m | \u001b[36mdata_processing.english_data_processing\u001b[0m:\u001b[36mevaluate_models\u001b[0m:\u001b[36m74\u001b[0m - \u001b[1mModel <class 'sklearn.ensemble._forest.ExtraTreesClassifier'> - scaler: None, accuracy: 0.6128342003137645\u001b[0m\n",
      "\u001b[32m2024-05-22 16:35:09.202\u001b[0m | \u001b[1mINFO    \u001b[0m | \u001b[36mdata_processing.english_data_processing\u001b[0m:\u001b[36mevaluate_models\u001b[0m:\u001b[36m74\u001b[0m - \u001b[1mModel <class 'sklearn.ensemble._forest.RandomForestClassifier'> - scaler: StandardScaler(), accuracy: 0.6125608124845182\u001b[0m\n",
      "\u001b[32m2024-05-22 16:35:25.070\u001b[0m | \u001b[1mINFO    \u001b[0m | \u001b[36mdata_processing.english_data_processing\u001b[0m:\u001b[36mevaluate_models\u001b[0m:\u001b[36m74\u001b[0m - \u001b[1mModel <class 'sklearn.ensemble._forest.ExtraTreesClassifier'> - scaler: StandardScaler(), accuracy: 0.6172875072248368\u001b[0m\n",
      "\u001b[32m2024-05-22 16:36:31.061\u001b[0m | \u001b[1mINFO    \u001b[0m | \u001b[36mdata_processing.english_data_processing\u001b[0m:\u001b[36mevaluate_models\u001b[0m:\u001b[36m74\u001b[0m - \u001b[1mModel <class 'sklearn.ensemble._forest.RandomForestClassifier'> - scaler: MinMaxScaler(), accuracy: 0.6120149450912393\u001b[0m\n",
      "\u001b[32m2024-05-22 16:36:45.292\u001b[0m | \u001b[1mINFO    \u001b[0m | \u001b[36mdata_processing.english_data_processing\u001b[0m:\u001b[36mevaluate_models\u001b[0m:\u001b[36m74\u001b[0m - \u001b[1mModel <class 'sklearn.ensemble._forest.ExtraTreesClassifier'> - scaler: MinMaxScaler(), accuracy: 0.6145612253323426\u001b[0m\n",
      "\u001b[32m2024-05-22 16:37:51.500\u001b[0m | \u001b[1mINFO    \u001b[0m | \u001b[36mdata_processing.english_data_processing\u001b[0m:\u001b[36mevaluate_models\u001b[0m:\u001b[36m74\u001b[0m - \u001b[1mModel <class 'sklearn.ensemble._forest.RandomForestClassifier'> - scaler: MaxAbsScaler(), accuracy: 0.6138330443398563\u001b[0m\n",
      "\u001b[32m2024-05-22 16:38:06.202\u001b[0m | \u001b[1mINFO    \u001b[0m | \u001b[36mdata_processing.english_data_processing\u001b[0m:\u001b[36mevaluate_models\u001b[0m:\u001b[36m74\u001b[0m - \u001b[1mModel <class 'sklearn.ensemble._forest.ExtraTreesClassifier'> - scaler: MaxAbsScaler(), accuracy: 0.6094710593675171\u001b[0m\n",
      "\u001b[32m2024-05-22 16:39:11.319\u001b[0m | \u001b[1mINFO    \u001b[0m | \u001b[36mdata_processing.english_data_processing\u001b[0m:\u001b[36mevaluate_models\u001b[0m:\u001b[36m74\u001b[0m - \u001b[1mModel <class 'sklearn.ensemble._forest.RandomForestClassifier'> - scaler: RobustScaler(), accuracy: 0.6135599867888697\u001b[0m\n",
      "\u001b[32m2024-05-22 16:39:26.542\u001b[0m | \u001b[1mINFO    \u001b[0m | \u001b[36mdata_processing.english_data_processing\u001b[0m:\u001b[36mevaluate_models\u001b[0m:\u001b[36m74\u001b[0m - \u001b[1mModel <class 'sklearn.ensemble._forest.ExtraTreesClassifier'> - scaler: RobustScaler(), accuracy: 0.6154690776979606\u001b[0m\n",
      "\u001b[32m2024-05-22 16:40:36.379\u001b[0m | \u001b[1mINFO    \u001b[0m | \u001b[36mdata_processing.english_data_processing\u001b[0m:\u001b[36mevaluate_models\u001b[0m:\u001b[36m74\u001b[0m - \u001b[1mModel <class 'sklearn.ensemble._forest.RandomForestClassifier'> - scaler: Normalizer(), accuracy: 0.5894765915283625\u001b[0m\n",
      "\u001b[32m2024-05-22 16:40:52.563\u001b[0m | \u001b[1mINFO    \u001b[0m | \u001b[36mdata_processing.english_data_processing\u001b[0m:\u001b[36mevaluate_models\u001b[0m:\u001b[36m74\u001b[0m - \u001b[1mModel <class 'sklearn.ensemble._forest.ExtraTreesClassifier'> - scaler: Normalizer(), accuracy: 0.5947477499793575\u001b[0m\n",
      "\u001b[32m2024-05-22 16:40:52.564\u001b[0m | \u001b[1mINFO    \u001b[0m | \u001b[36mdata_processing.english_data_processing\u001b[0m:\u001b[36mevaluate_models\u001b[0m:\u001b[36m82\u001b[0m - \u001b[1mBest Model: <class 'sklearn.ensemble._forest.ExtraTreesClassifier'>\u001b[0m\n",
      "\u001b[32m2024-05-22 16:40:52.564\u001b[0m | \u001b[1mINFO    \u001b[0m | \u001b[36mdata_processing.english_data_processing\u001b[0m:\u001b[36mevaluate_models\u001b[0m:\u001b[36m83\u001b[0m - \u001b[1mBest Scaler: StandardScaler\u001b[0m\n",
      "\u001b[32m2024-05-22 16:40:52.565\u001b[0m | \u001b[1mINFO    \u001b[0m | \u001b[36mdata_processing.english_data_processing\u001b[0m:\u001b[36mevaluate_models\u001b[0m:\u001b[36m84\u001b[0m - \u001b[1mBest Average Accuracy: 0.6172875072248368\u001b[0m\n",
      "\u001b[32m2024-05-22 16:40:52.567\u001b[0m | \u001b[1mINFO    \u001b[0m | \u001b[36mfeature_extraction.feature_extractor\u001b[0m:\u001b[36mprocess_folder\u001b[0m:\u001b[36m148\u001b[0m - \u001b[1mProcessing input folder: D:/data_analysis/speech_emotion_recognition/data/EnglishDataset/cleaned_data0\u001b[0m\n"
     ]
    },
    {
     "name": "stdout",
     "output_type": "stream",
     "text": [
      "Scaler: StandardScaler, Model: <class 'sklearn.ensemble._forest.ExtraTreesClassifier'>, n_mfcc: 13, Selected features: ['mfcc', 'mfcc_statistics', 'zcr'], Accuracy: 0.6172875072248368\n"
     ]
    },
    {
     "name": "stderr",
     "output_type": "stream",
     "text": [
      "\u001b[32m2024-05-22 16:41:30.367\u001b[0m | \u001b[1mINFO    \u001b[0m | \u001b[36mfeature_extraction.feature_extractor\u001b[0m:\u001b[36mprocess_folder\u001b[0m:\u001b[36m158\u001b[0m - \u001b[1mFeature extraction completed. Data saved to: D:/data_analysis/speech_emotion_recognition/notebooks/feature2.csv\u001b[0m\n",
      "\u001b[32m2024-05-22 16:41:30.383\u001b[0m | \u001b[1mINFO    \u001b[0m | \u001b[36mdata_processing.english_data_processing\u001b[0m:\u001b[36mevaluate_models\u001b[0m:\u001b[36m53\u001b[0m - \u001b[1mFinding best model....\u001b[0m\n",
      "\u001b[32m2024-05-22 16:41:47.380\u001b[0m | \u001b[1mINFO    \u001b[0m | \u001b[36mdata_processing.english_data_processing\u001b[0m:\u001b[36mevaluate_models\u001b[0m:\u001b[36m74\u001b[0m - \u001b[1mModel <class 'sklearn.ensemble._forest.RandomForestClassifier'> - scaler: None, accuracy: 0.4712360663859302\u001b[0m\n",
      "\u001b[32m2024-05-22 16:41:54.521\u001b[0m | \u001b[1mINFO    \u001b[0m | \u001b[36mdata_processing.english_data_processing\u001b[0m:\u001b[36mevaluate_models\u001b[0m:\u001b[36m74\u001b[0m - \u001b[1mModel <class 'sklearn.ensemble._forest.ExtraTreesClassifier'> - scaler: None, accuracy: 0.4674186276938321\u001b[0m\n",
      "\u001b[32m2024-05-22 16:42:12.003\u001b[0m | \u001b[1mINFO    \u001b[0m | \u001b[36mdata_processing.english_data_processing\u001b[0m:\u001b[36mevaluate_models\u001b[0m:\u001b[36m74\u001b[0m - \u001b[1mModel <class 'sklearn.ensemble._forest.RandomForestClassifier'> - scaler: StandardScaler(), accuracy: 0.47023672694244906\u001b[0m\n",
      "\u001b[32m2024-05-22 16:42:19.027\u001b[0m | \u001b[1mINFO    \u001b[0m | \u001b[36mdata_processing.english_data_processing\u001b[0m:\u001b[36mevaluate_models\u001b[0m:\u001b[36m74\u001b[0m - \u001b[1mModel <class 'sklearn.ensemble._forest.ExtraTreesClassifier'> - scaler: StandardScaler(), accuracy: 0.4658709437701263\u001b[0m\n",
      "\u001b[32m2024-05-22 16:42:36.391\u001b[0m | \u001b[1mINFO    \u001b[0m | \u001b[36mdata_processing.english_data_processing\u001b[0m:\u001b[36mevaluate_models\u001b[0m:\u001b[36m74\u001b[0m - \u001b[1mModel <class 'sklearn.ensemble._forest.RandomForestClassifier'> - scaler: MinMaxScaler(), accuracy: 0.46887317314837745\u001b[0m\n",
      "\u001b[32m2024-05-22 16:42:43.469\u001b[0m | \u001b[1mINFO    \u001b[0m | \u001b[36mdata_processing.english_data_processing\u001b[0m:\u001b[36mevaluate_models\u001b[0m:\u001b[36m74\u001b[0m - \u001b[1mModel <class 'sklearn.ensemble._forest.ExtraTreesClassifier'> - scaler: MinMaxScaler(), accuracy: 0.4649639171001569\u001b[0m\n",
      "\u001b[32m2024-05-22 16:43:00.795\u001b[0m | \u001b[1mINFO    \u001b[0m | \u001b[36mdata_processing.english_data_processing\u001b[0m:\u001b[36mevaluate_models\u001b[0m:\u001b[36m74\u001b[0m - \u001b[1mModel <class 'sklearn.ensemble._forest.RandomForestClassifier'> - scaler: MaxAbsScaler(), accuracy: 0.47060052844521516\u001b[0m\n",
      "\u001b[32m2024-05-22 16:43:07.860\u001b[0m | \u001b[1mINFO    \u001b[0m | \u001b[36mdata_processing.english_data_processing\u001b[0m:\u001b[36mevaluate_models\u001b[0m:\u001b[36m74\u001b[0m - \u001b[1mModel <class 'sklearn.ensemble._forest.ExtraTreesClassifier'> - scaler: MaxAbsScaler(), accuracy: 0.46605449591280657\u001b[0m\n",
      "\u001b[32m2024-05-22 16:43:25.552\u001b[0m | \u001b[1mINFO    \u001b[0m | \u001b[36mdata_processing.english_data_processing\u001b[0m:\u001b[36mevaluate_models\u001b[0m:\u001b[36m74\u001b[0m - \u001b[1mModel <class 'sklearn.ensemble._forest.RandomForestClassifier'> - scaler: RobustScaler(), accuracy: 0.4737799521096524\u001b[0m\n",
      "\u001b[32m2024-05-22 16:43:32.824\u001b[0m | \u001b[1mINFO    \u001b[0m | \u001b[36mdata_processing.english_data_processing\u001b[0m:\u001b[36mevaluate_models\u001b[0m:\u001b[36m74\u001b[0m - \u001b[1mModel <class 'sklearn.ensemble._forest.ExtraTreesClassifier'> - scaler: RobustScaler(), accuracy: 0.4687824291965981\u001b[0m\n",
      "\u001b[32m2024-05-22 16:43:48.686\u001b[0m | \u001b[1mINFO    \u001b[0m | \u001b[36mdata_processing.english_data_processing\u001b[0m:\u001b[36mevaluate_models\u001b[0m:\u001b[36m74\u001b[0m - \u001b[1mModel <class 'sklearn.ensemble._forest.RandomForestClassifier'> - scaler: Normalizer(), accuracy: 0.4259738254479399\u001b[0m\n",
      "\u001b[32m2024-05-22 16:43:56.231\u001b[0m | \u001b[1mINFO    \u001b[0m | \u001b[36mdata_processing.english_data_processing\u001b[0m:\u001b[36mevaluate_models\u001b[0m:\u001b[36m74\u001b[0m - \u001b[1mModel <class 'sklearn.ensemble._forest.ExtraTreesClassifier'> - scaler: Normalizer(), accuracy: 0.42243266451985795\u001b[0m\n",
      "\u001b[32m2024-05-22 16:43:56.232\u001b[0m | \u001b[1mINFO    \u001b[0m | \u001b[36mdata_processing.english_data_processing\u001b[0m:\u001b[36mevaluate_models\u001b[0m:\u001b[36m82\u001b[0m - \u001b[1mBest Model: <class 'sklearn.ensemble._forest.RandomForestClassifier'>\u001b[0m\n",
      "\u001b[32m2024-05-22 16:43:56.233\u001b[0m | \u001b[1mINFO    \u001b[0m | \u001b[36mdata_processing.english_data_processing\u001b[0m:\u001b[36mevaluate_models\u001b[0m:\u001b[36m83\u001b[0m - \u001b[1mBest Scaler: RobustScaler\u001b[0m\n",
      "\u001b[32m2024-05-22 16:43:56.233\u001b[0m | \u001b[1mINFO    \u001b[0m | \u001b[36mdata_processing.english_data_processing\u001b[0m:\u001b[36mevaluate_models\u001b[0m:\u001b[36m84\u001b[0m - \u001b[1mBest Average Accuracy: 0.4737799521096524\u001b[0m\n",
      "\u001b[32m2024-05-22 16:43:56.234\u001b[0m | \u001b[1mINFO    \u001b[0m | \u001b[36mfeature_extraction.feature_extractor\u001b[0m:\u001b[36mprocess_folder\u001b[0m:\u001b[36m148\u001b[0m - \u001b[1mProcessing input folder: D:/data_analysis/speech_emotion_recognition/data/EnglishDataset/cleaned_data0\u001b[0m\n"
     ]
    },
    {
     "name": "stdout",
     "output_type": "stream",
     "text": [
      "Scaler: RobustScaler, Model: <class 'sklearn.ensemble._forest.RandomForestClassifier'>, n_mfcc: 13, Selected features: ['pitch', 'rms'], Accuracy: 0.4737799521096524\n"
     ]
    },
    {
     "name": "stderr",
     "output_type": "stream",
     "text": [
      "\u001b[32m2024-05-22 16:44:17.283\u001b[0m | \u001b[1mINFO    \u001b[0m | \u001b[36mfeature_extraction.feature_extractor\u001b[0m:\u001b[36mprocess_folder\u001b[0m:\u001b[36m158\u001b[0m - \u001b[1mFeature extraction completed. Data saved to: D:/data_analysis/speech_emotion_recognition/notebooks/feature2.csv\u001b[0m\n",
      "\u001b[32m2024-05-22 16:44:17.304\u001b[0m | \u001b[1mINFO    \u001b[0m | \u001b[36mdata_processing.english_data_processing\u001b[0m:\u001b[36mevaluate_models\u001b[0m:\u001b[36m53\u001b[0m - \u001b[1mFinding best model....\u001b[0m\n",
      "\u001b[32m2024-05-22 16:44:40.872\u001b[0m | \u001b[1mINFO    \u001b[0m | \u001b[36mdata_processing.english_data_processing\u001b[0m:\u001b[36mevaluate_models\u001b[0m:\u001b[36m74\u001b[0m - \u001b[1mModel <class 'sklearn.ensemble._forest.RandomForestClassifier'> - scaler: None, accuracy: 0.5174958302369747\u001b[0m\n",
      "\u001b[32m2024-05-22 16:44:49.943\u001b[0m | \u001b[1mINFO    \u001b[0m | \u001b[36mdata_processing.english_data_processing\u001b[0m:\u001b[36mevaluate_models\u001b[0m:\u001b[36m74\u001b[0m - \u001b[1mModel <class 'sklearn.ensemble._forest.ExtraTreesClassifier'> - scaler: None, accuracy: 0.5142252497729338\u001b[0m\n",
      "\u001b[32m2024-05-22 16:45:12.776\u001b[0m | \u001b[1mINFO    \u001b[0m | \u001b[36mdata_processing.english_data_processing\u001b[0m:\u001b[36mevaluate_models\u001b[0m:\u001b[36m74\u001b[0m - \u001b[1mModel <class 'sklearn.ensemble._forest.RandomForestClassifier'> - scaler: StandardScaler(), accuracy: 0.5209515316654281\u001b[0m\n",
      "\u001b[32m2024-05-22 16:45:21.128\u001b[0m | \u001b[1mINFO    \u001b[0m | \u001b[36mdata_processing.english_data_processing\u001b[0m:\u001b[36mevaluate_models\u001b[0m:\u001b[36m74\u001b[0m - \u001b[1mModel <class 'sklearn.ensemble._forest.ExtraTreesClassifier'> - scaler: StandardScaler(), accuracy: 0.512497977045661\u001b[0m\n",
      "\u001b[32m2024-05-22 16:45:43.827\u001b[0m | \u001b[1mINFO    \u001b[0m | \u001b[36mdata_processing.english_data_processing\u001b[0m:\u001b[36mevaluate_models\u001b[0m:\u001b[36m74\u001b[0m - \u001b[1mModel <class 'sklearn.ensemble._forest.RandomForestClassifier'> - scaler: MinMaxScaler(), accuracy: 0.5190426884650318\u001b[0m\n",
      "\u001b[32m2024-05-22 16:45:52.099\u001b[0m | \u001b[1mINFO    \u001b[0m | \u001b[36mdata_processing.english_data_processing\u001b[0m:\u001b[36mevaluate_models\u001b[0m:\u001b[36m74\u001b[0m - \u001b[1mModel <class 'sklearn.ensemble._forest.ExtraTreesClassifier'> - scaler: MinMaxScaler(), accuracy: 0.5126788869622656\u001b[0m\n",
      "\u001b[32m2024-05-22 16:46:14.666\u001b[0m | \u001b[1mINFO    \u001b[0m | \u001b[36mdata_processing.english_data_processing\u001b[0m:\u001b[36mevaluate_models\u001b[0m:\u001b[36m74\u001b[0m - \u001b[1mModel <class 'sklearn.ensemble._forest.RandomForestClassifier'> - scaler: MaxAbsScaler(), accuracy: 0.5174060771199736\u001b[0m\n",
      "\u001b[32m2024-05-22 16:46:22.961\u001b[0m | \u001b[1mINFO    \u001b[0m | \u001b[36mdata_processing.english_data_processing\u001b[0m:\u001b[36mevaluate_models\u001b[0m:\u001b[36m74\u001b[0m - \u001b[1mModel <class 'sklearn.ensemble._forest.ExtraTreesClassifier'> - scaler: MaxAbsScaler(), accuracy: 0.5134969036413178\u001b[0m\n",
      "\u001b[32m2024-05-22 16:46:45.756\u001b[0m | \u001b[1mINFO    \u001b[0m | \u001b[36mdata_processing.english_data_processing\u001b[0m:\u001b[36mevaluate_models\u001b[0m:\u001b[36m74\u001b[0m - \u001b[1mModel <class 'sklearn.ensemble._forest.RandomForestClassifier'> - scaler: RobustScaler(), accuracy: 0.5197688877879614\u001b[0m\n",
      "\u001b[32m2024-05-22 16:46:54.280\u001b[0m | \u001b[1mINFO    \u001b[0m | \u001b[36mdata_processing.english_data_processing\u001b[0m:\u001b[36mevaluate_models\u001b[0m:\u001b[36m74\u001b[0m - \u001b[1mModel <class 'sklearn.ensemble._forest.ExtraTreesClassifier'> - scaler: RobustScaler(), accuracy: 0.5151337626950706\u001b[0m\n",
      "\u001b[32m2024-05-22 16:47:19.882\u001b[0m | \u001b[1mINFO    \u001b[0m | \u001b[36mdata_processing.english_data_processing\u001b[0m:\u001b[36mevaluate_models\u001b[0m:\u001b[36m74\u001b[0m - \u001b[1mModel <class 'sklearn.ensemble._forest.RandomForestClassifier'> - scaler: Normalizer(), accuracy: 0.4939551647262818\u001b[0m\n",
      "\u001b[32m2024-05-22 16:47:29.227\u001b[0m | \u001b[1mINFO    \u001b[0m | \u001b[36mdata_processing.english_data_processing\u001b[0m:\u001b[36mevaluate_models\u001b[0m:\u001b[36m74\u001b[0m - \u001b[1mModel <class 'sklearn.ensemble._forest.ExtraTreesClassifier'> - scaler: Normalizer(), accuracy: 0.48577640161836355\u001b[0m\n",
      "\u001b[32m2024-05-22 16:47:29.228\u001b[0m | \u001b[1mINFO    \u001b[0m | \u001b[36mdata_processing.english_data_processing\u001b[0m:\u001b[36mevaluate_models\u001b[0m:\u001b[36m82\u001b[0m - \u001b[1mBest Model: <class 'sklearn.ensemble._forest.RandomForestClassifier'>\u001b[0m\n",
      "\u001b[32m2024-05-22 16:47:29.229\u001b[0m | \u001b[1mINFO    \u001b[0m | \u001b[36mdata_processing.english_data_processing\u001b[0m:\u001b[36mevaluate_models\u001b[0m:\u001b[36m83\u001b[0m - \u001b[1mBest Scaler: StandardScaler\u001b[0m\n",
      "\u001b[32m2024-05-22 16:47:29.229\u001b[0m | \u001b[1mINFO    \u001b[0m | \u001b[36mdata_processing.english_data_processing\u001b[0m:\u001b[36mevaluate_models\u001b[0m:\u001b[36m84\u001b[0m - \u001b[1mBest Average Accuracy: 0.5209515316654281\u001b[0m\n",
      "\u001b[32m2024-05-22 16:47:29.230\u001b[0m | \u001b[1mINFO    \u001b[0m | \u001b[36mfeature_extraction.feature_extractor\u001b[0m:\u001b[36mprocess_folder\u001b[0m:\u001b[36m148\u001b[0m - \u001b[1mProcessing input folder: D:/data_analysis/speech_emotion_recognition/data/EnglishDataset/cleaned_data0\u001b[0m\n"
     ]
    },
    {
     "name": "stdout",
     "output_type": "stream",
     "text": [
      "Scaler: StandardScaler, Model: <class 'sklearn.ensemble._forest.RandomForestClassifier'>, n_mfcc: 13, Selected features: ['zcr', 'rms'], Accuracy: 0.5209515316654281\n"
     ]
    },
    {
     "name": "stderr",
     "output_type": "stream",
     "text": [
      "\u001b[32m2024-05-22 16:48:06.700\u001b[0m | \u001b[1mINFO    \u001b[0m | \u001b[36mfeature_extraction.feature_extractor\u001b[0m:\u001b[36mprocess_folder\u001b[0m:\u001b[36m158\u001b[0m - \u001b[1mFeature extraction completed. Data saved to: D:/data_analysis/speech_emotion_recognition/notebooks/feature2.csv\u001b[0m\n",
      "\u001b[32m2024-05-22 16:48:06.725\u001b[0m | \u001b[1mINFO    \u001b[0m | \u001b[36mdata_processing.english_data_processing\u001b[0m:\u001b[36mevaluate_models\u001b[0m:\u001b[36m53\u001b[0m - \u001b[1mFinding best model....\u001b[0m\n",
      "\u001b[32m2024-05-22 16:48:23.401\u001b[0m | \u001b[1mINFO    \u001b[0m | \u001b[36mdata_processing.english_data_processing\u001b[0m:\u001b[36mevaluate_models\u001b[0m:\u001b[36m74\u001b[0m - \u001b[1mModel <class 'sklearn.ensemble._forest.RandomForestClassifier'> - scaler: None, accuracy: 0.4159817521261663\u001b[0m\n",
      "\u001b[32m2024-05-22 16:48:31.189\u001b[0m | \u001b[1mINFO    \u001b[0m | \u001b[36mdata_processing.english_data_processing\u001b[0m:\u001b[36mevaluate_models\u001b[0m:\u001b[36m74\u001b[0m - \u001b[1mModel <class 'sklearn.ensemble._forest.ExtraTreesClassifier'> - scaler: None, accuracy: 0.41779803484435635\u001b[0m\n",
      "\u001b[32m2024-05-22 16:48:47.990\u001b[0m | \u001b[1mINFO    \u001b[0m | \u001b[36mdata_processing.english_data_processing\u001b[0m:\u001b[36mevaluate_models\u001b[0m:\u001b[36m74\u001b[0m - \u001b[1mModel <class 'sklearn.ensemble._forest.RandomForestClassifier'> - scaler: StandardScaler(), accuracy: 0.4167975394269671\u001b[0m\n",
      "\u001b[32m2024-05-22 16:48:56.188\u001b[0m | \u001b[1mINFO    \u001b[0m | \u001b[36mdata_processing.english_data_processing\u001b[0m:\u001b[36mevaluate_models\u001b[0m:\u001b[36m74\u001b[0m - \u001b[1mModel <class 'sklearn.ensemble._forest.ExtraTreesClassifier'> - scaler: StandardScaler(), accuracy: 0.41398150441747167\u001b[0m\n",
      "\u001b[32m2024-05-22 16:49:13.359\u001b[0m | \u001b[1mINFO    \u001b[0m | \u001b[36mdata_processing.english_data_processing\u001b[0m:\u001b[36mevaluate_models\u001b[0m:\u001b[36m74\u001b[0m - \u001b[1mModel <class 'sklearn.ensemble._forest.RandomForestClassifier'> - scaler: MinMaxScaler(), accuracy: 0.4201613409297333\u001b[0m\n",
      "\u001b[32m2024-05-22 16:49:21.579\u001b[0m | \u001b[1mINFO    \u001b[0m | \u001b[36mdata_processing.english_data_processing\u001b[0m:\u001b[36mevaluate_models\u001b[0m:\u001b[36m74\u001b[0m - \u001b[1mModel <class 'sklearn.ensemble._forest.ExtraTreesClassifier'> - scaler: MinMaxScaler(), accuracy: 0.4121645611427628\u001b[0m\n",
      "\u001b[32m2024-05-22 16:49:38.805\u001b[0m | \u001b[1mINFO    \u001b[0m | \u001b[36mdata_processing.english_data_processing\u001b[0m:\u001b[36mevaluate_models\u001b[0m:\u001b[36m74\u001b[0m - \u001b[1mModel <class 'sklearn.ensemble._forest.RandomForestClassifier'> - scaler: MaxAbsScaler(), accuracy: 0.41916266204277103\u001b[0m\n",
      "\u001b[32m2024-05-22 16:49:46.863\u001b[0m | \u001b[1mINFO    \u001b[0m | \u001b[36mdata_processing.english_data_processing\u001b[0m:\u001b[36mevaluate_models\u001b[0m:\u001b[36m74\u001b[0m - \u001b[1mModel <class 'sklearn.ensemble._forest.ExtraTreesClassifier'> - scaler: MaxAbsScaler(), accuracy: 0.4157991908182644\u001b[0m\n",
      "\u001b[32m2024-05-22 16:50:03.886\u001b[0m | \u001b[1mINFO    \u001b[0m | \u001b[36mdata_processing.english_data_processing\u001b[0m:\u001b[36mevaluate_models\u001b[0m:\u001b[36m74\u001b[0m - \u001b[1mModel <class 'sklearn.ensemble._forest.RandomForestClassifier'> - scaler: RobustScaler(), accuracy: 0.4241602675253901\u001b[0m\n",
      "\u001b[32m2024-05-22 16:50:12.015\u001b[0m | \u001b[1mINFO    \u001b[0m | \u001b[36mdata_processing.english_data_processing\u001b[0m:\u001b[36mevaluate_models\u001b[0m:\u001b[36m74\u001b[0m - \u001b[1mModel <class 'sklearn.ensemble._forest.ExtraTreesClassifier'> - scaler: RobustScaler(), accuracy: 0.410983155808769\u001b[0m\n",
      "\u001b[32m2024-05-22 16:50:32.026\u001b[0m | \u001b[1mINFO    \u001b[0m | \u001b[36mdata_processing.english_data_processing\u001b[0m:\u001b[36mevaluate_models\u001b[0m:\u001b[36m74\u001b[0m - \u001b[1mModel <class 'sklearn.ensemble._forest.RandomForestClassifier'> - scaler: Normalizer(), accuracy: 0.3639039715960697\u001b[0m\n",
      "\u001b[32m2024-05-22 16:50:39.446\u001b[0m | \u001b[1mINFO    \u001b[0m | \u001b[36mdata_processing.english_data_processing\u001b[0m:\u001b[36mevaluate_models\u001b[0m:\u001b[36m74\u001b[0m - \u001b[1mModel <class 'sklearn.ensemble._forest.ExtraTreesClassifier'> - scaler: Normalizer(), accuracy: 0.3552696721988275\u001b[0m\n",
      "\u001b[32m2024-05-22 16:50:39.447\u001b[0m | \u001b[1mINFO    \u001b[0m | \u001b[36mdata_processing.english_data_processing\u001b[0m:\u001b[36mevaluate_models\u001b[0m:\u001b[36m82\u001b[0m - \u001b[1mBest Model: <class 'sklearn.ensemble._forest.RandomForestClassifier'>\u001b[0m\n",
      "\u001b[32m2024-05-22 16:50:39.448\u001b[0m | \u001b[1mINFO    \u001b[0m | \u001b[36mdata_processing.english_data_processing\u001b[0m:\u001b[36mevaluate_models\u001b[0m:\u001b[36m83\u001b[0m - \u001b[1mBest Scaler: RobustScaler\u001b[0m\n",
      "\u001b[32m2024-05-22 16:50:39.448\u001b[0m | \u001b[1mINFO    \u001b[0m | \u001b[36mdata_processing.english_data_processing\u001b[0m:\u001b[36mevaluate_models\u001b[0m:\u001b[36m84\u001b[0m - \u001b[1mBest Average Accuracy: 0.4241602675253901\u001b[0m\n",
      "\u001b[32m2024-05-22 16:50:39.449\u001b[0m | \u001b[1mINFO    \u001b[0m | \u001b[36mfeature_extraction.feature_extractor\u001b[0m:\u001b[36mprocess_folder\u001b[0m:\u001b[36m148\u001b[0m - \u001b[1mProcessing input folder: D:/data_analysis/speech_emotion_recognition/data/EnglishDataset/cleaned_data0\u001b[0m\n"
     ]
    },
    {
     "name": "stdout",
     "output_type": "stream",
     "text": [
      "Scaler: RobustScaler, Model: <class 'sklearn.ensemble._forest.RandomForestClassifier'>, n_mfcc: 13, Selected features: ['zcr', 'pitch'], Accuracy: 0.4241602675253901\n"
     ]
    },
    {
     "name": "stderr",
     "output_type": "stream",
     "text": [
      "\u001b[32m2024-05-22 16:51:30.653\u001b[0m | \u001b[1mINFO    \u001b[0m | \u001b[36mfeature_extraction.feature_extractor\u001b[0m:\u001b[36mprocess_folder\u001b[0m:\u001b[36m158\u001b[0m - \u001b[1mFeature extraction completed. Data saved to: D:/data_analysis/speech_emotion_recognition/notebooks/feature2.csv\u001b[0m\n",
      "\u001b[32m2024-05-22 16:51:30.733\u001b[0m | \u001b[1mINFO    \u001b[0m | \u001b[36mdata_processing.english_data_processing\u001b[0m:\u001b[36mevaluate_models\u001b[0m:\u001b[36m53\u001b[0m - \u001b[1mFinding best model....\u001b[0m\n",
      "\u001b[32m2024-05-22 16:52:29.768\u001b[0m | \u001b[1mINFO    \u001b[0m | \u001b[36mdata_processing.english_data_processing\u001b[0m:\u001b[36mevaluate_models\u001b[0m:\u001b[36m74\u001b[0m - \u001b[1mModel <class 'sklearn.ensemble._forest.RandomForestClassifier'> - scaler: None, accuracy: 0.6201940384774173\u001b[0m\n",
      "\u001b[32m2024-05-22 16:52:43.162\u001b[0m | \u001b[1mINFO    \u001b[0m | \u001b[36mdata_processing.english_data_processing\u001b[0m:\u001b[36mevaluate_models\u001b[0m:\u001b[36m74\u001b[0m - \u001b[1mModel <class 'sklearn.ensemble._forest.ExtraTreesClassifier'> - scaler: None, accuracy: 0.6197387498967879\u001b[0m\n",
      "\u001b[32m2024-05-22 16:53:42.431\u001b[0m | \u001b[1mINFO    \u001b[0m | \u001b[36mdata_processing.english_data_processing\u001b[0m:\u001b[36mevaluate_models\u001b[0m:\u001b[36m74\u001b[0m - \u001b[1mModel <class 'sklearn.ensemble._forest.RandomForestClassifier'> - scaler: StandardScaler(), accuracy: 0.6208312278094295\u001b[0m\n",
      "\u001b[32m2024-05-22 16:53:55.590\u001b[0m | \u001b[1mINFO    \u001b[0m | \u001b[36mdata_processing.english_data_processing\u001b[0m:\u001b[36mevaluate_models\u001b[0m:\u001b[36m74\u001b[0m - \u001b[1mModel <class 'sklearn.ensemble._forest.ExtraTreesClassifier'> - scaler: StandardScaler(), accuracy: 0.6203765997853192\u001b[0m\n",
      "\u001b[32m2024-05-22 16:54:54.189\u001b[0m | \u001b[1mINFO    \u001b[0m | \u001b[36mdata_processing.english_data_processing\u001b[0m:\u001b[36mevaluate_models\u001b[0m:\u001b[36m74\u001b[0m - \u001b[1mModel <class 'sklearn.ensemble._forest.RandomForestClassifier'> - scaler: MinMaxScaler(), accuracy: 0.6215582528280076\u001b[0m\n",
      "\u001b[32m2024-05-22 16:55:07.393\u001b[0m | \u001b[1mINFO    \u001b[0m | \u001b[36mdata_processing.english_data_processing\u001b[0m:\u001b[36mevaluate_models\u001b[0m:\u001b[36m74\u001b[0m - \u001b[1mModel <class 'sklearn.ensemble._forest.ExtraTreesClassifier'> - scaler: MinMaxScaler(), accuracy: 0.6186489142102222\u001b[0m\n",
      "\u001b[32m2024-05-22 16:56:10.254\u001b[0m | \u001b[1mINFO    \u001b[0m | \u001b[36mdata_processing.english_data_processing\u001b[0m:\u001b[36mevaluate_models\u001b[0m:\u001b[36m74\u001b[0m - \u001b[1mModel <class 'sklearn.ensemble._forest.RandomForestClassifier'> - scaler: MaxAbsScaler(), accuracy: 0.6184685822805714\u001b[0m\n",
      "\u001b[32m2024-05-22 16:56:24.442\u001b[0m | \u001b[1mINFO    \u001b[0m | \u001b[36mdata_processing.english_data_processing\u001b[0m:\u001b[36mevaluate_models\u001b[0m:\u001b[36m74\u001b[0m - \u001b[1mModel <class 'sklearn.ensemble._forest.ExtraTreesClassifier'> - scaler: MaxAbsScaler(), accuracy: 0.6150156056477583\u001b[0m\n",
      "\u001b[32m2024-05-22 16:57:28.091\u001b[0m | \u001b[1mINFO    \u001b[0m | \u001b[36mdata_processing.english_data_processing\u001b[0m:\u001b[36mevaluate_models\u001b[0m:\u001b[36m74\u001b[0m - \u001b[1mModel <class 'sklearn.ensemble._forest.RandomForestClassifier'> - scaler: RobustScaler(), accuracy: 0.6195588308149615\u001b[0m\n",
      "\u001b[32m2024-05-22 16:57:41.766\u001b[0m | \u001b[1mINFO    \u001b[0m | \u001b[36mdata_processing.english_data_processing\u001b[0m:\u001b[36mevaluate_models\u001b[0m:\u001b[36m74\u001b[0m - \u001b[1mModel <class 'sklearn.ensemble._forest.ExtraTreesClassifier'> - scaler: RobustScaler(), accuracy: 0.6210126331434231\u001b[0m\n",
      "\u001b[32m2024-05-22 16:58:42.904\u001b[0m | \u001b[1mINFO    \u001b[0m | \u001b[36mdata_processing.english_data_processing\u001b[0m:\u001b[36mevaluate_models\u001b[0m:\u001b[36m74\u001b[0m - \u001b[1mModel <class 'sklearn.ensemble._forest.RandomForestClassifier'> - scaler: Normalizer(), accuracy: 0.5942032862686814\u001b[0m\n",
      "\u001b[32m2024-05-22 16:58:58.058\u001b[0m | \u001b[1mINFO    \u001b[0m | \u001b[36mdata_processing.english_data_processing\u001b[0m:\u001b[36mevaluate_models\u001b[0m:\u001b[36m74\u001b[0m - \u001b[1mModel <class 'sklearn.ensemble._forest.ExtraTreesClassifier'> - scaler: Normalizer(), accuracy: 0.593748740814136\u001b[0m\n",
      "\u001b[32m2024-05-22 16:58:58.059\u001b[0m | \u001b[1mINFO    \u001b[0m | \u001b[36mdata_processing.english_data_processing\u001b[0m:\u001b[36mevaluate_models\u001b[0m:\u001b[36m82\u001b[0m - \u001b[1mBest Model: <class 'sklearn.ensemble._forest.RandomForestClassifier'>\u001b[0m\n",
      "\u001b[32m2024-05-22 16:58:58.060\u001b[0m | \u001b[1mINFO    \u001b[0m | \u001b[36mdata_processing.english_data_processing\u001b[0m:\u001b[36mevaluate_models\u001b[0m:\u001b[36m83\u001b[0m - \u001b[1mBest Scaler: MinMaxScaler\u001b[0m\n",
      "\u001b[32m2024-05-22 16:58:58.061\u001b[0m | \u001b[1mINFO    \u001b[0m | \u001b[36mdata_processing.english_data_processing\u001b[0m:\u001b[36mevaluate_models\u001b[0m:\u001b[36m84\u001b[0m - \u001b[1mBest Average Accuracy: 0.6215582528280076\u001b[0m\n",
      "\u001b[32m2024-05-22 16:58:58.063\u001b[0m | \u001b[1mINFO    \u001b[0m | \u001b[36mfeature_extraction.feature_extractor\u001b[0m:\u001b[36mprocess_folder\u001b[0m:\u001b[36m148\u001b[0m - \u001b[1mProcessing input folder: D:/data_analysis/speech_emotion_recognition/data/EnglishDataset/cleaned_data0\u001b[0m\n"
     ]
    },
    {
     "name": "stdout",
     "output_type": "stream",
     "text": [
      "Scaler: MinMaxScaler, Model: <class 'sklearn.ensemble._forest.RandomForestClassifier'>, n_mfcc: 13, Selected features: ['mfcc_statistics', 'rms'], Accuracy: 0.6215582528280076\n"
     ]
    },
    {
     "name": "stderr",
     "output_type": "stream",
     "text": [
      "\u001b[32m2024-05-22 17:00:05.253\u001b[0m | \u001b[1mINFO    \u001b[0m | \u001b[36mfeature_extraction.feature_extractor\u001b[0m:\u001b[36mprocess_folder\u001b[0m:\u001b[36m158\u001b[0m - \u001b[1mFeature extraction completed. Data saved to: D:/data_analysis/speech_emotion_recognition/notebooks/feature2.csv\u001b[0m\n",
      "\u001b[32m2024-05-22 17:00:05.323\u001b[0m | \u001b[1mINFO    \u001b[0m | \u001b[36mdata_processing.english_data_processing\u001b[0m:\u001b[36mevaluate_models\u001b[0m:\u001b[36m53\u001b[0m - \u001b[1mFinding best model....\u001b[0m\n",
      "\u001b[32m2024-05-22 17:01:03.650\u001b[0m | \u001b[1mINFO    \u001b[0m | \u001b[36mdata_processing.english_data_processing\u001b[0m:\u001b[36mevaluate_models\u001b[0m:\u001b[36m74\u001b[0m - \u001b[1mModel <class 'sklearn.ensemble._forest.RandomForestClassifier'> - scaler: None, accuracy: 0.6191041202212865\u001b[0m\n",
      "\u001b[32m2024-05-22 17:01:17.006\u001b[0m | \u001b[1mINFO    \u001b[0m | \u001b[36mdata_processing.english_data_processing\u001b[0m:\u001b[36mevaluate_models\u001b[0m:\u001b[36m74\u001b[0m - \u001b[1mModel <class 'sklearn.ensemble._forest.ExtraTreesClassifier'> - scaler: None, accuracy: 0.6194693254066551\u001b[0m\n",
      "\u001b[32m2024-05-22 17:02:16.528\u001b[0m | \u001b[1mINFO    \u001b[0m | \u001b[36mdata_processing.english_data_processing\u001b[0m:\u001b[36mevaluate_models\u001b[0m:\u001b[36m74\u001b[0m - \u001b[1mModel <class 'sklearn.ensemble._forest.RandomForestClassifier'> - scaler: StandardScaler(), accuracy: 0.6194674263066633\u001b[0m\n",
      "\u001b[32m2024-05-22 17:02:29.715\u001b[0m | \u001b[1mINFO    \u001b[0m | \u001b[36mdata_processing.english_data_processing\u001b[0m:\u001b[36mevaluate_models\u001b[0m:\u001b[36m74\u001b[0m - \u001b[1mModel <class 'sklearn.ensemble._forest.ExtraTreesClassifier'> - scaler: StandardScaler(), accuracy: 0.615288002642226\u001b[0m\n",
      "\u001b[32m2024-05-22 17:03:28.011\u001b[0m | \u001b[1mINFO    \u001b[0m | \u001b[36mdata_processing.english_data_processing\u001b[0m:\u001b[36mevaluate_models\u001b[0m:\u001b[36m74\u001b[0m - \u001b[1mModel <class 'sklearn.ensemble._forest.RandomForestClassifier'> - scaler: MinMaxScaler(), accuracy: 0.6222848649987613\u001b[0m\n",
      "\u001b[32m2024-05-22 17:03:41.210\u001b[0m | \u001b[1mINFO    \u001b[0m | \u001b[36mdata_processing.english_data_processing\u001b[0m:\u001b[36mevaluate_models\u001b[0m:\u001b[36m74\u001b[0m - \u001b[1mModel <class 'sklearn.ensemble._forest.ExtraTreesClassifier'> - scaler: MinMaxScaler(), accuracy: 0.6209233754438114\u001b[0m\n",
      "\u001b[32m2024-05-22 17:04:43.684\u001b[0m | \u001b[1mINFO    \u001b[0m | \u001b[36mdata_processing.english_data_processing\u001b[0m:\u001b[36mevaluate_models\u001b[0m:\u001b[36m74\u001b[0m - \u001b[1mModel <class 'sklearn.ensemble._forest.RandomForestClassifier'> - scaler: MaxAbsScaler(), accuracy: 0.6173770126331435\u001b[0m\n",
      "\u001b[32m2024-05-22 17:04:57.585\u001b[0m | \u001b[1mINFO    \u001b[0m | \u001b[36mdata_processing.english_data_processing\u001b[0m:\u001b[36mevaluate_models\u001b[0m:\u001b[36m74\u001b[0m - \u001b[1mModel <class 'sklearn.ensemble._forest.ExtraTreesClassifier'> - scaler: MaxAbsScaler(), accuracy: 0.6195578399801833\u001b[0m\n",
      "\u001b[32m2024-05-22 17:06:00.194\u001b[0m | \u001b[1mINFO    \u001b[0m | \u001b[36mdata_processing.english_data_processing\u001b[0m:\u001b[36mevaluate_models\u001b[0m:\u001b[36m74\u001b[0m - \u001b[1mModel <class 'sklearn.ensemble._forest.RandomForestClassifier'> - scaler: RobustScaler(), accuracy: 0.618195359590455\u001b[0m\n",
      "\u001b[32m2024-05-22 17:06:13.557\u001b[0m | \u001b[1mINFO    \u001b[0m | \u001b[36mdata_processing.english_data_processing\u001b[0m:\u001b[36mevaluate_models\u001b[0m:\u001b[36m74\u001b[0m - \u001b[1mModel <class 'sklearn.ensemble._forest.ExtraTreesClassifier'> - scaler: RobustScaler(), accuracy: 0.6139232928742466\u001b[0m\n",
      "\u001b[32m2024-05-22 17:07:13.202\u001b[0m | \u001b[1mINFO    \u001b[0m | \u001b[36mdata_processing.english_data_processing\u001b[0m:\u001b[36mevaluate_models\u001b[0m:\u001b[36m74\u001b[0m - \u001b[1mModel <class 'sklearn.ensemble._forest.RandomForestClassifier'> - scaler: Normalizer(), accuracy: 0.5893859301461482\u001b[0m\n",
      "\u001b[32m2024-05-22 17:07:28.053\u001b[0m | \u001b[1mINFO    \u001b[0m | \u001b[36mdata_processing.english_data_processing\u001b[0m:\u001b[36mevaluate_models\u001b[0m:\u001b[36m74\u001b[0m - \u001b[1mModel <class 'sklearn.ensemble._forest.ExtraTreesClassifier'> - scaler: Normalizer(), accuracy: 0.5894759309718438\u001b[0m\n",
      "\u001b[32m2024-05-22 17:07:28.054\u001b[0m | \u001b[1mINFO    \u001b[0m | \u001b[36mdata_processing.english_data_processing\u001b[0m:\u001b[36mevaluate_models\u001b[0m:\u001b[36m82\u001b[0m - \u001b[1mBest Model: <class 'sklearn.ensemble._forest.RandomForestClassifier'>\u001b[0m\n",
      "\u001b[32m2024-05-22 17:07:28.054\u001b[0m | \u001b[1mINFO    \u001b[0m | \u001b[36mdata_processing.english_data_processing\u001b[0m:\u001b[36mevaluate_models\u001b[0m:\u001b[36m83\u001b[0m - \u001b[1mBest Scaler: MinMaxScaler\u001b[0m\n",
      "\u001b[32m2024-05-22 17:07:28.055\u001b[0m | \u001b[1mINFO    \u001b[0m | \u001b[36mdata_processing.english_data_processing\u001b[0m:\u001b[36mevaluate_models\u001b[0m:\u001b[36m84\u001b[0m - \u001b[1mBest Average Accuracy: 0.6222848649987613\u001b[0m\n",
      "\u001b[32m2024-05-22 17:07:28.056\u001b[0m | \u001b[1mINFO    \u001b[0m | \u001b[36mfeature_extraction.feature_extractor\u001b[0m:\u001b[36mprocess_folder\u001b[0m:\u001b[36m148\u001b[0m - \u001b[1mProcessing input folder: D:/data_analysis/speech_emotion_recognition/data/EnglishDataset/cleaned_data0\u001b[0m\n"
     ]
    },
    {
     "name": "stdout",
     "output_type": "stream",
     "text": [
      "Scaler: MinMaxScaler, Model: <class 'sklearn.ensemble._forest.RandomForestClassifier'>, n_mfcc: 13, Selected features: ['mfcc_statistics', 'pitch'], Accuracy: 0.6222848649987613\n"
     ]
    },
    {
     "name": "stderr",
     "output_type": "stream",
     "text": [
      "\u001b[32m2024-05-22 17:08:17.818\u001b[0m | \u001b[1mINFO    \u001b[0m | \u001b[36mfeature_extraction.feature_extractor\u001b[0m:\u001b[36mprocess_folder\u001b[0m:\u001b[36m158\u001b[0m - \u001b[1mFeature extraction completed. Data saved to: D:/data_analysis/speech_emotion_recognition/notebooks/feature2.csv\u001b[0m\n",
      "\u001b[32m2024-05-22 17:08:17.895\u001b[0m | \u001b[1mINFO    \u001b[0m | \u001b[36mdata_processing.english_data_processing\u001b[0m:\u001b[36mevaluate_models\u001b[0m:\u001b[36m53\u001b[0m - \u001b[1mFinding best model....\u001b[0m\n",
      "\u001b[32m2024-05-22 17:09:15.749\u001b[0m | \u001b[1mINFO    \u001b[0m | \u001b[36mdata_processing.english_data_processing\u001b[0m:\u001b[36mevaluate_models\u001b[0m:\u001b[36m74\u001b[0m - \u001b[1mModel <class 'sklearn.ensemble._forest.RandomForestClassifier'> - scaler: None, accuracy: 0.6161065973082323\u001b[0m\n",
      "\u001b[32m2024-05-22 17:09:29.241\u001b[0m | \u001b[1mINFO    \u001b[0m | \u001b[36mdata_processing.english_data_processing\u001b[0m:\u001b[36mevaluate_models\u001b[0m:\u001b[36m74\u001b[0m - \u001b[1mModel <class 'sklearn.ensemble._forest.ExtraTreesClassifier'> - scaler: None, accuracy: 0.6128351085789778\u001b[0m\n",
      "\u001b[32m2024-05-22 17:10:27.580\u001b[0m | \u001b[1mINFO    \u001b[0m | \u001b[36mdata_processing.english_data_processing\u001b[0m:\u001b[36mevaluate_models\u001b[0m:\u001b[36m74\u001b[0m - \u001b[1mModel <class 'sklearn.ensemble._forest.RandomForestClassifier'> - scaler: StandardScaler(), accuracy: 0.6157422178185122\u001b[0m\n",
      "\u001b[32m2024-05-22 17:10:41.227\u001b[0m | \u001b[1mINFO    \u001b[0m | \u001b[36mdata_processing.english_data_processing\u001b[0m:\u001b[36mevaluate_models\u001b[0m:\u001b[36m74\u001b[0m - \u001b[1mModel <class 'sklearn.ensemble._forest.ExtraTreesClassifier'> - scaler: StandardScaler(), accuracy: 0.6119242011394601\u001b[0m\n",
      "\u001b[32m2024-05-22 17:11:39.538\u001b[0m | \u001b[1mINFO    \u001b[0m | \u001b[36mdata_processing.english_data_processing\u001b[0m:\u001b[36mevaluate_models\u001b[0m:\u001b[36m74\u001b[0m - \u001b[1mModel <class 'sklearn.ensemble._forest.RandomForestClassifier'> - scaler: MinMaxScaler(), accuracy: 0.6131964329947981\u001b[0m\n",
      "\u001b[32m2024-05-22 17:11:52.827\u001b[0m | \u001b[1mINFO    \u001b[0m | \u001b[36mdata_processing.english_data_processing\u001b[0m:\u001b[36mevaluate_models\u001b[0m:\u001b[36m74\u001b[0m - \u001b[1mModel <class 'sklearn.ensemble._forest.ExtraTreesClassifier'> - scaler: MinMaxScaler(), accuracy: 0.612377920898357\u001b[0m\n",
      "\u001b[32m2024-05-22 17:12:55.083\u001b[0m | \u001b[1mINFO    \u001b[0m | \u001b[36mdata_processing.english_data_processing\u001b[0m:\u001b[36mevaluate_models\u001b[0m:\u001b[36m74\u001b[0m - \u001b[1mModel <class 'sklearn.ensemble._forest.RandomForestClassifier'> - scaler: MaxAbsScaler(), accuracy: 0.6167417224011229\u001b[0m\n",
      "\u001b[32m2024-05-22 17:13:09.550\u001b[0m | \u001b[1mINFO    \u001b[0m | \u001b[36mdata_processing.english_data_processing\u001b[0m:\u001b[36mevaluate_models\u001b[0m:\u001b[36m74\u001b[0m - \u001b[1mModel <class 'sklearn.ensemble._forest.ExtraTreesClassifier'> - scaler: MaxAbsScaler(), accuracy: 0.6116518041449922\u001b[0m\n",
      "\u001b[32m2024-05-22 17:14:11.261\u001b[0m | \u001b[1mINFO    \u001b[0m | \u001b[36mdata_processing.english_data_processing\u001b[0m:\u001b[36mevaluate_models\u001b[0m:\u001b[36m74\u001b[0m - \u001b[1mModel <class 'sklearn.ensemble._forest.RandomForestClassifier'> - scaler: RobustScaler(), accuracy: 0.6181971761208819\u001b[0m\n",
      "\u001b[32m2024-05-22 17:14:24.842\u001b[0m | \u001b[1mINFO    \u001b[0m | \u001b[36mdata_processing.english_data_processing\u001b[0m:\u001b[36mevaluate_models\u001b[0m:\u001b[36m74\u001b[0m - \u001b[1mModel <class 'sklearn.ensemble._forest.ExtraTreesClassifier'> - scaler: RobustScaler(), accuracy: 0.6140156056477583\u001b[0m\n",
      "\u001b[32m2024-05-22 17:15:20.773\u001b[0m | \u001b[1mINFO    \u001b[0m | \u001b[36mdata_processing.english_data_processing\u001b[0m:\u001b[36mevaluate_models\u001b[0m:\u001b[36m74\u001b[0m - \u001b[1mModel <class 'sklearn.ensemble._forest.RandomForestClassifier'> - scaler: Normalizer(), accuracy: 0.5879309718437783\u001b[0m\n",
      "\u001b[32m2024-05-22 17:15:34.172\u001b[0m | \u001b[1mINFO    \u001b[0m | \u001b[36mdata_processing.english_data_processing\u001b[0m:\u001b[36mevaluate_models\u001b[0m:\u001b[36m74\u001b[0m - \u001b[1mModel <class 'sklearn.ensemble._forest.ExtraTreesClassifier'> - scaler: Normalizer(), accuracy: 0.5868407233093881\u001b[0m\n",
      "\u001b[32m2024-05-22 17:15:34.173\u001b[0m | \u001b[1mINFO    \u001b[0m | \u001b[36mdata_processing.english_data_processing\u001b[0m:\u001b[36mevaluate_models\u001b[0m:\u001b[36m82\u001b[0m - \u001b[1mBest Model: <class 'sklearn.ensemble._forest.RandomForestClassifier'>\u001b[0m\n",
      "\u001b[32m2024-05-22 17:15:34.174\u001b[0m | \u001b[1mINFO    \u001b[0m | \u001b[36mdata_processing.english_data_processing\u001b[0m:\u001b[36mevaluate_models\u001b[0m:\u001b[36m83\u001b[0m - \u001b[1mBest Scaler: RobustScaler\u001b[0m\n",
      "\u001b[32m2024-05-22 17:15:34.175\u001b[0m | \u001b[1mINFO    \u001b[0m | \u001b[36mdata_processing.english_data_processing\u001b[0m:\u001b[36mevaluate_models\u001b[0m:\u001b[36m84\u001b[0m - \u001b[1mBest Average Accuracy: 0.6181971761208819\u001b[0m\n",
      "\u001b[32m2024-05-22 17:15:34.176\u001b[0m | \u001b[1mINFO    \u001b[0m | \u001b[36mfeature_extraction.feature_extractor\u001b[0m:\u001b[36mprocess_folder\u001b[0m:\u001b[36m148\u001b[0m - \u001b[1mProcessing input folder: D:/data_analysis/speech_emotion_recognition/data/EnglishDataset/cleaned_data0\u001b[0m\n"
     ]
    },
    {
     "name": "stdout",
     "output_type": "stream",
     "text": [
      "Scaler: RobustScaler, Model: <class 'sklearn.ensemble._forest.RandomForestClassifier'>, n_mfcc: 13, Selected features: ['mfcc_statistics', 'zcr'], Accuracy: 0.6181971761208819\n"
     ]
    },
    {
     "name": "stderr",
     "output_type": "stream",
     "text": [
      "\u001b[32m2024-05-22 17:16:20.862\u001b[0m | \u001b[1mINFO    \u001b[0m | \u001b[36mfeature_extraction.feature_extractor\u001b[0m:\u001b[36mprocess_folder\u001b[0m:\u001b[36m158\u001b[0m - \u001b[1mFeature extraction completed. Data saved to: D:/data_analysis/speech_emotion_recognition/notebooks/feature2.csv\u001b[0m\n",
      "\u001b[32m2024-05-22 17:16:20.893\u001b[0m | \u001b[1mINFO    \u001b[0m | \u001b[36mdata_processing.english_data_processing\u001b[0m:\u001b[36mevaluate_models\u001b[0m:\u001b[36m53\u001b[0m - \u001b[1mFinding best model....\u001b[0m\n",
      "\u001b[32m2024-05-22 17:16:52.819\u001b[0m | \u001b[1mINFO    \u001b[0m | \u001b[36mdata_processing.english_data_processing\u001b[0m:\u001b[36mevaluate_models\u001b[0m:\u001b[36m74\u001b[0m - \u001b[1mModel <class 'sklearn.ensemble._forest.RandomForestClassifier'> - scaler: None, accuracy: 0.5834786557674841\u001b[0m\n",
      "\u001b[32m2024-05-22 17:17:02.731\u001b[0m | \u001b[1mINFO    \u001b[0m | \u001b[36mdata_processing.english_data_processing\u001b[0m:\u001b[36mevaluate_models\u001b[0m:\u001b[36m74\u001b[0m - \u001b[1mModel <class 'sklearn.ensemble._forest.ExtraTreesClassifier'> - scaler: None, accuracy: 0.5902959293204525\u001b[0m\n",
      "\u001b[32m2024-05-22 17:17:36.546\u001b[0m | \u001b[1mINFO    \u001b[0m | \u001b[36mdata_processing.english_data_processing\u001b[0m:\u001b[36mevaluate_models\u001b[0m:\u001b[36m74\u001b[0m - \u001b[1mModel <class 'sklearn.ensemble._forest.RandomForestClassifier'> - scaler: StandardScaler(), accuracy: 0.5847501444967385\u001b[0m\n",
      "\u001b[32m2024-05-22 17:17:46.334\u001b[0m | \u001b[1mINFO    \u001b[0m | \u001b[36mdata_processing.english_data_processing\u001b[0m:\u001b[36mevaluate_models\u001b[0m:\u001b[36m74\u001b[0m - \u001b[1mModel <class 'sklearn.ensemble._forest.ExtraTreesClassifier'> - scaler: StandardScaler(), accuracy: 0.5895687391627445\u001b[0m\n",
      "\u001b[32m2024-05-22 17:18:19.828\u001b[0m | \u001b[1mINFO    \u001b[0m | \u001b[36mdata_processing.english_data_processing\u001b[0m:\u001b[36mevaluate_models\u001b[0m:\u001b[36m74\u001b[0m - \u001b[1mModel <class 'sklearn.ensemble._forest.RandomForestClassifier'> - scaler: MinMaxScaler(), accuracy: 0.5810218809346874\u001b[0m\n",
      "\u001b[32m2024-05-22 17:18:29.915\u001b[0m | \u001b[1mINFO    \u001b[0m | \u001b[36mdata_processing.english_data_processing\u001b[0m:\u001b[36mevaluate_models\u001b[0m:\u001b[36m74\u001b[0m - \u001b[1mModel <class 'sklearn.ensemble._forest.ExtraTreesClassifier'> - scaler: MinMaxScaler(), accuracy: 0.5875681611757907\u001b[0m\n",
      "\u001b[32m2024-05-22 17:19:02.780\u001b[0m | \u001b[1mINFO    \u001b[0m | \u001b[36mdata_processing.english_data_processing\u001b[0m:\u001b[36mevaluate_models\u001b[0m:\u001b[36m74\u001b[0m - \u001b[1mModel <class 'sklearn.ensemble._forest.RandomForestClassifier'> - scaler: MaxAbsScaler(), accuracy: 0.5824803071587812\u001b[0m\n",
      "\u001b[32m2024-05-22 17:19:11.935\u001b[0m | \u001b[1mINFO    \u001b[0m | \u001b[36mdata_processing.english_data_processing\u001b[0m:\u001b[36mevaluate_models\u001b[0m:\u001b[36m74\u001b[0m - \u001b[1mModel <class 'sklearn.ensemble._forest.ExtraTreesClassifier'> - scaler: MaxAbsScaler(), accuracy: 0.589476426389233\u001b[0m\n",
      "\u001b[32m2024-05-22 17:19:43.408\u001b[0m | \u001b[1mINFO    \u001b[0m | \u001b[36mdata_processing.english_data_processing\u001b[0m:\u001b[36mevaluate_models\u001b[0m:\u001b[36m74\u001b[0m - \u001b[1mModel <class 'sklearn.ensemble._forest.RandomForestClassifier'> - scaler: RobustScaler(), accuracy: 0.5802079101643134\u001b[0m\n",
      "\u001b[32m2024-05-22 17:19:52.813\u001b[0m | \u001b[1mINFO    \u001b[0m | \u001b[36mdata_processing.english_data_processing\u001b[0m:\u001b[36mevaluate_models\u001b[0m:\u001b[36m74\u001b[0m - \u001b[1mModel <class 'sklearn.ensemble._forest.ExtraTreesClassifier'> - scaler: RobustScaler(), accuracy: 0.5867510527619519\u001b[0m\n",
      "\u001b[32m2024-05-22 17:20:21.954\u001b[0m | \u001b[1mINFO    \u001b[0m | \u001b[36mdata_processing.english_data_processing\u001b[0m:\u001b[36mevaluate_models\u001b[0m:\u001b[36m74\u001b[0m - \u001b[1mModel <class 'sklearn.ensemble._forest.RandomForestClassifier'> - scaler: Normalizer(), accuracy: 0.5743902237635208\u001b[0m\n",
      "\u001b[32m2024-05-22 17:20:31.117\u001b[0m | \u001b[1mINFO    \u001b[0m | \u001b[36mdata_processing.english_data_processing\u001b[0m:\u001b[36mevaluate_models\u001b[0m:\u001b[36m74\u001b[0m - \u001b[1mModel <class 'sklearn.ensemble._forest.ExtraTreesClassifier'> - scaler: Normalizer(), accuracy: 0.5752981586987036\u001b[0m\n",
      "\u001b[32m2024-05-22 17:20:31.118\u001b[0m | \u001b[1mINFO    \u001b[0m | \u001b[36mdata_processing.english_data_processing\u001b[0m:\u001b[36mevaluate_models\u001b[0m:\u001b[36m82\u001b[0m - \u001b[1mBest Model: <class 'sklearn.ensemble._forest.ExtraTreesClassifier'>\u001b[0m\n",
      "\u001b[32m2024-05-22 17:20:31.118\u001b[0m | \u001b[1mINFO    \u001b[0m | \u001b[36mdata_processing.english_data_processing\u001b[0m:\u001b[36mevaluate_models\u001b[0m:\u001b[36m83\u001b[0m - \u001b[1mBest Scaler: None\u001b[0m\n",
      "\u001b[32m2024-05-22 17:20:31.119\u001b[0m | \u001b[1mINFO    \u001b[0m | \u001b[36mdata_processing.english_data_processing\u001b[0m:\u001b[36mevaluate_models\u001b[0m:\u001b[36m84\u001b[0m - \u001b[1mBest Average Accuracy: 0.5902959293204525\u001b[0m\n",
      "\u001b[32m2024-05-22 17:20:31.120\u001b[0m | \u001b[1mINFO    \u001b[0m | \u001b[36mfeature_extraction.feature_extractor\u001b[0m:\u001b[36mprocess_folder\u001b[0m:\u001b[36m148\u001b[0m - \u001b[1mProcessing input folder: D:/data_analysis/speech_emotion_recognition/data/EnglishDataset/cleaned_data0\u001b[0m\n"
     ]
    },
    {
     "name": "stdout",
     "output_type": "stream",
     "text": [
      "Scaler: None, Model: <class 'sklearn.ensemble._forest.ExtraTreesClassifier'>, n_mfcc: 13, Selected features: ['mfcc', 'rms'], Accuracy: 0.5902959293204525\n"
     ]
    },
    {
     "name": "stderr",
     "output_type": "stream",
     "text": [
      "\u001b[32m2024-05-22 17:21:33.112\u001b[0m | \u001b[1mINFO    \u001b[0m | \u001b[36mfeature_extraction.feature_extractor\u001b[0m:\u001b[36mprocess_folder\u001b[0m:\u001b[36m158\u001b[0m - \u001b[1mFeature extraction completed. Data saved to: D:/data_analysis/speech_emotion_recognition/notebooks/feature2.csv\u001b[0m\n",
      "\u001b[32m2024-05-22 17:21:33.139\u001b[0m | \u001b[1mINFO    \u001b[0m | \u001b[36mdata_processing.english_data_processing\u001b[0m:\u001b[36mevaluate_models\u001b[0m:\u001b[36m53\u001b[0m - \u001b[1mFinding best model....\u001b[0m\n",
      "\u001b[32m2024-05-22 17:21:59.394\u001b[0m | \u001b[1mINFO    \u001b[0m | \u001b[36mdata_processing.english_data_processing\u001b[0m:\u001b[36mevaluate_models\u001b[0m:\u001b[36m74\u001b[0m - \u001b[1mModel <class 'sklearn.ensemble._forest.RandomForestClassifier'> - scaler: None, accuracy: 0.5842062587730161\u001b[0m\n",
      "\u001b[32m2024-05-22 17:22:08.276\u001b[0m | \u001b[1mINFO    \u001b[0m | \u001b[36mdata_processing.english_data_processing\u001b[0m:\u001b[36mevaluate_models\u001b[0m:\u001b[36m74\u001b[0m - \u001b[1mModel <class 'sklearn.ensemble._forest.ExtraTreesClassifier'> - scaler: None, accuracy: 0.5803881595243994\u001b[0m\n",
      "\u001b[32m2024-05-22 17:22:34.473\u001b[0m | \u001b[1mINFO    \u001b[0m | \u001b[36mdata_processing.english_data_processing\u001b[0m:\u001b[36mevaluate_models\u001b[0m:\u001b[36m74\u001b[0m - \u001b[1mModel <class 'sklearn.ensemble._forest.RandomForestClassifier'> - scaler: StandardScaler(), accuracy: 0.5887500619271737\u001b[0m\n",
      "\u001b[32m2024-05-22 17:22:43.343\u001b[0m | \u001b[1mINFO    \u001b[0m | \u001b[36mdata_processing.english_data_processing\u001b[0m:\u001b[36mevaluate_models\u001b[0m:\u001b[36m74\u001b[0m - \u001b[1mModel <class 'sklearn.ensemble._forest.ExtraTreesClassifier'> - scaler: StandardScaler(), accuracy: 0.5832064239121459\u001b[0m\n",
      "\u001b[32m2024-05-22 17:23:08.982\u001b[0m | \u001b[1mINFO    \u001b[0m | \u001b[36mdata_processing.english_data_processing\u001b[0m:\u001b[36mevaluate_models\u001b[0m:\u001b[36m74\u001b[0m - \u001b[1mModel <class 'sklearn.ensemble._forest.RandomForestClassifier'> - scaler: MinMaxScaler(), accuracy: 0.586660143671043\u001b[0m\n",
      "\u001b[32m2024-05-22 17:23:17.167\u001b[0m | \u001b[1mINFO    \u001b[0m | \u001b[36mdata_processing.english_data_processing\u001b[0m:\u001b[36mevaluate_models\u001b[0m:\u001b[36m74\u001b[0m - \u001b[1mModel <class 'sklearn.ensemble._forest.ExtraTreesClassifier'> - scaler: MinMaxScaler(), accuracy: 0.5845706382627365\u001b[0m\n",
      "\u001b[32m2024-05-22 17:23:40.941\u001b[0m | \u001b[1mINFO    \u001b[0m | \u001b[36mdata_processing.english_data_processing\u001b[0m:\u001b[36mevaluate_models\u001b[0m:\u001b[36m74\u001b[0m - \u001b[1mModel <class 'sklearn.ensemble._forest.RandomForestClassifier'> - scaler: MaxAbsScaler(), accuracy: 0.5827528692923788\u001b[0m\n",
      "\u001b[32m2024-05-22 17:23:49.180\u001b[0m | \u001b[1mINFO    \u001b[0m | \u001b[36mdata_processing.english_data_processing\u001b[0m:\u001b[36mevaluate_models\u001b[0m:\u001b[36m74\u001b[0m - \u001b[1mModel <class 'sklearn.ensemble._forest.ExtraTreesClassifier'> - scaler: MaxAbsScaler(), accuracy: 0.5875687391627447\u001b[0m\n",
      "\u001b[32m2024-05-22 17:24:13.064\u001b[0m | \u001b[1mINFO    \u001b[0m | \u001b[36mdata_processing.english_data_processing\u001b[0m:\u001b[36mevaluate_models\u001b[0m:\u001b[36m74\u001b[0m - \u001b[1mModel <class 'sklearn.ensemble._forest.RandomForestClassifier'> - scaler: RobustScaler(), accuracy: 0.5836607216579969\u001b[0m\n",
      "\u001b[32m2024-05-22 17:24:21.301\u001b[0m | \u001b[1mINFO    \u001b[0m | \u001b[36mdata_processing.english_data_processing\u001b[0m:\u001b[36mevaluate_models\u001b[0m:\u001b[36m74\u001b[0m - \u001b[1mModel <class 'sklearn.ensemble._forest.ExtraTreesClassifier'> - scaler: RobustScaler(), accuracy: 0.5819349351828916\u001b[0m\n",
      "\u001b[32m2024-05-22 17:24:45.958\u001b[0m | \u001b[1mINFO    \u001b[0m | \u001b[36mdata_processing.english_data_processing\u001b[0m:\u001b[36mevaluate_models\u001b[0m:\u001b[36m74\u001b[0m - \u001b[1mModel <class 'sklearn.ensemble._forest.RandomForestClassifier'> - scaler: Normalizer(), accuracy: 0.5666650152753694\u001b[0m\n",
      "\u001b[32m2024-05-22 17:24:54.364\u001b[0m | \u001b[1mINFO    \u001b[0m | \u001b[36mdata_processing.english_data_processing\u001b[0m:\u001b[36mevaluate_models\u001b[0m:\u001b[36m74\u001b[0m - \u001b[1mModel <class 'sklearn.ensemble._forest.ExtraTreesClassifier'> - scaler: Normalizer(), accuracy: 0.5686636115927668\u001b[0m\n",
      "\u001b[32m2024-05-22 17:24:54.365\u001b[0m | \u001b[1mINFO    \u001b[0m | \u001b[36mdata_processing.english_data_processing\u001b[0m:\u001b[36mevaluate_models\u001b[0m:\u001b[36m82\u001b[0m - \u001b[1mBest Model: <class 'sklearn.ensemble._forest.RandomForestClassifier'>\u001b[0m\n",
      "\u001b[32m2024-05-22 17:24:54.365\u001b[0m | \u001b[1mINFO    \u001b[0m | \u001b[36mdata_processing.english_data_processing\u001b[0m:\u001b[36mevaluate_models\u001b[0m:\u001b[36m83\u001b[0m - \u001b[1mBest Scaler: StandardScaler\u001b[0m\n",
      "\u001b[32m2024-05-22 17:24:54.366\u001b[0m | \u001b[1mINFO    \u001b[0m | \u001b[36mdata_processing.english_data_processing\u001b[0m:\u001b[36mevaluate_models\u001b[0m:\u001b[36m84\u001b[0m - \u001b[1mBest Average Accuracy: 0.5887500619271737\u001b[0m\n",
      "\u001b[32m2024-05-22 17:24:54.367\u001b[0m | \u001b[1mINFO    \u001b[0m | \u001b[36mfeature_extraction.feature_extractor\u001b[0m:\u001b[36mprocess_folder\u001b[0m:\u001b[36m148\u001b[0m - \u001b[1mProcessing input folder: D:/data_analysis/speech_emotion_recognition/data/EnglishDataset/cleaned_data0\u001b[0m\n"
     ]
    },
    {
     "name": "stdout",
     "output_type": "stream",
     "text": [
      "Scaler: StandardScaler, Model: <class 'sklearn.ensemble._forest.RandomForestClassifier'>, n_mfcc: 13, Selected features: ['mfcc', 'pitch'], Accuracy: 0.5887500619271737\n"
     ]
    },
    {
     "name": "stderr",
     "output_type": "stream",
     "text": [
      "\u001b[32m2024-05-22 17:25:39.937\u001b[0m | \u001b[1mINFO    \u001b[0m | \u001b[36mfeature_extraction.feature_extractor\u001b[0m:\u001b[36mprocess_folder\u001b[0m:\u001b[36m158\u001b[0m - \u001b[1mFeature extraction completed. Data saved to: D:/data_analysis/speech_emotion_recognition/notebooks/feature2.csv\u001b[0m\n",
      "\u001b[32m2024-05-22 17:25:39.977\u001b[0m | \u001b[1mINFO    \u001b[0m | \u001b[36mdata_processing.english_data_processing\u001b[0m:\u001b[36mevaluate_models\u001b[0m:\u001b[36m53\u001b[0m - \u001b[1mFinding best model....\u001b[0m\n",
      "\u001b[32m2024-05-22 17:26:11.603\u001b[0m | \u001b[1mINFO    \u001b[0m | \u001b[36mdata_processing.english_data_processing\u001b[0m:\u001b[36mevaluate_models\u001b[0m:\u001b[36m74\u001b[0m - \u001b[1mModel <class 'sklearn.ensemble._forest.RandomForestClassifier'> - scaler: None, accuracy: 0.5808428701180745\u001b[0m\n",
      "\u001b[32m2024-05-22 17:26:21.863\u001b[0m | \u001b[1mINFO    \u001b[0m | \u001b[36mdata_processing.english_data_processing\u001b[0m:\u001b[36mevaluate_models\u001b[0m:\u001b[36m74\u001b[0m - \u001b[1mModel <class 'sklearn.ensemble._forest.ExtraTreesClassifier'> - scaler: None, accuracy: 0.5705746841714144\u001b[0m\n",
      "\u001b[32m2024-05-22 17:26:54.253\u001b[0m | \u001b[1mINFO    \u001b[0m | \u001b[36mdata_processing.english_data_processing\u001b[0m:\u001b[36mevaluate_models\u001b[0m:\u001b[36m74\u001b[0m - \u001b[1mModel <class 'sklearn.ensemble._forest.RandomForestClassifier'> - scaler: StandardScaler(), accuracy: 0.5820251837172818\u001b[0m\n",
      "\u001b[32m2024-05-22 17:27:04.419\u001b[0m | \u001b[1mINFO    \u001b[0m | \u001b[36mdata_processing.english_data_processing\u001b[0m:\u001b[36mevaluate_models\u001b[0m:\u001b[36m74\u001b[0m - \u001b[1mModel <class 'sklearn.ensemble._forest.ExtraTreesClassifier'> - scaler: StandardScaler(), accuracy: 0.5742993972421766\u001b[0m\n",
      "\u001b[32m2024-05-22 17:27:37.046\u001b[0m | \u001b[1mINFO    \u001b[0m | \u001b[36mdata_processing.english_data_processing\u001b[0m:\u001b[36mevaluate_models\u001b[0m:\u001b[36m74\u001b[0m - \u001b[1mModel <class 'sklearn.ensemble._forest.RandomForestClassifier'> - scaler: MinMaxScaler(), accuracy: 0.5781154322516721\u001b[0m\n",
      "\u001b[32m2024-05-22 17:27:47.296\u001b[0m | \u001b[1mINFO    \u001b[0m | \u001b[36mdata_processing.english_data_processing\u001b[0m:\u001b[36mevaluate_models\u001b[0m:\u001b[36m74\u001b[0m - \u001b[1mModel <class 'sklearn.ensemble._forest.ExtraTreesClassifier'> - scaler: MinMaxScaler(), accuracy: 0.5765700602757823\u001b[0m\n",
      "\u001b[32m2024-05-22 17:28:19.146\u001b[0m | \u001b[1mINFO    \u001b[0m | \u001b[36mdata_processing.english_data_processing\u001b[0m:\u001b[36mevaluate_models\u001b[0m:\u001b[36m74\u001b[0m - \u001b[1mModel <class 'sklearn.ensemble._forest.RandomForestClassifier'> - scaler: MaxAbsScaler(), accuracy: 0.5800232020477252\u001b[0m\n",
      "\u001b[32m2024-05-22 17:28:29.531\u001b[0m | \u001b[1mINFO    \u001b[0m | \u001b[36mdata_processing.english_data_processing\u001b[0m:\u001b[36mevaluate_models\u001b[0m:\u001b[36m74\u001b[0m - \u001b[1mModel <class 'sklearn.ensemble._forest.ExtraTreesClassifier'> - scaler: MaxAbsScaler(), accuracy: 0.5760251837172818\u001b[0m\n",
      "\u001b[32m2024-05-22 17:29:00.526\u001b[0m | \u001b[1mINFO    \u001b[0m | \u001b[36mdata_processing.english_data_processing\u001b[0m:\u001b[36mevaluate_models\u001b[0m:\u001b[36m74\u001b[0m - \u001b[1mModel <class 'sklearn.ensemble._forest.RandomForestClassifier'> - scaler: RobustScaler(), accuracy: 0.576572041945339\u001b[0m\n",
      "\u001b[32m2024-05-22 17:29:12.095\u001b[0m | \u001b[1mINFO    \u001b[0m | \u001b[36mdata_processing.english_data_processing\u001b[0m:\u001b[36mevaluate_models\u001b[0m:\u001b[36m74\u001b[0m - \u001b[1mModel <class 'sklearn.ensemble._forest.ExtraTreesClassifier'> - scaler: RobustScaler(), accuracy: 0.5750266699694493\u001b[0m\n",
      "\u001b[32m2024-05-22 17:29:42.594\u001b[0m | \u001b[1mINFO    \u001b[0m | \u001b[36mdata_processing.english_data_processing\u001b[0m:\u001b[36mevaluate_models\u001b[0m:\u001b[36m74\u001b[0m - \u001b[1mModel <class 'sklearn.ensemble._forest.RandomForestClassifier'> - scaler: Normalizer(), accuracy: 0.5663921228635126\u001b[0m\n",
      "\u001b[32m2024-05-22 17:29:51.927\u001b[0m | \u001b[1mINFO    \u001b[0m | \u001b[36mdata_processing.english_data_processing\u001b[0m:\u001b[36mevaluate_models\u001b[0m:\u001b[36m74\u001b[0m - \u001b[1mModel <class 'sklearn.ensemble._forest.ExtraTreesClassifier'> - scaler: Normalizer(), accuracy: 0.56620989183387\u001b[0m\n",
      "\u001b[32m2024-05-22 17:29:51.927\u001b[0m | \u001b[1mINFO    \u001b[0m | \u001b[36mdata_processing.english_data_processing\u001b[0m:\u001b[36mevaluate_models\u001b[0m:\u001b[36m82\u001b[0m - \u001b[1mBest Model: <class 'sklearn.ensemble._forest.RandomForestClassifier'>\u001b[0m\n",
      "\u001b[32m2024-05-22 17:29:51.928\u001b[0m | \u001b[1mINFO    \u001b[0m | \u001b[36mdata_processing.english_data_processing\u001b[0m:\u001b[36mevaluate_models\u001b[0m:\u001b[36m83\u001b[0m - \u001b[1mBest Scaler: StandardScaler\u001b[0m\n",
      "\u001b[32m2024-05-22 17:29:51.929\u001b[0m | \u001b[1mINFO    \u001b[0m | \u001b[36mdata_processing.english_data_processing\u001b[0m:\u001b[36mevaluate_models\u001b[0m:\u001b[36m84\u001b[0m - \u001b[1mBest Average Accuracy: 0.5820251837172818\u001b[0m\n",
      "\u001b[32m2024-05-22 17:29:51.930\u001b[0m | \u001b[1mINFO    \u001b[0m | \u001b[36mfeature_extraction.feature_extractor\u001b[0m:\u001b[36mprocess_folder\u001b[0m:\u001b[36m148\u001b[0m - \u001b[1mProcessing input folder: D:/data_analysis/speech_emotion_recognition/data/EnglishDataset/cleaned_data0\u001b[0m\n"
     ]
    },
    {
     "name": "stdout",
     "output_type": "stream",
     "text": [
      "Scaler: StandardScaler, Model: <class 'sklearn.ensemble._forest.RandomForestClassifier'>, n_mfcc: 13, Selected features: ['mfcc', 'zcr'], Accuracy: 0.5820251837172818\n"
     ]
    },
    {
     "name": "stderr",
     "output_type": "stream",
     "text": [
      "\u001b[32m2024-05-22 17:31:47.909\u001b[0m | \u001b[1mINFO    \u001b[0m | \u001b[36mfeature_extraction.feature_extractor\u001b[0m:\u001b[36mprocess_folder\u001b[0m:\u001b[36m158\u001b[0m - \u001b[1mFeature extraction completed. Data saved to: D:/data_analysis/speech_emotion_recognition/notebooks/feature2.csv\u001b[0m\n",
      "\u001b[32m2024-05-22 17:31:47.988\u001b[0m | \u001b[1mINFO    \u001b[0m | \u001b[36mdata_processing.english_data_processing\u001b[0m:\u001b[36mevaluate_models\u001b[0m:\u001b[36m53\u001b[0m - \u001b[1mFinding best model....\u001b[0m\n",
      "\u001b[32m2024-05-22 17:32:47.231\u001b[0m | \u001b[1mINFO    \u001b[0m | \u001b[36mdata_processing.english_data_processing\u001b[0m:\u001b[36mevaluate_models\u001b[0m:\u001b[36m74\u001b[0m - \u001b[1mModel <class 'sklearn.ensemble._forest.RandomForestClassifier'> - scaler: None, accuracy: 0.61546940797622\u001b[0m\n",
      "\u001b[32m2024-05-22 17:33:00.337\u001b[0m | \u001b[1mINFO    \u001b[0m | \u001b[36mdata_processing.english_data_processing\u001b[0m:\u001b[36mevaluate_models\u001b[0m:\u001b[36m74\u001b[0m - \u001b[1mModel <class 'sklearn.ensemble._forest.ExtraTreesClassifier'> - scaler: None, accuracy: 0.6104722153414252\u001b[0m\n",
      "\u001b[32m2024-05-22 17:34:01.175\u001b[0m | \u001b[1mINFO    \u001b[0m | \u001b[36mdata_processing.english_data_processing\u001b[0m:\u001b[36mevaluate_models\u001b[0m:\u001b[36m74\u001b[0m - \u001b[1mModel <class 'sklearn.ensemble._forest.RandomForestClassifier'> - scaler: StandardScaler(), accuracy: 0.6111972586904466\u001b[0m\n",
      "\u001b[32m2024-05-22 17:34:15.554\u001b[0m | \u001b[1mINFO    \u001b[0m | \u001b[36mdata_processing.english_data_processing\u001b[0m:\u001b[36mevaluate_models\u001b[0m:\u001b[36m74\u001b[0m - \u001b[1mModel <class 'sklearn.ensemble._forest.ExtraTreesClassifier'> - scaler: StandardScaler(), accuracy: 0.611016926760796\u001b[0m\n",
      "\u001b[32m2024-05-22 17:35:17.970\u001b[0m | \u001b[1mINFO    \u001b[0m | \u001b[36mdata_processing.english_data_processing\u001b[0m:\u001b[36mevaluate_models\u001b[0m:\u001b[36m74\u001b[0m - \u001b[1mModel <class 'sklearn.ensemble._forest.RandomForestClassifier'> - scaler: MinMaxScaler(), accuracy: 0.6162873420857073\u001b[0m\n",
      "\u001b[32m2024-05-22 17:35:31.475\u001b[0m | \u001b[1mINFO    \u001b[0m | \u001b[36mdata_processing.english_data_processing\u001b[0m:\u001b[36mevaluate_models\u001b[0m:\u001b[36m74\u001b[0m - \u001b[1mModel <class 'sklearn.ensemble._forest.ExtraTreesClassifier'> - scaler: MinMaxScaler(), accuracy: 0.611379654859219\u001b[0m\n",
      "\u001b[32m2024-05-22 17:36:30.938\u001b[0m | \u001b[1mINFO    \u001b[0m | \u001b[36mdata_processing.english_data_processing\u001b[0m:\u001b[36mevaluate_models\u001b[0m:\u001b[36m74\u001b[0m - \u001b[1mModel <class 'sklearn.ensemble._forest.RandomForestClassifier'> - scaler: MaxAbsScaler(), accuracy: 0.6146539509536785\u001b[0m\n",
      "\u001b[32m2024-05-22 17:36:44.225\u001b[0m | \u001b[1mINFO    \u001b[0m | \u001b[36mdata_processing.english_data_processing\u001b[0m:\u001b[36mevaluate_models\u001b[0m:\u001b[36m74\u001b[0m - \u001b[1mModel <class 'sklearn.ensemble._forest.ExtraTreesClassifier'> - scaler: MaxAbsScaler(), accuracy: 0.6081085789777887\u001b[0m\n",
      "\u001b[32m2024-05-22 17:37:44.226\u001b[0m | \u001b[1mINFO    \u001b[0m | \u001b[36mdata_processing.english_data_processing\u001b[0m:\u001b[36mevaluate_models\u001b[0m:\u001b[36m74\u001b[0m - \u001b[1mModel <class 'sklearn.ensemble._forest.RandomForestClassifier'> - scaler: RobustScaler(), accuracy: 0.6110153579390636\u001b[0m\n",
      "\u001b[32m2024-05-22 17:37:58.065\u001b[0m | \u001b[1mINFO    \u001b[0m | \u001b[36mdata_processing.english_data_processing\u001b[0m:\u001b[36mevaluate_models\u001b[0m:\u001b[36m74\u001b[0m - \u001b[1mModel <class 'sklearn.ensemble._forest.ExtraTreesClassifier'> - scaler: RobustScaler(), accuracy: 0.6154692428370903\u001b[0m\n",
      "\u001b[32m2024-05-22 17:38:56.147\u001b[0m | \u001b[1mINFO    \u001b[0m | \u001b[36mdata_processing.english_data_processing\u001b[0m:\u001b[36mevaluate_models\u001b[0m:\u001b[36m74\u001b[0m - \u001b[1mModel <class 'sklearn.ensemble._forest.RandomForestClassifier'> - scaler: Normalizer(), accuracy: 0.5917474197010982\u001b[0m\n",
      "\u001b[32m2024-05-22 17:39:09.918\u001b[0m | \u001b[1mINFO    \u001b[0m | \u001b[36mdata_processing.english_data_processing\u001b[0m:\u001b[36mevaluate_models\u001b[0m:\u001b[36m74\u001b[0m - \u001b[1mModel <class 'sklearn.ensemble._forest.ExtraTreesClassifier'> - scaler: Normalizer(), accuracy: 0.5859321278176864\u001b[0m\n",
      "\u001b[32m2024-05-22 17:39:09.919\u001b[0m | \u001b[1mINFO    \u001b[0m | \u001b[36mdata_processing.english_data_processing\u001b[0m:\u001b[36mevaluate_models\u001b[0m:\u001b[36m82\u001b[0m - \u001b[1mBest Model: <class 'sklearn.ensemble._forest.RandomForestClassifier'>\u001b[0m\n",
      "\u001b[32m2024-05-22 17:39:09.920\u001b[0m | \u001b[1mINFO    \u001b[0m | \u001b[36mdata_processing.english_data_processing\u001b[0m:\u001b[36mevaluate_models\u001b[0m:\u001b[36m83\u001b[0m - \u001b[1mBest Scaler: MinMaxScaler\u001b[0m\n",
      "\u001b[32m2024-05-22 17:39:09.920\u001b[0m | \u001b[1mINFO    \u001b[0m | \u001b[36mdata_processing.english_data_processing\u001b[0m:\u001b[36mevaluate_models\u001b[0m:\u001b[36m84\u001b[0m - \u001b[1mBest Average Accuracy: 0.6162873420857073\u001b[0m\n",
      "\u001b[32m2024-05-22 17:39:09.923\u001b[0m | \u001b[1mINFO    \u001b[0m | \u001b[36mfeature_extraction.feature_extractor\u001b[0m:\u001b[36mprocess_folder\u001b[0m:\u001b[36m148\u001b[0m - \u001b[1mProcessing input folder: D:/data_analysis/speech_emotion_recognition/data/EnglishDataset/cleaned_data0\u001b[0m\n"
     ]
    },
    {
     "name": "stdout",
     "output_type": "stream",
     "text": [
      "Scaler: MinMaxScaler, Model: <class 'sklearn.ensemble._forest.RandomForestClassifier'>, n_mfcc: 13, Selected features: ['mfcc', 'mfcc_statistics'], Accuracy: 0.6162873420857073\n"
     ]
    },
    {
     "name": "stderr",
     "output_type": "stream",
     "text": [
      "\u001b[32m2024-05-22 17:39:22.823\u001b[0m | \u001b[1mINFO    \u001b[0m | \u001b[36mfeature_extraction.feature_extractor\u001b[0m:\u001b[36mprocess_folder\u001b[0m:\u001b[36m158\u001b[0m - \u001b[1mFeature extraction completed. Data saved to: D:/data_analysis/speech_emotion_recognition/notebooks/feature2.csv\u001b[0m\n",
      "\u001b[32m2024-05-22 17:39:22.844\u001b[0m | \u001b[1mINFO    \u001b[0m | \u001b[36mdata_processing.english_data_processing\u001b[0m:\u001b[36mevaluate_models\u001b[0m:\u001b[36m53\u001b[0m - \u001b[1mFinding best model....\u001b[0m\n",
      "\u001b[32m2024-05-22 17:39:40.546\u001b[0m | \u001b[1mINFO    \u001b[0m | \u001b[36mdata_processing.english_data_processing\u001b[0m:\u001b[36mevaluate_models\u001b[0m:\u001b[36m74\u001b[0m - \u001b[1mModel <class 'sklearn.ensemble._forest.RandomForestClassifier'> - scaler: None, accuracy: 0.4274285360416151\u001b[0m\n",
      "\u001b[32m2024-05-22 17:39:47.910\u001b[0m | \u001b[1mINFO    \u001b[0m | \u001b[36mdata_processing.english_data_processing\u001b[0m:\u001b[36mevaluate_models\u001b[0m:\u001b[36m74\u001b[0m - \u001b[1mModel <class 'sklearn.ensemble._forest.ExtraTreesClassifier'> - scaler: None, accuracy: 0.4242483692510941\u001b[0m\n",
      "\u001b[32m2024-05-22 17:40:06.382\u001b[0m | \u001b[1mINFO    \u001b[0m | \u001b[36mdata_processing.english_data_processing\u001b[0m:\u001b[36mevaluate_models\u001b[0m:\u001b[36m74\u001b[0m - \u001b[1mModel <class 'sklearn.ensemble._forest.RandomForestClassifier'> - scaler: StandardScaler(), accuracy: 0.4276111799190819\u001b[0m\n",
      "\u001b[32m2024-05-22 17:40:13.664\u001b[0m | \u001b[1mINFO    \u001b[0m | \u001b[36mdata_processing.english_data_processing\u001b[0m:\u001b[36mevaluate_models\u001b[0m:\u001b[36m74\u001b[0m - \u001b[1mModel <class 'sklearn.ensemble._forest.ExtraTreesClassifier'> - scaler: StandardScaler(), accuracy: 0.4241577078688795\u001b[0m\n",
      "\u001b[32m2024-05-22 17:40:31.992\u001b[0m | \u001b[1mINFO    \u001b[0m | \u001b[36mdata_processing.english_data_processing\u001b[0m:\u001b[36mevaluate_models\u001b[0m:\u001b[36m74\u001b[0m - \u001b[1mModel <class 'sklearn.ensemble._forest.RandomForestClassifier'> - scaler: MinMaxScaler(), accuracy: 0.4302479564032697\u001b[0m\n",
      "\u001b[32m2024-05-22 17:40:39.408\u001b[0m | \u001b[1mINFO    \u001b[0m | \u001b[36mdata_processing.english_data_processing\u001b[0m:\u001b[36mevaluate_models\u001b[0m:\u001b[36m74\u001b[0m - \u001b[1mModel <class 'sklearn.ensemble._forest.ExtraTreesClassifier'> - scaler: MinMaxScaler(), accuracy: 0.4231589464123524\u001b[0m\n",
      "\u001b[32m2024-05-22 17:40:58.076\u001b[0m | \u001b[1mINFO    \u001b[0m | \u001b[36mdata_processing.english_data_processing\u001b[0m:\u001b[36mevaluate_models\u001b[0m:\u001b[36m74\u001b[0m - \u001b[1mModel <class 'sklearn.ensemble._forest.RandomForestClassifier'> - scaler: MaxAbsScaler(), accuracy: 0.42679415407480803\u001b[0m\n",
      "\u001b[32m2024-05-22 17:41:05.467\u001b[0m | \u001b[1mINFO    \u001b[0m | \u001b[36mdata_processing.english_data_processing\u001b[0m:\u001b[36mevaluate_models\u001b[0m:\u001b[36m74\u001b[0m - \u001b[1mModel <class 'sklearn.ensemble._forest.ExtraTreesClassifier'> - scaler: MaxAbsScaler(), accuracy: 0.42652084881512675\u001b[0m\n",
      "\u001b[32m2024-05-22 17:41:23.780\u001b[0m | \u001b[1mINFO    \u001b[0m | \u001b[36mdata_processing.english_data_processing\u001b[0m:\u001b[36mevaluate_models\u001b[0m:\u001b[36m74\u001b[0m - \u001b[1mModel <class 'sklearn.ensemble._forest.RandomForestClassifier'> - scaler: RobustScaler(), accuracy: 0.42470489637519604\u001b[0m\n",
      "\u001b[32m2024-05-22 17:41:30.885\u001b[0m | \u001b[1mINFO    \u001b[0m | \u001b[36mdata_processing.english_data_processing\u001b[0m:\u001b[36mevaluate_models\u001b[0m:\u001b[36m74\u001b[0m - \u001b[1mModel <class 'sklearn.ensemble._forest.ExtraTreesClassifier'> - scaler: RobustScaler(), accuracy: 0.42497588968706135\u001b[0m\n",
      "\u001b[32m2024-05-22 17:41:49.217\u001b[0m | \u001b[1mINFO    \u001b[0m | \u001b[36mdata_processing.english_data_processing\u001b[0m:\u001b[36mevaluate_models\u001b[0m:\u001b[36m74\u001b[0m - \u001b[1mModel <class 'sklearn.ensemble._forest.RandomForestClassifier'> - scaler: Normalizer(), accuracy: 0.40043803154157376\u001b[0m\n",
      "\u001b[32m2024-05-22 17:41:56.458\u001b[0m | \u001b[1mINFO    \u001b[0m | \u001b[36mdata_processing.english_data_processing\u001b[0m:\u001b[36mevaluate_models\u001b[0m:\u001b[36m74\u001b[0m - \u001b[1mModel <class 'sklearn.ensemble._forest.ExtraTreesClassifier'> - scaler: Normalizer(), accuracy: 0.3885320782759475\u001b[0m\n",
      "\u001b[32m2024-05-22 17:41:56.459\u001b[0m | \u001b[1mINFO    \u001b[0m | \u001b[36mdata_processing.english_data_processing\u001b[0m:\u001b[36mevaluate_models\u001b[0m:\u001b[36m82\u001b[0m - \u001b[1mBest Model: <class 'sklearn.ensemble._forest.RandomForestClassifier'>\u001b[0m\n",
      "\u001b[32m2024-05-22 17:41:56.460\u001b[0m | \u001b[1mINFO    \u001b[0m | \u001b[36mdata_processing.english_data_processing\u001b[0m:\u001b[36mevaluate_models\u001b[0m:\u001b[36m83\u001b[0m - \u001b[1mBest Scaler: MinMaxScaler\u001b[0m\n",
      "\u001b[32m2024-05-22 17:41:56.460\u001b[0m | \u001b[1mINFO    \u001b[0m | \u001b[36mdata_processing.english_data_processing\u001b[0m:\u001b[36mevaluate_models\u001b[0m:\u001b[36m84\u001b[0m - \u001b[1mBest Average Accuracy: 0.4302479564032697\u001b[0m\n",
      "\u001b[32m2024-05-22 17:41:56.461\u001b[0m | \u001b[1mINFO    \u001b[0m | \u001b[36mfeature_extraction.feature_extractor\u001b[0m:\u001b[36mprocess_folder\u001b[0m:\u001b[36m148\u001b[0m - \u001b[1mProcessing input folder: D:/data_analysis/speech_emotion_recognition/data/EnglishDataset/cleaned_data0\u001b[0m\n"
     ]
    },
    {
     "name": "stdout",
     "output_type": "stream",
     "text": [
      "Scaler: MinMaxScaler, Model: <class 'sklearn.ensemble._forest.RandomForestClassifier'>, n_mfcc: 13, Selected features: ['rms'], Accuracy: 0.4302479564032697\n"
     ]
    },
    {
     "name": "stderr",
     "output_type": "stream",
     "text": [
      "\u001b[32m2024-05-22 17:42:27.497\u001b[0m | \u001b[1mINFO    \u001b[0m | \u001b[36mfeature_extraction.feature_extractor\u001b[0m:\u001b[36mprocess_folder\u001b[0m:\u001b[36m158\u001b[0m - \u001b[1mFeature extraction completed. Data saved to: D:/data_analysis/speech_emotion_recognition/notebooks/feature2.csv\u001b[0m\n",
      "\u001b[32m2024-05-22 17:42:27.510\u001b[0m | \u001b[1mINFO    \u001b[0m | \u001b[36mdata_processing.english_data_processing\u001b[0m:\u001b[36mevaluate_models\u001b[0m:\u001b[36m53\u001b[0m - \u001b[1mFinding best model....\u001b[0m\n",
      "\u001b[32m2024-05-22 17:42:41.809\u001b[0m | \u001b[1mINFO    \u001b[0m | \u001b[36mdata_processing.english_data_processing\u001b[0m:\u001b[36mevaluate_models\u001b[0m:\u001b[36m74\u001b[0m - \u001b[1mModel <class 'sklearn.ensemble._forest.RandomForestClassifier'> - scaler: None, accuracy: 0.21839559078523654\u001b[0m\n",
      "\u001b[32m2024-05-22 17:42:49.000\u001b[0m | \u001b[1mINFO    \u001b[0m | \u001b[36mdata_processing.english_data_processing\u001b[0m:\u001b[36mevaluate_models\u001b[0m:\u001b[36m74\u001b[0m - \u001b[1mModel <class 'sklearn.ensemble._forest.ExtraTreesClassifier'> - scaler: None, accuracy: 0.21839592106349598\u001b[0m\n",
      "\u001b[32m2024-05-22 17:43:03.348\u001b[0m | \u001b[1mINFO    \u001b[0m | \u001b[36mdata_processing.english_data_processing\u001b[0m:\u001b[36mevaluate_models\u001b[0m:\u001b[36m74\u001b[0m - \u001b[1mModel <class 'sklearn.ensemble._forest.RandomForestClassifier'> - scaler: StandardScaler(), accuracy: 0.21857740896705474\u001b[0m\n",
      "\u001b[32m2024-05-22 17:43:10.665\u001b[0m | \u001b[1mINFO    \u001b[0m | \u001b[36mdata_processing.english_data_processing\u001b[0m:\u001b[36mevaluate_models\u001b[0m:\u001b[36m74\u001b[0m - \u001b[1mModel <class 'sklearn.ensemble._forest.ExtraTreesClassifier'> - scaler: StandardScaler(), accuracy: 0.21775963999669723\u001b[0m\n",
      "\u001b[32m2024-05-22 17:43:24.862\u001b[0m | \u001b[1mINFO    \u001b[0m | \u001b[36mdata_processing.english_data_processing\u001b[0m:\u001b[36mevaluate_models\u001b[0m:\u001b[36m74\u001b[0m - \u001b[1mModel <class 'sklearn.ensemble._forest.RandomForestClassifier'> - scaler: MinMaxScaler(), accuracy: 0.21785013623978206\u001b[0m\n",
      "\u001b[32m2024-05-22 17:43:32.043\u001b[0m | \u001b[1mINFO    \u001b[0m | \u001b[36mdata_processing.english_data_processing\u001b[0m:\u001b[36mevaluate_models\u001b[0m:\u001b[36m74\u001b[0m - \u001b[1mModel <class 'sklearn.ensemble._forest.ExtraTreesClassifier'> - scaler: MinMaxScaler(), accuracy: 0.21775939228800265\u001b[0m\n",
      "\u001b[32m2024-05-22 17:43:46.063\u001b[0m | \u001b[1mINFO    \u001b[0m | \u001b[36mdata_processing.english_data_processing\u001b[0m:\u001b[36mevaluate_models\u001b[0m:\u001b[36m74\u001b[0m - \u001b[1mModel <class 'sklearn.ensemble._forest.RandomForestClassifier'> - scaler: MaxAbsScaler(), accuracy: 0.21812286351250929\u001b[0m\n",
      "\u001b[32m2024-05-22 17:43:52.970\u001b[0m | \u001b[1mINFO    \u001b[0m | \u001b[36mdata_processing.english_data_processing\u001b[0m:\u001b[36mevaluate_models\u001b[0m:\u001b[36m74\u001b[0m - \u001b[1mModel <class 'sklearn.ensemble._forest.ExtraTreesClassifier'> - scaler: MaxAbsScaler(), accuracy: 0.21639625134175544\u001b[0m\n",
      "\u001b[32m2024-05-22 17:44:06.887\u001b[0m | \u001b[1mINFO    \u001b[0m | \u001b[36mdata_processing.english_data_processing\u001b[0m:\u001b[36mevaluate_models\u001b[0m:\u001b[36m74\u001b[0m - \u001b[1mModel <class 'sklearn.ensemble._forest.RandomForestClassifier'> - scaler: RobustScaler(), accuracy: 0.21839559078523654\u001b[0m\n",
      "\u001b[32m2024-05-22 17:44:14.039\u001b[0m | \u001b[1mINFO    \u001b[0m | \u001b[36mdata_processing.english_data_processing\u001b[0m:\u001b[36mevaluate_models\u001b[0m:\u001b[36m74\u001b[0m - \u001b[1mModel <class 'sklearn.ensemble._forest.ExtraTreesClassifier'> - scaler: RobustScaler(), accuracy: 0.21794121046982085\u001b[0m\n",
      "\u001b[32m2024-05-22 17:44:15.521\u001b[0m | \u001b[1mINFO    \u001b[0m | \u001b[36mdata_processing.english_data_processing\u001b[0m:\u001b[36mevaluate_models\u001b[0m:\u001b[36m74\u001b[0m - \u001b[1mModel <class 'sklearn.ensemble._forest.RandomForestClassifier'> - scaler: Normalizer(), accuracy: 0.1565933448930724\u001b[0m\n",
      "\u001b[32m2024-05-22 17:44:16.460\u001b[0m | \u001b[1mINFO    \u001b[0m | \u001b[36mdata_processing.english_data_processing\u001b[0m:\u001b[36mevaluate_models\u001b[0m:\u001b[36m74\u001b[0m - \u001b[1mModel <class 'sklearn.ensemble._forest.ExtraTreesClassifier'> - scaler: Normalizer(), accuracy: 0.15586607216579967\u001b[0m\n",
      "\u001b[32m2024-05-22 17:44:16.461\u001b[0m | \u001b[1mINFO    \u001b[0m | \u001b[36mdata_processing.english_data_processing\u001b[0m:\u001b[36mevaluate_models\u001b[0m:\u001b[36m82\u001b[0m - \u001b[1mBest Model: <class 'sklearn.ensemble._forest.RandomForestClassifier'>\u001b[0m\n",
      "\u001b[32m2024-05-22 17:44:16.461\u001b[0m | \u001b[1mINFO    \u001b[0m | \u001b[36mdata_processing.english_data_processing\u001b[0m:\u001b[36mevaluate_models\u001b[0m:\u001b[36m83\u001b[0m - \u001b[1mBest Scaler: StandardScaler\u001b[0m\n",
      "\u001b[32m2024-05-22 17:44:16.462\u001b[0m | \u001b[1mINFO    \u001b[0m | \u001b[36mdata_processing.english_data_processing\u001b[0m:\u001b[36mevaluate_models\u001b[0m:\u001b[36m84\u001b[0m - \u001b[1mBest Average Accuracy: 0.21857740896705474\u001b[0m\n",
      "\u001b[32m2024-05-22 17:44:16.463\u001b[0m | \u001b[1mINFO    \u001b[0m | \u001b[36mfeature_extraction.feature_extractor\u001b[0m:\u001b[36mprocess_folder\u001b[0m:\u001b[36m148\u001b[0m - \u001b[1mProcessing input folder: D:/data_analysis/speech_emotion_recognition/data/EnglishDataset/cleaned_data0\u001b[0m\n"
     ]
    },
    {
     "name": "stdout",
     "output_type": "stream",
     "text": [
      "Scaler: StandardScaler, Model: <class 'sklearn.ensemble._forest.RandomForestClassifier'>, n_mfcc: 13, Selected features: ['pitch'], Accuracy: 0.21857740896705474\n"
     ]
    },
    {
     "name": "stderr",
     "output_type": "stream",
     "text": [
      "\u001b[32m2024-05-22 17:44:28.107\u001b[0m | \u001b[1mINFO    \u001b[0m | \u001b[36mfeature_extraction.feature_extractor\u001b[0m:\u001b[36mprocess_folder\u001b[0m:\u001b[36m158\u001b[0m - \u001b[1mFeature extraction completed. Data saved to: D:/data_analysis/speech_emotion_recognition/notebooks/feature2.csv\u001b[0m\n",
      "\u001b[32m2024-05-22 17:44:28.127\u001b[0m | \u001b[1mINFO    \u001b[0m | \u001b[36mdata_processing.english_data_processing\u001b[0m:\u001b[36mevaluate_models\u001b[0m:\u001b[36m53\u001b[0m - \u001b[1mFinding best model....\u001b[0m\n",
      "\u001b[32m2024-05-22 17:44:43.090\u001b[0m | \u001b[1mINFO    \u001b[0m | \u001b[36mdata_processing.english_data_processing\u001b[0m:\u001b[36mevaluate_models\u001b[0m:\u001b[36m74\u001b[0m - \u001b[1mModel <class 'sklearn.ensemble._forest.RandomForestClassifier'> - scaler: None, accuracy: 0.3903502600941293\u001b[0m\n",
      "\u001b[32m2024-05-22 17:44:50.294\u001b[0m | \u001b[1mINFO    \u001b[0m | \u001b[36mdata_processing.english_data_processing\u001b[0m:\u001b[36mevaluate_models\u001b[0m:\u001b[36m74\u001b[0m - \u001b[1mModel <class 'sklearn.ensemble._forest.ExtraTreesClassifier'> - scaler: None, accuracy: 0.38589587977871354\u001b[0m\n",
      "\u001b[32m2024-05-22 17:45:05.266\u001b[0m | \u001b[1mINFO    \u001b[0m | \u001b[36mdata_processing.english_data_processing\u001b[0m:\u001b[36mevaluate_models\u001b[0m:\u001b[36m74\u001b[0m - \u001b[1mModel <class 'sklearn.ensemble._forest.RandomForestClassifier'> - scaler: StandardScaler(), accuracy: 0.3904400957806952\u001b[0m\n",
      "\u001b[32m2024-05-22 17:45:12.538\u001b[0m | \u001b[1mINFO    \u001b[0m | \u001b[36mdata_processing.english_data_processing\u001b[0m:\u001b[36mevaluate_models\u001b[0m:\u001b[36m74\u001b[0m - \u001b[1mModel <class 'sklearn.ensemble._forest.ExtraTreesClassifier'> - scaler: StandardScaler(), accuracy: 0.3849867063000578\u001b[0m\n",
      "\u001b[32m2024-05-22 17:45:27.462\u001b[0m | \u001b[1mINFO    \u001b[0m | \u001b[36mdata_processing.english_data_processing\u001b[0m:\u001b[36mevaluate_models\u001b[0m:\u001b[36m74\u001b[0m - \u001b[1mModel <class 'sklearn.ensemble._forest.RandomForestClassifier'> - scaler: MinMaxScaler(), accuracy: 0.3892592684336553\u001b[0m\n",
      "\u001b[32m2024-05-22 17:45:34.934\u001b[0m | \u001b[1mINFO    \u001b[0m | \u001b[36mdata_processing.english_data_processing\u001b[0m:\u001b[36mevaluate_models\u001b[0m:\u001b[36m74\u001b[0m - \u001b[1mModel <class 'sklearn.ensemble._forest.ExtraTreesClassifier'> - scaler: MinMaxScaler(), accuracy: 0.3918048881182396\u001b[0m\n",
      "\u001b[32m2024-05-22 17:45:49.987\u001b[0m | \u001b[1mINFO    \u001b[0m | \u001b[36mdata_processing.english_data_processing\u001b[0m:\u001b[36mevaluate_models\u001b[0m:\u001b[36m74\u001b[0m - \u001b[1mModel <class 'sklearn.ensemble._forest.RandomForestClassifier'> - scaler: MaxAbsScaler(), accuracy: 0.3894396003633061\u001b[0m\n",
      "\u001b[32m2024-05-22 17:45:57.335\u001b[0m | \u001b[1mINFO    \u001b[0m | \u001b[36mdata_processing.english_data_processing\u001b[0m:\u001b[36mevaluate_models\u001b[0m:\u001b[36m74\u001b[0m - \u001b[1mModel <class 'sklearn.ensemble._forest.ExtraTreesClassifier'> - scaler: MaxAbsScaler(), accuracy: 0.386714887292544\u001b[0m\n",
      "\u001b[32m2024-05-22 17:46:12.375\u001b[0m | \u001b[1mINFO    \u001b[0m | \u001b[36mdata_processing.english_data_processing\u001b[0m:\u001b[36mevaluate_models\u001b[0m:\u001b[36m74\u001b[0m - \u001b[1mModel <class 'sklearn.ensemble._forest.RandomForestClassifier'> - scaler: RobustScaler(), accuracy: 0.3916219139625134\u001b[0m\n",
      "\u001b[32m2024-05-22 17:46:19.872\u001b[0m | \u001b[1mINFO    \u001b[0m | \u001b[36mdata_processing.english_data_processing\u001b[0m:\u001b[36mevaluate_models\u001b[0m:\u001b[36m74\u001b[0m - \u001b[1mModel <class 'sklearn.ensemble._forest.ExtraTreesClassifier'> - scaler: RobustScaler(), accuracy: 0.38771356617950625\u001b[0m\n",
      "\u001b[32m2024-05-22 17:46:39.029\u001b[0m | \u001b[1mINFO    \u001b[0m | \u001b[36mdata_processing.english_data_processing\u001b[0m:\u001b[36mevaluate_models\u001b[0m:\u001b[36m74\u001b[0m - \u001b[1mModel <class 'sklearn.ensemble._forest.RandomForestClassifier'> - scaler: Normalizer(), accuracy: 0.3519057055569318\u001b[0m\n",
      "\u001b[32m2024-05-22 17:46:46.754\u001b[0m | \u001b[1mINFO    \u001b[0m | \u001b[36mdata_processing.english_data_processing\u001b[0m:\u001b[36mevaluate_models\u001b[0m:\u001b[36m74\u001b[0m - \u001b[1mModel <class 'sklearn.ensemble._forest.ExtraTreesClassifier'> - scaler: Normalizer(), accuracy: 0.34072685987944845\u001b[0m\n",
      "\u001b[32m2024-05-22 17:46:46.754\u001b[0m | \u001b[1mINFO    \u001b[0m | \u001b[36mdata_processing.english_data_processing\u001b[0m:\u001b[36mevaluate_models\u001b[0m:\u001b[36m82\u001b[0m - \u001b[1mBest Model: <class 'sklearn.ensemble._forest.ExtraTreesClassifier'>\u001b[0m\n",
      "\u001b[32m2024-05-22 17:46:46.755\u001b[0m | \u001b[1mINFO    \u001b[0m | \u001b[36mdata_processing.english_data_processing\u001b[0m:\u001b[36mevaluate_models\u001b[0m:\u001b[36m83\u001b[0m - \u001b[1mBest Scaler: MinMaxScaler\u001b[0m\n",
      "\u001b[32m2024-05-22 17:46:46.756\u001b[0m | \u001b[1mINFO    \u001b[0m | \u001b[36mdata_processing.english_data_processing\u001b[0m:\u001b[36mevaluate_models\u001b[0m:\u001b[36m84\u001b[0m - \u001b[1mBest Average Accuracy: 0.3918048881182396\u001b[0m\n",
      "\u001b[32m2024-05-22 17:46:46.757\u001b[0m | \u001b[1mINFO    \u001b[0m | \u001b[36mfeature_extraction.feature_extractor\u001b[0m:\u001b[36mprocess_folder\u001b[0m:\u001b[36m148\u001b[0m - \u001b[1mProcessing input folder: D:/data_analysis/speech_emotion_recognition/data/EnglishDataset/cleaned_data0\u001b[0m\n"
     ]
    },
    {
     "name": "stdout",
     "output_type": "stream",
     "text": [
      "Scaler: MinMaxScaler, Model: <class 'sklearn.ensemble._forest.ExtraTreesClassifier'>, n_mfcc: 13, Selected features: ['zcr'], Accuracy: 0.3918048881182396\n"
     ]
    },
    {
     "name": "stderr",
     "output_type": "stream",
     "text": [
      "\u001b[32m2024-05-22 17:47:29.794\u001b[0m | \u001b[1mINFO    \u001b[0m | \u001b[36mfeature_extraction.feature_extractor\u001b[0m:\u001b[36mprocess_folder\u001b[0m:\u001b[36m158\u001b[0m - \u001b[1mFeature extraction completed. Data saved to: D:/data_analysis/speech_emotion_recognition/notebooks/feature2.csv\u001b[0m\n",
      "\u001b[32m2024-05-22 17:47:29.875\u001b[0m | \u001b[1mINFO    \u001b[0m | \u001b[36mdata_processing.english_data_processing\u001b[0m:\u001b[36mevaluate_models\u001b[0m:\u001b[36m53\u001b[0m - \u001b[1mFinding best model....\u001b[0m\n",
      "\u001b[32m2024-05-22 17:48:30.753\u001b[0m | \u001b[1mINFO    \u001b[0m | \u001b[36mdata_processing.english_data_processing\u001b[0m:\u001b[36mevaluate_models\u001b[0m:\u001b[36m74\u001b[0m - \u001b[1mModel <class 'sklearn.ensemble._forest.RandomForestClassifier'> - scaler: None, accuracy: 0.6101963504252332\u001b[0m\n",
      "\u001b[32m2024-05-22 17:48:43.937\u001b[0m | \u001b[1mINFO    \u001b[0m | \u001b[36mdata_processing.english_data_processing\u001b[0m:\u001b[36mevaluate_models\u001b[0m:\u001b[36m74\u001b[0m - \u001b[1mModel <class 'sklearn.ensemble._forest.ExtraTreesClassifier'> - scaler: None, accuracy: 0.6121984972339196\u001b[0m\n",
      "\u001b[32m2024-05-22 17:49:43.444\u001b[0m | \u001b[1mINFO    \u001b[0m | \u001b[36mdata_processing.english_data_processing\u001b[0m:\u001b[36mevaluate_models\u001b[0m:\u001b[36m74\u001b[0m - \u001b[1mModel <class 'sklearn.ensemble._forest.RandomForestClassifier'> - scaler: StandardScaler(), accuracy: 0.6117407315663447\u001b[0m\n",
      "\u001b[32m2024-05-22 17:49:56.989\u001b[0m | \u001b[1mINFO    \u001b[0m | \u001b[36mdata_processing.english_data_processing\u001b[0m:\u001b[36mevaluate_models\u001b[0m:\u001b[36m74\u001b[0m - \u001b[1mModel <class 'sklearn.ensemble._forest.ExtraTreesClassifier'> - scaler: StandardScaler(), accuracy: 0.6119232103046817\u001b[0m\n",
      "\u001b[32m2024-05-22 17:50:58.956\u001b[0m | \u001b[1mINFO    \u001b[0m | \u001b[36mdata_processing.english_data_processing\u001b[0m:\u001b[36mevaluate_models\u001b[0m:\u001b[36m74\u001b[0m - \u001b[1mModel <class 'sklearn.ensemble._forest.RandomForestClassifier'> - scaler: MinMaxScaler(), accuracy: 0.6117423829576418\u001b[0m\n",
      "\u001b[32m2024-05-22 17:51:12.163\u001b[0m | \u001b[1mINFO    \u001b[0m | \u001b[36mdata_processing.english_data_processing\u001b[0m:\u001b[36mevaluate_models\u001b[0m:\u001b[36m74\u001b[0m - \u001b[1mModel <class 'sklearn.ensemble._forest.ExtraTreesClassifier'> - scaler: MinMaxScaler(), accuracy: 0.6118324663529023\u001b[0m\n",
      "\u001b[32m2024-05-22 17:52:17.683\u001b[0m | \u001b[1mINFO    \u001b[0m | \u001b[36mdata_processing.english_data_processing\u001b[0m:\u001b[36mevaluate_models\u001b[0m:\u001b[36m74\u001b[0m - \u001b[1mModel <class 'sklearn.ensemble._forest.RandomForestClassifier'> - scaler: MaxAbsScaler(), accuracy: 0.6101056890430188\u001b[0m\n",
      "\u001b[32m2024-05-22 17:52:32.341\u001b[0m | \u001b[1mINFO    \u001b[0m | \u001b[36mdata_processing.english_data_processing\u001b[0m:\u001b[36mevaluate_models\u001b[0m:\u001b[36m74\u001b[0m - \u001b[1mModel <class 'sklearn.ensemble._forest.ExtraTreesClassifier'> - scaler: MaxAbsScaler(), accuracy: 0.6092899017422179\u001b[0m\n",
      "\u001b[32m2024-05-22 17:53:31.623\u001b[0m | \u001b[1mINFO    \u001b[0m | \u001b[36mdata_processing.english_data_processing\u001b[0m:\u001b[36mevaluate_models\u001b[0m:\u001b[36m74\u001b[0m - \u001b[1mModel <class 'sklearn.ensemble._forest.RandomForestClassifier'> - scaler: RobustScaler(), accuracy: 0.6125600693584344\u001b[0m\n",
      "\u001b[32m2024-05-22 17:53:44.848\u001b[0m | \u001b[1mINFO    \u001b[0m | \u001b[36mdata_processing.english_data_processing\u001b[0m:\u001b[36mevaluate_models\u001b[0m:\u001b[36m74\u001b[0m - \u001b[1mModel <class 'sklearn.ensemble._forest.ExtraTreesClassifier'> - scaler: RobustScaler(), accuracy: 0.6124717199240359\u001b[0m\n",
      "\u001b[32m2024-05-22 17:54:41.967\u001b[0m | \u001b[1mINFO    \u001b[0m | \u001b[36mdata_processing.english_data_processing\u001b[0m:\u001b[36mevaluate_models\u001b[0m:\u001b[36m74\u001b[0m - \u001b[1mModel <class 'sklearn.ensemble._forest.RandomForestClassifier'> - scaler: Normalizer(), accuracy: 0.5847517958880357\u001b[0m\n",
      "\u001b[32m2024-05-22 17:54:55.207\u001b[0m | \u001b[1mINFO    \u001b[0m | \u001b[36mdata_processing.english_data_processing\u001b[0m:\u001b[36mevaluate_models\u001b[0m:\u001b[36m74\u001b[0m - \u001b[1mModel <class 'sklearn.ensemble._forest.ExtraTreesClassifier'> - scaler: Normalizer(), accuracy: 0.5830224589216415\u001b[0m\n",
      "\u001b[32m2024-05-22 17:54:55.208\u001b[0m | \u001b[1mINFO    \u001b[0m | \u001b[36mdata_processing.english_data_processing\u001b[0m:\u001b[36mevaluate_models\u001b[0m:\u001b[36m82\u001b[0m - \u001b[1mBest Model: <class 'sklearn.ensemble._forest.RandomForestClassifier'>\u001b[0m\n",
      "\u001b[32m2024-05-22 17:54:55.209\u001b[0m | \u001b[1mINFO    \u001b[0m | \u001b[36mdata_processing.english_data_processing\u001b[0m:\u001b[36mevaluate_models\u001b[0m:\u001b[36m83\u001b[0m - \u001b[1mBest Scaler: RobustScaler\u001b[0m\n",
      "\u001b[32m2024-05-22 17:54:55.209\u001b[0m | \u001b[1mINFO    \u001b[0m | \u001b[36mdata_processing.english_data_processing\u001b[0m:\u001b[36mevaluate_models\u001b[0m:\u001b[36m84\u001b[0m - \u001b[1mBest Average Accuracy: 0.6125600693584344\u001b[0m\n",
      "\u001b[32m2024-05-22 17:54:55.211\u001b[0m | \u001b[1mINFO    \u001b[0m | \u001b[36mfeature_extraction.feature_extractor\u001b[0m:\u001b[36mprocess_folder\u001b[0m:\u001b[36m148\u001b[0m - \u001b[1mProcessing input folder: D:/data_analysis/speech_emotion_recognition/data/EnglishDataset/cleaned_data0\u001b[0m\n"
     ]
    },
    {
     "name": "stdout",
     "output_type": "stream",
     "text": [
      "Scaler: RobustScaler, Model: <class 'sklearn.ensemble._forest.RandomForestClassifier'>, n_mfcc: 13, Selected features: ['mfcc_statistics'], Accuracy: 0.6125600693584344\n"
     ]
    },
    {
     "name": "stderr",
     "output_type": "stream",
     "text": [
      "\u001b[32m2024-05-22 17:55:32.744\u001b[0m | \u001b[1mINFO    \u001b[0m | \u001b[36mfeature_extraction.feature_extractor\u001b[0m:\u001b[36mprocess_folder\u001b[0m:\u001b[36m158\u001b[0m - \u001b[1mFeature extraction completed. Data saved to: D:/data_analysis/speech_emotion_recognition/notebooks/feature2.csv\u001b[0m\n",
      "\u001b[32m2024-05-22 17:55:32.767\u001b[0m | \u001b[1mINFO    \u001b[0m | \u001b[36mdata_processing.english_data_processing\u001b[0m:\u001b[36mevaluate_models\u001b[0m:\u001b[36m53\u001b[0m - \u001b[1mFinding best model....\u001b[0m\n",
      "\u001b[32m2024-05-22 17:55:57.769\u001b[0m | \u001b[1mINFO    \u001b[0m | \u001b[36mdata_processing.english_data_processing\u001b[0m:\u001b[36mevaluate_models\u001b[0m:\u001b[36m74\u001b[0m - \u001b[1mModel <class 'sklearn.ensemble._forest.RandomForestClassifier'> - scaler: None, accuracy: 0.5674838576500703\u001b[0m\n",
      "\u001b[32m2024-05-22 17:56:05.962\u001b[0m | \u001b[1mINFO    \u001b[0m | \u001b[36mdata_processing.english_data_processing\u001b[0m:\u001b[36mevaluate_models\u001b[0m:\u001b[36m74\u001b[0m - \u001b[1mModel <class 'sklearn.ensemble._forest.ExtraTreesClassifier'> - scaler: None, accuracy: 0.5711189827429608\u001b[0m\n",
      "\u001b[32m2024-05-22 17:56:30.166\u001b[0m | \u001b[1mINFO    \u001b[0m | \u001b[36mdata_processing.english_data_processing\u001b[0m:\u001b[36mevaluate_models\u001b[0m:\u001b[36m74\u001b[0m - \u001b[1mModel <class 'sklearn.ensemble._forest.RandomForestClassifier'> - scaler: StandardScaler(), accuracy: 0.5669368342828834\u001b[0m\n",
      "\u001b[32m2024-05-22 17:56:38.368\u001b[0m | \u001b[1mINFO    \u001b[0m | \u001b[36mdata_processing.english_data_processing\u001b[0m:\u001b[36mevaluate_models\u001b[0m:\u001b[36m74\u001b[0m - \u001b[1mModel <class 'sklearn.ensemble._forest.ExtraTreesClassifier'> - scaler: StandardScaler(), accuracy: 0.5709365040046238\u001b[0m\n",
      "\u001b[32m2024-05-22 17:57:02.596\u001b[0m | \u001b[1mINFO    \u001b[0m | \u001b[36mdata_processing.english_data_processing\u001b[0m:\u001b[36mevaluate_models\u001b[0m:\u001b[36m74\u001b[0m - \u001b[1mModel <class 'sklearn.ensemble._forest.RandomForestClassifier'> - scaler: MinMaxScaler(), accuracy: 0.5690272479564034\u001b[0m\n",
      "\u001b[32m2024-05-22 17:57:10.773\u001b[0m | \u001b[1mINFO    \u001b[0m | \u001b[36mdata_processing.english_data_processing\u001b[0m:\u001b[36mevaluate_models\u001b[0m:\u001b[36m74\u001b[0m - \u001b[1mModel <class 'sklearn.ensemble._forest.ExtraTreesClassifier'> - scaler: MinMaxScaler(), accuracy: 0.5688473288745768\u001b[0m\n",
      "\u001b[32m2024-05-22 17:57:34.315\u001b[0m | \u001b[1mINFO    \u001b[0m | \u001b[36mdata_processing.english_data_processing\u001b[0m:\u001b[36mevaluate_models\u001b[0m:\u001b[36m74\u001b[0m - \u001b[1mModel <class 'sklearn.ensemble._forest.RandomForestClassifier'> - scaler: MaxAbsScaler(), accuracy: 0.5693919577243828\u001b[0m\n",
      "\u001b[32m2024-05-22 17:57:42.314\u001b[0m | \u001b[1mINFO    \u001b[0m | \u001b[36mdata_processing.english_data_processing\u001b[0m:\u001b[36mevaluate_models\u001b[0m:\u001b[36m74\u001b[0m - \u001b[1mModel <class 'sklearn.ensemble._forest.ExtraTreesClassifier'> - scaler: MaxAbsScaler(), accuracy: 0.5755707208323012\u001b[0m\n",
      "\u001b[32m2024-05-22 17:58:06.111\u001b[0m | \u001b[1mINFO    \u001b[0m | \u001b[36mdata_processing.english_data_processing\u001b[0m:\u001b[36mevaluate_models\u001b[0m:\u001b[36m74\u001b[0m - \u001b[1mModel <class 'sklearn.ensemble._forest.RandomForestClassifier'> - scaler: RobustScaler(), accuracy: 0.5667551812401949\u001b[0m\n",
      "\u001b[32m2024-05-22 17:58:14.377\u001b[0m | \u001b[1mINFO    \u001b[0m | \u001b[36mdata_processing.english_data_processing\u001b[0m:\u001b[36mevaluate_models\u001b[0m:\u001b[36m74\u001b[0m - \u001b[1mModel <class 'sklearn.ensemble._forest.ExtraTreesClassifier'> - scaler: RobustScaler(), accuracy: 0.5732083230121378\u001b[0m\n",
      "\u001b[32m2024-05-22 17:58:39.053\u001b[0m | \u001b[1mINFO    \u001b[0m | \u001b[36mdata_processing.english_data_processing\u001b[0m:\u001b[36mevaluate_models\u001b[0m:\u001b[36m74\u001b[0m - \u001b[1mModel <class 'sklearn.ensemble._forest.RandomForestClassifier'> - scaler: Normalizer(), accuracy: 0.5431263314342334\u001b[0m\n",
      "\u001b[32m2024-05-22 17:58:47.215\u001b[0m | \u001b[1mINFO    \u001b[0m | \u001b[36mdata_processing.english_data_processing\u001b[0m:\u001b[36mevaluate_models\u001b[0m:\u001b[36m74\u001b[0m - \u001b[1mModel <class 'sklearn.ensemble._forest.ExtraTreesClassifier'> - scaler: Normalizer(), accuracy: 0.5452163322599289\u001b[0m\n",
      "\u001b[32m2024-05-22 17:58:47.217\u001b[0m | \u001b[1mINFO    \u001b[0m | \u001b[36mdata_processing.english_data_processing\u001b[0m:\u001b[36mevaluate_models\u001b[0m:\u001b[36m82\u001b[0m - \u001b[1mBest Model: <class 'sklearn.ensemble._forest.ExtraTreesClassifier'>\u001b[0m\n",
      "\u001b[32m2024-05-22 17:58:47.217\u001b[0m | \u001b[1mINFO    \u001b[0m | \u001b[36mdata_processing.english_data_processing\u001b[0m:\u001b[36mevaluate_models\u001b[0m:\u001b[36m83\u001b[0m - \u001b[1mBest Scaler: MaxAbsScaler\u001b[0m\n",
      "\u001b[32m2024-05-22 17:58:47.218\u001b[0m | \u001b[1mINFO    \u001b[0m | \u001b[36mdata_processing.english_data_processing\u001b[0m:\u001b[36mevaluate_models\u001b[0m:\u001b[36m84\u001b[0m - \u001b[1mBest Average Accuracy: 0.5755707208323012\u001b[0m\n",
      "\u001b[32m2024-05-22 17:58:47.219\u001b[0m | \u001b[1mINFO    \u001b[0m | \u001b[36mfeature_extraction.feature_extractor\u001b[0m:\u001b[36mprocess_folder\u001b[0m:\u001b[36m148\u001b[0m - \u001b[1mProcessing input folder: D:/data_analysis/speech_emotion_recognition/data/EnglishDataset/cleaned_data0\u001b[0m\n"
     ]
    },
    {
     "name": "stdout",
     "output_type": "stream",
     "text": [
      "Scaler: MaxAbsScaler, Model: <class 'sklearn.ensemble._forest.ExtraTreesClassifier'>, n_mfcc: 13, Selected features: ['mfcc'], Accuracy: 0.5755707208323012\n"
     ]
    },
    {
     "name": "stderr",
     "output_type": "stream",
     "text": [
      "\u001b[32m2024-05-22 17:58:50.926\u001b[0m | \u001b[1mINFO    \u001b[0m | \u001b[36mfeature_extraction.feature_extractor\u001b[0m:\u001b[36mprocess_folder\u001b[0m:\u001b[36m158\u001b[0m - \u001b[1mFeature extraction completed. Data saved to: D:/data_analysis/speech_emotion_recognition/notebooks/feature2.csv\u001b[0m\n",
      "\u001b[32m2024-05-22 17:58:50.937\u001b[0m | \u001b[1mINFO    \u001b[0m | \u001b[36mdata_processing.english_data_processing\u001b[0m:\u001b[36mevaluate_models\u001b[0m:\u001b[36m53\u001b[0m - \u001b[1mFinding best model....\u001b[0m\n"
     ]
    },
    {
     "ename": "ValueError",
     "evalue": "at least one array or dtype is required",
     "output_type": "error",
     "traceback": [
      "\u001b[1;31m---------------------------------------------------------------------------\u001b[0m",
      "\u001b[1;31mValueError\u001b[0m                                Traceback (most recent call last)",
      "Cell \u001b[1;32mIn[14], line 1\u001b[0m\n\u001b[1;32m----> 1\u001b[0m \u001b[43mprocess_data\u001b[49m\u001b[43m(\u001b[49m\u001b[38;5;241;43m256\u001b[39;49m\u001b[43m,\u001b[49m\u001b[43m \u001b[49m\u001b[38;5;241;43m128\u001b[39;49m\u001b[43m,\u001b[49m\u001b[43m \u001b[49m\u001b[38;5;241;43m0.0005\u001b[39;49m\u001b[43m,\u001b[49m\u001b[43m \u001b[49m\u001b[38;5;124;43m'\u001b[39;49m\u001b[38;5;124;43mD:/data_analysis/speech_emotion_recognition/data/EnglishDataset/combined_data\u001b[39;49m\u001b[38;5;124;43m'\u001b[39;49m\u001b[43m,\u001b[49m\u001b[43m \u001b[49m\u001b[38;5;124;43m'\u001b[39;49m\u001b[38;5;124;43mD:/data_analysis/speech_emotion_recognition/data/EnglishDataset/cleaned_data0\u001b[39;49m\u001b[38;5;124;43m'\u001b[39;49m\u001b[43m,\u001b[49m\u001b[43m \u001b[49m\u001b[43m[\u001b[49m\u001b[38;5;241;43m13\u001b[39;49m\u001b[43m,\u001b[49m\u001b[38;5;241;43m20\u001b[39;49m\u001b[43m,\u001b[49m\u001b[38;5;241;43m26\u001b[39;49m\u001b[43m,\u001b[49m\u001b[38;5;241;43m40\u001b[39;49m\u001b[43m]\u001b[49m\u001b[43m,\u001b[49m\u001b[43m \u001b[49m\u001b[38;5;124;43m'\u001b[39;49m\u001b[38;5;124;43mD:/data_analysis/speech_emotion_recognition/notebooks/feature2.csv\u001b[39;49m\u001b[38;5;124;43m'\u001b[39;49m\u001b[43m,\u001b[49m\u001b[43m \u001b[49m\u001b[38;5;241;43m100\u001b[39;49m\u001b[43m,\u001b[49m\u001b[43m \u001b[49m\u001b[38;5;124;43m'\u001b[39;49m\u001b[38;5;124;43mD:/data_analysis/speech_emotion_recognition/data/EnglishDataset/images\u001b[39;49m\u001b[38;5;124;43m'\u001b[39;49m\u001b[43m,\u001b[49m\u001b[43m \u001b[49m\u001b[43m[\u001b[49m\u001b[38;5;124;43m'\u001b[39;49m\u001b[38;5;124;43mmfcc\u001b[39;49m\u001b[38;5;124;43m'\u001b[39;49m\u001b[43m,\u001b[49m\u001b[38;5;124;43m'\u001b[39;49m\u001b[38;5;124;43mmfcc_statistics\u001b[39;49m\u001b[38;5;124;43m'\u001b[39;49m\u001b[43m,\u001b[49m\u001b[43m \u001b[49m\u001b[38;5;124;43m'\u001b[39;49m\u001b[38;5;124;43mzcr\u001b[39;49m\u001b[38;5;124;43m'\u001b[39;49m\u001b[43m,\u001b[49m\u001b[43m \u001b[49m\u001b[38;5;124;43m'\u001b[39;49m\u001b[38;5;124;43mpitch\u001b[39;49m\u001b[38;5;124;43m'\u001b[39;49m\u001b[43m,\u001b[49m\u001b[43m \u001b[49m\u001b[38;5;124;43m'\u001b[39;49m\u001b[38;5;124;43mrms\u001b[39;49m\u001b[38;5;124;43m'\u001b[39;49m\u001b[43m]\u001b[49m\u001b[43m)\u001b[49m\n",
      "Cell \u001b[1;32mIn[13], line 12\u001b[0m, in \u001b[0;36mprocess_data\u001b[1;34m(frame_size, hop_size, threshold, raw_folder, cutted_folder, n_mfcc_list, featured_data_path, n_mfcc_for_images, images_folder, features)\u001b[0m\n\u001b[0;32m     10\u001b[0m selected_features \u001b[38;5;241m=\u001b[39m [features[i] \u001b[38;5;28;01mfor\u001b[39;00m i \u001b[38;5;129;01min\u001b[39;00m \u001b[38;5;28mrange\u001b[39m(n) \u001b[38;5;28;01mif\u001b[39;00m i \u001b[38;5;129;01mnot\u001b[39;00m \u001b[38;5;129;01min\u001b[39;00m combo]\n\u001b[0;32m     11\u001b[0m extract_feature(n_mfcc, cutted_folder, featured_data_path, selected_features)\n\u001b[1;32m---> 12\u001b[0m current_model, current_scaler, current_avg_acc \u001b[38;5;241m=\u001b[39m \u001b[43mmodel\u001b[49m\u001b[43m(\u001b[49m\u001b[43mfeatured_data_path\u001b[49m\u001b[43m)\u001b[49m\n\u001b[0;32m     13\u001b[0m \u001b[38;5;28mprint\u001b[39m(\u001b[38;5;124mf\u001b[39m\u001b[38;5;124m\"\u001b[39m\u001b[38;5;124mScaler: \u001b[39m\u001b[38;5;132;01m{\u001b[39;00mcurrent_scaler\u001b[38;5;132;01m}\u001b[39;00m\u001b[38;5;124m, Model: \u001b[39m\u001b[38;5;132;01m{\u001b[39;00mcurrent_model\u001b[38;5;132;01m}\u001b[39;00m\u001b[38;5;124m, n_mfcc: \u001b[39m\u001b[38;5;132;01m{\u001b[39;00mn_mfcc\u001b[38;5;132;01m}\u001b[39;00m\u001b[38;5;124m, Selected features: \u001b[39m\u001b[38;5;132;01m{\u001b[39;00mselected_features\u001b[38;5;132;01m}\u001b[39;00m\u001b[38;5;124m, Accuracy: \u001b[39m\u001b[38;5;132;01m{\u001b[39;00mcurrent_avg_acc\u001b[38;5;132;01m}\u001b[39;00m\u001b[38;5;124m\"\u001b[39m)\n\u001b[0;32m     14\u001b[0m results\u001b[38;5;241m.\u001b[39mappend({\u001b[38;5;124m'\u001b[39m\u001b[38;5;124mScaler\u001b[39m\u001b[38;5;124m'\u001b[39m: current_scaler, \u001b[38;5;124m'\u001b[39m\u001b[38;5;124mModel\u001b[39m\u001b[38;5;124m'\u001b[39m: current_model, \u001b[38;5;124m'\u001b[39m\u001b[38;5;124mN_MFCC\u001b[39m\u001b[38;5;124m'\u001b[39m: n_mfcc, \u001b[38;5;124m'\u001b[39m\u001b[38;5;124mSelected Features\u001b[39m\u001b[38;5;124m'\u001b[39m: selected_features, \u001b[38;5;124m'\u001b[39m\u001b[38;5;124mAverage Accuracy\u001b[39m\u001b[38;5;124m'\u001b[39m: current_avg_acc})\n",
      "Cell \u001b[1;32mIn[12], line 8\u001b[0m, in \u001b[0;36mmodel\u001b[1;34m(featured_data)\u001b[0m\n\u001b[0;32m      5\u001b[0m df_shuffled \u001b[38;5;241m=\u001b[39m df_train_test\u001b[38;5;241m.\u001b[39msample(frac\u001b[38;5;241m=\u001b[39m\u001b[38;5;241m1\u001b[39m, random_state\u001b[38;5;241m=\u001b[39m\u001b[38;5;241m42\u001b[39m)\u001b[38;5;241m.\u001b[39mreset_index(drop\u001b[38;5;241m=\u001b[39m\u001b[38;5;28;01mTrue\u001b[39;00m)\n\u001b[0;32m      7\u001b[0m modelEvaluator \u001b[38;5;241m=\u001b[39m ModelEvaluator(models)\n\u001b[1;32m----> 8\u001b[0m best_model, best_scaler, best_avg_acc \u001b[38;5;241m=\u001b[39m \u001b[43mmodelEvaluator\u001b[49m\u001b[38;5;241;43m.\u001b[39;49m\u001b[43mevaluate_models\u001b[49m\u001b[43m(\u001b[49m\u001b[43mdf_shuffled\u001b[49m\u001b[43m)\u001b[49m\n\u001b[0;32m      9\u001b[0m \u001b[38;5;28;01mreturn\u001b[39;00m best_model, best_scaler, best_avg_acc\n",
      "File \u001b[1;32md:\\data_analysis\\speech_emotion_recognition\\src\\data_processing\\english_data_processing.py:73\u001b[0m, in \u001b[0;36mModelEvaluator.evaluate_models\u001b[1;34m(self, data)\u001b[0m\n\u001b[0;32m     71\u001b[0m \u001b[38;5;28;01mfor\u001b[39;00m scaler_name, scaler \u001b[38;5;129;01min\u001b[39;00m scalers:\n\u001b[0;32m     72\u001b[0m     \u001b[38;5;28;01mfor\u001b[39;00m model \u001b[38;5;129;01min\u001b[39;00m \u001b[38;5;28mself\u001b[39m\u001b[38;5;241m.\u001b[39mmodels:\n\u001b[1;32m---> 73\u001b[0m         avg_acc \u001b[38;5;241m=\u001b[39m \u001b[38;5;28;43mself\u001b[39;49m\u001b[38;5;241;43m.\u001b[39;49m\u001b[43m_cross_validate\u001b[49m\u001b[43m(\u001b[49m\u001b[43mmodel\u001b[49m\u001b[43m,\u001b[49m\u001b[43m \u001b[49m\u001b[43mX\u001b[49m\u001b[43m,\u001b[49m\u001b[43m \u001b[49m\u001b[43my\u001b[49m\u001b[43m,\u001b[49m\u001b[43m \u001b[49m\u001b[43mscaler\u001b[49m\u001b[43m)\u001b[49m\n\u001b[0;32m     74\u001b[0m         logger\u001b[38;5;241m.\u001b[39minfo(\u001b[38;5;124mf\u001b[39m\u001b[38;5;124m'\u001b[39m\u001b[38;5;124mModel \u001b[39m\u001b[38;5;132;01m{\u001b[39;00mmodel\u001b[38;5;132;01m}\u001b[39;00m\u001b[38;5;124m - scaler: \u001b[39m\u001b[38;5;132;01m{\u001b[39;00mscaler\u001b[38;5;132;01m}\u001b[39;00m\u001b[38;5;124m, accuracy: \u001b[39m\u001b[38;5;132;01m{\u001b[39;00mavg_acc\u001b[38;5;132;01m}\u001b[39;00m\u001b[38;5;124m'\u001b[39m)\n\u001b[0;32m     75\u001b[0m         results[scaler_name]\u001b[38;5;241m.\u001b[39mappend((model, avg_acc))\n",
      "File \u001b[1;32md:\\data_analysis\\speech_emotion_recognition\\src\\data_processing\\english_data_processing.py:44\u001b[0m, in \u001b[0;36mModelEvaluator._cross_validate\u001b[1;34m(self, model, X, y, scaler)\u001b[0m\n\u001b[0;32m     41\u001b[0m     X_train \u001b[38;5;241m=\u001b[39m scaler\u001b[38;5;241m.\u001b[39mfit_transform(X_train)\n\u001b[0;32m     42\u001b[0m     X_test \u001b[38;5;241m=\u001b[39m scaler\u001b[38;5;241m.\u001b[39mtransform(X_test)\n\u001b[1;32m---> 44\u001b[0m y_pred \u001b[38;5;241m=\u001b[39m \u001b[38;5;28;43mself\u001b[39;49m\u001b[38;5;241;43m.\u001b[39;49m\u001b[43m_train_and_predict\u001b[49m\u001b[43m(\u001b[49m\u001b[43mmodel\u001b[49m\u001b[43m,\u001b[49m\u001b[43m \u001b[49m\u001b[43mX_train\u001b[49m\u001b[43m,\u001b[49m\u001b[43m \u001b[49m\u001b[43my_train\u001b[49m\u001b[43m,\u001b[49m\u001b[43m \u001b[49m\u001b[43mX_test\u001b[49m\u001b[43m)\u001b[49m\n\u001b[0;32m     46\u001b[0m acc \u001b[38;5;241m=\u001b[39m accuracy_score(y_test, y_pred)\n\u001b[0;32m     47\u001b[0m acc_scores\u001b[38;5;241m.\u001b[39mappend(acc)\n",
      "File \u001b[1;32md:\\data_analysis\\speech_emotion_recognition\\src\\data_processing\\english_data_processing.py:25\u001b[0m, in \u001b[0;36mModelEvaluator._train_and_predict\u001b[1;34m(self, model, X_train, y_train, X_test)\u001b[0m\n\u001b[0;32m     22\u001b[0m clf \u001b[38;5;241m=\u001b[39m model()\n\u001b[0;32m     24\u001b[0m \u001b[38;5;66;03m# Train model\u001b[39;00m\n\u001b[1;32m---> 25\u001b[0m \u001b[43mclf\u001b[49m\u001b[38;5;241;43m.\u001b[39;49m\u001b[43mfit\u001b[49m\u001b[43m(\u001b[49m\u001b[43mX_train\u001b[49m\u001b[43m,\u001b[49m\u001b[43m \u001b[49m\u001b[43my_train\u001b[49m\u001b[43m)\u001b[49m\n\u001b[0;32m     27\u001b[0m \u001b[38;5;66;03m# Dự đoán trên tập test\u001b[39;00m\n\u001b[0;32m     28\u001b[0m y_pred \u001b[38;5;241m=\u001b[39m clf\u001b[38;5;241m.\u001b[39mpredict(X_test)\n",
      "File \u001b[1;32md:\\data_analysis\\speech_emotion_recognition\\.venv\\Lib\\site-packages\\sklearn\\base.py:1474\u001b[0m, in \u001b[0;36m_fit_context.<locals>.decorator.<locals>.wrapper\u001b[1;34m(estimator, *args, **kwargs)\u001b[0m\n\u001b[0;32m   1467\u001b[0m     estimator\u001b[38;5;241m.\u001b[39m_validate_params()\n\u001b[0;32m   1469\u001b[0m \u001b[38;5;28;01mwith\u001b[39;00m config_context(\n\u001b[0;32m   1470\u001b[0m     skip_parameter_validation\u001b[38;5;241m=\u001b[39m(\n\u001b[0;32m   1471\u001b[0m         prefer_skip_nested_validation \u001b[38;5;129;01mor\u001b[39;00m global_skip_validation\n\u001b[0;32m   1472\u001b[0m     )\n\u001b[0;32m   1473\u001b[0m ):\n\u001b[1;32m-> 1474\u001b[0m     \u001b[38;5;28;01mreturn\u001b[39;00m \u001b[43mfit_method\u001b[49m\u001b[43m(\u001b[49m\u001b[43mestimator\u001b[49m\u001b[43m,\u001b[49m\u001b[43m \u001b[49m\u001b[38;5;241;43m*\u001b[39;49m\u001b[43margs\u001b[49m\u001b[43m,\u001b[49m\u001b[43m \u001b[49m\u001b[38;5;241;43m*\u001b[39;49m\u001b[38;5;241;43m*\u001b[39;49m\u001b[43mkwargs\u001b[49m\u001b[43m)\u001b[49m\n",
      "File \u001b[1;32md:\\data_analysis\\speech_emotion_recognition\\.venv\\Lib\\site-packages\\sklearn\\ensemble\\_forest.py:363\u001b[0m, in \u001b[0;36mBaseForest.fit\u001b[1;34m(self, X, y, sample_weight)\u001b[0m\n\u001b[0;32m    360\u001b[0m \u001b[38;5;28;01mif\u001b[39;00m issparse(y):\n\u001b[0;32m    361\u001b[0m     \u001b[38;5;28;01mraise\u001b[39;00m \u001b[38;5;167;01mValueError\u001b[39;00m(\u001b[38;5;124m\"\u001b[39m\u001b[38;5;124msparse multilabel-indicator for y is not supported.\u001b[39m\u001b[38;5;124m\"\u001b[39m)\n\u001b[1;32m--> 363\u001b[0m X, y \u001b[38;5;241m=\u001b[39m \u001b[38;5;28;43mself\u001b[39;49m\u001b[38;5;241;43m.\u001b[39;49m\u001b[43m_validate_data\u001b[49m\u001b[43m(\u001b[49m\n\u001b[0;32m    364\u001b[0m \u001b[43m    \u001b[49m\u001b[43mX\u001b[49m\u001b[43m,\u001b[49m\n\u001b[0;32m    365\u001b[0m \u001b[43m    \u001b[49m\u001b[43my\u001b[49m\u001b[43m,\u001b[49m\n\u001b[0;32m    366\u001b[0m \u001b[43m    \u001b[49m\u001b[43mmulti_output\u001b[49m\u001b[38;5;241;43m=\u001b[39;49m\u001b[38;5;28;43;01mTrue\u001b[39;49;00m\u001b[43m,\u001b[49m\n\u001b[0;32m    367\u001b[0m \u001b[43m    \u001b[49m\u001b[43maccept_sparse\u001b[49m\u001b[38;5;241;43m=\u001b[39;49m\u001b[38;5;124;43m\"\u001b[39;49m\u001b[38;5;124;43mcsc\u001b[39;49m\u001b[38;5;124;43m\"\u001b[39;49m\u001b[43m,\u001b[49m\n\u001b[0;32m    368\u001b[0m \u001b[43m    \u001b[49m\u001b[43mdtype\u001b[49m\u001b[38;5;241;43m=\u001b[39;49m\u001b[43mDTYPE\u001b[49m\u001b[43m,\u001b[49m\n\u001b[0;32m    369\u001b[0m \u001b[43m    \u001b[49m\u001b[43mforce_all_finite\u001b[49m\u001b[38;5;241;43m=\u001b[39;49m\u001b[38;5;28;43;01mFalse\u001b[39;49;00m\u001b[43m,\u001b[49m\n\u001b[0;32m    370\u001b[0m \u001b[43m\u001b[49m\u001b[43m)\u001b[49m\n\u001b[0;32m    371\u001b[0m \u001b[38;5;66;03m# _compute_missing_values_in_feature_mask checks if X has missing values and\u001b[39;00m\n\u001b[0;32m    372\u001b[0m \u001b[38;5;66;03m# will raise an error if the underlying tree base estimator can't handle missing\u001b[39;00m\n\u001b[0;32m    373\u001b[0m \u001b[38;5;66;03m# values. Only the criterion is required to determine if the tree supports\u001b[39;00m\n\u001b[0;32m    374\u001b[0m \u001b[38;5;66;03m# missing values.\u001b[39;00m\n\u001b[0;32m    375\u001b[0m estimator \u001b[38;5;241m=\u001b[39m \u001b[38;5;28mtype\u001b[39m(\u001b[38;5;28mself\u001b[39m\u001b[38;5;241m.\u001b[39mestimator)(criterion\u001b[38;5;241m=\u001b[39m\u001b[38;5;28mself\u001b[39m\u001b[38;5;241m.\u001b[39mcriterion)\n",
      "File \u001b[1;32md:\\data_analysis\\speech_emotion_recognition\\.venv\\Lib\\site-packages\\sklearn\\base.py:650\u001b[0m, in \u001b[0;36mBaseEstimator._validate_data\u001b[1;34m(self, X, y, reset, validate_separately, cast_to_ndarray, **check_params)\u001b[0m\n\u001b[0;32m    648\u001b[0m         y \u001b[38;5;241m=\u001b[39m check_array(y, input_name\u001b[38;5;241m=\u001b[39m\u001b[38;5;124m\"\u001b[39m\u001b[38;5;124my\u001b[39m\u001b[38;5;124m\"\u001b[39m, \u001b[38;5;241m*\u001b[39m\u001b[38;5;241m*\u001b[39mcheck_y_params)\n\u001b[0;32m    649\u001b[0m     \u001b[38;5;28;01melse\u001b[39;00m:\n\u001b[1;32m--> 650\u001b[0m         X, y \u001b[38;5;241m=\u001b[39m \u001b[43mcheck_X_y\u001b[49m\u001b[43m(\u001b[49m\u001b[43mX\u001b[49m\u001b[43m,\u001b[49m\u001b[43m \u001b[49m\u001b[43my\u001b[49m\u001b[43m,\u001b[49m\u001b[43m \u001b[49m\u001b[38;5;241;43m*\u001b[39;49m\u001b[38;5;241;43m*\u001b[39;49m\u001b[43mcheck_params\u001b[49m\u001b[43m)\u001b[49m\n\u001b[0;32m    651\u001b[0m     out \u001b[38;5;241m=\u001b[39m X, y\n\u001b[0;32m    653\u001b[0m \u001b[38;5;28;01mif\u001b[39;00m \u001b[38;5;129;01mnot\u001b[39;00m no_val_X \u001b[38;5;129;01mand\u001b[39;00m check_params\u001b[38;5;241m.\u001b[39mget(\u001b[38;5;124m\"\u001b[39m\u001b[38;5;124mensure_2d\u001b[39m\u001b[38;5;124m\"\u001b[39m, \u001b[38;5;28;01mTrue\u001b[39;00m):\n",
      "File \u001b[1;32md:\\data_analysis\\speech_emotion_recognition\\.venv\\Lib\\site-packages\\sklearn\\utils\\validation.py:1263\u001b[0m, in \u001b[0;36mcheck_X_y\u001b[1;34m(X, y, accept_sparse, accept_large_sparse, dtype, order, copy, force_all_finite, ensure_2d, allow_nd, multi_output, ensure_min_samples, ensure_min_features, y_numeric, estimator)\u001b[0m\n\u001b[0;32m   1258\u001b[0m         estimator_name \u001b[38;5;241m=\u001b[39m _check_estimator_name(estimator)\n\u001b[0;32m   1259\u001b[0m     \u001b[38;5;28;01mraise\u001b[39;00m \u001b[38;5;167;01mValueError\u001b[39;00m(\n\u001b[0;32m   1260\u001b[0m         \u001b[38;5;124mf\u001b[39m\u001b[38;5;124m\"\u001b[39m\u001b[38;5;132;01m{\u001b[39;00mestimator_name\u001b[38;5;132;01m}\u001b[39;00m\u001b[38;5;124m requires y to be passed, but the target y is None\u001b[39m\u001b[38;5;124m\"\u001b[39m\n\u001b[0;32m   1261\u001b[0m     )\n\u001b[1;32m-> 1263\u001b[0m X \u001b[38;5;241m=\u001b[39m \u001b[43mcheck_array\u001b[49m\u001b[43m(\u001b[49m\n\u001b[0;32m   1264\u001b[0m \u001b[43m    \u001b[49m\u001b[43mX\u001b[49m\u001b[43m,\u001b[49m\n\u001b[0;32m   1265\u001b[0m \u001b[43m    \u001b[49m\u001b[43maccept_sparse\u001b[49m\u001b[38;5;241;43m=\u001b[39;49m\u001b[43maccept_sparse\u001b[49m\u001b[43m,\u001b[49m\n\u001b[0;32m   1266\u001b[0m \u001b[43m    \u001b[49m\u001b[43maccept_large_sparse\u001b[49m\u001b[38;5;241;43m=\u001b[39;49m\u001b[43maccept_large_sparse\u001b[49m\u001b[43m,\u001b[49m\n\u001b[0;32m   1267\u001b[0m \u001b[43m    \u001b[49m\u001b[43mdtype\u001b[49m\u001b[38;5;241;43m=\u001b[39;49m\u001b[43mdtype\u001b[49m\u001b[43m,\u001b[49m\n\u001b[0;32m   1268\u001b[0m \u001b[43m    \u001b[49m\u001b[43morder\u001b[49m\u001b[38;5;241;43m=\u001b[39;49m\u001b[43morder\u001b[49m\u001b[43m,\u001b[49m\n\u001b[0;32m   1269\u001b[0m \u001b[43m    \u001b[49m\u001b[43mcopy\u001b[49m\u001b[38;5;241;43m=\u001b[39;49m\u001b[43mcopy\u001b[49m\u001b[43m,\u001b[49m\n\u001b[0;32m   1270\u001b[0m \u001b[43m    \u001b[49m\u001b[43mforce_all_finite\u001b[49m\u001b[38;5;241;43m=\u001b[39;49m\u001b[43mforce_all_finite\u001b[49m\u001b[43m,\u001b[49m\n\u001b[0;32m   1271\u001b[0m \u001b[43m    \u001b[49m\u001b[43mensure_2d\u001b[49m\u001b[38;5;241;43m=\u001b[39;49m\u001b[43mensure_2d\u001b[49m\u001b[43m,\u001b[49m\n\u001b[0;32m   1272\u001b[0m \u001b[43m    \u001b[49m\u001b[43mallow_nd\u001b[49m\u001b[38;5;241;43m=\u001b[39;49m\u001b[43mallow_nd\u001b[49m\u001b[43m,\u001b[49m\n\u001b[0;32m   1273\u001b[0m \u001b[43m    \u001b[49m\u001b[43mensure_min_samples\u001b[49m\u001b[38;5;241;43m=\u001b[39;49m\u001b[43mensure_min_samples\u001b[49m\u001b[43m,\u001b[49m\n\u001b[0;32m   1274\u001b[0m \u001b[43m    \u001b[49m\u001b[43mensure_min_features\u001b[49m\u001b[38;5;241;43m=\u001b[39;49m\u001b[43mensure_min_features\u001b[49m\u001b[43m,\u001b[49m\n\u001b[0;32m   1275\u001b[0m \u001b[43m    \u001b[49m\u001b[43mestimator\u001b[49m\u001b[38;5;241;43m=\u001b[39;49m\u001b[43mestimator\u001b[49m\u001b[43m,\u001b[49m\n\u001b[0;32m   1276\u001b[0m \u001b[43m    \u001b[49m\u001b[43minput_name\u001b[49m\u001b[38;5;241;43m=\u001b[39;49m\u001b[38;5;124;43m\"\u001b[39;49m\u001b[38;5;124;43mX\u001b[39;49m\u001b[38;5;124;43m\"\u001b[39;49m\u001b[43m,\u001b[49m\n\u001b[0;32m   1277\u001b[0m \u001b[43m\u001b[49m\u001b[43m)\u001b[49m\n\u001b[0;32m   1279\u001b[0m y \u001b[38;5;241m=\u001b[39m _check_y(y, multi_output\u001b[38;5;241m=\u001b[39mmulti_output, y_numeric\u001b[38;5;241m=\u001b[39my_numeric, estimator\u001b[38;5;241m=\u001b[39mestimator)\n\u001b[0;32m   1281\u001b[0m check_consistent_length(X, y)\n",
      "File \u001b[1;32md:\\data_analysis\\speech_emotion_recognition\\.venv\\Lib\\site-packages\\sklearn\\utils\\validation.py:879\u001b[0m, in \u001b[0;36mcheck_array\u001b[1;34m(array, accept_sparse, accept_large_sparse, dtype, order, copy, force_all_finite, ensure_2d, allow_nd, ensure_min_samples, ensure_min_features, estimator, input_name)\u001b[0m\n\u001b[0;32m    875\u001b[0m pandas_requires_conversion \u001b[38;5;241m=\u001b[39m \u001b[38;5;28many\u001b[39m(\n\u001b[0;32m    876\u001b[0m     _pandas_dtype_needs_early_conversion(i) \u001b[38;5;28;01mfor\u001b[39;00m i \u001b[38;5;129;01min\u001b[39;00m dtypes_orig\n\u001b[0;32m    877\u001b[0m )\n\u001b[0;32m    878\u001b[0m \u001b[38;5;28;01mif\u001b[39;00m \u001b[38;5;28mall\u001b[39m(\u001b[38;5;28misinstance\u001b[39m(dtype_iter, np\u001b[38;5;241m.\u001b[39mdtype) \u001b[38;5;28;01mfor\u001b[39;00m dtype_iter \u001b[38;5;129;01min\u001b[39;00m dtypes_orig):\n\u001b[1;32m--> 879\u001b[0m     dtype_orig \u001b[38;5;241m=\u001b[39m \u001b[43mnp\u001b[49m\u001b[38;5;241;43m.\u001b[39;49m\u001b[43mresult_type\u001b[49m\u001b[43m(\u001b[49m\u001b[38;5;241;43m*\u001b[39;49m\u001b[43mdtypes_orig\u001b[49m\u001b[43m)\u001b[49m\n\u001b[0;32m    880\u001b[0m \u001b[38;5;28;01melif\u001b[39;00m pandas_requires_conversion \u001b[38;5;129;01mand\u001b[39;00m \u001b[38;5;28many\u001b[39m(d \u001b[38;5;241m==\u001b[39m \u001b[38;5;28mobject\u001b[39m \u001b[38;5;28;01mfor\u001b[39;00m d \u001b[38;5;129;01min\u001b[39;00m dtypes_orig):\n\u001b[0;32m    881\u001b[0m     \u001b[38;5;66;03m# Force object if any of the dtypes is an object\u001b[39;00m\n\u001b[0;32m    882\u001b[0m     dtype_orig \u001b[38;5;241m=\u001b[39m \u001b[38;5;28mobject\u001b[39m\n",
      "\u001b[1;31mValueError\u001b[0m: at least one array or dtype is required"
     ]
    }
   ],
   "source": [
    "process_data(256, 128, 0.0005, 'D:/data_analysis/speech_emotion_recognition/data/EnglishDataset/combined_data', 'D:/data_analysis/speech_emotion_recognition/data/EnglishDataset/cleaned_data0', [13,20,26,40], 'D:/data_analysis/speech_emotion_recognition/notebooks/feature2.csv', 100, 'D:/data_analysis/speech_emotion_recognition/data/EnglishDataset/images', ['mfcc','mfcc_statistics', 'zcr', 'pitch', 'rms'])"
   ]
  }
 ],
 "metadata": {
  "kernelspec": {
   "display_name": ".venv",
   "language": "python",
   "name": "python3"
  },
  "language_info": {
   "codemirror_mode": {
    "name": "ipython",
    "version": 3
   },
   "file_extension": ".py",
   "mimetype": "text/x-python",
   "name": "python",
   "nbconvert_exporter": "python",
   "pygments_lexer": "ipython3",
   "version": "3.11.9"
  }
 },
 "nbformat": 4,
 "nbformat_minor": 2
}
