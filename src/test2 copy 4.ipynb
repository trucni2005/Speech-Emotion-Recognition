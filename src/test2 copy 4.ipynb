{
 "cells": [
  {
   "cell_type": "code",
   "execution_count": 1,
   "metadata": {},
   "outputs": [],
   "source": [
    "from audio_preprocessing.cut_audio_segment_from_audio_file import AudioProcessor\n",
    "from feature_extraction.feature_extractor import FeatureExtractor\n",
    "from feature_extraction.mfcc_images_extractor import MelSpectrogramImageExtractor\n",
    "from data_processing.english_data_processing import ModelEvaluator\n",
    "from itertools import combinations\n",
    "from sklearn.ensemble import ExtraTreesClassifier\n",
    "from sklearn.ensemble import RandomForestClassifier\n",
    "import pandas as pd"
   ]
  },
  {
   "cell_type": "code",
   "execution_count": 2,
   "metadata": {},
   "outputs": [],
   "source": [
    "def extract_mfcc_images(n_mfcc, figsize, input_folder, output_folder):\n",
    "    mfccImageExtractor = MelSpectrogramImageExtractor(n_mfcc, figsize)\n",
    "    mfccImageExtractor.extract_from_folders(input_folder, output_folder)"
   ]
  },
  {
   "cell_type": "code",
   "execution_count": 3,
   "metadata": {},
   "outputs": [],
   "source": [
    "def cut_audio_segment_from_audio_file(frame_size, hop_size, threshold, input_folder, output_folder):\n",
    "    segmentation = AudioProcessor(frame_size, hop_size, threshold)\n",
    "    segmentation.process_folders(input_folder, output_folder)"
   ]
  },
  {
   "cell_type": "code",
   "execution_count": 4,
   "metadata": {},
   "outputs": [],
   "source": [
    "def extract_feature(n_mfcc, input_folder, output_folder, selected_features):\n",
    "    featureExtractor = FeatureExtractor(n_mfcc)\n",
    "    featureExtractor.process_folder(input_folder, output_folder, selected_features)\n",
    "    # featureExtractor.process_folder(input_folder, output_folder, ['mfcc','mfcc_statistics', 'zcr', 'pitch', 'rms'])"
   ]
  },
  {
   "cell_type": "code",
   "execution_count": 5,
   "metadata": {},
   "outputs": [],
   "source": [
    "def model(featured_data):\n",
    "    models = [RandomForestClassifier, ExtraTreesClassifier]\n",
    "    \n",
    "    df_train_test = pd.read_csv(featured_data)\n",
    "    df_shuffled = df_train_test.sample(frac=1, random_state=42).reset_index(drop=True)\n",
    "\n",
    "    modelEvaluator = ModelEvaluator(models)\n",
    "    best_model, best_scaler, best_avg_acc = modelEvaluator.evaluate_models(df_shuffled)\n",
    "    return best_model, best_scaler, best_avg_acc"
   ]
  },
  {
   "cell_type": "code",
   "execution_count": 6,
   "metadata": {},
   "outputs": [],
   "source": [
    "def process_data(frame_size, hop_size, threshold, raw_folder, cutted_folder, n_mfcc_list, featured_data_path, n_mfcc_for_images, images_folder, features):\n",
    "    cut_audio_segment_from_audio_file(frame_size, hop_size, threshold, raw_folder, cutted_folder)\n",
    "    n = len(features)\n",
    "\n",
    "    results = []\n",
    "\n",
    "    for n_mfcc in n_mfcc_list:\n",
    "        for r in range(0, n + 1):\n",
    "            for combo in combinations(range(n), r):\n",
    "                selected_features = [features[i] for i in range(n) if i not in combo]\n",
    "                extract_feature(n_mfcc, cutted_folder, featured_data_path, selected_features)\n",
    "                current_model, current_scaler, current_avg_acc = model(featured_data_path)\n",
    "                print(f\"Scaler: {current_scaler}, Model: {current_model}, n_mfcc: {n_mfcc}, Selected features: {selected_features}, Accuracy: {current_avg_acc}\")\n",
    "                results.append({'Scaler': current_scaler, 'Model': current_model, 'N_MFCC': n_mfcc, 'Selected Features': selected_features, 'Average Accuracy': current_avg_acc})\n",
    "\n",
    "    results_df = pd.DataFrame(results)\n",
    "    ranked_results = results_df.sort_values(by='Average Accuracy', ascending=False)\n",
    "\n",
    "    return ranked_results"
   ]
  },
  {
   "cell_type": "code",
   "execution_count": 7,
   "metadata": {},
   "outputs": [
    {
     "name": "stderr",
     "output_type": "stream",
     "text": [
      "d:\\data_analysis\\speech_emotion_recognition\\src\\audio_preprocessing\\utils\\audio_utils.py:79: RuntimeWarning: invalid value encountered in divide\n",
      "  return ste / np.max(ste)\n",
      "\u001b[32m2024-05-22 15:11:13.167\u001b[0m | \u001b[1mINFO    \u001b[0m | \u001b[36mfeature_extraction.feature_extractor\u001b[0m:\u001b[36mprocess_folder\u001b[0m:\u001b[36m148\u001b[0m - \u001b[1mProcessing input folder: D:/data_analysis/speech_emotion_recognition/data/EnglishDataset/cleaned_data3\u001b[0m\n",
      "\u001b[32m2024-05-22 15:13:58.017\u001b[0m | \u001b[1mINFO    \u001b[0m | \u001b[36mfeature_extraction.feature_extractor\u001b[0m:\u001b[36mprocess_folder\u001b[0m:\u001b[36m158\u001b[0m - \u001b[1mFeature extraction completed. Data saved to: D:/data_analysis/speech_emotion_recognition/notebooks/feature4.csv\u001b[0m\n",
      "\u001b[32m2024-05-22 15:13:58.120\u001b[0m | \u001b[1mINFO    \u001b[0m | \u001b[36mdata_processing.english_data_processing\u001b[0m:\u001b[36mevaluate_models\u001b[0m:\u001b[36m53\u001b[0m - \u001b[1mFinding best model....\u001b[0m\n",
      "\u001b[32m2024-05-22 15:15:11.932\u001b[0m | \u001b[1mINFO    \u001b[0m | \u001b[36mdata_processing.english_data_processing\u001b[0m:\u001b[36mevaluate_models\u001b[0m:\u001b[36m74\u001b[0m - \u001b[1mModel <class 'sklearn.ensemble._forest.RandomForestClassifier'> - scaler: None, accuracy: 0.6136714781279886\u001b[0m\n",
      "\u001b[32m2024-05-22 15:15:28.667\u001b[0m | \u001b[1mINFO    \u001b[0m | \u001b[36mdata_processing.english_data_processing\u001b[0m:\u001b[36mevaluate_models\u001b[0m:\u001b[36m74\u001b[0m - \u001b[1mModel <class 'sklearn.ensemble._forest.ExtraTreesClassifier'> - scaler: None, accuracy: 0.6118509789492352\u001b[0m\n",
      "\u001b[32m2024-05-22 15:16:42.946\u001b[0m | \u001b[1mINFO    \u001b[0m | \u001b[36mdata_processing.english_data_processing\u001b[0m:\u001b[36mevaluate_models\u001b[0m:\u001b[36m74\u001b[0m - \u001b[1mModel <class 'sklearn.ensemble._forest.RandomForestClassifier'> - scaler: StandardScaler(), accuracy: 0.6156744581512253\u001b[0m\n",
      "\u001b[32m2024-05-22 15:16:59.953\u001b[0m | \u001b[1mINFO    \u001b[0m | \u001b[36mdata_processing.english_data_processing\u001b[0m:\u001b[36mevaluate_models\u001b[0m:\u001b[36m74\u001b[0m - \u001b[1mModel <class 'sklearn.ensemble._forest.ExtraTreesClassifier'> - scaler: StandardScaler(), accuracy: 0.6165832989420751\u001b[0m\n",
      "\u001b[32m2024-05-22 15:18:10.414\u001b[0m | \u001b[1mINFO    \u001b[0m | \u001b[36mdata_processing.english_data_processing\u001b[0m:\u001b[36mevaluate_models\u001b[0m:\u001b[36m74\u001b[0m - \u001b[1mModel <class 'sklearn.ensemble._forest.RandomForestClassifier'> - scaler: MinMaxScaler(), accuracy: 0.6128520546083458\u001b[0m\n",
      "\u001b[32m2024-05-22 15:18:24.457\u001b[0m | \u001b[1mINFO    \u001b[0m | \u001b[36mdata_processing.english_data_processing\u001b[0m:\u001b[36mevaluate_models\u001b[0m:\u001b[36m74\u001b[0m - \u001b[1mModel <class 'sklearn.ensemble._forest.ExtraTreesClassifier'> - scaler: MinMaxScaler(), accuracy: 0.6174926369559344\u001b[0m\n",
      "\u001b[32m2024-05-22 15:19:28.344\u001b[0m | \u001b[1mINFO    \u001b[0m | \u001b[36mdata_processing.english_data_processing\u001b[0m:\u001b[36mevaluate_models\u001b[0m:\u001b[36m74\u001b[0m - \u001b[1mModel <class 'sklearn.ensemble._forest.RandomForestClassifier'> - scaler: MaxAbsScaler(), accuracy: 0.6198600814451289\u001b[0m\n",
      "\u001b[32m2024-05-22 15:19:44.393\u001b[0m | \u001b[1mINFO    \u001b[0m | \u001b[36mdata_processing.english_data_processing\u001b[0m:\u001b[36mevaluate_models\u001b[0m:\u001b[36m74\u001b[0m - \u001b[1mModel <class 'sklearn.ensemble._forest.ExtraTreesClassifier'> - scaler: MaxAbsScaler(), accuracy: 0.6156728836116954\u001b[0m\n",
      "\u001b[32m2024-05-22 15:20:55.056\u001b[0m | \u001b[1mINFO    \u001b[0m | \u001b[36mdata_processing.english_data_processing\u001b[0m:\u001b[36mevaluate_models\u001b[0m:\u001b[36m74\u001b[0m - \u001b[1mModel <class 'sklearn.ensemble._forest.RandomForestClassifier'> - scaler: RobustScaler(), accuracy: 0.6129430464190827\u001b[0m\n",
      "\u001b[32m2024-05-22 15:21:09.207\u001b[0m | \u001b[1mINFO    \u001b[0m | \u001b[36mdata_processing.english_data_processing\u001b[0m:\u001b[36mevaluate_models\u001b[0m:\u001b[36m74\u001b[0m - \u001b[1mModel <class 'sklearn.ensemble._forest.ExtraTreesClassifier'> - scaler: RobustScaler(), accuracy: 0.6179495849016575\u001b[0m\n",
      "\u001b[32m2024-05-22 15:22:09.591\u001b[0m | \u001b[1mINFO    \u001b[0m | \u001b[36mdata_processing.english_data_processing\u001b[0m:\u001b[36mevaluate_models\u001b[0m:\u001b[36m74\u001b[0m - \u001b[1mModel <class 'sklearn.ensemble._forest.RandomForestClassifier'> - scaler: Normalizer(), accuracy: 0.5897338365230189\u001b[0m\n",
      "\u001b[32m2024-05-22 15:22:23.923\u001b[0m | \u001b[1mINFO    \u001b[0m | \u001b[36mdata_processing.english_data_processing\u001b[0m:\u001b[36mevaluate_models\u001b[0m:\u001b[36m74\u001b[0m - \u001b[1mModel <class 'sklearn.ensemble._forest.ExtraTreesClassifier'> - scaler: Normalizer(), accuracy: 0.5923743393149261\u001b[0m\n",
      "\u001b[32m2024-05-22 15:22:23.924\u001b[0m | \u001b[1mINFO    \u001b[0m | \u001b[36mdata_processing.english_data_processing\u001b[0m:\u001b[36mevaluate_models\u001b[0m:\u001b[36m82\u001b[0m - \u001b[1mBest Model: <class 'sklearn.ensemble._forest.RandomForestClassifier'>\u001b[0m\n",
      "\u001b[32m2024-05-22 15:22:23.924\u001b[0m | \u001b[1mINFO    \u001b[0m | \u001b[36mdata_processing.english_data_processing\u001b[0m:\u001b[36mevaluate_models\u001b[0m:\u001b[36m83\u001b[0m - \u001b[1mBest Scaler: MaxAbsScaler\u001b[0m\n",
      "\u001b[32m2024-05-22 15:22:23.925\u001b[0m | \u001b[1mINFO    \u001b[0m | \u001b[36mdata_processing.english_data_processing\u001b[0m:\u001b[36mevaluate_models\u001b[0m:\u001b[36m84\u001b[0m - \u001b[1mBest Average Accuracy: 0.6198600814451289\u001b[0m\n",
      "\u001b[32m2024-05-22 15:22:23.927\u001b[0m | \u001b[1mINFO    \u001b[0m | \u001b[36mfeature_extraction.feature_extractor\u001b[0m:\u001b[36mprocess_folder\u001b[0m:\u001b[36m148\u001b[0m - \u001b[1mProcessing input folder: D:/data_analysis/speech_emotion_recognition/data/EnglishDataset/cleaned_data3\u001b[0m\n"
     ]
    },
    {
     "name": "stdout",
     "output_type": "stream",
     "text": [
      "Scaler: MaxAbsScaler, Model: <class 'sklearn.ensemble._forest.RandomForestClassifier'>, n_mfcc: 13, Selected features: ['mfcc', 'mfcc_statistics', 'zcr', 'pitch', 'rms'], Accuracy: 0.6198600814451289\n"
     ]
    },
    {
     "name": "stderr",
     "output_type": "stream",
     "text": [
      "\u001b[32m2024-05-22 15:23:42.566\u001b[0m | \u001b[1mINFO    \u001b[0m | \u001b[36mfeature_extraction.feature_extractor\u001b[0m:\u001b[36mprocess_folder\u001b[0m:\u001b[36m158\u001b[0m - \u001b[1mFeature extraction completed. Data saved to: D:/data_analysis/speech_emotion_recognition/notebooks/feature4.csv\u001b[0m\n",
      "\u001b[32m2024-05-22 15:23:42.650\u001b[0m | \u001b[1mINFO    \u001b[0m | \u001b[36mdata_processing.english_data_processing\u001b[0m:\u001b[36mevaluate_models\u001b[0m:\u001b[36m53\u001b[0m - \u001b[1mFinding best model....\u001b[0m\n",
      "\u001b[32m2024-05-22 15:24:39.230\u001b[0m | \u001b[1mINFO    \u001b[0m | \u001b[36mdata_processing.english_data_processing\u001b[0m:\u001b[36mevaluate_models\u001b[0m:\u001b[36m74\u001b[0m - \u001b[1mModel <class 'sklearn.ensemble._forest.RandomForestClassifier'> - scaler: None, accuracy: 0.6107583313858767\u001b[0m\n",
      "\u001b[32m2024-05-22 15:24:52.512\u001b[0m | \u001b[1mINFO    \u001b[0m | \u001b[36mdata_processing.english_data_processing\u001b[0m:\u001b[36mevaluate_models\u001b[0m:\u001b[36m74\u001b[0m - \u001b[1mModel <class 'sklearn.ensemble._forest.ExtraTreesClassifier'> - scaler: None, accuracy: 0.618128916667081\u001b[0m\n",
      "\u001b[32m2024-05-22 15:25:57.241\u001b[0m | \u001b[1mINFO    \u001b[0m | \u001b[36mdata_processing.english_data_processing\u001b[0m:\u001b[36mevaluate_models\u001b[0m:\u001b[36m74\u001b[0m - \u001b[1mModel <class 'sklearn.ensemble._forest.RandomForestClassifier'> - scaler: StandardScaler(), accuracy: 0.6129437922535971\u001b[0m\n",
      "\u001b[32m2024-05-22 15:26:11.545\u001b[0m | \u001b[1mINFO    \u001b[0m | \u001b[36mdata_processing.english_data_processing\u001b[0m:\u001b[36mevaluate_models\u001b[0m:\u001b[36m74\u001b[0m - \u001b[1mModel <class 'sklearn.ensemble._forest.ExtraTreesClassifier'> - scaler: StandardScaler(), accuracy: 0.615127347099781\u001b[0m\n",
      "\u001b[32m2024-05-22 15:27:12.307\u001b[0m | \u001b[1mINFO    \u001b[0m | \u001b[36mdata_processing.english_data_processing\u001b[0m:\u001b[36mevaluate_models\u001b[0m:\u001b[36m74\u001b[0m - \u001b[1mModel <class 'sklearn.ensemble._forest.RandomForestClassifier'> - scaler: MinMaxScaler(), accuracy: 0.6117597385269935\u001b[0m\n",
      "\u001b[32m2024-05-22 15:27:26.228\u001b[0m | \u001b[1mINFO    \u001b[0m | \u001b[36mdata_processing.english_data_processing\u001b[0m:\u001b[36mevaluate_models\u001b[0m:\u001b[36m74\u001b[0m - \u001b[1mModel <class 'sklearn.ensemble._forest.ExtraTreesClassifier'> - scaler: MinMaxScaler(), accuracy: 0.6134875884849781\u001b[0m\n",
      "\u001b[32m2024-05-22 15:28:25.228\u001b[0m | \u001b[1mINFO    \u001b[0m | \u001b[36mdata_processing.english_data_processing\u001b[0m:\u001b[36mevaluate_models\u001b[0m:\u001b[36m74\u001b[0m - \u001b[1mModel <class 'sklearn.ensemble._forest.RandomForestClassifier'> - scaler: MaxAbsScaler(), accuracy: 0.615491148601726\u001b[0m\n",
      "\u001b[32m2024-05-22 15:28:39.257\u001b[0m | \u001b[1mINFO    \u001b[0m | \u001b[36mdata_processing.english_data_processing\u001b[0m:\u001b[36mevaluate_models\u001b[0m:\u001b[36m74\u001b[0m - \u001b[1mModel <class 'sklearn.ensemble._forest.ExtraTreesClassifier'> - scaler: MaxAbsScaler(), accuracy: 0.6123063523554283\u001b[0m\n",
      "\u001b[32m2024-05-22 15:29:40.006\u001b[0m | \u001b[1mINFO    \u001b[0m | \u001b[36mdata_processing.english_data_processing\u001b[0m:\u001b[36mevaluate_models\u001b[0m:\u001b[36m74\u001b[0m - \u001b[1mModel <class 'sklearn.ensemble._forest.RandomForestClassifier'> - scaler: RobustScaler(), accuracy: 0.6120333769232171\u001b[0m\n",
      "\u001b[32m2024-05-22 15:29:53.169\u001b[0m | \u001b[1mINFO    \u001b[0m | \u001b[36mdata_processing.english_data_processing\u001b[0m:\u001b[36mevaluate_models\u001b[0m:\u001b[36m74\u001b[0m - \u001b[1mModel <class 'sklearn.ensemble._forest.ExtraTreesClassifier'> - scaler: RobustScaler(), accuracy: 0.6151264355242636\u001b[0m\n",
      "\u001b[32m2024-05-22 15:30:48.429\u001b[0m | \u001b[1mINFO    \u001b[0m | \u001b[36mdata_processing.english_data_processing\u001b[0m:\u001b[36mevaluate_models\u001b[0m:\u001b[36m74\u001b[0m - \u001b[1mModel <class 'sklearn.ensemble._forest.RandomForestClassifier'> - scaler: Normalizer(), accuracy: 0.5885517716884533\u001b[0m\n",
      "\u001b[32m2024-05-22 15:31:02.889\u001b[0m | \u001b[1mINFO    \u001b[0m | \u001b[36mdata_processing.english_data_processing\u001b[0m:\u001b[36mevaluate_models\u001b[0m:\u001b[36m74\u001b[0m - \u001b[1mModel <class 'sklearn.ensemble._forest.ExtraTreesClassifier'> - scaler: Normalizer(), accuracy: 0.5914640068550479\u001b[0m\n",
      "\u001b[32m2024-05-22 15:31:02.890\u001b[0m | \u001b[1mINFO    \u001b[0m | \u001b[36mdata_processing.english_data_processing\u001b[0m:\u001b[36mevaluate_models\u001b[0m:\u001b[36m82\u001b[0m - \u001b[1mBest Model: <class 'sklearn.ensemble._forest.ExtraTreesClassifier'>\u001b[0m\n",
      "\u001b[32m2024-05-22 15:31:02.891\u001b[0m | \u001b[1mINFO    \u001b[0m | \u001b[36mdata_processing.english_data_processing\u001b[0m:\u001b[36mevaluate_models\u001b[0m:\u001b[36m83\u001b[0m - \u001b[1mBest Scaler: None\u001b[0m\n",
      "\u001b[32m2024-05-22 15:31:02.891\u001b[0m | \u001b[1mINFO    \u001b[0m | \u001b[36mdata_processing.english_data_processing\u001b[0m:\u001b[36mevaluate_models\u001b[0m:\u001b[36m84\u001b[0m - \u001b[1mBest Average Accuracy: 0.618128916667081\u001b[0m\n",
      "\u001b[32m2024-05-22 15:31:02.894\u001b[0m | \u001b[1mINFO    \u001b[0m | \u001b[36mfeature_extraction.feature_extractor\u001b[0m:\u001b[36mprocess_folder\u001b[0m:\u001b[36m148\u001b[0m - \u001b[1mProcessing input folder: D:/data_analysis/speech_emotion_recognition/data/EnglishDataset/cleaned_data3\u001b[0m\n"
     ]
    },
    {
     "name": "stdout",
     "output_type": "stream",
     "text": [
      "Scaler: None, Model: <class 'sklearn.ensemble._forest.ExtraTreesClassifier'>, n_mfcc: 13, Selected features: ['mfcc_statistics', 'zcr', 'pitch', 'rms'], Accuracy: 0.618128916667081\n"
     ]
    },
    {
     "name": "stderr",
     "output_type": "stream",
     "text": [
      "\u001b[32m2024-05-22 15:32:34.102\u001b[0m | \u001b[1mINFO    \u001b[0m | \u001b[36mfeature_extraction.feature_extractor\u001b[0m:\u001b[36mprocess_folder\u001b[0m:\u001b[36m158\u001b[0m - \u001b[1mFeature extraction completed. Data saved to: D:/data_analysis/speech_emotion_recognition/notebooks/feature4.csv\u001b[0m\n",
      "\u001b[32m2024-05-22 15:32:34.134\u001b[0m | \u001b[1mINFO    \u001b[0m | \u001b[36mdata_processing.english_data_processing\u001b[0m:\u001b[36mevaluate_models\u001b[0m:\u001b[36m53\u001b[0m - \u001b[1mFinding best model....\u001b[0m\n",
      "\u001b[32m2024-05-22 15:33:02.279\u001b[0m | \u001b[1mINFO    \u001b[0m | \u001b[36mdata_processing.english_data_processing\u001b[0m:\u001b[36mevaluate_models\u001b[0m:\u001b[36m74\u001b[0m - \u001b[1mModel <class 'sklearn.ensemble._forest.RandomForestClassifier'> - scaler: None, accuracy: 0.5910089649308612\u001b[0m\n",
      "\u001b[32m2024-05-22 15:33:11.027\u001b[0m | \u001b[1mINFO    \u001b[0m | \u001b[36mdata_processing.english_data_processing\u001b[0m:\u001b[36mevaluate_models\u001b[0m:\u001b[36m74\u001b[0m - \u001b[1mModel <class 'sklearn.ensemble._forest.ExtraTreesClassifier'> - scaler: None, accuracy: 0.5961060808716652\u001b[0m\n",
      "\u001b[32m2024-05-22 15:33:39.622\u001b[0m | \u001b[1mINFO    \u001b[0m | \u001b[36mdata_processing.english_data_processing\u001b[0m:\u001b[36mevaluate_models\u001b[0m:\u001b[36m74\u001b[0m - \u001b[1mModel <class 'sklearn.ensemble._forest.RandomForestClassifier'> - scaler: StandardScaler(), accuracy: 0.5911911971638399\u001b[0m\n",
      "\u001b[32m2024-05-22 15:33:48.417\u001b[0m | \u001b[1mINFO    \u001b[0m | \u001b[36mdata_processing.english_data_processing\u001b[0m:\u001b[36mevaluate_models\u001b[0m:\u001b[36m74\u001b[0m - \u001b[1mModel <class 'sklearn.ensemble._forest.ExtraTreesClassifier'> - scaler: StandardScaler(), accuracy: 0.5909196305301558\u001b[0m\n",
      "\u001b[32m2024-05-22 15:34:17.305\u001b[0m | \u001b[1mINFO    \u001b[0m | \u001b[36mdata_processing.english_data_processing\u001b[0m:\u001b[36mevaluate_models\u001b[0m:\u001b[36m74\u001b[0m - \u001b[1mModel <class 'sklearn.ensemble._forest.RandomForestClassifier'> - scaler: MinMaxScaler(), accuracy: 0.5895537589230813\u001b[0m\n",
      "\u001b[32m2024-05-22 15:34:26.386\u001b[0m | \u001b[1mINFO    \u001b[0m | \u001b[36mdata_processing.english_data_processing\u001b[0m:\u001b[36mevaluate_models\u001b[0m:\u001b[36m74\u001b[0m - \u001b[1mModel <class 'sklearn.ensemble._forest.ExtraTreesClassifier'> - scaler: MinMaxScaler(), accuracy: 0.5879154919773067\u001b[0m\n",
      "\u001b[32m2024-05-22 15:34:56.335\u001b[0m | \u001b[1mINFO    \u001b[0m | \u001b[36mdata_processing.english_data_processing\u001b[0m:\u001b[36mevaluate_models\u001b[0m:\u001b[36m74\u001b[0m - \u001b[1mModel <class 'sklearn.ensemble._forest.RandomForestClassifier'> - scaler: MaxAbsScaler(), accuracy: 0.58891723060043\u001b[0m\n",
      "\u001b[32m2024-05-22 15:35:06.031\u001b[0m | \u001b[1mINFO    \u001b[0m | \u001b[36mdata_processing.english_data_processing\u001b[0m:\u001b[36mevaluate_models\u001b[0m:\u001b[36m74\u001b[0m - \u001b[1mModel <class 'sklearn.ensemble._forest.ExtraTreesClassifier'> - scaler: MaxAbsScaler(), accuracy: 0.5931035168583462\u001b[0m\n",
      "\u001b[32m2024-05-22 15:35:37.016\u001b[0m | \u001b[1mINFO    \u001b[0m | \u001b[36mdata_processing.english_data_processing\u001b[0m:\u001b[36mevaluate_models\u001b[0m:\u001b[36m74\u001b[0m - \u001b[1mModel <class 'sklearn.ensemble._forest.RandomForestClassifier'> - scaler: RobustScaler(), accuracy: 0.5912835149026023\u001b[0m\n",
      "\u001b[32m2024-05-22 15:35:46.876\u001b[0m | \u001b[1mINFO    \u001b[0m | \u001b[36mdata_processing.english_data_processing\u001b[0m:\u001b[36mevaluate_models\u001b[0m:\u001b[36m74\u001b[0m - \u001b[1mModel <class 'sklearn.ensemble._forest.ExtraTreesClassifier'> - scaler: RobustScaler(), accuracy: 0.5895530959590687\u001b[0m\n",
      "\u001b[32m2024-05-22 15:36:16.662\u001b[0m | \u001b[1mINFO    \u001b[0m | \u001b[36mdata_processing.english_data_processing\u001b[0m:\u001b[36mevaluate_models\u001b[0m:\u001b[36m74\u001b[0m - \u001b[1mModel <class 'sklearn.ensemble._forest.RandomForestClassifier'> - scaler: Normalizer(), accuracy: 0.5879157405888115\u001b[0m\n",
      "\u001b[32m2024-05-22 15:36:26.406\u001b[0m | \u001b[1mINFO    \u001b[0m | \u001b[36mdata_processing.english_data_processing\u001b[0m:\u001b[36mevaluate_models\u001b[0m:\u001b[36m74\u001b[0m - \u001b[1mModel <class 'sklearn.ensemble._forest.ExtraTreesClassifier'> - scaler: Normalizer(), accuracy: 0.5918274768749866\u001b[0m\n",
      "\u001b[32m2024-05-22 15:36:26.407\u001b[0m | \u001b[1mINFO    \u001b[0m | \u001b[36mdata_processing.english_data_processing\u001b[0m:\u001b[36mevaluate_models\u001b[0m:\u001b[36m82\u001b[0m - \u001b[1mBest Model: <class 'sklearn.ensemble._forest.ExtraTreesClassifier'>\u001b[0m\n",
      "\u001b[32m2024-05-22 15:36:26.407\u001b[0m | \u001b[1mINFO    \u001b[0m | \u001b[36mdata_processing.english_data_processing\u001b[0m:\u001b[36mevaluate_models\u001b[0m:\u001b[36m83\u001b[0m - \u001b[1mBest Scaler: None\u001b[0m\n",
      "\u001b[32m2024-05-22 15:36:26.408\u001b[0m | \u001b[1mINFO    \u001b[0m | \u001b[36mdata_processing.english_data_processing\u001b[0m:\u001b[36mevaluate_models\u001b[0m:\u001b[36m84\u001b[0m - \u001b[1mBest Average Accuracy: 0.5961060808716652\u001b[0m\n",
      "\u001b[32m2024-05-22 15:36:26.409\u001b[0m | \u001b[1mINFO    \u001b[0m | \u001b[36mfeature_extraction.feature_extractor\u001b[0m:\u001b[36mprocess_folder\u001b[0m:\u001b[36m148\u001b[0m - \u001b[1mProcessing input folder: D:/data_analysis/speech_emotion_recognition/data/EnglishDataset/cleaned_data3\u001b[0m\n"
     ]
    },
    {
     "name": "stdout",
     "output_type": "stream",
     "text": [
      "Scaler: None, Model: <class 'sklearn.ensemble._forest.ExtraTreesClassifier'>, n_mfcc: 13, Selected features: ['mfcc', 'zcr', 'pitch', 'rms'], Accuracy: 0.5961060808716652\n"
     ]
    },
    {
     "name": "stderr",
     "output_type": "stream",
     "text": [
      "\u001b[32m2024-05-22 15:38:16.953\u001b[0m | \u001b[1mINFO    \u001b[0m | \u001b[36mfeature_extraction.feature_extractor\u001b[0m:\u001b[36mprocess_folder\u001b[0m:\u001b[36m158\u001b[0m - \u001b[1mFeature extraction completed. Data saved to: D:/data_analysis/speech_emotion_recognition/notebooks/feature4.csv\u001b[0m\n",
      "\u001b[32m2024-05-22 15:38:17.045\u001b[0m | \u001b[1mINFO    \u001b[0m | \u001b[36mdata_processing.english_data_processing\u001b[0m:\u001b[36mevaluate_models\u001b[0m:\u001b[36m53\u001b[0m - \u001b[1mFinding best model....\u001b[0m\n",
      "\u001b[32m2024-05-22 15:39:22.857\u001b[0m | \u001b[1mINFO    \u001b[0m | \u001b[36mdata_processing.english_data_processing\u001b[0m:\u001b[36mevaluate_models\u001b[0m:\u001b[36m74\u001b[0m - \u001b[1mModel <class 'sklearn.ensemble._forest.RandomForestClassifier'> - scaler: None, accuracy: 0.6148536258330557\u001b[0m\n",
      "\u001b[32m2024-05-22 15:39:37.674\u001b[0m | \u001b[1mINFO    \u001b[0m | \u001b[36mdata_processing.english_data_processing\u001b[0m:\u001b[36mevaluate_models\u001b[0m:\u001b[36m74\u001b[0m - \u001b[1mModel <class 'sklearn.ensemble._forest.ExtraTreesClassifier'> - scaler: None, accuracy: 0.6156720549066794\u001b[0m\n",
      "\u001b[32m2024-05-22 15:40:45.166\u001b[0m | \u001b[1mINFO    \u001b[0m | \u001b[36mdata_processing.english_data_processing\u001b[0m:\u001b[36mevaluate_models\u001b[0m:\u001b[36m74\u001b[0m - \u001b[1mModel <class 'sklearn.ensemble._forest.RandomForestClassifier'> - scaler: StandardScaler(), accuracy: 0.618130491206611\u001b[0m\n",
      "\u001b[32m2024-05-22 15:40:59.335\u001b[0m | \u001b[1mINFO    \u001b[0m | \u001b[36mdata_processing.english_data_processing\u001b[0m:\u001b[36mevaluate_models\u001b[0m:\u001b[36m74\u001b[0m - \u001b[1mModel <class 'sklearn.ensemble._forest.ExtraTreesClassifier'> - scaler: StandardScaler(), accuracy: 0.615217758817007\u001b[0m\n",
      "\u001b[32m2024-05-22 15:42:03.202\u001b[0m | \u001b[1mINFO    \u001b[0m | \u001b[36mdata_processing.english_data_processing\u001b[0m:\u001b[36mevaluate_models\u001b[0m:\u001b[36m74\u001b[0m - \u001b[1mModel <class 'sklearn.ensemble._forest.RandomForestClassifier'> - scaler: MinMaxScaler(), accuracy: 0.6184025550633049\u001b[0m\n",
      "\u001b[32m2024-05-22 15:42:17.026\u001b[0m | \u001b[1mINFO    \u001b[0m | \u001b[36mdata_processing.english_data_processing\u001b[0m:\u001b[36mevaluate_models\u001b[0m:\u001b[36m74\u001b[0m - \u001b[1mModel <class 'sklearn.ensemble._forest.ExtraTreesClassifier'> - scaler: MinMaxScaler(), accuracy: 0.6159446988568844\u001b[0m\n",
      "\u001b[32m2024-05-22 15:43:21.526\u001b[0m | \u001b[1mINFO    \u001b[0m | \u001b[36mdata_processing.english_data_processing\u001b[0m:\u001b[36mevaluate_models\u001b[0m:\u001b[36m74\u001b[0m - \u001b[1mModel <class 'sklearn.ensemble._forest.RandomForestClassifier'> - scaler: MaxAbsScaler(), accuracy: 0.6122144489691738\u001b[0m\n",
      "\u001b[32m2024-05-22 15:43:35.626\u001b[0m | \u001b[1mINFO    \u001b[0m | \u001b[36mdata_processing.english_data_processing\u001b[0m:\u001b[36mevaluate_models\u001b[0m:\u001b[36m74\u001b[0m - \u001b[1mModel <class 'sklearn.ensemble._forest.ExtraTreesClassifier'> - scaler: MaxAbsScaler(), accuracy: 0.6169466032210107\u001b[0m\n",
      "\u001b[32m2024-05-22 15:44:41.733\u001b[0m | \u001b[1mINFO    \u001b[0m | \u001b[36mdata_processing.english_data_processing\u001b[0m:\u001b[36mevaluate_models\u001b[0m:\u001b[36m74\u001b[0m - \u001b[1mModel <class 'sklearn.ensemble._forest.RandomForestClassifier'> - scaler: RobustScaler(), accuracy: 0.616037348077653\u001b[0m\n",
      "\u001b[32m2024-05-22 15:44:56.905\u001b[0m | \u001b[1mINFO    \u001b[0m | \u001b[36mdata_processing.english_data_processing\u001b[0m:\u001b[36mevaluate_models\u001b[0m:\u001b[36m74\u001b[0m - \u001b[1mModel <class 'sklearn.ensemble._forest.ExtraTreesClassifier'> - scaler: RobustScaler(), accuracy: 0.61640073522709\u001b[0m\n",
      "\u001b[32m2024-05-22 15:46:04.135\u001b[0m | \u001b[1mINFO    \u001b[0m | \u001b[36mdata_processing.english_data_processing\u001b[0m:\u001b[36mevaluate_models\u001b[0m:\u001b[36m74\u001b[0m - \u001b[1mModel <class 'sklearn.ensemble._forest.RandomForestClassifier'> - scaler: Normalizer(), accuracy: 0.5847284582274662\u001b[0m\n",
      "\u001b[32m2024-05-22 15:46:19.812\u001b[0m | \u001b[1mINFO    \u001b[0m | \u001b[36mdata_processing.english_data_processing\u001b[0m:\u001b[36mevaluate_models\u001b[0m:\u001b[36m74\u001b[0m - \u001b[1mModel <class 'sklearn.ensemble._forest.ExtraTreesClassifier'> - scaler: Normalizer(), accuracy: 0.5897356596740537\u001b[0m\n",
      "\u001b[32m2024-05-22 15:46:19.813\u001b[0m | \u001b[1mINFO    \u001b[0m | \u001b[36mdata_processing.english_data_processing\u001b[0m:\u001b[36mevaluate_models\u001b[0m:\u001b[36m82\u001b[0m - \u001b[1mBest Model: <class 'sklearn.ensemble._forest.RandomForestClassifier'>\u001b[0m\n",
      "\u001b[32m2024-05-22 15:46:19.813\u001b[0m | \u001b[1mINFO    \u001b[0m | \u001b[36mdata_processing.english_data_processing\u001b[0m:\u001b[36mevaluate_models\u001b[0m:\u001b[36m83\u001b[0m - \u001b[1mBest Scaler: MinMaxScaler\u001b[0m\n",
      "\u001b[32m2024-05-22 15:46:19.814\u001b[0m | \u001b[1mINFO    \u001b[0m | \u001b[36mdata_processing.english_data_processing\u001b[0m:\u001b[36mevaluate_models\u001b[0m:\u001b[36m84\u001b[0m - \u001b[1mBest Average Accuracy: 0.6184025550633049\u001b[0m\n",
      "\u001b[32m2024-05-22 15:46:19.815\u001b[0m | \u001b[1mINFO    \u001b[0m | \u001b[36mfeature_extraction.feature_extractor\u001b[0m:\u001b[36mprocess_folder\u001b[0m:\u001b[36m148\u001b[0m - \u001b[1mProcessing input folder: D:/data_analysis/speech_emotion_recognition/data/EnglishDataset/cleaned_data3\u001b[0m\n"
     ]
    },
    {
     "name": "stdout",
     "output_type": "stream",
     "text": [
      "Scaler: MinMaxScaler, Model: <class 'sklearn.ensemble._forest.RandomForestClassifier'>, n_mfcc: 13, Selected features: ['mfcc', 'mfcc_statistics', 'pitch', 'rms'], Accuracy: 0.6184025550633049\n"
     ]
    },
    {
     "name": "stderr",
     "output_type": "stream",
     "text": [
      "\u001b[32m2024-05-22 15:47:42.399\u001b[0m | \u001b[1mINFO    \u001b[0m | \u001b[36mfeature_extraction.feature_extractor\u001b[0m:\u001b[36mprocess_folder\u001b[0m:\u001b[36m158\u001b[0m - \u001b[1mFeature extraction completed. Data saved to: D:/data_analysis/speech_emotion_recognition/notebooks/feature4.csv\u001b[0m\n",
      "\u001b[32m2024-05-22 15:47:42.490\u001b[0m | \u001b[1mINFO    \u001b[0m | \u001b[36mdata_processing.english_data_processing\u001b[0m:\u001b[36mevaluate_models\u001b[0m:\u001b[36m53\u001b[0m - \u001b[1mFinding best model....\u001b[0m\n",
      "\u001b[32m2024-05-22 15:48:48.822\u001b[0m | \u001b[1mINFO    \u001b[0m | \u001b[36mdata_processing.english_data_processing\u001b[0m:\u001b[36mevaluate_models\u001b[0m:\u001b[36m74\u001b[0m - \u001b[1mModel <class 'sklearn.ensemble._forest.RandomForestClassifier'> - scaler: None, accuracy: 0.6106684168916601\u001b[0m\n",
      "\u001b[32m2024-05-22 15:49:03.746\u001b[0m | \u001b[1mINFO    \u001b[0m | \u001b[36mdata_processing.english_data_processing\u001b[0m:\u001b[36mevaluate_models\u001b[0m:\u001b[36m74\u001b[0m - \u001b[1mModel <class 'sklearn.ensemble._forest.ExtraTreesClassifier'> - scaler: None, accuracy: 0.6158532098231377\u001b[0m\n",
      "\u001b[32m2024-05-22 15:50:08.741\u001b[0m | \u001b[1mINFO    \u001b[0m | \u001b[36mdata_processing.english_data_processing\u001b[0m:\u001b[36mevaluate_models\u001b[0m:\u001b[36m74\u001b[0m - \u001b[1mModel <class 'sklearn.ensemble._forest.RandomForestClassifier'> - scaler: StandardScaler(), accuracy: 0.6095753549757935\u001b[0m\n",
      "\u001b[32m2024-05-22 15:50:22.618\u001b[0m | \u001b[1mINFO    \u001b[0m | \u001b[36mdata_processing.english_data_processing\u001b[0m:\u001b[36mevaluate_models\u001b[0m:\u001b[36m74\u001b[0m - \u001b[1mModel <class 'sklearn.ensemble._forest.ExtraTreesClassifier'> - scaler: StandardScaler(), accuracy: 0.6087546055281253\u001b[0m\n",
      "\u001b[32m2024-05-22 15:51:25.434\u001b[0m | \u001b[1mINFO    \u001b[0m | \u001b[36mdata_processing.english_data_processing\u001b[0m:\u001b[36mevaluate_models\u001b[0m:\u001b[36m74\u001b[0m - \u001b[1mModel <class 'sklearn.ensemble._forest.RandomForestClassifier'> - scaler: MinMaxScaler(), accuracy: 0.6115776720350178\u001b[0m\n",
      "\u001b[32m2024-05-22 15:51:39.324\u001b[0m | \u001b[1mINFO    \u001b[0m | \u001b[36mdata_processing.english_data_processing\u001b[0m:\u001b[36mevaluate_models\u001b[0m:\u001b[36m74\u001b[0m - \u001b[1mModel <class 'sklearn.ensemble._forest.ExtraTreesClassifier'> - scaler: MinMaxScaler(), accuracy: 0.6118499845032163\u001b[0m\n",
      "\u001b[32m2024-05-22 15:52:43.351\u001b[0m | \u001b[1mINFO    \u001b[0m | \u001b[36mdata_processing.english_data_processing\u001b[0m:\u001b[36mevaluate_models\u001b[0m:\u001b[36m74\u001b[0m - \u001b[1mModel <class 'sklearn.ensemble._forest.RandomForestClassifier'> - scaler: MaxAbsScaler(), accuracy: 0.6132166848153066\u001b[0m\n",
      "\u001b[32m2024-05-22 15:52:57.518\u001b[0m | \u001b[1mINFO    \u001b[0m | \u001b[36mdata_processing.english_data_processing\u001b[0m:\u001b[36mevaluate_models\u001b[0m:\u001b[36m74\u001b[0m - \u001b[1mModel <class 'sklearn.ensemble._forest.ExtraTreesClassifier'> - scaler: MaxAbsScaler(), accuracy: 0.6157636268109277\u001b[0m\n",
      "\u001b[32m2024-05-22 15:54:05.260\u001b[0m | \u001b[1mINFO    \u001b[0m | \u001b[36mdata_processing.english_data_processing\u001b[0m:\u001b[36mevaluate_models\u001b[0m:\u001b[36m74\u001b[0m - \u001b[1mModel <class 'sklearn.ensemble._forest.RandomForestClassifier'> - scaler: RobustScaler(), accuracy: 0.6091188213825782\u001b[0m\n",
      "\u001b[32m2024-05-22 15:54:20.086\u001b[0m | \u001b[1mINFO    \u001b[0m | \u001b[36mdata_processing.english_data_processing\u001b[0m:\u001b[36mevaluate_models\u001b[0m:\u001b[36m74\u001b[0m - \u001b[1mModel <class 'sklearn.ensemble._forest.ExtraTreesClassifier'> - scaler: RobustScaler(), accuracy: 0.612942217714067\u001b[0m\n",
      "\u001b[32m2024-05-22 15:55:23.880\u001b[0m | \u001b[1mINFO    \u001b[0m | \u001b[36mdata_processing.english_data_processing\u001b[0m:\u001b[36mevaluate_models\u001b[0m:\u001b[36m74\u001b[0m - \u001b[1mModel <class 'sklearn.ensemble._forest.RandomForestClassifier'> - scaler: Normalizer(), accuracy: 0.5871880547144199\u001b[0m\n",
      "\u001b[32m2024-05-22 15:55:39.232\u001b[0m | \u001b[1mINFO    \u001b[0m | \u001b[36mdata_processing.english_data_processing\u001b[0m:\u001b[36mevaluate_models\u001b[0m:\u001b[36m74\u001b[0m - \u001b[1mModel <class 'sklearn.ensemble._forest.ExtraTreesClassifier'> - scaler: Normalizer(), accuracy: 0.5951042593780403\u001b[0m\n",
      "\u001b[32m2024-05-22 15:55:39.233\u001b[0m | \u001b[1mINFO    \u001b[0m | \u001b[36mdata_processing.english_data_processing\u001b[0m:\u001b[36mevaluate_models\u001b[0m:\u001b[36m82\u001b[0m - \u001b[1mBest Model: <class 'sklearn.ensemble._forest.ExtraTreesClassifier'>\u001b[0m\n",
      "\u001b[32m2024-05-22 15:55:39.234\u001b[0m | \u001b[1mINFO    \u001b[0m | \u001b[36mdata_processing.english_data_processing\u001b[0m:\u001b[36mevaluate_models\u001b[0m:\u001b[36m83\u001b[0m - \u001b[1mBest Scaler: None\u001b[0m\n",
      "\u001b[32m2024-05-22 15:55:39.234\u001b[0m | \u001b[1mINFO    \u001b[0m | \u001b[36mdata_processing.english_data_processing\u001b[0m:\u001b[36mevaluate_models\u001b[0m:\u001b[36m84\u001b[0m - \u001b[1mBest Average Accuracy: 0.6158532098231377\u001b[0m\n",
      "\u001b[32m2024-05-22 15:55:39.236\u001b[0m | \u001b[1mINFO    \u001b[0m | \u001b[36mfeature_extraction.feature_extractor\u001b[0m:\u001b[36mprocess_folder\u001b[0m:\u001b[36m148\u001b[0m - \u001b[1mProcessing input folder: D:/data_analysis/speech_emotion_recognition/data/EnglishDataset/cleaned_data3\u001b[0m\n"
     ]
    },
    {
     "name": "stdout",
     "output_type": "stream",
     "text": [
      "Scaler: None, Model: <class 'sklearn.ensemble._forest.ExtraTreesClassifier'>, n_mfcc: 13, Selected features: ['mfcc', 'mfcc_statistics', 'zcr', 'rms'], Accuracy: 0.6158532098231377\n"
     ]
    },
    {
     "name": "stderr",
     "output_type": "stream",
     "text": [
      "\u001b[32m2024-05-22 15:57:13.192\u001b[0m | \u001b[1mINFO    \u001b[0m | \u001b[36mfeature_extraction.feature_extractor\u001b[0m:\u001b[36mprocess_folder\u001b[0m:\u001b[36m158\u001b[0m - \u001b[1mFeature extraction completed. Data saved to: D:/data_analysis/speech_emotion_recognition/notebooks/feature4.csv\u001b[0m\n",
      "\u001b[32m2024-05-22 15:57:13.285\u001b[0m | \u001b[1mINFO    \u001b[0m | \u001b[36mdata_processing.english_data_processing\u001b[0m:\u001b[36mevaluate_models\u001b[0m:\u001b[36m53\u001b[0m - \u001b[1mFinding best model....\u001b[0m\n",
      "\u001b[32m2024-05-22 15:58:18.881\u001b[0m | \u001b[1mINFO    \u001b[0m | \u001b[36mdata_processing.english_data_processing\u001b[0m:\u001b[36mevaluate_models\u001b[0m:\u001b[36m74\u001b[0m - \u001b[1mModel <class 'sklearn.ensemble._forest.RandomForestClassifier'> - scaler: None, accuracy: 0.6095756035872983\u001b[0m\n",
      "\u001b[32m2024-05-22 15:58:33.251\u001b[0m | \u001b[1mINFO    \u001b[0m | \u001b[36mdata_processing.english_data_processing\u001b[0m:\u001b[36mevaluate_models\u001b[0m:\u001b[36m74\u001b[0m - \u001b[1mModel <class 'sklearn.ensemble._forest.ExtraTreesClassifier'> - scaler: None, accuracy: 0.6134882514489907\u001b[0m\n",
      "\u001b[32m2024-05-22 15:59:42.021\u001b[0m | \u001b[1mINFO    \u001b[0m | \u001b[36mdata_processing.english_data_processing\u001b[0m:\u001b[36mevaluate_models\u001b[0m:\u001b[36m74\u001b[0m - \u001b[1mModel <class 'sklearn.ensemble._forest.RandomForestClassifier'> - scaler: StandardScaler(), accuracy: 0.6059355996758107\u001b[0m\n",
      "\u001b[32m2024-05-22 15:59:56.856\u001b[0m | \u001b[1mINFO    \u001b[0m | \u001b[36mdata_processing.english_data_processing\u001b[0m:\u001b[36mevaluate_models\u001b[0m:\u001b[36m74\u001b[0m - \u001b[1mModel <class 'sklearn.ensemble._forest.ExtraTreesClassifier'> - scaler: StandardScaler(), accuracy: 0.6143081721916431\u001b[0m\n",
      "\u001b[32m2024-05-22 16:01:04.569\u001b[0m | \u001b[1mINFO    \u001b[0m | \u001b[36mdata_processing.english_data_processing\u001b[0m:\u001b[36mevaluate_models\u001b[0m:\u001b[36m74\u001b[0m - \u001b[1mModel <class 'sklearn.ensemble._forest.RandomForestClassifier'> - scaler: MinMaxScaler(), accuracy: 0.6113049452143114\u001b[0m\n",
      "\u001b[32m2024-05-22 16:01:18.649\u001b[0m | \u001b[1mINFO    \u001b[0m | \u001b[36mdata_processing.english_data_processing\u001b[0m:\u001b[36mevaluate_models\u001b[0m:\u001b[36m74\u001b[0m - \u001b[1mModel <class 'sklearn.ensemble._forest.ExtraTreesClassifier'> - scaler: MinMaxScaler(), accuracy: 0.6126699881163701\u001b[0m\n",
      "\u001b[32m2024-05-22 16:02:25.059\u001b[0m | \u001b[1mINFO    \u001b[0m | \u001b[36mdata_processing.english_data_processing\u001b[0m:\u001b[36mevaluate_models\u001b[0m:\u001b[36m74\u001b[0m - \u001b[1mModel <class 'sklearn.ensemble._forest.RandomForestClassifier'> - scaler: MaxAbsScaler(), accuracy: 0.6126690765408527\u001b[0m\n",
      "\u001b[32m2024-05-22 16:02:39.955\u001b[0m | \u001b[1mINFO    \u001b[0m | \u001b[36mdata_processing.english_data_processing\u001b[0m:\u001b[36mevaluate_models\u001b[0m:\u001b[36m74\u001b[0m - \u001b[1mModel <class 'sklearn.ensemble._forest.ExtraTreesClassifier'> - scaler: MaxAbsScaler(), accuracy: 0.6115783349990305\u001b[0m\n",
      "\u001b[32m2024-05-22 16:03:45.656\u001b[0m | \u001b[1mINFO    \u001b[0m | \u001b[36mdata_processing.english_data_processing\u001b[0m:\u001b[36mevaluate_models\u001b[0m:\u001b[36m74\u001b[0m - \u001b[1mModel <class 'sklearn.ensemble._forest.RandomForestClassifier'> - scaler: RobustScaler(), accuracy: 0.609303042507595\u001b[0m\n",
      "\u001b[32m2024-05-22 16:04:01.008\u001b[0m | \u001b[1mINFO    \u001b[0m | \u001b[36mdata_processing.english_data_processing\u001b[0m:\u001b[36mevaluate_models\u001b[0m:\u001b[36m74\u001b[0m - \u001b[1mModel <class 'sklearn.ensemble._forest.ExtraTreesClassifier'> - scaler: RobustScaler(), accuracy: 0.6095755207167967\u001b[0m\n",
      "\u001b[32m2024-05-22 16:05:06.446\u001b[0m | \u001b[1mINFO    \u001b[0m | \u001b[36mdata_processing.english_data_processing\u001b[0m:\u001b[36mevaluate_models\u001b[0m:\u001b[36m74\u001b[0m - \u001b[1mModel <class 'sklearn.ensemble._forest.RandomForestClassifier'> - scaler: Normalizer(), accuracy: 0.5824536629590404\u001b[0m\n",
      "\u001b[32m2024-05-22 16:05:21.708\u001b[0m | \u001b[1mINFO    \u001b[0m | \u001b[36mdata_processing.english_data_processing\u001b[0m:\u001b[36mevaluate_models\u001b[0m:\u001b[36m74\u001b[0m - \u001b[1mModel <class 'sklearn.ensemble._forest.ExtraTreesClassifier'> - scaler: Normalizer(), accuracy: 0.5833635810664107\u001b[0m\n",
      "\u001b[32m2024-05-22 16:05:21.709\u001b[0m | \u001b[1mINFO    \u001b[0m | \u001b[36mdata_processing.english_data_processing\u001b[0m:\u001b[36mevaluate_models\u001b[0m:\u001b[36m82\u001b[0m - \u001b[1mBest Model: <class 'sklearn.ensemble._forest.ExtraTreesClassifier'>\u001b[0m\n",
      "\u001b[32m2024-05-22 16:05:21.709\u001b[0m | \u001b[1mINFO    \u001b[0m | \u001b[36mdata_processing.english_data_processing\u001b[0m:\u001b[36mevaluate_models\u001b[0m:\u001b[36m83\u001b[0m - \u001b[1mBest Scaler: StandardScaler\u001b[0m\n",
      "\u001b[32m2024-05-22 16:05:21.710\u001b[0m | \u001b[1mINFO    \u001b[0m | \u001b[36mdata_processing.english_data_processing\u001b[0m:\u001b[36mevaluate_models\u001b[0m:\u001b[36m84\u001b[0m - \u001b[1mBest Average Accuracy: 0.6143081721916431\u001b[0m\n",
      "\u001b[32m2024-05-22 16:05:21.712\u001b[0m | \u001b[1mINFO    \u001b[0m | \u001b[36mfeature_extraction.feature_extractor\u001b[0m:\u001b[36mprocess_folder\u001b[0m:\u001b[36m148\u001b[0m - \u001b[1mProcessing input folder: D:/data_analysis/speech_emotion_recognition/data/EnglishDataset/cleaned_data3\u001b[0m\n"
     ]
    },
    {
     "name": "stdout",
     "output_type": "stream",
     "text": [
      "Scaler: StandardScaler, Model: <class 'sklearn.ensemble._forest.ExtraTreesClassifier'>, n_mfcc: 13, Selected features: ['mfcc', 'mfcc_statistics', 'zcr', 'pitch'], Accuracy: 0.6143081721916431\n"
     ]
    },
    {
     "name": "stderr",
     "output_type": "stream",
     "text": [
      "\u001b[32m2024-05-22 16:05:58.885\u001b[0m | \u001b[1mINFO    \u001b[0m | \u001b[36mfeature_extraction.feature_extractor\u001b[0m:\u001b[36mprocess_folder\u001b[0m:\u001b[36m158\u001b[0m - \u001b[1mFeature extraction completed. Data saved to: D:/data_analysis/speech_emotion_recognition/notebooks/feature4.csv\u001b[0m\n",
      "\u001b[32m2024-05-22 16:05:58.913\u001b[0m | \u001b[1mINFO    \u001b[0m | \u001b[36mdata_processing.english_data_processing\u001b[0m:\u001b[36mevaluate_models\u001b[0m:\u001b[36m53\u001b[0m - \u001b[1mFinding best model....\u001b[0m\n",
      "\u001b[32m2024-05-22 16:06:21.450\u001b[0m | \u001b[1mINFO    \u001b[0m | \u001b[36mdata_processing.english_data_processing\u001b[0m:\u001b[36mevaluate_models\u001b[0m:\u001b[36m74\u001b[0m - \u001b[1mModel <class 'sklearn.ensemble._forest.RandomForestClassifier'> - scaler: None, accuracy: 0.5095553831849123\u001b[0m\n",
      "\u001b[32m2024-05-22 16:06:29.414\u001b[0m | \u001b[1mINFO    \u001b[0m | \u001b[36mdata_processing.english_data_processing\u001b[0m:\u001b[36mevaluate_models\u001b[0m:\u001b[36m74\u001b[0m - \u001b[1mModel <class 'sklearn.ensemble._forest.ExtraTreesClassifier'> - scaler: None, accuracy: 0.5121949744013021\u001b[0m\n",
      "\u001b[32m2024-05-22 16:06:51.962\u001b[0m | \u001b[1mINFO    \u001b[0m | \u001b[36mdata_processing.english_data_processing\u001b[0m:\u001b[36mevaluate_models\u001b[0m:\u001b[36m74\u001b[0m - \u001b[1mModel <class 'sklearn.ensemble._forest.RandomForestClassifier'> - scaler: StandardScaler(), accuracy: 0.5122855518595312\u001b[0m\n",
      "\u001b[32m2024-05-22 16:07:00.379\u001b[0m | \u001b[1mINFO    \u001b[0m | \u001b[36mdata_processing.english_data_processing\u001b[0m:\u001b[36mevaluate_models\u001b[0m:\u001b[36m74\u001b[0m - \u001b[1mModel <class 'sklearn.ensemble._forest.ExtraTreesClassifier'> - scaler: StandardScaler(), accuracy: 0.5114669570449043\u001b[0m\n",
      "\u001b[32m2024-05-22 16:07:25.054\u001b[0m | \u001b[1mINFO    \u001b[0m | \u001b[36mdata_processing.english_data_processing\u001b[0m:\u001b[36mevaluate_models\u001b[0m:\u001b[36m74\u001b[0m - \u001b[1mModel <class 'sklearn.ensemble._forest.RandomForestClassifier'> - scaler: MinMaxScaler(), accuracy: 0.5101013340493344\u001b[0m\n",
      "\u001b[32m2024-05-22 16:07:34.069\u001b[0m | \u001b[1mINFO    \u001b[0m | \u001b[36mdata_processing.english_data_processing\u001b[0m:\u001b[36mevaluate_models\u001b[0m:\u001b[36m74\u001b[0m - \u001b[1mModel <class 'sklearn.ensemble._forest.ExtraTreesClassifier'> - scaler: MinMaxScaler(), accuracy: 0.5147429108429422\u001b[0m\n",
      "\u001b[32m2024-05-22 16:07:58.574\u001b[0m | \u001b[1mINFO    \u001b[0m | \u001b[36mdata_processing.english_data_processing\u001b[0m:\u001b[36mevaluate_models\u001b[0m:\u001b[36m74\u001b[0m - \u001b[1mModel <class 'sklearn.ensemble._forest.RandomForestClassifier'> - scaler: MaxAbsScaler(), accuracy: 0.511558197467146\u001b[0m\n",
      "\u001b[32m2024-05-22 16:08:07.660\u001b[0m | \u001b[1mINFO    \u001b[0m | \u001b[36mdata_processing.english_data_processing\u001b[0m:\u001b[36mevaluate_models\u001b[0m:\u001b[36m74\u001b[0m - \u001b[1mModel <class 'sklearn.ensemble._forest.ExtraTreesClassifier'> - scaler: MaxAbsScaler(), accuracy: 0.511921998969091\u001b[0m\n",
      "\u001b[32m2024-05-22 16:08:31.677\u001b[0m | \u001b[1mINFO    \u001b[0m | \u001b[36mdata_processing.english_data_processing\u001b[0m:\u001b[36mevaluate_models\u001b[0m:\u001b[36m74\u001b[0m - \u001b[1mModel <class 'sklearn.ensemble._forest.RandomForestClassifier'> - scaler: RobustScaler(), accuracy: 0.5131965472834221\u001b[0m\n",
      "\u001b[32m2024-05-22 16:08:39.724\u001b[0m | \u001b[1mINFO    \u001b[0m | \u001b[36mdata_processing.english_data_processing\u001b[0m:\u001b[36mevaluate_models\u001b[0m:\u001b[36m74\u001b[0m - \u001b[1mModel <class 'sklearn.ensemble._forest.ExtraTreesClassifier'> - scaler: RobustScaler(), accuracy: 0.5158357241473039\u001b[0m\n",
      "\u001b[32m2024-05-22 16:09:04.409\u001b[0m | \u001b[1mINFO    \u001b[0m | \u001b[36mdata_processing.english_data_processing\u001b[0m:\u001b[36mevaluate_models\u001b[0m:\u001b[36m74\u001b[0m - \u001b[1mModel <class 'sklearn.ensemble._forest.RandomForestClassifier'> - scaler: Normalizer(), accuracy: 0.46732979642032585\u001b[0m\n",
      "\u001b[32m2024-05-22 16:09:13.439\u001b[0m | \u001b[1mINFO    \u001b[0m | \u001b[36mdata_processing.english_data_processing\u001b[0m:\u001b[36mevaluate_models\u001b[0m:\u001b[36m74\u001b[0m - \u001b[1mModel <class 'sklearn.ensemble._forest.ExtraTreesClassifier'> - scaler: Normalizer(), accuracy: 0.4553181315685232\u001b[0m\n",
      "\u001b[32m2024-05-22 16:09:13.440\u001b[0m | \u001b[1mINFO    \u001b[0m | \u001b[36mdata_processing.english_data_processing\u001b[0m:\u001b[36mevaluate_models\u001b[0m:\u001b[36m82\u001b[0m - \u001b[1mBest Model: <class 'sklearn.ensemble._forest.ExtraTreesClassifier'>\u001b[0m\n",
      "\u001b[32m2024-05-22 16:09:13.441\u001b[0m | \u001b[1mINFO    \u001b[0m | \u001b[36mdata_processing.english_data_processing\u001b[0m:\u001b[36mevaluate_models\u001b[0m:\u001b[36m83\u001b[0m - \u001b[1mBest Scaler: RobustScaler\u001b[0m\n",
      "\u001b[32m2024-05-22 16:09:13.441\u001b[0m | \u001b[1mINFO    \u001b[0m | \u001b[36mdata_processing.english_data_processing\u001b[0m:\u001b[36mevaluate_models\u001b[0m:\u001b[36m84\u001b[0m - \u001b[1mBest Average Accuracy: 0.5158357241473039\u001b[0m\n",
      "\u001b[32m2024-05-22 16:09:13.442\u001b[0m | \u001b[1mINFO    \u001b[0m | \u001b[36mfeature_extraction.feature_extractor\u001b[0m:\u001b[36mprocess_folder\u001b[0m:\u001b[36m148\u001b[0m - \u001b[1mProcessing input folder: D:/data_analysis/speech_emotion_recognition/data/EnglishDataset/cleaned_data3\u001b[0m\n"
     ]
    },
    {
     "name": "stdout",
     "output_type": "stream",
     "text": [
      "Scaler: RobustScaler, Model: <class 'sklearn.ensemble._forest.ExtraTreesClassifier'>, n_mfcc: 13, Selected features: ['zcr', 'pitch', 'rms'], Accuracy: 0.5158357241473039\n"
     ]
    },
    {
     "name": "stderr",
     "output_type": "stream",
     "text": [
      "\u001b[32m2024-05-22 16:10:19.897\u001b[0m | \u001b[1mINFO    \u001b[0m | \u001b[36mfeature_extraction.feature_extractor\u001b[0m:\u001b[36mprocess_folder\u001b[0m:\u001b[36m158\u001b[0m - \u001b[1mFeature extraction completed. Data saved to: D:/data_analysis/speech_emotion_recognition/notebooks/feature4.csv\u001b[0m\n",
      "\u001b[32m2024-05-22 16:10:19.983\u001b[0m | \u001b[1mINFO    \u001b[0m | \u001b[36mdata_processing.english_data_processing\u001b[0m:\u001b[36mevaluate_models\u001b[0m:\u001b[36m53\u001b[0m - \u001b[1mFinding best model....\u001b[0m\n",
      "\u001b[32m2024-05-22 16:11:22.554\u001b[0m | \u001b[1mINFO    \u001b[0m | \u001b[36mdata_processing.english_data_processing\u001b[0m:\u001b[36mevaluate_models\u001b[0m:\u001b[36m74\u001b[0m - \u001b[1mModel <class 'sklearn.ensemble._forest.RandomForestClassifier'> - scaler: None, accuracy: 0.6118505645967274\u001b[0m\n",
      "\u001b[32m2024-05-22 16:11:36.383\u001b[0m | \u001b[1mINFO    \u001b[0m | \u001b[36mdata_processing.english_data_processing\u001b[0m:\u001b[36mevaluate_models\u001b[0m:\u001b[36m74\u001b[0m - \u001b[1mModel <class 'sklearn.ensemble._forest.ExtraTreesClassifier'> - scaler: None, accuracy: 0.6133043618059802\u001b[0m\n",
      "\u001b[32m2024-05-22 16:12:35.033\u001b[0m | \u001b[1mINFO    \u001b[0m | \u001b[36mdata_processing.english_data_processing\u001b[0m:\u001b[36mevaluate_models\u001b[0m:\u001b[36m74\u001b[0m - \u001b[1mModel <class 'sklearn.ensemble._forest.RandomForestClassifier'> - scaler: StandardScaler(), accuracy: 0.6149441204207833\u001b[0m\n",
      "\u001b[32m2024-05-22 16:12:49.352\u001b[0m | \u001b[1mINFO    \u001b[0m | \u001b[36mdata_processing.english_data_processing\u001b[0m:\u001b[36mevaluate_models\u001b[0m:\u001b[36m74\u001b[0m - \u001b[1mModel <class 'sklearn.ensemble._forest.ExtraTreesClassifier'> - scaler: StandardScaler(), accuracy: 0.6174013136631911\u001b[0m\n",
      "\u001b[32m2024-05-22 16:13:51.281\u001b[0m | \u001b[1mINFO    \u001b[0m | \u001b[36mdata_processing.english_data_processing\u001b[0m:\u001b[36mevaluate_models\u001b[0m:\u001b[36m74\u001b[0m - \u001b[1mModel <class 'sklearn.ensemble._forest.RandomForestClassifier'> - scaler: MinMaxScaler(), accuracy: 0.6140354453709366\u001b[0m\n",
      "\u001b[32m2024-05-22 16:14:04.380\u001b[0m | \u001b[1mINFO    \u001b[0m | \u001b[36mdata_processing.english_data_processing\u001b[0m:\u001b[36mevaluate_models\u001b[0m:\u001b[36m74\u001b[0m - \u001b[1mModel <class 'sklearn.ensemble._forest.ExtraTreesClassifier'> - scaler: MinMaxScaler(), accuracy: 0.615308750627744\u001b[0m\n",
      "\u001b[32m2024-05-22 16:15:01.245\u001b[0m | \u001b[1mINFO    \u001b[0m | \u001b[36mdata_processing.english_data_processing\u001b[0m:\u001b[36mevaluate_models\u001b[0m:\u001b[36m74\u001b[0m - \u001b[1mModel <class 'sklearn.ensemble._forest.RandomForestClassifier'> - scaler: MaxAbsScaler(), accuracy: 0.6136704008114678\u001b[0m\n",
      "\u001b[32m2024-05-22 16:15:14.052\u001b[0m | \u001b[1mINFO    \u001b[0m | \u001b[36mdata_processing.english_data_processing\u001b[0m:\u001b[36mevaluate_models\u001b[0m:\u001b[36m74\u001b[0m - \u001b[1mModel <class 'sklearn.ensemble._forest.ExtraTreesClassifier'> - scaler: MaxAbsScaler(), accuracy: 0.6163105721213687\u001b[0m\n",
      "\u001b[32m2024-05-22 16:16:13.364\u001b[0m | \u001b[1mINFO    \u001b[0m | \u001b[36mdata_processing.english_data_processing\u001b[0m:\u001b[36mevaluate_models\u001b[0m:\u001b[36m74\u001b[0m - \u001b[1mModel <class 'sklearn.ensemble._forest.RandomForestClassifier'> - scaler: RobustScaler(), accuracy: 0.6113958541545469\u001b[0m\n",
      "\u001b[32m2024-05-22 16:16:27.955\u001b[0m | \u001b[1mINFO    \u001b[0m | \u001b[36mdata_processing.english_data_processing\u001b[0m:\u001b[36mevaluate_models\u001b[0m:\u001b[36m74\u001b[0m - \u001b[1mModel <class 'sklearn.ensemble._forest.ExtraTreesClassifier'> - scaler: RobustScaler(), accuracy: 0.6157627981059118\u001b[0m\n",
      "\u001b[32m2024-05-22 16:17:25.060\u001b[0m | \u001b[1mINFO    \u001b[0m | \u001b[36mdata_processing.english_data_processing\u001b[0m:\u001b[36mevaluate_models\u001b[0m:\u001b[36m74\u001b[0m - \u001b[1mModel <class 'sklearn.ensemble._forest.RandomForestClassifier'> - scaler: Normalizer(), accuracy: 0.5892788774693337\u001b[0m\n",
      "\u001b[32m2024-05-22 16:17:38.095\u001b[0m | \u001b[1mINFO    \u001b[0m | \u001b[36mdata_processing.english_data_processing\u001b[0m:\u001b[36mevaluate_models\u001b[0m:\u001b[36m74\u001b[0m - \u001b[1mModel <class 'sklearn.ensemble._forest.ExtraTreesClassifier'> - scaler: Normalizer(), accuracy: 0.5928290497571066\u001b[0m\n",
      "\u001b[32m2024-05-22 16:17:38.095\u001b[0m | \u001b[1mINFO    \u001b[0m | \u001b[36mdata_processing.english_data_processing\u001b[0m:\u001b[36mevaluate_models\u001b[0m:\u001b[36m82\u001b[0m - \u001b[1mBest Model: <class 'sklearn.ensemble._forest.ExtraTreesClassifier'>\u001b[0m\n",
      "\u001b[32m2024-05-22 16:17:38.096\u001b[0m | \u001b[1mINFO    \u001b[0m | \u001b[36mdata_processing.english_data_processing\u001b[0m:\u001b[36mevaluate_models\u001b[0m:\u001b[36m83\u001b[0m - \u001b[1mBest Scaler: StandardScaler\u001b[0m\n",
      "\u001b[32m2024-05-22 16:17:38.097\u001b[0m | \u001b[1mINFO    \u001b[0m | \u001b[36mdata_processing.english_data_processing\u001b[0m:\u001b[36mevaluate_models\u001b[0m:\u001b[36m84\u001b[0m - \u001b[1mBest Average Accuracy: 0.6174013136631911\u001b[0m\n",
      "\u001b[32m2024-05-22 16:17:38.098\u001b[0m | \u001b[1mINFO    \u001b[0m | \u001b[36mfeature_extraction.feature_extractor\u001b[0m:\u001b[36mprocess_folder\u001b[0m:\u001b[36m148\u001b[0m - \u001b[1mProcessing input folder: D:/data_analysis/speech_emotion_recognition/data/EnglishDataset/cleaned_data3\u001b[0m\n"
     ]
    },
    {
     "name": "stdout",
     "output_type": "stream",
     "text": [
      "Scaler: StandardScaler, Model: <class 'sklearn.ensemble._forest.ExtraTreesClassifier'>, n_mfcc: 13, Selected features: ['mfcc_statistics', 'pitch', 'rms'], Accuracy: 0.6174013136631911\n"
     ]
    },
    {
     "name": "stderr",
     "output_type": "stream",
     "text": [
      "\u001b[32m2024-05-22 16:18:31.696\u001b[0m | \u001b[1mINFO    \u001b[0m | \u001b[36mfeature_extraction.feature_extractor\u001b[0m:\u001b[36mprocess_folder\u001b[0m:\u001b[36m158\u001b[0m - \u001b[1mFeature extraction completed. Data saved to: D:/data_analysis/speech_emotion_recognition/notebooks/feature4.csv\u001b[0m\n",
      "\u001b[32m2024-05-22 16:18:31.783\u001b[0m | \u001b[1mINFO    \u001b[0m | \u001b[36mdata_processing.english_data_processing\u001b[0m:\u001b[36mevaluate_models\u001b[0m:\u001b[36m53\u001b[0m - \u001b[1mFinding best model....\u001b[0m\n",
      "\u001b[32m2024-05-22 16:19:34.015\u001b[0m | \u001b[1mINFO    \u001b[0m | \u001b[36mdata_processing.english_data_processing\u001b[0m:\u001b[36mevaluate_models\u001b[0m:\u001b[36m74\u001b[0m - \u001b[1mModel <class 'sklearn.ensemble._forest.RandomForestClassifier'> - scaler: None, accuracy: 0.6090293212408697\u001b[0m\n",
      "\u001b[32m2024-05-22 16:19:48.463\u001b[0m | \u001b[1mINFO    \u001b[0m | \u001b[36mdata_processing.english_data_processing\u001b[0m:\u001b[36mevaluate_models\u001b[0m:\u001b[36m74\u001b[0m - \u001b[1mModel <class 'sklearn.ensemble._forest.ExtraTreesClassifier'> - scaler: None, accuracy: 0.6153092478507535\u001b[0m\n",
      "\u001b[32m2024-05-22 16:20:50.507\u001b[0m | \u001b[1mINFO    \u001b[0m | \u001b[36mdata_processing.english_data_processing\u001b[0m:\u001b[36mevaluate_models\u001b[0m:\u001b[36m74\u001b[0m - \u001b[1mModel <class 'sklearn.ensemble._forest.RandomForestClassifier'> - scaler: StandardScaler(), accuracy: 0.6083921299542059\u001b[0m\n",
      "\u001b[32m2024-05-22 16:21:04.744\u001b[0m | \u001b[1mINFO    \u001b[0m | \u001b[36mdata_processing.english_data_processing\u001b[0m:\u001b[36mevaluate_models\u001b[0m:\u001b[36m74\u001b[0m - \u001b[1mModel <class 'sklearn.ensemble._forest.ExtraTreesClassifier'> - scaler: StandardScaler(), accuracy: 0.6128511430328284\u001b[0m\n",
      "\u001b[32m2024-05-22 16:22:03.463\u001b[0m | \u001b[1mINFO    \u001b[0m | \u001b[36mdata_processing.english_data_processing\u001b[0m:\u001b[36mevaluate_models\u001b[0m:\u001b[36m74\u001b[0m - \u001b[1mModel <class 'sklearn.ensemble._forest.RandomForestClassifier'> - scaler: MinMaxScaler(), accuracy: 0.6163106549918703\u001b[0m\n",
      "\u001b[32m2024-05-22 16:22:17.663\u001b[0m | \u001b[1mINFO    \u001b[0m | \u001b[36mdata_processing.english_data_processing\u001b[0m:\u001b[36mevaluate_models\u001b[0m:\u001b[36m74\u001b[0m - \u001b[1mModel <class 'sklearn.ensemble._forest.ExtraTreesClassifier'> - scaler: MinMaxScaler(), accuracy: 0.6100311427344944\u001b[0m\n",
      "\u001b[32m2024-05-22 16:23:20.331\u001b[0m | \u001b[1mINFO    \u001b[0m | \u001b[36mdata_processing.english_data_processing\u001b[0m:\u001b[36mevaluate_models\u001b[0m:\u001b[36m74\u001b[0m - \u001b[1mModel <class 'sklearn.ensemble._forest.RandomForestClassifier'> - scaler: MaxAbsScaler(), accuracy: 0.6096676727145559\u001b[0m\n",
      "\u001b[32m2024-05-22 16:23:34.531\u001b[0m | \u001b[1mINFO    \u001b[0m | \u001b[36mdata_processing.english_data_processing\u001b[0m:\u001b[36mevaluate_models\u001b[0m:\u001b[36m74\u001b[0m - \u001b[1mModel <class 'sklearn.ensemble._forest.ExtraTreesClassifier'> - scaler: MaxAbsScaler(), accuracy: 0.6139437077256854\u001b[0m\n",
      "\u001b[32m2024-05-22 16:24:32.482\u001b[0m | \u001b[1mINFO    \u001b[0m | \u001b[36mdata_processing.english_data_processing\u001b[0m:\u001b[36mevaluate_models\u001b[0m:\u001b[36m74\u001b[0m - \u001b[1mModel <class 'sklearn.ensemble._forest.RandomForestClassifier'> - scaler: RobustScaler(), accuracy: 0.610303455202693\u001b[0m\n",
      "\u001b[32m2024-05-22 16:24:46.824\u001b[0m | \u001b[1mINFO    \u001b[0m | \u001b[36mdata_processing.english_data_processing\u001b[0m:\u001b[36mevaluate_models\u001b[0m:\u001b[36m74\u001b[0m - \u001b[1mModel <class 'sklearn.ensemble._forest.ExtraTreesClassifier'> - scaler: RobustScaler(), accuracy: 0.6096670926210448\u001b[0m\n",
      "\u001b[32m2024-05-22 16:25:44.731\u001b[0m | \u001b[1mINFO    \u001b[0m | \u001b[36mdata_processing.english_data_processing\u001b[0m:\u001b[36mevaluate_models\u001b[0m:\u001b[36m74\u001b[0m - \u001b[1mModel <class 'sklearn.ensemble._forest.RandomForestClassifier'> - scaler: Normalizer(), accuracy: 0.5839102777653472\u001b[0m\n",
      "\u001b[32m2024-05-22 16:25:58.019\u001b[0m | \u001b[1mINFO    \u001b[0m | \u001b[36mdata_processing.english_data_processing\u001b[0m:\u001b[36mevaluate_models\u001b[0m:\u001b[36m74\u001b[0m - \u001b[1mModel <class 'sklearn.ensemble._forest.ExtraTreesClassifier'> - scaler: Normalizer(), accuracy: 0.5913718548572887\u001b[0m\n",
      "\u001b[32m2024-05-22 16:25:58.020\u001b[0m | \u001b[1mINFO    \u001b[0m | \u001b[36mdata_processing.english_data_processing\u001b[0m:\u001b[36mevaluate_models\u001b[0m:\u001b[36m82\u001b[0m - \u001b[1mBest Model: <class 'sklearn.ensemble._forest.RandomForestClassifier'>\u001b[0m\n",
      "\u001b[32m2024-05-22 16:25:58.020\u001b[0m | \u001b[1mINFO    \u001b[0m | \u001b[36mdata_processing.english_data_processing\u001b[0m:\u001b[36mevaluate_models\u001b[0m:\u001b[36m83\u001b[0m - \u001b[1mBest Scaler: MinMaxScaler\u001b[0m\n",
      "\u001b[32m2024-05-22 16:25:58.021\u001b[0m | \u001b[1mINFO    \u001b[0m | \u001b[36mdata_processing.english_data_processing\u001b[0m:\u001b[36mevaluate_models\u001b[0m:\u001b[36m84\u001b[0m - \u001b[1mBest Average Accuracy: 0.6163106549918703\u001b[0m\n",
      "\u001b[32m2024-05-22 16:25:58.022\u001b[0m | \u001b[1mINFO    \u001b[0m | \u001b[36mfeature_extraction.feature_extractor\u001b[0m:\u001b[36mprocess_folder\u001b[0m:\u001b[36m148\u001b[0m - \u001b[1mProcessing input folder: D:/data_analysis/speech_emotion_recognition/data/EnglishDataset/cleaned_data3\u001b[0m\n"
     ]
    },
    {
     "name": "stdout",
     "output_type": "stream",
     "text": [
      "Scaler: MinMaxScaler, Model: <class 'sklearn.ensemble._forest.RandomForestClassifier'>, n_mfcc: 13, Selected features: ['mfcc_statistics', 'zcr', 'rms'], Accuracy: 0.6163106549918703\n"
     ]
    },
    {
     "name": "stderr",
     "output_type": "stream",
     "text": [
      "\u001b[32m2024-05-22 16:27:02.597\u001b[0m | \u001b[1mINFO    \u001b[0m | \u001b[36mfeature_extraction.feature_extractor\u001b[0m:\u001b[36mprocess_folder\u001b[0m:\u001b[36m158\u001b[0m - \u001b[1mFeature extraction completed. Data saved to: D:/data_analysis/speech_emotion_recognition/notebooks/feature4.csv\u001b[0m\n",
      "\u001b[32m2024-05-22 16:27:02.670\u001b[0m | \u001b[1mINFO    \u001b[0m | \u001b[36mdata_processing.english_data_processing\u001b[0m:\u001b[36mevaluate_models\u001b[0m:\u001b[36m53\u001b[0m - \u001b[1mFinding best model....\u001b[0m\n",
      "\u001b[32m2024-05-22 16:28:00.207\u001b[0m | \u001b[1mINFO    \u001b[0m | \u001b[36mdata_processing.english_data_processing\u001b[0m:\u001b[36mevaluate_models\u001b[0m:\u001b[36m74\u001b[0m - \u001b[1mModel <class 'sklearn.ensemble._forest.RandomForestClassifier'> - scaler: None, accuracy: 0.6108487431031024\u001b[0m\n",
      "\u001b[32m2024-05-22 16:28:14.570\u001b[0m | \u001b[1mINFO    \u001b[0m | \u001b[36mdata_processing.english_data_processing\u001b[0m:\u001b[36mevaluate_models\u001b[0m:\u001b[36m74\u001b[0m - \u001b[1mModel <class 'sklearn.ensemble._forest.ExtraTreesClassifier'> - scaler: None, accuracy: 0.6073005597073676\u001b[0m\n",
      "\u001b[32m2024-05-22 16:29:16.842\u001b[0m | \u001b[1mINFO    \u001b[0m | \u001b[36mdata_processing.english_data_processing\u001b[0m:\u001b[36mevaluate_models\u001b[0m:\u001b[36m74\u001b[0m - \u001b[1mModel <class 'sklearn.ensemble._forest.RandomForestClassifier'> - scaler: StandardScaler(), accuracy: 0.6146714764705784\u001b[0m\n",
      "\u001b[32m2024-05-22 16:29:31.191\u001b[0m | \u001b[1mINFO    \u001b[0m | \u001b[36mdata_processing.english_data_processing\u001b[0m:\u001b[36mevaluate_models\u001b[0m:\u001b[36m74\u001b[0m - \u001b[1mModel <class 'sklearn.ensemble._forest.ExtraTreesClassifier'> - scaler: StandardScaler(), accuracy: 0.6126704853393796\u001b[0m\n",
      "\u001b[32m2024-05-22 16:30:33.499\u001b[0m | \u001b[1mINFO    \u001b[0m | \u001b[36mdata_processing.english_data_processing\u001b[0m:\u001b[36mevaluate_models\u001b[0m:\u001b[36m74\u001b[0m - \u001b[1mModel <class 'sklearn.ensemble._forest.RandomForestClassifier'> - scaler: MinMaxScaler(), accuracy: 0.613943376243679\u001b[0m\n",
      "\u001b[32m2024-05-22 16:30:46.590\u001b[0m | \u001b[1mINFO    \u001b[0m | \u001b[36mdata_processing.english_data_processing\u001b[0m:\u001b[36mevaluate_models\u001b[0m:\u001b[36m74\u001b[0m - \u001b[1mModel <class 'sklearn.ensemble._forest.ExtraTreesClassifier'> - scaler: MinMaxScaler(), accuracy: 0.6120335426642203\u001b[0m\n",
      "\u001b[32m2024-05-22 16:31:45.456\u001b[0m | \u001b[1mINFO    \u001b[0m | \u001b[36mdata_processing.english_data_processing\u001b[0m:\u001b[36mevaluate_models\u001b[0m:\u001b[36m74\u001b[0m - \u001b[1mModel <class 'sklearn.ensemble._forest.RandomForestClassifier'> - scaler: MaxAbsScaler(), accuracy: 0.6121232085469321\u001b[0m\n",
      "\u001b[32m2024-05-22 16:31:59.988\u001b[0m | \u001b[1mINFO    \u001b[0m | \u001b[36mdata_processing.english_data_processing\u001b[0m:\u001b[36mevaluate_models\u001b[0m:\u001b[36m74\u001b[0m - \u001b[1mModel <class 'sklearn.ensemble._forest.ExtraTreesClassifier'> - scaler: MaxAbsScaler(), accuracy: 0.6085746107986892\u001b[0m\n",
      "\u001b[32m2024-05-22 16:32:59.878\u001b[0m | \u001b[1mINFO    \u001b[0m | \u001b[36mdata_processing.english_data_processing\u001b[0m:\u001b[36mevaluate_models\u001b[0m:\u001b[36m74\u001b[0m - \u001b[1mModel <class 'sklearn.ensemble._forest.RandomForestClassifier'> - scaler: RobustScaler(), accuracy: 0.6113040336387939\u001b[0m\n",
      "\u001b[32m2024-05-22 16:33:13.116\u001b[0m | \u001b[1mINFO    \u001b[0m | \u001b[36mdata_processing.english_data_processing\u001b[0m:\u001b[36mevaluate_models\u001b[0m:\u001b[36m74\u001b[0m - \u001b[1mModel <class 'sklearn.ensemble._forest.ExtraTreesClassifier'> - scaler: RobustScaler(), accuracy: 0.6088487464179225\u001b[0m\n",
      "\u001b[32m2024-05-22 16:34:07.985\u001b[0m | \u001b[1mINFO    \u001b[0m | \u001b[36mdata_processing.english_data_processing\u001b[0m:\u001b[36mevaluate_models\u001b[0m:\u001b[36m74\u001b[0m - \u001b[1mModel <class 'sklearn.ensemble._forest.RandomForestClassifier'> - scaler: Normalizer(), accuracy: 0.5788134933065495\u001b[0m\n",
      "\u001b[32m2024-05-22 16:34:21.351\u001b[0m | \u001b[1mINFO    \u001b[0m | \u001b[36mdata_processing.english_data_processing\u001b[0m:\u001b[36mevaluate_models\u001b[0m:\u001b[36m74\u001b[0m - \u001b[1mModel <class 'sklearn.ensemble._forest.ExtraTreesClassifier'> - scaler: Normalizer(), accuracy: 0.5839099462833409\u001b[0m\n",
      "\u001b[32m2024-05-22 16:34:21.351\u001b[0m | \u001b[1mINFO    \u001b[0m | \u001b[36mdata_processing.english_data_processing\u001b[0m:\u001b[36mevaluate_models\u001b[0m:\u001b[36m82\u001b[0m - \u001b[1mBest Model: <class 'sklearn.ensemble._forest.RandomForestClassifier'>\u001b[0m\n",
      "\u001b[32m2024-05-22 16:34:21.352\u001b[0m | \u001b[1mINFO    \u001b[0m | \u001b[36mdata_processing.english_data_processing\u001b[0m:\u001b[36mevaluate_models\u001b[0m:\u001b[36m83\u001b[0m - \u001b[1mBest Scaler: StandardScaler\u001b[0m\n",
      "\u001b[32m2024-05-22 16:34:21.353\u001b[0m | \u001b[1mINFO    \u001b[0m | \u001b[36mdata_processing.english_data_processing\u001b[0m:\u001b[36mevaluate_models\u001b[0m:\u001b[36m84\u001b[0m - \u001b[1mBest Average Accuracy: 0.6146714764705784\u001b[0m\n",
      "\u001b[32m2024-05-22 16:34:21.355\u001b[0m | \u001b[1mINFO    \u001b[0m | \u001b[36mfeature_extraction.feature_extractor\u001b[0m:\u001b[36mprocess_folder\u001b[0m:\u001b[36m148\u001b[0m - \u001b[1mProcessing input folder: D:/data_analysis/speech_emotion_recognition/data/EnglishDataset/cleaned_data3\u001b[0m\n"
     ]
    },
    {
     "name": "stdout",
     "output_type": "stream",
     "text": [
      "Scaler: StandardScaler, Model: <class 'sklearn.ensemble._forest.RandomForestClassifier'>, n_mfcc: 13, Selected features: ['mfcc_statistics', 'zcr', 'pitch'], Accuracy: 0.6146714764705784\n"
     ]
    },
    {
     "name": "stderr",
     "output_type": "stream",
     "text": [
      "\u001b[32m2024-05-22 16:35:23.628\u001b[0m | \u001b[1mINFO    \u001b[0m | \u001b[36mfeature_extraction.feature_extractor\u001b[0m:\u001b[36mprocess_folder\u001b[0m:\u001b[36m158\u001b[0m - \u001b[1mFeature extraction completed. Data saved to: D:/data_analysis/speech_emotion_recognition/notebooks/feature4.csv\u001b[0m\n",
      "\u001b[32m2024-05-22 16:35:23.660\u001b[0m | \u001b[1mINFO    \u001b[0m | \u001b[36mdata_processing.english_data_processing\u001b[0m:\u001b[36mevaluate_models\u001b[0m:\u001b[36m53\u001b[0m - \u001b[1mFinding best model....\u001b[0m\n",
      "\u001b[32m2024-05-22 16:35:54.454\u001b[0m | \u001b[1mINFO    \u001b[0m | \u001b[36mdata_processing.english_data_processing\u001b[0m:\u001b[36mevaluate_models\u001b[0m:\u001b[36m74\u001b[0m - \u001b[1mModel <class 'sklearn.ensemble._forest.RandomForestClassifier'> - scaler: None, accuracy: 0.5858209400498218\u001b[0m\n",
      "\u001b[32m2024-05-22 16:36:03.355\u001b[0m | \u001b[1mINFO    \u001b[0m | \u001b[36mdata_processing.english_data_processing\u001b[0m:\u001b[36mevaluate_models\u001b[0m:\u001b[36m74\u001b[0m - \u001b[1mModel <class 'sklearn.ensemble._forest.ExtraTreesClassifier'> - scaler: None, accuracy: 0.5944680625373954\u001b[0m\n",
      "\u001b[32m2024-05-22 16:36:33.403\u001b[0m | \u001b[1mINFO    \u001b[0m | \u001b[36mdata_processing.english_data_processing\u001b[0m:\u001b[36mevaluate_models\u001b[0m:\u001b[36m74\u001b[0m - \u001b[1mModel <class 'sklearn.ensemble._forest.RandomForestClassifier'> - scaler: StandardScaler(), accuracy: 0.5881869757404894\u001b[0m\n",
      "\u001b[32m2024-05-22 16:36:42.298\u001b[0m | \u001b[1mINFO    \u001b[0m | \u001b[36mdata_processing.english_data_processing\u001b[0m:\u001b[36mevaluate_models\u001b[0m:\u001b[36m74\u001b[0m - \u001b[1mModel <class 'sklearn.ensemble._forest.ExtraTreesClassifier'> - scaler: StandardScaler(), accuracy: 0.5941039295534439\u001b[0m\n",
      "\u001b[32m2024-05-22 16:37:12.625\u001b[0m | \u001b[1mINFO    \u001b[0m | \u001b[36mdata_processing.english_data_processing\u001b[0m:\u001b[36mevaluate_models\u001b[0m:\u001b[36m74\u001b[0m - \u001b[1mModel <class 'sklearn.ensemble._forest.RandomForestClassifier'> - scaler: MinMaxScaler(), accuracy: 0.5913729321738093\u001b[0m\n",
      "\u001b[32m2024-05-22 16:37:21.671\u001b[0m | \u001b[1mINFO    \u001b[0m | \u001b[36mdata_processing.english_data_processing\u001b[0m:\u001b[36mevaluate_models\u001b[0m:\u001b[36m74\u001b[0m - \u001b[1mModel <class 'sklearn.ensemble._forest.ExtraTreesClassifier'> - scaler: MinMaxScaler(), accuracy: 0.5947417009336191\u001b[0m\n",
      "\u001b[32m2024-05-22 16:37:52.529\u001b[0m | \u001b[1mINFO    \u001b[0m | \u001b[36mdata_processing.english_data_processing\u001b[0m:\u001b[36mevaluate_models\u001b[0m:\u001b[36m74\u001b[0m - \u001b[1mModel <class 'sklearn.ensemble._forest.RandomForestClassifier'> - scaler: MaxAbsScaler(), accuracy: 0.5874597870891074\u001b[0m\n",
      "\u001b[32m2024-05-22 16:38:01.817\u001b[0m | \u001b[1mINFO    \u001b[0m | \u001b[36mdata_processing.english_data_processing\u001b[0m:\u001b[36mevaluate_models\u001b[0m:\u001b[36m74\u001b[0m - \u001b[1mModel <class 'sklearn.ensemble._forest.ExtraTreesClassifier'> - scaler: MaxAbsScaler(), accuracy: 0.5915556616297976\u001b[0m\n",
      "\u001b[32m2024-05-22 16:38:32.053\u001b[0m | \u001b[1mINFO    \u001b[0m | \u001b[36mdata_processing.english_data_processing\u001b[0m:\u001b[36mevaluate_models\u001b[0m:\u001b[36m74\u001b[0m - \u001b[1mModel <class 'sklearn.ensemble._forest.RandomForestClassifier'> - scaler: RobustScaler(), accuracy: 0.5910079704848421\u001b[0m\n",
      "\u001b[32m2024-05-22 16:38:41.017\u001b[0m | \u001b[1mINFO    \u001b[0m | \u001b[36mdata_processing.english_data_processing\u001b[0m:\u001b[36mevaluate_models\u001b[0m:\u001b[36m74\u001b[0m - \u001b[1mModel <class 'sklearn.ensemble._forest.ExtraTreesClassifier'> - scaler: RobustScaler(), accuracy: 0.5921926043049568\u001b[0m\n",
      "\u001b[32m2024-05-22 16:39:09.343\u001b[0m | \u001b[1mINFO    \u001b[0m | \u001b[36mdata_processing.english_data_processing\u001b[0m:\u001b[36mevaluate_models\u001b[0m:\u001b[36m74\u001b[0m - \u001b[1mModel <class 'sklearn.ensemble._forest.RandomForestClassifier'> - scaler: Normalizer(), accuracy: 0.5888247471206643\u001b[0m\n",
      "\u001b[32m2024-05-22 16:39:18.303\u001b[0m | \u001b[1mINFO    \u001b[0m | \u001b[36mdata_processing.english_data_processing\u001b[0m:\u001b[36mevaluate_models\u001b[0m:\u001b[36m74\u001b[0m - \u001b[1mModel <class 'sklearn.ensemble._forest.ExtraTreesClassifier'> - scaler: Normalizer(), accuracy: 0.5923735934804119\u001b[0m\n",
      "\u001b[32m2024-05-22 16:39:18.304\u001b[0m | \u001b[1mINFO    \u001b[0m | \u001b[36mdata_processing.english_data_processing\u001b[0m:\u001b[36mevaluate_models\u001b[0m:\u001b[36m82\u001b[0m - \u001b[1mBest Model: <class 'sklearn.ensemble._forest.ExtraTreesClassifier'>\u001b[0m\n",
      "\u001b[32m2024-05-22 16:39:18.305\u001b[0m | \u001b[1mINFO    \u001b[0m | \u001b[36mdata_processing.english_data_processing\u001b[0m:\u001b[36mevaluate_models\u001b[0m:\u001b[36m83\u001b[0m - \u001b[1mBest Scaler: MinMaxScaler\u001b[0m\n",
      "\u001b[32m2024-05-22 16:39:18.305\u001b[0m | \u001b[1mINFO    \u001b[0m | \u001b[36mdata_processing.english_data_processing\u001b[0m:\u001b[36mevaluate_models\u001b[0m:\u001b[36m84\u001b[0m - \u001b[1mBest Average Accuracy: 0.5947417009336191\u001b[0m\n",
      "\u001b[32m2024-05-22 16:39:18.306\u001b[0m | \u001b[1mINFO    \u001b[0m | \u001b[36mfeature_extraction.feature_extractor\u001b[0m:\u001b[36mprocess_folder\u001b[0m:\u001b[36m148\u001b[0m - \u001b[1mProcessing input folder: D:/data_analysis/speech_emotion_recognition/data/EnglishDataset/cleaned_data3\u001b[0m\n"
     ]
    },
    {
     "name": "stdout",
     "output_type": "stream",
     "text": [
      "Scaler: MinMaxScaler, Model: <class 'sklearn.ensemble._forest.ExtraTreesClassifier'>, n_mfcc: 13, Selected features: ['mfcc', 'pitch', 'rms'], Accuracy: 0.5947417009336191\n"
     ]
    },
    {
     "name": "stderr",
     "output_type": "stream",
     "text": [
      "\u001b[32m2024-05-22 16:40:05.505\u001b[0m | \u001b[1mINFO    \u001b[0m | \u001b[36mfeature_extraction.feature_extractor\u001b[0m:\u001b[36mprocess_folder\u001b[0m:\u001b[36m158\u001b[0m - \u001b[1mFeature extraction completed. Data saved to: D:/data_analysis/speech_emotion_recognition/notebooks/feature4.csv\u001b[0m\n",
      "\u001b[32m2024-05-22 16:40:05.542\u001b[0m | \u001b[1mINFO    \u001b[0m | \u001b[36mdata_processing.english_data_processing\u001b[0m:\u001b[36mevaluate_models\u001b[0m:\u001b[36m53\u001b[0m - \u001b[1mFinding best model....\u001b[0m\n",
      "\u001b[32m2024-05-22 16:40:37.277\u001b[0m | \u001b[1mINFO    \u001b[0m | \u001b[36mdata_processing.english_data_processing\u001b[0m:\u001b[36mevaluate_models\u001b[0m:\u001b[36m74\u001b[0m - \u001b[1mModel <class 'sklearn.ensemble._forest.RandomForestClassifier'> - scaler: None, accuracy: 0.5839996121660526\u001b[0m\n",
      "\u001b[32m2024-05-22 16:40:47.281\u001b[0m | \u001b[1mINFO    \u001b[0m | \u001b[36mdata_processing.english_data_processing\u001b[0m:\u001b[36mevaluate_models\u001b[0m:\u001b[36m74\u001b[0m - \u001b[1mModel <class 'sklearn.ensemble._forest.ExtraTreesClassifier'> - scaler: None, accuracy: 0.584731690177028\u001b[0m\n",
      "\u001b[32m2024-05-22 16:41:17.563\u001b[0m | \u001b[1mINFO    \u001b[0m | \u001b[36mdata_processing.english_data_processing\u001b[0m:\u001b[36mevaluate_models\u001b[0m:\u001b[36m74\u001b[0m - \u001b[1mModel <class 'sklearn.ensemble._forest.RandomForestClassifier'> - scaler: StandardScaler(), accuracy: 0.5835458961698912\u001b[0m\n",
      "\u001b[32m2024-05-22 16:41:26.627\u001b[0m | \u001b[1mINFO    \u001b[0m | \u001b[36mdata_processing.english_data_processing\u001b[0m:\u001b[36mevaluate_models\u001b[0m:\u001b[36m74\u001b[0m - \u001b[1mModel <class 'sklearn.ensemble._forest.ExtraTreesClassifier'> - scaler: StandardScaler(), accuracy: 0.5850930055639255\u001b[0m\n",
      "\u001b[32m2024-05-22 16:41:55.689\u001b[0m | \u001b[1mINFO    \u001b[0m | \u001b[36mdata_processing.english_data_processing\u001b[0m:\u001b[36mevaluate_models\u001b[0m:\u001b[36m74\u001b[0m - \u001b[1mModel <class 'sklearn.ensemble._forest.RandomForestClassifier'> - scaler: MinMaxScaler(), accuracy: 0.581634985273912\u001b[0m\n",
      "\u001b[32m2024-05-22 16:42:04.643\u001b[0m | \u001b[1mINFO    \u001b[0m | \u001b[36mdata_processing.english_data_processing\u001b[0m:\u001b[36mevaluate_models\u001b[0m:\u001b[36m74\u001b[0m - \u001b[1mModel <class 'sklearn.ensemble._forest.ExtraTreesClassifier'> - scaler: MinMaxScaler(), accuracy: 0.5870953226231497\u001b[0m\n",
      "\u001b[32m2024-05-22 16:42:33.586\u001b[0m | \u001b[1mINFO    \u001b[0m | \u001b[36mdata_processing.english_data_processing\u001b[0m:\u001b[36mevaluate_models\u001b[0m:\u001b[36m74\u001b[0m - \u001b[1mModel <class 'sklearn.ensemble._forest.RandomForestClassifier'> - scaler: MaxAbsScaler(), accuracy: 0.5864583799479904\u001b[0m\n",
      "\u001b[32m2024-05-22 16:42:42.507\u001b[0m | \u001b[1mINFO    \u001b[0m | \u001b[36mdata_processing.english_data_processing\u001b[0m:\u001b[36mevaluate_models\u001b[0m:\u001b[36m74\u001b[0m - \u001b[1mModel <class 'sklearn.ensemble._forest.ExtraTreesClassifier'> - scaler: MaxAbsScaler(), accuracy: 0.5844563943707726\u001b[0m\n",
      "\u001b[32m2024-05-22 16:43:11.811\u001b[0m | \u001b[1mINFO    \u001b[0m | \u001b[36mdata_processing.english_data_processing\u001b[0m:\u001b[36mevaluate_models\u001b[0m:\u001b[36m74\u001b[0m - \u001b[1mModel <class 'sklearn.ensemble._forest.RandomForestClassifier'> - scaler: RobustScaler(), accuracy: 0.5824545745345578\u001b[0m\n",
      "\u001b[32m2024-05-22 16:43:20.999\u001b[0m | \u001b[1mINFO    \u001b[0m | \u001b[36mdata_processing.english_data_processing\u001b[0m:\u001b[36mevaluate_models\u001b[0m:\u001b[36m74\u001b[0m - \u001b[1mModel <class 'sklearn.ensemble._forest.ExtraTreesClassifier'> - scaler: RobustScaler(), accuracy: 0.5820897785865939\u001b[0m\n",
      "\u001b[32m2024-05-22 16:43:49.151\u001b[0m | \u001b[1mINFO    \u001b[0m | \u001b[36mdata_processing.english_data_processing\u001b[0m:\u001b[36mevaluate_models\u001b[0m:\u001b[36m74\u001b[0m - \u001b[1mModel <class 'sklearn.ensemble._forest.RandomForestClassifier'> - scaler: Normalizer(), accuracy: 0.5776305997669682\u001b[0m\n",
      "\u001b[32m2024-05-22 16:43:58.409\u001b[0m | \u001b[1mINFO    \u001b[0m | \u001b[36mdata_processing.english_data_processing\u001b[0m:\u001b[36mevaluate_models\u001b[0m:\u001b[36m74\u001b[0m - \u001b[1mModel <class 'sklearn.ensemble._forest.ExtraTreesClassifier'> - scaler: Normalizer(), accuracy: 0.5827265555207499\u001b[0m\n",
      "\u001b[32m2024-05-22 16:43:58.410\u001b[0m | \u001b[1mINFO    \u001b[0m | \u001b[36mdata_processing.english_data_processing\u001b[0m:\u001b[36mevaluate_models\u001b[0m:\u001b[36m82\u001b[0m - \u001b[1mBest Model: <class 'sklearn.ensemble._forest.ExtraTreesClassifier'>\u001b[0m\n",
      "\u001b[32m2024-05-22 16:43:58.410\u001b[0m | \u001b[1mINFO    \u001b[0m | \u001b[36mdata_processing.english_data_processing\u001b[0m:\u001b[36mevaluate_models\u001b[0m:\u001b[36m83\u001b[0m - \u001b[1mBest Scaler: MinMaxScaler\u001b[0m\n",
      "\u001b[32m2024-05-22 16:43:58.411\u001b[0m | \u001b[1mINFO    \u001b[0m | \u001b[36mdata_processing.english_data_processing\u001b[0m:\u001b[36mevaluate_models\u001b[0m:\u001b[36m84\u001b[0m - \u001b[1mBest Average Accuracy: 0.5870953226231497\u001b[0m\n",
      "\u001b[32m2024-05-22 16:43:58.412\u001b[0m | \u001b[1mINFO    \u001b[0m | \u001b[36mfeature_extraction.feature_extractor\u001b[0m:\u001b[36mprocess_folder\u001b[0m:\u001b[36m148\u001b[0m - \u001b[1mProcessing input folder: D:/data_analysis/speech_emotion_recognition/data/EnglishDataset/cleaned_data3\u001b[0m\n"
     ]
    },
    {
     "name": "stdout",
     "output_type": "stream",
     "text": [
      "Scaler: MinMaxScaler, Model: <class 'sklearn.ensemble._forest.ExtraTreesClassifier'>, n_mfcc: 13, Selected features: ['mfcc', 'zcr', 'rms'], Accuracy: 0.5870953226231497\n"
     ]
    },
    {
     "name": "stderr",
     "output_type": "stream",
     "text": [
      "\u001b[32m2024-05-22 16:44:59.917\u001b[0m | \u001b[1mINFO    \u001b[0m | \u001b[36mfeature_extraction.feature_extractor\u001b[0m:\u001b[36mprocess_folder\u001b[0m:\u001b[36m158\u001b[0m - \u001b[1mFeature extraction completed. Data saved to: D:/data_analysis/speech_emotion_recognition/notebooks/feature4.csv\u001b[0m\n",
      "\u001b[32m2024-05-22 16:44:59.952\u001b[0m | \u001b[1mINFO    \u001b[0m | \u001b[36mdata_processing.english_data_processing\u001b[0m:\u001b[36mevaluate_models\u001b[0m:\u001b[36m53\u001b[0m - \u001b[1mFinding best model....\u001b[0m\n",
      "\u001b[32m2024-05-22 16:45:28.776\u001b[0m | \u001b[1mINFO    \u001b[0m | \u001b[36mdata_processing.english_data_processing\u001b[0m:\u001b[36mevaluate_models\u001b[0m:\u001b[36m74\u001b[0m - \u001b[1mModel <class 'sklearn.ensemble._forest.RandomForestClassifier'> - scaler: None, accuracy: 0.5813620927122023\u001b[0m\n",
      "\u001b[32m2024-05-22 16:45:37.857\u001b[0m | \u001b[1mINFO    \u001b[0m | \u001b[36mdata_processing.english_data_processing\u001b[0m:\u001b[36mevaluate_models\u001b[0m:\u001b[36m74\u001b[0m - \u001b[1mModel <class 'sklearn.ensemble._forest.ExtraTreesClassifier'> - scaler: None, accuracy: 0.5836385453906597\u001b[0m\n",
      "\u001b[32m2024-05-22 16:46:06.386\u001b[0m | \u001b[1mINFO    \u001b[0m | \u001b[36mdata_processing.english_data_processing\u001b[0m:\u001b[36mevaluate_models\u001b[0m:\u001b[36m74\u001b[0m - \u001b[1mModel <class 'sklearn.ensemble._forest.RandomForestClassifier'> - scaler: StandardScaler(), accuracy: 0.5792698611587617\u001b[0m\n",
      "\u001b[32m2024-05-22 16:46:15.537\u001b[0m | \u001b[1mINFO    \u001b[0m | \u001b[36mdata_processing.english_data_processing\u001b[0m:\u001b[36mevaluate_models\u001b[0m:\u001b[36m74\u001b[0m - \u001b[1mModel <class 'sklearn.ensemble._forest.ExtraTreesClassifier'> - scaler: StandardScaler(), accuracy: 0.5862771421610306\u001b[0m\n",
      "\u001b[32m2024-05-22 16:46:44.448\u001b[0m | \u001b[1mINFO    \u001b[0m | \u001b[36mdata_processing.english_data_processing\u001b[0m:\u001b[36mevaluate_models\u001b[0m:\u001b[36m74\u001b[0m - \u001b[1mModel <class 'sklearn.ensemble._forest.RandomForestClassifier'> - scaler: MinMaxScaler(), accuracy: 0.5842761510298317\u001b[0m\n",
      "\u001b[32m2024-05-22 16:46:53.652\u001b[0m | \u001b[1mINFO    \u001b[0m | \u001b[36mdata_processing.english_data_processing\u001b[0m:\u001b[36mevaluate_models\u001b[0m:\u001b[36m74\u001b[0m - \u001b[1mModel <class 'sklearn.ensemble._forest.ExtraTreesClassifier'> - scaler: MinMaxScaler(), accuracy: 0.583638711131663\u001b[0m\n",
      "\u001b[32m2024-05-22 16:47:24.036\u001b[0m | \u001b[1mINFO    \u001b[0m | \u001b[36mdata_processing.english_data_processing\u001b[0m:\u001b[36mevaluate_models\u001b[0m:\u001b[36m74\u001b[0m - \u001b[1mModel <class 'sklearn.ensemble._forest.RandomForestClassifier'> - scaler: MaxAbsScaler(), accuracy: 0.5820911873851207\u001b[0m\n",
      "\u001b[32m2024-05-22 16:47:33.947\u001b[0m | \u001b[1mINFO    \u001b[0m | \u001b[36mdata_processing.english_data_processing\u001b[0m:\u001b[36mevaluate_models\u001b[0m:\u001b[36m74\u001b[0m - \u001b[1mModel <class 'sklearn.ensemble._forest.ExtraTreesClassifier'> - scaler: MaxAbsScaler(), accuracy: 0.5848209417072318\u001b[0m\n",
      "\u001b[32m2024-05-22 16:48:04.177\u001b[0m | \u001b[1mINFO    \u001b[0m | \u001b[36mdata_processing.english_data_processing\u001b[0m:\u001b[36mevaluate_models\u001b[0m:\u001b[36m74\u001b[0m - \u001b[1mModel <class 'sklearn.ensemble._forest.RandomForestClassifier'> - scaler: RobustScaler(), accuracy: 0.5830020999385102\u001b[0m\n",
      "\u001b[32m2024-05-22 16:48:13.780\u001b[0m | \u001b[1mINFO    \u001b[0m | \u001b[36mdata_processing.english_data_processing\u001b[0m:\u001b[36mevaluate_models\u001b[0m:\u001b[36m74\u001b[0m - \u001b[1mModel <class 'sklearn.ensemble._forest.ExtraTreesClassifier'> - scaler: RobustScaler(), accuracy: 0.5793609358400003\u001b[0m\n",
      "\u001b[32m2024-05-22 16:48:45.341\u001b[0m | \u001b[1mINFO    \u001b[0m | \u001b[36mdata_processing.english_data_processing\u001b[0m:\u001b[36mevaluate_models\u001b[0m:\u001b[36m74\u001b[0m - \u001b[1mModel <class 'sklearn.ensemble._forest.RandomForestClassifier'> - scaler: Normalizer(), accuracy: 0.5726249728599108\u001b[0m\n",
      "\u001b[32m2024-05-22 16:48:55.444\u001b[0m | \u001b[1mINFO    \u001b[0m | \u001b[36mdata_processing.english_data_processing\u001b[0m:\u001b[36mevaluate_models\u001b[0m:\u001b[36m74\u001b[0m - \u001b[1mModel <class 'sklearn.ensemble._forest.ExtraTreesClassifier'> - scaler: Normalizer(), accuracy: 0.5718067923977916\u001b[0m\n",
      "\u001b[32m2024-05-22 16:48:55.445\u001b[0m | \u001b[1mINFO    \u001b[0m | \u001b[36mdata_processing.english_data_processing\u001b[0m:\u001b[36mevaluate_models\u001b[0m:\u001b[36m82\u001b[0m - \u001b[1mBest Model: <class 'sklearn.ensemble._forest.ExtraTreesClassifier'>\u001b[0m\n",
      "\u001b[32m2024-05-22 16:48:55.446\u001b[0m | \u001b[1mINFO    \u001b[0m | \u001b[36mdata_processing.english_data_processing\u001b[0m:\u001b[36mevaluate_models\u001b[0m:\u001b[36m83\u001b[0m - \u001b[1mBest Scaler: StandardScaler\u001b[0m\n",
      "\u001b[32m2024-05-22 16:48:55.446\u001b[0m | \u001b[1mINFO    \u001b[0m | \u001b[36mdata_processing.english_data_processing\u001b[0m:\u001b[36mevaluate_models\u001b[0m:\u001b[36m84\u001b[0m - \u001b[1mBest Average Accuracy: 0.5862771421610306\u001b[0m\n",
      "\u001b[32m2024-05-22 16:48:55.448\u001b[0m | \u001b[1mINFO    \u001b[0m | \u001b[36mfeature_extraction.feature_extractor\u001b[0m:\u001b[36mprocess_folder\u001b[0m:\u001b[36m148\u001b[0m - \u001b[1mProcessing input folder: D:/data_analysis/speech_emotion_recognition/data/EnglishDataset/cleaned_data3\u001b[0m\n"
     ]
    },
    {
     "name": "stdout",
     "output_type": "stream",
     "text": [
      "Scaler: StandardScaler, Model: <class 'sklearn.ensemble._forest.ExtraTreesClassifier'>, n_mfcc: 13, Selected features: ['mfcc', 'zcr', 'pitch'], Accuracy: 0.5862771421610306\n"
     ]
    },
    {
     "name": "stderr",
     "output_type": "stream",
     "text": [
      "\u001b[32m2024-05-22 16:50:09.722\u001b[0m | \u001b[1mINFO    \u001b[0m | \u001b[36mfeature_extraction.feature_extractor\u001b[0m:\u001b[36mprocess_folder\u001b[0m:\u001b[36m158\u001b[0m - \u001b[1mFeature extraction completed. Data saved to: D:/data_analysis/speech_emotion_recognition/notebooks/feature4.csv\u001b[0m\n",
      "\u001b[32m2024-05-22 16:50:09.828\u001b[0m | \u001b[1mINFO    \u001b[0m | \u001b[36mdata_processing.english_data_processing\u001b[0m:\u001b[36mevaluate_models\u001b[0m:\u001b[36m53\u001b[0m - \u001b[1mFinding best model....\u001b[0m\n",
      "\u001b[32m2024-05-22 16:51:18.226\u001b[0m | \u001b[1mINFO    \u001b[0m | \u001b[36mdata_processing.english_data_processing\u001b[0m:\u001b[36mevaluate_models\u001b[0m:\u001b[36m74\u001b[0m - \u001b[1mModel <class 'sklearn.ensemble._forest.RandomForestClassifier'> - scaler: None, accuracy: 0.6108492403261121\u001b[0m\n",
      "\u001b[32m2024-05-22 16:51:33.331\u001b[0m | \u001b[1mINFO    \u001b[0m | \u001b[36mdata_processing.english_data_processing\u001b[0m:\u001b[36mevaluate_models\u001b[0m:\u001b[36m74\u001b[0m - \u001b[1mModel <class 'sklearn.ensemble._forest.ExtraTreesClassifier'> - scaler: None, accuracy: 0.6104849416011575\u001b[0m\n",
      "\u001b[32m2024-05-22 16:52:37.171\u001b[0m | \u001b[1mINFO    \u001b[0m | \u001b[36mdata_processing.english_data_processing\u001b[0m:\u001b[36mevaluate_models\u001b[0m:\u001b[36m74\u001b[0m - \u001b[1mModel <class 'sklearn.ensemble._forest.RandomForestClassifier'> - scaler: StandardScaler(), accuracy: 0.6083023812009924\u001b[0m\n",
      "\u001b[32m2024-05-22 16:52:51.385\u001b[0m | \u001b[1mINFO    \u001b[0m | \u001b[36mdata_processing.english_data_processing\u001b[0m:\u001b[36mevaluate_models\u001b[0m:\u001b[36m74\u001b[0m - \u001b[1mModel <class 'sklearn.ensemble._forest.ExtraTreesClassifier'> - scaler: StandardScaler(), accuracy: 0.6153999910499859\u001b[0m\n",
      "\u001b[32m2024-05-22 16:53:55.399\u001b[0m | \u001b[1mINFO    \u001b[0m | \u001b[36mdata_processing.english_data_processing\u001b[0m:\u001b[36mevaluate_models\u001b[0m:\u001b[36m74\u001b[0m - \u001b[1mModel <class 'sklearn.ensemble._forest.RandomForestClassifier'> - scaler: MinMaxScaler(), accuracy: 0.6111229615928374\u001b[0m\n",
      "\u001b[32m2024-05-22 16:54:09.301\u001b[0m | \u001b[1mINFO    \u001b[0m | \u001b[36mdata_processing.english_data_processing\u001b[0m:\u001b[36mevaluate_models\u001b[0m:\u001b[36m74\u001b[0m - \u001b[1mModel <class 'sklearn.ensemble._forest.ExtraTreesClassifier'> - scaler: MinMaxScaler(), accuracy: 0.6080277483587497\u001b[0m\n",
      "\u001b[32m2024-05-22 16:55:13.171\u001b[0m | \u001b[1mINFO    \u001b[0m | \u001b[36mdata_processing.english_data_processing\u001b[0m:\u001b[36mevaluate_models\u001b[0m:\u001b[36m74\u001b[0m - \u001b[1mModel <class 'sklearn.ensemble._forest.RandomForestClassifier'> - scaler: MaxAbsScaler(), accuracy: 0.6052070850964034\u001b[0m\n",
      "\u001b[32m2024-05-22 16:55:27.838\u001b[0m | \u001b[1mINFO    \u001b[0m | \u001b[36mdata_processing.english_data_processing\u001b[0m:\u001b[36mevaluate_models\u001b[0m:\u001b[36m74\u001b[0m - \u001b[1mModel <class 'sklearn.ensemble._forest.ExtraTreesClassifier'> - scaler: MaxAbsScaler(), accuracy: 0.6134881685784891\u001b[0m\n",
      "\u001b[32m2024-05-22 16:56:37.707\u001b[0m | \u001b[1mINFO    \u001b[0m | \u001b[36mdata_processing.english_data_processing\u001b[0m:\u001b[36mevaluate_models\u001b[0m:\u001b[36m74\u001b[0m - \u001b[1mModel <class 'sklearn.ensemble._forest.RandomForestClassifier'> - scaler: RobustScaler(), accuracy: 0.6099403995352624\u001b[0m\n",
      "\u001b[32m2024-05-22 16:56:52.842\u001b[0m | \u001b[1mINFO    \u001b[0m | \u001b[36mdata_processing.english_data_processing\u001b[0m:\u001b[36mevaluate_models\u001b[0m:\u001b[36m74\u001b[0m - \u001b[1mModel <class 'sklearn.ensemble._forest.ExtraTreesClassifier'> - scaler: RobustScaler(), accuracy: 0.6149458607013164\u001b[0m\n",
      "\u001b[32m2024-05-22 16:57:57.035\u001b[0m | \u001b[1mINFO    \u001b[0m | \u001b[36mdata_processing.english_data_processing\u001b[0m:\u001b[36mevaluate_models\u001b[0m:\u001b[36m74\u001b[0m - \u001b[1mModel <class 'sklearn.ensemble._forest.RandomForestClassifier'> - scaler: Normalizer(), accuracy: 0.5809064706945045\u001b[0m\n",
      "\u001b[32m2024-05-22 16:58:12.668\u001b[0m | \u001b[1mINFO    \u001b[0m | \u001b[36mdata_processing.english_data_processing\u001b[0m:\u001b[36mevaluate_models\u001b[0m:\u001b[36m74\u001b[0m - \u001b[1mModel <class 'sklearn.ensemble._forest.ExtraTreesClassifier'> - scaler: Normalizer(), accuracy: 0.5905533429131633\u001b[0m\n",
      "\u001b[32m2024-05-22 16:58:12.669\u001b[0m | \u001b[1mINFO    \u001b[0m | \u001b[36mdata_processing.english_data_processing\u001b[0m:\u001b[36mevaluate_models\u001b[0m:\u001b[36m82\u001b[0m - \u001b[1mBest Model: <class 'sklearn.ensemble._forest.ExtraTreesClassifier'>\u001b[0m\n",
      "\u001b[32m2024-05-22 16:58:12.669\u001b[0m | \u001b[1mINFO    \u001b[0m | \u001b[36mdata_processing.english_data_processing\u001b[0m:\u001b[36mevaluate_models\u001b[0m:\u001b[36m83\u001b[0m - \u001b[1mBest Scaler: StandardScaler\u001b[0m\n",
      "\u001b[32m2024-05-22 16:58:12.670\u001b[0m | \u001b[1mINFO    \u001b[0m | \u001b[36mdata_processing.english_data_processing\u001b[0m:\u001b[36mevaluate_models\u001b[0m:\u001b[36m84\u001b[0m - \u001b[1mBest Average Accuracy: 0.6153999910499859\u001b[0m\n",
      "\u001b[32m2024-05-22 16:58:12.671\u001b[0m | \u001b[1mINFO    \u001b[0m | \u001b[36mfeature_extraction.feature_extractor\u001b[0m:\u001b[36mprocess_folder\u001b[0m:\u001b[36m148\u001b[0m - \u001b[1mProcessing input folder: D:/data_analysis/speech_emotion_recognition/data/EnglishDataset/cleaned_data3\u001b[0m\n"
     ]
    },
    {
     "name": "stdout",
     "output_type": "stream",
     "text": [
      "Scaler: StandardScaler, Model: <class 'sklearn.ensemble._forest.ExtraTreesClassifier'>, n_mfcc: 13, Selected features: ['mfcc', 'mfcc_statistics', 'rms'], Accuracy: 0.6153999910499859\n"
     ]
    },
    {
     "name": "stderr",
     "output_type": "stream",
     "text": [
      "\u001b[32m2024-05-22 16:59:40.102\u001b[0m | \u001b[1mINFO    \u001b[0m | \u001b[36mfeature_extraction.feature_extractor\u001b[0m:\u001b[36mprocess_folder\u001b[0m:\u001b[36m158\u001b[0m - \u001b[1mFeature extraction completed. Data saved to: D:/data_analysis/speech_emotion_recognition/notebooks/feature4.csv\u001b[0m\n",
      "\u001b[32m2024-05-22 16:59:40.187\u001b[0m | \u001b[1mINFO    \u001b[0m | \u001b[36mdata_processing.english_data_processing\u001b[0m:\u001b[36mevaluate_models\u001b[0m:\u001b[36m53\u001b[0m - \u001b[1mFinding best model....\u001b[0m\n",
      "\u001b[32m2024-05-22 17:00:38.926\u001b[0m | \u001b[1mINFO    \u001b[0m | \u001b[36mdata_processing.english_data_processing\u001b[0m:\u001b[36mevaluate_models\u001b[0m:\u001b[36m74\u001b[0m - \u001b[1mModel <class 'sklearn.ensemble._forest.RandomForestClassifier'> - scaler: None, accuracy: 0.606208906590028\u001b[0m\n",
      "\u001b[32m2024-05-22 17:00:51.777\u001b[0m | \u001b[1mINFO    \u001b[0m | \u001b[36mdata_processing.english_data_processing\u001b[0m:\u001b[36mevaluate_models\u001b[0m:\u001b[36m74\u001b[0m - \u001b[1mModel <class 'sklearn.ensemble._forest.ExtraTreesClassifier'> - scaler: None, accuracy: 0.6104865990111893\u001b[0m\n",
      "\u001b[32m2024-05-22 17:01:49.436\u001b[0m | \u001b[1mINFO    \u001b[0m | \u001b[36mdata_processing.english_data_processing\u001b[0m:\u001b[36mevaluate_models\u001b[0m:\u001b[36m74\u001b[0m - \u001b[1mModel <class 'sklearn.ensemble._forest.RandomForestClassifier'> - scaler: StandardScaler(), accuracy: 0.6107580827743718\u001b[0m\n",
      "\u001b[32m2024-05-22 17:02:02.619\u001b[0m | \u001b[1mINFO    \u001b[0m | \u001b[36mdata_processing.english_data_processing\u001b[0m:\u001b[36mevaluate_models\u001b[0m:\u001b[36m74\u001b[0m - \u001b[1mModel <class 'sklearn.ensemble._forest.ExtraTreesClassifier'> - scaler: StandardScaler(), accuracy: 0.6072088220621163\u001b[0m\n",
      "\u001b[32m2024-05-22 17:02:59.158\u001b[0m | \u001b[1mINFO    \u001b[0m | \u001b[36mdata_processing.english_data_processing\u001b[0m:\u001b[36mevaluate_models\u001b[0m:\u001b[36m74\u001b[0m - \u001b[1mModel <class 'sklearn.ensemble._forest.RandomForestClassifier'> - scaler: MinMaxScaler(), accuracy: 0.6102115518164385\u001b[0m\n",
      "\u001b[32m2024-05-22 17:03:12.118\u001b[0m | \u001b[1mINFO    \u001b[0m | \u001b[36mdata_processing.english_data_processing\u001b[0m:\u001b[36mevaluate_models\u001b[0m:\u001b[36m74\u001b[0m - \u001b[1mModel <class 'sklearn.ensemble._forest.ExtraTreesClassifier'> - scaler: MinMaxScaler(), accuracy: 0.608300309438453\u001b[0m\n",
      "\u001b[32m2024-05-22 17:04:10.510\u001b[0m | \u001b[1mINFO    \u001b[0m | \u001b[36mdata_processing.english_data_processing\u001b[0m:\u001b[36mevaluate_models\u001b[0m:\u001b[36m74\u001b[0m - \u001b[1mModel <class 'sklearn.ensemble._forest.RandomForestClassifier'> - scaler: MaxAbsScaler(), accuracy: 0.61166841523425\u001b[0m\n",
      "\u001b[32m2024-05-22 17:04:25.154\u001b[0m | \u001b[1mINFO    \u001b[0m | \u001b[36mdata_processing.english_data_processing\u001b[0m:\u001b[36mevaluate_models\u001b[0m:\u001b[36m74\u001b[0m - \u001b[1mModel <class 'sklearn.ensemble._forest.ExtraTreesClassifier'> - scaler: MaxAbsScaler(), accuracy: 0.6114870117062872\u001b[0m\n",
      "\u001b[32m2024-05-22 17:05:27.501\u001b[0m | \u001b[1mINFO    \u001b[0m | \u001b[36mdata_processing.english_data_processing\u001b[0m:\u001b[36mevaluate_models\u001b[0m:\u001b[36m74\u001b[0m - \u001b[1mModel <class 'sklearn.ensemble._forest.RandomForestClassifier'> - scaler: RobustScaler(), accuracy: 0.6114859343897665\u001b[0m\n",
      "\u001b[32m2024-05-22 17:05:42.020\u001b[0m | \u001b[1mINFO    \u001b[0m | \u001b[36mdata_processing.english_data_processing\u001b[0m:\u001b[36mevaluate_models\u001b[0m:\u001b[36m74\u001b[0m - \u001b[1mModel <class 'sklearn.ensemble._forest.ExtraTreesClassifier'> - scaler: RobustScaler(), accuracy: 0.6110297322785575\u001b[0m\n",
      "\u001b[32m2024-05-22 17:06:37.472\u001b[0m | \u001b[1mINFO    \u001b[0m | \u001b[36mdata_processing.english_data_processing\u001b[0m:\u001b[36mevaluate_models\u001b[0m:\u001b[36m74\u001b[0m - \u001b[1mModel <class 'sklearn.ensemble._forest.RandomForestClassifier'> - scaler: Normalizer(), accuracy: 0.5731706751128283\u001b[0m\n",
      "\u001b[32m2024-05-22 17:06:50.698\u001b[0m | \u001b[1mINFO    \u001b[0m | \u001b[36mdata_processing.english_data_processing\u001b[0m:\u001b[36mevaluate_models\u001b[0m:\u001b[36m74\u001b[0m - \u001b[1mModel <class 'sklearn.ensemble._forest.ExtraTreesClassifier'> - scaler: Normalizer(), accuracy: 0.5798162263756917\u001b[0m\n",
      "\u001b[32m2024-05-22 17:06:50.699\u001b[0m | \u001b[1mINFO    \u001b[0m | \u001b[36mdata_processing.english_data_processing\u001b[0m:\u001b[36mevaluate_models\u001b[0m:\u001b[36m82\u001b[0m - \u001b[1mBest Model: <class 'sklearn.ensemble._forest.RandomForestClassifier'>\u001b[0m\n",
      "\u001b[32m2024-05-22 17:06:50.699\u001b[0m | \u001b[1mINFO    \u001b[0m | \u001b[36mdata_processing.english_data_processing\u001b[0m:\u001b[36mevaluate_models\u001b[0m:\u001b[36m83\u001b[0m - \u001b[1mBest Scaler: MaxAbsScaler\u001b[0m\n",
      "\u001b[32m2024-05-22 17:06:50.700\u001b[0m | \u001b[1mINFO    \u001b[0m | \u001b[36mdata_processing.english_data_processing\u001b[0m:\u001b[36mevaluate_models\u001b[0m:\u001b[36m84\u001b[0m - \u001b[1mBest Average Accuracy: 0.61166841523425\u001b[0m\n",
      "\u001b[32m2024-05-22 17:06:50.702\u001b[0m | \u001b[1mINFO    \u001b[0m | \u001b[36mfeature_extraction.feature_extractor\u001b[0m:\u001b[36mprocess_folder\u001b[0m:\u001b[36m148\u001b[0m - \u001b[1mProcessing input folder: D:/data_analysis/speech_emotion_recognition/data/EnglishDataset/cleaned_data3\u001b[0m\n"
     ]
    },
    {
     "name": "stdout",
     "output_type": "stream",
     "text": [
      "Scaler: MaxAbsScaler, Model: <class 'sklearn.ensemble._forest.RandomForestClassifier'>, n_mfcc: 13, Selected features: ['mfcc', 'mfcc_statistics', 'pitch'], Accuracy: 0.61166841523425\n"
     ]
    },
    {
     "name": "stderr",
     "output_type": "stream",
     "text": [
      "\u001b[32m2024-05-22 17:08:05.507\u001b[0m | \u001b[1mINFO    \u001b[0m | \u001b[36mfeature_extraction.feature_extractor\u001b[0m:\u001b[36mprocess_folder\u001b[0m:\u001b[36m158\u001b[0m - \u001b[1mFeature extraction completed. Data saved to: D:/data_analysis/speech_emotion_recognition/notebooks/feature4.csv\u001b[0m\n",
      "\u001b[32m2024-05-22 17:08:05.603\u001b[0m | \u001b[1mINFO    \u001b[0m | \u001b[36mdata_processing.english_data_processing\u001b[0m:\u001b[36mevaluate_models\u001b[0m:\u001b[36m53\u001b[0m - \u001b[1mFinding best model....\u001b[0m\n",
      "\u001b[32m2024-05-22 17:09:08.985\u001b[0m | \u001b[1mINFO    \u001b[0m | \u001b[36mdata_processing.english_data_processing\u001b[0m:\u001b[36mevaluate_models\u001b[0m:\u001b[36m74\u001b[0m - \u001b[1mModel <class 'sklearn.ensemble._forest.RandomForestClassifier'> - scaler: None, accuracy: 0.6069364267234164\u001b[0m\n",
      "\u001b[32m2024-05-22 17:09:23.051\u001b[0m | \u001b[1mINFO    \u001b[0m | \u001b[36mdata_processing.english_data_processing\u001b[0m:\u001b[36mevaluate_models\u001b[0m:\u001b[36m74\u001b[0m - \u001b[1mModel <class 'sklearn.ensemble._forest.ExtraTreesClassifier'> - scaler: None, accuracy: 0.6120317195131856\u001b[0m\n",
      "\u001b[32m2024-05-22 17:10:26.243\u001b[0m | \u001b[1mINFO    \u001b[0m | \u001b[36mdata_processing.english_data_processing\u001b[0m:\u001b[36mevaluate_models\u001b[0m:\u001b[36m74\u001b[0m - \u001b[1mModel <class 'sklearn.ensemble._forest.RandomForestClassifier'> - scaler: StandardScaler(), accuracy: 0.6056629557256057\u001b[0m\n",
      "\u001b[32m2024-05-22 17:10:40.572\u001b[0m | \u001b[1mINFO    \u001b[0m | \u001b[36mdata_processing.english_data_processing\u001b[0m:\u001b[36mevaluate_models\u001b[0m:\u001b[36m74\u001b[0m - \u001b[1mModel <class 'sklearn.ensemble._forest.ExtraTreesClassifier'> - scaler: StandardScaler(), accuracy: 0.6045693137162281\u001b[0m\n",
      "\u001b[32m2024-05-22 17:11:43.534\u001b[0m | \u001b[1mINFO    \u001b[0m | \u001b[36mdata_processing.english_data_processing\u001b[0m:\u001b[36mevaluate_models\u001b[0m:\u001b[36m74\u001b[0m - \u001b[1mModel <class 'sklearn.ensemble._forest.RandomForestClassifier'> - scaler: MinMaxScaler(), accuracy: 0.6046590624694416\u001b[0m\n",
      "\u001b[32m2024-05-22 17:11:57.415\u001b[0m | \u001b[1mINFO    \u001b[0m | \u001b[36mdata_processing.english_data_processing\u001b[0m:\u001b[36mevaluate_models\u001b[0m:\u001b[36m74\u001b[0m - \u001b[1mModel <class 'sklearn.ensemble._forest.ExtraTreesClassifier'> - scaler: MinMaxScaler(), accuracy: 0.6031146878019594\u001b[0m\n",
      "\u001b[32m2024-05-22 17:13:04.987\u001b[0m | \u001b[1mINFO    \u001b[0m | \u001b[36mdata_processing.english_data_processing\u001b[0m:\u001b[36mevaluate_models\u001b[0m:\u001b[36m74\u001b[0m - \u001b[1mModel <class 'sklearn.ensemble._forest.RandomForestClassifier'> - scaler: MaxAbsScaler(), accuracy: 0.6097570071152613\u001b[0m\n",
      "\u001b[32m2024-05-22 17:13:20.140\u001b[0m | \u001b[1mINFO    \u001b[0m | \u001b[36mdata_processing.english_data_processing\u001b[0m:\u001b[36mevaluate_models\u001b[0m:\u001b[36m74\u001b[0m - \u001b[1mModel <class 'sklearn.ensemble._forest.ExtraTreesClassifier'> - scaler: MaxAbsScaler(), accuracy: 0.6119420536304738\u001b[0m\n",
      "\u001b[32m2024-05-22 17:14:25.972\u001b[0m | \u001b[1mINFO    \u001b[0m | \u001b[36mdata_processing.english_data_processing\u001b[0m:\u001b[36mevaluate_models\u001b[0m:\u001b[36m74\u001b[0m - \u001b[1mModel <class 'sklearn.ensemble._forest.RandomForestClassifier'> - scaler: RobustScaler(), accuracy: 0.607664692691319\u001b[0m\n",
      "\u001b[32m2024-05-22 17:14:39.849\u001b[0m | \u001b[1mINFO    \u001b[0m | \u001b[36mdata_processing.english_data_processing\u001b[0m:\u001b[36mevaluate_models\u001b[0m:\u001b[36m74\u001b[0m - \u001b[1mModel <class 'sklearn.ensemble._forest.ExtraTreesClassifier'> - scaler: RobustScaler(), accuracy: 0.6093928741313099\u001b[0m\n",
      "\u001b[32m2024-05-22 17:15:40.875\u001b[0m | \u001b[1mINFO    \u001b[0m | \u001b[36mdata_processing.english_data_processing\u001b[0m:\u001b[36mevaluate_models\u001b[0m:\u001b[36m74\u001b[0m - \u001b[1mModel <class 'sklearn.ensemble._forest.RandomForestClassifier'> - scaler: Normalizer(), accuracy: 0.579177792031504\u001b[0m\n",
      "\u001b[32m2024-05-22 17:15:56.396\u001b[0m | \u001b[1mINFO    \u001b[0m | \u001b[36mdata_processing.english_data_processing\u001b[0m:\u001b[36mevaluate_models\u001b[0m:\u001b[36m74\u001b[0m - \u001b[1mModel <class 'sklearn.ensemble._forest.ExtraTreesClassifier'> - scaler: Normalizer(), accuracy: 0.5771754749722797\u001b[0m\n",
      "\u001b[32m2024-05-22 17:15:56.397\u001b[0m | \u001b[1mINFO    \u001b[0m | \u001b[36mdata_processing.english_data_processing\u001b[0m:\u001b[36mevaluate_models\u001b[0m:\u001b[36m82\u001b[0m - \u001b[1mBest Model: <class 'sklearn.ensemble._forest.ExtraTreesClassifier'>\u001b[0m\n",
      "\u001b[32m2024-05-22 17:15:56.398\u001b[0m | \u001b[1mINFO    \u001b[0m | \u001b[36mdata_processing.english_data_processing\u001b[0m:\u001b[36mevaluate_models\u001b[0m:\u001b[36m83\u001b[0m - \u001b[1mBest Scaler: None\u001b[0m\n",
      "\u001b[32m2024-05-22 17:15:56.399\u001b[0m | \u001b[1mINFO    \u001b[0m | \u001b[36mdata_processing.english_data_processing\u001b[0m:\u001b[36mevaluate_models\u001b[0m:\u001b[36m84\u001b[0m - \u001b[1mBest Average Accuracy: 0.6120317195131856\u001b[0m\n",
      "\u001b[32m2024-05-22 17:15:56.401\u001b[0m | \u001b[1mINFO    \u001b[0m | \u001b[36mfeature_extraction.feature_extractor\u001b[0m:\u001b[36mprocess_folder\u001b[0m:\u001b[36m148\u001b[0m - \u001b[1mProcessing input folder: D:/data_analysis/speech_emotion_recognition/data/EnglishDataset/cleaned_data3\u001b[0m\n"
     ]
    },
    {
     "name": "stdout",
     "output_type": "stream",
     "text": [
      "Scaler: None, Model: <class 'sklearn.ensemble._forest.ExtraTreesClassifier'>, n_mfcc: 13, Selected features: ['mfcc', 'mfcc_statistics', 'zcr'], Accuracy: 0.6120317195131856\n"
     ]
    },
    {
     "name": "stderr",
     "output_type": "stream",
     "text": [
      "\u001b[32m2024-05-22 17:16:27.904\u001b[0m | \u001b[1mINFO    \u001b[0m | \u001b[36mfeature_extraction.feature_extractor\u001b[0m:\u001b[36mprocess_folder\u001b[0m:\u001b[36m158\u001b[0m - \u001b[1mFeature extraction completed. Data saved to: D:/data_analysis/speech_emotion_recognition/notebooks/feature4.csv\u001b[0m\n",
      "\u001b[32m2024-05-22 17:16:27.920\u001b[0m | \u001b[1mINFO    \u001b[0m | \u001b[36mdata_processing.english_data_processing\u001b[0m:\u001b[36mevaluate_models\u001b[0m:\u001b[36m53\u001b[0m - \u001b[1mFinding best model....\u001b[0m\n",
      "\u001b[32m2024-05-22 17:16:45.540\u001b[0m | \u001b[1mINFO    \u001b[0m | \u001b[36mdata_processing.english_data_processing\u001b[0m:\u001b[36mevaluate_models\u001b[0m:\u001b[36m74\u001b[0m - \u001b[1mModel <class 'sklearn.ensemble._forest.RandomForestClassifier'> - scaler: None, accuracy: 0.4655983830307731\u001b[0m\n",
      "\u001b[32m2024-05-22 17:16:53.180\u001b[0m | \u001b[1mINFO    \u001b[0m | \u001b[36mdata_processing.english_data_processing\u001b[0m:\u001b[36mevaluate_models\u001b[0m:\u001b[36m74\u001b[0m - \u001b[1mModel <class 'sklearn.ensemble._forest.ExtraTreesClassifier'> - scaler: None, accuracy: 0.4642340859632287\u001b[0m\n",
      "\u001b[32m2024-05-22 17:17:12.590\u001b[0m | \u001b[1mINFO    \u001b[0m | \u001b[36mdata_processing.english_data_processing\u001b[0m:\u001b[36mevaluate_models\u001b[0m:\u001b[36m74\u001b[0m - \u001b[1mModel <class 'sklearn.ensemble._forest.RandomForestClassifier'> - scaler: StandardScaler(), accuracy: 0.46423168271868287\u001b[0m\n",
      "\u001b[32m2024-05-22 17:17:20.292\u001b[0m | \u001b[1mINFO    \u001b[0m | \u001b[36mdata_processing.english_data_processing\u001b[0m:\u001b[36mevaluate_models\u001b[0m:\u001b[36m74\u001b[0m - \u001b[1mModel <class 'sklearn.ensemble._forest.ExtraTreesClassifier'> - scaler: StandardScaler(), accuracy: 0.46077523696819933\u001b[0m\n",
      "\u001b[32m2024-05-22 17:17:39.247\u001b[0m | \u001b[1mINFO    \u001b[0m | \u001b[36mdata_processing.english_data_processing\u001b[0m:\u001b[36mevaluate_models\u001b[0m:\u001b[36m74\u001b[0m - \u001b[1mModel <class 'sklearn.ensemble._forest.RandomForestClassifier'> - scaler: MinMaxScaler(), accuracy: 0.46223002862347123\u001b[0m\n",
      "\u001b[32m2024-05-22 17:17:46.993\u001b[0m | \u001b[1mINFO    \u001b[0m | \u001b[36mdata_processing.english_data_processing\u001b[0m:\u001b[36mevaluate_models\u001b[0m:\u001b[36m74\u001b[0m - \u001b[1mModel <class 'sklearn.ensemble._forest.ExtraTreesClassifier'> - scaler: MinMaxScaler(), accuracy: 0.4570427495769461\u001b[0m\n",
      "\u001b[32m2024-05-22 17:18:05.840\u001b[0m | \u001b[1mINFO    \u001b[0m | \u001b[36mdata_processing.english_data_processing\u001b[0m:\u001b[36mevaluate_models\u001b[0m:\u001b[36m74\u001b[0m - \u001b[1mModel <class 'sklearn.ensemble._forest.RandomForestClassifier'> - scaler: MaxAbsScaler(), accuracy: 0.4655083027955535\u001b[0m\n",
      "\u001b[32m2024-05-22 17:18:13.570\u001b[0m | \u001b[1mINFO    \u001b[0m | \u001b[36mdata_processing.english_data_processing\u001b[0m:\u001b[36mevaluate_models\u001b[0m:\u001b[36m74\u001b[0m - \u001b[1mModel <class 'sklearn.ensemble._forest.ExtraTreesClassifier'> - scaler: MaxAbsScaler(), accuracy: 0.4594996113373476\u001b[0m\n",
      "\u001b[32m2024-05-22 17:18:32.361\u001b[0m | \u001b[1mINFO    \u001b[0m | \u001b[36mdata_processing.english_data_processing\u001b[0m:\u001b[36mevaluate_models\u001b[0m:\u001b[36m74\u001b[0m - \u001b[1mModel <class 'sklearn.ensemble._forest.RandomForestClassifier'> - scaler: RobustScaler(), accuracy: 0.46532457889354617\u001b[0m\n",
      "\u001b[32m2024-05-22 17:18:39.965\u001b[0m | \u001b[1mINFO    \u001b[0m | \u001b[36mdata_processing.english_data_processing\u001b[0m:\u001b[36mevaluate_models\u001b[0m:\u001b[36m74\u001b[0m - \u001b[1mModel <class 'sklearn.ensemble._forest.ExtraTreesClassifier'> - scaler: RobustScaler(), accuracy: 0.4590471383987099\u001b[0m\n",
      "\u001b[32m2024-05-22 17:18:56.943\u001b[0m | \u001b[1mINFO    \u001b[0m | \u001b[36mdata_processing.english_data_processing\u001b[0m:\u001b[36mevaluate_models\u001b[0m:\u001b[36m74\u001b[0m - \u001b[1mModel <class 'sklearn.ensemble._forest.RandomForestClassifier'> - scaler: Normalizer(), accuracy: 0.4280131300022706\u001b[0m\n",
      "\u001b[32m2024-05-22 17:19:04.158\u001b[0m | \u001b[1mINFO    \u001b[0m | \u001b[36mdata_processing.english_data_processing\u001b[0m:\u001b[36mevaluate_models\u001b[0m:\u001b[36m74\u001b[0m - \u001b[1mModel <class 'sklearn.ensemble._forest.ExtraTreesClassifier'> - scaler: Normalizer(), accuracy: 0.4138140982612112\u001b[0m\n",
      "\u001b[32m2024-05-22 17:19:04.159\u001b[0m | \u001b[1mINFO    \u001b[0m | \u001b[36mdata_processing.english_data_processing\u001b[0m:\u001b[36mevaluate_models\u001b[0m:\u001b[36m82\u001b[0m - \u001b[1mBest Model: <class 'sklearn.ensemble._forest.RandomForestClassifier'>\u001b[0m\n",
      "\u001b[32m2024-05-22 17:19:04.160\u001b[0m | \u001b[1mINFO    \u001b[0m | \u001b[36mdata_processing.english_data_processing\u001b[0m:\u001b[36mevaluate_models\u001b[0m:\u001b[36m83\u001b[0m - \u001b[1mBest Scaler: None\u001b[0m\n",
      "\u001b[32m2024-05-22 17:19:04.160\u001b[0m | \u001b[1mINFO    \u001b[0m | \u001b[36mdata_processing.english_data_processing\u001b[0m:\u001b[36mevaluate_models\u001b[0m:\u001b[36m84\u001b[0m - \u001b[1mBest Average Accuracy: 0.4655983830307731\u001b[0m\n",
      "\u001b[32m2024-05-22 17:19:04.161\u001b[0m | \u001b[1mINFO    \u001b[0m | \u001b[36mfeature_extraction.feature_extractor\u001b[0m:\u001b[36mprocess_folder\u001b[0m:\u001b[36m148\u001b[0m - \u001b[1mProcessing input folder: D:/data_analysis/speech_emotion_recognition/data/EnglishDataset/cleaned_data3\u001b[0m\n"
     ]
    },
    {
     "name": "stdout",
     "output_type": "stream",
     "text": [
      "Scaler: None, Model: <class 'sklearn.ensemble._forest.RandomForestClassifier'>, n_mfcc: 13, Selected features: ['pitch', 'rms'], Accuracy: 0.4655983830307731\n"
     ]
    },
    {
     "name": "stderr",
     "output_type": "stream",
     "text": [
      "\u001b[32m2024-05-22 17:19:20.670\u001b[0m | \u001b[1mINFO    \u001b[0m | \u001b[36mfeature_extraction.feature_extractor\u001b[0m:\u001b[36mprocess_folder\u001b[0m:\u001b[36m158\u001b[0m - \u001b[1mFeature extraction completed. Data saved to: D:/data_analysis/speech_emotion_recognition/notebooks/feature4.csv\u001b[0m\n",
      "\u001b[32m2024-05-22 17:19:20.688\u001b[0m | \u001b[1mINFO    \u001b[0m | \u001b[36mdata_processing.english_data_processing\u001b[0m:\u001b[36mevaluate_models\u001b[0m:\u001b[36m53\u001b[0m - \u001b[1mFinding best model....\u001b[0m\n",
      "\u001b[32m2024-05-22 17:19:43.284\u001b[0m | \u001b[1mINFO    \u001b[0m | \u001b[36mdata_processing.english_data_processing\u001b[0m:\u001b[36mevaluate_models\u001b[0m:\u001b[36m74\u001b[0m - \u001b[1mModel <class 'sklearn.ensemble._forest.RandomForestClassifier'> - scaler: None, accuracy: 0.49417494957329977\u001b[0m\n",
      "\u001b[32m2024-05-22 17:19:51.625\u001b[0m | \u001b[1mINFO    \u001b[0m | \u001b[36mdata_processing.english_data_processing\u001b[0m:\u001b[36mevaluate_models\u001b[0m:\u001b[36m74\u001b[0m - \u001b[1mModel <class 'sklearn.ensemble._forest.ExtraTreesClassifier'> - scaler: None, accuracy: 0.4937187474620909\u001b[0m\n",
      "\u001b[32m2024-05-22 17:20:14.451\u001b[0m | \u001b[1mINFO    \u001b[0m | \u001b[36mdata_processing.english_data_processing\u001b[0m:\u001b[36mevaluate_models\u001b[0m:\u001b[36m74\u001b[0m - \u001b[1mModel <class 'sklearn.ensemble._forest.RandomForestClassifier'> - scaler: StandardScaler(), accuracy: 0.4939015597885808\u001b[0m\n",
      "\u001b[32m2024-05-22 17:20:22.524\u001b[0m | \u001b[1mINFO    \u001b[0m | \u001b[36mdata_processing.english_data_processing\u001b[0m:\u001b[36mevaluate_models\u001b[0m:\u001b[36m74\u001b[0m - \u001b[1mModel <class 'sklearn.ensemble._forest.ExtraTreesClassifier'> - scaler: StandardScaler(), accuracy: 0.4915357727094179\u001b[0m\n",
      "\u001b[32m2024-05-22 17:20:46.097\u001b[0m | \u001b[1mINFO    \u001b[0m | \u001b[36mdata_processing.english_data_processing\u001b[0m:\u001b[36mevaluate_models\u001b[0m:\u001b[36m74\u001b[0m - \u001b[1mModel <class 'sklearn.ensemble._forest.RandomForestClassifier'> - scaler: MinMaxScaler(), accuracy: 0.4969044552839061\u001b[0m\n",
      "\u001b[32m2024-05-22 17:20:54.864\u001b[0m | \u001b[1mINFO    \u001b[0m | \u001b[36mdata_processing.english_data_processing\u001b[0m:\u001b[36mevaluate_models\u001b[0m:\u001b[36m74\u001b[0m - \u001b[1mModel <class 'sklearn.ensemble._forest.ExtraTreesClassifier'> - scaler: MinMaxScaler(), accuracy: 0.4878024566131489\u001b[0m\n",
      "\u001b[32m2024-05-22 17:21:19.371\u001b[0m | \u001b[1mINFO    \u001b[0m | \u001b[36mdata_processing.english_data_processing\u001b[0m:\u001b[36mevaluate_models\u001b[0m:\u001b[36m74\u001b[0m - \u001b[1mModel <class 'sklearn.ensemble._forest.RandomForestClassifier'> - scaler: MaxAbsScaler(), accuracy: 0.4911705624089461\u001b[0m\n",
      "\u001b[32m2024-05-22 17:21:28.278\u001b[0m | \u001b[1mINFO    \u001b[0m | \u001b[36mdata_processing.english_data_processing\u001b[0m:\u001b[36mevaluate_models\u001b[0m:\u001b[36m74\u001b[0m - \u001b[1mModel <class 'sklearn.ensemble._forest.ExtraTreesClassifier'> - scaler: MaxAbsScaler(), accuracy: 0.4892602316064778\u001b[0m\n",
      "\u001b[32m2024-05-22 17:21:53.025\u001b[0m | \u001b[1mINFO    \u001b[0m | \u001b[36mdata_processing.english_data_processing\u001b[0m:\u001b[36mevaluate_models\u001b[0m:\u001b[36m74\u001b[0m - \u001b[1mModel <class 'sklearn.ensemble._forest.RandomForestClassifier'> - scaler: RobustScaler(), accuracy: 0.49117263417148554\u001b[0m\n",
      "\u001b[32m2024-05-22 17:22:01.886\u001b[0m | \u001b[1mINFO    \u001b[0m | \u001b[36mdata_processing.english_data_processing\u001b[0m:\u001b[36mevaluate_models\u001b[0m:\u001b[36m74\u001b[0m - \u001b[1mModel <class 'sklearn.ensemble._forest.ExtraTreesClassifier'> - scaler: RobustScaler(), accuracy: 0.48716601116099917\u001b[0m\n",
      "\u001b[32m2024-05-22 17:22:28.567\u001b[0m | \u001b[1mINFO    \u001b[0m | \u001b[36mdata_processing.english_data_processing\u001b[0m:\u001b[36mevaluate_models\u001b[0m:\u001b[36m74\u001b[0m - \u001b[1mModel <class 'sklearn.ensemble._forest.RandomForestClassifier'> - scaler: Normalizer(), accuracy: 0.45749895168815496\u001b[0m\n",
      "\u001b[32m2024-05-22 17:22:37.606\u001b[0m | \u001b[1mINFO    \u001b[0m | \u001b[36mdata_processing.english_data_processing\u001b[0m:\u001b[36mevaluate_models\u001b[0m:\u001b[36m74\u001b[0m - \u001b[1mModel <class 'sklearn.ensemble._forest.ExtraTreesClassifier'> - scaler: Normalizer(), accuracy: 0.45376687864940973\u001b[0m\n",
      "\u001b[32m2024-05-22 17:22:37.607\u001b[0m | \u001b[1mINFO    \u001b[0m | \u001b[36mdata_processing.english_data_processing\u001b[0m:\u001b[36mevaluate_models\u001b[0m:\u001b[36m82\u001b[0m - \u001b[1mBest Model: <class 'sklearn.ensemble._forest.RandomForestClassifier'>\u001b[0m\n",
      "\u001b[32m2024-05-22 17:22:37.608\u001b[0m | \u001b[1mINFO    \u001b[0m | \u001b[36mdata_processing.english_data_processing\u001b[0m:\u001b[36mevaluate_models\u001b[0m:\u001b[36m83\u001b[0m - \u001b[1mBest Scaler: MinMaxScaler\u001b[0m\n",
      "\u001b[32m2024-05-22 17:22:37.608\u001b[0m | \u001b[1mINFO    \u001b[0m | \u001b[36mdata_processing.english_data_processing\u001b[0m:\u001b[36mevaluate_models\u001b[0m:\u001b[36m84\u001b[0m - \u001b[1mBest Average Accuracy: 0.4969044552839061\u001b[0m\n",
      "\u001b[32m2024-05-22 17:22:37.610\u001b[0m | \u001b[1mINFO    \u001b[0m | \u001b[36mfeature_extraction.feature_extractor\u001b[0m:\u001b[36mprocess_folder\u001b[0m:\u001b[36m148\u001b[0m - \u001b[1mProcessing input folder: D:/data_analysis/speech_emotion_recognition/data/EnglishDataset/cleaned_data3\u001b[0m\n"
     ]
    },
    {
     "name": "stdout",
     "output_type": "stream",
     "text": [
      "Scaler: MinMaxScaler, Model: <class 'sklearn.ensemble._forest.RandomForestClassifier'>, n_mfcc: 13, Selected features: ['zcr', 'rms'], Accuracy: 0.4969044552839061\n"
     ]
    },
    {
     "name": "stderr",
     "output_type": "stream",
     "text": [
      "\u001b[32m2024-05-22 17:23:07.247\u001b[0m | \u001b[1mINFO    \u001b[0m | \u001b[36mfeature_extraction.feature_extractor\u001b[0m:\u001b[36mprocess_folder\u001b[0m:\u001b[36m158\u001b[0m - \u001b[1mFeature extraction completed. Data saved to: D:/data_analysis/speech_emotion_recognition/notebooks/feature4.csv\u001b[0m\n",
      "\u001b[32m2024-05-22 17:23:07.266\u001b[0m | \u001b[1mINFO    \u001b[0m | \u001b[36mdata_processing.english_data_processing\u001b[0m:\u001b[36mevaluate_models\u001b[0m:\u001b[36m53\u001b[0m - \u001b[1mFinding best model....\u001b[0m\n",
      "\u001b[32m2024-05-22 17:23:22.625\u001b[0m | \u001b[1mINFO    \u001b[0m | \u001b[36mdata_processing.english_data_processing\u001b[0m:\u001b[36mevaluate_models\u001b[0m:\u001b[36m74\u001b[0m - \u001b[1mModel <class 'sklearn.ensemble._forest.RandomForestClassifier'> - scaler: None, accuracy: 0.3754109133820943\u001b[0m\n",
      "\u001b[32m2024-05-22 17:23:29.795\u001b[0m | \u001b[1mINFO    \u001b[0m | \u001b[36mdata_processing.english_data_processing\u001b[0m:\u001b[36mevaluate_models\u001b[0m:\u001b[36m74\u001b[0m - \u001b[1mModel <class 'sklearn.ensemble._forest.ExtraTreesClassifier'> - scaler: None, accuracy: 0.3760475245752473\u001b[0m\n",
      "\u001b[32m2024-05-22 17:23:45.250\u001b[0m | \u001b[1mINFO    \u001b[0m | \u001b[36mdata_processing.english_data_processing\u001b[0m:\u001b[36mevaluate_models\u001b[0m:\u001b[36m74\u001b[0m - \u001b[1mModel <class 'sklearn.ensemble._forest.RandomForestClassifier'> - scaler: StandardScaler(), accuracy: 0.37522884689011865\u001b[0m\n",
      "\u001b[32m2024-05-22 17:23:52.470\u001b[0m | \u001b[1mINFO    \u001b[0m | \u001b[36mdata_processing.english_data_processing\u001b[0m:\u001b[36mevaluate_models\u001b[0m:\u001b[36m74\u001b[0m - \u001b[1mModel <class 'sklearn.ensemble._forest.ExtraTreesClassifier'> - scaler: StandardScaler(), accuracy: 0.3717711580821114\u001b[0m\n",
      "\u001b[32m2024-05-22 17:24:07.970\u001b[0m | \u001b[1mINFO    \u001b[0m | \u001b[36mdata_processing.english_data_processing\u001b[0m:\u001b[36mevaluate_models\u001b[0m:\u001b[36m74\u001b[0m - \u001b[1mModel <class 'sklearn.ensemble._forest.RandomForestClassifier'> - scaler: MinMaxScaler(), accuracy: 0.36940445942743116\u001b[0m\n",
      "\u001b[32m2024-05-22 17:24:15.209\u001b[0m | \u001b[1mINFO    \u001b[0m | \u001b[36mdata_processing.english_data_processing\u001b[0m:\u001b[36mevaluate_models\u001b[0m:\u001b[36m74\u001b[0m - \u001b[1mModel <class 'sklearn.ensemble._forest.ExtraTreesClassifier'> - scaler: MinMaxScaler(), accuracy: 0.37222603426529505\u001b[0m\n",
      "\u001b[32m2024-05-22 17:24:30.725\u001b[0m | \u001b[1mINFO    \u001b[0m | \u001b[36mdata_processing.english_data_processing\u001b[0m:\u001b[36mevaluate_models\u001b[0m:\u001b[36m74\u001b[0m - \u001b[1mModel <class 'sklearn.ensemble._forest.RandomForestClassifier'> - scaler: MaxAbsScaler(), accuracy: 0.37586645252929063\u001b[0m\n",
      "\u001b[32m2024-05-22 17:24:37.918\u001b[0m | \u001b[1mINFO    \u001b[0m | \u001b[36mdata_processing.english_data_processing\u001b[0m:\u001b[36mevaluate_models\u001b[0m:\u001b[36m74\u001b[0m - \u001b[1mModel <class 'sklearn.ensemble._forest.ExtraTreesClassifier'> - scaler: MaxAbsScaler(), accuracy: 0.3713149559709025\u001b[0m\n",
      "\u001b[32m2024-05-22 17:24:53.621\u001b[0m | \u001b[1mINFO    \u001b[0m | \u001b[36mdata_processing.english_data_processing\u001b[0m:\u001b[36mevaluate_models\u001b[0m:\u001b[36m74\u001b[0m - \u001b[1mModel <class 'sklearn.ensemble._forest.RandomForestClassifier'> - scaler: RobustScaler(), accuracy: 0.3753196729598526\u001b[0m\n",
      "\u001b[32m2024-05-22 17:25:01.678\u001b[0m | \u001b[1mINFO    \u001b[0m | \u001b[36mdata_processing.english_data_processing\u001b[0m:\u001b[36mevaluate_models\u001b[0m:\u001b[36m74\u001b[0m - \u001b[1mModel <class 'sklearn.ensemble._forest.ExtraTreesClassifier'> - scaler: RobustScaler(), accuracy: 0.3699514876083739\u001b[0m\n",
      "\u001b[32m2024-05-22 17:25:21.685\u001b[0m | \u001b[1mINFO    \u001b[0m | \u001b[36mdata_processing.english_data_processing\u001b[0m:\u001b[36mevaluate_models\u001b[0m:\u001b[36m74\u001b[0m - \u001b[1mModel <class 'sklearn.ensemble._forest.RandomForestClassifier'> - scaler: Normalizer(), accuracy: 0.3147976053739863\u001b[0m\n",
      "\u001b[32m2024-05-22 17:25:30.206\u001b[0m | \u001b[1mINFO    \u001b[0m | \u001b[36mdata_processing.english_data_processing\u001b[0m:\u001b[36mevaluate_models\u001b[0m:\u001b[36m74\u001b[0m - \u001b[1mModel <class 'sklearn.ensemble._forest.ExtraTreesClassifier'> - scaler: Normalizer(), accuracy: 0.3046962713246518\u001b[0m\n",
      "\u001b[32m2024-05-22 17:25:30.207\u001b[0m | \u001b[1mINFO    \u001b[0m | \u001b[36mdata_processing.english_data_processing\u001b[0m:\u001b[36mevaluate_models\u001b[0m:\u001b[36m82\u001b[0m - \u001b[1mBest Model: <class 'sklearn.ensemble._forest.ExtraTreesClassifier'>\u001b[0m\n",
      "\u001b[32m2024-05-22 17:25:30.207\u001b[0m | \u001b[1mINFO    \u001b[0m | \u001b[36mdata_processing.english_data_processing\u001b[0m:\u001b[36mevaluate_models\u001b[0m:\u001b[36m83\u001b[0m - \u001b[1mBest Scaler: None\u001b[0m\n",
      "\u001b[32m2024-05-22 17:25:30.208\u001b[0m | \u001b[1mINFO    \u001b[0m | \u001b[36mdata_processing.english_data_processing\u001b[0m:\u001b[36mevaluate_models\u001b[0m:\u001b[36m84\u001b[0m - \u001b[1mBest Average Accuracy: 0.3760475245752473\u001b[0m\n",
      "\u001b[32m2024-05-22 17:25:30.209\u001b[0m | \u001b[1mINFO    \u001b[0m | \u001b[36mfeature_extraction.feature_extractor\u001b[0m:\u001b[36mprocess_folder\u001b[0m:\u001b[36m148\u001b[0m - \u001b[1mProcessing input folder: D:/data_analysis/speech_emotion_recognition/data/EnglishDataset/cleaned_data3\u001b[0m\n"
     ]
    },
    {
     "name": "stdout",
     "output_type": "stream",
     "text": [
      "Scaler: None, Model: <class 'sklearn.ensemble._forest.ExtraTreesClassifier'>, n_mfcc: 13, Selected features: ['zcr', 'pitch'], Accuracy: 0.3760475245752473\n"
     ]
    },
    {
     "name": "stderr",
     "output_type": "stream",
     "text": [
      "\u001b[32m2024-05-22 17:26:16.824\u001b[0m | \u001b[1mINFO    \u001b[0m | \u001b[36mfeature_extraction.feature_extractor\u001b[0m:\u001b[36mprocess_folder\u001b[0m:\u001b[36m158\u001b[0m - \u001b[1mFeature extraction completed. Data saved to: D:/data_analysis/speech_emotion_recognition/notebooks/feature4.csv\u001b[0m\n",
      "\u001b[32m2024-05-22 17:26:16.908\u001b[0m | \u001b[1mINFO    \u001b[0m | \u001b[36mdata_processing.english_data_processing\u001b[0m:\u001b[36mevaluate_models\u001b[0m:\u001b[36m53\u001b[0m - \u001b[1mFinding best model....\u001b[0m\n",
      "\u001b[32m2024-05-22 17:27:19.888\u001b[0m | \u001b[1mINFO    \u001b[0m | \u001b[36mdata_processing.english_data_processing\u001b[0m:\u001b[36mevaluate_models\u001b[0m:\u001b[36m74\u001b[0m - \u001b[1mModel <class 'sklearn.ensemble._forest.RandomForestClassifier'> - scaler: None, accuracy: 0.6099398194417511\u001b[0m\n",
      "\u001b[32m2024-05-22 17:27:34.324\u001b[0m | \u001b[1mINFO    \u001b[0m | \u001b[36mdata_processing.english_data_processing\u001b[0m:\u001b[36mevaluate_models\u001b[0m:\u001b[36m74\u001b[0m - \u001b[1mModel <class 'sklearn.ensemble._forest.ExtraTreesClassifier'> - scaler: None, accuracy: 0.6122151119331866\u001b[0m\n",
      "\u001b[32m2024-05-22 17:28:36.618\u001b[0m | \u001b[1mINFO    \u001b[0m | \u001b[36mdata_processing.english_data_processing\u001b[0m:\u001b[36mevaluate_models\u001b[0m:\u001b[36m74\u001b[0m - \u001b[1mModel <class 'sklearn.ensemble._forest.RandomForestClassifier'> - scaler: StandardScaler(), accuracy: 0.6082105606852395\u001b[0m\n",
      "\u001b[32m2024-05-22 17:28:50.252\u001b[0m | \u001b[1mINFO    \u001b[0m | \u001b[36mdata_processing.english_data_processing\u001b[0m:\u001b[36mevaluate_models\u001b[0m:\u001b[36m74\u001b[0m - \u001b[1mModel <class 'sklearn.ensemble._forest.ExtraTreesClassifier'> - scaler: StandardScaler(), accuracy: 0.6132153588872813\u001b[0m\n",
      "\u001b[32m2024-05-22 17:29:49.230\u001b[0m | \u001b[1mINFO    \u001b[0m | \u001b[36mdata_processing.english_data_processing\u001b[0m:\u001b[36mevaluate_models\u001b[0m:\u001b[36m74\u001b[0m - \u001b[1mModel <class 'sklearn.ensemble._forest.RandomForestClassifier'> - scaler: MinMaxScaler(), accuracy: 0.6104850244716591\u001b[0m\n",
      "\u001b[32m2024-05-22 17:30:02.944\u001b[0m | \u001b[1mINFO    \u001b[0m | \u001b[36mdata_processing.english_data_processing\u001b[0m:\u001b[36mevaluate_models\u001b[0m:\u001b[36m74\u001b[0m - \u001b[1mModel <class 'sklearn.ensemble._forest.ExtraTreesClassifier'> - scaler: MinMaxScaler(), accuracy: 0.6055716324328625\u001b[0m\n",
      "\u001b[32m2024-05-22 17:31:04.508\u001b[0m | \u001b[1mINFO    \u001b[0m | \u001b[36mdata_processing.english_data_processing\u001b[0m:\u001b[36mevaluate_models\u001b[0m:\u001b[36m74\u001b[0m - \u001b[1mModel <class 'sklearn.ensemble._forest.RandomForestClassifier'> - scaler: MaxAbsScaler(), accuracy: 0.6091189871235815\u001b[0m\n",
      "\u001b[32m2024-05-22 17:31:18.602\u001b[0m | \u001b[1mINFO    \u001b[0m | \u001b[36mdata_processing.english_data_processing\u001b[0m:\u001b[36mevaluate_models\u001b[0m:\u001b[36m74\u001b[0m - \u001b[1mModel <class 'sklearn.ensemble._forest.ExtraTreesClassifier'> - scaler: MaxAbsScaler(), accuracy: 0.6103935354379126\u001b[0m\n",
      "\u001b[32m2024-05-22 17:32:18.902\u001b[0m | \u001b[1mINFO    \u001b[0m | \u001b[36mdata_processing.english_data_processing\u001b[0m:\u001b[36mevaluate_models\u001b[0m:\u001b[36m74\u001b[0m - \u001b[1mModel <class 'sklearn.ensemble._forest.RandomForestClassifier'> - scaler: RobustScaler(), accuracy: 0.6108494060671152\u001b[0m\n",
      "\u001b[32m2024-05-22 17:32:31.960\u001b[0m | \u001b[1mINFO    \u001b[0m | \u001b[36mdata_processing.english_data_processing\u001b[0m:\u001b[36mevaluate_models\u001b[0m:\u001b[36m74\u001b[0m - \u001b[1mModel <class 'sklearn.ensemble._forest.ExtraTreesClassifier'> - scaler: RobustScaler(), accuracy: 0.6117605672320092\u001b[0m\n",
      "\u001b[32m2024-05-22 17:33:26.444\u001b[0m | \u001b[1mINFO    \u001b[0m | \u001b[36mdata_processing.english_data_processing\u001b[0m:\u001b[36mevaluate_models\u001b[0m:\u001b[36m74\u001b[0m - \u001b[1mModel <class 'sklearn.ensemble._forest.RandomForestClassifier'> - scaler: Normalizer(), accuracy: 0.5869130903901709\u001b[0m\n",
      "\u001b[32m2024-05-22 17:33:39.979\u001b[0m | \u001b[1mINFO    \u001b[0m | \u001b[36mdata_processing.english_data_processing\u001b[0m:\u001b[36mevaluate_models\u001b[0m:\u001b[36m74\u001b[0m - \u001b[1mModel <class 'sklearn.ensemble._forest.ExtraTreesClassifier'> - scaler: Normalizer(), accuracy: 0.5893713609490993\u001b[0m\n",
      "\u001b[32m2024-05-22 17:33:39.979\u001b[0m | \u001b[1mINFO    \u001b[0m | \u001b[36mdata_processing.english_data_processing\u001b[0m:\u001b[36mevaluate_models\u001b[0m:\u001b[36m82\u001b[0m - \u001b[1mBest Model: <class 'sklearn.ensemble._forest.ExtraTreesClassifier'>\u001b[0m\n",
      "\u001b[32m2024-05-22 17:33:39.980\u001b[0m | \u001b[1mINFO    \u001b[0m | \u001b[36mdata_processing.english_data_processing\u001b[0m:\u001b[36mevaluate_models\u001b[0m:\u001b[36m83\u001b[0m - \u001b[1mBest Scaler: StandardScaler\u001b[0m\n",
      "\u001b[32m2024-05-22 17:33:39.981\u001b[0m | \u001b[1mINFO    \u001b[0m | \u001b[36mdata_processing.english_data_processing\u001b[0m:\u001b[36mevaluate_models\u001b[0m:\u001b[36m84\u001b[0m - \u001b[1mBest Average Accuracy: 0.6132153588872813\u001b[0m\n",
      "\u001b[32m2024-05-22 17:33:39.983\u001b[0m | \u001b[1mINFO    \u001b[0m | \u001b[36mfeature_extraction.feature_extractor\u001b[0m:\u001b[36mprocess_folder\u001b[0m:\u001b[36m148\u001b[0m - \u001b[1mProcessing input folder: D:/data_analysis/speech_emotion_recognition/data/EnglishDataset/cleaned_data3\u001b[0m\n"
     ]
    },
    {
     "name": "stdout",
     "output_type": "stream",
     "text": [
      "Scaler: StandardScaler, Model: <class 'sklearn.ensemble._forest.ExtraTreesClassifier'>, n_mfcc: 13, Selected features: ['mfcc_statistics', 'rms'], Accuracy: 0.6132153588872813\n"
     ]
    },
    {
     "name": "stderr",
     "output_type": "stream",
     "text": [
      "\u001b[32m2024-05-22 17:35:21.158\u001b[0m | \u001b[1mINFO    \u001b[0m | \u001b[36mfeature_extraction.feature_extractor\u001b[0m:\u001b[36mprocess_folder\u001b[0m:\u001b[36m158\u001b[0m - \u001b[1mFeature extraction completed. Data saved to: D:/data_analysis/speech_emotion_recognition/notebooks/feature4.csv\u001b[0m\n",
      "\u001b[32m2024-05-22 17:35:21.232\u001b[0m | \u001b[1mINFO    \u001b[0m | \u001b[36mdata_processing.english_data_processing\u001b[0m:\u001b[36mevaluate_models\u001b[0m:\u001b[36m53\u001b[0m - \u001b[1mFinding best model....\u001b[0m\n",
      "\u001b[32m2024-05-22 17:36:18.285\u001b[0m | \u001b[1mINFO    \u001b[0m | \u001b[36mdata_processing.english_data_processing\u001b[0m:\u001b[36mevaluate_models\u001b[0m:\u001b[36m74\u001b[0m - \u001b[1mModel <class 'sklearn.ensemble._forest.RandomForestClassifier'> - scaler: None, accuracy: 0.6089378322071232\u001b[0m\n",
      "\u001b[32m2024-05-22 17:36:31.257\u001b[0m | \u001b[1mINFO    \u001b[0m | \u001b[36mdata_processing.english_data_processing\u001b[0m:\u001b[36mevaluate_models\u001b[0m:\u001b[36m74\u001b[0m - \u001b[1mModel <class 'sklearn.ensemble._forest.ExtraTreesClassifier'> - scaler: None, accuracy: 0.6131242842060426\u001b[0m\n",
      "\u001b[32m2024-05-22 17:37:28.409\u001b[0m | \u001b[1mINFO    \u001b[0m | \u001b[36mdata_processing.english_data_processing\u001b[0m:\u001b[36mevaluate_models\u001b[0m:\u001b[36m74\u001b[0m - \u001b[1mModel <class 'sklearn.ensemble._forest.RandomForestClassifier'> - scaler: StandardScaler(), accuracy: 0.6130335410068103\u001b[0m\n",
      "\u001b[32m2024-05-22 17:37:41.579\u001b[0m | \u001b[1mINFO    \u001b[0m | \u001b[36mdata_processing.english_data_processing\u001b[0m:\u001b[36mevaluate_models\u001b[0m:\u001b[36m74\u001b[0m - \u001b[1mModel <class 'sklearn.ensemble._forest.ExtraTreesClassifier'> - scaler: StandardScaler(), accuracy: 0.6126699052458685\u001b[0m\n",
      "\u001b[32m2024-05-22 17:38:38.967\u001b[0m | \u001b[1mINFO    \u001b[0m | \u001b[36mdata_processing.english_data_processing\u001b[0m:\u001b[36mevaluate_models\u001b[0m:\u001b[36m74\u001b[0m - \u001b[1mModel <class 'sklearn.ensemble._forest.RandomForestClassifier'> - scaler: MinMaxScaler(), accuracy: 0.6088461774323736\u001b[0m\n",
      "\u001b[32m2024-05-22 17:38:52.149\u001b[0m | \u001b[1mINFO    \u001b[0m | \u001b[36mdata_processing.english_data_processing\u001b[0m:\u001b[36mevaluate_models\u001b[0m:\u001b[36m74\u001b[0m - \u001b[1mModel <class 'sklearn.ensemble._forest.ExtraTreesClassifier'> - scaler: MinMaxScaler(), accuracy: 0.6151275128407843\u001b[0m\n",
      "\u001b[32m2024-05-22 17:39:49.602\u001b[0m | \u001b[1mINFO    \u001b[0m | \u001b[36mdata_processing.english_data_processing\u001b[0m:\u001b[36mevaluate_models\u001b[0m:\u001b[36m74\u001b[0m - \u001b[1mModel <class 'sklearn.ensemble._forest.RandomForestClassifier'> - scaler: MaxAbsScaler(), accuracy: 0.6113030391927751\u001b[0m\n",
      "\u001b[32m2024-05-22 17:40:02.630\u001b[0m | \u001b[1mINFO    \u001b[0m | \u001b[36mdata_processing.english_data_processing\u001b[0m:\u001b[36mevaluate_models\u001b[0m:\u001b[36m74\u001b[0m - \u001b[1mModel <class 'sklearn.ensemble._forest.ExtraTreesClassifier'> - scaler: MaxAbsScaler(), accuracy: 0.6143990811318785\u001b[0m\n",
      "\u001b[32m2024-05-22 17:41:01.204\u001b[0m | \u001b[1mINFO    \u001b[0m | \u001b[36mdata_processing.english_data_processing\u001b[0m:\u001b[36mevaluate_models\u001b[0m:\u001b[36m74\u001b[0m - \u001b[1mModel <class 'sklearn.ensemble._forest.RandomForestClassifier'> - scaler: RobustScaler(), accuracy: 0.610576264893901\u001b[0m\n",
      "\u001b[32m2024-05-22 17:41:14.525\u001b[0m | \u001b[1mINFO    \u001b[0m | \u001b[36mdata_processing.english_data_processing\u001b[0m:\u001b[36mevaluate_models\u001b[0m:\u001b[36m74\u001b[0m - \u001b[1mModel <class 'sklearn.ensemble._forest.ExtraTreesClassifier'> - scaler: RobustScaler(), accuracy: 0.612488004494896\u001b[0m\n",
      "\u001b[32m2024-05-22 17:42:10.062\u001b[0m | \u001b[1mINFO    \u001b[0m | \u001b[36mdata_processing.english_data_processing\u001b[0m:\u001b[36mevaluate_models\u001b[0m:\u001b[36m74\u001b[0m - \u001b[1mModel <class 'sklearn.ensemble._forest.RandomForestClassifier'> - scaler: Normalizer(), accuracy: 0.5763571287691576\u001b[0m\n",
      "\u001b[32m2024-05-22 17:42:24.512\u001b[0m | \u001b[1mINFO    \u001b[0m | \u001b[36mdata_processing.english_data_processing\u001b[0m:\u001b[36mevaluate_models\u001b[0m:\u001b[36m74\u001b[0m - \u001b[1mModel <class 'sklearn.ensemble._forest.ExtraTreesClassifier'> - scaler: Normalizer(), accuracy: 0.5827276328372706\u001b[0m\n",
      "\u001b[32m2024-05-22 17:42:24.512\u001b[0m | \u001b[1mINFO    \u001b[0m | \u001b[36mdata_processing.english_data_processing\u001b[0m:\u001b[36mevaluate_models\u001b[0m:\u001b[36m82\u001b[0m - \u001b[1mBest Model: <class 'sklearn.ensemble._forest.ExtraTreesClassifier'>\u001b[0m\n",
      "\u001b[32m2024-05-22 17:42:24.513\u001b[0m | \u001b[1mINFO    \u001b[0m | \u001b[36mdata_processing.english_data_processing\u001b[0m:\u001b[36mevaluate_models\u001b[0m:\u001b[36m83\u001b[0m - \u001b[1mBest Scaler: MinMaxScaler\u001b[0m\n",
      "\u001b[32m2024-05-22 17:42:24.514\u001b[0m | \u001b[1mINFO    \u001b[0m | \u001b[36mdata_processing.english_data_processing\u001b[0m:\u001b[36mevaluate_models\u001b[0m:\u001b[36m84\u001b[0m - \u001b[1mBest Average Accuracy: 0.6151275128407843\u001b[0m\n",
      "\u001b[32m2024-05-22 17:42:24.516\u001b[0m | \u001b[1mINFO    \u001b[0m | \u001b[36mfeature_extraction.feature_extractor\u001b[0m:\u001b[36mprocess_folder\u001b[0m:\u001b[36m148\u001b[0m - \u001b[1mProcessing input folder: D:/data_analysis/speech_emotion_recognition/data/EnglishDataset/cleaned_data3\u001b[0m\n"
     ]
    },
    {
     "name": "stdout",
     "output_type": "stream",
     "text": [
      "Scaler: MinMaxScaler, Model: <class 'sklearn.ensemble._forest.ExtraTreesClassifier'>, n_mfcc: 13, Selected features: ['mfcc_statistics', 'pitch'], Accuracy: 0.6151275128407843\n"
     ]
    },
    {
     "name": "stderr",
     "output_type": "stream",
     "text": [
      "\u001b[32m2024-05-22 17:43:09.192\u001b[0m | \u001b[1mINFO    \u001b[0m | \u001b[36mfeature_extraction.feature_extractor\u001b[0m:\u001b[36mprocess_folder\u001b[0m:\u001b[36m158\u001b[0m - \u001b[1mFeature extraction completed. Data saved to: D:/data_analysis/speech_emotion_recognition/notebooks/feature4.csv\u001b[0m\n",
      "\u001b[32m2024-05-22 17:43:09.280\u001b[0m | \u001b[1mINFO    \u001b[0m | \u001b[36mdata_processing.english_data_processing\u001b[0m:\u001b[36mevaluate_models\u001b[0m:\u001b[36m53\u001b[0m - \u001b[1mFinding best model....\u001b[0m\n",
      "\u001b[32m2024-05-22 17:44:11.062\u001b[0m | \u001b[1mINFO    \u001b[0m | \u001b[36mdata_processing.english_data_processing\u001b[0m:\u001b[36mevaluate_models\u001b[0m:\u001b[36m74\u001b[0m - \u001b[1mModel <class 'sklearn.ensemble._forest.RandomForestClassifier'> - scaler: None, accuracy: 0.6068446890781651\u001b[0m\n",
      "\u001b[32m2024-05-22 17:44:25.704\u001b[0m | \u001b[1mINFO    \u001b[0m | \u001b[36mdata_processing.english_data_processing\u001b[0m:\u001b[36mevaluate_models\u001b[0m:\u001b[36m74\u001b[0m - \u001b[1mModel <class 'sklearn.ensemble._forest.ExtraTreesClassifier'> - scaler: None, accuracy: 0.6153089163687472\u001b[0m\n",
      "\u001b[32m2024-05-22 17:45:21.696\u001b[0m | \u001b[1mINFO    \u001b[0m | \u001b[36mdata_processing.english_data_processing\u001b[0m:\u001b[36mevaluate_models\u001b[0m:\u001b[36m74\u001b[0m - \u001b[1mModel <class 'sklearn.ensemble._forest.RandomForestClassifier'> - scaler: StandardScaler(), accuracy: 0.6077550215380433\u001b[0m\n",
      "\u001b[32m2024-05-22 17:45:34.745\u001b[0m | \u001b[1mINFO    \u001b[0m | \u001b[36mdata_processing.english_data_processing\u001b[0m:\u001b[36mevaluate_models\u001b[0m:\u001b[36m74\u001b[0m - \u001b[1mModel <class 'sklearn.ensemble._forest.ExtraTreesClassifier'> - scaler: StandardScaler(), accuracy: 0.6061155115347451\u001b[0m\n",
      "\u001b[32m2024-05-22 17:46:30.727\u001b[0m | \u001b[1mINFO    \u001b[0m | \u001b[36mdata_processing.english_data_processing\u001b[0m:\u001b[36mevaluate_models\u001b[0m:\u001b[36m74\u001b[0m - \u001b[1mModel <class 'sklearn.ensemble._forest.RandomForestClassifier'> - scaler: MinMaxScaler(), accuracy: 0.608119900356509\u001b[0m\n",
      "\u001b[32m2024-05-22 17:46:43.756\u001b[0m | \u001b[1mINFO    \u001b[0m | \u001b[36mdata_processing.english_data_processing\u001b[0m:\u001b[36mevaluate_models\u001b[0m:\u001b[36m74\u001b[0m - \u001b[1mModel <class 'sklearn.ensemble._forest.ExtraTreesClassifier'> - scaler: MinMaxScaler(), accuracy: 0.6074813002713181\u001b[0m\n",
      "\u001b[32m2024-05-22 17:47:45.077\u001b[0m | \u001b[1mINFO    \u001b[0m | \u001b[36mdata_processing.english_data_processing\u001b[0m:\u001b[36mevaluate_models\u001b[0m:\u001b[36m74\u001b[0m - \u001b[1mModel <class 'sklearn.ensemble._forest.RandomForestClassifier'> - scaler: MaxAbsScaler(), accuracy: 0.6073008083188725\u001b[0m\n",
      "\u001b[32m2024-05-22 17:47:59.068\u001b[0m | \u001b[1mINFO    \u001b[0m | \u001b[36mdata_processing.english_data_processing\u001b[0m:\u001b[36mevaluate_models\u001b[0m:\u001b[36m74\u001b[0m - \u001b[1mModel <class 'sklearn.ensemble._forest.ExtraTreesClassifier'> - scaler: MaxAbsScaler(), accuracy: 0.610940066395846\u001b[0m\n",
      "\u001b[32m2024-05-22 17:48:55.554\u001b[0m | \u001b[1mINFO    \u001b[0m | \u001b[36mdata_processing.english_data_processing\u001b[0m:\u001b[36mevaluate_models\u001b[0m:\u001b[36m74\u001b[0m - \u001b[1mModel <class 'sklearn.ensemble._forest.RandomForestClassifier'> - scaler: RobustScaler(), accuracy: 0.610120062782692\u001b[0m\n",
      "\u001b[32m2024-05-22 17:49:08.682\u001b[0m | \u001b[1mINFO    \u001b[0m | \u001b[36mdata_processing.english_data_processing\u001b[0m:\u001b[36mevaluate_models\u001b[0m:\u001b[36m74\u001b[0m - \u001b[1mModel <class 'sklearn.ensemble._forest.ExtraTreesClassifier'> - scaler: RobustScaler(), accuracy: 0.6082117208722617\u001b[0m\n",
      "\u001b[32m2024-05-22 17:50:04.163\u001b[0m | \u001b[1mINFO    \u001b[0m | \u001b[36mdata_processing.english_data_processing\u001b[0m:\u001b[36mevaluate_models\u001b[0m:\u001b[36m74\u001b[0m - \u001b[1mModel <class 'sklearn.ensemble._forest.RandomForestClassifier'> - scaler: Normalizer(), accuracy: 0.5769012564825449\u001b[0m\n",
      "\u001b[32m2024-05-22 17:50:17.319\u001b[0m | \u001b[1mINFO    \u001b[0m | \u001b[36mdata_processing.english_data_processing\u001b[0m:\u001b[36mevaluate_models\u001b[0m:\u001b[36m74\u001b[0m - \u001b[1mModel <class 'sklearn.ensemble._forest.ExtraTreesClassifier'> - scaler: Normalizer(), accuracy: 0.5792696954177585\u001b[0m\n",
      "\u001b[32m2024-05-22 17:50:17.320\u001b[0m | \u001b[1mINFO    \u001b[0m | \u001b[36mdata_processing.english_data_processing\u001b[0m:\u001b[36mevaluate_models\u001b[0m:\u001b[36m82\u001b[0m - \u001b[1mBest Model: <class 'sklearn.ensemble._forest.ExtraTreesClassifier'>\u001b[0m\n",
      "\u001b[32m2024-05-22 17:50:17.321\u001b[0m | \u001b[1mINFO    \u001b[0m | \u001b[36mdata_processing.english_data_processing\u001b[0m:\u001b[36mevaluate_models\u001b[0m:\u001b[36m83\u001b[0m - \u001b[1mBest Scaler: None\u001b[0m\n",
      "\u001b[32m2024-05-22 17:50:17.321\u001b[0m | \u001b[1mINFO    \u001b[0m | \u001b[36mdata_processing.english_data_processing\u001b[0m:\u001b[36mevaluate_models\u001b[0m:\u001b[36m84\u001b[0m - \u001b[1mBest Average Accuracy: 0.6153089163687472\u001b[0m\n",
      "\u001b[32m2024-05-22 17:50:17.323\u001b[0m | \u001b[1mINFO    \u001b[0m | \u001b[36mfeature_extraction.feature_extractor\u001b[0m:\u001b[36mprocess_folder\u001b[0m:\u001b[36m148\u001b[0m - \u001b[1mProcessing input folder: D:/data_analysis/speech_emotion_recognition/data/EnglishDataset/cleaned_data3\u001b[0m\n"
     ]
    },
    {
     "name": "stdout",
     "output_type": "stream",
     "text": [
      "Scaler: None, Model: <class 'sklearn.ensemble._forest.ExtraTreesClassifier'>, n_mfcc: 13, Selected features: ['mfcc_statistics', 'zcr'], Accuracy: 0.6153089163687472\n"
     ]
    },
    {
     "name": "stderr",
     "output_type": "stream",
     "text": [
      "\u001b[32m2024-05-22 17:50:58.967\u001b[0m | \u001b[1mINFO    \u001b[0m | \u001b[36mfeature_extraction.feature_extractor\u001b[0m:\u001b[36mprocess_folder\u001b[0m:\u001b[36m158\u001b[0m - \u001b[1mFeature extraction completed. Data saved to: D:/data_analysis/speech_emotion_recognition/notebooks/feature4.csv\u001b[0m\n",
      "\u001b[32m2024-05-22 17:50:59.001\u001b[0m | \u001b[1mINFO    \u001b[0m | \u001b[36mdata_processing.english_data_processing\u001b[0m:\u001b[36mevaluate_models\u001b[0m:\u001b[36m53\u001b[0m - \u001b[1mFinding best model....\u001b[0m\n",
      "\u001b[32m2024-05-22 17:51:30.783\u001b[0m | \u001b[1mINFO    \u001b[0m | \u001b[36mdata_processing.english_data_processing\u001b[0m:\u001b[36mevaluate_models\u001b[0m:\u001b[36m74\u001b[0m - \u001b[1mModel <class 'sklearn.ensemble._forest.RandomForestClassifier'> - scaler: None, accuracy: 0.5759920013391873\u001b[0m\n",
      "\u001b[32m2024-05-22 17:51:40.856\u001b[0m | \u001b[1mINFO    \u001b[0m | \u001b[36mdata_processing.english_data_processing\u001b[0m:\u001b[36mevaluate_models\u001b[0m:\u001b[36m74\u001b[0m - \u001b[1mModel <class 'sklearn.ensemble._forest.ExtraTreesClassifier'> - scaler: None, accuracy: 0.5805443266025911\u001b[0m\n",
      "\u001b[32m2024-05-22 17:52:14.394\u001b[0m | \u001b[1mINFO    \u001b[0m | \u001b[36mdata_processing.english_data_processing\u001b[0m:\u001b[36mevaluate_models\u001b[0m:\u001b[36m74\u001b[0m - \u001b[1mModel <class 'sklearn.ensemble._forest.RandomForestClassifier'> - scaler: StandardScaler(), accuracy: 0.5809065535650061\u001b[0m\n",
      "\u001b[32m2024-05-22 17:52:24.423\u001b[0m | \u001b[1mINFO    \u001b[0m | \u001b[36mdata_processing.english_data_processing\u001b[0m:\u001b[36mevaluate_models\u001b[0m:\u001b[36m74\u001b[0m - \u001b[1mModel <class 'sklearn.ensemble._forest.ExtraTreesClassifier'> - scaler: StandardScaler(), accuracy: 0.5805422548400516\u001b[0m\n",
      "\u001b[32m2024-05-22 17:52:55.391\u001b[0m | \u001b[1mINFO    \u001b[0m | \u001b[36mdata_processing.english_data_processing\u001b[0m:\u001b[36mevaluate_models\u001b[0m:\u001b[36m74\u001b[0m - \u001b[1mModel <class 'sklearn.ensemble._forest.RandomForestClassifier'> - scaler: MinMaxScaler(), accuracy: 0.5806349869313219\u001b[0m\n",
      "\u001b[32m2024-05-22 17:53:04.540\u001b[0m | \u001b[1mINFO    \u001b[0m | \u001b[36mdata_processing.english_data_processing\u001b[0m:\u001b[36mevaluate_models\u001b[0m:\u001b[36m74\u001b[0m - \u001b[1mModel <class 'sklearn.ensemble._forest.ExtraTreesClassifier'> - scaler: MinMaxScaler(), accuracy: 0.5849111876834546\u001b[0m\n",
      "\u001b[32m2024-05-22 17:53:34.908\u001b[0m | \u001b[1mINFO    \u001b[0m | \u001b[36mdata_processing.english_data_processing\u001b[0m:\u001b[36mevaluate_models\u001b[0m:\u001b[36m74\u001b[0m - \u001b[1mModel <class 'sklearn.ensemble._forest.RandomForestClassifier'> - scaler: MaxAbsScaler(), accuracy: 0.5801776246330909\u001b[0m\n",
      "\u001b[32m2024-05-22 17:53:43.800\u001b[0m | \u001b[1mINFO    \u001b[0m | \u001b[36mdata_processing.english_data_processing\u001b[0m:\u001b[36mevaluate_models\u001b[0m:\u001b[36m74\u001b[0m - \u001b[1mModel <class 'sklearn.ensemble._forest.ExtraTreesClassifier'> - scaler: MaxAbsScaler(), accuracy: 0.5824546574050594\u001b[0m\n",
      "\u001b[32m2024-05-22 17:54:13.879\u001b[0m | \u001b[1mINFO    \u001b[0m | \u001b[36mdata_processing.english_data_processing\u001b[0m:\u001b[36mevaluate_models\u001b[0m:\u001b[36m74\u001b[0m - \u001b[1mModel <class 'sklearn.ensemble._forest.RandomForestClassifier'> - scaler: RobustScaler(), accuracy: 0.5786301837570502\u001b[0m\n",
      "\u001b[32m2024-05-22 17:54:22.734\u001b[0m | \u001b[1mINFO    \u001b[0m | \u001b[36mdata_processing.english_data_processing\u001b[0m:\u001b[36mevaluate_models\u001b[0m:\u001b[36m74\u001b[0m - \u001b[1mModel <class 'sklearn.ensemble._forest.ExtraTreesClassifier'> - scaler: RobustScaler(), accuracy: 0.5847298670259932\u001b[0m\n",
      "\u001b[32m2024-05-22 17:54:50.834\u001b[0m | \u001b[1mINFO    \u001b[0m | \u001b[36mdata_processing.english_data_processing\u001b[0m:\u001b[36mevaluate_models\u001b[0m:\u001b[36m74\u001b[0m - \u001b[1mModel <class 'sklearn.ensemble._forest.RandomForestClassifier'> - scaler: Normalizer(), accuracy: 0.575264646946802\u001b[0m\n",
      "\u001b[32m2024-05-22 17:55:00.326\u001b[0m | \u001b[1mINFO    \u001b[0m | \u001b[36mdata_processing.english_data_processing\u001b[0m:\u001b[36mevaluate_models\u001b[0m:\u001b[36m74\u001b[0m - \u001b[1mModel <class 'sklearn.ensemble._forest.ExtraTreesClassifier'> - scaler: Normalizer(), accuracy: 0.5750809230447949\u001b[0m\n",
      "\u001b[32m2024-05-22 17:55:00.327\u001b[0m | \u001b[1mINFO    \u001b[0m | \u001b[36mdata_processing.english_data_processing\u001b[0m:\u001b[36mevaluate_models\u001b[0m:\u001b[36m82\u001b[0m - \u001b[1mBest Model: <class 'sklearn.ensemble._forest.ExtraTreesClassifier'>\u001b[0m\n",
      "\u001b[32m2024-05-22 17:55:00.327\u001b[0m | \u001b[1mINFO    \u001b[0m | \u001b[36mdata_processing.english_data_processing\u001b[0m:\u001b[36mevaluate_models\u001b[0m:\u001b[36m83\u001b[0m - \u001b[1mBest Scaler: MinMaxScaler\u001b[0m\n",
      "\u001b[32m2024-05-22 17:55:00.328\u001b[0m | \u001b[1mINFO    \u001b[0m | \u001b[36mdata_processing.english_data_processing\u001b[0m:\u001b[36mevaluate_models\u001b[0m:\u001b[36m84\u001b[0m - \u001b[1mBest Average Accuracy: 0.5849111876834546\u001b[0m\n",
      "\u001b[32m2024-05-22 17:55:00.329\u001b[0m | \u001b[1mINFO    \u001b[0m | \u001b[36mfeature_extraction.feature_extractor\u001b[0m:\u001b[36mprocess_folder\u001b[0m:\u001b[36m148\u001b[0m - \u001b[1mProcessing input folder: D:/data_analysis/speech_emotion_recognition/data/EnglishDataset/cleaned_data3\u001b[0m\n"
     ]
    },
    {
     "name": "stdout",
     "output_type": "stream",
     "text": [
      "Scaler: MinMaxScaler, Model: <class 'sklearn.ensemble._forest.ExtraTreesClassifier'>, n_mfcc: 13, Selected features: ['mfcc', 'rms'], Accuracy: 0.5849111876834546\n"
     ]
    },
    {
     "name": "stderr",
     "output_type": "stream",
     "text": [
      "\u001b[32m2024-05-22 17:55:54.079\u001b[0m | \u001b[1mINFO    \u001b[0m | \u001b[36mfeature_extraction.feature_extractor\u001b[0m:\u001b[36mprocess_folder\u001b[0m:\u001b[36m158\u001b[0m - \u001b[1mFeature extraction completed. Data saved to: D:/data_analysis/speech_emotion_recognition/notebooks/feature4.csv\u001b[0m\n",
      "\u001b[32m2024-05-22 17:55:54.103\u001b[0m | \u001b[1mINFO    \u001b[0m | \u001b[36mdata_processing.english_data_processing\u001b[0m:\u001b[36mevaluate_models\u001b[0m:\u001b[36m53\u001b[0m - \u001b[1mFinding best model....\u001b[0m\n",
      "\u001b[32m2024-05-22 17:56:17.474\u001b[0m | \u001b[1mINFO    \u001b[0m | \u001b[36mdata_processing.english_data_processing\u001b[0m:\u001b[36mevaluate_models\u001b[0m:\u001b[36m74\u001b[0m - \u001b[1mModel <class 'sklearn.ensemble._forest.RandomForestClassifier'> - scaler: None, accuracy: 0.5803630059451297\u001b[0m\n",
      "\u001b[32m2024-05-22 17:56:25.434\u001b[0m | \u001b[1mINFO    \u001b[0m | \u001b[36mdata_processing.english_data_processing\u001b[0m:\u001b[36mevaluate_models\u001b[0m:\u001b[36m74\u001b[0m - \u001b[1mModel <class 'sklearn.ensemble._forest.ExtraTreesClassifier'> - scaler: None, accuracy: 0.5832739980542007\u001b[0m\n",
      "\u001b[32m2024-05-22 17:56:48.736\u001b[0m | \u001b[1mINFO    \u001b[0m | \u001b[36mdata_processing.english_data_processing\u001b[0m:\u001b[36mevaluate_models\u001b[0m:\u001b[36m74\u001b[0m - \u001b[1mModel <class 'sklearn.ensemble._forest.RandomForestClassifier'> - scaler: StandardScaler(), accuracy: 0.5800879587503791\u001b[0m\n",
      "\u001b[32m2024-05-22 17:56:56.771\u001b[0m | \u001b[1mINFO    \u001b[0m | \u001b[36mdata_processing.english_data_processing\u001b[0m:\u001b[36mevaluate_models\u001b[0m:\u001b[36m74\u001b[0m - \u001b[1mModel <class 'sklearn.ensemble._forest.ExtraTreesClassifier'> - scaler: StandardScaler(), accuracy: 0.5795434166844838\u001b[0m\n",
      "\u001b[32m2024-05-22 17:57:19.806\u001b[0m | \u001b[1mINFO    \u001b[0m | \u001b[36mdata_processing.english_data_processing\u001b[0m:\u001b[36mevaluate_models\u001b[0m:\u001b[36m74\u001b[0m - \u001b[1mModel <class 'sklearn.ensemble._forest.RandomForestClassifier'> - scaler: MinMaxScaler(), accuracy: 0.5818160573198685\u001b[0m\n",
      "\u001b[32m2024-05-22 17:57:27.610\u001b[0m | \u001b[1mINFO    \u001b[0m | \u001b[36mdata_processing.english_data_processing\u001b[0m:\u001b[36mevaluate_models\u001b[0m:\u001b[36m74\u001b[0m - \u001b[1mModel <class 'sklearn.ensemble._forest.ExtraTreesClassifier'> - scaler: MinMaxScaler(), accuracy: 0.5761731562556456\u001b[0m\n",
      "\u001b[32m2024-05-22 17:57:50.442\u001b[0m | \u001b[1mINFO    \u001b[0m | \u001b[36mdata_processing.english_data_processing\u001b[0m:\u001b[36mevaluate_models\u001b[0m:\u001b[36m74\u001b[0m - \u001b[1mModel <class 'sklearn.ensemble._forest.RandomForestClassifier'> - scaler: MaxAbsScaler(), accuracy: 0.5786331670951071\u001b[0m\n",
      "\u001b[32m2024-05-22 17:57:58.319\u001b[0m | \u001b[1mINFO    \u001b[0m | \u001b[36mdata_processing.english_data_processing\u001b[0m:\u001b[36mevaluate_models\u001b[0m:\u001b[36m74\u001b[0m - \u001b[1mModel <class 'sklearn.ensemble._forest.ExtraTreesClassifier'> - scaler: MaxAbsScaler(), accuracy: 0.5840938359263513\u001b[0m\n",
      "\u001b[32m2024-05-22 17:58:21.521\u001b[0m | \u001b[1mINFO    \u001b[0m | \u001b[36mdata_processing.english_data_processing\u001b[0m:\u001b[36mevaluate_models\u001b[0m:\u001b[36m74\u001b[0m - \u001b[1mModel <class 'sklearn.ensemble._forest.RandomForestClassifier'> - scaler: RobustScaler(), accuracy: 0.5838199489186229\u001b[0m\n",
      "\u001b[32m2024-05-22 17:58:29.345\u001b[0m | \u001b[1mINFO    \u001b[0m | \u001b[36mdata_processing.english_data_processing\u001b[0m:\u001b[36mevaluate_models\u001b[0m:\u001b[36m74\u001b[0m - \u001b[1mModel <class 'sklearn.ensemble._forest.ExtraTreesClassifier'> - scaler: RobustScaler(), accuracy: 0.5814536646164503\u001b[0m\n",
      "\u001b[32m2024-05-22 17:58:52.507\u001b[0m | \u001b[1mINFO    \u001b[0m | \u001b[36mdata_processing.english_data_processing\u001b[0m:\u001b[36mevaluate_models\u001b[0m:\u001b[36m74\u001b[0m - \u001b[1mModel <class 'sklearn.ensemble._forest.RandomForestClassifier'> - scaler: Normalizer(), accuracy: 0.562613884786799\u001b[0m\n",
      "\u001b[32m2024-05-22 17:59:00.391\u001b[0m | \u001b[1mINFO    \u001b[0m | \u001b[36mdata_processing.english_data_processing\u001b[0m:\u001b[36mevaluate_models\u001b[0m:\u001b[36m74\u001b[0m - \u001b[1mModel <class 'sklearn.ensemble._forest.ExtraTreesClassifier'> - scaler: Normalizer(), accuracy: 0.5658900043258402\u001b[0m\n",
      "\u001b[32m2024-05-22 17:59:00.392\u001b[0m | \u001b[1mINFO    \u001b[0m | \u001b[36mdata_processing.english_data_processing\u001b[0m:\u001b[36mevaluate_models\u001b[0m:\u001b[36m82\u001b[0m - \u001b[1mBest Model: <class 'sklearn.ensemble._forest.ExtraTreesClassifier'>\u001b[0m\n",
      "\u001b[32m2024-05-22 17:59:00.392\u001b[0m | \u001b[1mINFO    \u001b[0m | \u001b[36mdata_processing.english_data_processing\u001b[0m:\u001b[36mevaluate_models\u001b[0m:\u001b[36m83\u001b[0m - \u001b[1mBest Scaler: MaxAbsScaler\u001b[0m\n",
      "\u001b[32m2024-05-22 17:59:00.393\u001b[0m | \u001b[1mINFO    \u001b[0m | \u001b[36mdata_processing.english_data_processing\u001b[0m:\u001b[36mevaluate_models\u001b[0m:\u001b[36m84\u001b[0m - \u001b[1mBest Average Accuracy: 0.5840938359263513\u001b[0m\n",
      "\u001b[32m2024-05-22 17:59:00.394\u001b[0m | \u001b[1mINFO    \u001b[0m | \u001b[36mfeature_extraction.feature_extractor\u001b[0m:\u001b[36mprocess_folder\u001b[0m:\u001b[36m148\u001b[0m - \u001b[1mProcessing input folder: D:/data_analysis/speech_emotion_recognition/data/EnglishDataset/cleaned_data3\u001b[0m\n"
     ]
    },
    {
     "name": "stdout",
     "output_type": "stream",
     "text": [
      "Scaler: MaxAbsScaler, Model: <class 'sklearn.ensemble._forest.ExtraTreesClassifier'>, n_mfcc: 13, Selected features: ['mfcc', 'pitch'], Accuracy: 0.5840938359263513\n"
     ]
    },
    {
     "name": "stderr",
     "output_type": "stream",
     "text": [
      "\u001b[32m2024-05-22 17:59:41.151\u001b[0m | \u001b[1mINFO    \u001b[0m | \u001b[36mfeature_extraction.feature_extractor\u001b[0m:\u001b[36mprocess_folder\u001b[0m:\u001b[36m158\u001b[0m - \u001b[1mFeature extraction completed. Data saved to: D:/data_analysis/speech_emotion_recognition/notebooks/feature4.csv\u001b[0m\n",
      "\u001b[32m2024-05-22 17:59:41.181\u001b[0m | \u001b[1mINFO    \u001b[0m | \u001b[36mdata_processing.english_data_processing\u001b[0m:\u001b[36mevaluate_models\u001b[0m:\u001b[36m53\u001b[0m - \u001b[1mFinding best model....\u001b[0m\n",
      "\u001b[32m2024-05-22 18:00:09.168\u001b[0m | \u001b[1mINFO    \u001b[0m | \u001b[36mdata_processing.english_data_processing\u001b[0m:\u001b[36mevaluate_models\u001b[0m:\u001b[36m74\u001b[0m - \u001b[1mModel <class 'sklearn.ensemble._forest.RandomForestClassifier'> - scaler: None, accuracy: 0.5716250573878224\u001b[0m\n",
      "\u001b[32m2024-05-22 18:00:17.942\u001b[0m | \u001b[1mINFO    \u001b[0m | \u001b[36mdata_processing.english_data_processing\u001b[0m:\u001b[36mevaluate_models\u001b[0m:\u001b[36m74\u001b[0m - \u001b[1mModel <class 'sklearn.ensemble._forest.ExtraTreesClassifier'> - scaler: None, accuracy: 0.5733550619788481\u001b[0m\n",
      "\u001b[32m2024-05-22 18:00:46.046\u001b[0m | \u001b[1mINFO    \u001b[0m | \u001b[36mdata_processing.english_data_processing\u001b[0m:\u001b[36mevaluate_models\u001b[0m:\u001b[36m74\u001b[0m - \u001b[1mModel <class 'sklearn.ensemble._forest.RandomForestClassifier'> - scaler: StandardScaler(), accuracy: 0.573445888048582\u001b[0m\n",
      "\u001b[32m2024-05-22 18:00:54.825\u001b[0m | \u001b[1mINFO    \u001b[0m | \u001b[36mdata_processing.english_data_processing\u001b[0m:\u001b[36mevaluate_models\u001b[0m:\u001b[36m74\u001b[0m - \u001b[1mModel <class 'sklearn.ensemble._forest.ExtraTreesClassifier'> - scaler: StandardScaler(), accuracy: 0.5766308500358829\u001b[0m\n",
      "\u001b[32m2024-05-22 18:01:22.742\u001b[0m | \u001b[1mINFO    \u001b[0m | \u001b[36mdata_processing.english_data_processing\u001b[0m:\u001b[36mevaluate_models\u001b[0m:\u001b[36m74\u001b[0m - \u001b[1mModel <class 'sklearn.ensemble._forest.RandomForestClassifier'> - scaler: MinMaxScaler(), accuracy: 0.569988530722581\u001b[0m\n",
      "\u001b[32m2024-05-22 18:01:31.491\u001b[0m | \u001b[1mINFO    \u001b[0m | \u001b[36mdata_processing.english_data_processing\u001b[0m:\u001b[36mevaluate_models\u001b[0m:\u001b[36m74\u001b[0m - \u001b[1mModel <class 'sklearn.ensemble._forest.ExtraTreesClassifier'> - scaler: MinMaxScaler(), accuracy: 0.5694419997646478\u001b[0m\n",
      "\u001b[32m2024-05-22 18:01:59.457\u001b[0m | \u001b[1mINFO    \u001b[0m | \u001b[36mdata_processing.english_data_processing\u001b[0m:\u001b[36mevaluate_models\u001b[0m:\u001b[36m74\u001b[0m - \u001b[1mModel <class 'sklearn.ensemble._forest.RandomForestClassifier'> - scaler: MaxAbsScaler(), accuracy: 0.5755391140480416\u001b[0m\n",
      "\u001b[32m2024-05-22 18:02:08.224\u001b[0m | \u001b[1mINFO    \u001b[0m | \u001b[36mdata_processing.english_data_processing\u001b[0m:\u001b[36mevaluate_models\u001b[0m:\u001b[36m74\u001b[0m - \u001b[1mModel <class 'sklearn.ensemble._forest.ExtraTreesClassifier'> - scaler: MaxAbsScaler(), accuracy: 0.571897121244516\u001b[0m\n",
      "\u001b[32m2024-05-22 18:02:36.178\u001b[0m | \u001b[1mINFO    \u001b[0m | \u001b[36mdata_processing.english_data_processing\u001b[0m:\u001b[36mevaluate_models\u001b[0m:\u001b[36m74\u001b[0m - \u001b[1mModel <class 'sklearn.ensemble._forest.RandomForestClassifier'> - scaler: RobustScaler(), accuracy: 0.571261338756379\u001b[0m\n",
      "\u001b[32m2024-05-22 18:02:45.029\u001b[0m | \u001b[1mINFO    \u001b[0m | \u001b[36mdata_processing.english_data_processing\u001b[0m:\u001b[36mevaluate_models\u001b[0m:\u001b[36m74\u001b[0m - \u001b[1mModel <class 'sklearn.ensemble._forest.ExtraTreesClassifier'> - scaler: RobustScaler(), accuracy: 0.5758113436457385\u001b[0m\n",
      "\u001b[32m2024-05-22 18:03:13.373\u001b[0m | \u001b[1mINFO    \u001b[0m | \u001b[36mdata_processing.english_data_processing\u001b[0m:\u001b[36mevaluate_models\u001b[0m:\u001b[36m74\u001b[0m - \u001b[1mModel <class 'sklearn.ensemble._forest.RandomForestClassifier'> - scaler: Normalizer(), accuracy: 0.5648000914890339\u001b[0m\n",
      "\u001b[32m2024-05-22 18:03:22.220\u001b[0m | \u001b[1mINFO    \u001b[0m | \u001b[36mdata_processing.english_data_processing\u001b[0m:\u001b[36mevaluate_models\u001b[0m:\u001b[36m74\u001b[0m - \u001b[1mModel <class 'sklearn.ensemble._forest.ExtraTreesClassifier'> - scaler: Normalizer(), accuracy: 0.5640712454276201\u001b[0m\n",
      "\u001b[32m2024-05-22 18:03:22.221\u001b[0m | \u001b[1mINFO    \u001b[0m | \u001b[36mdata_processing.english_data_processing\u001b[0m:\u001b[36mevaluate_models\u001b[0m:\u001b[36m82\u001b[0m - \u001b[1mBest Model: <class 'sklearn.ensemble._forest.ExtraTreesClassifier'>\u001b[0m\n",
      "\u001b[32m2024-05-22 18:03:22.221\u001b[0m | \u001b[1mINFO    \u001b[0m | \u001b[36mdata_processing.english_data_processing\u001b[0m:\u001b[36mevaluate_models\u001b[0m:\u001b[36m83\u001b[0m - \u001b[1mBest Scaler: StandardScaler\u001b[0m\n",
      "\u001b[32m2024-05-22 18:03:22.222\u001b[0m | \u001b[1mINFO    \u001b[0m | \u001b[36mdata_processing.english_data_processing\u001b[0m:\u001b[36mevaluate_models\u001b[0m:\u001b[36m84\u001b[0m - \u001b[1mBest Average Accuracy: 0.5766308500358829\u001b[0m\n",
      "\u001b[32m2024-05-22 18:03:22.223\u001b[0m | \u001b[1mINFO    \u001b[0m | \u001b[36mfeature_extraction.feature_extractor\u001b[0m:\u001b[36mprocess_folder\u001b[0m:\u001b[36m148\u001b[0m - \u001b[1mProcessing input folder: D:/data_analysis/speech_emotion_recognition/data/EnglishDataset/cleaned_data3\u001b[0m\n"
     ]
    },
    {
     "name": "stdout",
     "output_type": "stream",
     "text": [
      "Scaler: StandardScaler, Model: <class 'sklearn.ensemble._forest.ExtraTreesClassifier'>, n_mfcc: 13, Selected features: ['mfcc', 'zcr'], Accuracy: 0.5766308500358829\n"
     ]
    },
    {
     "name": "stderr",
     "output_type": "stream",
     "text": [
      "\u001b[32m2024-05-22 18:04:34.233\u001b[0m | \u001b[1mINFO    \u001b[0m | \u001b[36mfeature_extraction.feature_extractor\u001b[0m:\u001b[36mprocess_folder\u001b[0m:\u001b[36m158\u001b[0m - \u001b[1mFeature extraction completed. Data saved to: D:/data_analysis/speech_emotion_recognition/notebooks/feature4.csv\u001b[0m\n",
      "\u001b[32m2024-05-22 18:04:34.316\u001b[0m | \u001b[1mINFO    \u001b[0m | \u001b[36mdata_processing.english_data_processing\u001b[0m:\u001b[36mevaluate_models\u001b[0m:\u001b[36m53\u001b[0m - \u001b[1mFinding best model....\u001b[0m\n",
      "\u001b[32m2024-05-22 18:05:29.808\u001b[0m | \u001b[1mINFO    \u001b[0m | \u001b[36mdata_processing.english_data_processing\u001b[0m:\u001b[36mevaluate_models\u001b[0m:\u001b[36m74\u001b[0m - \u001b[1mModel <class 'sklearn.ensemble._forest.RandomForestClassifier'> - scaler: None, accuracy: 0.5976531073951978\u001b[0m\n",
      "\u001b[32m2024-05-22 18:05:42.373\u001b[0m | \u001b[1mINFO    \u001b[0m | \u001b[36mdata_processing.english_data_processing\u001b[0m:\u001b[36mevaluate_models\u001b[0m:\u001b[36m74\u001b[0m - \u001b[1mModel <class 'sklearn.ensemble._forest.ExtraTreesClassifier'> - scaler: None, accuracy: 0.6076649413028237\u001b[0m\n",
      "\u001b[32m2024-05-22 18:06:38.204\u001b[0m | \u001b[1mINFO    \u001b[0m | \u001b[36mdata_processing.english_data_processing\u001b[0m:\u001b[36mevaluate_models\u001b[0m:\u001b[36m74\u001b[0m - \u001b[1mModel <class 'sklearn.ensemble._forest.RandomForestClassifier'> - scaler: StandardScaler(), accuracy: 0.6042970012480298\u001b[0m\n",
      "\u001b[32m2024-05-22 18:06:50.939\u001b[0m | \u001b[1mINFO    \u001b[0m | \u001b[36mdata_processing.english_data_processing\u001b[0m:\u001b[36mevaluate_models\u001b[0m:\u001b[36m74\u001b[0m - \u001b[1mModel <class 'sklearn.ensemble._forest.ExtraTreesClassifier'> - scaler: StandardScaler(), accuracy: 0.6071178302513796\u001b[0m\n",
      "\u001b[32m2024-05-22 18:07:46.776\u001b[0m | \u001b[1mINFO    \u001b[0m | \u001b[36mdata_processing.english_data_processing\u001b[0m:\u001b[36mevaluate_models\u001b[0m:\u001b[36m74\u001b[0m - \u001b[1mModel <class 'sklearn.ensemble._forest.RandomForestClassifier'> - scaler: MinMaxScaler(), accuracy: 0.6032039393321631\u001b[0m\n",
      "\u001b[32m2024-05-22 18:07:59.377\u001b[0m | \u001b[1mINFO    \u001b[0m | \u001b[36mdata_processing.english_data_processing\u001b[0m:\u001b[36mevaluate_models\u001b[0m:\u001b[36m74\u001b[0m - \u001b[1mModel <class 'sklearn.ensemble._forest.ExtraTreesClassifier'> - scaler: MinMaxScaler(), accuracy: 0.6053901460343978\u001b[0m\n",
      "\u001b[32m2024-05-22 18:08:55.083\u001b[0m | \u001b[1mINFO    \u001b[0m | \u001b[36mdata_processing.english_data_processing\u001b[0m:\u001b[36mevaluate_models\u001b[0m:\u001b[36m74\u001b[0m - \u001b[1mModel <class 'sklearn.ensemble._forest.RandomForestClassifier'> - scaler: MaxAbsScaler(), accuracy: 0.6068444404666604\u001b[0m\n",
      "\u001b[32m2024-05-22 18:09:07.741\u001b[0m | \u001b[1mINFO    \u001b[0m | \u001b[36mdata_processing.english_data_processing\u001b[0m:\u001b[36mevaluate_models\u001b[0m:\u001b[36m74\u001b[0m - \u001b[1mModel <class 'sklearn.ensemble._forest.ExtraTreesClassifier'> - scaler: MaxAbsScaler(), accuracy: 0.609028078183346\u001b[0m\n",
      "\u001b[32m2024-05-22 18:10:03.501\u001b[0m | \u001b[1mINFO    \u001b[0m | \u001b[36mdata_processing.english_data_processing\u001b[0m:\u001b[36mevaluate_models\u001b[0m:\u001b[36m74\u001b[0m - \u001b[1mModel <class 'sklearn.ensemble._forest.RandomForestClassifier'> - scaler: RobustScaler(), accuracy: 0.6012013736614341\u001b[0m\n",
      "\u001b[32m2024-05-22 18:10:16.276\u001b[0m | \u001b[1mINFO    \u001b[0m | \u001b[36mdata_processing.english_data_processing\u001b[0m:\u001b[36mevaluate_models\u001b[0m:\u001b[36m74\u001b[0m - \u001b[1mModel <class 'sklearn.ensemble._forest.ExtraTreesClassifier'> - scaler: RobustScaler(), accuracy: 0.6070277500161598\u001b[0m\n",
      "\u001b[32m2024-05-22 18:11:10.433\u001b[0m | \u001b[1mINFO    \u001b[0m | \u001b[36mdata_processing.english_data_processing\u001b[0m:\u001b[36mevaluate_models\u001b[0m:\u001b[36m74\u001b[0m - \u001b[1mModel <class 'sklearn.ensemble._forest.RandomForestClassifier'> - scaler: Normalizer(), accuracy: 0.5708038107171447\u001b[0m\n",
      "\u001b[32m2024-05-22 18:11:23.518\u001b[0m | \u001b[1mINFO    \u001b[0m | \u001b[36mdata_processing.english_data_processing\u001b[0m:\u001b[36mevaluate_models\u001b[0m:\u001b[36m74\u001b[0m - \u001b[1mModel <class 'sklearn.ensemble._forest.ExtraTreesClassifier'> - scaler: Normalizer(), accuracy: 0.5819064690370945\u001b[0m\n",
      "\u001b[32m2024-05-22 18:11:23.519\u001b[0m | \u001b[1mINFO    \u001b[0m | \u001b[36mdata_processing.english_data_processing\u001b[0m:\u001b[36mevaluate_models\u001b[0m:\u001b[36m82\u001b[0m - \u001b[1mBest Model: <class 'sklearn.ensemble._forest.ExtraTreesClassifier'>\u001b[0m\n",
      "\u001b[32m2024-05-22 18:11:23.519\u001b[0m | \u001b[1mINFO    \u001b[0m | \u001b[36mdata_processing.english_data_processing\u001b[0m:\u001b[36mevaluate_models\u001b[0m:\u001b[36m83\u001b[0m - \u001b[1mBest Scaler: MaxAbsScaler\u001b[0m\n",
      "\u001b[32m2024-05-22 18:11:23.520\u001b[0m | \u001b[1mINFO    \u001b[0m | \u001b[36mdata_processing.english_data_processing\u001b[0m:\u001b[36mevaluate_models\u001b[0m:\u001b[36m84\u001b[0m - \u001b[1mBest Average Accuracy: 0.609028078183346\u001b[0m\n",
      "\u001b[32m2024-05-22 18:11:23.521\u001b[0m | \u001b[1mINFO    \u001b[0m | \u001b[36mfeature_extraction.feature_extractor\u001b[0m:\u001b[36mprocess_folder\u001b[0m:\u001b[36m148\u001b[0m - \u001b[1mProcessing input folder: D:/data_analysis/speech_emotion_recognition/data/EnglishDataset/cleaned_data3\u001b[0m\n"
     ]
    },
    {
     "name": "stdout",
     "output_type": "stream",
     "text": [
      "Scaler: MaxAbsScaler, Model: <class 'sklearn.ensemble._forest.ExtraTreesClassifier'>, n_mfcc: 13, Selected features: ['mfcc', 'mfcc_statistics'], Accuracy: 0.609028078183346\n"
     ]
    },
    {
     "name": "stderr",
     "output_type": "stream",
     "text": [
      "\u001b[32m2024-05-22 18:11:34.280\u001b[0m | \u001b[1mINFO    \u001b[0m | \u001b[36mfeature_extraction.feature_extractor\u001b[0m:\u001b[36mprocess_folder\u001b[0m:\u001b[36m158\u001b[0m - \u001b[1mFeature extraction completed. Data saved to: D:/data_analysis/speech_emotion_recognition/notebooks/feature4.csv\u001b[0m\n",
      "\u001b[32m2024-05-22 18:11:34.299\u001b[0m | \u001b[1mINFO    \u001b[0m | \u001b[36mdata_processing.english_data_processing\u001b[0m:\u001b[36mevaluate_models\u001b[0m:\u001b[36m53\u001b[0m - \u001b[1mFinding best model....\u001b[0m\n",
      "\u001b[32m2024-05-22 18:11:52.039\u001b[0m | \u001b[1mINFO    \u001b[0m | \u001b[36mdata_processing.english_data_processing\u001b[0m:\u001b[36mevaluate_models\u001b[0m:\u001b[36m74\u001b[0m - \u001b[1mModel <class 'sklearn.ensemble._forest.RandomForestClassifier'> - scaler: None, accuracy: 0.4204598152650779\u001b[0m\n",
      "\u001b[32m2024-05-22 18:11:58.939\u001b[0m | \u001b[1mINFO    \u001b[0m | \u001b[36mdata_processing.english_data_processing\u001b[0m:\u001b[36mevaluate_models\u001b[0m:\u001b[36m74\u001b[0m - \u001b[1mModel <class 'sklearn.ensemble._forest.ExtraTreesClassifier'> - scaler: None, accuracy: 0.4149071601770776\u001b[0m\n",
      "\u001b[32m2024-05-22 18:12:16.648\u001b[0m | \u001b[1mINFO    \u001b[0m | \u001b[36mdata_processing.english_data_processing\u001b[0m:\u001b[36mevaluate_models\u001b[0m:\u001b[36m74\u001b[0m - \u001b[1mModel <class 'sklearn.ensemble._forest.RandomForestClassifier'> - scaler: StandardScaler(), accuracy: 0.4201851824228352\u001b[0m\n",
      "\u001b[32m2024-05-22 18:12:23.522\u001b[0m | \u001b[1mINFO    \u001b[0m | \u001b[36mdata_processing.english_data_processing\u001b[0m:\u001b[36mevaluate_models\u001b[0m:\u001b[36m74\u001b[0m - \u001b[1mModel <class 'sklearn.ensemble._forest.ExtraTreesClassifier'> - scaler: StandardScaler(), accuracy: 0.4179093927083903\u001b[0m\n",
      "\u001b[32m2024-05-22 18:12:41.141\u001b[0m | \u001b[1mINFO    \u001b[0m | \u001b[36mdata_processing.english_data_processing\u001b[0m:\u001b[36mevaluate_models\u001b[0m:\u001b[36m74\u001b[0m - \u001b[1mModel <class 'sklearn.ensemble._forest.RandomForestClassifier'> - scaler: MinMaxScaler(), accuracy: 0.41973113494466735\u001b[0m\n",
      "\u001b[32m2024-05-22 18:12:48.002\u001b[0m | \u001b[1mINFO    \u001b[0m | \u001b[36mdata_processing.english_data_processing\u001b[0m:\u001b[36mevaluate_models\u001b[0m:\u001b[36m74\u001b[0m - \u001b[1mModel <class 'sklearn.ensemble._forest.ExtraTreesClassifier'> - scaler: MinMaxScaler(), accuracy: 0.4177274919574178\u001b[0m\n",
      "\u001b[32m2024-05-22 18:13:05.573\u001b[0m | \u001b[1mINFO    \u001b[0m | \u001b[36mdata_processing.english_data_processing\u001b[0m:\u001b[36mevaluate_models\u001b[0m:\u001b[36m74\u001b[0m - \u001b[1mModel <class 'sklearn.ensemble._forest.RandomForestClassifier'> - scaler: MaxAbsScaler(), accuracy: 0.41918510120974356\u001b[0m\n",
      "\u001b[32m2024-05-22 18:13:12.477\u001b[0m | \u001b[1mINFO    \u001b[0m | \u001b[36mdata_processing.english_data_processing\u001b[0m:\u001b[36mevaluate_models\u001b[0m:\u001b[36m74\u001b[0m - \u001b[1mModel <class 'sklearn.ensemble._forest.ExtraTreesClassifier'> - scaler: MaxAbsScaler(), accuracy: 0.4142712119479374\u001b[0m\n",
      "\u001b[32m2024-05-22 18:13:30.085\u001b[0m | \u001b[1mINFO    \u001b[0m | \u001b[36mdata_processing.english_data_processing\u001b[0m:\u001b[36mevaluate_models\u001b[0m:\u001b[36m74\u001b[0m - \u001b[1mModel <class 'sklearn.ensemble._forest.RandomForestClassifier'> - scaler: RobustScaler(), accuracy: 0.41882047100278275\u001b[0m\n",
      "\u001b[32m2024-05-22 18:13:36.967\u001b[0m | \u001b[1mINFO    \u001b[0m | \u001b[36mdata_processing.english_data_processing\u001b[0m:\u001b[36mevaluate_models\u001b[0m:\u001b[36m74\u001b[0m - \u001b[1mModel <class 'sklearn.ensemble._forest.ExtraTreesClassifier'> - scaler: RobustScaler(), accuracy: 0.4137236865439851\u001b[0m\n",
      "\u001b[32m2024-05-22 18:13:54.569\u001b[0m | \u001b[1mINFO    \u001b[0m | \u001b[36mdata_processing.english_data_processing\u001b[0m:\u001b[36mevaluate_models\u001b[0m:\u001b[36m74\u001b[0m - \u001b[1mModel <class 'sklearn.ensemble._forest.RandomForestClassifier'> - scaler: Normalizer(), accuracy: 0.39634060439114205\u001b[0m\n",
      "\u001b[32m2024-05-22 18:14:01.593\u001b[0m | \u001b[1mINFO    \u001b[0m | \u001b[36mdata_processing.english_data_processing\u001b[0m:\u001b[36mevaluate_models\u001b[0m:\u001b[36m74\u001b[0m - \u001b[1mModel <class 'sklearn.ensemble._forest.ExtraTreesClassifier'> - scaler: Normalizer(), accuracy: 0.38305414261350357\u001b[0m\n",
      "\u001b[32m2024-05-22 18:14:01.593\u001b[0m | \u001b[1mINFO    \u001b[0m | \u001b[36mdata_processing.english_data_processing\u001b[0m:\u001b[36mevaluate_models\u001b[0m:\u001b[36m82\u001b[0m - \u001b[1mBest Model: <class 'sklearn.ensemble._forest.RandomForestClassifier'>\u001b[0m\n",
      "\u001b[32m2024-05-22 18:14:01.594\u001b[0m | \u001b[1mINFO    \u001b[0m | \u001b[36mdata_processing.english_data_processing\u001b[0m:\u001b[36mevaluate_models\u001b[0m:\u001b[36m83\u001b[0m - \u001b[1mBest Scaler: None\u001b[0m\n",
      "\u001b[32m2024-05-22 18:14:01.594\u001b[0m | \u001b[1mINFO    \u001b[0m | \u001b[36mdata_processing.english_data_processing\u001b[0m:\u001b[36mevaluate_models\u001b[0m:\u001b[36m84\u001b[0m - \u001b[1mBest Average Accuracy: 0.4204598152650779\u001b[0m\n",
      "\u001b[32m2024-05-22 18:14:01.595\u001b[0m | \u001b[1mINFO    \u001b[0m | \u001b[36mfeature_extraction.feature_extractor\u001b[0m:\u001b[36mprocess_folder\u001b[0m:\u001b[36m148\u001b[0m - \u001b[1mProcessing input folder: D:/data_analysis/speech_emotion_recognition/data/EnglishDataset/cleaned_data3\u001b[0m\n"
     ]
    },
    {
     "name": "stdout",
     "output_type": "stream",
     "text": [
      "Scaler: None, Model: <class 'sklearn.ensemble._forest.RandomForestClassifier'>, n_mfcc: 13, Selected features: ['rms'], Accuracy: 0.4204598152650779\n"
     ]
    },
    {
     "name": "stderr",
     "output_type": "stream",
     "text": [
      "\u001b[32m2024-05-22 18:14:23.522\u001b[0m | \u001b[1mINFO    \u001b[0m | \u001b[36mfeature_extraction.feature_extractor\u001b[0m:\u001b[36mprocess_folder\u001b[0m:\u001b[36m158\u001b[0m - \u001b[1mFeature extraction completed. Data saved to: D:/data_analysis/speech_emotion_recognition/notebooks/feature4.csv\u001b[0m\n",
      "\u001b[32m2024-05-22 18:14:23.534\u001b[0m | \u001b[1mINFO    \u001b[0m | \u001b[36mdata_processing.english_data_processing\u001b[0m:\u001b[36mevaluate_models\u001b[0m:\u001b[36m53\u001b[0m - \u001b[1mFinding best model....\u001b[0m\n",
      "\u001b[32m2024-05-22 18:14:36.063\u001b[0m | \u001b[1mINFO    \u001b[0m | \u001b[36mdata_processing.english_data_processing\u001b[0m:\u001b[36mevaluate_models\u001b[0m:\u001b[36m74\u001b[0m - \u001b[1mModel <class 'sklearn.ensemble._forest.RandomForestClassifier'> - scaler: None, accuracy: 0.20768093530962908\u001b[0m\n",
      "\u001b[32m2024-05-22 18:14:42.171\u001b[0m | \u001b[1mINFO    \u001b[0m | \u001b[36mdata_processing.english_data_processing\u001b[0m:\u001b[36mevaluate_models\u001b[0m:\u001b[36m74\u001b[0m - \u001b[1mModel <class 'sklearn.ensemble._forest.ExtraTreesClassifier'> - scaler: None, accuracy: 0.20731721667818565\u001b[0m\n",
      "\u001b[32m2024-05-22 18:14:54.677\u001b[0m | \u001b[1mINFO    \u001b[0m | \u001b[36mdata_processing.english_data_processing\u001b[0m:\u001b[36mevaluate_models\u001b[0m:\u001b[36m74\u001b[0m - \u001b[1mModel <class 'sklearn.ensemble._forest.RandomForestClassifier'> - scaler: StandardScaler(), accuracy: 0.2077719271203661\u001b[0m\n",
      "\u001b[32m2024-05-22 18:15:00.777\u001b[0m | \u001b[1mINFO    \u001b[0m | \u001b[36mdata_processing.english_data_processing\u001b[0m:\u001b[36mevaluate_models\u001b[0m:\u001b[36m74\u001b[0m - \u001b[1mModel <class 'sklearn.ensemble._forest.ExtraTreesClassifier'> - scaler: StandardScaler(), accuracy: 0.207225561903436\u001b[0m\n",
      "\u001b[32m2024-05-22 18:15:13.267\u001b[0m | \u001b[1mINFO    \u001b[0m | \u001b[36mdata_processing.english_data_processing\u001b[0m:\u001b[36mevaluate_models\u001b[0m:\u001b[36m74\u001b[0m - \u001b[1mModel <class 'sklearn.ensemble._forest.RandomForestClassifier'> - scaler: MinMaxScaler(), accuracy: 0.2078630018016047\u001b[0m\n",
      "\u001b[32m2024-05-22 18:15:19.411\u001b[0m | \u001b[1mINFO    \u001b[0m | \u001b[36mdata_processing.english_data_processing\u001b[0m:\u001b[36mevaluate_models\u001b[0m:\u001b[36m74\u001b[0m - \u001b[1mModel <class 'sklearn.ensemble._forest.ExtraTreesClassifier'> - scaler: MinMaxScaler(), accuracy: 0.20822738339706076\u001b[0m\n",
      "\u001b[32m2024-05-22 18:15:31.836\u001b[0m | \u001b[1mINFO    \u001b[0m | \u001b[36mdata_processing.english_data_processing\u001b[0m:\u001b[36mevaluate_models\u001b[0m:\u001b[36m74\u001b[0m - \u001b[1mModel <class 'sklearn.ensemble._forest.RandomForestClassifier'> - scaler: MaxAbsScaler(), accuracy: 0.20777200999086767\u001b[0m\n",
      "\u001b[32m2024-05-22 18:15:37.911\u001b[0m | \u001b[1mINFO    \u001b[0m | \u001b[36mdata_processing.english_data_processing\u001b[0m:\u001b[36mevaluate_models\u001b[0m:\u001b[36m74\u001b[0m - \u001b[1mModel <class 'sklearn.ensemble._forest.ExtraTreesClassifier'> - scaler: MaxAbsScaler(), accuracy: 0.208227134785556\u001b[0m\n",
      "\u001b[32m2024-05-22 18:15:50.495\u001b[0m | \u001b[1mINFO    \u001b[0m | \u001b[36mdata_processing.english_data_processing\u001b[0m:\u001b[36mevaluate_models\u001b[0m:\u001b[36m74\u001b[0m - \u001b[1mModel <class 'sklearn.ensemble._forest.RandomForestClassifier'> - scaler: RobustScaler(), accuracy: 0.20768101818013066\u001b[0m\n",
      "\u001b[32m2024-05-22 18:15:56.643\u001b[0m | \u001b[1mINFO    \u001b[0m | \u001b[36mdata_processing.english_data_processing\u001b[0m:\u001b[36mevaluate_models\u001b[0m:\u001b[36m74\u001b[0m - \u001b[1mModel <class 'sklearn.ensemble._forest.ExtraTreesClassifier'> - scaler: RobustScaler(), accuracy: 0.20786291893110312\u001b[0m\n",
      "\u001b[32m2024-05-22 18:15:57.800\u001b[0m | \u001b[1mINFO    \u001b[0m | \u001b[36mdata_processing.english_data_processing\u001b[0m:\u001b[36mevaluate_models\u001b[0m:\u001b[36m74\u001b[0m - \u001b[1mModel <class 'sklearn.ensemble._forest.RandomForestClassifier'> - scaler: Normalizer(), accuracy: 0.1600850914310244\u001b[0m\n",
      "\u001b[32m2024-05-22 18:15:58.664\u001b[0m | \u001b[1mINFO    \u001b[0m | \u001b[36mdata_processing.english_data_processing\u001b[0m:\u001b[36mevaluate_models\u001b[0m:\u001b[36m74\u001b[0m - \u001b[1mModel <class 'sklearn.ensemble._forest.ExtraTreesClassifier'> - scaler: Normalizer(), accuracy: 0.15790004491581183\u001b[0m\n",
      "\u001b[32m2024-05-22 18:15:58.665\u001b[0m | \u001b[1mINFO    \u001b[0m | \u001b[36mdata_processing.english_data_processing\u001b[0m:\u001b[36mevaluate_models\u001b[0m:\u001b[36m82\u001b[0m - \u001b[1mBest Model: <class 'sklearn.ensemble._forest.ExtraTreesClassifier'>\u001b[0m\n",
      "\u001b[32m2024-05-22 18:15:58.665\u001b[0m | \u001b[1mINFO    \u001b[0m | \u001b[36mdata_processing.english_data_processing\u001b[0m:\u001b[36mevaluate_models\u001b[0m:\u001b[36m83\u001b[0m - \u001b[1mBest Scaler: MinMaxScaler\u001b[0m\n",
      "\u001b[32m2024-05-22 18:15:58.666\u001b[0m | \u001b[1mINFO    \u001b[0m | \u001b[36mdata_processing.english_data_processing\u001b[0m:\u001b[36mevaluate_models\u001b[0m:\u001b[36m84\u001b[0m - \u001b[1mBest Average Accuracy: 0.20822738339706076\u001b[0m\n",
      "\u001b[32m2024-05-22 18:15:58.666\u001b[0m | \u001b[1mINFO    \u001b[0m | \u001b[36mfeature_extraction.feature_extractor\u001b[0m:\u001b[36mprocess_folder\u001b[0m:\u001b[36m148\u001b[0m - \u001b[1mProcessing input folder: D:/data_analysis/speech_emotion_recognition/data/EnglishDataset/cleaned_data3\u001b[0m\n"
     ]
    },
    {
     "name": "stdout",
     "output_type": "stream",
     "text": [
      "Scaler: MinMaxScaler, Model: <class 'sklearn.ensemble._forest.ExtraTreesClassifier'>, n_mfcc: 13, Selected features: ['pitch'], Accuracy: 0.20822738339706076\n"
     ]
    },
    {
     "name": "stderr",
     "output_type": "stream",
     "text": [
      "\u001b[32m2024-05-22 18:16:07.723\u001b[0m | \u001b[1mINFO    \u001b[0m | \u001b[36mfeature_extraction.feature_extractor\u001b[0m:\u001b[36mprocess_folder\u001b[0m:\u001b[36m158\u001b[0m - \u001b[1mFeature extraction completed. Data saved to: D:/data_analysis/speech_emotion_recognition/notebooks/feature4.csv\u001b[0m\n",
      "\u001b[32m2024-05-22 18:16:07.737\u001b[0m | \u001b[1mINFO    \u001b[0m | \u001b[36mdata_processing.english_data_processing\u001b[0m:\u001b[36mevaluate_models\u001b[0m:\u001b[36m53\u001b[0m - \u001b[1mFinding best model....\u001b[0m\n",
      "\u001b[32m2024-05-22 18:16:22.435\u001b[0m | \u001b[1mINFO    \u001b[0m | \u001b[36mdata_processing.english_data_processing\u001b[0m:\u001b[36mevaluate_models\u001b[0m:\u001b[36m74\u001b[0m - \u001b[1mModel <class 'sklearn.ensemble._forest.RandomForestClassifier'> - scaler: None, accuracy: 0.3387346668854448\u001b[0m\n",
      "\u001b[32m2024-05-22 18:16:29.545\u001b[0m | \u001b[1mINFO    \u001b[0m | \u001b[36mdata_processing.english_data_processing\u001b[0m:\u001b[36mevaluate_models\u001b[0m:\u001b[36m74\u001b[0m - \u001b[1mModel <class 'sklearn.ensemble._forest.ExtraTreesClassifier'> - scaler: None, accuracy: 0.33136325289922447\u001b[0m\n",
      "\u001b[32m2024-05-22 18:16:44.276\u001b[0m | \u001b[1mINFO    \u001b[0m | \u001b[36mdata_processing.english_data_processing\u001b[0m:\u001b[36mevaluate_models\u001b[0m:\u001b[36m74\u001b[0m - \u001b[1mModel <class 'sklearn.ensemble._forest.RandomForestClassifier'> - scaler: StandardScaler(), accuracy: 0.3371875574914105\u001b[0m\n",
      "\u001b[32m2024-05-22 18:16:51.383\u001b[0m | \u001b[1mINFO    \u001b[0m | \u001b[36mdata_processing.english_data_processing\u001b[0m:\u001b[36mevaluate_models\u001b[0m:\u001b[36m74\u001b[0m - \u001b[1mModel <class 'sklearn.ensemble._forest.ExtraTreesClassifier'> - scaler: StandardScaler(), accuracy: 0.3360043324698227\u001b[0m\n",
      "\u001b[32m2024-05-22 18:17:06.151\u001b[0m | \u001b[1mINFO    \u001b[0m | \u001b[36mdata_processing.english_data_processing\u001b[0m:\u001b[36mevaluate_models\u001b[0m:\u001b[36m74\u001b[0m - \u001b[1mModel <class 'sklearn.ensemble._forest.RandomForestClassifier'> - scaler: MinMaxScaler(), accuracy: 0.3353677212766698\u001b[0m\n",
      "\u001b[32m2024-05-22 18:17:13.244\u001b[0m | \u001b[1mINFO    \u001b[0m | \u001b[36mdata_processing.english_data_processing\u001b[0m:\u001b[36mevaluate_models\u001b[0m:\u001b[36m74\u001b[0m - \u001b[1mModel <class 'sklearn.ensemble._forest.ExtraTreesClassifier'> - scaler: MinMaxScaler(), accuracy: 0.33509424862144915\u001b[0m\n",
      "\u001b[32m2024-05-22 18:17:27.975\u001b[0m | \u001b[1mINFO    \u001b[0m | \u001b[36mdata_processing.english_data_processing\u001b[0m:\u001b[36mevaluate_models\u001b[0m:\u001b[36m74\u001b[0m - \u001b[1mModel <class 'sklearn.ensemble._forest.RandomForestClassifier'> - scaler: MaxAbsScaler(), accuracy: 0.34001037538679807\u001b[0m\n",
      "\u001b[32m2024-05-22 18:17:35.101\u001b[0m | \u001b[1mINFO    \u001b[0m | \u001b[36mdata_processing.english_data_processing\u001b[0m:\u001b[36mevaluate_models\u001b[0m:\u001b[36m74\u001b[0m - \u001b[1mModel <class 'sklearn.ensemble._forest.ExtraTreesClassifier'> - scaler: MaxAbsScaler(), accuracy: 0.3331830062434636\u001b[0m\n",
      "\u001b[32m2024-05-22 18:17:49.783\u001b[0m | \u001b[1mINFO    \u001b[0m | \u001b[36mdata_processing.english_data_processing\u001b[0m:\u001b[36mevaluate_models\u001b[0m:\u001b[36m74\u001b[0m - \u001b[1mModel <class 'sklearn.ensemble._forest.RandomForestClassifier'> - scaler: RobustScaler(), accuracy: 0.33263763547255243\u001b[0m\n",
      "\u001b[32m2024-05-22 18:17:56.912\u001b[0m | \u001b[1mINFO    \u001b[0m | \u001b[36mdata_processing.english_data_processing\u001b[0m:\u001b[36mevaluate_models\u001b[0m:\u001b[36m74\u001b[0m - \u001b[1mModel <class 'sklearn.ensemble._forest.ExtraTreesClassifier'> - scaler: RobustScaler(), accuracy: 0.3340008552235763\u001b[0m\n",
      "\u001b[32m2024-05-22 18:18:16.507\u001b[0m | \u001b[1mINFO    \u001b[0m | \u001b[36mdata_processing.english_data_processing\u001b[0m:\u001b[36mevaluate_models\u001b[0m:\u001b[36m74\u001b[0m - \u001b[1mModel <class 'sklearn.ensemble._forest.RandomForestClassifier'> - scaler: Normalizer(), accuracy: 0.2846748410129427\u001b[0m\n",
      "\u001b[32m2024-05-22 18:18:23.803\u001b[0m | \u001b[1mINFO    \u001b[0m | \u001b[36mdata_processing.english_data_processing\u001b[0m:\u001b[36mevaluate_models\u001b[0m:\u001b[36m74\u001b[0m - \u001b[1mModel <class 'sklearn.ensemble._forest.ExtraTreesClassifier'> - scaler: Normalizer(), accuracy: 0.27138854497630727\u001b[0m\n",
      "\u001b[32m2024-05-22 18:18:23.804\u001b[0m | \u001b[1mINFO    \u001b[0m | \u001b[36mdata_processing.english_data_processing\u001b[0m:\u001b[36mevaluate_models\u001b[0m:\u001b[36m82\u001b[0m - \u001b[1mBest Model: <class 'sklearn.ensemble._forest.RandomForestClassifier'>\u001b[0m\n",
      "\u001b[32m2024-05-22 18:18:23.804\u001b[0m | \u001b[1mINFO    \u001b[0m | \u001b[36mdata_processing.english_data_processing\u001b[0m:\u001b[36mevaluate_models\u001b[0m:\u001b[36m83\u001b[0m - \u001b[1mBest Scaler: MaxAbsScaler\u001b[0m\n",
      "\u001b[32m2024-05-22 18:18:23.805\u001b[0m | \u001b[1mINFO    \u001b[0m | \u001b[36mdata_processing.english_data_processing\u001b[0m:\u001b[36mevaluate_models\u001b[0m:\u001b[36m84\u001b[0m - \u001b[1mBest Average Accuracy: 0.34001037538679807\u001b[0m\n",
      "\u001b[32m2024-05-22 18:18:23.805\u001b[0m | \u001b[1mINFO    \u001b[0m | \u001b[36mfeature_extraction.feature_extractor\u001b[0m:\u001b[36mprocess_folder\u001b[0m:\u001b[36m148\u001b[0m - \u001b[1mProcessing input folder: D:/data_analysis/speech_emotion_recognition/data/EnglishDataset/cleaned_data3\u001b[0m\n"
     ]
    },
    {
     "name": "stdout",
     "output_type": "stream",
     "text": [
      "Scaler: MaxAbsScaler, Model: <class 'sklearn.ensemble._forest.RandomForestClassifier'>, n_mfcc: 13, Selected features: ['zcr'], Accuracy: 0.34001037538679807\n"
     ]
    },
    {
     "name": "stderr",
     "output_type": "stream",
     "text": [
      "\u001b[32m2024-05-22 18:19:02.821\u001b[0m | \u001b[1mINFO    \u001b[0m | \u001b[36mfeature_extraction.feature_extractor\u001b[0m:\u001b[36mprocess_folder\u001b[0m:\u001b[36m158\u001b[0m - \u001b[1mFeature extraction completed. Data saved to: D:/data_analysis/speech_emotion_recognition/notebooks/feature4.csv\u001b[0m\n",
      "\u001b[32m2024-05-22 18:19:02.894\u001b[0m | \u001b[1mINFO    \u001b[0m | \u001b[36mdata_processing.english_data_processing\u001b[0m:\u001b[36mevaluate_models\u001b[0m:\u001b[36m53\u001b[0m - \u001b[1mFinding best model....\u001b[0m\n",
      "\u001b[32m2024-05-22 18:19:59.135\u001b[0m | \u001b[1mINFO    \u001b[0m | \u001b[36mdata_processing.english_data_processing\u001b[0m:\u001b[36mevaluate_models\u001b[0m:\u001b[36m74\u001b[0m - \u001b[1mModel <class 'sklearn.ensemble._forest.RandomForestClassifier'> - scaler: None, accuracy: 0.6053893173293821\u001b[0m\n",
      "\u001b[32m2024-05-22 18:20:11.647\u001b[0m | \u001b[1mINFO    \u001b[0m | \u001b[36mdata_processing.english_data_processing\u001b[0m:\u001b[36mevaluate_models\u001b[0m:\u001b[36m74\u001b[0m - \u001b[1mModel <class 'sklearn.ensemble._forest.ExtraTreesClassifier'> - scaler: None, accuracy: 0.6074812174008164\u001b[0m\n",
      "\u001b[32m2024-05-22 18:21:07.295\u001b[0m | \u001b[1mINFO    \u001b[0m | \u001b[36mdata_processing.english_data_processing\u001b[0m:\u001b[36mevaluate_models\u001b[0m:\u001b[36m74\u001b[0m - \u001b[1mModel <class 'sklearn.ensemble._forest.RandomForestClassifier'> - scaler: StandardScaler(), accuracy: 0.6090293212408697\u001b[0m\n",
      "\u001b[32m2024-05-22 18:21:19.864\u001b[0m | \u001b[1mINFO    \u001b[0m | \u001b[36mdata_processing.english_data_processing\u001b[0m:\u001b[36mevaluate_models\u001b[0m:\u001b[36m74\u001b[0m - \u001b[1mModel <class 'sklearn.ensemble._forest.ExtraTreesClassifier'> - scaler: StandardScaler(), accuracy: 0.6084820444484221\u001b[0m\n",
      "\u001b[32m2024-05-22 18:22:15.759\u001b[0m | \u001b[1mINFO    \u001b[0m | \u001b[36mdata_processing.english_data_processing\u001b[0m:\u001b[36mevaluate_models\u001b[0m:\u001b[36m74\u001b[0m - \u001b[1mModel <class 'sklearn.ensemble._forest.RandomForestClassifier'> - scaler: MinMaxScaler(), accuracy: 0.6063902272474894\u001b[0m\n",
      "\u001b[32m2024-05-22 18:22:28.428\u001b[0m | \u001b[1mINFO    \u001b[0m | \u001b[36mdata_processing.english_data_processing\u001b[0m:\u001b[36mevaluate_models\u001b[0m:\u001b[36m74\u001b[0m - \u001b[1mModel <class 'sklearn.ensemble._forest.ExtraTreesClassifier'> - scaler: MinMaxScaler(), accuracy: 0.6075718777295472\u001b[0m\n",
      "\u001b[32m2024-05-22 18:23:24.927\u001b[0m | \u001b[1mINFO    \u001b[0m | \u001b[36mdata_processing.english_data_processing\u001b[0m:\u001b[36mevaluate_models\u001b[0m:\u001b[36m74\u001b[0m - \u001b[1mModel <class 'sklearn.ensemble._forest.RandomForestClassifier'> - scaler: MaxAbsScaler(), accuracy: 0.6052974139431276\u001b[0m\n",
      "\u001b[32m2024-05-22 18:23:37.746\u001b[0m | \u001b[1mINFO    \u001b[0m | \u001b[36mdata_processing.english_data_processing\u001b[0m:\u001b[36mevaluate_models\u001b[0m:\u001b[36m74\u001b[0m - \u001b[1mModel <class 'sklearn.ensemble._forest.ExtraTreesClassifier'> - scaler: MaxAbsScaler(), accuracy: 0.6085747765396924\u001b[0m\n",
      "\u001b[32m2024-05-22 18:24:34.261\u001b[0m | \u001b[1mINFO    \u001b[0m | \u001b[36mdata_processing.english_data_processing\u001b[0m:\u001b[36mevaluate_models\u001b[0m:\u001b[36m74\u001b[0m - \u001b[1mModel <class 'sklearn.ensemble._forest.RandomForestClassifier'> - scaler: RobustScaler(), accuracy: 0.6047525403952261\u001b[0m\n",
      "\u001b[32m2024-05-22 18:24:47.224\u001b[0m | \u001b[1mINFO    \u001b[0m | \u001b[36mdata_processing.english_data_processing\u001b[0m:\u001b[36mevaluate_models\u001b[0m:\u001b[36m74\u001b[0m - \u001b[1mModel <class 'sklearn.ensemble._forest.ExtraTreesClassifier'> - scaler: RobustScaler(), accuracy: 0.6059351853233027\u001b[0m\n",
      "\u001b[32m2024-05-22 18:25:42.146\u001b[0m | \u001b[1mINFO    \u001b[0m | \u001b[36mdata_processing.english_data_processing\u001b[0m:\u001b[36mevaluate_models\u001b[0m:\u001b[36m74\u001b[0m - \u001b[1mModel <class 'sklearn.ensemble._forest.RandomForestClassifier'> - scaler: Normalizer(), accuracy: 0.5740813390547128\u001b[0m\n",
      "\u001b[32m2024-05-22 18:25:55.186\u001b[0m | \u001b[1mINFO    \u001b[0m | \u001b[36mdata_processing.english_data_processing\u001b[0m:\u001b[36mevaluate_models\u001b[0m:\u001b[36m74\u001b[0m - \u001b[1mModel <class 'sklearn.ensemble._forest.ExtraTreesClassifier'> - scaler: Normalizer(), accuracy: 0.5799943150835916\u001b[0m\n",
      "\u001b[32m2024-05-22 18:25:55.187\u001b[0m | \u001b[1mINFO    \u001b[0m | \u001b[36mdata_processing.english_data_processing\u001b[0m:\u001b[36mevaluate_models\u001b[0m:\u001b[36m82\u001b[0m - \u001b[1mBest Model: <class 'sklearn.ensemble._forest.RandomForestClassifier'>\u001b[0m\n",
      "\u001b[32m2024-05-22 18:25:55.188\u001b[0m | \u001b[1mINFO    \u001b[0m | \u001b[36mdata_processing.english_data_processing\u001b[0m:\u001b[36mevaluate_models\u001b[0m:\u001b[36m83\u001b[0m - \u001b[1mBest Scaler: StandardScaler\u001b[0m\n",
      "\u001b[32m2024-05-22 18:25:55.188\u001b[0m | \u001b[1mINFO    \u001b[0m | \u001b[36mdata_processing.english_data_processing\u001b[0m:\u001b[36mevaluate_models\u001b[0m:\u001b[36m84\u001b[0m - \u001b[1mBest Average Accuracy: 0.6090293212408697\u001b[0m\n",
      "\u001b[32m2024-05-22 18:25:55.190\u001b[0m | \u001b[1mINFO    \u001b[0m | \u001b[36mfeature_extraction.feature_extractor\u001b[0m:\u001b[36mprocess_folder\u001b[0m:\u001b[36m148\u001b[0m - \u001b[1mProcessing input folder: D:/data_analysis/speech_emotion_recognition/data/EnglishDataset/cleaned_data3\u001b[0m\n"
     ]
    },
    {
     "name": "stdout",
     "output_type": "stream",
     "text": [
      "Scaler: StandardScaler, Model: <class 'sklearn.ensemble._forest.RandomForestClassifier'>, n_mfcc: 13, Selected features: ['mfcc_statistics'], Accuracy: 0.6090293212408697\n"
     ]
    },
    {
     "name": "stderr",
     "output_type": "stream",
     "text": [
      "\u001b[32m2024-05-22 18:26:28.376\u001b[0m | \u001b[1mINFO    \u001b[0m | \u001b[36mfeature_extraction.feature_extractor\u001b[0m:\u001b[36mprocess_folder\u001b[0m:\u001b[36m158\u001b[0m - \u001b[1mFeature extraction completed. Data saved to: D:/data_analysis/speech_emotion_recognition/notebooks/feature4.csv\u001b[0m\n",
      "\u001b[32m2024-05-22 18:26:28.398\u001b[0m | \u001b[1mINFO    \u001b[0m | \u001b[36mdata_processing.english_data_processing\u001b[0m:\u001b[36mevaluate_models\u001b[0m:\u001b[36m53\u001b[0m - \u001b[1mFinding best model....\u001b[0m\n",
      "\u001b[32m2024-05-22 18:26:51.659\u001b[0m | \u001b[1mINFO    \u001b[0m | \u001b[36mdata_processing.english_data_processing\u001b[0m:\u001b[36mevaluate_models\u001b[0m:\u001b[36m74\u001b[0m - \u001b[1mModel <class 'sklearn.ensemble._forest.RandomForestClassifier'> - scaler: None, accuracy: 0.5601576031199086\u001b[0m\n",
      "\u001b[32m2024-05-22 18:26:59.669\u001b[0m | \u001b[1mINFO    \u001b[0m | \u001b[36mdata_processing.english_data_processing\u001b[0m:\u001b[36mevaluate_models\u001b[0m:\u001b[36m74\u001b[0m - \u001b[1mModel <class 'sklearn.ensemble._forest.ExtraTreesClassifier'> - scaler: None, accuracy: 0.566891825819465\u001b[0m\n",
      "\u001b[32m2024-05-22 18:27:22.981\u001b[0m | \u001b[1mINFO    \u001b[0m | \u001b[36mdata_processing.english_data_processing\u001b[0m:\u001b[36mevaluate_models\u001b[0m:\u001b[36m74\u001b[0m - \u001b[1mModel <class 'sklearn.ensemble._forest.RandomForestClassifier'> - scaler: StandardScaler(), accuracy: 0.5612484275322325\u001b[0m\n",
      "\u001b[32m2024-05-22 18:27:30.955\u001b[0m | \u001b[1mINFO    \u001b[0m | \u001b[36mdata_processing.english_data_processing\u001b[0m:\u001b[36mevaluate_models\u001b[0m:\u001b[36m74\u001b[0m - \u001b[1mModel <class 'sklearn.ensemble._forest.ExtraTreesClassifier'> - scaler: StandardScaler(), accuracy: 0.5658905844193513\u001b[0m\n",
      "\u001b[32m2024-05-22 18:27:54.235\u001b[0m | \u001b[1mINFO    \u001b[0m | \u001b[36mdata_processing.english_data_processing\u001b[0m:\u001b[36mevaluate_models\u001b[0m:\u001b[36m74\u001b[0m - \u001b[1mModel <class 'sklearn.ensemble._forest.RandomForestClassifier'> - scaler: MinMaxScaler(), accuracy: 0.5646171134215406\u001b[0m\n",
      "\u001b[32m2024-05-22 18:28:02.117\u001b[0m | \u001b[1mINFO    \u001b[0m | \u001b[36mdata_processing.english_data_processing\u001b[0m:\u001b[36mevaluate_models\u001b[0m:\u001b[36m74\u001b[0m - \u001b[1mModel <class 'sklearn.ensemble._forest.ExtraTreesClassifier'> - scaler: MinMaxScaler(), accuracy: 0.5688944743606955\u001b[0m\n",
      "\u001b[32m2024-05-22 18:28:25.355\u001b[0m | \u001b[1mINFO    \u001b[0m | \u001b[36mdata_processing.english_data_processing\u001b[0m:\u001b[36mevaluate_models\u001b[0m:\u001b[36m74\u001b[0m - \u001b[1mModel <class 'sklearn.ensemble._forest.RandomForestClassifier'> - scaler: MaxAbsScaler(), accuracy: 0.5618849558548838\u001b[0m\n",
      "\u001b[32m2024-05-22 18:28:33.249\u001b[0m | \u001b[1mINFO    \u001b[0m | \u001b[36mdata_processing.english_data_processing\u001b[0m:\u001b[36mevaluate_models\u001b[0m:\u001b[36m74\u001b[0m - \u001b[1mModel <class 'sklearn.ensemble._forest.ExtraTreesClassifier'> - scaler: MaxAbsScaler(), accuracy: 0.5660734796163427\u001b[0m\n",
      "\u001b[32m2024-05-22 18:28:56.439\u001b[0m | \u001b[1mINFO    \u001b[0m | \u001b[36mdata_processing.english_data_processing\u001b[0m:\u001b[36mevaluate_models\u001b[0m:\u001b[36m74\u001b[0m - \u001b[1mModel <class 'sklearn.ensemble._forest.RandomForestClassifier'> - scaler: RobustScaler(), accuracy: 0.5625238045515794\u001b[0m\n",
      "\u001b[32m2024-05-22 18:29:04.386\u001b[0m | \u001b[1mINFO    \u001b[0m | \u001b[36mdata_processing.english_data_processing\u001b[0m:\u001b[36mevaluate_models\u001b[0m:\u001b[36m74\u001b[0m - \u001b[1mModel <class 'sklearn.ensemble._forest.ExtraTreesClassifier'> - scaler: RobustScaler(), accuracy: 0.5694402594841146\u001b[0m\n",
      "\u001b[32m2024-05-22 18:29:28.205\u001b[0m | \u001b[1mINFO    \u001b[0m | \u001b[36mdata_processing.english_data_processing\u001b[0m:\u001b[36mevaluate_models\u001b[0m:\u001b[36m74\u001b[0m - \u001b[1mModel <class 'sklearn.ensemble._forest.RandomForestClassifier'> - scaler: Normalizer(), accuracy: 0.5408636100710864\u001b[0m\n",
      "\u001b[32m2024-05-22 18:29:36.236\u001b[0m | \u001b[1mINFO    \u001b[0m | \u001b[36mdata_processing.english_data_processing\u001b[0m:\u001b[36mevaluate_models\u001b[0m:\u001b[36m74\u001b[0m - \u001b[1mModel <class 'sklearn.ensemble._forest.ExtraTreesClassifier'> - scaler: Normalizer(), accuracy: 0.5402272474894382\u001b[0m\n",
      "\u001b[32m2024-05-22 18:29:36.237\u001b[0m | \u001b[1mINFO    \u001b[0m | \u001b[36mdata_processing.english_data_processing\u001b[0m:\u001b[36mevaluate_models\u001b[0m:\u001b[36m82\u001b[0m - \u001b[1mBest Model: <class 'sklearn.ensemble._forest.ExtraTreesClassifier'>\u001b[0m\n",
      "\u001b[32m2024-05-22 18:29:36.238\u001b[0m | \u001b[1mINFO    \u001b[0m | \u001b[36mdata_processing.english_data_processing\u001b[0m:\u001b[36mevaluate_models\u001b[0m:\u001b[36m83\u001b[0m - \u001b[1mBest Scaler: RobustScaler\u001b[0m\n",
      "\u001b[32m2024-05-22 18:29:36.238\u001b[0m | \u001b[1mINFO    \u001b[0m | \u001b[36mdata_processing.english_data_processing\u001b[0m:\u001b[36mevaluate_models\u001b[0m:\u001b[36m84\u001b[0m - \u001b[1mBest Average Accuracy: 0.5694402594841146\u001b[0m\n",
      "\u001b[32m2024-05-22 18:29:36.239\u001b[0m | \u001b[1mINFO    \u001b[0m | \u001b[36mfeature_extraction.feature_extractor\u001b[0m:\u001b[36mprocess_folder\u001b[0m:\u001b[36m148\u001b[0m - \u001b[1mProcessing input folder: D:/data_analysis/speech_emotion_recognition/data/EnglishDataset/cleaned_data3\u001b[0m\n"
     ]
    },
    {
     "name": "stdout",
     "output_type": "stream",
     "text": [
      "Scaler: RobustScaler, Model: <class 'sklearn.ensemble._forest.ExtraTreesClassifier'>, n_mfcc: 13, Selected features: ['mfcc'], Accuracy: 0.5694402594841146\n"
     ]
    },
    {
     "name": "stderr",
     "output_type": "stream",
     "text": [
      "\u001b[32m2024-05-22 18:29:39.631\u001b[0m | \u001b[1mINFO    \u001b[0m | \u001b[36mfeature_extraction.feature_extractor\u001b[0m:\u001b[36mprocess_folder\u001b[0m:\u001b[36m158\u001b[0m - \u001b[1mFeature extraction completed. Data saved to: D:/data_analysis/speech_emotion_recognition/notebooks/feature4.csv\u001b[0m\n",
      "\u001b[32m2024-05-22 18:29:39.642\u001b[0m | \u001b[1mINFO    \u001b[0m | \u001b[36mdata_processing.english_data_processing\u001b[0m:\u001b[36mevaluate_models\u001b[0m:\u001b[36m53\u001b[0m - \u001b[1mFinding best model....\u001b[0m\n"
     ]
    },
    {
     "ename": "ValueError",
     "evalue": "at least one array or dtype is required",
     "output_type": "error",
     "traceback": [
      "\u001b[1;31m---------------------------------------------------------------------------\u001b[0m",
      "\u001b[1;31mValueError\u001b[0m                                Traceback (most recent call last)",
      "Cell \u001b[1;32mIn[7], line 1\u001b[0m\n\u001b[1;32m----> 1\u001b[0m \u001b[43mprocess_data\u001b[49m\u001b[43m(\u001b[49m\u001b[38;5;241;43m256\u001b[39;49m\u001b[43m,\u001b[49m\u001b[43m \u001b[49m\u001b[38;5;241;43m128\u001b[39;49m\u001b[43m,\u001b[49m\u001b[43m \u001b[49m\u001b[38;5;241;43m0.015\u001b[39;49m\u001b[43m,\u001b[49m\u001b[43m \u001b[49m\u001b[38;5;124;43m'\u001b[39;49m\u001b[38;5;124;43mD:/data_analysis/speech_emotion_recognition/data/EnglishDataset/combined_data\u001b[39;49m\u001b[38;5;124;43m'\u001b[39;49m\u001b[43m,\u001b[49m\u001b[43m \u001b[49m\u001b[38;5;124;43m'\u001b[39;49m\u001b[38;5;124;43mD:/data_analysis/speech_emotion_recognition/data/EnglishDataset/cleaned_data3\u001b[39;49m\u001b[38;5;124;43m'\u001b[39;49m\u001b[43m,\u001b[49m\u001b[43m \u001b[49m\u001b[43m[\u001b[49m\u001b[38;5;241;43m13\u001b[39;49m\u001b[43m,\u001b[49m\u001b[38;5;241;43m20\u001b[39;49m\u001b[43m,\u001b[49m\u001b[38;5;241;43m26\u001b[39;49m\u001b[43m,\u001b[49m\u001b[38;5;241;43m40\u001b[39;49m\u001b[43m]\u001b[49m\u001b[43m,\u001b[49m\u001b[43m \u001b[49m\u001b[38;5;124;43m'\u001b[39;49m\u001b[38;5;124;43mD:/data_analysis/speech_emotion_recognition/notebooks/feature4.csv\u001b[39;49m\u001b[38;5;124;43m'\u001b[39;49m\u001b[43m,\u001b[49m\u001b[43m \u001b[49m\u001b[38;5;241;43m100\u001b[39;49m\u001b[43m,\u001b[49m\u001b[43m \u001b[49m\u001b[38;5;124;43m'\u001b[39;49m\u001b[38;5;124;43mD:/data_analysis/speech_emotion_recognition/data/EnglishDataset/images\u001b[39;49m\u001b[38;5;124;43m'\u001b[39;49m\u001b[43m,\u001b[49m\u001b[43m \u001b[49m\u001b[43m[\u001b[49m\u001b[38;5;124;43m'\u001b[39;49m\u001b[38;5;124;43mmfcc\u001b[39;49m\u001b[38;5;124;43m'\u001b[39;49m\u001b[43m,\u001b[49m\u001b[38;5;124;43m'\u001b[39;49m\u001b[38;5;124;43mmfcc_statistics\u001b[39;49m\u001b[38;5;124;43m'\u001b[39;49m\u001b[43m,\u001b[49m\u001b[43m \u001b[49m\u001b[38;5;124;43m'\u001b[39;49m\u001b[38;5;124;43mzcr\u001b[39;49m\u001b[38;5;124;43m'\u001b[39;49m\u001b[43m,\u001b[49m\u001b[43m \u001b[49m\u001b[38;5;124;43m'\u001b[39;49m\u001b[38;5;124;43mpitch\u001b[39;49m\u001b[38;5;124;43m'\u001b[39;49m\u001b[43m,\u001b[49m\u001b[43m \u001b[49m\u001b[38;5;124;43m'\u001b[39;49m\u001b[38;5;124;43mrms\u001b[39;49m\u001b[38;5;124;43m'\u001b[39;49m\u001b[43m]\u001b[49m\u001b[43m)\u001b[49m\n",
      "Cell \u001b[1;32mIn[6], line 12\u001b[0m, in \u001b[0;36mprocess_data\u001b[1;34m(frame_size, hop_size, threshold, raw_folder, cutted_folder, n_mfcc_list, featured_data_path, n_mfcc_for_images, images_folder, features)\u001b[0m\n\u001b[0;32m     10\u001b[0m selected_features \u001b[38;5;241m=\u001b[39m [features[i] \u001b[38;5;28;01mfor\u001b[39;00m i \u001b[38;5;129;01min\u001b[39;00m \u001b[38;5;28mrange\u001b[39m(n) \u001b[38;5;28;01mif\u001b[39;00m i \u001b[38;5;129;01mnot\u001b[39;00m \u001b[38;5;129;01min\u001b[39;00m combo]\n\u001b[0;32m     11\u001b[0m extract_feature(n_mfcc, cutted_folder, featured_data_path, selected_features)\n\u001b[1;32m---> 12\u001b[0m current_model, current_scaler, current_avg_acc \u001b[38;5;241m=\u001b[39m \u001b[43mmodel\u001b[49m\u001b[43m(\u001b[49m\u001b[43mfeatured_data_path\u001b[49m\u001b[43m)\u001b[49m\n\u001b[0;32m     13\u001b[0m \u001b[38;5;28mprint\u001b[39m(\u001b[38;5;124mf\u001b[39m\u001b[38;5;124m\"\u001b[39m\u001b[38;5;124mScaler: \u001b[39m\u001b[38;5;132;01m{\u001b[39;00mcurrent_scaler\u001b[38;5;132;01m}\u001b[39;00m\u001b[38;5;124m, Model: \u001b[39m\u001b[38;5;132;01m{\u001b[39;00mcurrent_model\u001b[38;5;132;01m}\u001b[39;00m\u001b[38;5;124m, n_mfcc: \u001b[39m\u001b[38;5;132;01m{\u001b[39;00mn_mfcc\u001b[38;5;132;01m}\u001b[39;00m\u001b[38;5;124m, Selected features: \u001b[39m\u001b[38;5;132;01m{\u001b[39;00mselected_features\u001b[38;5;132;01m}\u001b[39;00m\u001b[38;5;124m, Accuracy: \u001b[39m\u001b[38;5;132;01m{\u001b[39;00mcurrent_avg_acc\u001b[38;5;132;01m}\u001b[39;00m\u001b[38;5;124m\"\u001b[39m)\n\u001b[0;32m     14\u001b[0m results\u001b[38;5;241m.\u001b[39mappend({\u001b[38;5;124m'\u001b[39m\u001b[38;5;124mScaler\u001b[39m\u001b[38;5;124m'\u001b[39m: current_scaler, \u001b[38;5;124m'\u001b[39m\u001b[38;5;124mModel\u001b[39m\u001b[38;5;124m'\u001b[39m: current_model, \u001b[38;5;124m'\u001b[39m\u001b[38;5;124mN_MFCC\u001b[39m\u001b[38;5;124m'\u001b[39m: n_mfcc, \u001b[38;5;124m'\u001b[39m\u001b[38;5;124mSelected Features\u001b[39m\u001b[38;5;124m'\u001b[39m: selected_features, \u001b[38;5;124m'\u001b[39m\u001b[38;5;124mAverage Accuracy\u001b[39m\u001b[38;5;124m'\u001b[39m: current_avg_acc})\n",
      "Cell \u001b[1;32mIn[5], line 8\u001b[0m, in \u001b[0;36mmodel\u001b[1;34m(featured_data)\u001b[0m\n\u001b[0;32m      5\u001b[0m df_shuffled \u001b[38;5;241m=\u001b[39m df_train_test\u001b[38;5;241m.\u001b[39msample(frac\u001b[38;5;241m=\u001b[39m\u001b[38;5;241m1\u001b[39m, random_state\u001b[38;5;241m=\u001b[39m\u001b[38;5;241m42\u001b[39m)\u001b[38;5;241m.\u001b[39mreset_index(drop\u001b[38;5;241m=\u001b[39m\u001b[38;5;28;01mTrue\u001b[39;00m)\n\u001b[0;32m      7\u001b[0m modelEvaluator \u001b[38;5;241m=\u001b[39m ModelEvaluator(models)\n\u001b[1;32m----> 8\u001b[0m best_model, best_scaler, best_avg_acc \u001b[38;5;241m=\u001b[39m \u001b[43mmodelEvaluator\u001b[49m\u001b[38;5;241;43m.\u001b[39;49m\u001b[43mevaluate_models\u001b[49m\u001b[43m(\u001b[49m\u001b[43mdf_shuffled\u001b[49m\u001b[43m)\u001b[49m\n\u001b[0;32m      9\u001b[0m \u001b[38;5;28;01mreturn\u001b[39;00m best_model, best_scaler, best_avg_acc\n",
      "File \u001b[1;32md:\\data_analysis\\speech_emotion_recognition\\src\\data_processing\\english_data_processing.py:73\u001b[0m, in \u001b[0;36mModelEvaluator.evaluate_models\u001b[1;34m(self, data)\u001b[0m\n\u001b[0;32m     71\u001b[0m \u001b[38;5;28;01mfor\u001b[39;00m scaler_name, scaler \u001b[38;5;129;01min\u001b[39;00m scalers:\n\u001b[0;32m     72\u001b[0m     \u001b[38;5;28;01mfor\u001b[39;00m model \u001b[38;5;129;01min\u001b[39;00m \u001b[38;5;28mself\u001b[39m\u001b[38;5;241m.\u001b[39mmodels:\n\u001b[1;32m---> 73\u001b[0m         avg_acc \u001b[38;5;241m=\u001b[39m \u001b[38;5;28;43mself\u001b[39;49m\u001b[38;5;241;43m.\u001b[39;49m\u001b[43m_cross_validate\u001b[49m\u001b[43m(\u001b[49m\u001b[43mmodel\u001b[49m\u001b[43m,\u001b[49m\u001b[43m \u001b[49m\u001b[43mX\u001b[49m\u001b[43m,\u001b[49m\u001b[43m \u001b[49m\u001b[43my\u001b[49m\u001b[43m,\u001b[49m\u001b[43m \u001b[49m\u001b[43mscaler\u001b[49m\u001b[43m)\u001b[49m\n\u001b[0;32m     74\u001b[0m         logger\u001b[38;5;241m.\u001b[39minfo(\u001b[38;5;124mf\u001b[39m\u001b[38;5;124m'\u001b[39m\u001b[38;5;124mModel \u001b[39m\u001b[38;5;132;01m{\u001b[39;00mmodel\u001b[38;5;132;01m}\u001b[39;00m\u001b[38;5;124m - scaler: \u001b[39m\u001b[38;5;132;01m{\u001b[39;00mscaler\u001b[38;5;132;01m}\u001b[39;00m\u001b[38;5;124m, accuracy: \u001b[39m\u001b[38;5;132;01m{\u001b[39;00mavg_acc\u001b[38;5;132;01m}\u001b[39;00m\u001b[38;5;124m'\u001b[39m)\n\u001b[0;32m     75\u001b[0m         results[scaler_name]\u001b[38;5;241m.\u001b[39mappend((model, avg_acc))\n",
      "File \u001b[1;32md:\\data_analysis\\speech_emotion_recognition\\src\\data_processing\\english_data_processing.py:44\u001b[0m, in \u001b[0;36mModelEvaluator._cross_validate\u001b[1;34m(self, model, X, y, scaler)\u001b[0m\n\u001b[0;32m     41\u001b[0m     X_train \u001b[38;5;241m=\u001b[39m scaler\u001b[38;5;241m.\u001b[39mfit_transform(X_train)\n\u001b[0;32m     42\u001b[0m     X_test \u001b[38;5;241m=\u001b[39m scaler\u001b[38;5;241m.\u001b[39mtransform(X_test)\n\u001b[1;32m---> 44\u001b[0m y_pred \u001b[38;5;241m=\u001b[39m \u001b[38;5;28;43mself\u001b[39;49m\u001b[38;5;241;43m.\u001b[39;49m\u001b[43m_train_and_predict\u001b[49m\u001b[43m(\u001b[49m\u001b[43mmodel\u001b[49m\u001b[43m,\u001b[49m\u001b[43m \u001b[49m\u001b[43mX_train\u001b[49m\u001b[43m,\u001b[49m\u001b[43m \u001b[49m\u001b[43my_train\u001b[49m\u001b[43m,\u001b[49m\u001b[43m \u001b[49m\u001b[43mX_test\u001b[49m\u001b[43m)\u001b[49m\n\u001b[0;32m     46\u001b[0m acc \u001b[38;5;241m=\u001b[39m accuracy_score(y_test, y_pred)\n\u001b[0;32m     47\u001b[0m acc_scores\u001b[38;5;241m.\u001b[39mappend(acc)\n",
      "File \u001b[1;32md:\\data_analysis\\speech_emotion_recognition\\src\\data_processing\\english_data_processing.py:25\u001b[0m, in \u001b[0;36mModelEvaluator._train_and_predict\u001b[1;34m(self, model, X_train, y_train, X_test)\u001b[0m\n\u001b[0;32m     22\u001b[0m clf \u001b[38;5;241m=\u001b[39m model()\n\u001b[0;32m     24\u001b[0m \u001b[38;5;66;03m# Train model\u001b[39;00m\n\u001b[1;32m---> 25\u001b[0m \u001b[43mclf\u001b[49m\u001b[38;5;241;43m.\u001b[39;49m\u001b[43mfit\u001b[49m\u001b[43m(\u001b[49m\u001b[43mX_train\u001b[49m\u001b[43m,\u001b[49m\u001b[43m \u001b[49m\u001b[43my_train\u001b[49m\u001b[43m)\u001b[49m\n\u001b[0;32m     27\u001b[0m \u001b[38;5;66;03m# Dự đoán trên tập test\u001b[39;00m\n\u001b[0;32m     28\u001b[0m y_pred \u001b[38;5;241m=\u001b[39m clf\u001b[38;5;241m.\u001b[39mpredict(X_test)\n",
      "File \u001b[1;32md:\\data_analysis\\speech_emotion_recognition\\.venv\\Lib\\site-packages\\sklearn\\base.py:1474\u001b[0m, in \u001b[0;36m_fit_context.<locals>.decorator.<locals>.wrapper\u001b[1;34m(estimator, *args, **kwargs)\u001b[0m\n\u001b[0;32m   1467\u001b[0m     estimator\u001b[38;5;241m.\u001b[39m_validate_params()\n\u001b[0;32m   1469\u001b[0m \u001b[38;5;28;01mwith\u001b[39;00m config_context(\n\u001b[0;32m   1470\u001b[0m     skip_parameter_validation\u001b[38;5;241m=\u001b[39m(\n\u001b[0;32m   1471\u001b[0m         prefer_skip_nested_validation \u001b[38;5;129;01mor\u001b[39;00m global_skip_validation\n\u001b[0;32m   1472\u001b[0m     )\n\u001b[0;32m   1473\u001b[0m ):\n\u001b[1;32m-> 1474\u001b[0m     \u001b[38;5;28;01mreturn\u001b[39;00m \u001b[43mfit_method\u001b[49m\u001b[43m(\u001b[49m\u001b[43mestimator\u001b[49m\u001b[43m,\u001b[49m\u001b[43m \u001b[49m\u001b[38;5;241;43m*\u001b[39;49m\u001b[43margs\u001b[49m\u001b[43m,\u001b[49m\u001b[43m \u001b[49m\u001b[38;5;241;43m*\u001b[39;49m\u001b[38;5;241;43m*\u001b[39;49m\u001b[43mkwargs\u001b[49m\u001b[43m)\u001b[49m\n",
      "File \u001b[1;32md:\\data_analysis\\speech_emotion_recognition\\.venv\\Lib\\site-packages\\sklearn\\ensemble\\_forest.py:363\u001b[0m, in \u001b[0;36mBaseForest.fit\u001b[1;34m(self, X, y, sample_weight)\u001b[0m\n\u001b[0;32m    360\u001b[0m \u001b[38;5;28;01mif\u001b[39;00m issparse(y):\n\u001b[0;32m    361\u001b[0m     \u001b[38;5;28;01mraise\u001b[39;00m \u001b[38;5;167;01mValueError\u001b[39;00m(\u001b[38;5;124m\"\u001b[39m\u001b[38;5;124msparse multilabel-indicator for y is not supported.\u001b[39m\u001b[38;5;124m\"\u001b[39m)\n\u001b[1;32m--> 363\u001b[0m X, y \u001b[38;5;241m=\u001b[39m \u001b[38;5;28;43mself\u001b[39;49m\u001b[38;5;241;43m.\u001b[39;49m\u001b[43m_validate_data\u001b[49m\u001b[43m(\u001b[49m\n\u001b[0;32m    364\u001b[0m \u001b[43m    \u001b[49m\u001b[43mX\u001b[49m\u001b[43m,\u001b[49m\n\u001b[0;32m    365\u001b[0m \u001b[43m    \u001b[49m\u001b[43my\u001b[49m\u001b[43m,\u001b[49m\n\u001b[0;32m    366\u001b[0m \u001b[43m    \u001b[49m\u001b[43mmulti_output\u001b[49m\u001b[38;5;241;43m=\u001b[39;49m\u001b[38;5;28;43;01mTrue\u001b[39;49;00m\u001b[43m,\u001b[49m\n\u001b[0;32m    367\u001b[0m \u001b[43m    \u001b[49m\u001b[43maccept_sparse\u001b[49m\u001b[38;5;241;43m=\u001b[39;49m\u001b[38;5;124;43m\"\u001b[39;49m\u001b[38;5;124;43mcsc\u001b[39;49m\u001b[38;5;124;43m\"\u001b[39;49m\u001b[43m,\u001b[49m\n\u001b[0;32m    368\u001b[0m \u001b[43m    \u001b[49m\u001b[43mdtype\u001b[49m\u001b[38;5;241;43m=\u001b[39;49m\u001b[43mDTYPE\u001b[49m\u001b[43m,\u001b[49m\n\u001b[0;32m    369\u001b[0m \u001b[43m    \u001b[49m\u001b[43mforce_all_finite\u001b[49m\u001b[38;5;241;43m=\u001b[39;49m\u001b[38;5;28;43;01mFalse\u001b[39;49;00m\u001b[43m,\u001b[49m\n\u001b[0;32m    370\u001b[0m \u001b[43m\u001b[49m\u001b[43m)\u001b[49m\n\u001b[0;32m    371\u001b[0m \u001b[38;5;66;03m# _compute_missing_values_in_feature_mask checks if X has missing values and\u001b[39;00m\n\u001b[0;32m    372\u001b[0m \u001b[38;5;66;03m# will raise an error if the underlying tree base estimator can't handle missing\u001b[39;00m\n\u001b[0;32m    373\u001b[0m \u001b[38;5;66;03m# values. Only the criterion is required to determine if the tree supports\u001b[39;00m\n\u001b[0;32m    374\u001b[0m \u001b[38;5;66;03m# missing values.\u001b[39;00m\n\u001b[0;32m    375\u001b[0m estimator \u001b[38;5;241m=\u001b[39m \u001b[38;5;28mtype\u001b[39m(\u001b[38;5;28mself\u001b[39m\u001b[38;5;241m.\u001b[39mestimator)(criterion\u001b[38;5;241m=\u001b[39m\u001b[38;5;28mself\u001b[39m\u001b[38;5;241m.\u001b[39mcriterion)\n",
      "File \u001b[1;32md:\\data_analysis\\speech_emotion_recognition\\.venv\\Lib\\site-packages\\sklearn\\base.py:650\u001b[0m, in \u001b[0;36mBaseEstimator._validate_data\u001b[1;34m(self, X, y, reset, validate_separately, cast_to_ndarray, **check_params)\u001b[0m\n\u001b[0;32m    648\u001b[0m         y \u001b[38;5;241m=\u001b[39m check_array(y, input_name\u001b[38;5;241m=\u001b[39m\u001b[38;5;124m\"\u001b[39m\u001b[38;5;124my\u001b[39m\u001b[38;5;124m\"\u001b[39m, \u001b[38;5;241m*\u001b[39m\u001b[38;5;241m*\u001b[39mcheck_y_params)\n\u001b[0;32m    649\u001b[0m     \u001b[38;5;28;01melse\u001b[39;00m:\n\u001b[1;32m--> 650\u001b[0m         X, y \u001b[38;5;241m=\u001b[39m \u001b[43mcheck_X_y\u001b[49m\u001b[43m(\u001b[49m\u001b[43mX\u001b[49m\u001b[43m,\u001b[49m\u001b[43m \u001b[49m\u001b[43my\u001b[49m\u001b[43m,\u001b[49m\u001b[43m \u001b[49m\u001b[38;5;241;43m*\u001b[39;49m\u001b[38;5;241;43m*\u001b[39;49m\u001b[43mcheck_params\u001b[49m\u001b[43m)\u001b[49m\n\u001b[0;32m    651\u001b[0m     out \u001b[38;5;241m=\u001b[39m X, y\n\u001b[0;32m    653\u001b[0m \u001b[38;5;28;01mif\u001b[39;00m \u001b[38;5;129;01mnot\u001b[39;00m no_val_X \u001b[38;5;129;01mand\u001b[39;00m check_params\u001b[38;5;241m.\u001b[39mget(\u001b[38;5;124m\"\u001b[39m\u001b[38;5;124mensure_2d\u001b[39m\u001b[38;5;124m\"\u001b[39m, \u001b[38;5;28;01mTrue\u001b[39;00m):\n",
      "File \u001b[1;32md:\\data_analysis\\speech_emotion_recognition\\.venv\\Lib\\site-packages\\sklearn\\utils\\validation.py:1263\u001b[0m, in \u001b[0;36mcheck_X_y\u001b[1;34m(X, y, accept_sparse, accept_large_sparse, dtype, order, copy, force_all_finite, ensure_2d, allow_nd, multi_output, ensure_min_samples, ensure_min_features, y_numeric, estimator)\u001b[0m\n\u001b[0;32m   1258\u001b[0m         estimator_name \u001b[38;5;241m=\u001b[39m _check_estimator_name(estimator)\n\u001b[0;32m   1259\u001b[0m     \u001b[38;5;28;01mraise\u001b[39;00m \u001b[38;5;167;01mValueError\u001b[39;00m(\n\u001b[0;32m   1260\u001b[0m         \u001b[38;5;124mf\u001b[39m\u001b[38;5;124m\"\u001b[39m\u001b[38;5;132;01m{\u001b[39;00mestimator_name\u001b[38;5;132;01m}\u001b[39;00m\u001b[38;5;124m requires y to be passed, but the target y is None\u001b[39m\u001b[38;5;124m\"\u001b[39m\n\u001b[0;32m   1261\u001b[0m     )\n\u001b[1;32m-> 1263\u001b[0m X \u001b[38;5;241m=\u001b[39m \u001b[43mcheck_array\u001b[49m\u001b[43m(\u001b[49m\n\u001b[0;32m   1264\u001b[0m \u001b[43m    \u001b[49m\u001b[43mX\u001b[49m\u001b[43m,\u001b[49m\n\u001b[0;32m   1265\u001b[0m \u001b[43m    \u001b[49m\u001b[43maccept_sparse\u001b[49m\u001b[38;5;241;43m=\u001b[39;49m\u001b[43maccept_sparse\u001b[49m\u001b[43m,\u001b[49m\n\u001b[0;32m   1266\u001b[0m \u001b[43m    \u001b[49m\u001b[43maccept_large_sparse\u001b[49m\u001b[38;5;241;43m=\u001b[39;49m\u001b[43maccept_large_sparse\u001b[49m\u001b[43m,\u001b[49m\n\u001b[0;32m   1267\u001b[0m \u001b[43m    \u001b[49m\u001b[43mdtype\u001b[49m\u001b[38;5;241;43m=\u001b[39;49m\u001b[43mdtype\u001b[49m\u001b[43m,\u001b[49m\n\u001b[0;32m   1268\u001b[0m \u001b[43m    \u001b[49m\u001b[43morder\u001b[49m\u001b[38;5;241;43m=\u001b[39;49m\u001b[43morder\u001b[49m\u001b[43m,\u001b[49m\n\u001b[0;32m   1269\u001b[0m \u001b[43m    \u001b[49m\u001b[43mcopy\u001b[49m\u001b[38;5;241;43m=\u001b[39;49m\u001b[43mcopy\u001b[49m\u001b[43m,\u001b[49m\n\u001b[0;32m   1270\u001b[0m \u001b[43m    \u001b[49m\u001b[43mforce_all_finite\u001b[49m\u001b[38;5;241;43m=\u001b[39;49m\u001b[43mforce_all_finite\u001b[49m\u001b[43m,\u001b[49m\n\u001b[0;32m   1271\u001b[0m \u001b[43m    \u001b[49m\u001b[43mensure_2d\u001b[49m\u001b[38;5;241;43m=\u001b[39;49m\u001b[43mensure_2d\u001b[49m\u001b[43m,\u001b[49m\n\u001b[0;32m   1272\u001b[0m \u001b[43m    \u001b[49m\u001b[43mallow_nd\u001b[49m\u001b[38;5;241;43m=\u001b[39;49m\u001b[43mallow_nd\u001b[49m\u001b[43m,\u001b[49m\n\u001b[0;32m   1273\u001b[0m \u001b[43m    \u001b[49m\u001b[43mensure_min_samples\u001b[49m\u001b[38;5;241;43m=\u001b[39;49m\u001b[43mensure_min_samples\u001b[49m\u001b[43m,\u001b[49m\n\u001b[0;32m   1274\u001b[0m \u001b[43m    \u001b[49m\u001b[43mensure_min_features\u001b[49m\u001b[38;5;241;43m=\u001b[39;49m\u001b[43mensure_min_features\u001b[49m\u001b[43m,\u001b[49m\n\u001b[0;32m   1275\u001b[0m \u001b[43m    \u001b[49m\u001b[43mestimator\u001b[49m\u001b[38;5;241;43m=\u001b[39;49m\u001b[43mestimator\u001b[49m\u001b[43m,\u001b[49m\n\u001b[0;32m   1276\u001b[0m \u001b[43m    \u001b[49m\u001b[43minput_name\u001b[49m\u001b[38;5;241;43m=\u001b[39;49m\u001b[38;5;124;43m\"\u001b[39;49m\u001b[38;5;124;43mX\u001b[39;49m\u001b[38;5;124;43m\"\u001b[39;49m\u001b[43m,\u001b[49m\n\u001b[0;32m   1277\u001b[0m \u001b[43m\u001b[49m\u001b[43m)\u001b[49m\n\u001b[0;32m   1279\u001b[0m y \u001b[38;5;241m=\u001b[39m _check_y(y, multi_output\u001b[38;5;241m=\u001b[39mmulti_output, y_numeric\u001b[38;5;241m=\u001b[39my_numeric, estimator\u001b[38;5;241m=\u001b[39mestimator)\n\u001b[0;32m   1281\u001b[0m check_consistent_length(X, y)\n",
      "File \u001b[1;32md:\\data_analysis\\speech_emotion_recognition\\.venv\\Lib\\site-packages\\sklearn\\utils\\validation.py:879\u001b[0m, in \u001b[0;36mcheck_array\u001b[1;34m(array, accept_sparse, accept_large_sparse, dtype, order, copy, force_all_finite, ensure_2d, allow_nd, ensure_min_samples, ensure_min_features, estimator, input_name)\u001b[0m\n\u001b[0;32m    875\u001b[0m pandas_requires_conversion \u001b[38;5;241m=\u001b[39m \u001b[38;5;28many\u001b[39m(\n\u001b[0;32m    876\u001b[0m     _pandas_dtype_needs_early_conversion(i) \u001b[38;5;28;01mfor\u001b[39;00m i \u001b[38;5;129;01min\u001b[39;00m dtypes_orig\n\u001b[0;32m    877\u001b[0m )\n\u001b[0;32m    878\u001b[0m \u001b[38;5;28;01mif\u001b[39;00m \u001b[38;5;28mall\u001b[39m(\u001b[38;5;28misinstance\u001b[39m(dtype_iter, np\u001b[38;5;241m.\u001b[39mdtype) \u001b[38;5;28;01mfor\u001b[39;00m dtype_iter \u001b[38;5;129;01min\u001b[39;00m dtypes_orig):\n\u001b[1;32m--> 879\u001b[0m     dtype_orig \u001b[38;5;241m=\u001b[39m \u001b[43mnp\u001b[49m\u001b[38;5;241;43m.\u001b[39;49m\u001b[43mresult_type\u001b[49m\u001b[43m(\u001b[49m\u001b[38;5;241;43m*\u001b[39;49m\u001b[43mdtypes_orig\u001b[49m\u001b[43m)\u001b[49m\n\u001b[0;32m    880\u001b[0m \u001b[38;5;28;01melif\u001b[39;00m pandas_requires_conversion \u001b[38;5;129;01mand\u001b[39;00m \u001b[38;5;28many\u001b[39m(d \u001b[38;5;241m==\u001b[39m \u001b[38;5;28mobject\u001b[39m \u001b[38;5;28;01mfor\u001b[39;00m d \u001b[38;5;129;01min\u001b[39;00m dtypes_orig):\n\u001b[0;32m    881\u001b[0m     \u001b[38;5;66;03m# Force object if any of the dtypes is an object\u001b[39;00m\n\u001b[0;32m    882\u001b[0m     dtype_orig \u001b[38;5;241m=\u001b[39m \u001b[38;5;28mobject\u001b[39m\n",
      "\u001b[1;31mValueError\u001b[0m: at least one array or dtype is required"
     ]
    }
   ],
   "source": [
    "process_data(256, 128, 0.015, 'D:/data_analysis/speech_emotion_recognition/data/EnglishDataset/combined_data', 'D:/data_analysis/speech_emotion_recognition/data/EnglishDataset/cleaned_data3', [13,20,26,40], 'D:/data_analysis/speech_emotion_recognition/notebooks/feature4.csv', 100, 'D:/data_analysis/speech_emotion_recognition/data/EnglishDataset/images', ['mfcc','mfcc_statistics', 'zcr', 'pitch', 'rms'])"
   ]
  }
 ],
 "metadata": {
  "kernelspec": {
   "display_name": ".venv",
   "language": "python",
   "name": "python3"
  },
  "language_info": {
   "codemirror_mode": {
    "name": "ipython",
    "version": 3
   },
   "file_extension": ".py",
   "mimetype": "text/x-python",
   "name": "python",
   "nbconvert_exporter": "python",
   "pygments_lexer": "ipython3",
   "version": "3.11.9"
  }
 },
 "nbformat": 4,
 "nbformat_minor": 2
}
