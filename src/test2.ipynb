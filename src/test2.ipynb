{
 "cells": [
  {
   "cell_type": "code",
   "execution_count": 9,
   "metadata": {},
   "outputs": [],
   "source": [
    "from audio_preprocessing.cut_audio_segment_from_audio_file import AudioProcessor\n",
    "from feature_extraction.feature_engineering import FeatureExtractor\n",
    "from data_processing.english_data_processing import ModelEvaluator\n",
    "from sklearn.svm import SVC\n",
    "from sklearn.ensemble import RandomForestClassifier\n",
    "from sklearn.tree import DecisionTreeClassifier\n",
    "from sklearn.ensemble import GradientBoostingClassifier\n",
    "from sklearn.linear_model import LogisticRegression\n",
    "from sklearn.ensemble import AdaBoostClassifier\n",
    "from sklearn.ensemble import BaggingClassifier\n",
    "from sklearn.ensemble import ExtraTreesClassifier\n",
    "import pandas as pd\n",
    "from sklearn.neural_network import MLPClassifier"
   ]
  },
  {
   "cell_type": "code",
   "execution_count": 10,
   "metadata": {},
   "outputs": [],
   "source": [
    "def cut_audio_segment_from_audio_file(frame_size, hop_size, threshold, input_folder, output_folder):\n",
    "    segmentation = AudioProcessor(frame_size, hop_size, threshold)\n",
    "    segmentation.process_folders(input_folder, output_folder)"
   ]
  },
  {
   "cell_type": "code",
   "execution_count": 11,
   "metadata": {},
   "outputs": [],
   "source": [
    "def extract_feature(n_mfcc, input_folder, output_folder):\n",
    "    featureExtractor = FeatureExtractor(n_mfcc)\n",
    "    featureExtractor.process_folder(input_folder, output_folder)"
   ]
  },
  {
   "cell_type": "code",
   "execution_count": 12,
   "metadata": {},
   "outputs": [],
   "source": [
    "def model(featured_data):\n",
    "    models = [RandomForestClassifier]\n",
    "    \n",
    "    df_train_test = pd.read_csv(featured_data)\n",
    "    df_shuffled = df_train_test.sample(frac=1, random_state=42).reset_index(drop=True)\n",
    "\n",
    "    modelEvaluator = ModelEvaluator(models)\n",
    "    best_model, best_acc = modelEvaluator.evaluate_models(df_shuffled)\n",
    "    return best_model, best_acc"
   ]
  },
  {
   "cell_type": "code",
   "execution_count": 13,
   "metadata": {},
   "outputs": [],
   "source": [
    "def process_data(frame_size, hop_size, threshold, raw_folder, cutted_folder, n_mfcc, featured_data_path):\n",
    "    # cut_audio_segment_from_audio_file(frame_size, hop_size, threshold, raw_folder, cutted_folder)\n",
    "    extract_feature(n_mfcc, cutted_folder, featured_data_path)\n",
    "    return model(featured_data_path)\n"
   ]
  },
  {
   "cell_type": "code",
   "execution_count": 14,
   "metadata": {},
   "outputs": [
    {
     "name": "stdout",
     "output_type": "stream",
     "text": [
      "Number of NaNs before drop: 0\n",
      "Shape after cleaning: (11003, 56)\n"
     ]
    },
    {
     "data": {
      "text/plain": [
       "(sklearn.ensemble._forest.RandomForestClassifier, 0.60374337379242)"
      ]
     },
     "execution_count": 14,
     "metadata": {},
     "output_type": "execute_result"
    }
   ],
   "source": [
    "process_data(256, 128, 0.001, 'D:/data_analysis/speech_emotion_recognition/data/EnglishDataset/combined_data', 'D:/data_analysis/speech_emotion_recognition/data/EnglishDataset/cleaned_data', 40, 'D:/data_analysis/speech_emotion_recognition/notebooks/feature.csv')"
   ]
  },
  {
   "cell_type": "code",
   "execution_count": 15,
   "metadata": {},
   "outputs": [
    {
     "name": "stdout",
     "output_type": "stream",
     "text": [
      "Number of NaNs before drop: 0\n",
      "Shape after cleaning: (22006, 31)\n"
     ]
    },
    {
     "data": {
      "text/plain": [
       "(sklearn.ensemble._forest.RandomForestClassifier, 0.5966108173970509)"
      ]
     },
     "execution_count": 15,
     "metadata": {},
     "output_type": "execute_result"
    }
   ],
   "source": [
    "process_data(256, 128, 0.001, 'D:/data_analysis/speech_emotion_recognition/data/EnglishDataset/combined_data', 'D:/data_analysis/speech_emotion_recognition/data/EnglishDataset/cleaned_data', 40, 'D:/data_analysis/speech_emotion_recognition/data/EnglishDataset/feature.csv')"
   ]
  },
  {
   "cell_type": "code",
   "execution_count": 16,
   "metadata": {},
   "outputs": [
    {
     "name": "stdout",
     "output_type": "stream",
     "text": [
      "Number of NaNs before drop: 0\n",
      "Shape after cleaning: (22006, 31)\n"
     ]
    }
   ],
   "source": [
    "process_data(256, 128, 0.001, 'D:/data_analysis/speech_emotion_recognition/data/EnglishDataset/combined_data', 'D:/data_analysis/speech_emotion_recognition/data/EnglishDataset/combined_data', 40, 'D:/data_analysis/speech_emotion_recognition/data/EnglishDataset/feature.csv')"
   ]
  },
  {
   "cell_type": "code",
   "execution_count": null,
   "metadata": {},
   "outputs": [
    {
     "data": {
      "text/plain": [
       "(sklearn.ensemble._forest.RandomForestClassifier, 0.5976522995623813)"
      ]
     },
     "execution_count": 9,
     "metadata": {},
     "output_type": "execute_result"
    }
   ],
   "source": [
    "process_data(256, 128, 0.001, 'D:/data_analysis/speech_emotion_recognition/data/EnglishDataset/combined_data', 'D:/data_analysis/speech_emotion_recognition/data/EnglishDataset/cleaned_data', 20, 'D:/data_analysis/speech_emotion_recognition/data/EnglishDataset/feature.csv')"
   ]
  },
  {
   "cell_type": "code",
   "execution_count": null,
   "metadata": {},
   "outputs": [
    {
     "data": {
      "text/plain": [
       "(sklearn.ensemble._forest.RandomForestClassifier, 0.6009256873916275)"
      ]
     },
     "execution_count": 10,
     "metadata": {},
     "output_type": "execute_result"
    }
   ],
   "source": [
    "process_data(256, 128, 0.001, 'D:/data_analysis/speech_emotion_recognition/data/EnglishDataset/combined_data', 'D:/data_analysis/speech_emotion_recognition/data/EnglishDataset/combined_data', 20, 'D:/data_analysis/speech_emotion_recognition/data/EnglishDataset/feature.csv')"
   ]
  },
  {
   "cell_type": "code",
   "execution_count": null,
   "metadata": {},
   "outputs": [
    {
     "data": {
      "text/plain": [
       "(sklearn.ensemble._forest.RandomForestClassifier, 0.5965658791458428)"
      ]
     },
     "execution_count": 11,
     "metadata": {},
     "output_type": "execute_result"
    }
   ],
   "source": [
    "process_data(256, 128, 0.001, 'D:/data_analysis/speech_emotion_recognition/data/EnglishDataset/combined_data', 'D:/data_analysis/speech_emotion_recognition/data/EnglishDataset/normalized_data', 20, 'D:/data_analysis/speech_emotion_recognition/data/EnglishDataset/feature.csv')"
   ]
  }
 ],
 "metadata": {
  "kernelspec": {
   "display_name": ".venv",
   "language": "python",
   "name": "python3"
  },
  "language_info": {
   "codemirror_mode": {
    "name": "ipython",
    "version": 3
   },
   "file_extension": ".py",
   "mimetype": "text/x-python",
   "name": "python",
   "nbconvert_exporter": "python",
   "pygments_lexer": "ipython3",
   "version": "3.11.9"
  }
 },
 "nbformat": 4,
 "nbformat_minor": 2
}
