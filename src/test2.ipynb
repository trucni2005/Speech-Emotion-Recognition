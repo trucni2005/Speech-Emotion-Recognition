{
 "cells": [
  {
   "cell_type": "code",
   "execution_count": 1,
   "metadata": {},
   "outputs": [],
   "source": [
    "from audio_preprocessing.cut_audio_segment_from_audio_file import AudioProcessor\n",
    "from feature_extraction.feature_extractor import FeatureExtractor\n",
    "from feature_extraction.mfcc_images_extractor import MelSpectrogramImageExtractor\n",
    "from data_processing.english_data_processing import ModelEvaluator\n",
    "from itertools import combinations\n",
    "from sklearn.ensemble import ExtraTreesClassifier\n",
    "from sklearn.ensemble import RandomForestClassifier\n",
    "import pandas as pd"
   ]
  },
  {
   "cell_type": "code",
   "execution_count": 2,
   "metadata": {},
   "outputs": [],
   "source": [
    "def extract_mfcc_images(n_mfcc, figsize, input_folder, output_folder):\n",
    "    mfccImageExtractor = MelSpectrogramImageExtractor(n_mfcc, figsize)\n",
    "    mfccImageExtractor.extract_from_folders(input_folder, output_folder)"
   ]
  },
  {
   "cell_type": "code",
   "execution_count": 3,
   "metadata": {},
   "outputs": [],
   "source": [
    "def cut_audio_segment_from_audio_file(frame_size, hop_size, threshold, input_folder, output_folder):\n",
    "    segmentation = AudioProcessor(frame_size, hop_size, threshold)\n",
    "    segmentation.process_folders(input_folder, output_folder)"
   ]
  },
  {
   "cell_type": "code",
   "execution_count": 4,
   "metadata": {},
   "outputs": [],
   "source": [
    "def extract_feature(n_mfcc, input_folder, output_folder, selected_features):\n",
    "    featureExtractor = FeatureExtractor(n_mfcc)\n",
    "    featureExtractor.process_folder(input_folder, output_folder, selected_features)\n",
    "    # featureExtractor.process_folder(input_folder, output_folder, ['mfcc','mfcc_statistics', 'zcr', 'pitch', 'rms'])"
   ]
  },
  {
   "cell_type": "code",
   "execution_count": 5,
   "metadata": {},
   "outputs": [],
   "source": [
    "def model(featured_data):\n",
    "    models = [RandomForestClassifier, ExtraTreesClassifier]\n",
    "    \n",
    "    df_train_test = pd.read_csv(featured_data)\n",
    "    df_shuffled = df_train_test.sample(frac=1, random_state=42).reset_index(drop=True)\n",
    "\n",
    "    modelEvaluator = ModelEvaluator(models)\n",
    "    best_model, best_scaler, best_avg_acc = modelEvaluator.evaluate_models(df_shuffled)\n",
    "    return best_model, best_scaler, best_avg_acc"
   ]
  },
  {
   "cell_type": "code",
   "execution_count": 6,
   "metadata": {},
   "outputs": [],
   "source": [
    "def process_data(frame_size, hop_size, threshold, raw_folder, cutted_folder, n_mfcc_list, featured_data_path, n_mfcc_for_images, images_folder, features):\n",
    "    n = len(features)\n",
    "\n",
    "    results = []\n",
    "\n",
    "    for n_mfcc in n_mfcc_list:\n",
    "        for r in range(0, n):\n",
    "            for combo in combinations(range(n), r):\n",
    "                selected_features = [features[i] for i in range(n) if i not in combo]\n",
    "                extract_feature(n_mfcc, cutted_folder, featured_data_path, selected_features)\n",
    "                current_model, current_scaler, current_avg_acc = model(featured_data_path)\n",
    "                print(f\"Scaler: {current_scaler}, Model: {current_model}, n_mfcc: {n_mfcc}, Selected features: {selected_features}, Accuracy: {current_avg_acc}\")\n",
    "                results.append({'Scaler': current_scaler, 'Model': current_model, 'N_MFCC': n_mfcc, 'Selected Features': selected_features, 'Average Accuracy': current_avg_acc})\n",
    "\n",
    "    results_df = pd.DataFrame(results)\n",
    "    ranked_results = results_df.sort_values(by='Average Accuracy', ascending=False)\n",
    "\n",
    "    return ranked_results"
   ]
  },
  {
   "cell_type": "code",
   "execution_count": 7,
   "metadata": {},
   "outputs": [
    {
     "name": "stderr",
     "output_type": "stream",
     "text": [
      "\u001b[32m2024-05-23 03:52:37.422\u001b[0m | \u001b[1mINFO    \u001b[0m | \u001b[36mfeature_extraction.feature_extractor\u001b[0m:\u001b[36mprocess_folder\u001b[0m:\u001b[36m148\u001b[0m - \u001b[1mProcessing input folder: D:/data_analysis/speech_emotion_recognition/data/EnglishDataset/cleaned_data\u001b[0m\n",
      "\u001b[32m2024-05-23 03:55:05.322\u001b[0m | \u001b[1mINFO    \u001b[0m | \u001b[36mfeature_extraction.feature_extractor\u001b[0m:\u001b[36mprocess_folder\u001b[0m:\u001b[36m158\u001b[0m - \u001b[1mFeature extraction completed. Data saved to: D:/data_analysis/speech_emotion_recognition/notebooks/feature0.csv\u001b[0m\n",
      "\u001b[32m2024-05-23 03:55:05.487\u001b[0m | \u001b[1mINFO    \u001b[0m | \u001b[36mdata_processing.english_data_processing\u001b[0m:\u001b[36mevaluate_models\u001b[0m:\u001b[36m53\u001b[0m - \u001b[1mFinding best model....\u001b[0m\n",
      "\u001b[32m2024-05-23 03:56:34.659\u001b[0m | \u001b[1mINFO    \u001b[0m | \u001b[36mdata_processing.english_data_processing\u001b[0m:\u001b[36mevaluate_models\u001b[0m:\u001b[36m74\u001b[0m - \u001b[1mModel <class 'sklearn.ensemble._forest.RandomForestClassifier'> - scaler: None, accuracy: 0.6278300718355214\u001b[0m\n",
      "\u001b[32m2024-05-23 03:56:52.054\u001b[0m | \u001b[1mINFO    \u001b[0m | \u001b[36mdata_processing.english_data_processing\u001b[0m:\u001b[36mevaluate_models\u001b[0m:\u001b[36m74\u001b[0m - \u001b[1mModel <class 'sklearn.ensemble._forest.ExtraTreesClassifier'> - scaler: None, accuracy: 0.6244707290892577\u001b[0m\n",
      "\u001b[32m2024-05-23 03:58:19.613\u001b[0m | \u001b[1mINFO    \u001b[0m | \u001b[36mdata_processing.english_data_processing\u001b[0m:\u001b[36mevaluate_models\u001b[0m:\u001b[36m74\u001b[0m - \u001b[1mModel <class 'sklearn.ensemble._forest.RandomForestClassifier'> - scaler: StandardScaler(), accuracy: 0.6277418049706878\u001b[0m\n",
      "\u001b[32m2024-05-23 03:58:37.411\u001b[0m | \u001b[1mINFO    \u001b[0m | \u001b[36mdata_processing.english_data_processing\u001b[0m:\u001b[36mevaluate_models\u001b[0m:\u001b[36m74\u001b[0m - \u001b[1mModel <class 'sklearn.ensemble._forest.ExtraTreesClassifier'> - scaler: StandardScaler(), accuracy: 0.6199250268351086\u001b[0m\n",
      "\u001b[32m2024-05-23 04:00:05.942\u001b[0m | \u001b[1mINFO    \u001b[0m | \u001b[36mdata_processing.english_data_processing\u001b[0m:\u001b[36mevaluate_models\u001b[0m:\u001b[36m74\u001b[0m - \u001b[1mModel <class 'sklearn.ensemble._forest.RandomForestClassifier'> - scaler: MinMaxScaler(), accuracy: 0.6255584179671374\u001b[0m\n",
      "\u001b[32m2024-05-23 04:00:24.024\u001b[0m | \u001b[1mINFO    \u001b[0m | \u001b[36mdata_processing.english_data_processing\u001b[0m:\u001b[36mevaluate_models\u001b[0m:\u001b[36m74\u001b[0m - \u001b[1mModel <class 'sklearn.ensemble._forest.ExtraTreesClassifier'> - scaler: MinMaxScaler(), accuracy: 0.6215598216497399\u001b[0m\n",
      "\u001b[32m2024-05-23 04:01:55.641\u001b[0m | \u001b[1mINFO    \u001b[0m | \u001b[36mdata_processing.english_data_processing\u001b[0m:\u001b[36mevaluate_models\u001b[0m:\u001b[36m74\u001b[0m - \u001b[1mModel <class 'sklearn.ensemble._forest.RandomForestClassifier'> - scaler: MaxAbsScaler(), accuracy: 0.6306498224754357\u001b[0m\n",
      "\u001b[32m2024-05-23 04:02:13.674\u001b[0m | \u001b[1mINFO    \u001b[0m | \u001b[36mdata_processing.english_data_processing\u001b[0m:\u001b[36mevaluate_models\u001b[0m:\u001b[36m74\u001b[0m - \u001b[1mModel <class 'sklearn.ensemble._forest.ExtraTreesClassifier'> - scaler: MaxAbsScaler(), accuracy: 0.6247416398315581\u001b[0m\n",
      "\u001b[32m2024-05-23 04:03:42.654\u001b[0m | \u001b[1mINFO    \u001b[0m | \u001b[36mdata_processing.english_data_processing\u001b[0m:\u001b[36mevaluate_models\u001b[0m:\u001b[36m74\u001b[0m - \u001b[1mModel <class 'sklearn.ensemble._forest.RandomForestClassifier'> - scaler: RobustScaler(), accuracy: 0.6297378416315746\u001b[0m\n",
      "\u001b[32m2024-05-23 04:04:00.899\u001b[0m | \u001b[1mINFO    \u001b[0m | \u001b[36mdata_processing.english_data_processing\u001b[0m:\u001b[36mevaluate_models\u001b[0m:\u001b[36m74\u001b[0m - \u001b[1mModel <class 'sklearn.ensemble._forest.ExtraTreesClassifier'> - scaler: RobustScaler(), accuracy: 0.6219246965568491\u001b[0m\n",
      "\u001b[32m2024-05-23 04:05:23.790\u001b[0m | \u001b[1mINFO    \u001b[0m | \u001b[36mdata_processing.english_data_processing\u001b[0m:\u001b[36mevaluate_models\u001b[0m:\u001b[36m74\u001b[0m - \u001b[1mModel <class 'sklearn.ensemble._forest.RandomForestClassifier'> - scaler: Normalizer(), accuracy: 0.61156271158451\u001b[0m\n",
      "\u001b[32m2024-05-23 04:05:41.917\u001b[0m | \u001b[1mINFO    \u001b[0m | \u001b[36mdata_processing.english_data_processing\u001b[0m:\u001b[36mevaluate_models\u001b[0m:\u001b[36m74\u001b[0m - \u001b[1mModel <class 'sklearn.ensemble._forest.ExtraTreesClassifier'> - scaler: Normalizer(), accuracy: 0.6112900668813476\u001b[0m\n",
      "\u001b[32m2024-05-23 04:05:41.919\u001b[0m | \u001b[1mINFO    \u001b[0m | \u001b[36mdata_processing.english_data_processing\u001b[0m:\u001b[36mevaluate_models\u001b[0m:\u001b[36m82\u001b[0m - \u001b[1mBest Model: <class 'sklearn.ensemble._forest.RandomForestClassifier'>\u001b[0m\n",
      "\u001b[32m2024-05-23 04:05:41.920\u001b[0m | \u001b[1mINFO    \u001b[0m | \u001b[36mdata_processing.english_data_processing\u001b[0m:\u001b[36mevaluate_models\u001b[0m:\u001b[36m83\u001b[0m - \u001b[1mBest Scaler: MaxAbsScaler\u001b[0m\n",
      "\u001b[32m2024-05-23 04:05:41.920\u001b[0m | \u001b[1mINFO    \u001b[0m | \u001b[36mdata_processing.english_data_processing\u001b[0m:\u001b[36mevaluate_models\u001b[0m:\u001b[36m84\u001b[0m - \u001b[1mBest Average Accuracy: 0.6306498224754357\u001b[0m\n",
      "\u001b[32m2024-05-23 04:05:41.924\u001b[0m | \u001b[1mINFO    \u001b[0m | \u001b[36mfeature_extraction.feature_extractor\u001b[0m:\u001b[36mprocess_folder\u001b[0m:\u001b[36m148\u001b[0m - \u001b[1mProcessing input folder: D:/data_analysis/speech_emotion_recognition/data/EnglishDataset/cleaned_data\u001b[0m\n"
     ]
    },
    {
     "name": "stdout",
     "output_type": "stream",
     "text": [
      "Scaler: MaxAbsScaler, Model: <class 'sklearn.ensemble._forest.RandomForestClassifier'>, n_mfcc: 26, Selected features: ['mfcc', 'mfcc_statistics', 'zcr', 'pitch', 'rms'], Accuracy: 0.6306498224754357\n"
     ]
    },
    {
     "name": "stderr",
     "output_type": "stream",
     "text": [
      "\u001b[32m2024-05-23 04:07:36.411\u001b[0m | \u001b[1mINFO    \u001b[0m | \u001b[36mfeature_extraction.feature_extractor\u001b[0m:\u001b[36mprocess_folder\u001b[0m:\u001b[36m158\u001b[0m - \u001b[1mFeature extraction completed. Data saved to: D:/data_analysis/speech_emotion_recognition/notebooks/feature0.csv\u001b[0m\n",
      "\u001b[32m2024-05-23 04:07:36.542\u001b[0m | \u001b[1mINFO    \u001b[0m | \u001b[36mdata_processing.english_data_processing\u001b[0m:\u001b[36mevaluate_models\u001b[0m:\u001b[36m53\u001b[0m - \u001b[1mFinding best model....\u001b[0m\n",
      "\u001b[32m2024-05-23 04:08:57.360\u001b[0m | \u001b[1mINFO    \u001b[0m | \u001b[36mdata_processing.english_data_processing\u001b[0m:\u001b[36mevaluate_models\u001b[0m:\u001b[36m74\u001b[0m - \u001b[1mModel <class 'sklearn.ensemble._forest.RandomForestClassifier'> - scaler: None, accuracy: 0.6246504830319545\u001b[0m\n",
      "\u001b[32m2024-05-23 04:09:14.417\u001b[0m | \u001b[1mINFO    \u001b[0m | \u001b[36mdata_processing.english_data_processing\u001b[0m:\u001b[36mevaluate_models\u001b[0m:\u001b[36m74\u001b[0m - \u001b[1mModel <class 'sklearn.ensemble._forest.ExtraTreesClassifier'> - scaler: None, accuracy: 0.6226506481710842\u001b[0m\n",
      "\u001b[32m2024-05-23 04:10:36.975\u001b[0m | \u001b[1mINFO    \u001b[0m | \u001b[36mdata_processing.english_data_processing\u001b[0m:\u001b[36mevaluate_models\u001b[0m:\u001b[36m74\u001b[0m - \u001b[1mModel <class 'sklearn.ensemble._forest.RandomForestClassifier'> - scaler: StandardScaler(), accuracy: 0.625195359590455\u001b[0m\n",
      "\u001b[32m2024-05-23 04:10:53.476\u001b[0m | \u001b[1mINFO    \u001b[0m | \u001b[36mdata_processing.english_data_processing\u001b[0m:\u001b[36mevaluate_models\u001b[0m:\u001b[36m74\u001b[0m - \u001b[1mModel <class 'sklearn.ensemble._forest.ExtraTreesClassifier'> - scaler: StandardScaler(), accuracy: 0.6239237882916358\u001b[0m\n",
      "\u001b[32m2024-05-23 04:12:14.511\u001b[0m | \u001b[1mINFO    \u001b[0m | \u001b[36mdata_processing.english_data_processing\u001b[0m:\u001b[36mevaluate_models\u001b[0m:\u001b[36m74\u001b[0m - \u001b[1mModel <class 'sklearn.ensemble._forest.RandomForestClassifier'> - scaler: MinMaxScaler(), accuracy: 0.6279213937742549\u001b[0m\n",
      "\u001b[32m2024-05-23 04:12:30.949\u001b[0m | \u001b[1mINFO    \u001b[0m | \u001b[36mdata_processing.english_data_processing\u001b[0m:\u001b[36mevaluate_models\u001b[0m:\u001b[36m74\u001b[0m - \u001b[1mModel <class 'sklearn.ensemble._forest.ExtraTreesClassifier'> - scaler: MinMaxScaler(), accuracy: 0.6291931302122038\u001b[0m\n",
      "\u001b[32m2024-05-23 04:13:52.279\u001b[0m | \u001b[1mINFO    \u001b[0m | \u001b[36mdata_processing.english_data_processing\u001b[0m:\u001b[36mevaluate_models\u001b[0m:\u001b[36m74\u001b[0m - \u001b[1mModel <class 'sklearn.ensemble._forest.RandomForestClassifier'> - scaler: MaxAbsScaler(), accuracy: 0.6295577574106185\u001b[0m\n",
      "\u001b[32m2024-05-23 04:14:08.869\u001b[0m | \u001b[1mINFO    \u001b[0m | \u001b[36mdata_processing.english_data_processing\u001b[0m:\u001b[36mevaluate_models\u001b[0m:\u001b[36m74\u001b[0m - \u001b[1mModel <class 'sklearn.ensemble._forest.ExtraTreesClassifier'> - scaler: MaxAbsScaler(), accuracy: 0.6206513912971678\u001b[0m\n",
      "\u001b[32m2024-05-23 04:15:30.488\u001b[0m | \u001b[1mINFO    \u001b[0m | \u001b[36mdata_processing.english_data_processing\u001b[0m:\u001b[36mevaluate_models\u001b[0m:\u001b[36m74\u001b[0m - \u001b[1mModel <class 'sklearn.ensemble._forest.RandomForestClassifier'> - scaler: RobustScaler(), accuracy: 0.626104367929981\u001b[0m\n",
      "\u001b[32m2024-05-23 04:15:47.377\u001b[0m | \u001b[1mINFO    \u001b[0m | \u001b[36mdata_processing.english_data_processing\u001b[0m:\u001b[36mevaluate_models\u001b[0m:\u001b[36m74\u001b[0m - \u001b[1mModel <class 'sklearn.ensemble._forest.ExtraTreesClassifier'> - scaler: RobustScaler(), accuracy: 0.6250155230781933\u001b[0m\n",
      "\u001b[32m2024-05-23 04:17:03.107\u001b[0m | \u001b[1mINFO    \u001b[0m | \u001b[36mdata_processing.english_data_processing\u001b[0m:\u001b[36mevaluate_models\u001b[0m:\u001b[36m74\u001b[0m - \u001b[1mModel <class 'sklearn.ensemble._forest.RandomForestClassifier'> - scaler: Normalizer(), accuracy: 0.606654281231938\u001b[0m\n",
      "\u001b[32m2024-05-23 04:17:19.756\u001b[0m | \u001b[1mINFO    \u001b[0m | \u001b[36mdata_processing.english_data_processing\u001b[0m:\u001b[36mevaluate_models\u001b[0m:\u001b[36m74\u001b[0m - \u001b[1mModel <class 'sklearn.ensemble._forest.ExtraTreesClassifier'> - scaler: Normalizer(), accuracy: 0.604655437205846\u001b[0m\n",
      "\u001b[32m2024-05-23 04:17:19.757\u001b[0m | \u001b[1mINFO    \u001b[0m | \u001b[36mdata_processing.english_data_processing\u001b[0m:\u001b[36mevaluate_models\u001b[0m:\u001b[36m82\u001b[0m - \u001b[1mBest Model: <class 'sklearn.ensemble._forest.RandomForestClassifier'>\u001b[0m\n",
      "\u001b[32m2024-05-23 04:17:19.758\u001b[0m | \u001b[1mINFO    \u001b[0m | \u001b[36mdata_processing.english_data_processing\u001b[0m:\u001b[36mevaluate_models\u001b[0m:\u001b[36m83\u001b[0m - \u001b[1mBest Scaler: MaxAbsScaler\u001b[0m\n",
      "\u001b[32m2024-05-23 04:17:19.758\u001b[0m | \u001b[1mINFO    \u001b[0m | \u001b[36mdata_processing.english_data_processing\u001b[0m:\u001b[36mevaluate_models\u001b[0m:\u001b[36m84\u001b[0m - \u001b[1mBest Average Accuracy: 0.6295577574106185\u001b[0m\n",
      "\u001b[32m2024-05-23 04:17:19.761\u001b[0m | \u001b[1mINFO    \u001b[0m | \u001b[36mfeature_extraction.feature_extractor\u001b[0m:\u001b[36mprocess_folder\u001b[0m:\u001b[36m148\u001b[0m - \u001b[1mProcessing input folder: D:/data_analysis/speech_emotion_recognition/data/EnglishDataset/cleaned_data\u001b[0m\n"
     ]
    },
    {
     "name": "stdout",
     "output_type": "stream",
     "text": [
      "Scaler: MaxAbsScaler, Model: <class 'sklearn.ensemble._forest.RandomForestClassifier'>, n_mfcc: 26, Selected features: ['mfcc_statistics', 'zcr', 'pitch', 'rms'], Accuracy: 0.6295577574106185\n"
     ]
    },
    {
     "name": "stderr",
     "output_type": "stream",
     "text": [
      "\u001b[32m2024-05-23 04:18:36.004\u001b[0m | \u001b[1mINFO    \u001b[0m | \u001b[36mfeature_extraction.feature_extractor\u001b[0m:\u001b[36mprocess_folder\u001b[0m:\u001b[36m158\u001b[0m - \u001b[1mFeature extraction completed. Data saved to: D:/data_analysis/speech_emotion_recognition/notebooks/feature0.csv\u001b[0m\n",
      "\u001b[32m2024-05-23 04:18:36.049\u001b[0m | \u001b[1mINFO    \u001b[0m | \u001b[36mdata_processing.english_data_processing\u001b[0m:\u001b[36mevaluate_models\u001b[0m:\u001b[36m53\u001b[0m - \u001b[1mFinding best model....\u001b[0m\n",
      "\u001b[32m2024-05-23 04:19:21.026\u001b[0m | \u001b[1mINFO    \u001b[0m | \u001b[36mdata_processing.english_data_processing\u001b[0m:\u001b[36mevaluate_models\u001b[0m:\u001b[36m74\u001b[0m - \u001b[1mModel <class 'sklearn.ensemble._forest.RandomForestClassifier'> - scaler: None, accuracy: 0.6012925439682932\u001b[0m\n",
      "\u001b[32m2024-05-23 04:19:32.108\u001b[0m | \u001b[1mINFO    \u001b[0m | \u001b[36mdata_processing.english_data_processing\u001b[0m:\u001b[36mevaluate_models\u001b[0m:\u001b[36m74\u001b[0m - \u001b[1mModel <class 'sklearn.ensemble._forest.ExtraTreesClassifier'> - scaler: None, accuracy: 0.6031999009165221\u001b[0m\n",
      "\u001b[32m2024-05-23 04:20:16.886\u001b[0m | \u001b[1mINFO    \u001b[0m | \u001b[36mdata_processing.english_data_processing\u001b[0m:\u001b[36mevaluate_models\u001b[0m:\u001b[36m74\u001b[0m - \u001b[1mModel <class 'sklearn.ensemble._forest.RandomForestClassifier'> - scaler: StandardScaler(), accuracy: 0.6012019651556436\u001b[0m\n",
      "\u001b[32m2024-05-23 04:20:28.000\u001b[0m | \u001b[1mINFO    \u001b[0m | \u001b[36mdata_processing.english_data_processing\u001b[0m:\u001b[36mevaluate_models\u001b[0m:\u001b[36m74\u001b[0m - \u001b[1mModel <class 'sklearn.ensemble._forest.ExtraTreesClassifier'> - scaler: StandardScaler(), accuracy: 0.6102014697382545\u001b[0m\n",
      "\u001b[32m2024-05-23 04:21:13.048\u001b[0m | \u001b[1mINFO    \u001b[0m | \u001b[36mdata_processing.english_data_processing\u001b[0m:\u001b[36mevaluate_models\u001b[0m:\u001b[36m74\u001b[0m - \u001b[1mModel <class 'sklearn.ensemble._forest.RandomForestClassifier'> - scaler: MinMaxScaler(), accuracy: 0.6040203121129551\u001b[0m\n",
      "\u001b[32m2024-05-23 04:21:24.182\u001b[0m | \u001b[1mINFO    \u001b[0m | \u001b[36mdata_processing.english_data_processing\u001b[0m:\u001b[36mevaluate_models\u001b[0m:\u001b[36m74\u001b[0m - \u001b[1mModel <class 'sklearn.ensemble._forest.ExtraTreesClassifier'> - scaler: MinMaxScaler(), accuracy: 0.6042937825117661\u001b[0m\n",
      "\u001b[32m2024-05-23 04:22:08.919\u001b[0m | \u001b[1mINFO    \u001b[0m | \u001b[36mdata_processing.english_data_processing\u001b[0m:\u001b[36mevaluate_models\u001b[0m:\u001b[36m74\u001b[0m - \u001b[1mModel <class 'sklearn.ensemble._forest.RandomForestClassifier'> - scaler: MaxAbsScaler(), accuracy: 0.606836181983321\u001b[0m\n",
      "\u001b[32m2024-05-23 04:22:19.924\u001b[0m | \u001b[1mINFO    \u001b[0m | \u001b[36mdata_processing.english_data_processing\u001b[0m:\u001b[36mevaluate_models\u001b[0m:\u001b[36m74\u001b[0m - \u001b[1mModel <class 'sklearn.ensemble._forest.ExtraTreesClassifier'> - scaler: MaxAbsScaler(), accuracy: 0.6008399801833044\u001b[0m\n",
      "\u001b[32m2024-05-23 04:23:04.634\u001b[0m | \u001b[1mINFO    \u001b[0m | \u001b[36mdata_processing.english_data_processing\u001b[0m:\u001b[36mevaluate_models\u001b[0m:\u001b[36m74\u001b[0m - \u001b[1mModel <class 'sklearn.ensemble._forest.RandomForestClassifier'> - scaler: RobustScaler(), accuracy: 0.6049289901742217\u001b[0m\n",
      "\u001b[32m2024-05-23 04:23:15.751\u001b[0m | \u001b[1mINFO    \u001b[0m | \u001b[36mdata_processing.english_data_processing\u001b[0m:\u001b[36mevaluate_models\u001b[0m:\u001b[36m74\u001b[0m - \u001b[1mModel <class 'sklearn.ensemble._forest.ExtraTreesClassifier'> - scaler: RobustScaler(), accuracy: 0.605293287094377\u001b[0m\n",
      "\u001b[32m2024-05-23 04:23:59.119\u001b[0m | \u001b[1mINFO    \u001b[0m | \u001b[36mdata_processing.english_data_processing\u001b[0m:\u001b[36mevaluate_models\u001b[0m:\u001b[36m74\u001b[0m - \u001b[1mModel <class 'sklearn.ensemble._forest.RandomForestClassifier'> - scaler: Normalizer(), accuracy: 0.60247518784576\u001b[0m\n",
      "\u001b[32m2024-05-23 04:24:10.232\u001b[0m | \u001b[1mINFO    \u001b[0m | \u001b[36mdata_processing.english_data_processing\u001b[0m:\u001b[36mevaluate_models\u001b[0m:\u001b[36m74\u001b[0m - \u001b[1mModel <class 'sklearn.ensemble._forest.ExtraTreesClassifier'> - scaler: Normalizer(), accuracy: 0.6012935348030716\u001b[0m\n",
      "\u001b[32m2024-05-23 04:24:10.233\u001b[0m | \u001b[1mINFO    \u001b[0m | \u001b[36mdata_processing.english_data_processing\u001b[0m:\u001b[36mevaluate_models\u001b[0m:\u001b[36m82\u001b[0m - \u001b[1mBest Model: <class 'sklearn.ensemble._forest.ExtraTreesClassifier'>\u001b[0m\n",
      "\u001b[32m2024-05-23 04:24:10.233\u001b[0m | \u001b[1mINFO    \u001b[0m | \u001b[36mdata_processing.english_data_processing\u001b[0m:\u001b[36mevaluate_models\u001b[0m:\u001b[36m83\u001b[0m - \u001b[1mBest Scaler: StandardScaler\u001b[0m\n",
      "\u001b[32m2024-05-23 04:24:10.234\u001b[0m | \u001b[1mINFO    \u001b[0m | \u001b[36mdata_processing.english_data_processing\u001b[0m:\u001b[36mevaluate_models\u001b[0m:\u001b[36m84\u001b[0m - \u001b[1mBest Average Accuracy: 0.6102014697382545\u001b[0m\n",
      "\u001b[32m2024-05-23 04:24:10.236\u001b[0m | \u001b[1mINFO    \u001b[0m | \u001b[36mfeature_extraction.feature_extractor\u001b[0m:\u001b[36mprocess_folder\u001b[0m:\u001b[36m148\u001b[0m - \u001b[1mProcessing input folder: D:/data_analysis/speech_emotion_recognition/data/EnglishDataset/cleaned_data\u001b[0m\n"
     ]
    },
    {
     "name": "stdout",
     "output_type": "stream",
     "text": [
      "Scaler: StandardScaler, Model: <class 'sklearn.ensemble._forest.ExtraTreesClassifier'>, n_mfcc: 26, Selected features: ['mfcc', 'zcr', 'pitch', 'rms'], Accuracy: 0.6102014697382545\n"
     ]
    },
    {
     "name": "stderr",
     "output_type": "stream",
     "text": [
      "\u001b[32m2024-05-23 04:26:00.944\u001b[0m | \u001b[1mINFO    \u001b[0m | \u001b[36mfeature_extraction.feature_extractor\u001b[0m:\u001b[36mprocess_folder\u001b[0m:\u001b[36m158\u001b[0m - \u001b[1mFeature extraction completed. Data saved to: D:/data_analysis/speech_emotion_recognition/notebooks/feature0.csv\u001b[0m\n",
      "\u001b[32m2024-05-23 04:26:01.105\u001b[0m | \u001b[1mINFO    \u001b[0m | \u001b[36mdata_processing.english_data_processing\u001b[0m:\u001b[36mevaluate_models\u001b[0m:\u001b[36m53\u001b[0m - \u001b[1mFinding best model....\u001b[0m\n",
      "\u001b[32m2024-05-23 04:27:30.341\u001b[0m | \u001b[1mINFO    \u001b[0m | \u001b[36mdata_processing.english_data_processing\u001b[0m:\u001b[36mevaluate_models\u001b[0m:\u001b[36m74\u001b[0m - \u001b[1mModel <class 'sklearn.ensemble._forest.RandomForestClassifier'> - scaler: None, accuracy: 0.6252852778465858\u001b[0m\n",
      "\u001b[32m2024-05-23 04:27:48.561\u001b[0m | \u001b[1mINFO    \u001b[0m | \u001b[36mdata_processing.english_data_processing\u001b[0m:\u001b[36mevaluate_models\u001b[0m:\u001b[36m74\u001b[0m - \u001b[1mModel <class 'sklearn.ensemble._forest.ExtraTreesClassifier'> - scaler: None, accuracy: 0.6246508133102138\u001b[0m\n",
      "\u001b[32m2024-05-23 04:29:18.010\u001b[0m | \u001b[1mINFO    \u001b[0m | \u001b[36mdata_processing.english_data_processing\u001b[0m:\u001b[36mevaluate_models\u001b[0m:\u001b[36m74\u001b[0m - \u001b[1mModel <class 'sklearn.ensemble._forest.RandomForestClassifier'> - scaler: StandardScaler(), accuracy: 0.6245583353975726\u001b[0m\n",
      "\u001b[32m2024-05-23 04:29:35.550\u001b[0m | \u001b[1mINFO    \u001b[0m | \u001b[36mdata_processing.english_data_processing\u001b[0m:\u001b[36mevaluate_models\u001b[0m:\u001b[36m74\u001b[0m - \u001b[1mModel <class 'sklearn.ensemble._forest.ExtraTreesClassifier'> - scaler: StandardScaler(), accuracy: 0.6269231277351169\u001b[0m\n",
      "\u001b[32m2024-05-23 04:31:05.699\u001b[0m | \u001b[1mINFO    \u001b[0m | \u001b[36mdata_processing.english_data_processing\u001b[0m:\u001b[36mevaluate_models\u001b[0m:\u001b[36m74\u001b[0m - \u001b[1mModel <class 'sklearn.ensemble._forest.RandomForestClassifier'> - scaler: MinMaxScaler(), accuracy: 0.6264684997110065\u001b[0m\n",
      "\u001b[32m2024-05-23 04:31:24.004\u001b[0m | \u001b[1mINFO    \u001b[0m | \u001b[36mdata_processing.english_data_processing\u001b[0m:\u001b[36mevaluate_models\u001b[0m:\u001b[36m74\u001b[0m - \u001b[1mModel <class 'sklearn.ensemble._forest.ExtraTreesClassifier'> - scaler: MinMaxScaler(), accuracy: 0.6211956072991495\u001b[0m\n",
      "\u001b[32m2024-05-23 04:32:53.456\u001b[0m | \u001b[1mINFO    \u001b[0m | \u001b[36mdata_processing.english_data_processing\u001b[0m:\u001b[36mevaluate_models\u001b[0m:\u001b[36m74\u001b[0m - \u001b[1mModel <class 'sklearn.ensemble._forest.RandomForestClassifier'> - scaler: MaxAbsScaler(), accuracy: 0.6293765172157543\u001b[0m\n",
      "\u001b[32m2024-05-23 04:33:11.374\u001b[0m | \u001b[1mINFO    \u001b[0m | \u001b[36mdata_processing.english_data_processing\u001b[0m:\u001b[36mevaluate_models\u001b[0m:\u001b[36m74\u001b[0m - \u001b[1mModel <class 'sklearn.ensemble._forest.ExtraTreesClassifier'> - scaler: MaxAbsScaler(), accuracy: 0.6231050284865\u001b[0m\n",
      "\u001b[32m2024-05-23 04:34:40.838\u001b[0m | \u001b[1mINFO    \u001b[0m | \u001b[36mdata_processing.english_data_processing\u001b[0m:\u001b[36mevaluate_models\u001b[0m:\u001b[36m74\u001b[0m - \u001b[1mModel <class 'sklearn.ensemble._forest.RandomForestClassifier'> - scaler: RobustScaler(), accuracy: 0.6293768474940137\u001b[0m\n",
      "\u001b[32m2024-05-23 04:34:59.131\u001b[0m | \u001b[1mINFO    \u001b[0m | \u001b[36mdata_processing.english_data_processing\u001b[0m:\u001b[36mevaluate_models\u001b[0m:\u001b[36m74\u001b[0m - \u001b[1mModel <class 'sklearn.ensemble._forest.ExtraTreesClassifier'> - scaler: RobustScaler(), accuracy: 0.6234672611675337\u001b[0m\n",
      "\u001b[32m2024-05-23 04:36:22.830\u001b[0m | \u001b[1mINFO    \u001b[0m | \u001b[36mdata_processing.english_data_processing\u001b[0m:\u001b[36mevaluate_models\u001b[0m:\u001b[36m74\u001b[0m - \u001b[1mModel <class 'sklearn.ensemble._forest.RandomForestClassifier'> - scaler: Normalizer(), accuracy: 0.6080178350260095\u001b[0m\n",
      "\u001b[32m2024-05-23 04:36:40.805\u001b[0m | \u001b[1mINFO    \u001b[0m | \u001b[36mdata_processing.english_data_processing\u001b[0m:\u001b[36mevaluate_models\u001b[0m:\u001b[36m74\u001b[0m - \u001b[1mModel <class 'sklearn.ensemble._forest.ExtraTreesClassifier'> - scaler: Normalizer(), accuracy: 0.6112888283378747\u001b[0m\n",
      "\u001b[32m2024-05-23 04:36:40.805\u001b[0m | \u001b[1mINFO    \u001b[0m | \u001b[36mdata_processing.english_data_processing\u001b[0m:\u001b[36mevaluate_models\u001b[0m:\u001b[36m82\u001b[0m - \u001b[1mBest Model: <class 'sklearn.ensemble._forest.RandomForestClassifier'>\u001b[0m\n",
      "\u001b[32m2024-05-23 04:36:40.807\u001b[0m | \u001b[1mINFO    \u001b[0m | \u001b[36mdata_processing.english_data_processing\u001b[0m:\u001b[36mevaluate_models\u001b[0m:\u001b[36m83\u001b[0m - \u001b[1mBest Scaler: RobustScaler\u001b[0m\n",
      "\u001b[32m2024-05-23 04:36:40.807\u001b[0m | \u001b[1mINFO    \u001b[0m | \u001b[36mdata_processing.english_data_processing\u001b[0m:\u001b[36mevaluate_models\u001b[0m:\u001b[36m84\u001b[0m - \u001b[1mBest Average Accuracy: 0.6293768474940137\u001b[0m\n",
      "\u001b[32m2024-05-23 04:36:40.810\u001b[0m | \u001b[1mINFO    \u001b[0m | \u001b[36mfeature_extraction.feature_extractor\u001b[0m:\u001b[36mprocess_folder\u001b[0m:\u001b[36m148\u001b[0m - \u001b[1mProcessing input folder: D:/data_analysis/speech_emotion_recognition/data/EnglishDataset/cleaned_data\u001b[0m\n"
     ]
    },
    {
     "name": "stdout",
     "output_type": "stream",
     "text": [
      "Scaler: RobustScaler, Model: <class 'sklearn.ensemble._forest.RandomForestClassifier'>, n_mfcc: 26, Selected features: ['mfcc', 'mfcc_statistics', 'pitch', 'rms'], Accuracy: 0.6293768474940137\n"
     ]
    },
    {
     "name": "stderr",
     "output_type": "stream",
     "text": [
      "\u001b[32m2024-05-23 04:38:13.862\u001b[0m | \u001b[1mINFO    \u001b[0m | \u001b[36mfeature_extraction.feature_extractor\u001b[0m:\u001b[36mprocess_folder\u001b[0m:\u001b[36m158\u001b[0m - \u001b[1mFeature extraction completed. Data saved to: D:/data_analysis/speech_emotion_recognition/notebooks/feature0.csv\u001b[0m\n",
      "\u001b[32m2024-05-23 04:38:14.029\u001b[0m | \u001b[1mINFO    \u001b[0m | \u001b[36mdata_processing.english_data_processing\u001b[0m:\u001b[36mevaluate_models\u001b[0m:\u001b[36m53\u001b[0m - \u001b[1mFinding best model....\u001b[0m\n",
      "\u001b[32m2024-05-23 04:39:43.146\u001b[0m | \u001b[1mINFO    \u001b[0m | \u001b[36mdata_processing.english_data_processing\u001b[0m:\u001b[36mevaluate_models\u001b[0m:\u001b[36m74\u001b[0m - \u001b[1mModel <class 'sklearn.ensemble._forest.RandomForestClassifier'> - scaler: None, accuracy: 0.6253765172157543\u001b[0m\n",
      "\u001b[32m2024-05-23 04:40:00.803\u001b[0m | \u001b[1mINFO    \u001b[0m | \u001b[36mdata_processing.english_data_processing\u001b[0m:\u001b[36mevaluate_models\u001b[0m:\u001b[36m74\u001b[0m - \u001b[1mModel <class 'sklearn.ensemble._forest.ExtraTreesClassifier'> - scaler: None, accuracy: 0.6191063495995375\u001b[0m\n",
      "\u001b[32m2024-05-23 04:41:29.918\u001b[0m | \u001b[1mINFO    \u001b[0m | \u001b[36mdata_processing.english_data_processing\u001b[0m:\u001b[36mevaluate_models\u001b[0m:\u001b[36m74\u001b[0m - \u001b[1mModel <class 'sklearn.ensemble._forest.RandomForestClassifier'> - scaler: StandardScaler(), accuracy: 0.6255586656758318\u001b[0m\n",
      "\u001b[32m2024-05-23 04:41:47.864\u001b[0m | \u001b[1mINFO    \u001b[0m | \u001b[36mdata_processing.english_data_processing\u001b[0m:\u001b[36mevaluate_models\u001b[0m:\u001b[36m74\u001b[0m - \u001b[1mModel <class 'sklearn.ensemble._forest.ExtraTreesClassifier'> - scaler: StandardScaler(), accuracy: 0.6186513087276031\u001b[0m\n",
      "\u001b[32m2024-05-23 04:43:18.934\u001b[0m | \u001b[1mINFO    \u001b[0m | \u001b[36mdata_processing.english_data_processing\u001b[0m:\u001b[36mevaluate_models\u001b[0m:\u001b[36m74\u001b[0m - \u001b[1mModel <class 'sklearn.ensemble._forest.RandomForestClassifier'> - scaler: MinMaxScaler(), accuracy: 0.6263775906200975\u001b[0m\n",
      "\u001b[32m2024-05-23 04:43:36.619\u001b[0m | \u001b[1mINFO    \u001b[0m | \u001b[36mdata_processing.english_data_processing\u001b[0m:\u001b[36mevaluate_models\u001b[0m:\u001b[36m74\u001b[0m - \u001b[1mModel <class 'sklearn.ensemble._forest.ExtraTreesClassifier'> - scaler: MinMaxScaler(), accuracy: 0.622651391297168\u001b[0m\n",
      "\u001b[32m2024-05-23 04:45:05.756\u001b[0m | \u001b[1mINFO    \u001b[0m | \u001b[36mdata_processing.english_data_processing\u001b[0m:\u001b[36mevaluate_models\u001b[0m:\u001b[36m74\u001b[0m - \u001b[1mModel <class 'sklearn.ensemble._forest.RandomForestClassifier'> - scaler: MaxAbsScaler(), accuracy: 0.6223792420113947\u001b[0m\n",
      "\u001b[32m2024-05-23 04:45:23.457\u001b[0m | \u001b[1mINFO    \u001b[0m | \u001b[36mdata_processing.english_data_processing\u001b[0m:\u001b[36mevaluate_models\u001b[0m:\u001b[36m74\u001b[0m - \u001b[1mModel <class 'sklearn.ensemble._forest.ExtraTreesClassifier'> - scaler: MaxAbsScaler(), accuracy: 0.6215630418627693\u001b[0m\n",
      "\u001b[32m2024-05-23 04:46:52.569\u001b[0m | \u001b[1mINFO    \u001b[0m | \u001b[36mdata_processing.english_data_processing\u001b[0m:\u001b[36mevaluate_models\u001b[0m:\u001b[36m74\u001b[0m - \u001b[1mModel <class 'sklearn.ensemble._forest.RandomForestClassifier'> - scaler: RobustScaler(), accuracy: 0.6217416398315581\u001b[0m\n",
      "\u001b[32m2024-05-23 04:47:10.609\u001b[0m | \u001b[1mINFO    \u001b[0m | \u001b[36mdata_processing.english_data_processing\u001b[0m:\u001b[36mevaluate_models\u001b[0m:\u001b[36m74\u001b[0m - \u001b[1mModel <class 'sklearn.ensemble._forest.ExtraTreesClassifier'> - scaler: RobustScaler(), accuracy: 0.6175608124845182\u001b[0m\n",
      "\u001b[32m2024-05-23 04:48:33.929\u001b[0m | \u001b[1mINFO    \u001b[0m | \u001b[36mdata_processing.english_data_processing\u001b[0m:\u001b[36mevaluate_models\u001b[0m:\u001b[36m74\u001b[0m - \u001b[1mModel <class 'sklearn.ensemble._forest.RandomForestClassifier'> - scaler: Normalizer(), accuracy: 0.602837915944183\u001b[0m\n",
      "\u001b[32m2024-05-23 04:48:51.743\u001b[0m | \u001b[1mINFO    \u001b[0m | \u001b[36mdata_processing.english_data_processing\u001b[0m:\u001b[36mevaluate_models\u001b[0m:\u001b[36m74\u001b[0m - \u001b[1mModel <class 'sklearn.ensemble._forest.ExtraTreesClassifier'> - scaler: Normalizer(), accuracy: 0.6064737841631574\u001b[0m\n",
      "\u001b[32m2024-05-23 04:48:51.744\u001b[0m | \u001b[1mINFO    \u001b[0m | \u001b[36mdata_processing.english_data_processing\u001b[0m:\u001b[36mevaluate_models\u001b[0m:\u001b[36m82\u001b[0m - \u001b[1mBest Model: <class 'sklearn.ensemble._forest.RandomForestClassifier'>\u001b[0m\n",
      "\u001b[32m2024-05-23 04:48:51.745\u001b[0m | \u001b[1mINFO    \u001b[0m | \u001b[36mdata_processing.english_data_processing\u001b[0m:\u001b[36mevaluate_models\u001b[0m:\u001b[36m83\u001b[0m - \u001b[1mBest Scaler: MinMaxScaler\u001b[0m\n",
      "\u001b[32m2024-05-23 04:48:51.745\u001b[0m | \u001b[1mINFO    \u001b[0m | \u001b[36mdata_processing.english_data_processing\u001b[0m:\u001b[36mevaluate_models\u001b[0m:\u001b[36m84\u001b[0m - \u001b[1mBest Average Accuracy: 0.6263775906200975\u001b[0m\n",
      "\u001b[32m2024-05-23 04:48:51.748\u001b[0m | \u001b[1mINFO    \u001b[0m | \u001b[36mfeature_extraction.feature_extractor\u001b[0m:\u001b[36mprocess_folder\u001b[0m:\u001b[36m148\u001b[0m - \u001b[1mProcessing input folder: D:/data_analysis/speech_emotion_recognition/data/EnglishDataset/cleaned_data\u001b[0m\n"
     ]
    },
    {
     "name": "stdout",
     "output_type": "stream",
     "text": [
      "Scaler: MinMaxScaler, Model: <class 'sklearn.ensemble._forest.RandomForestClassifier'>, n_mfcc: 26, Selected features: ['mfcc', 'mfcc_statistics', 'zcr', 'rms'], Accuracy: 0.6263775906200975\n"
     ]
    },
    {
     "name": "stderr",
     "output_type": "stream",
     "text": [
      "\u001b[32m2024-05-23 04:50:39.960\u001b[0m | \u001b[1mINFO    \u001b[0m | \u001b[36mfeature_extraction.feature_extractor\u001b[0m:\u001b[36mprocess_folder\u001b[0m:\u001b[36m158\u001b[0m - \u001b[1mFeature extraction completed. Data saved to: D:/data_analysis/speech_emotion_recognition/notebooks/feature0.csv\u001b[0m\n",
      "\u001b[32m2024-05-23 04:50:40.122\u001b[0m | \u001b[1mINFO    \u001b[0m | \u001b[36mdata_processing.english_data_processing\u001b[0m:\u001b[36mevaluate_models\u001b[0m:\u001b[36m53\u001b[0m - \u001b[1mFinding best model....\u001b[0m\n",
      "\u001b[32m2024-05-23 04:52:08.363\u001b[0m | \u001b[1mINFO    \u001b[0m | \u001b[36mdata_processing.english_data_processing\u001b[0m:\u001b[36mevaluate_models\u001b[0m:\u001b[36m74\u001b[0m - \u001b[1mModel <class 'sklearn.ensemble._forest.RandomForestClassifier'> - scaler: None, accuracy: 0.6260126331434233\u001b[0m\n",
      "\u001b[32m2024-05-23 04:52:25.833\u001b[0m | \u001b[1mINFO    \u001b[0m | \u001b[36mdata_processing.english_data_processing\u001b[0m:\u001b[36mevaluate_models\u001b[0m:\u001b[36m74\u001b[0m - \u001b[1mModel <class 'sklearn.ensemble._forest.ExtraTreesClassifier'> - scaler: None, accuracy: 0.6226503178928247\u001b[0m\n",
      "\u001b[32m2024-05-23 04:53:55.098\u001b[0m | \u001b[1mINFO    \u001b[0m | \u001b[36mdata_processing.english_data_processing\u001b[0m:\u001b[36mevaluate_models\u001b[0m:\u001b[36m74\u001b[0m - \u001b[1mModel <class 'sklearn.ensemble._forest.RandomForestClassifier'> - scaler: StandardScaler(), accuracy: 0.623921889191644\u001b[0m\n",
      "\u001b[32m2024-05-23 04:54:13.598\u001b[0m | \u001b[1mINFO    \u001b[0m | \u001b[36mdata_processing.english_data_processing\u001b[0m:\u001b[36mevaluate_models\u001b[0m:\u001b[36m74\u001b[0m - \u001b[1mModel <class 'sklearn.ensemble._forest.ExtraTreesClassifier'> - scaler: StandardScaler(), accuracy: 0.6217427132359014\u001b[0m\n",
      "\u001b[32m2024-05-23 04:55:42.655\u001b[0m | \u001b[1mINFO    \u001b[0m | \u001b[36mdata_processing.english_data_processing\u001b[0m:\u001b[36mevaluate_models\u001b[0m:\u001b[36m74\u001b[0m - \u001b[1mModel <class 'sklearn.ensemble._forest.RandomForestClassifier'> - scaler: MinMaxScaler(), accuracy: 0.6197413921228636\u001b[0m\n",
      "\u001b[32m2024-05-23 04:56:00.616\u001b[0m | \u001b[1mINFO    \u001b[0m | \u001b[36mdata_processing.english_data_processing\u001b[0m:\u001b[36mevaluate_models\u001b[0m:\u001b[36m74\u001b[0m - \u001b[1mModel <class 'sklearn.ensemble._forest.ExtraTreesClassifier'> - scaler: MinMaxScaler(), accuracy: 0.6223772603418379\u001b[0m\n",
      "\u001b[32m2024-05-23 04:57:29.581\u001b[0m | \u001b[1mINFO    \u001b[0m | \u001b[36mdata_processing.english_data_processing\u001b[0m:\u001b[36mevaluate_models\u001b[0m:\u001b[36m74\u001b[0m - \u001b[1mModel <class 'sklearn.ensemble._forest.RandomForestClassifier'> - scaler: MaxAbsScaler(), accuracy: 0.624650730740649\u001b[0m\n",
      "\u001b[32m2024-05-23 04:57:47.548\u001b[0m | \u001b[1mINFO    \u001b[0m | \u001b[36mdata_processing.english_data_processing\u001b[0m:\u001b[36mevaluate_models\u001b[0m:\u001b[36m74\u001b[0m - \u001b[1mModel <class 'sklearn.ensemble._forest.ExtraTreesClassifier'> - scaler: MaxAbsScaler(), accuracy: 0.6239237057220708\u001b[0m\n",
      "\u001b[32m2024-05-23 04:59:16.265\u001b[0m | \u001b[1mINFO    \u001b[0m | \u001b[36mdata_processing.english_data_processing\u001b[0m:\u001b[36mevaluate_models\u001b[0m:\u001b[36m74\u001b[0m - \u001b[1mModel <class 'sklearn.ensemble._forest.RandomForestClassifier'> - scaler: RobustScaler(), accuracy: 0.6207426306663364\u001b[0m\n",
      "\u001b[32m2024-05-23 04:59:34.627\u001b[0m | \u001b[1mINFO    \u001b[0m | \u001b[36mdata_processing.english_data_processing\u001b[0m:\u001b[36mevaluate_models\u001b[0m:\u001b[36m74\u001b[0m - \u001b[1mModel <class 'sklearn.ensemble._forest.ExtraTreesClassifier'> - scaler: RobustScaler(), accuracy: 0.6210149450912393\u001b[0m\n",
      "\u001b[32m2024-05-23 05:00:58.452\u001b[0m | \u001b[1mINFO    \u001b[0m | \u001b[36mdata_processing.english_data_processing\u001b[0m:\u001b[36mevaluate_models\u001b[0m:\u001b[36m74\u001b[0m - \u001b[1mModel <class 'sklearn.ensemble._forest.RandomForestClassifier'> - scaler: Normalizer(), accuracy: 0.6005632070018991\u001b[0m\n",
      "\u001b[32m2024-05-23 05:01:16.670\u001b[0m | \u001b[1mINFO    \u001b[0m | \u001b[36mdata_processing.english_data_processing\u001b[0m:\u001b[36mevaluate_models\u001b[0m:\u001b[36m74\u001b[0m - \u001b[1mModel <class 'sklearn.ensemble._forest.ExtraTreesClassifier'> - scaler: Normalizer(), accuracy: 0.6052004789034762\u001b[0m\n",
      "\u001b[32m2024-05-23 05:01:16.670\u001b[0m | \u001b[1mINFO    \u001b[0m | \u001b[36mdata_processing.english_data_processing\u001b[0m:\u001b[36mevaluate_models\u001b[0m:\u001b[36m82\u001b[0m - \u001b[1mBest Model: <class 'sklearn.ensemble._forest.RandomForestClassifier'>\u001b[0m\n",
      "\u001b[32m2024-05-23 05:01:16.671\u001b[0m | \u001b[1mINFO    \u001b[0m | \u001b[36mdata_processing.english_data_processing\u001b[0m:\u001b[36mevaluate_models\u001b[0m:\u001b[36m83\u001b[0m - \u001b[1mBest Scaler: None\u001b[0m\n",
      "\u001b[32m2024-05-23 05:01:16.671\u001b[0m | \u001b[1mINFO    \u001b[0m | \u001b[36mdata_processing.english_data_processing\u001b[0m:\u001b[36mevaluate_models\u001b[0m:\u001b[36m84\u001b[0m - \u001b[1mBest Average Accuracy: 0.6260126331434233\u001b[0m\n",
      "\u001b[32m2024-05-23 05:01:16.675\u001b[0m | \u001b[1mINFO    \u001b[0m | \u001b[36mfeature_extraction.feature_extractor\u001b[0m:\u001b[36mprocess_folder\u001b[0m:\u001b[36m148\u001b[0m - \u001b[1mProcessing input folder: D:/data_analysis/speech_emotion_recognition/data/EnglishDataset/cleaned_data\u001b[0m\n"
     ]
    },
    {
     "name": "stdout",
     "output_type": "stream",
     "text": [
      "Scaler: None, Model: <class 'sklearn.ensemble._forest.RandomForestClassifier'>, n_mfcc: 26, Selected features: ['mfcc', 'mfcc_statistics', 'zcr', 'pitch'], Accuracy: 0.6260126331434233\n"
     ]
    },
    {
     "name": "stderr",
     "output_type": "stream",
     "text": [
      "\u001b[32m2024-05-23 05:02:00.741\u001b[0m | \u001b[1mINFO    \u001b[0m | \u001b[36mfeature_extraction.feature_extractor\u001b[0m:\u001b[36mprocess_folder\u001b[0m:\u001b[36m158\u001b[0m - \u001b[1mFeature extraction completed. Data saved to: D:/data_analysis/speech_emotion_recognition/notebooks/feature0.csv\u001b[0m\n",
      "\u001b[32m2024-05-23 05:02:00.762\u001b[0m | \u001b[1mINFO    \u001b[0m | \u001b[36mdata_processing.english_data_processing\u001b[0m:\u001b[36mevaluate_models\u001b[0m:\u001b[36m53\u001b[0m - \u001b[1mFinding best model....\u001b[0m\n",
      "\u001b[32m2024-05-23 05:02:22.686\u001b[0m | \u001b[1mINFO    \u001b[0m | \u001b[36mdata_processing.english_data_processing\u001b[0m:\u001b[36mevaluate_models\u001b[0m:\u001b[36m74\u001b[0m - \u001b[1mModel <class 'sklearn.ensemble._forest.RandomForestClassifier'> - scaler: None, accuracy: 0.5224060771199737\u001b[0m\n",
      "\u001b[32m2024-05-23 05:02:30.852\u001b[0m | \u001b[1mINFO    \u001b[0m | \u001b[36mdata_processing.english_data_processing\u001b[0m:\u001b[36mevaluate_models\u001b[0m:\u001b[36m74\u001b[0m - \u001b[1mModel <class 'sklearn.ensemble._forest.ExtraTreesClassifier'> - scaler: None, accuracy: 0.5223126909421187\u001b[0m\n",
      "\u001b[32m2024-05-23 05:02:53.006\u001b[0m | \u001b[1mINFO    \u001b[0m | \u001b[36mdata_processing.english_data_processing\u001b[0m:\u001b[36mevaluate_models\u001b[0m:\u001b[36m74\u001b[0m - \u001b[1mModel <class 'sklearn.ensemble._forest.RandomForestClassifier'> - scaler: StandardScaler(), accuracy: 0.5239507885393444\u001b[0m\n",
      "\u001b[32m2024-05-23 05:03:01.199\u001b[0m | \u001b[1mINFO    \u001b[0m | \u001b[36mdata_processing.english_data_processing\u001b[0m:\u001b[36mevaluate_models\u001b[0m:\u001b[36m74\u001b[0m - \u001b[1mModel <class 'sklearn.ensemble._forest.ExtraTreesClassifier'> - scaler: StandardScaler(), accuracy: 0.5245866567583188\u001b[0m\n",
      "\u001b[32m2024-05-23 05:03:23.242\u001b[0m | \u001b[1mINFO    \u001b[0m | \u001b[36mdata_processing.english_data_processing\u001b[0m:\u001b[36mevaluate_models\u001b[0m:\u001b[36m74\u001b[0m - \u001b[1mModel <class 'sklearn.ensemble._forest.RandomForestClassifier'> - scaler: MinMaxScaler(), accuracy: 0.5208603748658245\u001b[0m\n",
      "\u001b[32m2024-05-23 05:03:31.397\u001b[0m | \u001b[1mINFO    \u001b[0m | \u001b[36mdata_processing.english_data_processing\u001b[0m:\u001b[36mevaluate_models\u001b[0m:\u001b[36m74\u001b[0m - \u001b[1mModel <class 'sklearn.ensemble._forest.ExtraTreesClassifier'> - scaler: MinMaxScaler(), accuracy: 0.5224045082982414\u001b[0m\n",
      "\u001b[32m2024-05-23 05:03:53.402\u001b[0m | \u001b[1mINFO    \u001b[0m | \u001b[36mdata_processing.english_data_processing\u001b[0m:\u001b[36mevaluate_models\u001b[0m:\u001b[36m74\u001b[0m - \u001b[1mModel <class 'sklearn.ensemble._forest.RandomForestClassifier'> - scaler: MaxAbsScaler(), accuracy: 0.520041449921559\u001b[0m\n",
      "\u001b[32m2024-05-23 05:04:01.519\u001b[0m | \u001b[1mINFO    \u001b[0m | \u001b[36mdata_processing.english_data_processing\u001b[0m:\u001b[36mevaluate_models\u001b[0m:\u001b[36m74\u001b[0m - \u001b[1mModel <class 'sklearn.ensemble._forest.ExtraTreesClassifier'> - scaler: MaxAbsScaler(), accuracy: 0.5264942614152422\u001b[0m\n",
      "\u001b[32m2024-05-23 05:04:23.614\u001b[0m | \u001b[1mINFO    \u001b[0m | \u001b[36mdata_processing.english_data_processing\u001b[0m:\u001b[36mevaluate_models\u001b[0m:\u001b[36m74\u001b[0m - \u001b[1mModel <class 'sklearn.ensemble._forest.RandomForestClassifier'> - scaler: RobustScaler(), accuracy: 0.5254054991330196\u001b[0m\n",
      "\u001b[32m2024-05-23 05:04:31.806\u001b[0m | \u001b[1mINFO    \u001b[0m | \u001b[36mdata_processing.english_data_processing\u001b[0m:\u001b[36mevaluate_models\u001b[0m:\u001b[36m74\u001b[0m - \u001b[1mModel <class 'sklearn.ensemble._forest.ExtraTreesClassifier'> - scaler: RobustScaler(), accuracy: 0.5220405416563454\u001b[0m\n",
      "\u001b[32m2024-05-23 05:04:54.680\u001b[0m | \u001b[1mINFO    \u001b[0m | \u001b[36mdata_processing.english_data_processing\u001b[0m:\u001b[36mevaluate_models\u001b[0m:\u001b[36m74\u001b[0m - \u001b[1mModel <class 'sklearn.ensemble._forest.RandomForestClassifier'> - scaler: Normalizer(), accuracy: 0.49168466683180584\u001b[0m\n",
      "\u001b[32m2024-05-23 05:05:03.064\u001b[0m | \u001b[1mINFO    \u001b[0m | \u001b[36mdata_processing.english_data_processing\u001b[0m:\u001b[36mevaluate_models\u001b[0m:\u001b[36m74\u001b[0m - \u001b[1mModel <class 'sklearn.ensemble._forest.ExtraTreesClassifier'> - scaler: Normalizer(), accuracy: 0.48641433407645945\u001b[0m\n",
      "\u001b[32m2024-05-23 05:05:03.065\u001b[0m | \u001b[1mINFO    \u001b[0m | \u001b[36mdata_processing.english_data_processing\u001b[0m:\u001b[36mevaluate_models\u001b[0m:\u001b[36m82\u001b[0m - \u001b[1mBest Model: <class 'sklearn.ensemble._forest.ExtraTreesClassifier'>\u001b[0m\n",
      "\u001b[32m2024-05-23 05:05:03.066\u001b[0m | \u001b[1mINFO    \u001b[0m | \u001b[36mdata_processing.english_data_processing\u001b[0m:\u001b[36mevaluate_models\u001b[0m:\u001b[36m83\u001b[0m - \u001b[1mBest Scaler: MaxAbsScaler\u001b[0m\n",
      "\u001b[32m2024-05-23 05:05:03.067\u001b[0m | \u001b[1mINFO    \u001b[0m | \u001b[36mdata_processing.english_data_processing\u001b[0m:\u001b[36mevaluate_models\u001b[0m:\u001b[36m84\u001b[0m - \u001b[1mBest Average Accuracy: 0.5264942614152422\u001b[0m\n",
      "\u001b[32m2024-05-23 05:05:03.068\u001b[0m | \u001b[1mINFO    \u001b[0m | \u001b[36mfeature_extraction.feature_extractor\u001b[0m:\u001b[36mprocess_folder\u001b[0m:\u001b[36m148\u001b[0m - \u001b[1mProcessing input folder: D:/data_analysis/speech_emotion_recognition/data/EnglishDataset/cleaned_data\u001b[0m\n"
     ]
    },
    {
     "name": "stdout",
     "output_type": "stream",
     "text": [
      "Scaler: MaxAbsScaler, Model: <class 'sklearn.ensemble._forest.ExtraTreesClassifier'>, n_mfcc: 26, Selected features: ['zcr', 'pitch', 'rms'], Accuracy: 0.5264942614152422\n"
     ]
    },
    {
     "name": "stderr",
     "output_type": "stream",
     "text": [
      "\u001b[32m2024-05-23 05:06:20.025\u001b[0m | \u001b[1mINFO    \u001b[0m | \u001b[36mfeature_extraction.feature_extractor\u001b[0m:\u001b[36mprocess_folder\u001b[0m:\u001b[36m158\u001b[0m - \u001b[1mFeature extraction completed. Data saved to: D:/data_analysis/speech_emotion_recognition/notebooks/feature0.csv\u001b[0m\n",
      "\u001b[32m2024-05-23 05:06:20.163\u001b[0m | \u001b[1mINFO    \u001b[0m | \u001b[36mdata_processing.english_data_processing\u001b[0m:\u001b[36mevaluate_models\u001b[0m:\u001b[36m53\u001b[0m - \u001b[1mFinding best model....\u001b[0m\n",
      "\u001b[32m2024-05-23 05:07:42.414\u001b[0m | \u001b[1mINFO    \u001b[0m | \u001b[36mdata_processing.english_data_processing\u001b[0m:\u001b[36mevaluate_models\u001b[0m:\u001b[36m74\u001b[0m - \u001b[1mModel <class 'sklearn.ensemble._forest.RandomForestClassifier'> - scaler: None, accuracy: 0.6200142845347205\u001b[0m\n",
      "\u001b[32m2024-05-23 05:07:59.306\u001b[0m | \u001b[1mINFO    \u001b[0m | \u001b[36mdata_processing.english_data_processing\u001b[0m:\u001b[36mevaluate_models\u001b[0m:\u001b[36m74\u001b[0m - \u001b[1mModel <class 'sklearn.ensemble._forest.ExtraTreesClassifier'> - scaler: None, accuracy: 0.6213775906200975\u001b[0m\n",
      "\u001b[32m2024-05-23 05:09:21.439\u001b[0m | \u001b[1mINFO    \u001b[0m | \u001b[36mdata_processing.english_data_processing\u001b[0m:\u001b[36mevaluate_models\u001b[0m:\u001b[36m74\u001b[0m - \u001b[1mModel <class 'sklearn.ensemble._forest.RandomForestClassifier'> - scaler: StandardScaler(), accuracy: 0.6250144496738502\u001b[0m\n",
      "\u001b[32m2024-05-23 05:09:37.954\u001b[0m | \u001b[1mINFO    \u001b[0m | \u001b[36mdata_processing.english_data_processing\u001b[0m:\u001b[36mevaluate_models\u001b[0m:\u001b[36m74\u001b[0m - \u001b[1mModel <class 'sklearn.ensemble._forest.ExtraTreesClassifier'> - scaler: StandardScaler(), accuracy: 0.6221977541078358\u001b[0m\n",
      "\u001b[32m2024-05-23 05:10:59.313\u001b[0m | \u001b[1mINFO    \u001b[0m | \u001b[36mdata_processing.english_data_processing\u001b[0m:\u001b[36mevaluate_models\u001b[0m:\u001b[36m74\u001b[0m - \u001b[1mModel <class 'sklearn.ensemble._forest.RandomForestClassifier'> - scaler: MinMaxScaler(), accuracy: 0.6269230451655521\u001b[0m\n",
      "\u001b[32m2024-05-23 05:11:15.710\u001b[0m | \u001b[1mINFO    \u001b[0m | \u001b[36mdata_processing.english_data_processing\u001b[0m:\u001b[36mevaluate_models\u001b[0m:\u001b[36m74\u001b[0m - \u001b[1mModel <class 'sklearn.ensemble._forest.ExtraTreesClassifier'> - scaler: MinMaxScaler(), accuracy: 0.6220149450912393\u001b[0m\n",
      "\u001b[32m2024-05-23 05:12:38.378\u001b[0m | \u001b[1mINFO    \u001b[0m | \u001b[36mdata_processing.english_data_processing\u001b[0m:\u001b[36mevaluate_models\u001b[0m:\u001b[36m74\u001b[0m - \u001b[1mModel <class 'sklearn.ensemble._forest.RandomForestClassifier'> - scaler: MaxAbsScaler(), accuracy: 0.626194203616547\u001b[0m\n",
      "\u001b[32m2024-05-23 05:12:55.464\u001b[0m | \u001b[1mINFO    \u001b[0m | \u001b[36mdata_processing.english_data_processing\u001b[0m:\u001b[36mevaluate_models\u001b[0m:\u001b[36m74\u001b[0m - \u001b[1mModel <class 'sklearn.ensemble._forest.ExtraTreesClassifier'> - scaler: MaxAbsScaler(), accuracy: 0.6223780860374866\u001b[0m\n",
      "\u001b[32m2024-05-23 05:14:18.388\u001b[0m | \u001b[1mINFO    \u001b[0m | \u001b[36mdata_processing.english_data_processing\u001b[0m:\u001b[36mevaluate_models\u001b[0m:\u001b[36m74\u001b[0m - \u001b[1mModel <class 'sklearn.ensemble._forest.RandomForestClassifier'> - scaler: RobustScaler(), accuracy: 0.626649657336306\u001b[0m\n",
      "\u001b[32m2024-05-23 05:14:35.356\u001b[0m | \u001b[1mINFO    \u001b[0m | \u001b[36mdata_processing.english_data_processing\u001b[0m:\u001b[36mevaluate_models\u001b[0m:\u001b[36m74\u001b[0m - \u001b[1mModel <class 'sklearn.ensemble._forest.ExtraTreesClassifier'> - scaler: RobustScaler(), accuracy: 0.6224669308892742\u001b[0m\n",
      "\u001b[32m2024-05-23 05:15:53.328\u001b[0m | \u001b[1mINFO    \u001b[0m | \u001b[36mdata_processing.english_data_processing\u001b[0m:\u001b[36mevaluate_models\u001b[0m:\u001b[36m74\u001b[0m - \u001b[1mModel <class 'sklearn.ensemble._forest.RandomForestClassifier'> - scaler: Normalizer(), accuracy: 0.6068354388572372\u001b[0m\n",
      "\u001b[32m2024-05-23 05:16:12.203\u001b[0m | \u001b[1mINFO    \u001b[0m | \u001b[36mdata_processing.english_data_processing\u001b[0m:\u001b[36mevaluate_models\u001b[0m:\u001b[36m74\u001b[0m - \u001b[1mModel <class 'sklearn.ensemble._forest.ExtraTreesClassifier'> - scaler: Normalizer(), accuracy: 0.6090172570390554\u001b[0m\n",
      "\u001b[32m2024-05-23 05:16:12.204\u001b[0m | \u001b[1mINFO    \u001b[0m | \u001b[36mdata_processing.english_data_processing\u001b[0m:\u001b[36mevaluate_models\u001b[0m:\u001b[36m82\u001b[0m - \u001b[1mBest Model: <class 'sklearn.ensemble._forest.RandomForestClassifier'>\u001b[0m\n",
      "\u001b[32m2024-05-23 05:16:12.205\u001b[0m | \u001b[1mINFO    \u001b[0m | \u001b[36mdata_processing.english_data_processing\u001b[0m:\u001b[36mevaluate_models\u001b[0m:\u001b[36m83\u001b[0m - \u001b[1mBest Scaler: MinMaxScaler\u001b[0m\n",
      "\u001b[32m2024-05-23 05:16:12.205\u001b[0m | \u001b[1mINFO    \u001b[0m | \u001b[36mdata_processing.english_data_processing\u001b[0m:\u001b[36mevaluate_models\u001b[0m:\u001b[36m84\u001b[0m - \u001b[1mBest Average Accuracy: 0.6269230451655521\u001b[0m\n",
      "\u001b[32m2024-05-23 05:16:12.209\u001b[0m | \u001b[1mINFO    \u001b[0m | \u001b[36mfeature_extraction.feature_extractor\u001b[0m:\u001b[36mprocess_folder\u001b[0m:\u001b[36m148\u001b[0m - \u001b[1mProcessing input folder: D:/data_analysis/speech_emotion_recognition/data/EnglishDataset/cleaned_data\u001b[0m\n"
     ]
    },
    {
     "name": "stdout",
     "output_type": "stream",
     "text": [
      "Scaler: MinMaxScaler, Model: <class 'sklearn.ensemble._forest.RandomForestClassifier'>, n_mfcc: 26, Selected features: ['mfcc_statistics', 'pitch', 'rms'], Accuracy: 0.6269230451655521\n"
     ]
    },
    {
     "name": "stderr",
     "output_type": "stream",
     "text": [
      "\u001b[32m2024-05-23 05:17:45.903\u001b[0m | \u001b[1mINFO    \u001b[0m | \u001b[36mfeature_extraction.feature_extractor\u001b[0m:\u001b[36mprocess_folder\u001b[0m:\u001b[36m158\u001b[0m - \u001b[1mFeature extraction completed. Data saved to: D:/data_analysis/speech_emotion_recognition/notebooks/feature0.csv\u001b[0m\n",
      "\u001b[32m2024-05-23 05:17:46.068\u001b[0m | \u001b[1mINFO    \u001b[0m | \u001b[36mdata_processing.english_data_processing\u001b[0m:\u001b[36mevaluate_models\u001b[0m:\u001b[36m53\u001b[0m - \u001b[1mFinding best model....\u001b[0m\n",
      "\u001b[32m2024-05-23 05:19:13.778\u001b[0m | \u001b[1mINFO    \u001b[0m | \u001b[36mdata_processing.english_data_processing\u001b[0m:\u001b[36mevaluate_models\u001b[0m:\u001b[36m74\u001b[0m - \u001b[1mModel <class 'sklearn.ensemble._forest.RandomForestClassifier'> - scaler: None, accuracy: 0.6196513912971678\u001b[0m\n",
      "\u001b[32m2024-05-23 05:19:30.290\u001b[0m | \u001b[1mINFO    \u001b[0m | \u001b[36mdata_processing.english_data_processing\u001b[0m:\u001b[36mevaluate_models\u001b[0m:\u001b[36m74\u001b[0m - \u001b[1mModel <class 'sklearn.ensemble._forest.ExtraTreesClassifier'> - scaler: None, accuracy: 0.623558583106267\u001b[0m\n",
      "\u001b[32m2024-05-23 05:20:52.387\u001b[0m | \u001b[1mINFO    \u001b[0m | \u001b[36mdata_processing.english_data_processing\u001b[0m:\u001b[36mevaluate_models\u001b[0m:\u001b[36m74\u001b[0m - \u001b[1mModel <class 'sklearn.ensemble._forest.RandomForestClassifier'> - scaler: StandardScaler(), accuracy: 0.6231967632730575\u001b[0m\n",
      "\u001b[32m2024-05-23 05:21:09.227\u001b[0m | \u001b[1mINFO    \u001b[0m | \u001b[36mdata_processing.english_data_processing\u001b[0m:\u001b[36mevaluate_models\u001b[0m:\u001b[36m74\u001b[0m - \u001b[1mModel <class 'sklearn.ensemble._forest.ExtraTreesClassifier'> - scaler: StandardScaler(), accuracy: 0.618380150276608\u001b[0m\n",
      "\u001b[32m2024-05-23 05:22:37.043\u001b[0m | \u001b[1mINFO    \u001b[0m | \u001b[36mdata_processing.english_data_processing\u001b[0m:\u001b[36mevaluate_models\u001b[0m:\u001b[36m74\u001b[0m - \u001b[1mModel <class 'sklearn.ensemble._forest.RandomForestClassifier'> - scaler: MinMaxScaler(), accuracy: 0.6208313103789943\u001b[0m\n",
      "\u001b[32m2024-05-23 05:22:54.274\u001b[0m | \u001b[1mINFO    \u001b[0m | \u001b[36mdata_processing.english_data_processing\u001b[0m:\u001b[36mevaluate_models\u001b[0m:\u001b[36m74\u001b[0m - \u001b[1mModel <class 'sklearn.ensemble._forest.ExtraTreesClassifier'> - scaler: MinMaxScaler(), accuracy: 0.6231972586904467\u001b[0m\n",
      "\u001b[32m2024-05-23 05:24:15.622\u001b[0m | \u001b[1mINFO    \u001b[0m | \u001b[36mdata_processing.english_data_processing\u001b[0m:\u001b[36mevaluate_models\u001b[0m:\u001b[36m74\u001b[0m - \u001b[1mModel <class 'sklearn.ensemble._forest.RandomForestClassifier'> - scaler: MaxAbsScaler(), accuracy: 0.6194680868631821\u001b[0m\n",
      "\u001b[32m2024-05-23 05:24:32.975\u001b[0m | \u001b[1mINFO    \u001b[0m | \u001b[36mdata_processing.english_data_processing\u001b[0m:\u001b[36mevaluate_models\u001b[0m:\u001b[36m74\u001b[0m - \u001b[1mModel <class 'sklearn.ensemble._forest.ExtraTreesClassifier'> - scaler: MaxAbsScaler(), accuracy: 0.6183775906200975\u001b[0m\n",
      "\u001b[32m2024-05-23 05:26:02.542\u001b[0m | \u001b[1mINFO    \u001b[0m | \u001b[36mdata_processing.english_data_processing\u001b[0m:\u001b[36mevaluate_models\u001b[0m:\u001b[36m74\u001b[0m - \u001b[1mModel <class 'sklearn.ensemble._forest.RandomForestClassifier'> - scaler: RobustScaler(), accuracy: 0.625558087688878\u001b[0m\n",
      "\u001b[32m2024-05-23 05:26:25.367\u001b[0m | \u001b[1mINFO    \u001b[0m | \u001b[36mdata_processing.english_data_processing\u001b[0m:\u001b[36mevaluate_models\u001b[0m:\u001b[36m74\u001b[0m - \u001b[1mModel <class 'sklearn.ensemble._forest.ExtraTreesClassifier'> - scaler: RobustScaler(), accuracy: 0.6193782511766164\u001b[0m\n",
      "\u001b[32m2024-05-23 05:28:29.170\u001b[0m | \u001b[1mINFO    \u001b[0m | \u001b[36mdata_processing.english_data_processing\u001b[0m:\u001b[36mevaluate_models\u001b[0m:\u001b[36m74\u001b[0m - \u001b[1mModel <class 'sklearn.ensemble._forest.RandomForestClassifier'> - scaler: Normalizer(), accuracy: 0.5981108083560399\u001b[0m\n",
      "\u001b[32m2024-05-23 05:29:09.403\u001b[0m | \u001b[1mINFO    \u001b[0m | \u001b[36mdata_processing.english_data_processing\u001b[0m:\u001b[36mevaluate_models\u001b[0m:\u001b[36m74\u001b[0m - \u001b[1mModel <class 'sklearn.ensemble._forest.ExtraTreesClassifier'> - scaler: Normalizer(), accuracy: 0.6041089092560482\u001b[0m\n",
      "\u001b[32m2024-05-23 05:29:09.404\u001b[0m | \u001b[1mINFO    \u001b[0m | \u001b[36mdata_processing.english_data_processing\u001b[0m:\u001b[36mevaluate_models\u001b[0m:\u001b[36m82\u001b[0m - \u001b[1mBest Model: <class 'sklearn.ensemble._forest.RandomForestClassifier'>\u001b[0m\n",
      "\u001b[32m2024-05-23 05:29:09.404\u001b[0m | \u001b[1mINFO    \u001b[0m | \u001b[36mdata_processing.english_data_processing\u001b[0m:\u001b[36mevaluate_models\u001b[0m:\u001b[36m83\u001b[0m - \u001b[1mBest Scaler: RobustScaler\u001b[0m\n",
      "\u001b[32m2024-05-23 05:29:09.405\u001b[0m | \u001b[1mINFO    \u001b[0m | \u001b[36mdata_processing.english_data_processing\u001b[0m:\u001b[36mevaluate_models\u001b[0m:\u001b[36m84\u001b[0m - \u001b[1mBest Average Accuracy: 0.625558087688878\u001b[0m\n",
      "\u001b[32m2024-05-23 05:29:09.407\u001b[0m | \u001b[1mINFO    \u001b[0m | \u001b[36mfeature_extraction.feature_extractor\u001b[0m:\u001b[36mprocess_folder\u001b[0m:\u001b[36m148\u001b[0m - \u001b[1mProcessing input folder: D:/data_analysis/speech_emotion_recognition/data/EnglishDataset/cleaned_data\u001b[0m\n"
     ]
    },
    {
     "name": "stdout",
     "output_type": "stream",
     "text": [
      "Scaler: RobustScaler, Model: <class 'sklearn.ensemble._forest.RandomForestClassifier'>, n_mfcc: 26, Selected features: ['mfcc_statistics', 'zcr', 'rms'], Accuracy: 0.625558087688878\n"
     ]
    },
    {
     "name": "stderr",
     "output_type": "stream",
     "text": [
      "\u001b[32m2024-05-23 05:34:32.362\u001b[0m | \u001b[1mINFO    \u001b[0m | \u001b[36mfeature_extraction.feature_extractor\u001b[0m:\u001b[36mprocess_folder\u001b[0m:\u001b[36m158\u001b[0m - \u001b[1mFeature extraction completed. Data saved to: D:/data_analysis/speech_emotion_recognition/notebooks/feature0.csv\u001b[0m\n",
      "\u001b[32m2024-05-23 05:34:33.002\u001b[0m | \u001b[1mINFO    \u001b[0m | \u001b[36mdata_processing.english_data_processing\u001b[0m:\u001b[36mevaluate_models\u001b[0m:\u001b[36m53\u001b[0m - \u001b[1mFinding best model....\u001b[0m\n"
     ]
    }
   ],
   "source": [
    "ranked_results = process_data(256, 128, 0.0005, 'D:/data_analysis/speech_emotion_recognition/data/EnglishDataset/combined_data', 'D:/data_analysis/speech_emotion_recognition/data/EnglishDataset/cleaned_data', [26,40], 'D:/data_analysis/speech_emotion_recognition/notebooks/feature0.csv', 100, 'D:/data_analysis/speech_emotion_recognition/data/EnglishDataset/images', ['mfcc','mfcc_statistics', 'zcr', 'pitch', 'rms'])"
   ]
  },
  {
   "cell_type": "code",
   "execution_count": null,
   "metadata": {},
   "outputs": [],
   "source": [
    "print(ranked_results)"
   ]
  }
 ],
 "metadata": {
  "kernelspec": {
   "display_name": ".venv",
   "language": "python",
   "name": "python3"
  },
  "language_info": {
   "codemirror_mode": {
    "name": "ipython",
    "version": 3
   },
   "file_extension": ".py",
   "mimetype": "text/x-python",
   "name": "python",
   "nbconvert_exporter": "python",
   "pygments_lexer": "ipython3",
   "version": "3.11.9"
  }
 },
 "nbformat": 4,
 "nbformat_minor": 2
}
