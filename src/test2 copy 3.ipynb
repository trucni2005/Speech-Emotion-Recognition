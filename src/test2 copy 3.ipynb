{
 "cells": [
  {
   "cell_type": "code",
   "execution_count": 15,
   "metadata": {},
   "outputs": [],
   "source": [
    "from audio_preprocessing.cut_audio_segment_from_audio_file import AudioProcessor\n",
    "from feature_extraction.feature_extractor import FeatureExtractor\n",
    "from feature_extraction.mfcc_images_extractor import MelSpectrogramImageExtractor\n",
    "from data_processing.english_data_processing import ModelEvaluator\n",
    "from itertools import combinations\n",
    "from sklearn.ensemble import ExtraTreesClassifier\n",
    "from sklearn.ensemble import RandomForestClassifier\n",
    "import pandas as pd"
   ]
  },
  {
   "cell_type": "code",
   "execution_count": 16,
   "metadata": {},
   "outputs": [],
   "source": [
    "def extract_mfcc_images(n_mfcc, figsize, input_folder, output_folder):\n",
    "    mfccImageExtractor = MelSpectrogramImageExtractor(n_mfcc, figsize)\n",
    "    mfccImageExtractor.extract_from_folders(input_folder, output_folder)"
   ]
  },
  {
   "cell_type": "code",
   "execution_count": 17,
   "metadata": {},
   "outputs": [],
   "source": [
    "def cut_audio_segment_from_audio_file(frame_size, hop_size, threshold, input_folder, output_folder):\n",
    "    segmentation = AudioProcessor(frame_size, hop_size, threshold)\n",
    "    segmentation.process_folders(input_folder, output_folder)"
   ]
  },
  {
   "cell_type": "code",
   "execution_count": 18,
   "metadata": {},
   "outputs": [],
   "source": [
    "def extract_feature(n_mfcc, input_folder, output_folder, selected_features):\n",
    "    featureExtractor = FeatureExtractor(n_mfcc)\n",
    "    featureExtractor.process_folder(input_folder, output_folder, selected_features)\n",
    "    # featureExtractor.process_folder(input_folder, output_folder, ['mfcc','mfcc_statistics', 'zcr', 'pitch', 'rms'])"
   ]
  },
  {
   "cell_type": "code",
   "execution_count": 19,
   "metadata": {},
   "outputs": [],
   "source": [
    "def model(featured_data):\n",
    "    models = [RandomForestClassifier, ExtraTreesClassifier]\n",
    "    \n",
    "    df_train_test = pd.read_csv(featured_data)\n",
    "    df_shuffled = df_train_test.sample(frac=1, random_state=42).reset_index(drop=True)\n",
    "\n",
    "    modelEvaluator = ModelEvaluator(models)\n",
    "    best_model, best_scaler, best_avg_acc = modelEvaluator.evaluate_models(df_shuffled)\n",
    "    return best_model, best_scaler, best_avg_acc"
   ]
  },
  {
   "cell_type": "code",
   "execution_count": 20,
   "metadata": {},
   "outputs": [],
   "source": [
    "def process_data(frame_size, hop_size, threshold, raw_folder, cutted_folder, n_mfcc_list, featured_data_path, n_mfcc_for_images, images_folder, features):\n",
    "    cut_audio_segment_from_audio_file(frame_size, hop_size, threshold, raw_folder, cutted_folder)\n",
    "    n = len(features)\n",
    "\n",
    "    results = []\n",
    "\n",
    "    for n_mfcc in n_mfcc_list:\n",
    "        for r in range(0, n + 1):\n",
    "            for combo in combinations(range(n), r):\n",
    "                selected_features = [features[i] for i in range(n) if i not in combo]\n",
    "                extract_feature(n_mfcc, cutted_folder, featured_data_path, selected_features)\n",
    "                current_model, current_scaler, current_avg_acc = model(featured_data_path)\n",
    "                print(f\"Scaler: {current_scaler}, Model: {current_model}, n_mfcc: {n_mfcc}, Selected features: {selected_features}, Accuracy: {current_avg_acc}\")\n",
    "                results.append({'Scaler': current_scaler, 'Model': current_model, 'N_MFCC': n_mfcc, 'Selected Features': selected_features, 'Average Accuracy': current_avg_acc})\n",
    "\n",
    "    results_df = pd.DataFrame(results)\n",
    "    ranked_results = results_df.sort_values(by='Average Accuracy', ascending=False)\n",
    "\n",
    "    return ranked_results"
   ]
  },
  {
   "cell_type": "code",
   "execution_count": 21,
   "metadata": {},
   "outputs": [
    {
     "name": "stderr",
     "output_type": "stream",
     "text": [
      "d:\\data_analysis\\speech_emotion_recognition\\src\\audio_preprocessing\\utils\\audio_utils.py:79: RuntimeWarning: invalid value encountered in divide\n",
      "  return ste / np.max(ste)\n",
      "\u001b[32m2024-05-22 14:57:20.534\u001b[0m | \u001b[1mINFO    \u001b[0m | \u001b[36mfeature_extraction.feature_extractor\u001b[0m:\u001b[36mprocess_folder\u001b[0m:\u001b[36m148\u001b[0m - \u001b[1mProcessing input folder: D:/data_analysis/speech_emotion_recognition/data/EnglishDataset/cleaned_data1\u001b[0m\n",
      "\u001b[32m2024-05-22 15:00:13.179\u001b[0m | \u001b[1mINFO    \u001b[0m | \u001b[36mfeature_extraction.feature_extractor\u001b[0m:\u001b[36mprocess_folder\u001b[0m:\u001b[36m158\u001b[0m - \u001b[1mFeature extraction completed. Data saved to: D:/data_analysis/speech_emotion_recognition/notebooks/feature3.csv\u001b[0m\n",
      "\u001b[32m2024-05-22 15:00:13.324\u001b[0m | \u001b[1mINFO    \u001b[0m | \u001b[36mdata_processing.english_data_processing\u001b[0m:\u001b[36mevaluate_models\u001b[0m:\u001b[36m53\u001b[0m - \u001b[1mFinding best model....\u001b[0m\n",
      "\u001b[32m2024-05-22 15:01:46.424\u001b[0m | \u001b[1mINFO    \u001b[0m | \u001b[36mdata_processing.english_data_processing\u001b[0m:\u001b[36mevaluate_models\u001b[0m:\u001b[36m74\u001b[0m - \u001b[1mModel <class 'sklearn.ensemble._forest.RandomForestClassifier'> - scaler: None, accuracy: 0.622307241350838\u001b[0m\n",
      "\u001b[32m2024-05-22 15:02:01.453\u001b[0m | \u001b[1mINFO    \u001b[0m | \u001b[36mdata_processing.english_data_processing\u001b[0m:\u001b[36mevaluate_models\u001b[0m:\u001b[36m74\u001b[0m - \u001b[1mModel <class 'sklearn.ensemble._forest.ExtraTreesClassifier'> - scaler: None, accuracy: 0.6223980678721823\u001b[0m\n",
      "\u001b[32m2024-05-22 15:03:30.906\u001b[0m | \u001b[1mINFO    \u001b[0m | \u001b[36mdata_processing.english_data_processing\u001b[0m:\u001b[36mevaluate_models\u001b[0m:\u001b[36m74\u001b[0m - \u001b[1mModel <class 'sklearn.ensemble._forest.RandomForestClassifier'> - scaler: StandardScaler(), accuracy: 0.6197634381966808\u001b[0m\n",
      "\u001b[32m2024-05-22 15:03:51.585\u001b[0m | \u001b[1mINFO    \u001b[0m | \u001b[36mdata_processing.english_data_processing\u001b[0m:\u001b[36mevaluate_models\u001b[0m:\u001b[36m74\u001b[0m - \u001b[1mModel <class 'sklearn.ensemble._forest.ExtraTreesClassifier'> - scaler: StandardScaler(), accuracy: 0.6225796383453058\u001b[0m\n",
      "\u001b[32m2024-05-22 15:05:12.383\u001b[0m | \u001b[1mINFO    \u001b[0m | \u001b[36mdata_processing.english_data_processing\u001b[0m:\u001b[36mevaluate_models\u001b[0m:\u001b[36m74\u001b[0m - \u001b[1mModel <class 'sklearn.ensemble._forest.RandomForestClassifier'> - scaler: MinMaxScaler(), accuracy: 0.6196721988275121\u001b[0m\n",
      "\u001b[32m2024-05-22 15:05:32.339\u001b[0m | \u001b[1mINFO    \u001b[0m | \u001b[36mdata_processing.english_data_processing\u001b[0m:\u001b[36mevaluate_models\u001b[0m:\u001b[36m74\u001b[0m - \u001b[1mModel <class 'sklearn.ensemble._forest.ExtraTreesClassifier'> - scaler: MinMaxScaler(), accuracy: 0.6228531087441168\u001b[0m\n",
      "\u001b[32m2024-05-22 15:06:59.520\u001b[0m | \u001b[1mINFO    \u001b[0m | \u001b[36mdata_processing.english_data_processing\u001b[0m:\u001b[36mevaluate_models\u001b[0m:\u001b[36m74\u001b[0m - \u001b[1mModel <class 'sklearn.ensemble._forest.RandomForestClassifier'> - scaler: MaxAbsScaler(), accuracy: 0.6200354223433242\u001b[0m\n",
      "\u001b[32m2024-05-22 15:07:15.895\u001b[0m | \u001b[1mINFO    \u001b[0m | \u001b[36mdata_processing.english_data_processing\u001b[0m:\u001b[36mevaluate_models\u001b[0m:\u001b[36m74\u001b[0m - \u001b[1mModel <class 'sklearn.ensemble._forest.ExtraTreesClassifier'> - scaler: MaxAbsScaler(), accuracy: 0.6246702997275204\u001b[0m\n",
      "\u001b[32m2024-05-22 15:08:30.549\u001b[0m | \u001b[1mINFO    \u001b[0m | \u001b[36mdata_processing.english_data_processing\u001b[0m:\u001b[36mevaluate_models\u001b[0m:\u001b[36m74\u001b[0m - \u001b[1mModel <class 'sklearn.ensemble._forest.RandomForestClassifier'> - scaler: RobustScaler(), accuracy: 0.620763273057551\u001b[0m\n",
      "\u001b[32m2024-05-22 15:08:46.130\u001b[0m | \u001b[1mINFO    \u001b[0m | \u001b[36mdata_processing.english_data_processing\u001b[0m:\u001b[36mevaluate_models\u001b[0m:\u001b[36m74\u001b[0m - \u001b[1mModel <class 'sklearn.ensemble._forest.ExtraTreesClassifier'> - scaler: RobustScaler(), accuracy: 0.6249448435306746\u001b[0m\n",
      "\u001b[32m2024-05-22 15:09:53.583\u001b[0m | \u001b[1mINFO    \u001b[0m | \u001b[36mdata_processing.english_data_processing\u001b[0m:\u001b[36mevaluate_models\u001b[0m:\u001b[36m74\u001b[0m - \u001b[1mModel <class 'sklearn.ensemble._forest.RandomForestClassifier'> - scaler: Normalizer(), accuracy: 0.5903103789943026\u001b[0m\n",
      "\u001b[32m2024-05-22 15:10:07.910\u001b[0m | \u001b[1mINFO    \u001b[0m | \u001b[36mdata_processing.english_data_processing\u001b[0m:\u001b[36mevaluate_models\u001b[0m:\u001b[36m74\u001b[0m - \u001b[1mModel <class 'sklearn.ensemble._forest.ExtraTreesClassifier'> - scaler: Normalizer(), accuracy: 0.5954016183634713\u001b[0m\n",
      "\u001b[32m2024-05-22 15:10:07.911\u001b[0m | \u001b[1mINFO    \u001b[0m | \u001b[36mdata_processing.english_data_processing\u001b[0m:\u001b[36mevaluate_models\u001b[0m:\u001b[36m82\u001b[0m - \u001b[1mBest Model: <class 'sklearn.ensemble._forest.ExtraTreesClassifier'>\u001b[0m\n",
      "\u001b[32m2024-05-22 15:10:07.911\u001b[0m | \u001b[1mINFO    \u001b[0m | \u001b[36mdata_processing.english_data_processing\u001b[0m:\u001b[36mevaluate_models\u001b[0m:\u001b[36m83\u001b[0m - \u001b[1mBest Scaler: RobustScaler\u001b[0m\n",
      "\u001b[32m2024-05-22 15:10:07.912\u001b[0m | \u001b[1mINFO    \u001b[0m | \u001b[36mdata_processing.english_data_processing\u001b[0m:\u001b[36mevaluate_models\u001b[0m:\u001b[36m84\u001b[0m - \u001b[1mBest Average Accuracy: 0.6249448435306746\u001b[0m\n",
      "\u001b[32m2024-05-22 15:10:07.915\u001b[0m | \u001b[1mINFO    \u001b[0m | \u001b[36mfeature_extraction.feature_extractor\u001b[0m:\u001b[36mprocess_folder\u001b[0m:\u001b[36m148\u001b[0m - \u001b[1mProcessing input folder: D:/data_analysis/speech_emotion_recognition/data/EnglishDataset/cleaned_data1\u001b[0m\n"
     ]
    },
    {
     "name": "stdout",
     "output_type": "stream",
     "text": [
      "Scaler: RobustScaler, Model: <class 'sklearn.ensemble._forest.ExtraTreesClassifier'>, n_mfcc: 13, Selected features: ['mfcc', 'mfcc_statistics', 'zcr', 'pitch', 'rms'], Accuracy: 0.6249448435306746\n"
     ]
    },
    {
     "name": "stderr",
     "output_type": "stream",
     "text": [
      "\u001b[32m2024-05-22 15:11:27.743\u001b[0m | \u001b[1mINFO    \u001b[0m | \u001b[36mfeature_extraction.feature_extractor\u001b[0m:\u001b[36mprocess_folder\u001b[0m:\u001b[36m158\u001b[0m - \u001b[1mFeature extraction completed. Data saved to: D:/data_analysis/speech_emotion_recognition/notebooks/feature3.csv\u001b[0m\n",
      "\u001b[32m2024-05-22 15:11:27.832\u001b[0m | \u001b[1mINFO    \u001b[0m | \u001b[36mdata_processing.english_data_processing\u001b[0m:\u001b[36mevaluate_models\u001b[0m:\u001b[36m53\u001b[0m - \u001b[1mFinding best model....\u001b[0m\n",
      "\u001b[32m2024-05-22 15:12:39.313\u001b[0m | \u001b[1mINFO    \u001b[0m | \u001b[36mdata_processing.english_data_processing\u001b[0m:\u001b[36mevaluate_models\u001b[0m:\u001b[36m74\u001b[0m - \u001b[1mModel <class 'sklearn.ensemble._forest.RandomForestClassifier'> - scaler: None, accuracy: 0.620762612501032\u001b[0m\n",
      "\u001b[32m2024-05-22 15:12:55.217\u001b[0m | \u001b[1mINFO    \u001b[0m | \u001b[36mdata_processing.english_data_processing\u001b[0m:\u001b[36mevaluate_models\u001b[0m:\u001b[36m74\u001b[0m - \u001b[1mModel <class 'sklearn.ensemble._forest.ExtraTreesClassifier'> - scaler: None, accuracy: 0.6158552555528033\u001b[0m\n",
      "\u001b[32m2024-05-22 15:14:03.683\u001b[0m | \u001b[1mINFO    \u001b[0m | \u001b[36mdata_processing.english_data_processing\u001b[0m:\u001b[36mevaluate_models\u001b[0m:\u001b[36m74\u001b[0m - \u001b[1mModel <class 'sklearn.ensemble._forest.RandomForestClassifier'> - scaler: StandardScaler(), accuracy: 0.6188531087441169\u001b[0m\n",
      "\u001b[32m2024-05-22 15:14:19.086\u001b[0m | \u001b[1mINFO    \u001b[0m | \u001b[36mdata_processing.english_data_processing\u001b[0m:\u001b[36mevaluate_models\u001b[0m:\u001b[36m74\u001b[0m - \u001b[1mModel <class 'sklearn.ensemble._forest.ExtraTreesClassifier'> - scaler: StandardScaler(), accuracy: 0.6256724465362068\u001b[0m\n",
      "\u001b[32m2024-05-22 15:15:25.747\u001b[0m | \u001b[1mINFO    \u001b[0m | \u001b[36mdata_processing.english_data_processing\u001b[0m:\u001b[36mevaluate_models\u001b[0m:\u001b[36m74\u001b[0m - \u001b[1mModel <class 'sklearn.ensemble._forest.RandomForestClassifier'> - scaler: MinMaxScaler(), accuracy: 0.6232163322599289\u001b[0m\n",
      "\u001b[32m2024-05-22 15:15:41.056\u001b[0m | \u001b[1mINFO    \u001b[0m | \u001b[36mdata_processing.english_data_processing\u001b[0m:\u001b[36mevaluate_models\u001b[0m:\u001b[36m74\u001b[0m - \u001b[1mModel <class 'sklearn.ensemble._forest.ExtraTreesClassifier'> - scaler: MinMaxScaler(), accuracy: 0.6209453389480638\u001b[0m\n",
      "\u001b[32m2024-05-22 15:16:48.921\u001b[0m | \u001b[1mINFO    \u001b[0m | \u001b[36mdata_processing.english_data_processing\u001b[0m:\u001b[36mevaluate_models\u001b[0m:\u001b[36m74\u001b[0m - \u001b[1mModel <class 'sklearn.ensemble._forest.RandomForestClassifier'> - scaler: MaxAbsScaler(), accuracy: 0.6204894723804806\u001b[0m\n",
      "\u001b[32m2024-05-22 15:17:04.517\u001b[0m | \u001b[1mINFO    \u001b[0m | \u001b[36mdata_processing.english_data_processing\u001b[0m:\u001b[36mevaluate_models\u001b[0m:\u001b[36m74\u001b[0m - \u001b[1mModel <class 'sklearn.ensemble._forest.ExtraTreesClassifier'> - scaler: MaxAbsScaler(), accuracy: 0.6206725291057716\u001b[0m\n",
      "\u001b[32m2024-05-22 15:18:08.315\u001b[0m | \u001b[1mINFO    \u001b[0m | \u001b[36mdata_processing.english_data_processing\u001b[0m:\u001b[36mevaluate_models\u001b[0m:\u001b[36m74\u001b[0m - \u001b[1mModel <class 'sklearn.ensemble._forest.RandomForestClassifier'> - scaler: RobustScaler(), accuracy: 0.6197631904879862\u001b[0m\n",
      "\u001b[32m2024-05-22 15:18:21.623\u001b[0m | \u001b[1mINFO    \u001b[0m | \u001b[36mdata_processing.english_data_processing\u001b[0m:\u001b[36mevaluate_models\u001b[0m:\u001b[36m74\u001b[0m - \u001b[1mModel <class 'sklearn.ensemble._forest.ExtraTreesClassifier'> - scaler: RobustScaler(), accuracy: 0.6196726116753365\u001b[0m\n",
      "\u001b[32m2024-05-22 15:19:16.599\u001b[0m | \u001b[1mINFO    \u001b[0m | \u001b[36mdata_processing.english_data_processing\u001b[0m:\u001b[36mevaluate_models\u001b[0m:\u001b[36m74\u001b[0m - \u001b[1mModel <class 'sklearn.ensemble._forest.RandomForestClassifier'> - scaler: Normalizer(), accuracy: 0.5913102964247379\u001b[0m\n",
      "\u001b[32m2024-05-22 15:19:30.113\u001b[0m | \u001b[1mINFO    \u001b[0m | \u001b[36mdata_processing.english_data_processing\u001b[0m:\u001b[36mevaluate_models\u001b[0m:\u001b[36m74\u001b[0m - \u001b[1mModel <class 'sklearn.ensemble._forest.ExtraTreesClassifier'> - scaler: Normalizer(), accuracy: 0.5934007100982577\u001b[0m\n",
      "\u001b[32m2024-05-22 15:19:30.114\u001b[0m | \u001b[1mINFO    \u001b[0m | \u001b[36mdata_processing.english_data_processing\u001b[0m:\u001b[36mevaluate_models\u001b[0m:\u001b[36m82\u001b[0m - \u001b[1mBest Model: <class 'sklearn.ensemble._forest.ExtraTreesClassifier'>\u001b[0m\n",
      "\u001b[32m2024-05-22 15:19:30.114\u001b[0m | \u001b[1mINFO    \u001b[0m | \u001b[36mdata_processing.english_data_processing\u001b[0m:\u001b[36mevaluate_models\u001b[0m:\u001b[36m83\u001b[0m - \u001b[1mBest Scaler: StandardScaler\u001b[0m\n",
      "\u001b[32m2024-05-22 15:19:30.115\u001b[0m | \u001b[1mINFO    \u001b[0m | \u001b[36mdata_processing.english_data_processing\u001b[0m:\u001b[36mevaluate_models\u001b[0m:\u001b[36m84\u001b[0m - \u001b[1mBest Average Accuracy: 0.6256724465362068\u001b[0m\n",
      "\u001b[32m2024-05-22 15:19:30.117\u001b[0m | \u001b[1mINFO    \u001b[0m | \u001b[36mfeature_extraction.feature_extractor\u001b[0m:\u001b[36mprocess_folder\u001b[0m:\u001b[36m148\u001b[0m - \u001b[1mProcessing input folder: D:/data_analysis/speech_emotion_recognition/data/EnglishDataset/cleaned_data1\u001b[0m\n"
     ]
    },
    {
     "name": "stdout",
     "output_type": "stream",
     "text": [
      "Scaler: StandardScaler, Model: <class 'sklearn.ensemble._forest.ExtraTreesClassifier'>, n_mfcc: 13, Selected features: ['mfcc_statistics', 'zcr', 'pitch', 'rms'], Accuracy: 0.6256724465362068\n"
     ]
    },
    {
     "name": "stderr",
     "output_type": "stream",
     "text": [
      "\u001b[32m2024-05-22 15:20:52.184\u001b[0m | \u001b[1mINFO    \u001b[0m | \u001b[36mfeature_extraction.feature_extractor\u001b[0m:\u001b[36mprocess_folder\u001b[0m:\u001b[36m158\u001b[0m - \u001b[1mFeature extraction completed. Data saved to: D:/data_analysis/speech_emotion_recognition/notebooks/feature3.csv\u001b[0m\n",
      "\u001b[32m2024-05-22 15:20:52.217\u001b[0m | \u001b[1mINFO    \u001b[0m | \u001b[36mdata_processing.english_data_processing\u001b[0m:\u001b[36mevaluate_models\u001b[0m:\u001b[36m53\u001b[0m - \u001b[1mFinding best model....\u001b[0m\n",
      "\u001b[32m2024-05-22 15:21:21.735\u001b[0m | \u001b[1mINFO    \u001b[0m | \u001b[36mdata_processing.english_data_processing\u001b[0m:\u001b[36mevaluate_models\u001b[0m:\u001b[36m74\u001b[0m - \u001b[1mModel <class 'sklearn.ensemble._forest.RandomForestClassifier'> - scaler: None, accuracy: 0.5923115349682109\u001b[0m\n",
      "\u001b[32m2024-05-22 15:21:30.882\u001b[0m | \u001b[1mINFO    \u001b[0m | \u001b[36mdata_processing.english_data_processing\u001b[0m:\u001b[36mevaluate_models\u001b[0m:\u001b[36m74\u001b[0m - \u001b[1mModel <class 'sklearn.ensemble._forest.ExtraTreesClassifier'> - scaler: None, accuracy: 0.5926749236231525\u001b[0m\n",
      "\u001b[32m2024-05-22 15:22:00.797\u001b[0m | \u001b[1mINFO    \u001b[0m | \u001b[36mdata_processing.english_data_processing\u001b[0m:\u001b[36mevaluate_models\u001b[0m:\u001b[36m74\u001b[0m - \u001b[1mModel <class 'sklearn.ensemble._forest.RandomForestClassifier'> - scaler: StandardScaler(), accuracy: 0.5934919494674264\u001b[0m\n",
      "\u001b[32m2024-05-22 15:22:09.759\u001b[0m | \u001b[1mINFO    \u001b[0m | \u001b[36mdata_processing.english_data_processing\u001b[0m:\u001b[36mevaluate_models\u001b[0m:\u001b[36m74\u001b[0m - \u001b[1mModel <class 'sklearn.ensemble._forest.ExtraTreesClassifier'> - scaler: StandardScaler(), accuracy: 0.5916748410535877\u001b[0m\n",
      "\u001b[32m2024-05-22 15:22:41.834\u001b[0m | \u001b[1mINFO    \u001b[0m | \u001b[36mdata_processing.english_data_processing\u001b[0m:\u001b[36mevaluate_models\u001b[0m:\u001b[36m74\u001b[0m - \u001b[1mModel <class 'sklearn.ensemble._forest.RandomForestClassifier'> - scaler: MinMaxScaler(), accuracy: 0.5928559161093221\u001b[0m\n",
      "\u001b[32m2024-05-22 15:22:52.062\u001b[0m | \u001b[1mINFO    \u001b[0m | \u001b[36mdata_processing.english_data_processing\u001b[0m:\u001b[36mevaluate_models\u001b[0m:\u001b[36m74\u001b[0m - \u001b[1mModel <class 'sklearn.ensemble._forest.ExtraTreesClassifier'> - scaler: MinMaxScaler(), accuracy: 0.5936740153579391\u001b[0m\n",
      "\u001b[32m2024-05-22 15:23:25.191\u001b[0m | \u001b[1mINFO    \u001b[0m | \u001b[36mdata_processing.english_data_processing\u001b[0m:\u001b[36mevaluate_models\u001b[0m:\u001b[36m74\u001b[0m - \u001b[1mModel <class 'sklearn.ensemble._forest.RandomForestClassifier'> - scaler: MaxAbsScaler(), accuracy: 0.5931298819255224\u001b[0m\n",
      "\u001b[32m2024-05-22 15:23:35.188\u001b[0m | \u001b[1mINFO    \u001b[0m | \u001b[36mdata_processing.english_data_processing\u001b[0m:\u001b[36mevaluate_models\u001b[0m:\u001b[36m74\u001b[0m - \u001b[1mModel <class 'sklearn.ensemble._forest.ExtraTreesClassifier'> - scaler: MaxAbsScaler(), accuracy: 0.5964918668978614\u001b[0m\n",
      "\u001b[32m2024-05-22 15:24:05.567\u001b[0m | \u001b[1mINFO    \u001b[0m | \u001b[36mdata_processing.english_data_processing\u001b[0m:\u001b[36mevaluate_models\u001b[0m:\u001b[36m74\u001b[0m - \u001b[1mModel <class 'sklearn.ensemble._forest.RandomForestClassifier'> - scaler: RobustScaler(), accuracy: 0.5942193047642639\u001b[0m\n",
      "\u001b[32m2024-05-22 15:24:14.631\u001b[0m | \u001b[1mINFO    \u001b[0m | \u001b[36mdata_processing.english_data_processing\u001b[0m:\u001b[36mevaluate_models\u001b[0m:\u001b[36m74\u001b[0m - \u001b[1mModel <class 'sklearn.ensemble._forest.ExtraTreesClassifier'> - scaler: RobustScaler(), accuracy: 0.5943092230203947\u001b[0m\n",
      "\u001b[32m2024-05-22 15:24:43.445\u001b[0m | \u001b[1mINFO    \u001b[0m | \u001b[36mdata_processing.english_data_processing\u001b[0m:\u001b[36mevaluate_models\u001b[0m:\u001b[36m74\u001b[0m - \u001b[1mModel <class 'sklearn.ensemble._forest.RandomForestClassifier'> - scaler: Normalizer(), accuracy: 0.5889463297828421\u001b[0m\n",
      "\u001b[32m2024-05-22 15:24:52.678\u001b[0m | \u001b[1mINFO    \u001b[0m | \u001b[36mdata_processing.english_data_processing\u001b[0m:\u001b[36mevaluate_models\u001b[0m:\u001b[36m74\u001b[0m - \u001b[1mModel <class 'sklearn.ensemble._forest.ExtraTreesClassifier'> - scaler: Normalizer(), accuracy: 0.5885825282800761\u001b[0m\n",
      "\u001b[32m2024-05-22 15:24:52.678\u001b[0m | \u001b[1mINFO    \u001b[0m | \u001b[36mdata_processing.english_data_processing\u001b[0m:\u001b[36mevaluate_models\u001b[0m:\u001b[36m82\u001b[0m - \u001b[1mBest Model: <class 'sklearn.ensemble._forest.ExtraTreesClassifier'>\u001b[0m\n",
      "\u001b[32m2024-05-22 15:24:52.679\u001b[0m | \u001b[1mINFO    \u001b[0m | \u001b[36mdata_processing.english_data_processing\u001b[0m:\u001b[36mevaluate_models\u001b[0m:\u001b[36m83\u001b[0m - \u001b[1mBest Scaler: MaxAbsScaler\u001b[0m\n",
      "\u001b[32m2024-05-22 15:24:52.680\u001b[0m | \u001b[1mINFO    \u001b[0m | \u001b[36mdata_processing.english_data_processing\u001b[0m:\u001b[36mevaluate_models\u001b[0m:\u001b[36m84\u001b[0m - \u001b[1mBest Average Accuracy: 0.5964918668978614\u001b[0m\n",
      "\u001b[32m2024-05-22 15:24:52.681\u001b[0m | \u001b[1mINFO    \u001b[0m | \u001b[36mfeature_extraction.feature_extractor\u001b[0m:\u001b[36mprocess_folder\u001b[0m:\u001b[36m148\u001b[0m - \u001b[1mProcessing input folder: D:/data_analysis/speech_emotion_recognition/data/EnglishDataset/cleaned_data1\u001b[0m\n"
     ]
    },
    {
     "name": "stdout",
     "output_type": "stream",
     "text": [
      "Scaler: MaxAbsScaler, Model: <class 'sklearn.ensemble._forest.ExtraTreesClassifier'>, n_mfcc: 13, Selected features: ['mfcc', 'zcr', 'pitch', 'rms'], Accuracy: 0.5964918668978614\n"
     ]
    },
    {
     "name": "stderr",
     "output_type": "stream",
     "text": [
      "\u001b[32m2024-05-22 15:26:41.566\u001b[0m | \u001b[1mINFO    \u001b[0m | \u001b[36mfeature_extraction.feature_extractor\u001b[0m:\u001b[36mprocess_folder\u001b[0m:\u001b[36m158\u001b[0m - \u001b[1mFeature extraction completed. Data saved to: D:/data_analysis/speech_emotion_recognition/notebooks/feature3.csv\u001b[0m\n",
      "\u001b[32m2024-05-22 15:26:41.672\u001b[0m | \u001b[1mINFO    \u001b[0m | \u001b[36mdata_processing.english_data_processing\u001b[0m:\u001b[36mevaluate_models\u001b[0m:\u001b[36m53\u001b[0m - \u001b[1mFinding best model....\u001b[0m\n",
      "\u001b[32m2024-05-22 15:27:51.369\u001b[0m | \u001b[1mINFO    \u001b[0m | \u001b[36mdata_processing.english_data_processing\u001b[0m:\u001b[36mevaluate_models\u001b[0m:\u001b[36m74\u001b[0m - \u001b[1mModel <class 'sklearn.ensemble._forest.RandomForestClassifier'> - scaler: None, accuracy: 0.6196719511188176\u001b[0m\n",
      "\u001b[32m2024-05-22 15:28:05.611\u001b[0m | \u001b[1mINFO    \u001b[0m | \u001b[36mdata_processing.english_data_processing\u001b[0m:\u001b[36mevaluate_models\u001b[0m:\u001b[36m74\u001b[0m - \u001b[1mModel <class 'sklearn.ensemble._forest.ExtraTreesClassifier'> - scaler: None, accuracy: 0.6220340186607217\u001b[0m\n",
      "\u001b[32m2024-05-22 15:29:14.420\u001b[0m | \u001b[1mINFO    \u001b[0m | \u001b[36mdata_processing.english_data_processing\u001b[0m:\u001b[36mevaluate_models\u001b[0m:\u001b[36m74\u001b[0m - \u001b[1mModel <class 'sklearn.ensemble._forest.RandomForestClassifier'> - scaler: StandardScaler(), accuracy: 0.6224901329369994\u001b[0m\n",
      "\u001b[32m2024-05-22 15:29:29.137\u001b[0m | \u001b[1mINFO    \u001b[0m | \u001b[36mdata_processing.english_data_processing\u001b[0m:\u001b[36mevaluate_models\u001b[0m:\u001b[36m74\u001b[0m - \u001b[1mModel <class 'sklearn.ensemble._forest.ExtraTreesClassifier'> - scaler: StandardScaler(), accuracy: 0.6253074064899679\u001b[0m\n",
      "\u001b[32m2024-05-22 15:30:35.979\u001b[0m | \u001b[1mINFO    \u001b[0m | \u001b[36mdata_processing.english_data_processing\u001b[0m:\u001b[36mevaluate_models\u001b[0m:\u001b[36m74\u001b[0m - \u001b[1mModel <class 'sklearn.ensemble._forest.RandomForestClassifier'> - scaler: MinMaxScaler(), accuracy: 0.6233995541243498\u001b[0m\n",
      "\u001b[32m2024-05-22 15:30:51.084\u001b[0m | \u001b[1mINFO    \u001b[0m | \u001b[36mdata_processing.english_data_processing\u001b[0m:\u001b[36mevaluate_models\u001b[0m:\u001b[36m74\u001b[0m - \u001b[1mModel <class 'sklearn.ensemble._forest.ExtraTreesClassifier'> - scaler: MinMaxScaler(), accuracy: 0.6232160019816696\u001b[0m\n",
      "\u001b[32m2024-05-22 15:32:00.453\u001b[0m | \u001b[1mINFO    \u001b[0m | \u001b[36mdata_processing.english_data_processing\u001b[0m:\u001b[36mevaluate_models\u001b[0m:\u001b[36m74\u001b[0m - \u001b[1mModel <class 'sklearn.ensemble._forest.RandomForestClassifier'> - scaler: MaxAbsScaler(), accuracy: 0.622034514078111\u001b[0m\n",
      "\u001b[32m2024-05-22 15:32:15.080\u001b[0m | \u001b[1mINFO    \u001b[0m | \u001b[36mdata_processing.english_data_processing\u001b[0m:\u001b[36mevaluate_models\u001b[0m:\u001b[36m74\u001b[0m - \u001b[1mModel <class 'sklearn.ensemble._forest.ExtraTreesClassifier'> - scaler: MaxAbsScaler(), accuracy: 0.6206721162579473\u001b[0m\n",
      "\u001b[32m2024-05-22 15:33:19.615\u001b[0m | \u001b[1mINFO    \u001b[0m | \u001b[36mdata_processing.english_data_processing\u001b[0m:\u001b[36mevaluate_models\u001b[0m:\u001b[36m74\u001b[0m - \u001b[1mModel <class 'sklearn.ensemble._forest.RandomForestClassifier'> - scaler: RobustScaler(), accuracy: 0.6223979027330526\u001b[0m\n",
      "\u001b[32m2024-05-22 15:33:33.394\u001b[0m | \u001b[1mINFO    \u001b[0m | \u001b[36mdata_processing.english_data_processing\u001b[0m:\u001b[36mevaluate_models\u001b[0m:\u001b[36m74\u001b[0m - \u001b[1mModel <class 'sklearn.ensemble._forest.ExtraTreesClassifier'> - scaler: RobustScaler(), accuracy: 0.6228523656180331\u001b[0m\n",
      "\u001b[32m2024-05-22 15:34:34.804\u001b[0m | \u001b[1mINFO    \u001b[0m | \u001b[36mdata_processing.english_data_processing\u001b[0m:\u001b[36mevaluate_models\u001b[0m:\u001b[36m74\u001b[0m - \u001b[1mModel <class 'sklearn.ensemble._forest.RandomForestClassifier'> - scaler: Normalizer(), accuracy: 0.5938556684006275\u001b[0m\n",
      "\u001b[32m2024-05-22 15:34:48.974\u001b[0m | \u001b[1mINFO    \u001b[0m | \u001b[36mdata_processing.english_data_processing\u001b[0m:\u001b[36mevaluate_models\u001b[0m:\u001b[36m74\u001b[0m - \u001b[1mModel <class 'sklearn.ensemble._forest.ExtraTreesClassifier'> - scaler: Normalizer(), accuracy: 0.5970374865824457\u001b[0m\n",
      "\u001b[32m2024-05-22 15:34:48.975\u001b[0m | \u001b[1mINFO    \u001b[0m | \u001b[36mdata_processing.english_data_processing\u001b[0m:\u001b[36mevaluate_models\u001b[0m:\u001b[36m82\u001b[0m - \u001b[1mBest Model: <class 'sklearn.ensemble._forest.ExtraTreesClassifier'>\u001b[0m\n",
      "\u001b[32m2024-05-22 15:34:48.976\u001b[0m | \u001b[1mINFO    \u001b[0m | \u001b[36mdata_processing.english_data_processing\u001b[0m:\u001b[36mevaluate_models\u001b[0m:\u001b[36m83\u001b[0m - \u001b[1mBest Scaler: StandardScaler\u001b[0m\n",
      "\u001b[32m2024-05-22 15:34:48.976\u001b[0m | \u001b[1mINFO    \u001b[0m | \u001b[36mdata_processing.english_data_processing\u001b[0m:\u001b[36mevaluate_models\u001b[0m:\u001b[36m84\u001b[0m - \u001b[1mBest Average Accuracy: 0.6253074064899679\u001b[0m\n",
      "\u001b[32m2024-05-22 15:34:48.978\u001b[0m | \u001b[1mINFO    \u001b[0m | \u001b[36mfeature_extraction.feature_extractor\u001b[0m:\u001b[36mprocess_folder\u001b[0m:\u001b[36m148\u001b[0m - \u001b[1mProcessing input folder: D:/data_analysis/speech_emotion_recognition/data/EnglishDataset/cleaned_data1\u001b[0m\n"
     ]
    },
    {
     "name": "stdout",
     "output_type": "stream",
     "text": [
      "Scaler: StandardScaler, Model: <class 'sklearn.ensemble._forest.ExtraTreesClassifier'>, n_mfcc: 13, Selected features: ['mfcc', 'mfcc_statistics', 'pitch', 'rms'], Accuracy: 0.6253074064899679\n"
     ]
    },
    {
     "name": "stderr",
     "output_type": "stream",
     "text": [
      "\u001b[32m2024-05-22 15:36:58.051\u001b[0m | \u001b[1mINFO    \u001b[0m | \u001b[36mfeature_extraction.feature_extractor\u001b[0m:\u001b[36mprocess_folder\u001b[0m:\u001b[36m158\u001b[0m - \u001b[1mFeature extraction completed. Data saved to: D:/data_analysis/speech_emotion_recognition/notebooks/feature3.csv\u001b[0m\n",
      "\u001b[32m2024-05-22 15:36:58.165\u001b[0m | \u001b[1mINFO    \u001b[0m | \u001b[36mdata_processing.english_data_processing\u001b[0m:\u001b[36mevaluate_models\u001b[0m:\u001b[36m53\u001b[0m - \u001b[1mFinding best model....\u001b[0m\n",
      "\u001b[32m2024-05-22 15:38:08.022\u001b[0m | \u001b[1mINFO    \u001b[0m | \u001b[36mdata_processing.english_data_processing\u001b[0m:\u001b[36mevaluate_models\u001b[0m:\u001b[36m74\u001b[0m - \u001b[1mModel <class 'sklearn.ensemble._forest.RandomForestClassifier'> - scaler: None, accuracy: 0.6214897200891751\u001b[0m\n",
      "\u001b[32m2024-05-22 15:38:23.090\u001b[0m | \u001b[1mINFO    \u001b[0m | \u001b[36mdata_processing.english_data_processing\u001b[0m:\u001b[36mevaluate_models\u001b[0m:\u001b[36m74\u001b[0m - \u001b[1mModel <class 'sklearn.ensemble._forest.ExtraTreesClassifier'> - scaler: None, accuracy: 0.6193994715547848\u001b[0m\n",
      "\u001b[32m2024-05-22 15:39:29.326\u001b[0m | \u001b[1mINFO    \u001b[0m | \u001b[36mdata_processing.english_data_processing\u001b[0m:\u001b[36mevaluate_models\u001b[0m:\u001b[36m74\u001b[0m - \u001b[1mModel <class 'sklearn.ensemble._forest.RandomForestClassifier'> - scaler: StandardScaler(), accuracy: 0.6164002146808687\u001b[0m\n",
      "\u001b[32m2024-05-22 15:39:44.224\u001b[0m | \u001b[1mINFO    \u001b[0m | \u001b[36mdata_processing.english_data_processing\u001b[0m:\u001b[36mevaluate_models\u001b[0m:\u001b[36m74\u001b[0m - \u001b[1mModel <class 'sklearn.ensemble._forest.ExtraTreesClassifier'> - scaler: StandardScaler(), accuracy: 0.6231268268516226\u001b[0m\n",
      "\u001b[32m2024-05-22 15:40:52.045\u001b[0m | \u001b[1mINFO    \u001b[0m | \u001b[36mdata_processing.english_data_processing\u001b[0m:\u001b[36mevaluate_models\u001b[0m:\u001b[36m74\u001b[0m - \u001b[1mModel <class 'sklearn.ensemble._forest.RandomForestClassifier'> - scaler: MinMaxScaler(), accuracy: 0.6184898852283048\u001b[0m\n",
      "\u001b[32m2024-05-22 15:41:06.071\u001b[0m | \u001b[1mINFO    \u001b[0m | \u001b[36mdata_processing.english_data_processing\u001b[0m:\u001b[36mevaluate_models\u001b[0m:\u001b[36m74\u001b[0m - \u001b[1mModel <class 'sklearn.ensemble._forest.ExtraTreesClassifier'> - scaler: MinMaxScaler(), accuracy: 0.6173995541243498\u001b[0m\n",
      "\u001b[32m2024-05-22 15:42:10.390\u001b[0m | \u001b[1mINFO    \u001b[0m | \u001b[36mdata_processing.english_data_processing\u001b[0m:\u001b[36mevaluate_models\u001b[0m:\u001b[36m74\u001b[0m - \u001b[1mModel <class 'sklearn.ensemble._forest.RandomForestClassifier'> - scaler: MaxAbsScaler(), accuracy: 0.6165809594583437\u001b[0m\n",
      "\u001b[32m2024-05-22 15:42:24.255\u001b[0m | \u001b[1mINFO    \u001b[0m | \u001b[36mdata_processing.english_data_processing\u001b[0m:\u001b[36mevaluate_models\u001b[0m:\u001b[36m74\u001b[0m - \u001b[1mModel <class 'sklearn.ensemble._forest.ExtraTreesClassifier'> - scaler: MaxAbsScaler(), accuracy: 0.6200350094955\u001b[0m\n",
      "\u001b[32m2024-05-22 15:43:29.074\u001b[0m | \u001b[1mINFO    \u001b[0m | \u001b[36mdata_processing.english_data_processing\u001b[0m:\u001b[36mevaluate_models\u001b[0m:\u001b[36m74\u001b[0m - \u001b[1mModel <class 'sklearn.ensemble._forest.RandomForestClassifier'> - scaler: RobustScaler(), accuracy: 0.615946329782842\u001b[0m\n",
      "\u001b[32m2024-05-22 15:43:43.430\u001b[0m | \u001b[1mINFO    \u001b[0m | \u001b[36mdata_processing.english_data_processing\u001b[0m:\u001b[36mevaluate_models\u001b[0m:\u001b[36m74\u001b[0m - \u001b[1mModel <class 'sklearn.ensemble._forest.ExtraTreesClassifier'> - scaler: RobustScaler(), accuracy: 0.6159450912393691\u001b[0m\n",
      "\u001b[32m2024-05-22 15:44:46.638\u001b[0m | \u001b[1mINFO    \u001b[0m | \u001b[36mdata_processing.english_data_processing\u001b[0m:\u001b[36mevaluate_models\u001b[0m:\u001b[36m74\u001b[0m - \u001b[1mModel <class 'sklearn.ensemble._forest.RandomForestClassifier'> - scaler: Normalizer(), accuracy: 0.5927651721575428\u001b[0m\n",
      "\u001b[32m2024-05-22 15:45:01.809\u001b[0m | \u001b[1mINFO    \u001b[0m | \u001b[36mdata_processing.english_data_processing\u001b[0m:\u001b[36mevaluate_models\u001b[0m:\u001b[36m74\u001b[0m - \u001b[1mModel <class 'sklearn.ensemble._forest.ExtraTreesClassifier'> - scaler: Normalizer(), accuracy: 0.5944010403765172\u001b[0m\n",
      "\u001b[32m2024-05-22 15:45:01.809\u001b[0m | \u001b[1mINFO    \u001b[0m | \u001b[36mdata_processing.english_data_processing\u001b[0m:\u001b[36mevaluate_models\u001b[0m:\u001b[36m82\u001b[0m - \u001b[1mBest Model: <class 'sklearn.ensemble._forest.ExtraTreesClassifier'>\u001b[0m\n",
      "\u001b[32m2024-05-22 15:45:01.810\u001b[0m | \u001b[1mINFO    \u001b[0m | \u001b[36mdata_processing.english_data_processing\u001b[0m:\u001b[36mevaluate_models\u001b[0m:\u001b[36m83\u001b[0m - \u001b[1mBest Scaler: StandardScaler\u001b[0m\n",
      "\u001b[32m2024-05-22 15:45:01.811\u001b[0m | \u001b[1mINFO    \u001b[0m | \u001b[36mdata_processing.english_data_processing\u001b[0m:\u001b[36mevaluate_models\u001b[0m:\u001b[36m84\u001b[0m - \u001b[1mBest Average Accuracy: 0.6231268268516226\u001b[0m\n",
      "\u001b[32m2024-05-22 15:45:01.814\u001b[0m | \u001b[1mINFO    \u001b[0m | \u001b[36mfeature_extraction.feature_extractor\u001b[0m:\u001b[36mprocess_folder\u001b[0m:\u001b[36m148\u001b[0m - \u001b[1mProcessing input folder: D:/data_analysis/speech_emotion_recognition/data/EnglishDataset/cleaned_data1\u001b[0m\n"
     ]
    },
    {
     "name": "stdout",
     "output_type": "stream",
     "text": [
      "Scaler: StandardScaler, Model: <class 'sklearn.ensemble._forest.ExtraTreesClassifier'>, n_mfcc: 13, Selected features: ['mfcc', 'mfcc_statistics', 'zcr', 'rms'], Accuracy: 0.6231268268516226\n"
     ]
    },
    {
     "name": "stderr",
     "output_type": "stream",
     "text": [
      "\u001b[32m2024-05-22 15:46:45.026\u001b[0m | \u001b[1mINFO    \u001b[0m | \u001b[36mfeature_extraction.feature_extractor\u001b[0m:\u001b[36mprocess_folder\u001b[0m:\u001b[36m158\u001b[0m - \u001b[1mFeature extraction completed. Data saved to: D:/data_analysis/speech_emotion_recognition/notebooks/feature3.csv\u001b[0m\n",
      "\u001b[32m2024-05-22 15:46:45.132\u001b[0m | \u001b[1mINFO    \u001b[0m | \u001b[36mdata_processing.english_data_processing\u001b[0m:\u001b[36mevaluate_models\u001b[0m:\u001b[36m53\u001b[0m - \u001b[1mFinding best model....\u001b[0m\n",
      "\u001b[32m2024-05-22 15:47:54.589\u001b[0m | \u001b[1mINFO    \u001b[0m | \u001b[36mdata_processing.english_data_processing\u001b[0m:\u001b[36mevaluate_models\u001b[0m:\u001b[36m74\u001b[0m - \u001b[1mModel <class 'sklearn.ensemble._forest.RandomForestClassifier'> - scaler: None, accuracy: 0.6163089753117001\u001b[0m\n",
      "\u001b[32m2024-05-22 15:48:09.024\u001b[0m | \u001b[1mINFO    \u001b[0m | \u001b[36mdata_processing.english_data_processing\u001b[0m:\u001b[36mevaluate_models\u001b[0m:\u001b[36m74\u001b[0m - \u001b[1mModel <class 'sklearn.ensemble._forest.ExtraTreesClassifier'> - scaler: None, accuracy: 0.6179450912393692\u001b[0m\n",
      "\u001b[32m2024-05-22 15:49:18.792\u001b[0m | \u001b[1mINFO    \u001b[0m | \u001b[36mdata_processing.english_data_processing\u001b[0m:\u001b[36mevaluate_models\u001b[0m:\u001b[36m74\u001b[0m - \u001b[1mModel <class 'sklearn.ensemble._forest.RandomForestClassifier'> - scaler: StandardScaler(), accuracy: 0.6205806291800842\u001b[0m\n",
      "\u001b[32m2024-05-22 15:49:32.940\u001b[0m | \u001b[1mINFO    \u001b[0m | \u001b[36mdata_processing.english_data_processing\u001b[0m:\u001b[36mevaluate_models\u001b[0m:\u001b[36m74\u001b[0m - \u001b[1mModel <class 'sklearn.ensemble._forest.ExtraTreesClassifier'> - scaler: StandardScaler(), accuracy: 0.6185805466105194\u001b[0m\n",
      "\u001b[32m2024-05-22 15:50:37.428\u001b[0m | \u001b[1mINFO    \u001b[0m | \u001b[36mdata_processing.english_data_processing\u001b[0m:\u001b[36mevaluate_models\u001b[0m:\u001b[36m74\u001b[0m - \u001b[1mModel <class 'sklearn.ensemble._forest.RandomForestClassifier'> - scaler: MinMaxScaler(), accuracy: 0.62094459582198\u001b[0m\n",
      "\u001b[32m2024-05-22 15:50:51.167\u001b[0m | \u001b[1mINFO    \u001b[0m | \u001b[36mdata_processing.english_data_processing\u001b[0m:\u001b[36mevaluate_models\u001b[0m:\u001b[36m74\u001b[0m - \u001b[1mModel <class 'sklearn.ensemble._forest.ExtraTreesClassifier'> - scaler: MinMaxScaler(), accuracy: 0.6204908760630832\u001b[0m\n",
      "\u001b[32m2024-05-22 15:51:55.001\u001b[0m | \u001b[1mINFO    \u001b[0m | \u001b[36mdata_processing.english_data_processing\u001b[0m:\u001b[36mevaluate_models\u001b[0m:\u001b[36m74\u001b[0m - \u001b[1mModel <class 'sklearn.ensemble._forest.RandomForestClassifier'> - scaler: MaxAbsScaler(), accuracy: 0.6227619519445132\u001b[0m\n",
      "\u001b[32m2024-05-22 15:52:09.018\u001b[0m | \u001b[1mINFO    \u001b[0m | \u001b[36mdata_processing.english_data_processing\u001b[0m:\u001b[36mevaluate_models\u001b[0m:\u001b[36m74\u001b[0m - \u001b[1mModel <class 'sklearn.ensemble._forest.ExtraTreesClassifier'> - scaler: MaxAbsScaler(), accuracy: 0.6211259185864091\u001b[0m\n",
      "\u001b[32m2024-05-22 15:53:15.131\u001b[0m | \u001b[1mINFO    \u001b[0m | \u001b[36mdata_processing.english_data_processing\u001b[0m:\u001b[36mevaluate_models\u001b[0m:\u001b[36m74\u001b[0m - \u001b[1mModel <class 'sklearn.ensemble._forest.RandomForestClassifier'> - scaler: RobustScaler(), accuracy: 0.6204907934935183\u001b[0m\n",
      "\u001b[32m2024-05-22 15:53:30.153\u001b[0m | \u001b[1mINFO    \u001b[0m | \u001b[36mdata_processing.english_data_processing\u001b[0m:\u001b[36mevaluate_models\u001b[0m:\u001b[36m74\u001b[0m - \u001b[1mModel <class 'sklearn.ensemble._forest.ExtraTreesClassifier'> - scaler: RobustScaler(), accuracy: 0.6174916191891667\u001b[0m\n",
      "\u001b[32m2024-05-22 15:54:34.961\u001b[0m | \u001b[1mINFO    \u001b[0m | \u001b[36mdata_processing.english_data_processing\u001b[0m:\u001b[36mevaluate_models\u001b[0m:\u001b[36m74\u001b[0m - \u001b[1mModel <class 'sklearn.ensemble._forest.RandomForestClassifier'> - scaler: Normalizer(), accuracy: 0.5917647593097184\u001b[0m\n",
      "\u001b[32m2024-05-22 15:54:50.072\u001b[0m | \u001b[1mINFO    \u001b[0m | \u001b[36mdata_processing.english_data_processing\u001b[0m:\u001b[36mevaluate_models\u001b[0m:\u001b[36m74\u001b[0m - \u001b[1mModel <class 'sklearn.ensemble._forest.ExtraTreesClassifier'> - scaler: Normalizer(), accuracy: 0.5896750061927174\u001b[0m\n",
      "\u001b[32m2024-05-22 15:54:50.072\u001b[0m | \u001b[1mINFO    \u001b[0m | \u001b[36mdata_processing.english_data_processing\u001b[0m:\u001b[36mevaluate_models\u001b[0m:\u001b[36m82\u001b[0m - \u001b[1mBest Model: <class 'sklearn.ensemble._forest.RandomForestClassifier'>\u001b[0m\n",
      "\u001b[32m2024-05-22 15:54:50.073\u001b[0m | \u001b[1mINFO    \u001b[0m | \u001b[36mdata_processing.english_data_processing\u001b[0m:\u001b[36mevaluate_models\u001b[0m:\u001b[36m83\u001b[0m - \u001b[1mBest Scaler: MaxAbsScaler\u001b[0m\n",
      "\u001b[32m2024-05-22 15:54:50.073\u001b[0m | \u001b[1mINFO    \u001b[0m | \u001b[36mdata_processing.english_data_processing\u001b[0m:\u001b[36mevaluate_models\u001b[0m:\u001b[36m84\u001b[0m - \u001b[1mBest Average Accuracy: 0.6227619519445132\u001b[0m\n",
      "\u001b[32m2024-05-22 15:54:50.076\u001b[0m | \u001b[1mINFO    \u001b[0m | \u001b[36mfeature_extraction.feature_extractor\u001b[0m:\u001b[36mprocess_folder\u001b[0m:\u001b[36m148\u001b[0m - \u001b[1mProcessing input folder: D:/data_analysis/speech_emotion_recognition/data/EnglishDataset/cleaned_data1\u001b[0m\n"
     ]
    },
    {
     "name": "stdout",
     "output_type": "stream",
     "text": [
      "Scaler: MaxAbsScaler, Model: <class 'sklearn.ensemble._forest.RandomForestClassifier'>, n_mfcc: 13, Selected features: ['mfcc', 'mfcc_statistics', 'zcr', 'pitch'], Accuracy: 0.6227619519445132\n"
     ]
    },
    {
     "name": "stderr",
     "output_type": "stream",
     "text": [
      "\u001b[32m2024-05-22 15:55:34.271\u001b[0m | \u001b[1mINFO    \u001b[0m | \u001b[36mfeature_extraction.feature_extractor\u001b[0m:\u001b[36mprocess_folder\u001b[0m:\u001b[36m158\u001b[0m - \u001b[1mFeature extraction completed. Data saved to: D:/data_analysis/speech_emotion_recognition/notebooks/feature3.csv\u001b[0m\n",
      "\u001b[32m2024-05-22 15:55:34.298\u001b[0m | \u001b[1mINFO    \u001b[0m | \u001b[36mdata_processing.english_data_processing\u001b[0m:\u001b[36mevaluate_models\u001b[0m:\u001b[36m53\u001b[0m - \u001b[1mFinding best model....\u001b[0m\n",
      "\u001b[32m2024-05-22 15:55:58.483\u001b[0m | \u001b[1mINFO    \u001b[0m | \u001b[36mdata_processing.english_data_processing\u001b[0m:\u001b[36mevaluate_models\u001b[0m:\u001b[36m74\u001b[0m - \u001b[1mModel <class 'sklearn.ensemble._forest.RandomForestClassifier'> - scaler: None, accuracy: 0.5198614482701677\u001b[0m\n",
      "\u001b[32m2024-05-22 15:56:07.406\u001b[0m | \u001b[1mINFO    \u001b[0m | \u001b[36mdata_processing.english_data_processing\u001b[0m:\u001b[36mevaluate_models\u001b[0m:\u001b[36m74\u001b[0m - \u001b[1mModel <class 'sklearn.ensemble._forest.ExtraTreesClassifier'> - scaler: None, accuracy: 0.524315993724713\u001b[0m\n",
      "\u001b[32m2024-05-22 15:56:31.654\u001b[0m | \u001b[1mINFO    \u001b[0m | \u001b[36mdata_processing.english_data_processing\u001b[0m:\u001b[36mevaluate_models\u001b[0m:\u001b[36m74\u001b[0m - \u001b[1mModel <class 'sklearn.ensemble._forest.RandomForestClassifier'> - scaler: StandardScaler(), accuracy: 0.5213169845594914\u001b[0m\n",
      "\u001b[32m2024-05-22 15:56:40.373\u001b[0m | \u001b[1mINFO    \u001b[0m | \u001b[36mdata_processing.english_data_processing\u001b[0m:\u001b[36mevaluate_models\u001b[0m:\u001b[36m74\u001b[0m - \u001b[1mModel <class 'sklearn.ensemble._forest.ExtraTreesClassifier'> - scaler: StandardScaler(), accuracy: 0.5187716951531666\u001b[0m\n",
      "\u001b[32m2024-05-22 15:57:04.850\u001b[0m | \u001b[1mINFO    \u001b[0m | \u001b[36mdata_processing.english_data_processing\u001b[0m:\u001b[36mevaluate_models\u001b[0m:\u001b[36m74\u001b[0m - \u001b[1mModel <class 'sklearn.ensemble._forest.RandomForestClassifier'> - scaler: MinMaxScaler(), accuracy: 0.5284081413590951\u001b[0m\n",
      "\u001b[32m2024-05-22 15:57:13.878\u001b[0m | \u001b[1mINFO    \u001b[0m | \u001b[36mdata_processing.english_data_processing\u001b[0m:\u001b[36mevaluate_models\u001b[0m:\u001b[36m74\u001b[0m - \u001b[1mModel <class 'sklearn.ensemble._forest.ExtraTreesClassifier'> - scaler: MinMaxScaler(), accuracy: 0.5185901246800428\u001b[0m\n",
      "\u001b[32m2024-05-22 15:57:38.060\u001b[0m | \u001b[1mINFO    \u001b[0m | \u001b[36mdata_processing.english_data_processing\u001b[0m:\u001b[36mevaluate_models\u001b[0m:\u001b[36m74\u001b[0m - \u001b[1mModel <class 'sklearn.ensemble._forest.RandomForestClassifier'> - scaler: MaxAbsScaler(), accuracy: 0.5184978944760962\u001b[0m\n",
      "\u001b[32m2024-05-22 15:57:46.674\u001b[0m | \u001b[1mINFO    \u001b[0m | \u001b[36mdata_processing.english_data_processing\u001b[0m:\u001b[36mevaluate_models\u001b[0m:\u001b[36m74\u001b[0m - \u001b[1mModel <class 'sklearn.ensemble._forest.ExtraTreesClassifier'> - scaler: MaxAbsScaler(), accuracy: 0.5214082239286599\u001b[0m\n",
      "\u001b[32m2024-05-22 15:58:09.682\u001b[0m | \u001b[1mINFO    \u001b[0m | \u001b[36mdata_processing.english_data_processing\u001b[0m:\u001b[36mevaluate_models\u001b[0m:\u001b[36m74\u001b[0m - \u001b[1mModel <class 'sklearn.ensemble._forest.RandomForestClassifier'> - scaler: RobustScaler(), accuracy: 0.5234076459417059\u001b[0m\n",
      "\u001b[32m2024-05-22 15:58:17.938\u001b[0m | \u001b[1mINFO    \u001b[0m | \u001b[36mdata_processing.english_data_processing\u001b[0m:\u001b[36mevaluate_models\u001b[0m:\u001b[36m74\u001b[0m - \u001b[1mModel <class 'sklearn.ensemble._forest.ExtraTreesClassifier'> - scaler: RobustScaler(), accuracy: 0.5245891338452646\u001b[0m\n",
      "\u001b[32m2024-05-22 15:58:42.320\u001b[0m | \u001b[1mINFO    \u001b[0m | \u001b[36mdata_processing.english_data_processing\u001b[0m:\u001b[36mevaluate_models\u001b[0m:\u001b[36m74\u001b[0m - \u001b[1mModel <class 'sklearn.ensemble._forest.RandomForestClassifier'> - scaler: Normalizer(), accuracy: 0.49249855503261497\u001b[0m\n",
      "\u001b[32m2024-05-22 15:58:51.335\u001b[0m | \u001b[1mINFO    \u001b[0m | \u001b[36mdata_processing.english_data_processing\u001b[0m:\u001b[36mevaluate_models\u001b[0m:\u001b[36m74\u001b[0m - \u001b[1mModel <class 'sklearn.ensemble._forest.ExtraTreesClassifier'> - scaler: Normalizer(), accuracy: 0.48222772685987947\u001b[0m\n",
      "\u001b[32m2024-05-22 15:58:51.336\u001b[0m | \u001b[1mINFO    \u001b[0m | \u001b[36mdata_processing.english_data_processing\u001b[0m:\u001b[36mevaluate_models\u001b[0m:\u001b[36m82\u001b[0m - \u001b[1mBest Model: <class 'sklearn.ensemble._forest.RandomForestClassifier'>\u001b[0m\n",
      "\u001b[32m2024-05-22 15:58:51.337\u001b[0m | \u001b[1mINFO    \u001b[0m | \u001b[36mdata_processing.english_data_processing\u001b[0m:\u001b[36mevaluate_models\u001b[0m:\u001b[36m83\u001b[0m - \u001b[1mBest Scaler: MinMaxScaler\u001b[0m\n",
      "\u001b[32m2024-05-22 15:58:51.337\u001b[0m | \u001b[1mINFO    \u001b[0m | \u001b[36mdata_processing.english_data_processing\u001b[0m:\u001b[36mevaluate_models\u001b[0m:\u001b[36m84\u001b[0m - \u001b[1mBest Average Accuracy: 0.5284081413590951\u001b[0m\n",
      "\u001b[32m2024-05-22 15:58:51.339\u001b[0m | \u001b[1mINFO    \u001b[0m | \u001b[36mfeature_extraction.feature_extractor\u001b[0m:\u001b[36mprocess_folder\u001b[0m:\u001b[36m148\u001b[0m - \u001b[1mProcessing input folder: D:/data_analysis/speech_emotion_recognition/data/EnglishDataset/cleaned_data1\u001b[0m\n"
     ]
    },
    {
     "name": "stdout",
     "output_type": "stream",
     "text": [
      "Scaler: MinMaxScaler, Model: <class 'sklearn.ensemble._forest.RandomForestClassifier'>, n_mfcc: 13, Selected features: ['zcr', 'pitch', 'rms'], Accuracy: 0.5284081413590951\n"
     ]
    },
    {
     "name": "stderr",
     "output_type": "stream",
     "text": [
      "\u001b[32m2024-05-22 16:00:03.522\u001b[0m | \u001b[1mINFO    \u001b[0m | \u001b[36mfeature_extraction.feature_extractor\u001b[0m:\u001b[36mprocess_folder\u001b[0m:\u001b[36m158\u001b[0m - \u001b[1mFeature extraction completed. Data saved to: D:/data_analysis/speech_emotion_recognition/notebooks/feature3.csv\u001b[0m\n",
      "\u001b[32m2024-05-22 16:00:03.615\u001b[0m | \u001b[1mINFO    \u001b[0m | \u001b[36mdata_processing.english_data_processing\u001b[0m:\u001b[36mevaluate_models\u001b[0m:\u001b[36m53\u001b[0m - \u001b[1mFinding best model....\u001b[0m\n",
      "\u001b[32m2024-05-22 16:01:05.553\u001b[0m | \u001b[1mINFO    \u001b[0m | \u001b[36mdata_processing.english_data_processing\u001b[0m:\u001b[36mevaluate_models\u001b[0m:\u001b[36m74\u001b[0m - \u001b[1mModel <class 'sklearn.ensemble._forest.RandomForestClassifier'> - scaler: None, accuracy: 0.6195811245974733\u001b[0m\n",
      "\u001b[32m2024-05-22 16:01:18.668\u001b[0m | \u001b[1mINFO    \u001b[0m | \u001b[36mdata_processing.english_data_processing\u001b[0m:\u001b[36mevaluate_models\u001b[0m:\u001b[36m74\u001b[0m - \u001b[1mModel <class 'sklearn.ensemble._forest.ExtraTreesClassifier'> - scaler: None, accuracy: 0.6246723639666418\u001b[0m\n",
      "\u001b[32m2024-05-22 16:02:18.859\u001b[0m | \u001b[1mINFO    \u001b[0m | \u001b[36mdata_processing.english_data_processing\u001b[0m:\u001b[36mevaluate_models\u001b[0m:\u001b[36m74\u001b[0m - \u001b[1mModel <class 'sklearn.ensemble._forest.RandomForestClassifier'> - scaler: StandardScaler(), accuracy: 0.6226724465362068\u001b[0m\n",
      "\u001b[32m2024-05-22 16:02:32.957\u001b[0m | \u001b[1mINFO    \u001b[0m | \u001b[36mdata_processing.english_data_processing\u001b[0m:\u001b[36mevaluate_models\u001b[0m:\u001b[36m74\u001b[0m - \u001b[1mModel <class 'sklearn.ensemble._forest.ExtraTreesClassifier'> - scaler: StandardScaler(), accuracy: 0.6203984807200066\u001b[0m\n",
      "\u001b[32m2024-05-22 16:03:33.066\u001b[0m | \u001b[1mINFO    \u001b[0m | \u001b[36mdata_processing.english_data_processing\u001b[0m:\u001b[36mevaluate_models\u001b[0m:\u001b[36m74\u001b[0m - \u001b[1mModel <class 'sklearn.ensemble._forest.RandomForestClassifier'> - scaler: MinMaxScaler(), accuracy: 0.6188534390223764\u001b[0m\n",
      "\u001b[32m2024-05-22 16:03:46.625\u001b[0m | \u001b[1mINFO    \u001b[0m | \u001b[36mdata_processing.english_data_processing\u001b[0m:\u001b[36mevaluate_models\u001b[0m:\u001b[36m74\u001b[0m - \u001b[1mModel <class 'sklearn.ensemble._forest.ExtraTreesClassifier'> - scaler: MinMaxScaler(), accuracy: 0.6227621170836429\u001b[0m\n",
      "\u001b[32m2024-05-22 16:04:49.482\u001b[0m | \u001b[1mINFO    \u001b[0m | \u001b[36mdata_processing.english_data_processing\u001b[0m:\u001b[36mevaluate_models\u001b[0m:\u001b[36m74\u001b[0m - \u001b[1mModel <class 'sklearn.ensemble._forest.RandomForestClassifier'> - scaler: MaxAbsScaler(), accuracy: 0.6172178185120964\u001b[0m\n",
      "\u001b[32m2024-05-22 16:05:03.178\u001b[0m | \u001b[1mINFO    \u001b[0m | \u001b[36mdata_processing.english_data_processing\u001b[0m:\u001b[36mevaluate_models\u001b[0m:\u001b[36m74\u001b[0m - \u001b[1mModel <class 'sklearn.ensemble._forest.ExtraTreesClassifier'> - scaler: MaxAbsScaler(), accuracy: 0.620761539096689\u001b[0m\n",
      "\u001b[32m2024-05-22 16:06:05.062\u001b[0m | \u001b[1mINFO    \u001b[0m | \u001b[36mdata_processing.english_data_processing\u001b[0m:\u001b[36mevaluate_models\u001b[0m:\u001b[36m74\u001b[0m - \u001b[1mModel <class 'sklearn.ensemble._forest.RandomForestClassifier'> - scaler: RobustScaler(), accuracy: 0.6196716208405582\u001b[0m\n",
      "\u001b[32m2024-05-22 16:06:17.931\u001b[0m | \u001b[1mINFO    \u001b[0m | \u001b[36mdata_processing.english_data_processing\u001b[0m:\u001b[36mevaluate_models\u001b[0m:\u001b[36m74\u001b[0m - \u001b[1mModel <class 'sklearn.ensemble._forest.ExtraTreesClassifier'> - scaler: RobustScaler(), accuracy: 0.6225816200148626\u001b[0m\n",
      "\u001b[32m2024-05-22 16:07:14.448\u001b[0m | \u001b[1mINFO    \u001b[0m | \u001b[36mdata_processing.english_data_processing\u001b[0m:\u001b[36mevaluate_models\u001b[0m:\u001b[36m74\u001b[0m - \u001b[1mModel <class 'sklearn.ensemble._forest.RandomForestClassifier'> - scaler: Normalizer(), accuracy: 0.5963102964247378\u001b[0m\n",
      "\u001b[32m2024-05-22 16:07:28.603\u001b[0m | \u001b[1mINFO    \u001b[0m | \u001b[36mdata_processing.english_data_processing\u001b[0m:\u001b[36mevaluate_models\u001b[0m:\u001b[36m74\u001b[0m - \u001b[1mModel <class 'sklearn.ensemble._forest.ExtraTreesClassifier'> - scaler: Normalizer(), accuracy: 0.5954007100982578\u001b[0m\n",
      "\u001b[32m2024-05-22 16:07:28.604\u001b[0m | \u001b[1mINFO    \u001b[0m | \u001b[36mdata_processing.english_data_processing\u001b[0m:\u001b[36mevaluate_models\u001b[0m:\u001b[36m82\u001b[0m - \u001b[1mBest Model: <class 'sklearn.ensemble._forest.ExtraTreesClassifier'>\u001b[0m\n",
      "\u001b[32m2024-05-22 16:07:28.605\u001b[0m | \u001b[1mINFO    \u001b[0m | \u001b[36mdata_processing.english_data_processing\u001b[0m:\u001b[36mevaluate_models\u001b[0m:\u001b[36m83\u001b[0m - \u001b[1mBest Scaler: None\u001b[0m\n",
      "\u001b[32m2024-05-22 16:07:28.605\u001b[0m | \u001b[1mINFO    \u001b[0m | \u001b[36mdata_processing.english_data_processing\u001b[0m:\u001b[36mevaluate_models\u001b[0m:\u001b[36m84\u001b[0m - \u001b[1mBest Average Accuracy: 0.6246723639666418\u001b[0m\n",
      "\u001b[32m2024-05-22 16:07:28.608\u001b[0m | \u001b[1mINFO    \u001b[0m | \u001b[36mfeature_extraction.feature_extractor\u001b[0m:\u001b[36mprocess_folder\u001b[0m:\u001b[36m148\u001b[0m - \u001b[1mProcessing input folder: D:/data_analysis/speech_emotion_recognition/data/EnglishDataset/cleaned_data1\u001b[0m\n"
     ]
    },
    {
     "name": "stdout",
     "output_type": "stream",
     "text": [
      "Scaler: None, Model: <class 'sklearn.ensemble._forest.ExtraTreesClassifier'>, n_mfcc: 13, Selected features: ['mfcc_statistics', 'pitch', 'rms'], Accuracy: 0.6246723639666418\n"
     ]
    },
    {
     "name": "stderr",
     "output_type": "stream",
     "text": [
      "\u001b[32m2024-05-22 16:08:24.888\u001b[0m | \u001b[1mINFO    \u001b[0m | \u001b[36mfeature_extraction.feature_extractor\u001b[0m:\u001b[36mprocess_folder\u001b[0m:\u001b[36m158\u001b[0m - \u001b[1mFeature extraction completed. Data saved to: D:/data_analysis/speech_emotion_recognition/notebooks/feature3.csv\u001b[0m\n",
      "\u001b[32m2024-05-22 16:08:24.969\u001b[0m | \u001b[1mINFO    \u001b[0m | \u001b[36mdata_processing.english_data_processing\u001b[0m:\u001b[36mevaluate_models\u001b[0m:\u001b[36m53\u001b[0m - \u001b[1mFinding best model....\u001b[0m\n",
      "\u001b[32m2024-05-22 16:09:25.833\u001b[0m | \u001b[1mINFO    \u001b[0m | \u001b[36mdata_processing.english_data_processing\u001b[0m:\u001b[36mevaluate_models\u001b[0m:\u001b[36m74\u001b[0m - \u001b[1mModel <class 'sklearn.ensemble._forest.RandomForestClassifier'> - scaler: None, accuracy: 0.6186728593840309\u001b[0m\n",
      "\u001b[32m2024-05-22 16:09:40.108\u001b[0m | \u001b[1mINFO    \u001b[0m | \u001b[36mdata_processing.english_data_processing\u001b[0m:\u001b[36mevaluate_models\u001b[0m:\u001b[36m74\u001b[0m - \u001b[1mModel <class 'sklearn.ensemble._forest.ExtraTreesClassifier'> - scaler: None, accuracy: 0.6162179836512262\u001b[0m\n",
      "\u001b[32m2024-05-22 16:10:43.536\u001b[0m | \u001b[1mINFO    \u001b[0m | \u001b[36mdata_processing.english_data_processing\u001b[0m:\u001b[36mevaluate_models\u001b[0m:\u001b[36m74\u001b[0m - \u001b[1mModel <class 'sklearn.ensemble._forest.RandomForestClassifier'> - scaler: StandardScaler(), accuracy: 0.6175808768887787\u001b[0m\n",
      "\u001b[32m2024-05-22 16:10:57.854\u001b[0m | \u001b[1mINFO    \u001b[0m | \u001b[36mdata_processing.english_data_processing\u001b[0m:\u001b[36mevaluate_models\u001b[0m:\u001b[36m74\u001b[0m - \u001b[1mModel <class 'sklearn.ensemble._forest.ExtraTreesClassifier'> - scaler: StandardScaler(), accuracy: 0.6197631904879862\u001b[0m\n",
      "\u001b[32m2024-05-22 16:11:58.130\u001b[0m | \u001b[1mINFO    \u001b[0m | \u001b[36mdata_processing.english_data_processing\u001b[0m:\u001b[36mevaluate_models\u001b[0m:\u001b[36m74\u001b[0m - \u001b[1mModel <class 'sklearn.ensemble._forest.RandomForestClassifier'> - scaler: MinMaxScaler(), accuracy: 0.6205815374452976\u001b[0m\n",
      "\u001b[32m2024-05-22 16:12:10.926\u001b[0m | \u001b[1mINFO    \u001b[0m | \u001b[36mdata_processing.english_data_processing\u001b[0m:\u001b[36mevaluate_models\u001b[0m:\u001b[36m74\u001b[0m - \u001b[1mModel <class 'sklearn.ensemble._forest.ExtraTreesClassifier'> - scaler: MinMaxScaler(), accuracy: 0.6211266617124929\u001b[0m\n",
      "\u001b[32m2024-05-22 16:13:13.753\u001b[0m | \u001b[1mINFO    \u001b[0m | \u001b[36mdata_processing.english_data_processing\u001b[0m:\u001b[36mevaluate_models\u001b[0m:\u001b[36m74\u001b[0m - \u001b[1mModel <class 'sklearn.ensemble._forest.RandomForestClassifier'> - scaler: MaxAbsScaler(), accuracy: 0.617854842704979\u001b[0m\n",
      "\u001b[32m2024-05-22 16:13:28.009\u001b[0m | \u001b[1mINFO    \u001b[0m | \u001b[36mdata_processing.english_data_processing\u001b[0m:\u001b[36mevaluate_models\u001b[0m:\u001b[36m74\u001b[0m - \u001b[1mModel <class 'sklearn.ensemble._forest.ExtraTreesClassifier'> - scaler: MaxAbsScaler(), accuracy: 0.6182187267773098\u001b[0m\n",
      "\u001b[32m2024-05-22 16:14:27.370\u001b[0m | \u001b[1mINFO    \u001b[0m | \u001b[36mdata_processing.english_data_processing\u001b[0m:\u001b[36mevaluate_models\u001b[0m:\u001b[36m74\u001b[0m - \u001b[1mModel <class 'sklearn.ensemble._forest.RandomForestClassifier'> - scaler: RobustScaler(), accuracy: 0.6145809594583438\u001b[0m\n",
      "\u001b[32m2024-05-22 16:14:40.295\u001b[0m | \u001b[1mINFO    \u001b[0m | \u001b[36mdata_processing.english_data_processing\u001b[0m:\u001b[36mevaluate_models\u001b[0m:\u001b[36m74\u001b[0m - \u001b[1mModel <class 'sklearn.ensemble._forest.ExtraTreesClassifier'> - scaler: RobustScaler(), accuracy: 0.6186721162579473\u001b[0m\n",
      "\u001b[32m2024-05-22 16:15:34.679\u001b[0m | \u001b[1mINFO    \u001b[0m | \u001b[36mdata_processing.english_data_processing\u001b[0m:\u001b[36mevaluate_models\u001b[0m:\u001b[36m74\u001b[0m - \u001b[1mModel <class 'sklearn.ensemble._forest.RandomForestClassifier'> - scaler: Normalizer(), accuracy: 0.5895826108496408\u001b[0m\n",
      "\u001b[32m2024-05-22 16:15:47.904\u001b[0m | \u001b[1mINFO    \u001b[0m | \u001b[36mdata_processing.english_data_processing\u001b[0m:\u001b[36mevaluate_models\u001b[0m:\u001b[36m74\u001b[0m - \u001b[1mModel <class 'sklearn.ensemble._forest.ExtraTreesClassifier'> - scaler: Normalizer(), accuracy: 0.5954025266286848\u001b[0m\n",
      "\u001b[32m2024-05-22 16:15:47.904\u001b[0m | \u001b[1mINFO    \u001b[0m | \u001b[36mdata_processing.english_data_processing\u001b[0m:\u001b[36mevaluate_models\u001b[0m:\u001b[36m82\u001b[0m - \u001b[1mBest Model: <class 'sklearn.ensemble._forest.ExtraTreesClassifier'>\u001b[0m\n",
      "\u001b[32m2024-05-22 16:15:47.904\u001b[0m | \u001b[1mINFO    \u001b[0m | \u001b[36mdata_processing.english_data_processing\u001b[0m:\u001b[36mevaluate_models\u001b[0m:\u001b[36m83\u001b[0m - \u001b[1mBest Scaler: MinMaxScaler\u001b[0m\n",
      "\u001b[32m2024-05-22 16:15:47.905\u001b[0m | \u001b[1mINFO    \u001b[0m | \u001b[36mdata_processing.english_data_processing\u001b[0m:\u001b[36mevaluate_models\u001b[0m:\u001b[36m84\u001b[0m - \u001b[1mBest Average Accuracy: 0.6211266617124929\u001b[0m\n",
      "\u001b[32m2024-05-22 16:15:47.907\u001b[0m | \u001b[1mINFO    \u001b[0m | \u001b[36mfeature_extraction.feature_extractor\u001b[0m:\u001b[36mprocess_folder\u001b[0m:\u001b[36m148\u001b[0m - \u001b[1mProcessing input folder: D:/data_analysis/speech_emotion_recognition/data/EnglishDataset/cleaned_data1\u001b[0m\n"
     ]
    },
    {
     "name": "stdout",
     "output_type": "stream",
     "text": [
      "Scaler: MinMaxScaler, Model: <class 'sklearn.ensemble._forest.ExtraTreesClassifier'>, n_mfcc: 13, Selected features: ['mfcc_statistics', 'zcr', 'rms'], Accuracy: 0.6211266617124929\n"
     ]
    },
    {
     "name": "stderr",
     "output_type": "stream",
     "text": [
      "\u001b[32m2024-05-22 16:16:58.758\u001b[0m | \u001b[1mINFO    \u001b[0m | \u001b[36mfeature_extraction.feature_extractor\u001b[0m:\u001b[36mprocess_folder\u001b[0m:\u001b[36m158\u001b[0m - \u001b[1mFeature extraction completed. Data saved to: D:/data_analysis/speech_emotion_recognition/notebooks/feature3.csv\u001b[0m\n",
      "\u001b[32m2024-05-22 16:16:58.835\u001b[0m | \u001b[1mINFO    \u001b[0m | \u001b[36mdata_processing.english_data_processing\u001b[0m:\u001b[36mevaluate_models\u001b[0m:\u001b[36m53\u001b[0m - \u001b[1mFinding best model....\u001b[0m\n",
      "\u001b[32m2024-05-22 16:17:57.695\u001b[0m | \u001b[1mINFO    \u001b[0m | \u001b[36mdata_processing.english_data_processing\u001b[0m:\u001b[36mevaluate_models\u001b[0m:\u001b[36m74\u001b[0m - \u001b[1mModel <class 'sklearn.ensemble._forest.RandomForestClassifier'> - scaler: None, accuracy: 0.6204897200891751\u001b[0m\n",
      "\u001b[32m2024-05-22 16:18:11.503\u001b[0m | \u001b[1mINFO    \u001b[0m | \u001b[36mdata_processing.english_data_processing\u001b[0m:\u001b[36mevaluate_models\u001b[0m:\u001b[36m74\u001b[0m - \u001b[1mModel <class 'sklearn.ensemble._forest.ExtraTreesClassifier'> - scaler: None, accuracy: 0.618670547436215\u001b[0m\n",
      "\u001b[32m2024-05-22 16:19:13.579\u001b[0m | \u001b[1mINFO    \u001b[0m | \u001b[36mdata_processing.english_data_processing\u001b[0m:\u001b[36mevaluate_models\u001b[0m:\u001b[36m74\u001b[0m - \u001b[1mModel <class 'sklearn.ensemble._forest.RandomForestClassifier'> - scaler: StandardScaler(), accuracy: 0.6203993064156552\u001b[0m\n",
      "\u001b[32m2024-05-22 16:19:27.808\u001b[0m | \u001b[1mINFO    \u001b[0m | \u001b[36mdata_processing.english_data_processing\u001b[0m:\u001b[36mevaluate_models\u001b[0m:\u001b[36m74\u001b[0m - \u001b[1mModel <class 'sklearn.ensemble._forest.ExtraTreesClassifier'> - scaler: StandardScaler(), accuracy: 0.6199445958219801\u001b[0m\n",
      "\u001b[32m2024-05-22 16:20:30.792\u001b[0m | \u001b[1mINFO    \u001b[0m | \u001b[36mdata_processing.english_data_processing\u001b[0m:\u001b[36mevaluate_models\u001b[0m:\u001b[36m74\u001b[0m - \u001b[1mModel <class 'sklearn.ensemble._forest.RandomForestClassifier'> - scaler: MinMaxScaler(), accuracy: 0.6173995541243498\u001b[0m\n",
      "\u001b[32m2024-05-22 16:20:45.109\u001b[0m | \u001b[1mINFO    \u001b[0m | \u001b[36mdata_processing.english_data_processing\u001b[0m:\u001b[36mevaluate_models\u001b[0m:\u001b[36m74\u001b[0m - \u001b[1mModel <class 'sklearn.ensemble._forest.ExtraTreesClassifier'> - scaler: MinMaxScaler(), accuracy: 0.6136721162579473\u001b[0m\n",
      "\u001b[32m2024-05-22 16:21:46.049\u001b[0m | \u001b[1mINFO    \u001b[0m | \u001b[36mdata_processing.english_data_processing\u001b[0m:\u001b[36mevaluate_models\u001b[0m:\u001b[36m74\u001b[0m - \u001b[1mModel <class 'sklearn.ensemble._forest.RandomForestClassifier'> - scaler: MaxAbsScaler(), accuracy: 0.6185802989018249\u001b[0m\n",
      "\u001b[32m2024-05-22 16:21:59.025\u001b[0m | \u001b[1mINFO    \u001b[0m | \u001b[36mdata_processing.english_data_processing\u001b[0m:\u001b[36mevaluate_models\u001b[0m:\u001b[36m74\u001b[0m - \u001b[1mModel <class 'sklearn.ensemble._forest.ExtraTreesClassifier'> - scaler: MaxAbsScaler(), accuracy: 0.6144902155065642\u001b[0m\n",
      "\u001b[32m2024-05-22 16:23:01.374\u001b[0m | \u001b[1mINFO    \u001b[0m | \u001b[36mdata_processing.english_data_processing\u001b[0m:\u001b[36mevaluate_models\u001b[0m:\u001b[36m74\u001b[0m - \u001b[1mModel <class 'sklearn.ensemble._forest.RandomForestClassifier'> - scaler: RobustScaler(), accuracy: 0.6185821154322517\u001b[0m\n",
      "\u001b[32m2024-05-22 16:23:15.955\u001b[0m | \u001b[1mINFO    \u001b[0m | \u001b[36mdata_processing.english_data_processing\u001b[0m:\u001b[36mevaluate_models\u001b[0m:\u001b[36m74\u001b[0m - \u001b[1mModel <class 'sklearn.ensemble._forest.ExtraTreesClassifier'> - scaler: RobustScaler(), accuracy: 0.6143988109982661\u001b[0m\n",
      "\u001b[32m2024-05-22 16:24:13.703\u001b[0m | \u001b[1mINFO    \u001b[0m | \u001b[36mdata_processing.english_data_processing\u001b[0m:\u001b[36mevaluate_models\u001b[0m:\u001b[36m74\u001b[0m - \u001b[1mModel <class 'sklearn.ensemble._forest.RandomForestClassifier'> - scaler: Normalizer(), accuracy: 0.5855844273800677\u001b[0m\n",
      "\u001b[32m2024-05-22 16:24:26.775\u001b[0m | \u001b[1mINFO    \u001b[0m | \u001b[36mdata_processing.english_data_processing\u001b[0m:\u001b[36mevaluate_models\u001b[0m:\u001b[36m74\u001b[0m - \u001b[1mModel <class 'sklearn.ensemble._forest.ExtraTreesClassifier'> - scaler: Normalizer(), accuracy: 0.5880385599867888\u001b[0m\n",
      "\u001b[32m2024-05-22 16:24:26.776\u001b[0m | \u001b[1mINFO    \u001b[0m | \u001b[36mdata_processing.english_data_processing\u001b[0m:\u001b[36mevaluate_models\u001b[0m:\u001b[36m82\u001b[0m - \u001b[1mBest Model: <class 'sklearn.ensemble._forest.RandomForestClassifier'>\u001b[0m\n",
      "\u001b[32m2024-05-22 16:24:26.776\u001b[0m | \u001b[1mINFO    \u001b[0m | \u001b[36mdata_processing.english_data_processing\u001b[0m:\u001b[36mevaluate_models\u001b[0m:\u001b[36m83\u001b[0m - \u001b[1mBest Scaler: None\u001b[0m\n",
      "\u001b[32m2024-05-22 16:24:26.777\u001b[0m | \u001b[1mINFO    \u001b[0m | \u001b[36mdata_processing.english_data_processing\u001b[0m:\u001b[36mevaluate_models\u001b[0m:\u001b[36m84\u001b[0m - \u001b[1mBest Average Accuracy: 0.6204897200891751\u001b[0m\n",
      "\u001b[32m2024-05-22 16:24:26.778\u001b[0m | \u001b[1mINFO    \u001b[0m | \u001b[36mfeature_extraction.feature_extractor\u001b[0m:\u001b[36mprocess_folder\u001b[0m:\u001b[36m148\u001b[0m - \u001b[1mProcessing input folder: D:/data_analysis/speech_emotion_recognition/data/EnglishDataset/cleaned_data1\u001b[0m\n"
     ]
    },
    {
     "name": "stdout",
     "output_type": "stream",
     "text": [
      "Scaler: None, Model: <class 'sklearn.ensemble._forest.RandomForestClassifier'>, n_mfcc: 13, Selected features: ['mfcc_statistics', 'zcr', 'pitch'], Accuracy: 0.6204897200891751\n"
     ]
    },
    {
     "name": "stderr",
     "output_type": "stream",
     "text": [
      "\u001b[32m2024-05-22 16:25:34.494\u001b[0m | \u001b[1mINFO    \u001b[0m | \u001b[36mfeature_extraction.feature_extractor\u001b[0m:\u001b[36mprocess_folder\u001b[0m:\u001b[36m158\u001b[0m - \u001b[1mFeature extraction completed. Data saved to: D:/data_analysis/speech_emotion_recognition/notebooks/feature3.csv\u001b[0m\n",
      "\u001b[32m2024-05-22 16:25:34.526\u001b[0m | \u001b[1mINFO    \u001b[0m | \u001b[36mdata_processing.english_data_processing\u001b[0m:\u001b[36mevaluate_models\u001b[0m:\u001b[36m53\u001b[0m - \u001b[1mFinding best model....\u001b[0m\n",
      "\u001b[32m2024-05-22 16:26:05.938\u001b[0m | \u001b[1mINFO    \u001b[0m | \u001b[36mdata_processing.english_data_processing\u001b[0m:\u001b[36mevaluate_models\u001b[0m:\u001b[36m74\u001b[0m - \u001b[1mModel <class 'sklearn.ensemble._forest.RandomForestClassifier'> - scaler: None, accuracy: 0.5931274874081414\u001b[0m\n",
      "\u001b[32m2024-05-22 16:26:15.621\u001b[0m | \u001b[1mINFO    \u001b[0m | \u001b[36mdata_processing.english_data_processing\u001b[0m:\u001b[36mevaluate_models\u001b[0m:\u001b[36m74\u001b[0m - \u001b[1mModel <class 'sklearn.ensemble._forest.ExtraTreesClassifier'> - scaler: None, accuracy: 0.5974017009330361\u001b[0m\n",
      "\u001b[32m2024-05-22 16:26:47.981\u001b[0m | \u001b[1mINFO    \u001b[0m | \u001b[36mdata_processing.english_data_processing\u001b[0m:\u001b[36mevaluate_models\u001b[0m:\u001b[36m74\u001b[0m - \u001b[1mModel <class 'sklearn.ensemble._forest.RandomForestClassifier'> - scaler: StandardScaler(), accuracy: 0.5935831062670299\u001b[0m\n",
      "\u001b[32m2024-05-22 16:26:57.438\u001b[0m | \u001b[1mINFO    \u001b[0m | \u001b[36mdata_processing.english_data_processing\u001b[0m:\u001b[36mevaluate_models\u001b[0m:\u001b[36m74\u001b[0m - \u001b[1mModel <class 'sklearn.ensemble._forest.ExtraTreesClassifier'> - scaler: StandardScaler(), accuracy: 0.5949459995045826\u001b[0m\n",
      "\u001b[32m2024-05-22 16:27:27.958\u001b[0m | \u001b[1mINFO    \u001b[0m | \u001b[36mdata_processing.english_data_processing\u001b[0m:\u001b[36mevaluate_models\u001b[0m:\u001b[36m74\u001b[0m - \u001b[1mModel <class 'sklearn.ensemble._forest.RandomForestClassifier'> - scaler: MinMaxScaler(), accuracy: 0.5917649244488481\u001b[0m\n",
      "\u001b[32m2024-05-22 16:27:36.786\u001b[0m | \u001b[1mINFO    \u001b[0m | \u001b[36mdata_processing.english_data_processing\u001b[0m:\u001b[36mevaluate_models\u001b[0m:\u001b[36m74\u001b[0m - \u001b[1mModel <class 'sklearn.ensemble._forest.ExtraTreesClassifier'> - scaler: MinMaxScaler(), accuracy: 0.5970370737346214\u001b[0m\n",
      "\u001b[32m2024-05-22 16:28:09.106\u001b[0m | \u001b[1mINFO    \u001b[0m | \u001b[36mdata_processing.english_data_processing\u001b[0m:\u001b[36mevaluate_models\u001b[0m:\u001b[36m74\u001b[0m - \u001b[1mModel <class 'sklearn.ensemble._forest.RandomForestClassifier'> - scaler: MaxAbsScaler(), accuracy: 0.5924910412022129\u001b[0m\n",
      "\u001b[32m2024-05-22 16:28:18.819\u001b[0m | \u001b[1mINFO    \u001b[0m | \u001b[36mdata_processing.english_data_processing\u001b[0m:\u001b[36mevaluate_models\u001b[0m:\u001b[36m74\u001b[0m - \u001b[1mModel <class 'sklearn.ensemble._forest.ExtraTreesClassifier'> - scaler: MaxAbsScaler(), accuracy: 0.5968551729832383\u001b[0m\n",
      "\u001b[32m2024-05-22 16:28:52.415\u001b[0m | \u001b[1mINFO    \u001b[0m | \u001b[36mdata_processing.english_data_processing\u001b[0m:\u001b[36mevaluate_models\u001b[0m:\u001b[36m74\u001b[0m - \u001b[1mModel <class 'sklearn.ensemble._forest.RandomForestClassifier'> - scaler: RobustScaler(), accuracy: 0.5920369911650566\u001b[0m\n",
      "\u001b[32m2024-05-22 16:29:02.240\u001b[0m | \u001b[1mINFO    \u001b[0m | \u001b[36mdata_processing.english_data_processing\u001b[0m:\u001b[36mevaluate_models\u001b[0m:\u001b[36m74\u001b[0m - \u001b[1mModel <class 'sklearn.ensemble._forest.ExtraTreesClassifier'> - scaler: RobustScaler(), accuracy: 0.5945826108496408\u001b[0m\n",
      "\u001b[32m2024-05-22 16:29:33.394\u001b[0m | \u001b[1mINFO    \u001b[0m | \u001b[36mdata_processing.english_data_processing\u001b[0m:\u001b[36mevaluate_models\u001b[0m:\u001b[36m74\u001b[0m - \u001b[1mModel <class 'sklearn.ensemble._forest.RandomForestClassifier'> - scaler: Normalizer(), accuracy: 0.5951275699777061\u001b[0m\n",
      "\u001b[32m2024-05-22 16:29:43.207\u001b[0m | \u001b[1mINFO    \u001b[0m | \u001b[36mdata_processing.english_data_processing\u001b[0m:\u001b[36mevaluate_models\u001b[0m:\u001b[36m74\u001b[0m - \u001b[1mModel <class 'sklearn.ensemble._forest.ExtraTreesClassifier'> - scaler: Normalizer(), accuracy: 0.5963085624638758\u001b[0m\n",
      "\u001b[32m2024-05-22 16:29:43.208\u001b[0m | \u001b[1mINFO    \u001b[0m | \u001b[36mdata_processing.english_data_processing\u001b[0m:\u001b[36mevaluate_models\u001b[0m:\u001b[36m82\u001b[0m - \u001b[1mBest Model: <class 'sklearn.ensemble._forest.ExtraTreesClassifier'>\u001b[0m\n",
      "\u001b[32m2024-05-22 16:29:43.208\u001b[0m | \u001b[1mINFO    \u001b[0m | \u001b[36mdata_processing.english_data_processing\u001b[0m:\u001b[36mevaluate_models\u001b[0m:\u001b[36m83\u001b[0m - \u001b[1mBest Scaler: None\u001b[0m\n",
      "\u001b[32m2024-05-22 16:29:43.209\u001b[0m | \u001b[1mINFO    \u001b[0m | \u001b[36mdata_processing.english_data_processing\u001b[0m:\u001b[36mevaluate_models\u001b[0m:\u001b[36m84\u001b[0m - \u001b[1mBest Average Accuracy: 0.5974017009330361\u001b[0m\n",
      "\u001b[32m2024-05-22 16:29:43.210\u001b[0m | \u001b[1mINFO    \u001b[0m | \u001b[36mfeature_extraction.feature_extractor\u001b[0m:\u001b[36mprocess_folder\u001b[0m:\u001b[36m148\u001b[0m - \u001b[1mProcessing input folder: D:/data_analysis/speech_emotion_recognition/data/EnglishDataset/cleaned_data1\u001b[0m\n"
     ]
    },
    {
     "name": "stdout",
     "output_type": "stream",
     "text": [
      "Scaler: None, Model: <class 'sklearn.ensemble._forest.ExtraTreesClassifier'>, n_mfcc: 13, Selected features: ['mfcc', 'pitch', 'rms'], Accuracy: 0.5974017009330361\n"
     ]
    },
    {
     "name": "stderr",
     "output_type": "stream",
     "text": [
      "\u001b[32m2024-05-22 16:30:35.187\u001b[0m | \u001b[1mINFO    \u001b[0m | \u001b[36mfeature_extraction.feature_extractor\u001b[0m:\u001b[36mprocess_folder\u001b[0m:\u001b[36m158\u001b[0m - \u001b[1mFeature extraction completed. Data saved to: D:/data_analysis/speech_emotion_recognition/notebooks/feature3.csv\u001b[0m\n",
      "\u001b[32m2024-05-22 16:30:35.222\u001b[0m | \u001b[1mINFO    \u001b[0m | \u001b[36mdata_processing.english_data_processing\u001b[0m:\u001b[36mevaluate_models\u001b[0m:\u001b[36m53\u001b[0m - \u001b[1mFinding best model....\u001b[0m\n",
      "\u001b[32m2024-05-22 16:31:04.608\u001b[0m | \u001b[1mINFO    \u001b[0m | \u001b[36mdata_processing.english_data_processing\u001b[0m:\u001b[36mevaluate_models\u001b[0m:\u001b[36m74\u001b[0m - \u001b[1mModel <class 'sklearn.ensemble._forest.RandomForestClassifier'> - scaler: None, accuracy: 0.5862205433077368\u001b[0m\n",
      "\u001b[32m2024-05-22 16:31:13.650\u001b[0m | \u001b[1mINFO    \u001b[0m | \u001b[36mdata_processing.english_data_processing\u001b[0m:\u001b[36mevaluate_models\u001b[0m:\u001b[36m74\u001b[0m - \u001b[1mModel <class 'sklearn.ensemble._forest.ExtraTreesClassifier'> - scaler: None, accuracy: 0.5856746759144579\u001b[0m\n",
      "\u001b[32m2024-05-22 16:31:45.650\u001b[0m | \u001b[1mINFO    \u001b[0m | \u001b[36mdata_processing.english_data_processing\u001b[0m:\u001b[36mevaluate_models\u001b[0m:\u001b[36m74\u001b[0m - \u001b[1mModel <class 'sklearn.ensemble._forest.RandomForestClassifier'> - scaler: StandardScaler(), accuracy: 0.5803122780942944\u001b[0m\n",
      "\u001b[32m2024-05-22 16:31:55.631\u001b[0m | \u001b[1mINFO    \u001b[0m | \u001b[36mdata_processing.english_data_processing\u001b[0m:\u001b[36mevaluate_models\u001b[0m:\u001b[36m74\u001b[0m - \u001b[1mModel <class 'sklearn.ensemble._forest.ExtraTreesClassifier'> - scaler: StandardScaler(), accuracy: 0.5864018660721657\u001b[0m\n",
      "\u001b[32m2024-05-22 16:32:27.842\u001b[0m | \u001b[1mINFO    \u001b[0m | \u001b[36mdata_processing.english_data_processing\u001b[0m:\u001b[36mevaluate_models\u001b[0m:\u001b[36m74\u001b[0m - \u001b[1mModel <class 'sklearn.ensemble._forest.RandomForestClassifier'> - scaler: MinMaxScaler(), accuracy: 0.580675831888366\u001b[0m\n",
      "\u001b[32m2024-05-22 16:32:37.630\u001b[0m | \u001b[1mINFO    \u001b[0m | \u001b[36mdata_processing.english_data_processing\u001b[0m:\u001b[36mevaluate_models\u001b[0m:\u001b[36m74\u001b[0m - \u001b[1mModel <class 'sklearn.ensemble._forest.ExtraTreesClassifier'> - scaler: MinMaxScaler(), accuracy: 0.5819483940219635\u001b[0m\n",
      "\u001b[32m2024-05-22 16:33:07.425\u001b[0m | \u001b[1mINFO    \u001b[0m | \u001b[36mdata_processing.english_data_processing\u001b[0m:\u001b[36mevaluate_models\u001b[0m:\u001b[36m74\u001b[0m - \u001b[1mModel <class 'sklearn.ensemble._forest.RandomForestClassifier'> - scaler: MaxAbsScaler(), accuracy: 0.582493848567418\u001b[0m\n",
      "\u001b[32m2024-05-22 16:33:16.576\u001b[0m | \u001b[1mINFO    \u001b[0m | \u001b[36mdata_processing.english_data_processing\u001b[0m:\u001b[36mevaluate_models\u001b[0m:\u001b[36m74\u001b[0m - \u001b[1mModel <class 'sklearn.ensemble._forest.ExtraTreesClassifier'> - scaler: MaxAbsScaler(), accuracy: 0.5883112046899512\u001b[0m\n",
      "\u001b[32m2024-05-22 16:33:46.360\u001b[0m | \u001b[1mINFO    \u001b[0m | \u001b[36mdata_processing.english_data_processing\u001b[0m:\u001b[36mevaluate_models\u001b[0m:\u001b[36m74\u001b[0m - \u001b[1mModel <class 'sklearn.ensemble._forest.RandomForestClassifier'> - scaler: RobustScaler(), accuracy: 0.585674675914458\u001b[0m\n",
      "\u001b[32m2024-05-22 16:33:55.362\u001b[0m | \u001b[1mINFO    \u001b[0m | \u001b[36mdata_processing.english_data_processing\u001b[0m:\u001b[36mevaluate_models\u001b[0m:\u001b[36m74\u001b[0m - \u001b[1mModel <class 'sklearn.ensemble._forest.ExtraTreesClassifier'> - scaler: RobustScaler(), accuracy: 0.5845838493931137\u001b[0m\n",
      "\u001b[32m2024-05-22 16:34:23.671\u001b[0m | \u001b[1mINFO    \u001b[0m | \u001b[36mdata_processing.english_data_processing\u001b[0m:\u001b[36mevaluate_models\u001b[0m:\u001b[36m74\u001b[0m - \u001b[1mModel <class 'sklearn.ensemble._forest.RandomForestClassifier'> - scaler: Normalizer(), accuracy: 0.5831287259516142\u001b[0m\n",
      "\u001b[32m2024-05-22 16:34:33.490\u001b[0m | \u001b[1mINFO    \u001b[0m | \u001b[36mdata_processing.english_data_processing\u001b[0m:\u001b[36mevaluate_models\u001b[0m:\u001b[36m74\u001b[0m - \u001b[1mModel <class 'sklearn.ensemble._forest.ExtraTreesClassifier'> - scaler: Normalizer(), accuracy: 0.5841295516472628\u001b[0m\n",
      "\u001b[32m2024-05-22 16:34:33.490\u001b[0m | \u001b[1mINFO    \u001b[0m | \u001b[36mdata_processing.english_data_processing\u001b[0m:\u001b[36mevaluate_models\u001b[0m:\u001b[36m82\u001b[0m - \u001b[1mBest Model: <class 'sklearn.ensemble._forest.ExtraTreesClassifier'>\u001b[0m\n",
      "\u001b[32m2024-05-22 16:34:33.491\u001b[0m | \u001b[1mINFO    \u001b[0m | \u001b[36mdata_processing.english_data_processing\u001b[0m:\u001b[36mevaluate_models\u001b[0m:\u001b[36m83\u001b[0m - \u001b[1mBest Scaler: MaxAbsScaler\u001b[0m\n",
      "\u001b[32m2024-05-22 16:34:33.492\u001b[0m | \u001b[1mINFO    \u001b[0m | \u001b[36mdata_processing.english_data_processing\u001b[0m:\u001b[36mevaluate_models\u001b[0m:\u001b[36m84\u001b[0m - \u001b[1mBest Average Accuracy: 0.5883112046899512\u001b[0m\n",
      "\u001b[32m2024-05-22 16:34:33.494\u001b[0m | \u001b[1mINFO    \u001b[0m | \u001b[36mfeature_extraction.feature_extractor\u001b[0m:\u001b[36mprocess_folder\u001b[0m:\u001b[36m148\u001b[0m - \u001b[1mProcessing input folder: D:/data_analysis/speech_emotion_recognition/data/EnglishDataset/cleaned_data1\u001b[0m\n"
     ]
    },
    {
     "name": "stdout",
     "output_type": "stream",
     "text": [
      "Scaler: MaxAbsScaler, Model: <class 'sklearn.ensemble._forest.ExtraTreesClassifier'>, n_mfcc: 13, Selected features: ['mfcc', 'zcr', 'rms'], Accuracy: 0.5883112046899512\n"
     ]
    },
    {
     "name": "stderr",
     "output_type": "stream",
     "text": [
      "\u001b[32m2024-05-22 16:35:41.620\u001b[0m | \u001b[1mINFO    \u001b[0m | \u001b[36mfeature_extraction.feature_extractor\u001b[0m:\u001b[36mprocess_folder\u001b[0m:\u001b[36m158\u001b[0m - \u001b[1mFeature extraction completed. Data saved to: D:/data_analysis/speech_emotion_recognition/notebooks/feature3.csv\u001b[0m\n",
      "\u001b[32m2024-05-22 16:35:41.653\u001b[0m | \u001b[1mINFO    \u001b[0m | \u001b[36mdata_processing.english_data_processing\u001b[0m:\u001b[36mevaluate_models\u001b[0m:\u001b[36m53\u001b[0m - \u001b[1mFinding best model....\u001b[0m\n",
      "\u001b[32m2024-05-22 16:36:10.573\u001b[0m | \u001b[1mINFO    \u001b[0m | \u001b[36mdata_processing.english_data_processing\u001b[0m:\u001b[36mevaluate_models\u001b[0m:\u001b[36m74\u001b[0m - \u001b[1mModel <class 'sklearn.ensemble._forest.RandomForestClassifier'> - scaler: None, accuracy: 0.5851293865081331\u001b[0m\n",
      "\u001b[32m2024-05-22 16:36:19.594\u001b[0m | \u001b[1mINFO    \u001b[0m | \u001b[36mdata_processing.english_data_processing\u001b[0m:\u001b[36mevaluate_models\u001b[0m:\u001b[36m74\u001b[0m - \u001b[1mModel <class 'sklearn.ensemble._forest.ExtraTreesClassifier'> - scaler: None, accuracy: 0.58594748575675\u001b[0m\n",
      "\u001b[32m2024-05-22 16:36:48.749\u001b[0m | \u001b[1mINFO    \u001b[0m | \u001b[36mdata_processing.english_data_processing\u001b[0m:\u001b[36mevaluate_models\u001b[0m:\u001b[36m74\u001b[0m - \u001b[1mModel <class 'sklearn.ensemble._forest.RandomForestClassifier'> - scaler: StandardScaler(), accuracy: 0.5860392205433078\u001b[0m\n",
      "\u001b[32m2024-05-22 16:36:57.681\u001b[0m | \u001b[1mINFO    \u001b[0m | \u001b[36mdata_processing.english_data_processing\u001b[0m:\u001b[36mevaluate_models\u001b[0m:\u001b[36m74\u001b[0m - \u001b[1mModel <class 'sklearn.ensemble._forest.ExtraTreesClassifier'> - scaler: StandardScaler(), accuracy: 0.5827655850053669\u001b[0m\n",
      "\u001b[32m2024-05-22 16:37:27.329\u001b[0m | \u001b[1mINFO    \u001b[0m | \u001b[36mdata_processing.english_data_processing\u001b[0m:\u001b[36mevaluate_models\u001b[0m:\u001b[36m74\u001b[0m - \u001b[1mModel <class 'sklearn.ensemble._forest.RandomForestClassifier'> - scaler: MinMaxScaler(), accuracy: 0.5855840145322434\u001b[0m\n",
      "\u001b[32m2024-05-22 16:37:36.765\u001b[0m | \u001b[1mINFO    \u001b[0m | \u001b[36mdata_processing.english_data_processing\u001b[0m:\u001b[36mevaluate_models\u001b[0m:\u001b[36m74\u001b[0m - \u001b[1mModel <class 'sklearn.ensemble._forest.ExtraTreesClassifier'> - scaler: MinMaxScaler(), accuracy: 0.5838574023614895\u001b[0m\n",
      "\u001b[32m2024-05-22 16:38:06.490\u001b[0m | \u001b[1mINFO    \u001b[0m | \u001b[36mdata_processing.english_data_processing\u001b[0m:\u001b[36mevaluate_models\u001b[0m:\u001b[36m74\u001b[0m - \u001b[1mModel <class 'sklearn.ensemble._forest.RandomForestClassifier'> - scaler: MaxAbsScaler(), accuracy: 0.5828569895136653\u001b[0m\n",
      "\u001b[32m2024-05-22 16:38:15.569\u001b[0m | \u001b[1mINFO    \u001b[0m | \u001b[36mdata_processing.english_data_processing\u001b[0m:\u001b[36mevaluate_models\u001b[0m:\u001b[36m74\u001b[0m - \u001b[1mModel <class 'sklearn.ensemble._forest.ExtraTreesClassifier'> - scaler: MaxAbsScaler(), accuracy: 0.5839483114523987\u001b[0m\n",
      "\u001b[32m2024-05-22 16:38:44.656\u001b[0m | \u001b[1mINFO    \u001b[0m | \u001b[36mdata_processing.english_data_processing\u001b[0m:\u001b[36mevaluate_models\u001b[0m:\u001b[36m74\u001b[0m - \u001b[1mModel <class 'sklearn.ensemble._forest.RandomForestClassifier'> - scaler: RobustScaler(), accuracy: 0.5865841796713731\u001b[0m\n",
      "\u001b[32m2024-05-22 16:38:53.695\u001b[0m | \u001b[1mINFO    \u001b[0m | \u001b[36mdata_processing.english_data_processing\u001b[0m:\u001b[36mevaluate_models\u001b[0m:\u001b[36m74\u001b[0m - \u001b[1mModel <class 'sklearn.ensemble._forest.ExtraTreesClassifier'> - scaler: RobustScaler(), accuracy: 0.5839478160350096\u001b[0m\n",
      "\u001b[32m2024-05-22 16:39:23.627\u001b[0m | \u001b[1mINFO    \u001b[0m | \u001b[36mdata_processing.english_data_processing\u001b[0m:\u001b[36mevaluate_models\u001b[0m:\u001b[36m74\u001b[0m - \u001b[1mModel <class 'sklearn.ensemble._forest.RandomForestClassifier'> - scaler: Normalizer(), accuracy: 0.5711322764429032\u001b[0m\n",
      "\u001b[32m2024-05-22 16:39:33.475\u001b[0m | \u001b[1mINFO    \u001b[0m | \u001b[36mdata_processing.english_data_processing\u001b[0m:\u001b[36mevaluate_models\u001b[0m:\u001b[36m74\u001b[0m - \u001b[1mModel <class 'sklearn.ensemble._forest.ExtraTreesClassifier'> - scaler: Normalizer(), accuracy: 0.5740401288085213\u001b[0m\n",
      "\u001b[32m2024-05-22 16:39:33.475\u001b[0m | \u001b[1mINFO    \u001b[0m | \u001b[36mdata_processing.english_data_processing\u001b[0m:\u001b[36mevaluate_models\u001b[0m:\u001b[36m82\u001b[0m - \u001b[1mBest Model: <class 'sklearn.ensemble._forest.RandomForestClassifier'>\u001b[0m\n",
      "\u001b[32m2024-05-22 16:39:33.476\u001b[0m | \u001b[1mINFO    \u001b[0m | \u001b[36mdata_processing.english_data_processing\u001b[0m:\u001b[36mevaluate_models\u001b[0m:\u001b[36m83\u001b[0m - \u001b[1mBest Scaler: RobustScaler\u001b[0m\n",
      "\u001b[32m2024-05-22 16:39:33.476\u001b[0m | \u001b[1mINFO    \u001b[0m | \u001b[36mdata_processing.english_data_processing\u001b[0m:\u001b[36mevaluate_models\u001b[0m:\u001b[36m84\u001b[0m - \u001b[1mBest Average Accuracy: 0.5865841796713731\u001b[0m\n",
      "\u001b[32m2024-05-22 16:39:33.477\u001b[0m | \u001b[1mINFO    \u001b[0m | \u001b[36mfeature_extraction.feature_extractor\u001b[0m:\u001b[36mprocess_folder\u001b[0m:\u001b[36m148\u001b[0m - \u001b[1mProcessing input folder: D:/data_analysis/speech_emotion_recognition/data/EnglishDataset/cleaned_data1\u001b[0m\n"
     ]
    },
    {
     "name": "stdout",
     "output_type": "stream",
     "text": [
      "Scaler: RobustScaler, Model: <class 'sklearn.ensemble._forest.RandomForestClassifier'>, n_mfcc: 13, Selected features: ['mfcc', 'zcr', 'pitch'], Accuracy: 0.5865841796713731\n"
     ]
    },
    {
     "name": "stderr",
     "output_type": "stream",
     "text": [
      "\u001b[32m2024-05-22 16:40:51.494\u001b[0m | \u001b[1mINFO    \u001b[0m | \u001b[36mfeature_extraction.feature_extractor\u001b[0m:\u001b[36mprocess_folder\u001b[0m:\u001b[36m158\u001b[0m - \u001b[1mFeature extraction completed. Data saved to: D:/data_analysis/speech_emotion_recognition/notebooks/feature3.csv\u001b[0m\n",
      "\u001b[32m2024-05-22 16:40:51.579\u001b[0m | \u001b[1mINFO    \u001b[0m | \u001b[36mdata_processing.english_data_processing\u001b[0m:\u001b[36mevaluate_models\u001b[0m:\u001b[36m53\u001b[0m - \u001b[1mFinding best model....\u001b[0m\n",
      "\u001b[32m2024-05-22 16:41:57.641\u001b[0m | \u001b[1mINFO    \u001b[0m | \u001b[36mdata_processing.english_data_processing\u001b[0m:\u001b[36mevaluate_models\u001b[0m:\u001b[36m74\u001b[0m - \u001b[1mModel <class 'sklearn.ensemble._forest.RandomForestClassifier'> - scaler: None, accuracy: 0.6188547601354142\u001b[0m\n",
      "\u001b[32m2024-05-22 16:42:11.337\u001b[0m | \u001b[1mINFO    \u001b[0m | \u001b[36mdata_processing.english_data_processing\u001b[0m:\u001b[36mevaluate_models\u001b[0m:\u001b[36m74\u001b[0m - \u001b[1mModel <class 'sklearn.ensemble._forest.ExtraTreesClassifier'> - scaler: None, accuracy: 0.6183088101725704\u001b[0m\n",
      "\u001b[32m2024-05-22 16:43:16.318\u001b[0m | \u001b[1mINFO    \u001b[0m | \u001b[36mdata_processing.english_data_processing\u001b[0m:\u001b[36mevaluate_models\u001b[0m:\u001b[36m74\u001b[0m - \u001b[1mModel <class 'sklearn.ensemble._forest.RandomForestClassifier'> - scaler: StandardScaler(), accuracy: 0.6103997192634795\u001b[0m\n",
      "\u001b[32m2024-05-22 16:43:30.395\u001b[0m | \u001b[1mINFO    \u001b[0m | \u001b[36mdata_processing.english_data_processing\u001b[0m:\u001b[36mevaluate_models\u001b[0m:\u001b[36m74\u001b[0m - \u001b[1mModel <class 'sklearn.ensemble._forest.ExtraTreesClassifier'> - scaler: StandardScaler(), accuracy: 0.6171272396994468\u001b[0m\n",
      "\u001b[32m2024-05-22 16:44:38.580\u001b[0m | \u001b[1mINFO    \u001b[0m | \u001b[36mdata_processing.english_data_processing\u001b[0m:\u001b[36mevaluate_models\u001b[0m:\u001b[36m74\u001b[0m - \u001b[1mModel <class 'sklearn.ensemble._forest.RandomForestClassifier'> - scaler: MinMaxScaler(), accuracy: 0.6123996366939146\u001b[0m\n",
      "\u001b[32m2024-05-22 16:44:53.545\u001b[0m | \u001b[1mINFO    \u001b[0m | \u001b[36mdata_processing.english_data_processing\u001b[0m:\u001b[36mevaluate_models\u001b[0m:\u001b[36m74\u001b[0m - \u001b[1mModel <class 'sklearn.ensemble._forest.ExtraTreesClassifier'> - scaler: MinMaxScaler(), accuracy: 0.6189453389480637\u001b[0m\n",
      "\u001b[32m2024-05-22 16:45:59.397\u001b[0m | \u001b[1mINFO    \u001b[0m | \u001b[36mdata_processing.english_data_processing\u001b[0m:\u001b[36mevaluate_models\u001b[0m:\u001b[36m74\u001b[0m - \u001b[1mModel <class 'sklearn.ensemble._forest.RandomForestClassifier'> - scaler: MaxAbsScaler(), accuracy: 0.6179450086698043\u001b[0m\n",
      "\u001b[32m2024-05-22 16:46:13.282\u001b[0m | \u001b[1mINFO    \u001b[0m | \u001b[36mdata_processing.english_data_processing\u001b[0m:\u001b[36mevaluate_models\u001b[0m:\u001b[36m74\u001b[0m - \u001b[1mModel <class 'sklearn.ensemble._forest.ExtraTreesClassifier'> - scaler: MaxAbsScaler(), accuracy: 0.6173098835769135\u001b[0m\n",
      "\u001b[32m2024-05-22 16:47:20.757\u001b[0m | \u001b[1mINFO    \u001b[0m | \u001b[36mdata_processing.english_data_processing\u001b[0m:\u001b[36mevaluate_models\u001b[0m:\u001b[36m74\u001b[0m - \u001b[1mModel <class 'sklearn.ensemble._forest.RandomForestClassifier'> - scaler: RobustScaler(), accuracy: 0.6161257534472793\u001b[0m\n",
      "\u001b[32m2024-05-22 16:47:36.283\u001b[0m | \u001b[1mINFO    \u001b[0m | \u001b[36mdata_processing.english_data_processing\u001b[0m:\u001b[36mevaluate_models\u001b[0m:\u001b[36m74\u001b[0m - \u001b[1mModel <class 'sklearn.ensemble._forest.ExtraTreesClassifier'> - scaler: RobustScaler(), accuracy: 0.6143088101725704\u001b[0m\n",
      "\u001b[32m2024-05-22 16:48:42.706\u001b[0m | \u001b[1mINFO    \u001b[0m | \u001b[36mdata_processing.english_data_processing\u001b[0m:\u001b[36mevaluate_models\u001b[0m:\u001b[36m74\u001b[0m - \u001b[1mModel <class 'sklearn.ensemble._forest.RandomForestClassifier'> - scaler: Normalizer(), accuracy: 0.5925828585583355\u001b[0m\n",
      "\u001b[32m2024-05-22 16:48:58.353\u001b[0m | \u001b[1mINFO    \u001b[0m | \u001b[36mdata_processing.english_data_processing\u001b[0m:\u001b[36mevaluate_models\u001b[0m:\u001b[36m74\u001b[0m - \u001b[1mModel <class 'sklearn.ensemble._forest.ExtraTreesClassifier'> - scaler: Normalizer(), accuracy: 0.5939459995045826\u001b[0m\n",
      "\u001b[32m2024-05-22 16:48:58.354\u001b[0m | \u001b[1mINFO    \u001b[0m | \u001b[36mdata_processing.english_data_processing\u001b[0m:\u001b[36mevaluate_models\u001b[0m:\u001b[36m82\u001b[0m - \u001b[1mBest Model: <class 'sklearn.ensemble._forest.ExtraTreesClassifier'>\u001b[0m\n",
      "\u001b[32m2024-05-22 16:48:58.355\u001b[0m | \u001b[1mINFO    \u001b[0m | \u001b[36mdata_processing.english_data_processing\u001b[0m:\u001b[36mevaluate_models\u001b[0m:\u001b[36m83\u001b[0m - \u001b[1mBest Scaler: MinMaxScaler\u001b[0m\n",
      "\u001b[32m2024-05-22 16:48:58.355\u001b[0m | \u001b[1mINFO    \u001b[0m | \u001b[36mdata_processing.english_data_processing\u001b[0m:\u001b[36mevaluate_models\u001b[0m:\u001b[36m84\u001b[0m - \u001b[1mBest Average Accuracy: 0.6189453389480637\u001b[0m\n",
      "\u001b[32m2024-05-22 16:48:58.358\u001b[0m | \u001b[1mINFO    \u001b[0m | \u001b[36mfeature_extraction.feature_extractor\u001b[0m:\u001b[36mprocess_folder\u001b[0m:\u001b[36m148\u001b[0m - \u001b[1mProcessing input folder: D:/data_analysis/speech_emotion_recognition/data/EnglishDataset/cleaned_data1\u001b[0m\n"
     ]
    },
    {
     "name": "stdout",
     "output_type": "stream",
     "text": [
      "Scaler: MinMaxScaler, Model: <class 'sklearn.ensemble._forest.ExtraTreesClassifier'>, n_mfcc: 13, Selected features: ['mfcc', 'mfcc_statistics', 'rms'], Accuracy: 0.6189453389480637\n"
     ]
    },
    {
     "name": "stderr",
     "output_type": "stream",
     "text": [
      "\u001b[32m2024-05-22 16:50:32.172\u001b[0m | \u001b[1mINFO    \u001b[0m | \u001b[36mfeature_extraction.feature_extractor\u001b[0m:\u001b[36mprocess_folder\u001b[0m:\u001b[36m158\u001b[0m - \u001b[1mFeature extraction completed. Data saved to: D:/data_analysis/speech_emotion_recognition/notebooks/feature3.csv\u001b[0m\n",
      "\u001b[32m2024-05-22 16:50:32.253\u001b[0m | \u001b[1mINFO    \u001b[0m | \u001b[36mdata_processing.english_data_processing\u001b[0m:\u001b[36mevaluate_models\u001b[0m:\u001b[36m53\u001b[0m - \u001b[1mFinding best model....\u001b[0m\n",
      "\u001b[32m2024-05-22 16:51:34.359\u001b[0m | \u001b[1mINFO    \u001b[0m | \u001b[36mdata_processing.english_data_processing\u001b[0m:\u001b[36mevaluate_models\u001b[0m:\u001b[36m74\u001b[0m - \u001b[1mModel <class 'sklearn.ensemble._forest.RandomForestClassifier'> - scaler: None, accuracy: 0.6151268268516226\u001b[0m\n",
      "\u001b[32m2024-05-22 16:51:47.382\u001b[0m | \u001b[1mINFO    \u001b[0m | \u001b[36mdata_processing.english_data_processing\u001b[0m:\u001b[36mevaluate_models\u001b[0m:\u001b[36m74\u001b[0m - \u001b[1mModel <class 'sklearn.ensemble._forest.ExtraTreesClassifier'> - scaler: None, accuracy: 0.6194900503674345\u001b[0m\n",
      "\u001b[32m2024-05-22 16:52:45.970\u001b[0m | \u001b[1mINFO    \u001b[0m | \u001b[36mdata_processing.english_data_processing\u001b[0m:\u001b[36mevaluate_models\u001b[0m:\u001b[36m74\u001b[0m - \u001b[1mModel <class 'sklearn.ensemble._forest.RandomForestClassifier'> - scaler: StandardScaler(), accuracy: 0.6153083147551812\u001b[0m\n",
      "\u001b[32m2024-05-22 16:52:59.280\u001b[0m | \u001b[1mINFO    \u001b[0m | \u001b[36mdata_processing.english_data_processing\u001b[0m:\u001b[36mevaluate_models\u001b[0m:\u001b[36m74\u001b[0m - \u001b[1mModel <class 'sklearn.ensemble._forest.ExtraTreesClassifier'> - scaler: StandardScaler(), accuracy: 0.618671785979688\u001b[0m\n",
      "\u001b[32m2024-05-22 16:53:57.370\u001b[0m | \u001b[1mINFO    \u001b[0m | \u001b[36mdata_processing.english_data_processing\u001b[0m:\u001b[36mevaluate_models\u001b[0m:\u001b[36m74\u001b[0m - \u001b[1mModel <class 'sklearn.ensemble._forest.RandomForestClassifier'> - scaler: MinMaxScaler(), accuracy: 0.6150368260259268\u001b[0m\n",
      "\u001b[32m2024-05-22 16:54:10.331\u001b[0m | \u001b[1mINFO    \u001b[0m | \u001b[36mdata_processing.english_data_processing\u001b[0m:\u001b[36mevaluate_models\u001b[0m:\u001b[36m74\u001b[0m - \u001b[1mModel <class 'sklearn.ensemble._forest.ExtraTreesClassifier'> - scaler: MinMaxScaler(), accuracy: 0.615127074560317\u001b[0m\n",
      "\u001b[32m2024-05-22 16:55:08.062\u001b[0m | \u001b[1mINFO    \u001b[0m | \u001b[36mdata_processing.english_data_processing\u001b[0m:\u001b[36mevaluate_models\u001b[0m:\u001b[36m74\u001b[0m - \u001b[1mModel <class 'sklearn.ensemble._forest.RandomForestClassifier'> - scaler: MaxAbsScaler(), accuracy: 0.6179443481132855\u001b[0m\n",
      "\u001b[32m2024-05-22 16:55:21.216\u001b[0m | \u001b[1mINFO    \u001b[0m | \u001b[36mdata_processing.english_data_processing\u001b[0m:\u001b[36mevaluate_models\u001b[0m:\u001b[36m74\u001b[0m - \u001b[1mModel <class 'sklearn.ensemble._forest.ExtraTreesClassifier'> - scaler: MaxAbsScaler(), accuracy: 0.6201260837255387\u001b[0m\n",
      "\u001b[32m2024-05-22 16:56:24.287\u001b[0m | \u001b[1mINFO    \u001b[0m | \u001b[36mdata_processing.english_data_processing\u001b[0m:\u001b[36mevaluate_models\u001b[0m:\u001b[36m74\u001b[0m - \u001b[1mModel <class 'sklearn.ensemble._forest.RandomForestClassifier'> - scaler: RobustScaler(), accuracy: 0.6198535215919413\u001b[0m\n",
      "\u001b[32m2024-05-22 16:56:38.674\u001b[0m | \u001b[1mINFO    \u001b[0m | \u001b[36mdata_processing.english_data_processing\u001b[0m:\u001b[36mevaluate_models\u001b[0m:\u001b[36m74\u001b[0m - \u001b[1mModel <class 'sklearn.ensemble._forest.ExtraTreesClassifier'> - scaler: RobustScaler(), accuracy: 0.6191264140037982\u001b[0m\n",
      "\u001b[32m2024-05-22 16:57:39.218\u001b[0m | \u001b[1mINFO    \u001b[0m | \u001b[36mdata_processing.english_data_processing\u001b[0m:\u001b[36mevaluate_models\u001b[0m:\u001b[36m74\u001b[0m - \u001b[1mModel <class 'sklearn.ensemble._forest.RandomForestClassifier'> - scaler: Normalizer(), accuracy: 0.5824923623152507\u001b[0m\n",
      "\u001b[32m2024-05-22 16:57:52.403\u001b[0m | \u001b[1mINFO    \u001b[0m | \u001b[36mdata_processing.english_data_processing\u001b[0m:\u001b[36mevaluate_models\u001b[0m:\u001b[36m74\u001b[0m - \u001b[1mModel <class 'sklearn.ensemble._forest.ExtraTreesClassifier'> - scaler: Normalizer(), accuracy: 0.5875840971018083\u001b[0m\n",
      "\u001b[32m2024-05-22 16:57:52.404\u001b[0m | \u001b[1mINFO    \u001b[0m | \u001b[36mdata_processing.english_data_processing\u001b[0m:\u001b[36mevaluate_models\u001b[0m:\u001b[36m82\u001b[0m - \u001b[1mBest Model: <class 'sklearn.ensemble._forest.ExtraTreesClassifier'>\u001b[0m\n",
      "\u001b[32m2024-05-22 16:57:52.404\u001b[0m | \u001b[1mINFO    \u001b[0m | \u001b[36mdata_processing.english_data_processing\u001b[0m:\u001b[36mevaluate_models\u001b[0m:\u001b[36m83\u001b[0m - \u001b[1mBest Scaler: MaxAbsScaler\u001b[0m\n",
      "\u001b[32m2024-05-22 16:57:52.405\u001b[0m | \u001b[1mINFO    \u001b[0m | \u001b[36mdata_processing.english_data_processing\u001b[0m:\u001b[36mevaluate_models\u001b[0m:\u001b[36m84\u001b[0m - \u001b[1mBest Average Accuracy: 0.6201260837255387\u001b[0m\n",
      "\u001b[32m2024-05-22 16:57:52.406\u001b[0m | \u001b[1mINFO    \u001b[0m | \u001b[36mfeature_extraction.feature_extractor\u001b[0m:\u001b[36mprocess_folder\u001b[0m:\u001b[36m148\u001b[0m - \u001b[1mProcessing input folder: D:/data_analysis/speech_emotion_recognition/data/EnglishDataset/cleaned_data1\u001b[0m\n"
     ]
    },
    {
     "name": "stdout",
     "output_type": "stream",
     "text": [
      "Scaler: MaxAbsScaler, Model: <class 'sklearn.ensemble._forest.ExtraTreesClassifier'>, n_mfcc: 13, Selected features: ['mfcc', 'mfcc_statistics', 'pitch'], Accuracy: 0.6201260837255387\n"
     ]
    },
    {
     "name": "stderr",
     "output_type": "stream",
     "text": [
      "\u001b[32m2024-05-22 16:59:08.903\u001b[0m | \u001b[1mINFO    \u001b[0m | \u001b[36mfeature_extraction.feature_extractor\u001b[0m:\u001b[36mprocess_folder\u001b[0m:\u001b[36m158\u001b[0m - \u001b[1mFeature extraction completed. Data saved to: D:/data_analysis/speech_emotion_recognition/notebooks/feature3.csv\u001b[0m\n",
      "\u001b[32m2024-05-22 16:59:08.996\u001b[0m | \u001b[1mINFO    \u001b[0m | \u001b[36mdata_processing.english_data_processing\u001b[0m:\u001b[36mevaluate_models\u001b[0m:\u001b[36m53\u001b[0m - \u001b[1mFinding best model....\u001b[0m\n",
      "\u001b[32m2024-05-22 17:00:17.744\u001b[0m | \u001b[1mINFO    \u001b[0m | \u001b[36mdata_processing.english_data_processing\u001b[0m:\u001b[36mevaluate_models\u001b[0m:\u001b[36m74\u001b[0m - \u001b[1mModel <class 'sklearn.ensemble._forest.RandomForestClassifier'> - scaler: None, accuracy: 0.6190353397737594\u001b[0m\n",
      "\u001b[32m2024-05-22 17:00:31.565\u001b[0m | \u001b[1mINFO    \u001b[0m | \u001b[36mdata_processing.english_data_processing\u001b[0m:\u001b[36mevaluate_models\u001b[0m:\u001b[36m74\u001b[0m - \u001b[1mModel <class 'sklearn.ensemble._forest.ExtraTreesClassifier'> - scaler: None, accuracy: 0.6139440178350261\u001b[0m\n",
      "\u001b[32m2024-05-22 17:01:36.341\u001b[0m | \u001b[1mINFO    \u001b[0m | \u001b[36mdata_processing.english_data_processing\u001b[0m:\u001b[36mevaluate_models\u001b[0m:\u001b[36m74\u001b[0m - \u001b[1mModel <class 'sklearn.ensemble._forest.RandomForestClassifier'> - scaler: StandardScaler(), accuracy: 0.6125810420279085\u001b[0m\n",
      "\u001b[32m2024-05-22 17:01:50.485\u001b[0m | \u001b[1mINFO    \u001b[0m | \u001b[36mdata_processing.english_data_processing\u001b[0m:\u001b[36mevaluate_models\u001b[0m:\u001b[36m74\u001b[0m - \u001b[1mModel <class 'sklearn.ensemble._forest.ExtraTreesClassifier'> - scaler: StandardScaler(), accuracy: 0.6136736025101147\u001b[0m\n",
      "\u001b[32m2024-05-22 17:02:54.667\u001b[0m | \u001b[1mINFO    \u001b[0m | \u001b[36mdata_processing.english_data_processing\u001b[0m:\u001b[36mevaluate_models\u001b[0m:\u001b[36m74\u001b[0m - \u001b[1mModel <class 'sklearn.ensemble._forest.RandomForestClassifier'> - scaler: MinMaxScaler(), accuracy: 0.6139453389480638\u001b[0m\n",
      "\u001b[32m2024-05-22 17:03:08.413\u001b[0m | \u001b[1mINFO    \u001b[0m | \u001b[36mdata_processing.english_data_processing\u001b[0m:\u001b[36mevaluate_models\u001b[0m:\u001b[36m74\u001b[0m - \u001b[1mModel <class 'sklearn.ensemble._forest.ExtraTreesClassifier'> - scaler: MinMaxScaler(), accuracy: 0.6193080670464867\u001b[0m\n",
      "\u001b[32m2024-05-22 17:04:14.059\u001b[0m | \u001b[1mINFO    \u001b[0m | \u001b[36mdata_processing.english_data_processing\u001b[0m:\u001b[36mevaluate_models\u001b[0m:\u001b[36m74\u001b[0m - \u001b[1mModel <class 'sklearn.ensemble._forest.RandomForestClassifier'> - scaler: MaxAbsScaler(), accuracy: 0.6143078193377921\u001b[0m\n",
      "\u001b[32m2024-05-22 17:04:29.383\u001b[0m | \u001b[1mINFO    \u001b[0m | \u001b[36mdata_processing.english_data_processing\u001b[0m:\u001b[36mevaluate_models\u001b[0m:\u001b[36m74\u001b[0m - \u001b[1mModel <class 'sklearn.ensemble._forest.ExtraTreesClassifier'> - scaler: MaxAbsScaler(), accuracy: 0.612672281397077\u001b[0m\n",
      "\u001b[32m2024-05-22 17:05:38.865\u001b[0m | \u001b[1mINFO    \u001b[0m | \u001b[36mdata_processing.english_data_processing\u001b[0m:\u001b[36mevaluate_models\u001b[0m:\u001b[36m74\u001b[0m - \u001b[1mModel <class 'sklearn.ensemble._forest.RandomForestClassifier'> - scaler: RobustScaler(), accuracy: 0.6107628602097267\u001b[0m\n",
      "\u001b[32m2024-05-22 17:05:53.359\u001b[0m | \u001b[1mINFO    \u001b[0m | \u001b[36mdata_processing.english_data_processing\u001b[0m:\u001b[36mevaluate_models\u001b[0m:\u001b[36m74\u001b[0m - \u001b[1mModel <class 'sklearn.ensemble._forest.ExtraTreesClassifier'> - scaler: RobustScaler(), accuracy: 0.6123085624638758\u001b[0m\n",
      "\u001b[32m2024-05-22 17:06:55.294\u001b[0m | \u001b[1mINFO    \u001b[0m | \u001b[36mdata_processing.english_data_processing\u001b[0m:\u001b[36mevaluate_models\u001b[0m:\u001b[36m74\u001b[0m - \u001b[1mModel <class 'sklearn.ensemble._forest.RandomForestClassifier'> - scaler: Normalizer(), accuracy: 0.5853116175377756\u001b[0m\n",
      "\u001b[32m2024-05-22 17:07:10.891\u001b[0m | \u001b[1mINFO    \u001b[0m | \u001b[36mdata_processing.english_data_processing\u001b[0m:\u001b[36mevaluate_models\u001b[0m:\u001b[36m74\u001b[0m - \u001b[1mModel <class 'sklearn.ensemble._forest.ExtraTreesClassifier'> - scaler: Normalizer(), accuracy: 0.5875837668235487\u001b[0m\n",
      "\u001b[32m2024-05-22 17:07:10.892\u001b[0m | \u001b[1mINFO    \u001b[0m | \u001b[36mdata_processing.english_data_processing\u001b[0m:\u001b[36mevaluate_models\u001b[0m:\u001b[36m82\u001b[0m - \u001b[1mBest Model: <class 'sklearn.ensemble._forest.ExtraTreesClassifier'>\u001b[0m\n",
      "\u001b[32m2024-05-22 17:07:10.892\u001b[0m | \u001b[1mINFO    \u001b[0m | \u001b[36mdata_processing.english_data_processing\u001b[0m:\u001b[36mevaluate_models\u001b[0m:\u001b[36m83\u001b[0m - \u001b[1mBest Scaler: MinMaxScaler\u001b[0m\n",
      "\u001b[32m2024-05-22 17:07:10.893\u001b[0m | \u001b[1mINFO    \u001b[0m | \u001b[36mdata_processing.english_data_processing\u001b[0m:\u001b[36mevaluate_models\u001b[0m:\u001b[36m84\u001b[0m - \u001b[1mBest Average Accuracy: 0.6193080670464867\u001b[0m\n",
      "\u001b[32m2024-05-22 17:07:10.894\u001b[0m | \u001b[1mINFO    \u001b[0m | \u001b[36mfeature_extraction.feature_extractor\u001b[0m:\u001b[36mprocess_folder\u001b[0m:\u001b[36m148\u001b[0m - \u001b[1mProcessing input folder: D:/data_analysis/speech_emotion_recognition/data/EnglishDataset/cleaned_data1\u001b[0m\n"
     ]
    },
    {
     "name": "stdout",
     "output_type": "stream",
     "text": [
      "Scaler: MinMaxScaler, Model: <class 'sklearn.ensemble._forest.ExtraTreesClassifier'>, n_mfcc: 13, Selected features: ['mfcc', 'mfcc_statistics', 'zcr'], Accuracy: 0.6193080670464867\n"
     ]
    },
    {
     "name": "stderr",
     "output_type": "stream",
     "text": [
      "\u001b[32m2024-05-22 17:07:49.218\u001b[0m | \u001b[1mINFO    \u001b[0m | \u001b[36mfeature_extraction.feature_extractor\u001b[0m:\u001b[36mprocess_folder\u001b[0m:\u001b[36m158\u001b[0m - \u001b[1mFeature extraction completed. Data saved to: D:/data_analysis/speech_emotion_recognition/notebooks/feature3.csv\u001b[0m\n",
      "\u001b[32m2024-05-22 17:07:49.235\u001b[0m | \u001b[1mINFO    \u001b[0m | \u001b[36mdata_processing.english_data_processing\u001b[0m:\u001b[36mevaluate_models\u001b[0m:\u001b[36m53\u001b[0m - \u001b[1mFinding best model....\u001b[0m\n",
      "\u001b[32m2024-05-22 17:08:07.999\u001b[0m | \u001b[1mINFO    \u001b[0m | \u001b[36mdata_processing.english_data_processing\u001b[0m:\u001b[36mevaluate_models\u001b[0m:\u001b[36m74\u001b[0m - \u001b[1mModel <class 'sklearn.ensemble._forest.RandomForestClassifier'> - scaler: None, accuracy: 0.4661403682602593\u001b[0m\n",
      "\u001b[32m2024-05-22 17:08:15.686\u001b[0m | \u001b[1mINFO    \u001b[0m | \u001b[36mdata_processing.english_data_processing\u001b[0m:\u001b[36mevaluate_models\u001b[0m:\u001b[36m74\u001b[0m - \u001b[1mModel <class 'sklearn.ensemble._forest.ExtraTreesClassifier'> - scaler: None, accuracy: 0.4614152423416729\u001b[0m\n",
      "\u001b[32m2024-05-22 17:08:33.096\u001b[0m | \u001b[1mINFO    \u001b[0m | \u001b[36mdata_processing.english_data_processing\u001b[0m:\u001b[36mevaluate_models\u001b[0m:\u001b[36m74\u001b[0m - \u001b[1mModel <class 'sklearn.ensemble._forest.RandomForestClassifier'> - scaler: StandardScaler(), accuracy: 0.46623160762942784\u001b[0m\n",
      "\u001b[32m2024-05-22 17:08:39.950\u001b[0m | \u001b[1mINFO    \u001b[0m | \u001b[36mdata_processing.english_data_processing\u001b[0m:\u001b[36mevaluate_models\u001b[0m:\u001b[36m74\u001b[0m - \u001b[1mModel <class 'sklearn.ensemble._forest.ExtraTreesClassifier'> - scaler: StandardScaler(), accuracy: 0.46450474774997935\u001b[0m\n",
      "\u001b[32m2024-05-22 17:08:57.049\u001b[0m | \u001b[1mINFO    \u001b[0m | \u001b[36mdata_processing.english_data_processing\u001b[0m:\u001b[36mevaluate_models\u001b[0m:\u001b[36m74\u001b[0m - \u001b[1mModel <class 'sklearn.ensemble._forest.RandomForestClassifier'> - scaler: MinMaxScaler(), accuracy: 0.46823334159028984\u001b[0m\n",
      "\u001b[32m2024-05-22 17:09:03.906\u001b[0m | \u001b[1mINFO    \u001b[0m | \u001b[36mdata_processing.english_data_processing\u001b[0m:\u001b[36mevaluate_models\u001b[0m:\u001b[36m74\u001b[0m - \u001b[1mModel <class 'sklearn.ensemble._forest.ExtraTreesClassifier'> - scaler: MinMaxScaler(), accuracy: 0.46377780530096613\u001b[0m\n",
      "\u001b[32m2024-05-22 17:09:21.273\u001b[0m | \u001b[1mINFO    \u001b[0m | \u001b[36mdata_processing.english_data_processing\u001b[0m:\u001b[36mevaluate_models\u001b[0m:\u001b[36m74\u001b[0m - \u001b[1mModel <class 'sklearn.ensemble._forest.RandomForestClassifier'> - scaler: MaxAbsScaler(), accuracy: 0.467050119725869\u001b[0m\n",
      "\u001b[32m2024-05-22 17:09:28.324\u001b[0m | \u001b[1mINFO    \u001b[0m | \u001b[36mdata_processing.english_data_processing\u001b[0m:\u001b[36mevaluate_models\u001b[0m:\u001b[36m74\u001b[0m - \u001b[1mModel <class 'sklearn.ensemble._forest.ExtraTreesClassifier'> - scaler: MaxAbsScaler(), accuracy: 0.4623227644290314\u001b[0m\n",
      "\u001b[32m2024-05-22 17:09:45.962\u001b[0m | \u001b[1mINFO    \u001b[0m | \u001b[36mdata_processing.english_data_processing\u001b[0m:\u001b[36mevaluate_models\u001b[0m:\u001b[36m74\u001b[0m - \u001b[1mModel <class 'sklearn.ensemble._forest.RandomForestClassifier'> - scaler: RobustScaler(), accuracy: 0.4673225992899018\u001b[0m\n",
      "\u001b[32m2024-05-22 17:09:52.859\u001b[0m | \u001b[1mINFO    \u001b[0m | \u001b[36mdata_processing.english_data_processing\u001b[0m:\u001b[36mevaluate_models\u001b[0m:\u001b[36m74\u001b[0m - \u001b[1mModel <class 'sklearn.ensemble._forest.ExtraTreesClassifier'> - scaler: RobustScaler(), accuracy: 0.4655954091321939\u001b[0m\n",
      "\u001b[32m2024-05-22 17:10:08.485\u001b[0m | \u001b[1mINFO    \u001b[0m | \u001b[36mdata_processing.english_data_processing\u001b[0m:\u001b[36mevaluate_models\u001b[0m:\u001b[36m74\u001b[0m - \u001b[1mModel <class 'sklearn.ensemble._forest.RandomForestClassifier'> - scaler: Normalizer(), accuracy: 0.43686879696144\u001b[0m\n",
      "\u001b[32m2024-05-22 17:10:15.743\u001b[0m | \u001b[1mINFO    \u001b[0m | \u001b[36mdata_processing.english_data_processing\u001b[0m:\u001b[36mevaluate_models\u001b[0m:\u001b[36m74\u001b[0m - \u001b[1mModel <class 'sklearn.ensemble._forest.ExtraTreesClassifier'> - scaler: Normalizer(), accuracy: 0.42396210056973\u001b[0m\n",
      "\u001b[32m2024-05-22 17:10:15.743\u001b[0m | \u001b[1mINFO    \u001b[0m | \u001b[36mdata_processing.english_data_processing\u001b[0m:\u001b[36mevaluate_models\u001b[0m:\u001b[36m82\u001b[0m - \u001b[1mBest Model: <class 'sklearn.ensemble._forest.RandomForestClassifier'>\u001b[0m\n",
      "\u001b[32m2024-05-22 17:10:15.744\u001b[0m | \u001b[1mINFO    \u001b[0m | \u001b[36mdata_processing.english_data_processing\u001b[0m:\u001b[36mevaluate_models\u001b[0m:\u001b[36m83\u001b[0m - \u001b[1mBest Scaler: MinMaxScaler\u001b[0m\n",
      "\u001b[32m2024-05-22 17:10:15.744\u001b[0m | \u001b[1mINFO    \u001b[0m | \u001b[36mdata_processing.english_data_processing\u001b[0m:\u001b[36mevaluate_models\u001b[0m:\u001b[36m84\u001b[0m - \u001b[1mBest Average Accuracy: 0.46823334159028984\u001b[0m\n",
      "\u001b[32m2024-05-22 17:10:15.745\u001b[0m | \u001b[1mINFO    \u001b[0m | \u001b[36mfeature_extraction.feature_extractor\u001b[0m:\u001b[36mprocess_folder\u001b[0m:\u001b[36m148\u001b[0m - \u001b[1mProcessing input folder: D:/data_analysis/speech_emotion_recognition/data/EnglishDataset/cleaned_data1\u001b[0m\n"
     ]
    },
    {
     "name": "stdout",
     "output_type": "stream",
     "text": [
      "Scaler: MinMaxScaler, Model: <class 'sklearn.ensemble._forest.RandomForestClassifier'>, n_mfcc: 13, Selected features: ['pitch', 'rms'], Accuracy: 0.46823334159028984\n"
     ]
    },
    {
     "name": "stderr",
     "output_type": "stream",
     "text": [
      "\u001b[32m2024-05-22 17:10:33.748\u001b[0m | \u001b[1mINFO    \u001b[0m | \u001b[36mfeature_extraction.feature_extractor\u001b[0m:\u001b[36mprocess_folder\u001b[0m:\u001b[36m158\u001b[0m - \u001b[1mFeature extraction completed. Data saved to: D:/data_analysis/speech_emotion_recognition/notebooks/feature3.csv\u001b[0m\n",
      "\u001b[32m2024-05-22 17:10:33.765\u001b[0m | \u001b[1mINFO    \u001b[0m | \u001b[36mdata_processing.english_data_processing\u001b[0m:\u001b[36mevaluate_models\u001b[0m:\u001b[36m53\u001b[0m - \u001b[1mFinding best model....\u001b[0m\n",
      "\u001b[32m2024-05-22 17:10:56.620\u001b[0m | \u001b[1mINFO    \u001b[0m | \u001b[36mdata_processing.english_data_processing\u001b[0m:\u001b[36mevaluate_models\u001b[0m:\u001b[36m74\u001b[0m - \u001b[1mModel <class 'sklearn.ensemble._forest.RandomForestClassifier'> - scaler: None, accuracy: 0.499135826934192\u001b[0m\n",
      "\u001b[32m2024-05-22 17:11:04.816\u001b[0m | \u001b[1mINFO    \u001b[0m | \u001b[36mdata_processing.english_data_processing\u001b[0m:\u001b[36mevaluate_models\u001b[0m:\u001b[36m74\u001b[0m - \u001b[1mModel <class 'sklearn.ensemble._forest.ExtraTreesClassifier'> - scaler: None, accuracy: 0.5039540087523738\u001b[0m\n",
      "\u001b[32m2024-05-22 17:11:27.404\u001b[0m | \u001b[1mINFO    \u001b[0m | \u001b[36mdata_processing.english_data_processing\u001b[0m:\u001b[36mevaluate_models\u001b[0m:\u001b[36m74\u001b[0m - \u001b[1mModel <class 'sklearn.ensemble._forest.RandomForestClassifier'> - scaler: StandardScaler(), accuracy: 0.5001368177689703\u001b[0m\n",
      "\u001b[32m2024-05-22 17:11:35.467\u001b[0m | \u001b[1mINFO    \u001b[0m | \u001b[36mdata_processing.english_data_processing\u001b[0m:\u001b[36mevaluate_models\u001b[0m:\u001b[36m74\u001b[0m - \u001b[1mModel <class 'sklearn.ensemble._forest.ExtraTreesClassifier'> - scaler: StandardScaler(), accuracy: 0.5036813640492116\u001b[0m\n",
      "\u001b[32m2024-05-22 17:11:58.099\u001b[0m | \u001b[1mINFO    \u001b[0m | \u001b[36mdata_processing.english_data_processing\u001b[0m:\u001b[36mevaluate_models\u001b[0m:\u001b[36m74\u001b[0m - \u001b[1mModel <class 'sklearn.ensemble._forest.RandomForestClassifier'> - scaler: MinMaxScaler(), accuracy: 0.5010454958302369\u001b[0m\n",
      "\u001b[32m2024-05-22 17:12:06.357\u001b[0m | \u001b[1mINFO    \u001b[0m | \u001b[36mdata_processing.english_data_processing\u001b[0m:\u001b[36mevaluate_models\u001b[0m:\u001b[36m74\u001b[0m - \u001b[1mModel <class 'sklearn.ensemble._forest.ExtraTreesClassifier'> - scaler: MinMaxScaler(), accuracy: 0.5061356617950623\u001b[0m\n",
      "\u001b[32m2024-05-22 17:12:31.046\u001b[0m | \u001b[1mINFO    \u001b[0m | \u001b[36mdata_processing.english_data_processing\u001b[0m:\u001b[36mevaluate_models\u001b[0m:\u001b[36m74\u001b[0m - \u001b[1mModel <class 'sklearn.ensemble._forest.RandomForestClassifier'> - scaler: MaxAbsScaler(), accuracy: 0.5018636776484188\u001b[0m\n",
      "\u001b[32m2024-05-22 17:12:39.826\u001b[0m | \u001b[1mINFO    \u001b[0m | \u001b[36mdata_processing.english_data_processing\u001b[0m:\u001b[36mevaluate_models\u001b[0m:\u001b[36m74\u001b[0m - \u001b[1mModel <class 'sklearn.ensemble._forest.ExtraTreesClassifier'> - scaler: MaxAbsScaler(), accuracy: 0.503318388242094\u001b[0m\n",
      "\u001b[32m2024-05-22 17:13:03.831\u001b[0m | \u001b[1mINFO    \u001b[0m | \u001b[36mdata_processing.english_data_processing\u001b[0m:\u001b[36mevaluate_models\u001b[0m:\u001b[36m74\u001b[0m - \u001b[1mModel <class 'sklearn.ensemble._forest.RandomForestClassifier'> - scaler: RobustScaler(), accuracy: 0.500864173065808\u001b[0m\n",
      "\u001b[32m2024-05-22 17:13:12.875\u001b[0m | \u001b[1mINFO    \u001b[0m | \u001b[36mdata_processing.english_data_processing\u001b[0m:\u001b[36mevaluate_models\u001b[0m:\u001b[36m74\u001b[0m - \u001b[1mModel <class 'sklearn.ensemble._forest.ExtraTreesClassifier'> - scaler: RobustScaler(), accuracy: 0.5017732639748989\u001b[0m\n",
      "\u001b[32m2024-05-22 17:13:39.894\u001b[0m | \u001b[1mINFO    \u001b[0m | \u001b[36mdata_processing.english_data_processing\u001b[0m:\u001b[36mevaluate_models\u001b[0m:\u001b[36m74\u001b[0m - \u001b[1mModel <class 'sklearn.ensemble._forest.RandomForestClassifier'> - scaler: Normalizer(), accuracy: 0.4759564032697547\u001b[0m\n",
      "\u001b[32m2024-05-22 17:13:48.828\u001b[0m | \u001b[1mINFO    \u001b[0m | \u001b[36mdata_processing.english_data_processing\u001b[0m:\u001b[36mevaluate_models\u001b[0m:\u001b[36m74\u001b[0m - \u001b[1mModel <class 'sklearn.ensemble._forest.ExtraTreesClassifier'> - scaler: Normalizer(), accuracy: 0.47104822062587737\u001b[0m\n",
      "\u001b[32m2024-05-22 17:13:48.829\u001b[0m | \u001b[1mINFO    \u001b[0m | \u001b[36mdata_processing.english_data_processing\u001b[0m:\u001b[36mevaluate_models\u001b[0m:\u001b[36m82\u001b[0m - \u001b[1mBest Model: <class 'sklearn.ensemble._forest.ExtraTreesClassifier'>\u001b[0m\n",
      "\u001b[32m2024-05-22 17:13:48.829\u001b[0m | \u001b[1mINFO    \u001b[0m | \u001b[36mdata_processing.english_data_processing\u001b[0m:\u001b[36mevaluate_models\u001b[0m:\u001b[36m83\u001b[0m - \u001b[1mBest Scaler: MinMaxScaler\u001b[0m\n",
      "\u001b[32m2024-05-22 17:13:48.830\u001b[0m | \u001b[1mINFO    \u001b[0m | \u001b[36mdata_processing.english_data_processing\u001b[0m:\u001b[36mevaluate_models\u001b[0m:\u001b[36m84\u001b[0m - \u001b[1mBest Average Accuracy: 0.5061356617950623\u001b[0m\n",
      "\u001b[32m2024-05-22 17:13:48.831\u001b[0m | \u001b[1mINFO    \u001b[0m | \u001b[36mfeature_extraction.feature_extractor\u001b[0m:\u001b[36mprocess_folder\u001b[0m:\u001b[36m148\u001b[0m - \u001b[1mProcessing input folder: D:/data_analysis/speech_emotion_recognition/data/EnglishDataset/cleaned_data1\u001b[0m\n"
     ]
    },
    {
     "name": "stdout",
     "output_type": "stream",
     "text": [
      "Scaler: MinMaxScaler, Model: <class 'sklearn.ensemble._forest.ExtraTreesClassifier'>, n_mfcc: 13, Selected features: ['zcr', 'rms'], Accuracy: 0.5061356617950623\n"
     ]
    },
    {
     "name": "stderr",
     "output_type": "stream",
     "text": [
      "\u001b[32m2024-05-22 17:14:21.208\u001b[0m | \u001b[1mINFO    \u001b[0m | \u001b[36mfeature_extraction.feature_extractor\u001b[0m:\u001b[36mprocess_folder\u001b[0m:\u001b[36m158\u001b[0m - \u001b[1mFeature extraction completed. Data saved to: D:/data_analysis/speech_emotion_recognition/notebooks/feature3.csv\u001b[0m\n",
      "\u001b[32m2024-05-22 17:14:21.226\u001b[0m | \u001b[1mINFO    \u001b[0m | \u001b[36mdata_processing.english_data_processing\u001b[0m:\u001b[36mevaluate_models\u001b[0m:\u001b[36m53\u001b[0m - \u001b[1mFinding best model....\u001b[0m\n",
      "\u001b[32m2024-05-22 17:14:36.416\u001b[0m | \u001b[1mINFO    \u001b[0m | \u001b[36mdata_processing.english_data_processing\u001b[0m:\u001b[36mevaluate_models\u001b[0m:\u001b[36m74\u001b[0m - \u001b[1mModel <class 'sklearn.ensemble._forest.RandomForestClassifier'> - scaler: None, accuracy: 0.4071442490298076\u001b[0m\n",
      "\u001b[32m2024-05-22 17:14:43.465\u001b[0m | \u001b[1mINFO    \u001b[0m | \u001b[36mdata_processing.english_data_processing\u001b[0m:\u001b[36mevaluate_models\u001b[0m:\u001b[36m74\u001b[0m - \u001b[1mModel <class 'sklearn.ensemble._forest.ExtraTreesClassifier'> - scaler: None, accuracy: 0.39859978531913137\u001b[0m\n",
      "\u001b[32m2024-05-22 17:14:58.809\u001b[0m | \u001b[1mINFO    \u001b[0m | \u001b[36mdata_processing.english_data_processing\u001b[0m:\u001b[36mevaluate_models\u001b[0m:\u001b[36m74\u001b[0m - \u001b[1mModel <class 'sklearn.ensemble._forest.RandomForestClassifier'> - scaler: StandardScaler(), accuracy: 0.4026909421187351\u001b[0m\n",
      "\u001b[32m2024-05-22 17:15:05.895\u001b[0m | \u001b[1mINFO    \u001b[0m | \u001b[36mdata_processing.english_data_processing\u001b[0m:\u001b[36mevaluate_models\u001b[0m:\u001b[36m74\u001b[0m - \u001b[1mModel <class 'sklearn.ensemble._forest.ExtraTreesClassifier'> - scaler: StandardScaler(), accuracy: 0.4025087110890926\u001b[0m\n",
      "\u001b[32m2024-05-22 17:15:21.245\u001b[0m | \u001b[1mINFO    \u001b[0m | \u001b[36mdata_processing.english_data_processing\u001b[0m:\u001b[36mevaluate_models\u001b[0m:\u001b[36m74\u001b[0m - \u001b[1mModel <class 'sklearn.ensemble._forest.RandomForestClassifier'> - scaler: MinMaxScaler(), accuracy: 0.40650912393691685\u001b[0m\n",
      "\u001b[32m2024-05-22 17:15:28.388\u001b[0m | \u001b[1mINFO    \u001b[0m | \u001b[36mdata_processing.english_data_processing\u001b[0m:\u001b[36mevaluate_models\u001b[0m:\u001b[36m74\u001b[0m - \u001b[1mModel <class 'sklearn.ensemble._forest.ExtraTreesClassifier'> - scaler: MinMaxScaler(), accuracy: 0.3993262323507555\u001b[0m\n",
      "\u001b[32m2024-05-22 17:15:44.586\u001b[0m | \u001b[1mINFO    \u001b[0m | \u001b[36mdata_processing.english_data_processing\u001b[0m:\u001b[36mevaluate_models\u001b[0m:\u001b[36m74\u001b[0m - \u001b[1mModel <class 'sklearn.ensemble._forest.RandomForestClassifier'> - scaler: MaxAbsScaler(), accuracy: 0.402327140615969\u001b[0m\n",
      "\u001b[32m2024-05-22 17:15:52.334\u001b[0m | \u001b[1mINFO    \u001b[0m | \u001b[36mdata_processing.english_data_processing\u001b[0m:\u001b[36mevaluate_models\u001b[0m:\u001b[36m74\u001b[0m - \u001b[1mModel <class 'sklearn.ensemble._forest.ExtraTreesClassifier'> - scaler: MaxAbsScaler(), accuracy: 0.4032352406902816\u001b[0m\n",
      "\u001b[32m2024-05-22 17:16:09.423\u001b[0m | \u001b[1mINFO    \u001b[0m | \u001b[36mdata_processing.english_data_processing\u001b[0m:\u001b[36mevaluate_models\u001b[0m:\u001b[36m74\u001b[0m - \u001b[1mModel <class 'sklearn.ensemble._forest.RandomForestClassifier'> - scaler: RobustScaler(), accuracy: 0.40505408306498225\u001b[0m\n",
      "\u001b[32m2024-05-22 17:16:17.594\u001b[0m | \u001b[1mINFO    \u001b[0m | \u001b[36mdata_processing.english_data_processing\u001b[0m:\u001b[36mevaluate_models\u001b[0m:\u001b[36m74\u001b[0m - \u001b[1mModel <class 'sklearn.ensemble._forest.ExtraTreesClassifier'> - scaler: RobustScaler(), accuracy: 0.40105300966063917\u001b[0m\n",
      "\u001b[32m2024-05-22 17:16:36.116\u001b[0m | \u001b[1mINFO    \u001b[0m | \u001b[36mdata_processing.english_data_processing\u001b[0m:\u001b[36mevaluate_models\u001b[0m:\u001b[36m74\u001b[0m - \u001b[1mModel <class 'sklearn.ensemble._forest.RandomForestClassifier'> - scaler: Normalizer(), accuracy: 0.34696911898274296\u001b[0m\n",
      "\u001b[32m2024-05-22 17:16:43.623\u001b[0m | \u001b[1mINFO    \u001b[0m | \u001b[36mdata_processing.english_data_processing\u001b[0m:\u001b[36mevaluate_models\u001b[0m:\u001b[36m74\u001b[0m - \u001b[1mModel <class 'sklearn.ensemble._forest.ExtraTreesClassifier'> - scaler: Normalizer(), accuracy: 0.3426968871274048\u001b[0m\n",
      "\u001b[32m2024-05-22 17:16:43.624\u001b[0m | \u001b[1mINFO    \u001b[0m | \u001b[36mdata_processing.english_data_processing\u001b[0m:\u001b[36mevaluate_models\u001b[0m:\u001b[36m82\u001b[0m - \u001b[1mBest Model: <class 'sklearn.ensemble._forest.RandomForestClassifier'>\u001b[0m\n",
      "\u001b[32m2024-05-22 17:16:43.625\u001b[0m | \u001b[1mINFO    \u001b[0m | \u001b[36mdata_processing.english_data_processing\u001b[0m:\u001b[36mevaluate_models\u001b[0m:\u001b[36m83\u001b[0m - \u001b[1mBest Scaler: None\u001b[0m\n",
      "\u001b[32m2024-05-22 17:16:43.625\u001b[0m | \u001b[1mINFO    \u001b[0m | \u001b[36mdata_processing.english_data_processing\u001b[0m:\u001b[36mevaluate_models\u001b[0m:\u001b[36m84\u001b[0m - \u001b[1mBest Average Accuracy: 0.4071442490298076\u001b[0m\n",
      "\u001b[32m2024-05-22 17:16:43.627\u001b[0m | \u001b[1mINFO    \u001b[0m | \u001b[36mfeature_extraction.feature_extractor\u001b[0m:\u001b[36mprocess_folder\u001b[0m:\u001b[36m148\u001b[0m - \u001b[1mProcessing input folder: D:/data_analysis/speech_emotion_recognition/data/EnglishDataset/cleaned_data1\u001b[0m\n"
     ]
    },
    {
     "name": "stdout",
     "output_type": "stream",
     "text": [
      "Scaler: None, Model: <class 'sklearn.ensemble._forest.RandomForestClassifier'>, n_mfcc: 13, Selected features: ['zcr', 'pitch'], Accuracy: 0.4071442490298076\n"
     ]
    },
    {
     "name": "stderr",
     "output_type": "stream",
     "text": [
      "\u001b[32m2024-05-22 17:17:32.987\u001b[0m | \u001b[1mINFO    \u001b[0m | \u001b[36mfeature_extraction.feature_extractor\u001b[0m:\u001b[36mprocess_folder\u001b[0m:\u001b[36m158\u001b[0m - \u001b[1mFeature extraction completed. Data saved to: D:/data_analysis/speech_emotion_recognition/notebooks/feature3.csv\u001b[0m\n",
      "\u001b[32m2024-05-22 17:17:33.068\u001b[0m | \u001b[1mINFO    \u001b[0m | \u001b[36mdata_processing.english_data_processing\u001b[0m:\u001b[36mevaluate_models\u001b[0m:\u001b[36m53\u001b[0m - \u001b[1mFinding best model....\u001b[0m\n",
      "\u001b[32m2024-05-22 17:18:36.233\u001b[0m | \u001b[1mINFO    \u001b[0m | \u001b[36mdata_processing.english_data_processing\u001b[0m:\u001b[36mevaluate_models\u001b[0m:\u001b[36m74\u001b[0m - \u001b[1mModel <class 'sklearn.ensemble._forest.RandomForestClassifier'> - scaler: None, accuracy: 0.6193080670464867\u001b[0m\n",
      "\u001b[32m2024-05-22 17:18:50.215\u001b[0m | \u001b[1mINFO    \u001b[0m | \u001b[36mdata_processing.english_data_processing\u001b[0m:\u001b[36mevaluate_models\u001b[0m:\u001b[36m74\u001b[0m - \u001b[1mModel <class 'sklearn.ensemble._forest.ExtraTreesClassifier'> - scaler: None, accuracy: 0.6193998018330443\u001b[0m\n",
      "\u001b[32m2024-05-22 17:19:49.191\u001b[0m | \u001b[1mINFO    \u001b[0m | \u001b[36mdata_processing.english_data_processing\u001b[0m:\u001b[36mevaluate_models\u001b[0m:\u001b[36m74\u001b[0m - \u001b[1mModel <class 'sklearn.ensemble._forest.RandomForestClassifier'> - scaler: StandardScaler(), accuracy: 0.6162174882338369\u001b[0m\n",
      "\u001b[32m2024-05-22 17:20:02.235\u001b[0m | \u001b[1mINFO    \u001b[0m | \u001b[36mdata_processing.english_data_processing\u001b[0m:\u001b[36mevaluate_models\u001b[0m:\u001b[36m74\u001b[0m - \u001b[1mModel <class 'sklearn.ensemble._forest.ExtraTreesClassifier'> - scaler: StandardScaler(), accuracy: 0.6200350094955\u001b[0m\n",
      "\u001b[32m2024-05-22 17:21:03.171\u001b[0m | \u001b[1mINFO    \u001b[0m | \u001b[36mdata_processing.english_data_processing\u001b[0m:\u001b[36mevaluate_models\u001b[0m:\u001b[36m74\u001b[0m - \u001b[1mModel <class 'sklearn.ensemble._forest.RandomForestClassifier'> - scaler: MinMaxScaler(), accuracy: 0.6149453389480637\u001b[0m\n",
      "\u001b[32m2024-05-22 17:21:16.988\u001b[0m | \u001b[1mINFO    \u001b[0m | \u001b[36mdata_processing.english_data_processing\u001b[0m:\u001b[36mevaluate_models\u001b[0m:\u001b[36m74\u001b[0m - \u001b[1mModel <class 'sklearn.ensemble._forest.ExtraTreesClassifier'> - scaler: MinMaxScaler(), accuracy: 0.6170362480389728\u001b[0m\n",
      "\u001b[32m2024-05-22 17:22:20.462\u001b[0m | \u001b[1mINFO    \u001b[0m | \u001b[36mdata_processing.english_data_processing\u001b[0m:\u001b[36mevaluate_models\u001b[0m:\u001b[36m74\u001b[0m - \u001b[1mModel <class 'sklearn.ensemble._forest.RandomForestClassifier'> - scaler: MaxAbsScaler(), accuracy: 0.6165810420279085\u001b[0m\n",
      "\u001b[32m2024-05-22 17:22:34.659\u001b[0m | \u001b[1mINFO    \u001b[0m | \u001b[36mdata_processing.english_data_processing\u001b[0m:\u001b[36mevaluate_models\u001b[0m:\u001b[36m74\u001b[0m - \u001b[1mModel <class 'sklearn.ensemble._forest.ExtraTreesClassifier'> - scaler: MaxAbsScaler(), accuracy: 0.6210355874824539\u001b[0m\n",
      "\u001b[32m2024-05-22 17:23:35.478\u001b[0m | \u001b[1mINFO    \u001b[0m | \u001b[36mdata_processing.english_data_processing\u001b[0m:\u001b[36mevaluate_models\u001b[0m:\u001b[36m74\u001b[0m - \u001b[1mModel <class 'sklearn.ensemble._forest.RandomForestClassifier'> - scaler: RobustScaler(), accuracy: 0.6166724465362068\u001b[0m\n",
      "\u001b[32m2024-05-22 17:23:48.465\u001b[0m | \u001b[1mINFO    \u001b[0m | \u001b[36mdata_processing.english_data_processing\u001b[0m:\u001b[36mevaluate_models\u001b[0m:\u001b[36m74\u001b[0m - \u001b[1mModel <class 'sklearn.ensemble._forest.ExtraTreesClassifier'> - scaler: RobustScaler(), accuracy: 0.6166723639666419\u001b[0m\n",
      "\u001b[32m2024-05-22 17:24:43.610\u001b[0m | \u001b[1mINFO    \u001b[0m | \u001b[36mdata_processing.english_data_processing\u001b[0m:\u001b[36mevaluate_models\u001b[0m:\u001b[36m74\u001b[0m - \u001b[1mModel <class 'sklearn.ensemble._forest.RandomForestClassifier'> - scaler: Normalizer(), accuracy: 0.592037238873751\u001b[0m\n",
      "\u001b[32m2024-05-22 17:24:57.022\u001b[0m | \u001b[1mINFO    \u001b[0m | \u001b[36mdata_processing.english_data_processing\u001b[0m:\u001b[36mevaluate_models\u001b[0m:\u001b[36m74\u001b[0m - \u001b[1mModel <class 'sklearn.ensemble._forest.ExtraTreesClassifier'> - scaler: Normalizer(), accuracy: 0.5908556684006274\u001b[0m\n",
      "\u001b[32m2024-05-22 17:24:57.023\u001b[0m | \u001b[1mINFO    \u001b[0m | \u001b[36mdata_processing.english_data_processing\u001b[0m:\u001b[36mevaluate_models\u001b[0m:\u001b[36m82\u001b[0m - \u001b[1mBest Model: <class 'sklearn.ensemble._forest.ExtraTreesClassifier'>\u001b[0m\n",
      "\u001b[32m2024-05-22 17:24:57.024\u001b[0m | \u001b[1mINFO    \u001b[0m | \u001b[36mdata_processing.english_data_processing\u001b[0m:\u001b[36mevaluate_models\u001b[0m:\u001b[36m83\u001b[0m - \u001b[1mBest Scaler: MaxAbsScaler\u001b[0m\n",
      "\u001b[32m2024-05-22 17:24:57.024\u001b[0m | \u001b[1mINFO    \u001b[0m | \u001b[36mdata_processing.english_data_processing\u001b[0m:\u001b[36mevaluate_models\u001b[0m:\u001b[36m84\u001b[0m - \u001b[1mBest Average Accuracy: 0.6210355874824539\u001b[0m\n",
      "\u001b[32m2024-05-22 17:24:57.026\u001b[0m | \u001b[1mINFO    \u001b[0m | \u001b[36mfeature_extraction.feature_extractor\u001b[0m:\u001b[36mprocess_folder\u001b[0m:\u001b[36m148\u001b[0m - \u001b[1mProcessing input folder: D:/data_analysis/speech_emotion_recognition/data/EnglishDataset/cleaned_data1\u001b[0m\n"
     ]
    },
    {
     "name": "stdout",
     "output_type": "stream",
     "text": [
      "Scaler: MaxAbsScaler, Model: <class 'sklearn.ensemble._forest.ExtraTreesClassifier'>, n_mfcc: 13, Selected features: ['mfcc_statistics', 'rms'], Accuracy: 0.6210355874824539\n"
     ]
    },
    {
     "name": "stderr",
     "output_type": "stream",
     "text": [
      "\u001b[32m2024-05-22 17:26:01.487\u001b[0m | \u001b[1mINFO    \u001b[0m | \u001b[36mfeature_extraction.feature_extractor\u001b[0m:\u001b[36mprocess_folder\u001b[0m:\u001b[36m158\u001b[0m - \u001b[1mFeature extraction completed. Data saved to: D:/data_analysis/speech_emotion_recognition/notebooks/feature3.csv\u001b[0m\n",
      "\u001b[32m2024-05-22 17:26:01.571\u001b[0m | \u001b[1mINFO    \u001b[0m | \u001b[36mdata_processing.english_data_processing\u001b[0m:\u001b[36mevaluate_models\u001b[0m:\u001b[36m53\u001b[0m - \u001b[1mFinding best model....\u001b[0m\n",
      "\u001b[32m2024-05-22 17:27:05.760\u001b[0m | \u001b[1mINFO    \u001b[0m | \u001b[36mdata_processing.english_data_processing\u001b[0m:\u001b[36mevaluate_models\u001b[0m:\u001b[36m74\u001b[0m - \u001b[1mModel <class 'sklearn.ensemble._forest.RandomForestClassifier'> - scaler: None, accuracy: 0.6233991412765255\u001b[0m\n",
      "\u001b[32m2024-05-22 17:27:20.566\u001b[0m | \u001b[1mINFO    \u001b[0m | \u001b[36mdata_processing.english_data_processing\u001b[0m:\u001b[36mevaluate_models\u001b[0m:\u001b[36m74\u001b[0m - \u001b[1mModel <class 'sklearn.ensemble._forest.ExtraTreesClassifier'> - scaler: None, accuracy: 0.6173087276030056\u001b[0m\n",
      "\u001b[32m2024-05-22 17:28:24.303\u001b[0m | \u001b[1mINFO    \u001b[0m | \u001b[36mdata_processing.english_data_processing\u001b[0m:\u001b[36mevaluate_models\u001b[0m:\u001b[36m74\u001b[0m - \u001b[1mModel <class 'sklearn.ensemble._forest.RandomForestClassifier'> - scaler: StandardScaler(), accuracy: 0.6151275699777063\u001b[0m\n",
      "\u001b[32m2024-05-22 17:28:38.469\u001b[0m | \u001b[1mINFO    \u001b[0m | \u001b[36mdata_processing.english_data_processing\u001b[0m:\u001b[36mevaluate_models\u001b[0m:\u001b[36m74\u001b[0m - \u001b[1mModel <class 'sklearn.ensemble._forest.ExtraTreesClassifier'> - scaler: StandardScaler(), accuracy: 0.6223077367682273\u001b[0m\n",
      "\u001b[32m2024-05-22 17:29:38.313\u001b[0m | \u001b[1mINFO    \u001b[0m | \u001b[36mdata_processing.english_data_processing\u001b[0m:\u001b[36mevaluate_models\u001b[0m:\u001b[36m74\u001b[0m - \u001b[1mModel <class 'sklearn.ensemble._forest.RandomForestClassifier'> - scaler: MinMaxScaler(), accuracy: 0.6175798860540005\u001b[0m\n",
      "\u001b[32m2024-05-22 17:29:51.299\u001b[0m | \u001b[1mINFO    \u001b[0m | \u001b[36mdata_processing.english_data_processing\u001b[0m:\u001b[36mevaluate_models\u001b[0m:\u001b[36m74\u001b[0m - \u001b[1mModel <class 'sklearn.ensemble._forest.ExtraTreesClassifier'> - scaler: MinMaxScaler(), accuracy: 0.621489224671786\u001b[0m\n",
      "\u001b[32m2024-05-22 17:30:53.358\u001b[0m | \u001b[1mINFO    \u001b[0m | \u001b[36mdata_processing.english_data_processing\u001b[0m:\u001b[36mevaluate_models\u001b[0m:\u001b[36m74\u001b[0m - \u001b[1mModel <class 'sklearn.ensemble._forest.RandomForestClassifier'> - scaler: MaxAbsScaler(), accuracy: 0.6179449261002394\u001b[0m\n",
      "\u001b[32m2024-05-22 17:31:07.470\u001b[0m | \u001b[1mINFO    \u001b[0m | \u001b[36mdata_processing.english_data_processing\u001b[0m:\u001b[36mevaluate_models\u001b[0m:\u001b[36m74\u001b[0m - \u001b[1mModel <class 'sklearn.ensemble._forest.ExtraTreesClassifier'> - scaler: MaxAbsScaler(), accuracy: 0.6193991412765255\u001b[0m\n",
      "\u001b[32m2024-05-22 17:32:10.023\u001b[0m | \u001b[1mINFO    \u001b[0m | \u001b[36mdata_processing.english_data_processing\u001b[0m:\u001b[36mevaluate_models\u001b[0m:\u001b[36m74\u001b[0m - \u001b[1mModel <class 'sklearn.ensemble._forest.RandomForestClassifier'> - scaler: RobustScaler(), accuracy: 0.6177623647923375\u001b[0m\n",
      "\u001b[32m2024-05-22 17:32:23.145\u001b[0m | \u001b[1mINFO    \u001b[0m | \u001b[36mdata_processing.english_data_processing\u001b[0m:\u001b[36mevaluate_models\u001b[0m:\u001b[36m74\u001b[0m - \u001b[1mModel <class 'sklearn.ensemble._forest.ExtraTreesClassifier'> - scaler: RobustScaler(), accuracy: 0.6158543472875898\u001b[0m\n",
      "\u001b[32m2024-05-22 17:33:19.544\u001b[0m | \u001b[1mINFO    \u001b[0m | \u001b[36mdata_processing.english_data_processing\u001b[0m:\u001b[36mevaluate_models\u001b[0m:\u001b[36m74\u001b[0m - \u001b[1mModel <class 'sklearn.ensemble._forest.RandomForestClassifier'> - scaler: Normalizer(), accuracy: 0.5903093881595244\u001b[0m\n",
      "\u001b[32m2024-05-22 17:33:32.670\u001b[0m | \u001b[1mINFO    \u001b[0m | \u001b[36mdata_processing.english_data_processing\u001b[0m:\u001b[36mevaluate_models\u001b[0m:\u001b[36m74\u001b[0m - \u001b[1mModel <class 'sklearn.ensemble._forest.ExtraTreesClassifier'> - scaler: Normalizer(), accuracy: 0.5888572372223597\u001b[0m\n",
      "\u001b[32m2024-05-22 17:33:32.671\u001b[0m | \u001b[1mINFO    \u001b[0m | \u001b[36mdata_processing.english_data_processing\u001b[0m:\u001b[36mevaluate_models\u001b[0m:\u001b[36m82\u001b[0m - \u001b[1mBest Model: <class 'sklearn.ensemble._forest.RandomForestClassifier'>\u001b[0m\n",
      "\u001b[32m2024-05-22 17:33:32.672\u001b[0m | \u001b[1mINFO    \u001b[0m | \u001b[36mdata_processing.english_data_processing\u001b[0m:\u001b[36mevaluate_models\u001b[0m:\u001b[36m83\u001b[0m - \u001b[1mBest Scaler: None\u001b[0m\n",
      "\u001b[32m2024-05-22 17:33:32.672\u001b[0m | \u001b[1mINFO    \u001b[0m | \u001b[36mdata_processing.english_data_processing\u001b[0m:\u001b[36mevaluate_models\u001b[0m:\u001b[36m84\u001b[0m - \u001b[1mBest Average Accuracy: 0.6233991412765255\u001b[0m\n",
      "\u001b[32m2024-05-22 17:33:32.673\u001b[0m | \u001b[1mINFO    \u001b[0m | \u001b[36mfeature_extraction.feature_extractor\u001b[0m:\u001b[36mprocess_folder\u001b[0m:\u001b[36m148\u001b[0m - \u001b[1mProcessing input folder: D:/data_analysis/speech_emotion_recognition/data/EnglishDataset/cleaned_data1\u001b[0m\n"
     ]
    },
    {
     "name": "stdout",
     "output_type": "stream",
     "text": [
      "Scaler: None, Model: <class 'sklearn.ensemble._forest.RandomForestClassifier'>, n_mfcc: 13, Selected features: ['mfcc_statistics', 'pitch'], Accuracy: 0.6233991412765255\n"
     ]
    },
    {
     "name": "stderr",
     "output_type": "stream",
     "text": [
      "\u001b[32m2024-05-22 17:35:05.577\u001b[0m | \u001b[1mINFO    \u001b[0m | \u001b[36mfeature_extraction.feature_extractor\u001b[0m:\u001b[36mprocess_folder\u001b[0m:\u001b[36m158\u001b[0m - \u001b[1mFeature extraction completed. Data saved to: D:/data_analysis/speech_emotion_recognition/notebooks/feature3.csv\u001b[0m\n",
      "\u001b[32m2024-05-22 17:35:05.655\u001b[0m | \u001b[1mINFO    \u001b[0m | \u001b[36mdata_processing.english_data_processing\u001b[0m:\u001b[36mevaluate_models\u001b[0m:\u001b[36m53\u001b[0m - \u001b[1mFinding best model....\u001b[0m\n",
      "\u001b[32m2024-05-22 17:36:03.637\u001b[0m | \u001b[1mINFO    \u001b[0m | \u001b[36mdata_processing.english_data_processing\u001b[0m:\u001b[36mevaluate_models\u001b[0m:\u001b[36m74\u001b[0m - \u001b[1mModel <class 'sklearn.ensemble._forest.RandomForestClassifier'> - scaler: None, accuracy: 0.6125813723061679\u001b[0m\n",
      "\u001b[32m2024-05-22 17:36:16.636\u001b[0m | \u001b[1mINFO    \u001b[0m | \u001b[36mdata_processing.english_data_processing\u001b[0m:\u001b[36mevaluate_models\u001b[0m:\u001b[36m74\u001b[0m - \u001b[1mModel <class 'sklearn.ensemble._forest.ExtraTreesClassifier'> - scaler: None, accuracy: 0.6124919494674262\u001b[0m\n",
      "\u001b[32m2024-05-22 17:37:14.172\u001b[0m | \u001b[1mINFO    \u001b[0m | \u001b[36mdata_processing.english_data_processing\u001b[0m:\u001b[36mevaluate_models\u001b[0m:\u001b[36m74\u001b[0m - \u001b[1mModel <class 'sklearn.ensemble._forest.RandomForestClassifier'> - scaler: StandardScaler(), accuracy: 0.612945173808934\u001b[0m\n",
      "\u001b[32m2024-05-22 17:37:27.334\u001b[0m | \u001b[1mINFO    \u001b[0m | \u001b[36mdata_processing.english_data_processing\u001b[0m:\u001b[36mevaluate_models\u001b[0m:\u001b[36m74\u001b[0m - \u001b[1mModel <class 'sklearn.ensemble._forest.ExtraTreesClassifier'> - scaler: StandardScaler(), accuracy: 0.6127646767401536\u001b[0m\n",
      "\u001b[32m2024-05-22 17:38:25.541\u001b[0m | \u001b[1mINFO    \u001b[0m | \u001b[36mdata_processing.english_data_processing\u001b[0m:\u001b[36mevaluate_models\u001b[0m:\u001b[36m74\u001b[0m - \u001b[1mModel <class 'sklearn.ensemble._forest.RandomForestClassifier'> - scaler: MinMaxScaler(), accuracy: 0.6125813723061679\u001b[0m\n",
      "\u001b[32m2024-05-22 17:38:38.660\u001b[0m | \u001b[1mINFO    \u001b[0m | \u001b[36mdata_processing.english_data_processing\u001b[0m:\u001b[36mevaluate_models\u001b[0m:\u001b[36m74\u001b[0m - \u001b[1mModel <class 'sklearn.ensemble._forest.ExtraTreesClassifier'> - scaler: MinMaxScaler(), accuracy: 0.6134902155065645\u001b[0m\n",
      "\u001b[32m2024-05-22 17:39:36.809\u001b[0m | \u001b[1mINFO    \u001b[0m | \u001b[36mdata_processing.english_data_processing\u001b[0m:\u001b[36mevaluate_models\u001b[0m:\u001b[36m74\u001b[0m - \u001b[1mModel <class 'sklearn.ensemble._forest.RandomForestClassifier'> - scaler: MaxAbsScaler(), accuracy: 0.6167625299314673\u001b[0m\n",
      "\u001b[32m2024-05-22 17:39:49.968\u001b[0m | \u001b[1mINFO    \u001b[0m | \u001b[36mdata_processing.english_data_processing\u001b[0m:\u001b[36mevaluate_models\u001b[0m:\u001b[36m74\u001b[0m - \u001b[1mModel <class 'sklearn.ensemble._forest.ExtraTreesClassifier'> - scaler: MaxAbsScaler(), accuracy: 0.6112190570555693\u001b[0m\n",
      "\u001b[32m2024-05-22 17:40:48.862\u001b[0m | \u001b[1mINFO    \u001b[0m | \u001b[36mdata_processing.english_data_processing\u001b[0m:\u001b[36mevaluate_models\u001b[0m:\u001b[36m74\u001b[0m - \u001b[1mModel <class 'sklearn.ensemble._forest.RandomForestClassifier'> - scaler: RobustScaler(), accuracy: 0.6087632730575511\u001b[0m\n",
      "\u001b[32m2024-05-22 17:41:02.366\u001b[0m | \u001b[1mINFO    \u001b[0m | \u001b[36mdata_processing.english_data_processing\u001b[0m:\u001b[36mevaluate_models\u001b[0m:\u001b[36m74\u001b[0m - \u001b[1mModel <class 'sklearn.ensemble._forest.ExtraTreesClassifier'> - scaler: RobustScaler(), accuracy: 0.6131264965733629\u001b[0m\n",
      "\u001b[32m2024-05-22 17:41:58.000\u001b[0m | \u001b[1mINFO    \u001b[0m | \u001b[36mdata_processing.english_data_processing\u001b[0m:\u001b[36mevaluate_models\u001b[0m:\u001b[36m74\u001b[0m - \u001b[1mModel <class 'sklearn.ensemble._forest.RandomForestClassifier'> - scaler: Normalizer(), accuracy: 0.5814931880108992\u001b[0m\n",
      "\u001b[32m2024-05-22 17:42:11.283\u001b[0m | \u001b[1mINFO    \u001b[0m | \u001b[36mdata_processing.english_data_processing\u001b[0m:\u001b[36mevaluate_models\u001b[0m:\u001b[36m74\u001b[0m - \u001b[1mModel <class 'sklearn.ensemble._forest.ExtraTreesClassifier'> - scaler: Normalizer(), accuracy: 0.5886750887622823\u001b[0m\n",
      "\u001b[32m2024-05-22 17:42:11.284\u001b[0m | \u001b[1mINFO    \u001b[0m | \u001b[36mdata_processing.english_data_processing\u001b[0m:\u001b[36mevaluate_models\u001b[0m:\u001b[36m82\u001b[0m - \u001b[1mBest Model: <class 'sklearn.ensemble._forest.RandomForestClassifier'>\u001b[0m\n",
      "\u001b[32m2024-05-22 17:42:11.285\u001b[0m | \u001b[1mINFO    \u001b[0m | \u001b[36mdata_processing.english_data_processing\u001b[0m:\u001b[36mevaluate_models\u001b[0m:\u001b[36m83\u001b[0m - \u001b[1mBest Scaler: MaxAbsScaler\u001b[0m\n",
      "\u001b[32m2024-05-22 17:42:11.285\u001b[0m | \u001b[1mINFO    \u001b[0m | \u001b[36mdata_processing.english_data_processing\u001b[0m:\u001b[36mevaluate_models\u001b[0m:\u001b[36m84\u001b[0m - \u001b[1mBest Average Accuracy: 0.6167625299314673\u001b[0m\n",
      "\u001b[32m2024-05-22 17:42:11.287\u001b[0m | \u001b[1mINFO    \u001b[0m | \u001b[36mfeature_extraction.feature_extractor\u001b[0m:\u001b[36mprocess_folder\u001b[0m:\u001b[36m148\u001b[0m - \u001b[1mProcessing input folder: D:/data_analysis/speech_emotion_recognition/data/EnglishDataset/cleaned_data1\u001b[0m\n"
     ]
    },
    {
     "name": "stdout",
     "output_type": "stream",
     "text": [
      "Scaler: MaxAbsScaler, Model: <class 'sklearn.ensemble._forest.RandomForestClassifier'>, n_mfcc: 13, Selected features: ['mfcc_statistics', 'zcr'], Accuracy: 0.6167625299314673\n"
     ]
    },
    {
     "name": "stderr",
     "output_type": "stream",
     "text": [
      "\u001b[32m2024-05-22 17:42:55.903\u001b[0m | \u001b[1mINFO    \u001b[0m | \u001b[36mfeature_extraction.feature_extractor\u001b[0m:\u001b[36mprocess_folder\u001b[0m:\u001b[36m158\u001b[0m - \u001b[1mFeature extraction completed. Data saved to: D:/data_analysis/speech_emotion_recognition/notebooks/feature3.csv\u001b[0m\n",
      "\u001b[32m2024-05-22 17:42:55.936\u001b[0m | \u001b[1mINFO    \u001b[0m | \u001b[36mdata_processing.english_data_processing\u001b[0m:\u001b[36mevaluate_models\u001b[0m:\u001b[36m53\u001b[0m - \u001b[1mFinding best model....\u001b[0m\n",
      "\u001b[32m2024-05-22 17:43:29.496\u001b[0m | \u001b[1mINFO    \u001b[0m | \u001b[36mdata_processing.english_data_processing\u001b[0m:\u001b[36mevaluate_models\u001b[0m:\u001b[36m74\u001b[0m - \u001b[1mModel <class 'sklearn.ensemble._forest.RandomForestClassifier'> - scaler: None, accuracy: 0.5803121129551647\u001b[0m\n",
      "\u001b[32m2024-05-22 17:43:39.378\u001b[0m | \u001b[1mINFO    \u001b[0m | \u001b[36mdata_processing.english_data_processing\u001b[0m:\u001b[36mevaluate_models\u001b[0m:\u001b[36m74\u001b[0m - \u001b[1mModel <class 'sklearn.ensemble._forest.ExtraTreesClassifier'> - scaler: None, accuracy: 0.5826746759144579\u001b[0m\n",
      "\u001b[32m2024-05-22 17:44:13.532\u001b[0m | \u001b[1mINFO    \u001b[0m | \u001b[36mdata_processing.english_data_processing\u001b[0m:\u001b[36mevaluate_models\u001b[0m:\u001b[36m74\u001b[0m - \u001b[1mModel <class 'sklearn.ensemble._forest.RandomForestClassifier'> - scaler: StandardScaler(), accuracy: 0.5767671538270994\u001b[0m\n",
      "\u001b[32m2024-05-22 17:44:23.362\u001b[0m | \u001b[1mINFO    \u001b[0m | \u001b[36mdata_processing.english_data_processing\u001b[0m:\u001b[36mevaluate_models\u001b[0m:\u001b[36m74\u001b[0m - \u001b[1mModel <class 'sklearn.ensemble._forest.ExtraTreesClassifier'> - scaler: StandardScaler(), accuracy: 0.5837656675749319\u001b[0m\n",
      "\u001b[32m2024-05-22 17:44:54.432\u001b[0m | \u001b[1mINFO    \u001b[0m | \u001b[36mdata_processing.english_data_processing\u001b[0m:\u001b[36mevaluate_models\u001b[0m:\u001b[36m74\u001b[0m - \u001b[1mModel <class 'sklearn.ensemble._forest.RandomForestClassifier'> - scaler: MinMaxScaler(), accuracy: 0.5796751713318471\u001b[0m\n",
      "\u001b[32m2024-05-22 17:45:03.266\u001b[0m | \u001b[1mINFO    \u001b[0m | \u001b[36mdata_processing.english_data_processing\u001b[0m:\u001b[36mevaluate_models\u001b[0m:\u001b[36m74\u001b[0m - \u001b[1mModel <class 'sklearn.ensemble._forest.ExtraTreesClassifier'> - scaler: MinMaxScaler(), accuracy: 0.5850383948476592\u001b[0m\n",
      "\u001b[32m2024-05-22 17:45:33.860\u001b[0m | \u001b[1mINFO    \u001b[0m | \u001b[36mdata_processing.english_data_processing\u001b[0m:\u001b[36mevaluate_models\u001b[0m:\u001b[36m74\u001b[0m - \u001b[1mModel <class 'sklearn.ensemble._forest.RandomForestClassifier'> - scaler: MaxAbsScaler(), accuracy: 0.5793105441334324\u001b[0m\n",
      "\u001b[32m2024-05-22 17:45:42.931\u001b[0m | \u001b[1mINFO    \u001b[0m | \u001b[36mdata_processing.english_data_processing\u001b[0m:\u001b[36mevaluate_models\u001b[0m:\u001b[36m74\u001b[0m - \u001b[1mModel <class 'sklearn.ensemble._forest.ExtraTreesClassifier'> - scaler: MaxAbsScaler(), accuracy: 0.586492775163075\u001b[0m\n",
      "\u001b[32m2024-05-22 17:46:13.580\u001b[0m | \u001b[1mINFO    \u001b[0m | \u001b[36mdata_processing.english_data_processing\u001b[0m:\u001b[36mevaluate_models\u001b[0m:\u001b[36m74\u001b[0m - \u001b[1mModel <class 'sklearn.ensemble._forest.RandomForestClassifier'> - scaler: RobustScaler(), accuracy: 0.5842202130294774\u001b[0m\n",
      "\u001b[32m2024-05-22 17:46:22.706\u001b[0m | \u001b[1mINFO    \u001b[0m | \u001b[36mdata_processing.english_data_processing\u001b[0m:\u001b[36mevaluate_models\u001b[0m:\u001b[36m74\u001b[0m - \u001b[1mModel <class 'sklearn.ensemble._forest.ExtraTreesClassifier'> - scaler: RobustScaler(), accuracy: 0.5855837668235488\u001b[0m\n",
      "\u001b[32m2024-05-22 17:46:52.215\u001b[0m | \u001b[1mINFO    \u001b[0m | \u001b[36mdata_processing.english_data_processing\u001b[0m:\u001b[36mevaluate_models\u001b[0m:\u001b[36m74\u001b[0m - \u001b[1mModel <class 'sklearn.ensemble._forest.RandomForestClassifier'> - scaler: Normalizer(), accuracy: 0.5717669886879697\u001b[0m\n",
      "\u001b[32m2024-05-22 17:47:01.963\u001b[0m | \u001b[1mINFO    \u001b[0m | \u001b[36mdata_processing.english_data_processing\u001b[0m:\u001b[36mevaluate_models\u001b[0m:\u001b[36m74\u001b[0m - \u001b[1mModel <class 'sklearn.ensemble._forest.ExtraTreesClassifier'> - scaler: Normalizer(), accuracy: 0.58049269259351\u001b[0m\n",
      "\u001b[32m2024-05-22 17:47:01.964\u001b[0m | \u001b[1mINFO    \u001b[0m | \u001b[36mdata_processing.english_data_processing\u001b[0m:\u001b[36mevaluate_models\u001b[0m:\u001b[36m82\u001b[0m - \u001b[1mBest Model: <class 'sklearn.ensemble._forest.ExtraTreesClassifier'>\u001b[0m\n",
      "\u001b[32m2024-05-22 17:47:01.965\u001b[0m | \u001b[1mINFO    \u001b[0m | \u001b[36mdata_processing.english_data_processing\u001b[0m:\u001b[36mevaluate_models\u001b[0m:\u001b[36m83\u001b[0m - \u001b[1mBest Scaler: MaxAbsScaler\u001b[0m\n",
      "\u001b[32m2024-05-22 17:47:01.965\u001b[0m | \u001b[1mINFO    \u001b[0m | \u001b[36mdata_processing.english_data_processing\u001b[0m:\u001b[36mevaluate_models\u001b[0m:\u001b[36m84\u001b[0m - \u001b[1mBest Average Accuracy: 0.586492775163075\u001b[0m\n",
      "\u001b[32m2024-05-22 17:47:01.967\u001b[0m | \u001b[1mINFO    \u001b[0m | \u001b[36mfeature_extraction.feature_extractor\u001b[0m:\u001b[36mprocess_folder\u001b[0m:\u001b[36m148\u001b[0m - \u001b[1mProcessing input folder: D:/data_analysis/speech_emotion_recognition/data/EnglishDataset/cleaned_data1\u001b[0m\n"
     ]
    },
    {
     "name": "stdout",
     "output_type": "stream",
     "text": [
      "Scaler: MaxAbsScaler, Model: <class 'sklearn.ensemble._forest.ExtraTreesClassifier'>, n_mfcc: 13, Selected features: ['mfcc', 'rms'], Accuracy: 0.586492775163075\n"
     ]
    },
    {
     "name": "stderr",
     "output_type": "stream",
     "text": [
      "\u001b[32m2024-05-22 17:48:02.511\u001b[0m | \u001b[1mINFO    \u001b[0m | \u001b[36mfeature_extraction.feature_extractor\u001b[0m:\u001b[36mprocess_folder\u001b[0m:\u001b[36m158\u001b[0m - \u001b[1mFeature extraction completed. Data saved to: D:/data_analysis/speech_emotion_recognition/notebooks/feature3.csv\u001b[0m\n",
      "\u001b[32m2024-05-22 17:48:02.549\u001b[0m | \u001b[1mINFO    \u001b[0m | \u001b[36mdata_processing.english_data_processing\u001b[0m:\u001b[36mevaluate_models\u001b[0m:\u001b[36m53\u001b[0m - \u001b[1mFinding best model....\u001b[0m\n",
      "\u001b[32m2024-05-22 17:48:25.982\u001b[0m | \u001b[1mINFO    \u001b[0m | \u001b[36mdata_processing.english_data_processing\u001b[0m:\u001b[36mevaluate_models\u001b[0m:\u001b[36m74\u001b[0m - \u001b[1mModel <class 'sklearn.ensemble._forest.RandomForestClassifier'> - scaler: None, accuracy: 0.5861299644950873\u001b[0m\n",
      "\u001b[32m2024-05-22 17:48:33.938\u001b[0m | \u001b[1mINFO    \u001b[0m | \u001b[36mdata_processing.english_data_processing\u001b[0m:\u001b[36mevaluate_models\u001b[0m:\u001b[36m74\u001b[0m - \u001b[1mModel <class 'sklearn.ensemble._forest.ExtraTreesClassifier'> - scaler: None, accuracy: 0.5847652547271076\u001b[0m\n",
      "\u001b[32m2024-05-22 17:48:57.542\u001b[0m | \u001b[1mINFO    \u001b[0m | \u001b[36mdata_processing.english_data_processing\u001b[0m:\u001b[36mevaluate_models\u001b[0m:\u001b[36m74\u001b[0m - \u001b[1mModel <class 'sklearn.ensemble._forest.RandomForestClassifier'> - scaler: StandardScaler(), accuracy: 0.5834939311369829\u001b[0m\n",
      "\u001b[32m2024-05-22 17:49:05.563\u001b[0m | \u001b[1mINFO    \u001b[0m | \u001b[36mdata_processing.english_data_processing\u001b[0m:\u001b[36mevaluate_models\u001b[0m:\u001b[36m74\u001b[0m - \u001b[1mModel <class 'sklearn.ensemble._forest.ExtraTreesClassifier'> - scaler: StandardScaler(), accuracy: 0.5853108744116918\u001b[0m\n",
      "\u001b[32m2024-05-22 17:49:29.602\u001b[0m | \u001b[1mINFO    \u001b[0m | \u001b[36mdata_processing.english_data_processing\u001b[0m:\u001b[36mevaluate_models\u001b[0m:\u001b[36m74\u001b[0m - \u001b[1mModel <class 'sklearn.ensemble._forest.RandomForestClassifier'> - scaler: MinMaxScaler(), accuracy: 0.5826734373709851\u001b[0m\n",
      "\u001b[32m2024-05-22 17:49:37.829\u001b[0m | \u001b[1mINFO    \u001b[0m | \u001b[36mdata_processing.english_data_processing\u001b[0m:\u001b[36mevaluate_models\u001b[0m:\u001b[36m74\u001b[0m - \u001b[1mModel <class 'sklearn.ensemble._forest.ExtraTreesClassifier'> - scaler: MinMaxScaler(), accuracy: 0.5853109569812567\u001b[0m\n",
      "\u001b[32m2024-05-22 17:50:01.946\u001b[0m | \u001b[1mINFO    \u001b[0m | \u001b[36mdata_processing.english_data_processing\u001b[0m:\u001b[36mevaluate_models\u001b[0m:\u001b[36m74\u001b[0m - \u001b[1mModel <class 'sklearn.ensemble._forest.RandomForestClassifier'> - scaler: MaxAbsScaler(), accuracy: 0.5851287259516141\u001b[0m\n",
      "\u001b[32m2024-05-22 17:50:10.069\u001b[0m | \u001b[1mINFO    \u001b[0m | \u001b[36mdata_processing.english_data_processing\u001b[0m:\u001b[36mevaluate_models\u001b[0m:\u001b[36m74\u001b[0m - \u001b[1mModel <class 'sklearn.ensemble._forest.ExtraTreesClassifier'> - scaler: MaxAbsScaler(), accuracy: 0.5846741804970688\u001b[0m\n",
      "\u001b[32m2024-05-22 17:50:35.127\u001b[0m | \u001b[1mINFO    \u001b[0m | \u001b[36mdata_processing.english_data_processing\u001b[0m:\u001b[36mevaluate_models\u001b[0m:\u001b[36m74\u001b[0m - \u001b[1mModel <class 'sklearn.ensemble._forest.RandomForestClassifier'> - scaler: RobustScaler(), accuracy: 0.58249269259351\u001b[0m\n",
      "\u001b[32m2024-05-22 17:50:43.835\u001b[0m | \u001b[1mINFO    \u001b[0m | \u001b[36mdata_processing.english_data_processing\u001b[0m:\u001b[36mevaluate_models\u001b[0m:\u001b[36m74\u001b[0m - \u001b[1mModel <class 'sklearn.ensemble._forest.ExtraTreesClassifier'> - scaler: RobustScaler(), accuracy: 0.588492114606556\u001b[0m\n",
      "\u001b[32m2024-05-22 17:51:08.954\u001b[0m | \u001b[1mINFO    \u001b[0m | \u001b[36mdata_processing.english_data_processing\u001b[0m:\u001b[36mevaluate_models\u001b[0m:\u001b[36m74\u001b[0m - \u001b[1mModel <class 'sklearn.ensemble._forest.RandomForestClassifier'> - scaler: Normalizer(), accuracy: 0.5661305424820412\u001b[0m\n",
      "\u001b[32m2024-05-22 17:51:17.549\u001b[0m | \u001b[1mINFO    \u001b[0m | \u001b[36mdata_processing.english_data_processing\u001b[0m:\u001b[36mevaluate_models\u001b[0m:\u001b[36m74\u001b[0m - \u001b[1mModel <class 'sklearn.ensemble._forest.ExtraTreesClassifier'> - scaler: Normalizer(), accuracy: 0.5703129386508133\u001b[0m\n",
      "\u001b[32m2024-05-22 17:51:17.550\u001b[0m | \u001b[1mINFO    \u001b[0m | \u001b[36mdata_processing.english_data_processing\u001b[0m:\u001b[36mevaluate_models\u001b[0m:\u001b[36m82\u001b[0m - \u001b[1mBest Model: <class 'sklearn.ensemble._forest.ExtraTreesClassifier'>\u001b[0m\n",
      "\u001b[32m2024-05-22 17:51:17.551\u001b[0m | \u001b[1mINFO    \u001b[0m | \u001b[36mdata_processing.english_data_processing\u001b[0m:\u001b[36mevaluate_models\u001b[0m:\u001b[36m83\u001b[0m - \u001b[1mBest Scaler: RobustScaler\u001b[0m\n",
      "\u001b[32m2024-05-22 17:51:17.551\u001b[0m | \u001b[1mINFO    \u001b[0m | \u001b[36mdata_processing.english_data_processing\u001b[0m:\u001b[36mevaluate_models\u001b[0m:\u001b[36m84\u001b[0m - \u001b[1mBest Average Accuracy: 0.588492114606556\u001b[0m\n",
      "\u001b[32m2024-05-22 17:51:17.552\u001b[0m | \u001b[1mINFO    \u001b[0m | \u001b[36mfeature_extraction.feature_extractor\u001b[0m:\u001b[36mprocess_folder\u001b[0m:\u001b[36m148\u001b[0m - \u001b[1mProcessing input folder: D:/data_analysis/speech_emotion_recognition/data/EnglishDataset/cleaned_data1\u001b[0m\n"
     ]
    },
    {
     "name": "stdout",
     "output_type": "stream",
     "text": [
      "Scaler: RobustScaler, Model: <class 'sklearn.ensemble._forest.ExtraTreesClassifier'>, n_mfcc: 13, Selected features: ['mfcc', 'pitch'], Accuracy: 0.588492114606556\n"
     ]
    },
    {
     "name": "stderr",
     "output_type": "stream",
     "text": [
      "\u001b[32m2024-05-22 17:51:59.658\u001b[0m | \u001b[1mINFO    \u001b[0m | \u001b[36mfeature_extraction.feature_extractor\u001b[0m:\u001b[36mprocess_folder\u001b[0m:\u001b[36m158\u001b[0m - \u001b[1mFeature extraction completed. Data saved to: D:/data_analysis/speech_emotion_recognition/notebooks/feature3.csv\u001b[0m\n",
      "\u001b[32m2024-05-22 17:51:59.689\u001b[0m | \u001b[1mINFO    \u001b[0m | \u001b[36mdata_processing.english_data_processing\u001b[0m:\u001b[36mevaluate_models\u001b[0m:\u001b[36m53\u001b[0m - \u001b[1mFinding best model....\u001b[0m\n",
      "\u001b[32m2024-05-22 17:52:31.575\u001b[0m | \u001b[1mINFO    \u001b[0m | \u001b[36mdata_processing.english_data_processing\u001b[0m:\u001b[36mevaluate_models\u001b[0m:\u001b[36m74\u001b[0m - \u001b[1mModel <class 'sklearn.ensemble._forest.RandomForestClassifier'> - scaler: None, accuracy: 0.5779478160350094\u001b[0m\n",
      "\u001b[32m2024-05-22 17:52:40.740\u001b[0m | \u001b[1mINFO    \u001b[0m | \u001b[36mdata_processing.english_data_processing\u001b[0m:\u001b[36mevaluate_models\u001b[0m:\u001b[36m74\u001b[0m - \u001b[1mModel <class 'sklearn.ensemble._forest.ExtraTreesClassifier'> - scaler: None, accuracy: 0.5742214515729502\u001b[0m\n",
      "\u001b[32m2024-05-22 17:53:10.430\u001b[0m | \u001b[1mINFO    \u001b[0m | \u001b[36mdata_processing.english_data_processing\u001b[0m:\u001b[36mevaluate_models\u001b[0m:\u001b[36m74\u001b[0m - \u001b[1mModel <class 'sklearn.ensemble._forest.RandomForestClassifier'> - scaler: StandardScaler(), accuracy: 0.5770388076954834\u001b[0m\n",
      "\u001b[32m2024-05-22 17:53:19.263\u001b[0m | \u001b[1mINFO    \u001b[0m | \u001b[36mdata_processing.english_data_processing\u001b[0m:\u001b[36mevaluate_models\u001b[0m:\u001b[36m74\u001b[0m - \u001b[1mModel <class 'sklearn.ensemble._forest.ExtraTreesClassifier'> - scaler: StandardScaler(), accuracy: 0.5775837668235487\u001b[0m\n",
      "\u001b[32m2024-05-22 17:53:48.147\u001b[0m | \u001b[1mINFO    \u001b[0m | \u001b[36mdata_processing.english_data_processing\u001b[0m:\u001b[36mevaluate_models\u001b[0m:\u001b[36m74\u001b[0m - \u001b[1mModel <class 'sklearn.ensemble._forest.RandomForestClassifier'> - scaler: MinMaxScaler(), accuracy: 0.5762210387251259\u001b[0m\n",
      "\u001b[32m2024-05-22 17:53:56.999\u001b[0m | \u001b[1mINFO    \u001b[0m | \u001b[36mdata_processing.english_data_processing\u001b[0m:\u001b[36mevaluate_models\u001b[0m:\u001b[36m74\u001b[0m - \u001b[1mModel <class 'sklearn.ensemble._forest.ExtraTreesClassifier'> - scaler: MinMaxScaler(), accuracy: 0.5740403765172158\u001b[0m\n",
      "\u001b[32m2024-05-22 17:54:25.958\u001b[0m | \u001b[1mINFO    \u001b[0m | \u001b[36mdata_processing.english_data_processing\u001b[0m:\u001b[36mevaluate_models\u001b[0m:\u001b[36m74\u001b[0m - \u001b[1mModel <class 'sklearn.ensemble._forest.RandomForestClassifier'> - scaler: MaxAbsScaler(), accuracy: 0.5744039303112872\u001b[0m\n",
      "\u001b[32m2024-05-22 17:54:34.960\u001b[0m | \u001b[1mINFO    \u001b[0m | \u001b[36mdata_processing.english_data_processing\u001b[0m:\u001b[36mevaluate_models\u001b[0m:\u001b[36m74\u001b[0m - \u001b[1mModel <class 'sklearn.ensemble._forest.ExtraTreesClassifier'> - scaler: MaxAbsScaler(), accuracy: 0.5746760795970605\u001b[0m\n",
      "\u001b[32m2024-05-22 17:55:04.733\u001b[0m | \u001b[1mINFO    \u001b[0m | \u001b[36mdata_processing.english_data_processing\u001b[0m:\u001b[36mevaluate_models\u001b[0m:\u001b[36m74\u001b[0m - \u001b[1mModel <class 'sklearn.ensemble._forest.RandomForestClassifier'> - scaler: RobustScaler(), accuracy: 0.5794931880108992\u001b[0m\n",
      "\u001b[32m2024-05-22 17:55:14.877\u001b[0m | \u001b[1mINFO    \u001b[0m | \u001b[36mdata_processing.english_data_processing\u001b[0m:\u001b[36mevaluate_models\u001b[0m:\u001b[36m74\u001b[0m - \u001b[1mModel <class 'sklearn.ensemble._forest.ExtraTreesClassifier'> - scaler: RobustScaler(), accuracy: 0.5731309553298655\u001b[0m\n",
      "\u001b[32m2024-05-22 17:55:46.137\u001b[0m | \u001b[1mINFO    \u001b[0m | \u001b[36mdata_processing.english_data_processing\u001b[0m:\u001b[36mevaluate_models\u001b[0m:\u001b[36m74\u001b[0m - \u001b[1mModel <class 'sklearn.ensemble._forest.RandomForestClassifier'> - scaler: Normalizer(), accuracy: 0.5689501279828255\u001b[0m\n",
      "\u001b[32m2024-05-22 17:55:55.322\u001b[0m | \u001b[1mINFO    \u001b[0m | \u001b[36mdata_processing.english_data_processing\u001b[0m:\u001b[36mevaluate_models\u001b[0m:\u001b[36m74\u001b[0m - \u001b[1mModel <class 'sklearn.ensemble._forest.ExtraTreesClassifier'> - scaler: Normalizer(), accuracy: 0.5659502931219553\u001b[0m\n",
      "\u001b[32m2024-05-22 17:55:55.323\u001b[0m | \u001b[1mINFO    \u001b[0m | \u001b[36mdata_processing.english_data_processing\u001b[0m:\u001b[36mevaluate_models\u001b[0m:\u001b[36m82\u001b[0m - \u001b[1mBest Model: <class 'sklearn.ensemble._forest.RandomForestClassifier'>\u001b[0m\n",
      "\u001b[32m2024-05-22 17:55:55.323\u001b[0m | \u001b[1mINFO    \u001b[0m | \u001b[36mdata_processing.english_data_processing\u001b[0m:\u001b[36mevaluate_models\u001b[0m:\u001b[36m83\u001b[0m - \u001b[1mBest Scaler: RobustScaler\u001b[0m\n",
      "\u001b[32m2024-05-22 17:55:55.324\u001b[0m | \u001b[1mINFO    \u001b[0m | \u001b[36mdata_processing.english_data_processing\u001b[0m:\u001b[36mevaluate_models\u001b[0m:\u001b[36m84\u001b[0m - \u001b[1mBest Average Accuracy: 0.5794931880108992\u001b[0m\n",
      "\u001b[32m2024-05-22 17:55:55.325\u001b[0m | \u001b[1mINFO    \u001b[0m | \u001b[36mfeature_extraction.feature_extractor\u001b[0m:\u001b[36mprocess_folder\u001b[0m:\u001b[36m148\u001b[0m - \u001b[1mProcessing input folder: D:/data_analysis/speech_emotion_recognition/data/EnglishDataset/cleaned_data1\u001b[0m\n"
     ]
    },
    {
     "name": "stdout",
     "output_type": "stream",
     "text": [
      "Scaler: RobustScaler, Model: <class 'sklearn.ensemble._forest.RandomForestClassifier'>, n_mfcc: 13, Selected features: ['mfcc', 'zcr'], Accuracy: 0.5794931880108992\n"
     ]
    },
    {
     "name": "stderr",
     "output_type": "stream",
     "text": [
      "\u001b[32m2024-05-22 17:57:07.625\u001b[0m | \u001b[1mINFO    \u001b[0m | \u001b[36mfeature_extraction.feature_extractor\u001b[0m:\u001b[36mprocess_folder\u001b[0m:\u001b[36m158\u001b[0m - \u001b[1mFeature extraction completed. Data saved to: D:/data_analysis/speech_emotion_recognition/notebooks/feature3.csv\u001b[0m\n",
      "\u001b[32m2024-05-22 17:57:07.708\u001b[0m | \u001b[1mINFO    \u001b[0m | \u001b[36mdata_processing.english_data_processing\u001b[0m:\u001b[36mevaluate_models\u001b[0m:\u001b[36m53\u001b[0m - \u001b[1mFinding best model....\u001b[0m\n",
      "\u001b[32m2024-05-22 17:58:04.943\u001b[0m | \u001b[1mINFO    \u001b[0m | \u001b[36mdata_processing.english_data_processing\u001b[0m:\u001b[36mevaluate_models\u001b[0m:\u001b[36m74\u001b[0m - \u001b[1mModel <class 'sklearn.ensemble._forest.RandomForestClassifier'> - scaler: None, accuracy: 0.6068545949962845\u001b[0m\n",
      "\u001b[32m2024-05-22 17:58:17.796\u001b[0m | \u001b[1mINFO    \u001b[0m | \u001b[36mdata_processing.english_data_processing\u001b[0m:\u001b[36mevaluate_models\u001b[0m:\u001b[36m74\u001b[0m - \u001b[1mModel <class 'sklearn.ensemble._forest.ExtraTreesClassifier'> - scaler: None, accuracy: 0.611762695070597\u001b[0m\n",
      "\u001b[32m2024-05-22 17:59:15.640\u001b[0m | \u001b[1mINFO    \u001b[0m | \u001b[36mdata_processing.english_data_processing\u001b[0m:\u001b[36mevaluate_models\u001b[0m:\u001b[36m74\u001b[0m - \u001b[1mModel <class 'sklearn.ensemble._forest.RandomForestClassifier'> - scaler: StandardScaler(), accuracy: 0.6110358351911486\u001b[0m\n",
      "\u001b[32m2024-05-22 17:59:28.505\u001b[0m | \u001b[1mINFO    \u001b[0m | \u001b[36mdata_processing.english_data_processing\u001b[0m:\u001b[36mevaluate_models\u001b[0m:\u001b[36m74\u001b[0m - \u001b[1mModel <class 'sklearn.ensemble._forest.ExtraTreesClassifier'> - scaler: StandardScaler(), accuracy: 0.6141267442820576\u001b[0m\n",
      "\u001b[32m2024-05-22 18:00:25.833\u001b[0m | \u001b[1mINFO    \u001b[0m | \u001b[36mdata_processing.english_data_processing\u001b[0m:\u001b[36mevaluate_models\u001b[0m:\u001b[36m74\u001b[0m - \u001b[1mModel <class 'sklearn.ensemble._forest.RandomForestClassifier'> - scaler: MinMaxScaler(), accuracy: 0.6171252580298902\u001b[0m\n",
      "\u001b[32m2024-05-22 18:00:38.363\u001b[0m | \u001b[1mINFO    \u001b[0m | \u001b[36mdata_processing.english_data_processing\u001b[0m:\u001b[36mevaluate_models\u001b[0m:\u001b[36m74\u001b[0m - \u001b[1mModel <class 'sklearn.ensemble._forest.ExtraTreesClassifier'> - scaler: MinMaxScaler(), accuracy: 0.608854264718025\u001b[0m\n",
      "\u001b[32m2024-05-22 18:01:35.331\u001b[0m | \u001b[1mINFO    \u001b[0m | \u001b[36mdata_processing.english_data_processing\u001b[0m:\u001b[36mevaluate_models\u001b[0m:\u001b[36m74\u001b[0m - \u001b[1mModel <class 'sklearn.ensemble._forest.RandomForestClassifier'> - scaler: MaxAbsScaler(), accuracy: 0.6140351746346298\u001b[0m\n",
      "\u001b[32m2024-05-22 18:01:47.931\u001b[0m | \u001b[1mINFO    \u001b[0m | \u001b[36mdata_processing.english_data_processing\u001b[0m:\u001b[36mevaluate_models\u001b[0m:\u001b[36m74\u001b[0m - \u001b[1mModel <class 'sklearn.ensemble._forest.ExtraTreesClassifier'> - scaler: MaxAbsScaler(), accuracy: 0.6108547601354141\u001b[0m\n",
      "\u001b[32m2024-05-22 18:02:45.689\u001b[0m | \u001b[1mINFO    \u001b[0m | \u001b[36mdata_processing.english_data_processing\u001b[0m:\u001b[36mevaluate_models\u001b[0m:\u001b[36m74\u001b[0m - \u001b[1mModel <class 'sklearn.ensemble._forest.RandomForestClassifier'> - scaler: RobustScaler(), accuracy: 0.6111267442820576\u001b[0m\n",
      "\u001b[32m2024-05-22 18:02:58.416\u001b[0m | \u001b[1mINFO    \u001b[0m | \u001b[36mdata_processing.english_data_processing\u001b[0m:\u001b[36mevaluate_models\u001b[0m:\u001b[36m74\u001b[0m - \u001b[1mModel <class 'sklearn.ensemble._forest.ExtraTreesClassifier'> - scaler: RobustScaler(), accuracy: 0.6106731896622906\u001b[0m\n",
      "\u001b[32m2024-05-22 18:03:54.179\u001b[0m | \u001b[1mINFO    \u001b[0m | \u001b[36mdata_processing.english_data_processing\u001b[0m:\u001b[36mevaluate_models\u001b[0m:\u001b[36m74\u001b[0m - \u001b[1mModel <class 'sklearn.ensemble._forest.RandomForestClassifier'> - scaler: Normalizer(), accuracy: 0.5823098010073486\u001b[0m\n",
      "\u001b[32m2024-05-22 18:04:07.182\u001b[0m | \u001b[1mINFO    \u001b[0m | \u001b[36mdata_processing.english_data_processing\u001b[0m:\u001b[36mevaluate_models\u001b[0m:\u001b[36m74\u001b[0m - \u001b[1mModel <class 'sklearn.ensemble._forest.ExtraTreesClassifier'> - scaler: Normalizer(), accuracy: 0.5832207084468665\u001b[0m\n",
      "\u001b[32m2024-05-22 18:04:07.183\u001b[0m | \u001b[1mINFO    \u001b[0m | \u001b[36mdata_processing.english_data_processing\u001b[0m:\u001b[36mevaluate_models\u001b[0m:\u001b[36m82\u001b[0m - \u001b[1mBest Model: <class 'sklearn.ensemble._forest.RandomForestClassifier'>\u001b[0m\n",
      "\u001b[32m2024-05-22 18:04:07.183\u001b[0m | \u001b[1mINFO    \u001b[0m | \u001b[36mdata_processing.english_data_processing\u001b[0m:\u001b[36mevaluate_models\u001b[0m:\u001b[36m83\u001b[0m - \u001b[1mBest Scaler: MinMaxScaler\u001b[0m\n",
      "\u001b[32m2024-05-22 18:04:07.184\u001b[0m | \u001b[1mINFO    \u001b[0m | \u001b[36mdata_processing.english_data_processing\u001b[0m:\u001b[36mevaluate_models\u001b[0m:\u001b[36m84\u001b[0m - \u001b[1mBest Average Accuracy: 0.6171252580298902\u001b[0m\n",
      "\u001b[32m2024-05-22 18:04:07.186\u001b[0m | \u001b[1mINFO    \u001b[0m | \u001b[36mfeature_extraction.feature_extractor\u001b[0m:\u001b[36mprocess_folder\u001b[0m:\u001b[36m148\u001b[0m - \u001b[1mProcessing input folder: D:/data_analysis/speech_emotion_recognition/data/EnglishDataset/cleaned_data1\u001b[0m\n"
     ]
    },
    {
     "name": "stdout",
     "output_type": "stream",
     "text": [
      "Scaler: MinMaxScaler, Model: <class 'sklearn.ensemble._forest.RandomForestClassifier'>, n_mfcc: 13, Selected features: ['mfcc', 'mfcc_statistics'], Accuracy: 0.6171252580298902\n"
     ]
    },
    {
     "name": "stderr",
     "output_type": "stream",
     "text": [
      "\u001b[32m2024-05-22 18:04:18.952\u001b[0m | \u001b[1mINFO    \u001b[0m | \u001b[36mfeature_extraction.feature_extractor\u001b[0m:\u001b[36mprocess_folder\u001b[0m:\u001b[36m158\u001b[0m - \u001b[1mFeature extraction completed. Data saved to: D:/data_analysis/speech_emotion_recognition/notebooks/feature3.csv\u001b[0m\n",
      "\u001b[32m2024-05-22 18:04:18.966\u001b[0m | \u001b[1mINFO    \u001b[0m | \u001b[36mdata_processing.english_data_processing\u001b[0m:\u001b[36mevaluate_models\u001b[0m:\u001b[36m53\u001b[0m - \u001b[1mFinding best model....\u001b[0m\n",
      "\u001b[32m2024-05-22 18:04:36.454\u001b[0m | \u001b[1mINFO    \u001b[0m | \u001b[36mdata_processing.english_data_processing\u001b[0m:\u001b[36mevaluate_models\u001b[0m:\u001b[36m74\u001b[0m - \u001b[1mModel <class 'sklearn.ensemble._forest.RandomForestClassifier'> - scaler: None, accuracy: 0.41823507555115186\u001b[0m\n",
      "\u001b[32m2024-05-22 18:04:43.319\u001b[0m | \u001b[1mINFO    \u001b[0m | \u001b[36mdata_processing.english_data_processing\u001b[0m:\u001b[36mevaluate_models\u001b[0m:\u001b[36m74\u001b[0m - \u001b[1mModel <class 'sklearn.ensemble._forest.ExtraTreesClassifier'> - scaler: None, accuracy: 0.41669052927091077\u001b[0m\n",
      "\u001b[32m2024-05-22 18:05:00.716\u001b[0m | \u001b[1mINFO    \u001b[0m | \u001b[36mdata_processing.english_data_processing\u001b[0m:\u001b[36mevaluate_models\u001b[0m:\u001b[36m74\u001b[0m - \u001b[1mModel <class 'sklearn.ensemble._forest.RandomForestClassifier'> - scaler: StandardScaler(), accuracy: 0.4205068119891008\u001b[0m\n",
      "\u001b[32m2024-05-22 18:05:07.621\u001b[0m | \u001b[1mINFO    \u001b[0m | \u001b[36mdata_processing.english_data_processing\u001b[0m:\u001b[36mevaluate_models\u001b[0m:\u001b[36m74\u001b[0m - \u001b[1mModel <class 'sklearn.ensemble._forest.ExtraTreesClassifier'> - scaler: StandardScaler(), accuracy: 0.4145082982412682\u001b[0m\n",
      "\u001b[32m2024-05-22 18:05:24.946\u001b[0m | \u001b[1mINFO    \u001b[0m | \u001b[36mdata_processing.english_data_processing\u001b[0m:\u001b[36mevaluate_models\u001b[0m:\u001b[36m74\u001b[0m - \u001b[1mModel <class 'sklearn.ensemble._forest.RandomForestClassifier'> - scaler: MinMaxScaler(), accuracy: 0.41932532408554213\u001b[0m\n",
      "\u001b[32m2024-05-22 18:05:31.828\u001b[0m | \u001b[1mINFO    \u001b[0m | \u001b[36mdata_processing.english_data_processing\u001b[0m:\u001b[36mevaluate_models\u001b[0m:\u001b[36m74\u001b[0m - \u001b[1mModel <class 'sklearn.ensemble._forest.ExtraTreesClassifier'> - scaler: MinMaxScaler(), accuracy: 0.41441738915035914\u001b[0m\n",
      "\u001b[32m2024-05-22 18:05:49.243\u001b[0m | \u001b[1mINFO    \u001b[0m | \u001b[36mdata_processing.english_data_processing\u001b[0m:\u001b[36mevaluate_models\u001b[0m:\u001b[36m74\u001b[0m - \u001b[1mModel <class 'sklearn.ensemble._forest.RandomForestClassifier'> - scaler: MaxAbsScaler(), accuracy: 0.41659862934522335\u001b[0m\n",
      "\u001b[32m2024-05-22 18:05:56.120\u001b[0m | \u001b[1mINFO    \u001b[0m | \u001b[36mdata_processing.english_data_processing\u001b[0m:\u001b[36mevaluate_models\u001b[0m:\u001b[36m74\u001b[0m - \u001b[1mModel <class 'sklearn.ensemble._forest.ExtraTreesClassifier'> - scaler: MaxAbsScaler(), accuracy: 0.4143268103377095\u001b[0m\n",
      "\u001b[32m2024-05-22 18:06:13.572\u001b[0m | \u001b[1mINFO    \u001b[0m | \u001b[36mdata_processing.english_data_processing\u001b[0m:\u001b[36mevaluate_models\u001b[0m:\u001b[36m74\u001b[0m - \u001b[1mModel <class 'sklearn.ensemble._forest.RandomForestClassifier'> - scaler: RobustScaler(), accuracy: 0.418234992981587\u001b[0m\n",
      "\u001b[32m2024-05-22 18:06:20.485\u001b[0m | \u001b[1mINFO    \u001b[0m | \u001b[36mdata_processing.english_data_processing\u001b[0m:\u001b[36mevaluate_models\u001b[0m:\u001b[36m74\u001b[0m - \u001b[1mModel <class 'sklearn.ensemble._forest.ExtraTreesClassifier'> - scaler: RobustScaler(), accuracy: 0.41578119065312524\u001b[0m\n",
      "\u001b[32m2024-05-22 18:06:38.207\u001b[0m | \u001b[1mINFO    \u001b[0m | \u001b[36mdata_processing.english_data_processing\u001b[0m:\u001b[36mevaluate_models\u001b[0m:\u001b[36m74\u001b[0m - \u001b[1mModel <class 'sklearn.ensemble._forest.RandomForestClassifier'> - scaler: Normalizer(), accuracy: 0.39787366856576667\u001b[0m\n",
      "\u001b[32m2024-05-22 18:06:45.223\u001b[0m | \u001b[1mINFO    \u001b[0m | \u001b[36mdata_processing.english_data_processing\u001b[0m:\u001b[36mevaluate_models\u001b[0m:\u001b[36m74\u001b[0m - \u001b[1mModel <class 'sklearn.ensemble._forest.ExtraTreesClassifier'> - scaler: Normalizer(), accuracy: 0.39105589959540915\u001b[0m\n",
      "\u001b[32m2024-05-22 18:06:45.224\u001b[0m | \u001b[1mINFO    \u001b[0m | \u001b[36mdata_processing.english_data_processing\u001b[0m:\u001b[36mevaluate_models\u001b[0m:\u001b[36m82\u001b[0m - \u001b[1mBest Model: <class 'sklearn.ensemble._forest.RandomForestClassifier'>\u001b[0m\n",
      "\u001b[32m2024-05-22 18:06:45.224\u001b[0m | \u001b[1mINFO    \u001b[0m | \u001b[36mdata_processing.english_data_processing\u001b[0m:\u001b[36mevaluate_models\u001b[0m:\u001b[36m83\u001b[0m - \u001b[1mBest Scaler: StandardScaler\u001b[0m\n",
      "\u001b[32m2024-05-22 18:06:45.225\u001b[0m | \u001b[1mINFO    \u001b[0m | \u001b[36mdata_processing.english_data_processing\u001b[0m:\u001b[36mevaluate_models\u001b[0m:\u001b[36m84\u001b[0m - \u001b[1mBest Average Accuracy: 0.4205068119891008\u001b[0m\n",
      "\u001b[32m2024-05-22 18:06:45.226\u001b[0m | \u001b[1mINFO    \u001b[0m | \u001b[36mfeature_extraction.feature_extractor\u001b[0m:\u001b[36mprocess_folder\u001b[0m:\u001b[36m148\u001b[0m - \u001b[1mProcessing input folder: D:/data_analysis/speech_emotion_recognition/data/EnglishDataset/cleaned_data1\u001b[0m\n"
     ]
    },
    {
     "name": "stdout",
     "output_type": "stream",
     "text": [
      "Scaler: StandardScaler, Model: <class 'sklearn.ensemble._forest.RandomForestClassifier'>, n_mfcc: 13, Selected features: ['rms'], Accuracy: 0.4205068119891008\n"
     ]
    },
    {
     "name": "stderr",
     "output_type": "stream",
     "text": [
      "\u001b[32m2024-05-22 18:07:11.411\u001b[0m | \u001b[1mINFO    \u001b[0m | \u001b[36mfeature_extraction.feature_extractor\u001b[0m:\u001b[36mprocess_folder\u001b[0m:\u001b[36m158\u001b[0m - \u001b[1mFeature extraction completed. Data saved to: D:/data_analysis/speech_emotion_recognition/notebooks/feature3.csv\u001b[0m\n",
      "\u001b[32m2024-05-22 18:07:11.423\u001b[0m | \u001b[1mINFO    \u001b[0m | \u001b[36mdata_processing.english_data_processing\u001b[0m:\u001b[36mevaluate_models\u001b[0m:\u001b[36m53\u001b[0m - \u001b[1mFinding best model....\u001b[0m\n",
      "\u001b[32m2024-05-22 18:07:24.028\u001b[0m | \u001b[1mINFO    \u001b[0m | \u001b[36mdata_processing.english_data_processing\u001b[0m:\u001b[36mevaluate_models\u001b[0m:\u001b[36m74\u001b[0m - \u001b[1mModel <class 'sklearn.ensemble._forest.RandomForestClassifier'> - scaler: None, accuracy: 0.21361613409297334\u001b[0m\n",
      "\u001b[32m2024-05-22 18:07:30.193\u001b[0m | \u001b[1mINFO    \u001b[0m | \u001b[36mdata_processing.english_data_processing\u001b[0m:\u001b[36mevaluate_models\u001b[0m:\u001b[36m74\u001b[0m - \u001b[1mModel <class 'sklearn.ensemble._forest.ExtraTreesClassifier'> - scaler: None, accuracy: 0.2142527454380315\u001b[0m\n",
      "\u001b[32m2024-05-22 18:07:42.876\u001b[0m | \u001b[1mINFO    \u001b[0m | \u001b[36mdata_processing.english_data_processing\u001b[0m:\u001b[36mevaluate_models\u001b[0m:\u001b[36m74\u001b[0m - \u001b[1mModel <class 'sklearn.ensemble._forest.RandomForestClassifier'> - scaler: StandardScaler(), accuracy: 0.21352522500206422\u001b[0m\n",
      "\u001b[32m2024-05-22 18:07:49.022\u001b[0m | \u001b[1mINFO    \u001b[0m | \u001b[36mdata_processing.english_data_processing\u001b[0m:\u001b[36mevaluate_models\u001b[0m:\u001b[36m74\u001b[0m - \u001b[1mModel <class 'sklearn.ensemble._forest.ExtraTreesClassifier'> - scaler: StandardScaler(), accuracy: 0.21307076211708362\u001b[0m\n",
      "\u001b[32m2024-05-22 18:08:01.695\u001b[0m | \u001b[1mINFO    \u001b[0m | \u001b[36mdata_processing.english_data_processing\u001b[0m:\u001b[36mevaluate_models\u001b[0m:\u001b[36m74\u001b[0m - \u001b[1mModel <class 'sklearn.ensemble._forest.RandomForestClassifier'> - scaler: MinMaxScaler(), accuracy: 0.2133434893898109\u001b[0m\n",
      "\u001b[32m2024-05-22 18:08:07.822\u001b[0m | \u001b[1mINFO    \u001b[0m | \u001b[36mdata_processing.english_data_processing\u001b[0m:\u001b[36mevaluate_models\u001b[0m:\u001b[36m74\u001b[0m - \u001b[1mModel <class 'sklearn.ensemble._forest.ExtraTreesClassifier'> - scaler: MinMaxScaler(), accuracy: 0.21416167120799273\u001b[0m\n",
      "\u001b[32m2024-05-22 18:08:20.438\u001b[0m | \u001b[1mINFO    \u001b[0m | \u001b[36mdata_processing.english_data_processing\u001b[0m:\u001b[36mevaluate_models\u001b[0m:\u001b[36m74\u001b[0m - \u001b[1mModel <class 'sklearn.ensemble._forest.RandomForestClassifier'> - scaler: MaxAbsScaler(), accuracy: 0.21370712575344725\u001b[0m\n",
      "\u001b[32m2024-05-22 18:08:26.544\u001b[0m | \u001b[1mINFO    \u001b[0m | \u001b[36mdata_processing.english_data_processing\u001b[0m:\u001b[36mevaluate_models\u001b[0m:\u001b[36m74\u001b[0m - \u001b[1mModel <class 'sklearn.ensemble._forest.ExtraTreesClassifier'> - scaler: MaxAbsScaler(), accuracy: 0.2155254727107588\u001b[0m\n",
      "\u001b[32m2024-05-22 18:08:39.279\u001b[0m | \u001b[1mINFO    \u001b[0m | \u001b[36mdata_processing.english_data_processing\u001b[0m:\u001b[36mevaluate_models\u001b[0m:\u001b[36m74\u001b[0m - \u001b[1mModel <class 'sklearn.ensemble._forest.RandomForestClassifier'> - scaler: RobustScaler(), accuracy: 0.21370704318388242\u001b[0m\n",
      "\u001b[32m2024-05-22 18:08:45.403\u001b[0m | \u001b[1mINFO    \u001b[0m | \u001b[36mdata_processing.english_data_processing\u001b[0m:\u001b[36mevaluate_models\u001b[0m:\u001b[36m74\u001b[0m - \u001b[1mModel <class 'sklearn.ensemble._forest.ExtraTreesClassifier'> - scaler: RobustScaler(), accuracy: 0.2130705969779539\u001b[0m\n",
      "\u001b[32m2024-05-22 18:08:46.573\u001b[0m | \u001b[1mINFO    \u001b[0m | \u001b[36mdata_processing.english_data_processing\u001b[0m:\u001b[36mevaluate_models\u001b[0m:\u001b[36m74\u001b[0m - \u001b[1mModel <class 'sklearn.ensemble._forest.RandomForestClassifier'> - scaler: Normalizer(), accuracy: 0.15589464123524072\u001b[0m\n",
      "\u001b[32m2024-05-22 18:08:47.443\u001b[0m | \u001b[1mINFO    \u001b[0m | \u001b[36mdata_processing.english_data_processing\u001b[0m:\u001b[36mevaluate_models\u001b[0m:\u001b[36m74\u001b[0m - \u001b[1mModel <class 'sklearn.ensemble._forest.ExtraTreesClassifier'> - scaler: Normalizer(), accuracy: 0.1558037321443316\u001b[0m\n",
      "\u001b[32m2024-05-22 18:08:47.443\u001b[0m | \u001b[1mINFO    \u001b[0m | \u001b[36mdata_processing.english_data_processing\u001b[0m:\u001b[36mevaluate_models\u001b[0m:\u001b[36m82\u001b[0m - \u001b[1mBest Model: <class 'sklearn.ensemble._forest.ExtraTreesClassifier'>\u001b[0m\n",
      "\u001b[32m2024-05-22 18:08:47.444\u001b[0m | \u001b[1mINFO    \u001b[0m | \u001b[36mdata_processing.english_data_processing\u001b[0m:\u001b[36mevaluate_models\u001b[0m:\u001b[36m83\u001b[0m - \u001b[1mBest Scaler: MaxAbsScaler\u001b[0m\n",
      "\u001b[32m2024-05-22 18:08:47.444\u001b[0m | \u001b[1mINFO    \u001b[0m | \u001b[36mdata_processing.english_data_processing\u001b[0m:\u001b[36mevaluate_models\u001b[0m:\u001b[36m84\u001b[0m - \u001b[1mBest Average Accuracy: 0.2155254727107588\u001b[0m\n",
      "\u001b[32m2024-05-22 18:08:47.445\u001b[0m | \u001b[1mINFO    \u001b[0m | \u001b[36mfeature_extraction.feature_extractor\u001b[0m:\u001b[36mprocess_folder\u001b[0m:\u001b[36m148\u001b[0m - \u001b[1mProcessing input folder: D:/data_analysis/speech_emotion_recognition/data/EnglishDataset/cleaned_data1\u001b[0m\n"
     ]
    },
    {
     "name": "stdout",
     "output_type": "stream",
     "text": [
      "Scaler: MaxAbsScaler, Model: <class 'sklearn.ensemble._forest.ExtraTreesClassifier'>, n_mfcc: 13, Selected features: ['pitch'], Accuracy: 0.2155254727107588\n"
     ]
    },
    {
     "name": "stderr",
     "output_type": "stream",
     "text": [
      "\u001b[32m2024-05-22 18:08:57.264\u001b[0m | \u001b[1mINFO    \u001b[0m | \u001b[36mfeature_extraction.feature_extractor\u001b[0m:\u001b[36mprocess_folder\u001b[0m:\u001b[36m158\u001b[0m - \u001b[1mFeature extraction completed. Data saved to: D:/data_analysis/speech_emotion_recognition/notebooks/feature3.csv\u001b[0m\n",
      "\u001b[32m2024-05-22 18:08:57.279\u001b[0m | \u001b[1mINFO    \u001b[0m | \u001b[36mdata_processing.english_data_processing\u001b[0m:\u001b[36mevaluate_models\u001b[0m:\u001b[36m53\u001b[0m - \u001b[1mFinding best model....\u001b[0m\n",
      "\u001b[32m2024-05-22 18:09:11.921\u001b[0m | \u001b[1mINFO    \u001b[0m | \u001b[36mdata_processing.english_data_processing\u001b[0m:\u001b[36mevaluate_models\u001b[0m:\u001b[36m74\u001b[0m - \u001b[1mModel <class 'sklearn.ensemble._forest.RandomForestClassifier'> - scaler: None, accuracy: 0.3706927586491619\u001b[0m\n",
      "\u001b[32m2024-05-22 18:09:18.958\u001b[0m | \u001b[1mINFO    \u001b[0m | \u001b[36mdata_processing.english_data_processing\u001b[0m:\u001b[36mevaluate_models\u001b[0m:\u001b[36m74\u001b[0m - \u001b[1mModel <class 'sklearn.ensemble._forest.ExtraTreesClassifier'> - scaler: None, accuracy: 0.3606028403930311\u001b[0m\n",
      "\u001b[32m2024-05-22 18:09:33.623\u001b[0m | \u001b[1mINFO    \u001b[0m | \u001b[36mdata_processing.english_data_processing\u001b[0m:\u001b[36mevaluate_models\u001b[0m:\u001b[36m74\u001b[0m - \u001b[1mModel <class 'sklearn.ensemble._forest.RandomForestClassifier'> - scaler: StandardScaler(), accuracy: 0.3671488729254397\u001b[0m\n",
      "\u001b[32m2024-05-22 18:09:40.620\u001b[0m | \u001b[1mINFO    \u001b[0m | \u001b[36mdata_processing.english_data_processing\u001b[0m:\u001b[36mevaluate_models\u001b[0m:\u001b[36m74\u001b[0m - \u001b[1mModel <class 'sklearn.ensemble._forest.ExtraTreesClassifier'> - scaler: StandardScaler(), accuracy: 0.36078490628354387\u001b[0m\n",
      "\u001b[32m2024-05-22 18:09:55.286\u001b[0m | \u001b[1mINFO    \u001b[0m | \u001b[36mdata_processing.english_data_processing\u001b[0m:\u001b[36mevaluate_models\u001b[0m:\u001b[36m74\u001b[0m - \u001b[1mModel <class 'sklearn.ensemble._forest.RandomForestClassifier'> - scaler: MinMaxScaler(), accuracy: 0.36614862521674507\u001b[0m\n",
      "\u001b[32m2024-05-22 18:10:02.314\u001b[0m | \u001b[1mINFO    \u001b[0m | \u001b[36mdata_processing.english_data_processing\u001b[0m:\u001b[36mevaluate_models\u001b[0m:\u001b[36m74\u001b[0m - \u001b[1mModel <class 'sklearn.ensemble._forest.ExtraTreesClassifier'> - scaler: MinMaxScaler(), accuracy: 0.3643297002724796\u001b[0m\n",
      "\u001b[32m2024-05-22 18:10:16.925\u001b[0m | \u001b[1mINFO    \u001b[0m | \u001b[36mdata_processing.english_data_processing\u001b[0m:\u001b[36mevaluate_models\u001b[0m:\u001b[36m74\u001b[0m - \u001b[1mModel <class 'sklearn.ensemble._forest.RandomForestClassifier'> - scaler: MaxAbsScaler(), accuracy: 0.3665117661629923\u001b[0m\n",
      "\u001b[32m2024-05-22 18:10:23.961\u001b[0m | \u001b[1mINFO    \u001b[0m | \u001b[36mdata_processing.english_data_processing\u001b[0m:\u001b[36mevaluate_models\u001b[0m:\u001b[36m74\u001b[0m - \u001b[1mModel <class 'sklearn.ensemble._forest.ExtraTreesClassifier'> - scaler: MaxAbsScaler(), accuracy: 0.36351143588473284\u001b[0m\n",
      "\u001b[32m2024-05-22 18:10:38.589\u001b[0m | \u001b[1mINFO    \u001b[0m | \u001b[36mdata_processing.english_data_processing\u001b[0m:\u001b[36mevaluate_models\u001b[0m:\u001b[36m74\u001b[0m - \u001b[1mModel <class 'sklearn.ensemble._forest.RandomForestClassifier'> - scaler: RobustScaler(), accuracy: 0.3686938320535051\u001b[0m\n",
      "\u001b[32m2024-05-22 18:10:45.623\u001b[0m | \u001b[1mINFO    \u001b[0m | \u001b[36mdata_processing.english_data_processing\u001b[0m:\u001b[36mevaluate_models\u001b[0m:\u001b[36m74\u001b[0m - \u001b[1mModel <class 'sklearn.ensemble._forest.ExtraTreesClassifier'> - scaler: RobustScaler(), accuracy: 0.36351184873255715\u001b[0m\n",
      "\u001b[32m2024-05-22 18:11:04.519\u001b[0m | \u001b[1mINFO    \u001b[0m | \u001b[36mdata_processing.english_data_processing\u001b[0m:\u001b[36mevaluate_models\u001b[0m:\u001b[36m74\u001b[0m - \u001b[1mModel <class 'sklearn.ensemble._forest.RandomForestClassifier'> - scaler: Normalizer(), accuracy: 0.31597093551316985\u001b[0m\n",
      "\u001b[32m2024-05-22 18:11:11.691\u001b[0m | \u001b[1mINFO    \u001b[0m | \u001b[36mdata_processing.english_data_processing\u001b[0m:\u001b[36mevaluate_models\u001b[0m:\u001b[36m74\u001b[0m - \u001b[1mModel <class 'sklearn.ensemble._forest.ExtraTreesClassifier'> - scaler: Normalizer(), accuracy: 0.30951630748905956\u001b[0m\n",
      "\u001b[32m2024-05-22 18:11:11.691\u001b[0m | \u001b[1mINFO    \u001b[0m | \u001b[36mdata_processing.english_data_processing\u001b[0m:\u001b[36mevaluate_models\u001b[0m:\u001b[36m82\u001b[0m - \u001b[1mBest Model: <class 'sklearn.ensemble._forest.RandomForestClassifier'>\u001b[0m\n",
      "\u001b[32m2024-05-22 18:11:11.692\u001b[0m | \u001b[1mINFO    \u001b[0m | \u001b[36mdata_processing.english_data_processing\u001b[0m:\u001b[36mevaluate_models\u001b[0m:\u001b[36m83\u001b[0m - \u001b[1mBest Scaler: None\u001b[0m\n",
      "\u001b[32m2024-05-22 18:11:11.692\u001b[0m | \u001b[1mINFO    \u001b[0m | \u001b[36mdata_processing.english_data_processing\u001b[0m:\u001b[36mevaluate_models\u001b[0m:\u001b[36m84\u001b[0m - \u001b[1mBest Average Accuracy: 0.3706927586491619\u001b[0m\n",
      "\u001b[32m2024-05-22 18:11:11.693\u001b[0m | \u001b[1mINFO    \u001b[0m | \u001b[36mfeature_extraction.feature_extractor\u001b[0m:\u001b[36mprocess_folder\u001b[0m:\u001b[36m148\u001b[0m - \u001b[1mProcessing input folder: D:/data_analysis/speech_emotion_recognition/data/EnglishDataset/cleaned_data1\u001b[0m\n"
     ]
    },
    {
     "name": "stdout",
     "output_type": "stream",
     "text": [
      "Scaler: None, Model: <class 'sklearn.ensemble._forest.RandomForestClassifier'>, n_mfcc: 13, Selected features: ['zcr'], Accuracy: 0.3706927586491619\n"
     ]
    },
    {
     "name": "stderr",
     "output_type": "stream",
     "text": [
      "\u001b[32m2024-05-22 18:11:52.812\u001b[0m | \u001b[1mINFO    \u001b[0m | \u001b[36mfeature_extraction.feature_extractor\u001b[0m:\u001b[36mprocess_folder\u001b[0m:\u001b[36m158\u001b[0m - \u001b[1mFeature extraction completed. Data saved to: D:/data_analysis/speech_emotion_recognition/notebooks/feature3.csv\u001b[0m\n",
      "\u001b[32m2024-05-22 18:11:52.884\u001b[0m | \u001b[1mINFO    \u001b[0m | \u001b[36mdata_processing.english_data_processing\u001b[0m:\u001b[36mevaluate_models\u001b[0m:\u001b[36m53\u001b[0m - \u001b[1mFinding best model....\u001b[0m\n",
      "\u001b[32m2024-05-22 18:12:49.508\u001b[0m | \u001b[1mINFO    \u001b[0m | \u001b[36mdata_processing.english_data_processing\u001b[0m:\u001b[36mevaluate_models\u001b[0m:\u001b[36m74\u001b[0m - \u001b[1mModel <class 'sklearn.ensemble._forest.RandomForestClassifier'> - scaler: None, accuracy: 0.610672941953596\u001b[0m\n",
      "\u001b[32m2024-05-22 18:13:01.862\u001b[0m | \u001b[1mINFO    \u001b[0m | \u001b[36mdata_processing.english_data_processing\u001b[0m:\u001b[36mevaluate_models\u001b[0m:\u001b[36m74\u001b[0m - \u001b[1mModel <class 'sklearn.ensemble._forest.ExtraTreesClassifier'> - scaler: None, accuracy: 0.6149447609611097\u001b[0m\n",
      "\u001b[32m2024-05-22 18:13:58.798\u001b[0m | \u001b[1mINFO    \u001b[0m | \u001b[36mdata_processing.english_data_processing\u001b[0m:\u001b[36mevaluate_models\u001b[0m:\u001b[36m74\u001b[0m - \u001b[1mModel <class 'sklearn.ensemble._forest.RandomForestClassifier'> - scaler: StandardScaler(), accuracy: 0.6113996366939147\u001b[0m\n",
      "\u001b[32m2024-05-22 18:14:11.457\u001b[0m | \u001b[1mINFO    \u001b[0m | \u001b[36mdata_processing.english_data_processing\u001b[0m:\u001b[36mevaluate_models\u001b[0m:\u001b[36m74\u001b[0m - \u001b[1mModel <class 'sklearn.ensemble._forest.ExtraTreesClassifier'> - scaler: StandardScaler(), accuracy: 0.6136721162579473\u001b[0m\n",
      "\u001b[32m2024-05-22 18:15:08.515\u001b[0m | \u001b[1mINFO    \u001b[0m | \u001b[36mdata_processing.english_data_processing\u001b[0m:\u001b[36mevaluate_models\u001b[0m:\u001b[36m74\u001b[0m - \u001b[1mModel <class 'sklearn.ensemble._forest.RandomForestClassifier'> - scaler: MinMaxScaler(), accuracy: 0.6110350094954999\u001b[0m\n",
      "\u001b[32m2024-05-22 18:15:21.028\u001b[0m | \u001b[1mINFO    \u001b[0m | \u001b[36mdata_processing.english_data_processing\u001b[0m:\u001b[36mevaluate_models\u001b[0m:\u001b[36m74\u001b[0m - \u001b[1mModel <class 'sklearn.ensemble._forest.ExtraTreesClassifier'> - scaler: MinMaxScaler(), accuracy: 0.6094903806456939\u001b[0m\n",
      "\u001b[32m2024-05-22 18:16:17.816\u001b[0m | \u001b[1mINFO    \u001b[0m | \u001b[36mdata_processing.english_data_processing\u001b[0m:\u001b[36mevaluate_models\u001b[0m:\u001b[36m74\u001b[0m - \u001b[1mModel <class 'sklearn.ensemble._forest.RandomForestClassifier'> - scaler: MaxAbsScaler(), accuracy: 0.613308479894311\u001b[0m\n",
      "\u001b[32m2024-05-22 18:16:30.369\u001b[0m | \u001b[1mINFO    \u001b[0m | \u001b[36mdata_processing.english_data_processing\u001b[0m:\u001b[36mevaluate_models\u001b[0m:\u001b[36m74\u001b[0m - \u001b[1mModel <class 'sklearn.ensemble._forest.ExtraTreesClassifier'> - scaler: MaxAbsScaler(), accuracy: 0.6168545949962844\u001b[0m\n",
      "\u001b[32m2024-05-22 18:17:27.221\u001b[0m | \u001b[1mINFO    \u001b[0m | \u001b[36mdata_processing.english_data_processing\u001b[0m:\u001b[36mevaluate_models\u001b[0m:\u001b[36m74\u001b[0m - \u001b[1mModel <class 'sklearn.ensemble._forest.RandomForestClassifier'> - scaler: RobustScaler(), accuracy: 0.6114902980761291\u001b[0m\n",
      "\u001b[32m2024-05-22 18:17:39.844\u001b[0m | \u001b[1mINFO    \u001b[0m | \u001b[36mdata_processing.english_data_processing\u001b[0m:\u001b[36mevaluate_models\u001b[0m:\u001b[36m74\u001b[0m - \u001b[1mModel <class 'sklearn.ensemble._forest.ExtraTreesClassifier'> - scaler: RobustScaler(), accuracy: 0.6102183964990504\u001b[0m\n",
      "\u001b[32m2024-05-22 18:18:35.527\u001b[0m | \u001b[1mINFO    \u001b[0m | \u001b[36mdata_processing.english_data_processing\u001b[0m:\u001b[36mevaluate_models\u001b[0m:\u001b[36m74\u001b[0m - \u001b[1mModel <class 'sklearn.ensemble._forest.RandomForestClassifier'> - scaler: Normalizer(), accuracy: 0.5784942614152423\u001b[0m\n",
      "\u001b[32m2024-05-22 18:18:48.445\u001b[0m | \u001b[1mINFO    \u001b[0m | \u001b[36mdata_processing.english_data_processing\u001b[0m:\u001b[36mevaluate_models\u001b[0m:\u001b[36m74\u001b[0m - \u001b[1mModel <class 'sklearn.ensemble._forest.ExtraTreesClassifier'> - scaler: Normalizer(), accuracy: 0.5817660804227562\u001b[0m\n",
      "\u001b[32m2024-05-22 18:18:48.446\u001b[0m | \u001b[1mINFO    \u001b[0m | \u001b[36mdata_processing.english_data_processing\u001b[0m:\u001b[36mevaluate_models\u001b[0m:\u001b[36m82\u001b[0m - \u001b[1mBest Model: <class 'sklearn.ensemble._forest.ExtraTreesClassifier'>\u001b[0m\n",
      "\u001b[32m2024-05-22 18:18:48.446\u001b[0m | \u001b[1mINFO    \u001b[0m | \u001b[36mdata_processing.english_data_processing\u001b[0m:\u001b[36mevaluate_models\u001b[0m:\u001b[36m83\u001b[0m - \u001b[1mBest Scaler: MaxAbsScaler\u001b[0m\n",
      "\u001b[32m2024-05-22 18:18:48.447\u001b[0m | \u001b[1mINFO    \u001b[0m | \u001b[36mdata_processing.english_data_processing\u001b[0m:\u001b[36mevaluate_models\u001b[0m:\u001b[36m84\u001b[0m - \u001b[1mBest Average Accuracy: 0.6168545949962844\u001b[0m\n",
      "\u001b[32m2024-05-22 18:18:48.448\u001b[0m | \u001b[1mINFO    \u001b[0m | \u001b[36mfeature_extraction.feature_extractor\u001b[0m:\u001b[36mprocess_folder\u001b[0m:\u001b[36m148\u001b[0m - \u001b[1mProcessing input folder: D:/data_analysis/speech_emotion_recognition/data/EnglishDataset/cleaned_data1\u001b[0m\n"
     ]
    },
    {
     "name": "stdout",
     "output_type": "stream",
     "text": [
      "Scaler: MaxAbsScaler, Model: <class 'sklearn.ensemble._forest.ExtraTreesClassifier'>, n_mfcc: 13, Selected features: ['mfcc_statistics'], Accuracy: 0.6168545949962844\n"
     ]
    },
    {
     "name": "stderr",
     "output_type": "stream",
     "text": [
      "\u001b[32m2024-05-22 18:19:24.559\u001b[0m | \u001b[1mINFO    \u001b[0m | \u001b[36mfeature_extraction.feature_extractor\u001b[0m:\u001b[36mprocess_folder\u001b[0m:\u001b[36m158\u001b[0m - \u001b[1mFeature extraction completed. Data saved to: D:/data_analysis/speech_emotion_recognition/notebooks/feature3.csv\u001b[0m\n",
      "\u001b[32m2024-05-22 18:19:24.579\u001b[0m | \u001b[1mINFO    \u001b[0m | \u001b[36mdata_processing.english_data_processing\u001b[0m:\u001b[36mevaluate_models\u001b[0m:\u001b[36m53\u001b[0m - \u001b[1mFinding best model....\u001b[0m\n",
      "\u001b[32m2024-05-22 18:19:47.667\u001b[0m | \u001b[1mINFO    \u001b[0m | \u001b[36mdata_processing.english_data_processing\u001b[0m:\u001b[36mevaluate_models\u001b[0m:\u001b[36m74\u001b[0m - \u001b[1mModel <class 'sklearn.ensemble._forest.RandomForestClassifier'> - scaler: None, accuracy: 0.5682209561555611\u001b[0m\n",
      "\u001b[32m2024-05-22 18:19:55.401\u001b[0m | \u001b[1mINFO    \u001b[0m | \u001b[36mdata_processing.english_data_processing\u001b[0m:\u001b[36mevaluate_models\u001b[0m:\u001b[36m74\u001b[0m - \u001b[1mModel <class 'sklearn.ensemble._forest.ExtraTreesClassifier'> - scaler: None, accuracy: 0.5710388902650483\u001b[0m\n",
      "\u001b[32m2024-05-22 18:20:18.495\u001b[0m | \u001b[1mINFO    \u001b[0m | \u001b[36mdata_processing.english_data_processing\u001b[0m:\u001b[36mevaluate_models\u001b[0m:\u001b[36m74\u001b[0m - \u001b[1mModel <class 'sklearn.ensemble._forest.RandomForestClassifier'> - scaler: StandardScaler(), accuracy: 0.5700392205433077\u001b[0m\n",
      "\u001b[32m2024-05-22 18:20:26.293\u001b[0m | \u001b[1mINFO    \u001b[0m | \u001b[36mdata_processing.english_data_processing\u001b[0m:\u001b[36mevaluate_models\u001b[0m:\u001b[36m74\u001b[0m - \u001b[1mModel <class 'sklearn.ensemble._forest.ExtraTreesClassifier'> - scaler: StandardScaler(), accuracy: 0.5693135992073322\u001b[0m\n",
      "\u001b[32m2024-05-22 18:20:49.365\u001b[0m | \u001b[1mINFO    \u001b[0m | \u001b[36mdata_processing.english_data_processing\u001b[0m:\u001b[36mevaluate_models\u001b[0m:\u001b[36m74\u001b[0m - \u001b[1mModel <class 'sklearn.ensemble._forest.RandomForestClassifier'> - scaler: MinMaxScaler(), accuracy: 0.569767318966229\u001b[0m\n",
      "\u001b[32m2024-05-22 18:20:57.153\u001b[0m | \u001b[1mINFO    \u001b[0m | \u001b[36mdata_processing.english_data_processing\u001b[0m:\u001b[36mevaluate_models\u001b[0m:\u001b[36m74\u001b[0m - \u001b[1mModel <class 'sklearn.ensemble._forest.ExtraTreesClassifier'> - scaler: MinMaxScaler(), accuracy: 0.5685859136322351\u001b[0m\n",
      "\u001b[32m2024-05-22 18:21:20.450\u001b[0m | \u001b[1mINFO    \u001b[0m | \u001b[36mdata_processing.english_data_processing\u001b[0m:\u001b[36mevaluate_models\u001b[0m:\u001b[36m74\u001b[0m - \u001b[1mModel <class 'sklearn.ensemble._forest.RandomForestClassifier'> - scaler: MaxAbsScaler(), accuracy: 0.5684936008587235\u001b[0m\n",
      "\u001b[32m2024-05-22 18:21:28.229\u001b[0m | \u001b[1mINFO    \u001b[0m | \u001b[36mdata_processing.english_data_processing\u001b[0m:\u001b[36mevaluate_models\u001b[0m:\u001b[36m74\u001b[0m - \u001b[1mModel <class 'sklearn.ensemble._forest.ExtraTreesClassifier'> - scaler: MaxAbsScaler(), accuracy: 0.5694044257286763\u001b[0m\n",
      "\u001b[32m2024-05-22 18:21:51.624\u001b[0m | \u001b[1mINFO    \u001b[0m | \u001b[36mdata_processing.english_data_processing\u001b[0m:\u001b[36mevaluate_models\u001b[0m:\u001b[36m74\u001b[0m - \u001b[1mModel <class 'sklearn.ensemble._forest.RandomForestClassifier'> - scaler: RobustScaler(), accuracy: 0.5717660804227562\u001b[0m\n",
      "\u001b[32m2024-05-22 18:21:59.512\u001b[0m | \u001b[1mINFO    \u001b[0m | \u001b[36mdata_processing.english_data_processing\u001b[0m:\u001b[36mevaluate_models\u001b[0m:\u001b[36m74\u001b[0m - \u001b[1mModel <class 'sklearn.ensemble._forest.ExtraTreesClassifier'> - scaler: RobustScaler(), accuracy: 0.5707678143836182\u001b[0m\n",
      "\u001b[32m2024-05-22 18:22:23.300\u001b[0m | \u001b[1mINFO    \u001b[0m | \u001b[36mdata_processing.english_data_processing\u001b[0m:\u001b[36mevaluate_models\u001b[0m:\u001b[36m74\u001b[0m - \u001b[1mModel <class 'sklearn.ensemble._forest.RandomForestClassifier'> - scaler: Normalizer(), accuracy: 0.5404964907934936\u001b[0m\n",
      "\u001b[32m2024-05-22 18:22:31.294\u001b[0m | \u001b[1mINFO    \u001b[0m | \u001b[36mdata_processing.english_data_processing\u001b[0m:\u001b[36mevaluate_models\u001b[0m:\u001b[36m74\u001b[0m - \u001b[1mModel <class 'sklearn.ensemble._forest.ExtraTreesClassifier'> - scaler: Normalizer(), accuracy: 0.5458602097266947\u001b[0m\n",
      "\u001b[32m2024-05-22 18:22:31.295\u001b[0m | \u001b[1mINFO    \u001b[0m | \u001b[36mdata_processing.english_data_processing\u001b[0m:\u001b[36mevaluate_models\u001b[0m:\u001b[36m82\u001b[0m - \u001b[1mBest Model: <class 'sklearn.ensemble._forest.RandomForestClassifier'>\u001b[0m\n",
      "\u001b[32m2024-05-22 18:22:31.295\u001b[0m | \u001b[1mINFO    \u001b[0m | \u001b[36mdata_processing.english_data_processing\u001b[0m:\u001b[36mevaluate_models\u001b[0m:\u001b[36m83\u001b[0m - \u001b[1mBest Scaler: RobustScaler\u001b[0m\n",
      "\u001b[32m2024-05-22 18:22:31.296\u001b[0m | \u001b[1mINFO    \u001b[0m | \u001b[36mdata_processing.english_data_processing\u001b[0m:\u001b[36mevaluate_models\u001b[0m:\u001b[36m84\u001b[0m - \u001b[1mBest Average Accuracy: 0.5717660804227562\u001b[0m\n",
      "\u001b[32m2024-05-22 18:22:31.296\u001b[0m | \u001b[1mINFO    \u001b[0m | \u001b[36mfeature_extraction.feature_extractor\u001b[0m:\u001b[36mprocess_folder\u001b[0m:\u001b[36m148\u001b[0m - \u001b[1mProcessing input folder: D:/data_analysis/speech_emotion_recognition/data/EnglishDataset/cleaned_data1\u001b[0m\n"
     ]
    },
    {
     "name": "stdout",
     "output_type": "stream",
     "text": [
      "Scaler: RobustScaler, Model: <class 'sklearn.ensemble._forest.RandomForestClassifier'>, n_mfcc: 13, Selected features: ['mfcc'], Accuracy: 0.5717660804227562\n"
     ]
    },
    {
     "name": "stderr",
     "output_type": "stream",
     "text": [
      "\u001b[32m2024-05-22 18:22:34.835\u001b[0m | \u001b[1mINFO    \u001b[0m | \u001b[36mfeature_extraction.feature_extractor\u001b[0m:\u001b[36mprocess_folder\u001b[0m:\u001b[36m158\u001b[0m - \u001b[1mFeature extraction completed. Data saved to: D:/data_analysis/speech_emotion_recognition/notebooks/feature3.csv\u001b[0m\n",
      "\u001b[32m2024-05-22 18:22:34.845\u001b[0m | \u001b[1mINFO    \u001b[0m | \u001b[36mdata_processing.english_data_processing\u001b[0m:\u001b[36mevaluate_models\u001b[0m:\u001b[36m53\u001b[0m - \u001b[1mFinding best model....\u001b[0m\n"
     ]
    },
    {
     "ename": "ValueError",
     "evalue": "at least one array or dtype is required",
     "output_type": "error",
     "traceback": [
      "\u001b[1;31m---------------------------------------------------------------------------\u001b[0m",
      "\u001b[1;31mValueError\u001b[0m                                Traceback (most recent call last)",
      "Cell \u001b[1;32mIn[21], line 1\u001b[0m\n\u001b[1;32m----> 1\u001b[0m \u001b[43mprocess_data\u001b[49m\u001b[43m(\u001b[49m\u001b[38;5;241;43m256\u001b[39;49m\u001b[43m,\u001b[49m\u001b[43m \u001b[49m\u001b[38;5;241;43m128\u001b[39;49m\u001b[43m,\u001b[49m\u001b[43m \u001b[49m\u001b[38;5;241;43m0.005\u001b[39;49m\u001b[43m,\u001b[49m\u001b[43m \u001b[49m\u001b[38;5;124;43m'\u001b[39;49m\u001b[38;5;124;43mD:/data_analysis/speech_emotion_recognition/data/EnglishDataset/combined_data\u001b[39;49m\u001b[38;5;124;43m'\u001b[39;49m\u001b[43m,\u001b[49m\u001b[43m \u001b[49m\u001b[38;5;124;43m'\u001b[39;49m\u001b[38;5;124;43mD:/data_analysis/speech_emotion_recognition/data/EnglishDataset/cleaned_data1\u001b[39;49m\u001b[38;5;124;43m'\u001b[39;49m\u001b[43m,\u001b[49m\u001b[43m \u001b[49m\u001b[43m[\u001b[49m\u001b[38;5;241;43m13\u001b[39;49m\u001b[43m,\u001b[49m\u001b[38;5;241;43m20\u001b[39;49m\u001b[43m,\u001b[49m\u001b[38;5;241;43m26\u001b[39;49m\u001b[43m,\u001b[49m\u001b[38;5;241;43m40\u001b[39;49m\u001b[43m]\u001b[49m\u001b[43m,\u001b[49m\u001b[43m \u001b[49m\u001b[38;5;124;43m'\u001b[39;49m\u001b[38;5;124;43mD:/data_analysis/speech_emotion_recognition/notebooks/feature3.csv\u001b[39;49m\u001b[38;5;124;43m'\u001b[39;49m\u001b[43m,\u001b[49m\u001b[43m \u001b[49m\u001b[38;5;241;43m100\u001b[39;49m\u001b[43m,\u001b[49m\u001b[43m \u001b[49m\u001b[38;5;124;43m'\u001b[39;49m\u001b[38;5;124;43mD:/data_analysis/speech_emotion_recognition/data/EnglishDataset/images\u001b[39;49m\u001b[38;5;124;43m'\u001b[39;49m\u001b[43m,\u001b[49m\u001b[43m \u001b[49m\u001b[43m[\u001b[49m\u001b[38;5;124;43m'\u001b[39;49m\u001b[38;5;124;43mmfcc\u001b[39;49m\u001b[38;5;124;43m'\u001b[39;49m\u001b[43m,\u001b[49m\u001b[38;5;124;43m'\u001b[39;49m\u001b[38;5;124;43mmfcc_statistics\u001b[39;49m\u001b[38;5;124;43m'\u001b[39;49m\u001b[43m,\u001b[49m\u001b[43m \u001b[49m\u001b[38;5;124;43m'\u001b[39;49m\u001b[38;5;124;43mzcr\u001b[39;49m\u001b[38;5;124;43m'\u001b[39;49m\u001b[43m,\u001b[49m\u001b[43m \u001b[49m\u001b[38;5;124;43m'\u001b[39;49m\u001b[38;5;124;43mpitch\u001b[39;49m\u001b[38;5;124;43m'\u001b[39;49m\u001b[43m,\u001b[49m\u001b[43m \u001b[49m\u001b[38;5;124;43m'\u001b[39;49m\u001b[38;5;124;43mrms\u001b[39;49m\u001b[38;5;124;43m'\u001b[39;49m\u001b[43m]\u001b[49m\u001b[43m)\u001b[49m\n",
      "Cell \u001b[1;32mIn[20], line 12\u001b[0m, in \u001b[0;36mprocess_data\u001b[1;34m(frame_size, hop_size, threshold, raw_folder, cutted_folder, n_mfcc_list, featured_data_path, n_mfcc_for_images, images_folder, features)\u001b[0m\n\u001b[0;32m     10\u001b[0m selected_features \u001b[38;5;241m=\u001b[39m [features[i] \u001b[38;5;28;01mfor\u001b[39;00m i \u001b[38;5;129;01min\u001b[39;00m \u001b[38;5;28mrange\u001b[39m(n) \u001b[38;5;28;01mif\u001b[39;00m i \u001b[38;5;129;01mnot\u001b[39;00m \u001b[38;5;129;01min\u001b[39;00m combo]\n\u001b[0;32m     11\u001b[0m extract_feature(n_mfcc, cutted_folder, featured_data_path, selected_features)\n\u001b[1;32m---> 12\u001b[0m current_model, current_scaler, current_avg_acc \u001b[38;5;241m=\u001b[39m \u001b[43mmodel\u001b[49m\u001b[43m(\u001b[49m\u001b[43mfeatured_data_path\u001b[49m\u001b[43m)\u001b[49m\n\u001b[0;32m     13\u001b[0m \u001b[38;5;28mprint\u001b[39m(\u001b[38;5;124mf\u001b[39m\u001b[38;5;124m\"\u001b[39m\u001b[38;5;124mScaler: \u001b[39m\u001b[38;5;132;01m{\u001b[39;00mcurrent_scaler\u001b[38;5;132;01m}\u001b[39;00m\u001b[38;5;124m, Model: \u001b[39m\u001b[38;5;132;01m{\u001b[39;00mcurrent_model\u001b[38;5;132;01m}\u001b[39;00m\u001b[38;5;124m, n_mfcc: \u001b[39m\u001b[38;5;132;01m{\u001b[39;00mn_mfcc\u001b[38;5;132;01m}\u001b[39;00m\u001b[38;5;124m, Selected features: \u001b[39m\u001b[38;5;132;01m{\u001b[39;00mselected_features\u001b[38;5;132;01m}\u001b[39;00m\u001b[38;5;124m, Accuracy: \u001b[39m\u001b[38;5;132;01m{\u001b[39;00mcurrent_avg_acc\u001b[38;5;132;01m}\u001b[39;00m\u001b[38;5;124m\"\u001b[39m)\n\u001b[0;32m     14\u001b[0m results\u001b[38;5;241m.\u001b[39mappend({\u001b[38;5;124m'\u001b[39m\u001b[38;5;124mScaler\u001b[39m\u001b[38;5;124m'\u001b[39m: current_scaler, \u001b[38;5;124m'\u001b[39m\u001b[38;5;124mModel\u001b[39m\u001b[38;5;124m'\u001b[39m: current_model, \u001b[38;5;124m'\u001b[39m\u001b[38;5;124mN_MFCC\u001b[39m\u001b[38;5;124m'\u001b[39m: n_mfcc, \u001b[38;5;124m'\u001b[39m\u001b[38;5;124mSelected Features\u001b[39m\u001b[38;5;124m'\u001b[39m: selected_features, \u001b[38;5;124m'\u001b[39m\u001b[38;5;124mAverage Accuracy\u001b[39m\u001b[38;5;124m'\u001b[39m: current_avg_acc})\n",
      "Cell \u001b[1;32mIn[19], line 8\u001b[0m, in \u001b[0;36mmodel\u001b[1;34m(featured_data)\u001b[0m\n\u001b[0;32m      5\u001b[0m df_shuffled \u001b[38;5;241m=\u001b[39m df_train_test\u001b[38;5;241m.\u001b[39msample(frac\u001b[38;5;241m=\u001b[39m\u001b[38;5;241m1\u001b[39m, random_state\u001b[38;5;241m=\u001b[39m\u001b[38;5;241m42\u001b[39m)\u001b[38;5;241m.\u001b[39mreset_index(drop\u001b[38;5;241m=\u001b[39m\u001b[38;5;28;01mTrue\u001b[39;00m)\n\u001b[0;32m      7\u001b[0m modelEvaluator \u001b[38;5;241m=\u001b[39m ModelEvaluator(models)\n\u001b[1;32m----> 8\u001b[0m best_model, best_scaler, best_avg_acc \u001b[38;5;241m=\u001b[39m \u001b[43mmodelEvaluator\u001b[49m\u001b[38;5;241;43m.\u001b[39;49m\u001b[43mevaluate_models\u001b[49m\u001b[43m(\u001b[49m\u001b[43mdf_shuffled\u001b[49m\u001b[43m)\u001b[49m\n\u001b[0;32m      9\u001b[0m \u001b[38;5;28;01mreturn\u001b[39;00m best_model, best_scaler, best_avg_acc\n",
      "File \u001b[1;32md:\\data_analysis\\speech_emotion_recognition\\src\\data_processing\\english_data_processing.py:73\u001b[0m, in \u001b[0;36mModelEvaluator.evaluate_models\u001b[1;34m(self, data)\u001b[0m\n\u001b[0;32m     71\u001b[0m \u001b[38;5;28;01mfor\u001b[39;00m scaler_name, scaler \u001b[38;5;129;01min\u001b[39;00m scalers:\n\u001b[0;32m     72\u001b[0m     \u001b[38;5;28;01mfor\u001b[39;00m model \u001b[38;5;129;01min\u001b[39;00m \u001b[38;5;28mself\u001b[39m\u001b[38;5;241m.\u001b[39mmodels:\n\u001b[1;32m---> 73\u001b[0m         avg_acc \u001b[38;5;241m=\u001b[39m \u001b[38;5;28;43mself\u001b[39;49m\u001b[38;5;241;43m.\u001b[39;49m\u001b[43m_cross_validate\u001b[49m\u001b[43m(\u001b[49m\u001b[43mmodel\u001b[49m\u001b[43m,\u001b[49m\u001b[43m \u001b[49m\u001b[43mX\u001b[49m\u001b[43m,\u001b[49m\u001b[43m \u001b[49m\u001b[43my\u001b[49m\u001b[43m,\u001b[49m\u001b[43m \u001b[49m\u001b[43mscaler\u001b[49m\u001b[43m)\u001b[49m\n\u001b[0;32m     74\u001b[0m         logger\u001b[38;5;241m.\u001b[39minfo(\u001b[38;5;124mf\u001b[39m\u001b[38;5;124m'\u001b[39m\u001b[38;5;124mModel \u001b[39m\u001b[38;5;132;01m{\u001b[39;00mmodel\u001b[38;5;132;01m}\u001b[39;00m\u001b[38;5;124m - scaler: \u001b[39m\u001b[38;5;132;01m{\u001b[39;00mscaler\u001b[38;5;132;01m}\u001b[39;00m\u001b[38;5;124m, accuracy: \u001b[39m\u001b[38;5;132;01m{\u001b[39;00mavg_acc\u001b[38;5;132;01m}\u001b[39;00m\u001b[38;5;124m'\u001b[39m)\n\u001b[0;32m     75\u001b[0m         results[scaler_name]\u001b[38;5;241m.\u001b[39mappend((model, avg_acc))\n",
      "File \u001b[1;32md:\\data_analysis\\speech_emotion_recognition\\src\\data_processing\\english_data_processing.py:44\u001b[0m, in \u001b[0;36mModelEvaluator._cross_validate\u001b[1;34m(self, model, X, y, scaler)\u001b[0m\n\u001b[0;32m     41\u001b[0m     X_train \u001b[38;5;241m=\u001b[39m scaler\u001b[38;5;241m.\u001b[39mfit_transform(X_train)\n\u001b[0;32m     42\u001b[0m     X_test \u001b[38;5;241m=\u001b[39m scaler\u001b[38;5;241m.\u001b[39mtransform(X_test)\n\u001b[1;32m---> 44\u001b[0m y_pred \u001b[38;5;241m=\u001b[39m \u001b[38;5;28;43mself\u001b[39;49m\u001b[38;5;241;43m.\u001b[39;49m\u001b[43m_train_and_predict\u001b[49m\u001b[43m(\u001b[49m\u001b[43mmodel\u001b[49m\u001b[43m,\u001b[49m\u001b[43m \u001b[49m\u001b[43mX_train\u001b[49m\u001b[43m,\u001b[49m\u001b[43m \u001b[49m\u001b[43my_train\u001b[49m\u001b[43m,\u001b[49m\u001b[43m \u001b[49m\u001b[43mX_test\u001b[49m\u001b[43m)\u001b[49m\n\u001b[0;32m     46\u001b[0m acc \u001b[38;5;241m=\u001b[39m accuracy_score(y_test, y_pred)\n\u001b[0;32m     47\u001b[0m acc_scores\u001b[38;5;241m.\u001b[39mappend(acc)\n",
      "File \u001b[1;32md:\\data_analysis\\speech_emotion_recognition\\src\\data_processing\\english_data_processing.py:25\u001b[0m, in \u001b[0;36mModelEvaluator._train_and_predict\u001b[1;34m(self, model, X_train, y_train, X_test)\u001b[0m\n\u001b[0;32m     22\u001b[0m clf \u001b[38;5;241m=\u001b[39m model()\n\u001b[0;32m     24\u001b[0m \u001b[38;5;66;03m# Train model\u001b[39;00m\n\u001b[1;32m---> 25\u001b[0m \u001b[43mclf\u001b[49m\u001b[38;5;241;43m.\u001b[39;49m\u001b[43mfit\u001b[49m\u001b[43m(\u001b[49m\u001b[43mX_train\u001b[49m\u001b[43m,\u001b[49m\u001b[43m \u001b[49m\u001b[43my_train\u001b[49m\u001b[43m)\u001b[49m\n\u001b[0;32m     27\u001b[0m \u001b[38;5;66;03m# Dự đoán trên tập test\u001b[39;00m\n\u001b[0;32m     28\u001b[0m y_pred \u001b[38;5;241m=\u001b[39m clf\u001b[38;5;241m.\u001b[39mpredict(X_test)\n",
      "File \u001b[1;32md:\\data_analysis\\speech_emotion_recognition\\.venv\\Lib\\site-packages\\sklearn\\base.py:1474\u001b[0m, in \u001b[0;36m_fit_context.<locals>.decorator.<locals>.wrapper\u001b[1;34m(estimator, *args, **kwargs)\u001b[0m\n\u001b[0;32m   1467\u001b[0m     estimator\u001b[38;5;241m.\u001b[39m_validate_params()\n\u001b[0;32m   1469\u001b[0m \u001b[38;5;28;01mwith\u001b[39;00m config_context(\n\u001b[0;32m   1470\u001b[0m     skip_parameter_validation\u001b[38;5;241m=\u001b[39m(\n\u001b[0;32m   1471\u001b[0m         prefer_skip_nested_validation \u001b[38;5;129;01mor\u001b[39;00m global_skip_validation\n\u001b[0;32m   1472\u001b[0m     )\n\u001b[0;32m   1473\u001b[0m ):\n\u001b[1;32m-> 1474\u001b[0m     \u001b[38;5;28;01mreturn\u001b[39;00m \u001b[43mfit_method\u001b[49m\u001b[43m(\u001b[49m\u001b[43mestimator\u001b[49m\u001b[43m,\u001b[49m\u001b[43m \u001b[49m\u001b[38;5;241;43m*\u001b[39;49m\u001b[43margs\u001b[49m\u001b[43m,\u001b[49m\u001b[43m \u001b[49m\u001b[38;5;241;43m*\u001b[39;49m\u001b[38;5;241;43m*\u001b[39;49m\u001b[43mkwargs\u001b[49m\u001b[43m)\u001b[49m\n",
      "File \u001b[1;32md:\\data_analysis\\speech_emotion_recognition\\.venv\\Lib\\site-packages\\sklearn\\ensemble\\_forest.py:363\u001b[0m, in \u001b[0;36mBaseForest.fit\u001b[1;34m(self, X, y, sample_weight)\u001b[0m\n\u001b[0;32m    360\u001b[0m \u001b[38;5;28;01mif\u001b[39;00m issparse(y):\n\u001b[0;32m    361\u001b[0m     \u001b[38;5;28;01mraise\u001b[39;00m \u001b[38;5;167;01mValueError\u001b[39;00m(\u001b[38;5;124m\"\u001b[39m\u001b[38;5;124msparse multilabel-indicator for y is not supported.\u001b[39m\u001b[38;5;124m\"\u001b[39m)\n\u001b[1;32m--> 363\u001b[0m X, y \u001b[38;5;241m=\u001b[39m \u001b[38;5;28;43mself\u001b[39;49m\u001b[38;5;241;43m.\u001b[39;49m\u001b[43m_validate_data\u001b[49m\u001b[43m(\u001b[49m\n\u001b[0;32m    364\u001b[0m \u001b[43m    \u001b[49m\u001b[43mX\u001b[49m\u001b[43m,\u001b[49m\n\u001b[0;32m    365\u001b[0m \u001b[43m    \u001b[49m\u001b[43my\u001b[49m\u001b[43m,\u001b[49m\n\u001b[0;32m    366\u001b[0m \u001b[43m    \u001b[49m\u001b[43mmulti_output\u001b[49m\u001b[38;5;241;43m=\u001b[39;49m\u001b[38;5;28;43;01mTrue\u001b[39;49;00m\u001b[43m,\u001b[49m\n\u001b[0;32m    367\u001b[0m \u001b[43m    \u001b[49m\u001b[43maccept_sparse\u001b[49m\u001b[38;5;241;43m=\u001b[39;49m\u001b[38;5;124;43m\"\u001b[39;49m\u001b[38;5;124;43mcsc\u001b[39;49m\u001b[38;5;124;43m\"\u001b[39;49m\u001b[43m,\u001b[49m\n\u001b[0;32m    368\u001b[0m \u001b[43m    \u001b[49m\u001b[43mdtype\u001b[49m\u001b[38;5;241;43m=\u001b[39;49m\u001b[43mDTYPE\u001b[49m\u001b[43m,\u001b[49m\n\u001b[0;32m    369\u001b[0m \u001b[43m    \u001b[49m\u001b[43mforce_all_finite\u001b[49m\u001b[38;5;241;43m=\u001b[39;49m\u001b[38;5;28;43;01mFalse\u001b[39;49;00m\u001b[43m,\u001b[49m\n\u001b[0;32m    370\u001b[0m \u001b[43m\u001b[49m\u001b[43m)\u001b[49m\n\u001b[0;32m    371\u001b[0m \u001b[38;5;66;03m# _compute_missing_values_in_feature_mask checks if X has missing values and\u001b[39;00m\n\u001b[0;32m    372\u001b[0m \u001b[38;5;66;03m# will raise an error if the underlying tree base estimator can't handle missing\u001b[39;00m\n\u001b[0;32m    373\u001b[0m \u001b[38;5;66;03m# values. Only the criterion is required to determine if the tree supports\u001b[39;00m\n\u001b[0;32m    374\u001b[0m \u001b[38;5;66;03m# missing values.\u001b[39;00m\n\u001b[0;32m    375\u001b[0m estimator \u001b[38;5;241m=\u001b[39m \u001b[38;5;28mtype\u001b[39m(\u001b[38;5;28mself\u001b[39m\u001b[38;5;241m.\u001b[39mestimator)(criterion\u001b[38;5;241m=\u001b[39m\u001b[38;5;28mself\u001b[39m\u001b[38;5;241m.\u001b[39mcriterion)\n",
      "File \u001b[1;32md:\\data_analysis\\speech_emotion_recognition\\.venv\\Lib\\site-packages\\sklearn\\base.py:650\u001b[0m, in \u001b[0;36mBaseEstimator._validate_data\u001b[1;34m(self, X, y, reset, validate_separately, cast_to_ndarray, **check_params)\u001b[0m\n\u001b[0;32m    648\u001b[0m         y \u001b[38;5;241m=\u001b[39m check_array(y, input_name\u001b[38;5;241m=\u001b[39m\u001b[38;5;124m\"\u001b[39m\u001b[38;5;124my\u001b[39m\u001b[38;5;124m\"\u001b[39m, \u001b[38;5;241m*\u001b[39m\u001b[38;5;241m*\u001b[39mcheck_y_params)\n\u001b[0;32m    649\u001b[0m     \u001b[38;5;28;01melse\u001b[39;00m:\n\u001b[1;32m--> 650\u001b[0m         X, y \u001b[38;5;241m=\u001b[39m \u001b[43mcheck_X_y\u001b[49m\u001b[43m(\u001b[49m\u001b[43mX\u001b[49m\u001b[43m,\u001b[49m\u001b[43m \u001b[49m\u001b[43my\u001b[49m\u001b[43m,\u001b[49m\u001b[43m \u001b[49m\u001b[38;5;241;43m*\u001b[39;49m\u001b[38;5;241;43m*\u001b[39;49m\u001b[43mcheck_params\u001b[49m\u001b[43m)\u001b[49m\n\u001b[0;32m    651\u001b[0m     out \u001b[38;5;241m=\u001b[39m X, y\n\u001b[0;32m    653\u001b[0m \u001b[38;5;28;01mif\u001b[39;00m \u001b[38;5;129;01mnot\u001b[39;00m no_val_X \u001b[38;5;129;01mand\u001b[39;00m check_params\u001b[38;5;241m.\u001b[39mget(\u001b[38;5;124m\"\u001b[39m\u001b[38;5;124mensure_2d\u001b[39m\u001b[38;5;124m\"\u001b[39m, \u001b[38;5;28;01mTrue\u001b[39;00m):\n",
      "File \u001b[1;32md:\\data_analysis\\speech_emotion_recognition\\.venv\\Lib\\site-packages\\sklearn\\utils\\validation.py:1263\u001b[0m, in \u001b[0;36mcheck_X_y\u001b[1;34m(X, y, accept_sparse, accept_large_sparse, dtype, order, copy, force_all_finite, ensure_2d, allow_nd, multi_output, ensure_min_samples, ensure_min_features, y_numeric, estimator)\u001b[0m\n\u001b[0;32m   1258\u001b[0m         estimator_name \u001b[38;5;241m=\u001b[39m _check_estimator_name(estimator)\n\u001b[0;32m   1259\u001b[0m     \u001b[38;5;28;01mraise\u001b[39;00m \u001b[38;5;167;01mValueError\u001b[39;00m(\n\u001b[0;32m   1260\u001b[0m         \u001b[38;5;124mf\u001b[39m\u001b[38;5;124m\"\u001b[39m\u001b[38;5;132;01m{\u001b[39;00mestimator_name\u001b[38;5;132;01m}\u001b[39;00m\u001b[38;5;124m requires y to be passed, but the target y is None\u001b[39m\u001b[38;5;124m\"\u001b[39m\n\u001b[0;32m   1261\u001b[0m     )\n\u001b[1;32m-> 1263\u001b[0m X \u001b[38;5;241m=\u001b[39m \u001b[43mcheck_array\u001b[49m\u001b[43m(\u001b[49m\n\u001b[0;32m   1264\u001b[0m \u001b[43m    \u001b[49m\u001b[43mX\u001b[49m\u001b[43m,\u001b[49m\n\u001b[0;32m   1265\u001b[0m \u001b[43m    \u001b[49m\u001b[43maccept_sparse\u001b[49m\u001b[38;5;241;43m=\u001b[39;49m\u001b[43maccept_sparse\u001b[49m\u001b[43m,\u001b[49m\n\u001b[0;32m   1266\u001b[0m \u001b[43m    \u001b[49m\u001b[43maccept_large_sparse\u001b[49m\u001b[38;5;241;43m=\u001b[39;49m\u001b[43maccept_large_sparse\u001b[49m\u001b[43m,\u001b[49m\n\u001b[0;32m   1267\u001b[0m \u001b[43m    \u001b[49m\u001b[43mdtype\u001b[49m\u001b[38;5;241;43m=\u001b[39;49m\u001b[43mdtype\u001b[49m\u001b[43m,\u001b[49m\n\u001b[0;32m   1268\u001b[0m \u001b[43m    \u001b[49m\u001b[43morder\u001b[49m\u001b[38;5;241;43m=\u001b[39;49m\u001b[43morder\u001b[49m\u001b[43m,\u001b[49m\n\u001b[0;32m   1269\u001b[0m \u001b[43m    \u001b[49m\u001b[43mcopy\u001b[49m\u001b[38;5;241;43m=\u001b[39;49m\u001b[43mcopy\u001b[49m\u001b[43m,\u001b[49m\n\u001b[0;32m   1270\u001b[0m \u001b[43m    \u001b[49m\u001b[43mforce_all_finite\u001b[49m\u001b[38;5;241;43m=\u001b[39;49m\u001b[43mforce_all_finite\u001b[49m\u001b[43m,\u001b[49m\n\u001b[0;32m   1271\u001b[0m \u001b[43m    \u001b[49m\u001b[43mensure_2d\u001b[49m\u001b[38;5;241;43m=\u001b[39;49m\u001b[43mensure_2d\u001b[49m\u001b[43m,\u001b[49m\n\u001b[0;32m   1272\u001b[0m \u001b[43m    \u001b[49m\u001b[43mallow_nd\u001b[49m\u001b[38;5;241;43m=\u001b[39;49m\u001b[43mallow_nd\u001b[49m\u001b[43m,\u001b[49m\n\u001b[0;32m   1273\u001b[0m \u001b[43m    \u001b[49m\u001b[43mensure_min_samples\u001b[49m\u001b[38;5;241;43m=\u001b[39;49m\u001b[43mensure_min_samples\u001b[49m\u001b[43m,\u001b[49m\n\u001b[0;32m   1274\u001b[0m \u001b[43m    \u001b[49m\u001b[43mensure_min_features\u001b[49m\u001b[38;5;241;43m=\u001b[39;49m\u001b[43mensure_min_features\u001b[49m\u001b[43m,\u001b[49m\n\u001b[0;32m   1275\u001b[0m \u001b[43m    \u001b[49m\u001b[43mestimator\u001b[49m\u001b[38;5;241;43m=\u001b[39;49m\u001b[43mestimator\u001b[49m\u001b[43m,\u001b[49m\n\u001b[0;32m   1276\u001b[0m \u001b[43m    \u001b[49m\u001b[43minput_name\u001b[49m\u001b[38;5;241;43m=\u001b[39;49m\u001b[38;5;124;43m\"\u001b[39;49m\u001b[38;5;124;43mX\u001b[39;49m\u001b[38;5;124;43m\"\u001b[39;49m\u001b[43m,\u001b[49m\n\u001b[0;32m   1277\u001b[0m \u001b[43m\u001b[49m\u001b[43m)\u001b[49m\n\u001b[0;32m   1279\u001b[0m y \u001b[38;5;241m=\u001b[39m _check_y(y, multi_output\u001b[38;5;241m=\u001b[39mmulti_output, y_numeric\u001b[38;5;241m=\u001b[39my_numeric, estimator\u001b[38;5;241m=\u001b[39mestimator)\n\u001b[0;32m   1281\u001b[0m check_consistent_length(X, y)\n",
      "File \u001b[1;32md:\\data_analysis\\speech_emotion_recognition\\.venv\\Lib\\site-packages\\sklearn\\utils\\validation.py:879\u001b[0m, in \u001b[0;36mcheck_array\u001b[1;34m(array, accept_sparse, accept_large_sparse, dtype, order, copy, force_all_finite, ensure_2d, allow_nd, ensure_min_samples, ensure_min_features, estimator, input_name)\u001b[0m\n\u001b[0;32m    875\u001b[0m pandas_requires_conversion \u001b[38;5;241m=\u001b[39m \u001b[38;5;28many\u001b[39m(\n\u001b[0;32m    876\u001b[0m     _pandas_dtype_needs_early_conversion(i) \u001b[38;5;28;01mfor\u001b[39;00m i \u001b[38;5;129;01min\u001b[39;00m dtypes_orig\n\u001b[0;32m    877\u001b[0m )\n\u001b[0;32m    878\u001b[0m \u001b[38;5;28;01mif\u001b[39;00m \u001b[38;5;28mall\u001b[39m(\u001b[38;5;28misinstance\u001b[39m(dtype_iter, np\u001b[38;5;241m.\u001b[39mdtype) \u001b[38;5;28;01mfor\u001b[39;00m dtype_iter \u001b[38;5;129;01min\u001b[39;00m dtypes_orig):\n\u001b[1;32m--> 879\u001b[0m     dtype_orig \u001b[38;5;241m=\u001b[39m \u001b[43mnp\u001b[49m\u001b[38;5;241;43m.\u001b[39;49m\u001b[43mresult_type\u001b[49m\u001b[43m(\u001b[49m\u001b[38;5;241;43m*\u001b[39;49m\u001b[43mdtypes_orig\u001b[49m\u001b[43m)\u001b[49m\n\u001b[0;32m    880\u001b[0m \u001b[38;5;28;01melif\u001b[39;00m pandas_requires_conversion \u001b[38;5;129;01mand\u001b[39;00m \u001b[38;5;28many\u001b[39m(d \u001b[38;5;241m==\u001b[39m \u001b[38;5;28mobject\u001b[39m \u001b[38;5;28;01mfor\u001b[39;00m d \u001b[38;5;129;01min\u001b[39;00m dtypes_orig):\n\u001b[0;32m    881\u001b[0m     \u001b[38;5;66;03m# Force object if any of the dtypes is an object\u001b[39;00m\n\u001b[0;32m    882\u001b[0m     dtype_orig \u001b[38;5;241m=\u001b[39m \u001b[38;5;28mobject\u001b[39m\n",
      "\u001b[1;31mValueError\u001b[0m: at least one array or dtype is required"
     ]
    }
   ],
   "source": [
    "process_data(256, 128, 0.005, 'D:/data_analysis/speech_emotion_recognition/data/EnglishDataset/combined_data', 'D:/data_analysis/speech_emotion_recognition/data/EnglishDataset/cleaned_data1', [13,20,26,40], 'D:/data_analysis/speech_emotion_recognition/notebooks/feature3.csv', 100, 'D:/data_analysis/speech_emotion_recognition/data/EnglishDataset/images', ['mfcc','mfcc_statistics', 'zcr', 'pitch', 'rms'])"
   ]
  }
 ],
 "metadata": {
  "kernelspec": {
   "display_name": ".venv",
   "language": "python",
   "name": "python3"
  },
  "language_info": {
   "codemirror_mode": {
    "name": "ipython",
    "version": 3
   },
   "file_extension": ".py",
   "mimetype": "text/x-python",
   "name": "python",
   "nbconvert_exporter": "python",
   "pygments_lexer": "ipython3",
   "version": "3.11.9"
  }
 },
 "nbformat": 4,
 "nbformat_minor": 2
}
