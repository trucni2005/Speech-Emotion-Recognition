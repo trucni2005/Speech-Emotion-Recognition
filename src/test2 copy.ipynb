{
 "cells": [
  {
   "cell_type": "code",
   "execution_count": 1,
   "metadata": {},
   "outputs": [],
   "source": [
    "from audio_preprocessing.cut_audio_segment_from_audio_file import AudioProcessor\n",
    "from feature_extraction.feature_extractor import FeatureExtractor\n",
    "from feature_extraction.mfcc_images_extractor import MelSpectrogramImageExtractor\n",
    "from data_processing.english_data_processing import ModelEvaluator\n",
    "from itertools import combinations\n",
    "from sklearn.ensemble import ExtraTreesClassifier\n",
    "from sklearn.ensemble import RandomForestClassifier\n",
    "import pandas as pd"
   ]
  },
  {
   "cell_type": "code",
   "execution_count": 2,
   "metadata": {},
   "outputs": [],
   "source": [
    "def extract_mfcc_images(n_mfcc, figsize, input_folder, output_folder):\n",
    "    mfccImageExtractor = MelSpectrogramImageExtractor(n_mfcc, figsize)\n",
    "    mfccImageExtractor.extract_from_folders(input_folder, output_folder)"
   ]
  },
  {
   "cell_type": "code",
   "execution_count": 3,
   "metadata": {},
   "outputs": [],
   "source": [
    "def cut_audio_segment_from_audio_file(frame_size, hop_size, threshold, input_folder, output_folder):\n",
    "    segmentation = AudioProcessor(frame_size, hop_size, threshold)\n",
    "    segmentation.process_folders(input_folder, output_folder)"
   ]
  },
  {
   "cell_type": "code",
   "execution_count": 4,
   "metadata": {},
   "outputs": [],
   "source": [
    "def extract_feature(n_mfcc, input_folder, output_folder, selected_features):\n",
    "    featureExtractor = FeatureExtractor(n_mfcc)\n",
    "    featureExtractor.process_folder(input_folder, output_folder, selected_features)\n",
    "    # featureExtractor.process_folder(input_folder, output_folder, ['mfcc','mfcc_statistics', 'zcr', 'pitch', 'rms'])"
   ]
  },
  {
   "cell_type": "code",
   "execution_count": 5,
   "metadata": {},
   "outputs": [],
   "source": [
    "def model(featured_data):\n",
    "    models = [RandomForestClassifier, ExtraTreesClassifier]\n",
    "    \n",
    "    df_train_test = pd.read_csv(featured_data)\n",
    "    df_shuffled = df_train_test.sample(frac=1, random_state=42).reset_index(drop=True)\n",
    "\n",
    "    modelEvaluator = ModelEvaluator(models)\n",
    "    best_model, best_scaler, best_avg_acc = modelEvaluator.evaluate_models(df_shuffled)\n",
    "    return best_model, best_scaler, best_avg_acc"
   ]
  },
  {
   "cell_type": "code",
   "execution_count": 6,
   "metadata": {},
   "outputs": [],
   "source": [
    "def process_data(frame_size, hop_size, threshold, raw_folder, cutted_folder, n_mfcc_list, featured_data_path, n_mfcc_for_images, images_folder, features):\n",
    "    n = len(features)\n",
    "\n",
    "    results = []\n",
    "\n",
    "    for n_mfcc in n_mfcc_list:\n",
    "        for r in range(0, n):\n",
    "            for combo in combinations(range(n), r):\n",
    "                selected_features = [features[i] for i in range(n) if i not in combo]\n",
    "                print(selected_features)\n",
    "                extract_feature(n_mfcc, cutted_folder, featured_data_path, selected_features)\n",
    "                current_model, current_scaler, current_avg_acc = model(featured_data_path)\n",
    "                print(f\"Scaler: {current_scaler}, Model: {current_model}, n_mfcc: {n_mfcc}, Selected features: {selected_features}, Accuracy: {current_avg_acc}\")\n",
    "                results.append({'Scaler': current_scaler, 'Model': current_model, 'N_MFCC': n_mfcc, 'Selected Features': selected_features, 'Average Accuracy': current_avg_acc})\n",
    "\n",
    "    results_df = pd.DataFrame(results)\n",
    "    ranked_results = results_df.sort_values(by='Average Accuracy', ascending=False)\n",
    "\n",
    "    return ranked_results"
   ]
  },
  {
   "cell_type": "code",
   "execution_count": 7,
   "metadata": {},
   "outputs": [
    {
     "name": "stderr",
     "output_type": "stream",
     "text": [
      "\u001b[32m2024-05-23 03:23:18.530\u001b[0m | \u001b[1mINFO    \u001b[0m | \u001b[36mfeature_extraction.feature_extractor\u001b[0m:\u001b[36mprocess_folder\u001b[0m:\u001b[36m148\u001b[0m - \u001b[1mProcessing input folder: D:/data_analysis/speech_emotion_recognition/data/EnglishDataset/combined_data\u001b[0m\n"
     ]
    },
    {
     "name": "stdout",
     "output_type": "stream",
     "text": [
      "['mfcc_statistics', 'zcr', 'pitch', 'rms']\n"
     ]
    },
    {
     "name": "stderr",
     "output_type": "stream",
     "text": [
      "\u001b[32m2024-05-23 03:25:48.685\u001b[0m | \u001b[1mINFO    \u001b[0m | \u001b[36mfeature_extraction.feature_extractor\u001b[0m:\u001b[36mprocess_folder\u001b[0m:\u001b[36m158\u001b[0m - \u001b[1mFeature extraction completed. Data saved to: D:/data_analysis/speech_emotion_recognition/notebooks/feature1.csv\u001b[0m\n",
      "\u001b[32m2024-05-23 03:25:48.889\u001b[0m | \u001b[1mINFO    \u001b[0m | \u001b[36mdata_processing.english_data_processing\u001b[0m:\u001b[36mevaluate_models\u001b[0m:\u001b[36m53\u001b[0m - \u001b[1mFinding best model....\u001b[0m\n",
      "\u001b[32m2024-05-23 03:27:18.363\u001b[0m | \u001b[1mINFO    \u001b[0m | \u001b[36mdata_processing.english_data_processing\u001b[0m:\u001b[36mevaluate_models\u001b[0m:\u001b[36m74\u001b[0m - \u001b[1mModel <class 'sklearn.ensemble._forest.RandomForestClassifier'> - scaler: None, accuracy: 0.633006244424621\u001b[0m\n",
      "\u001b[32m2024-05-23 03:27:36.305\u001b[0m | \u001b[1mINFO    \u001b[0m | \u001b[36mdata_processing.english_data_processing\u001b[0m:\u001b[36mevaluate_models\u001b[0m:\u001b[36m74\u001b[0m - \u001b[1mModel <class 'sklearn.ensemble._forest.ExtraTreesClassifier'> - scaler: None, accuracy: 0.6339875111507582\u001b[0m\n",
      "\u001b[32m2024-05-23 03:29:05.464\u001b[0m | \u001b[1mINFO    \u001b[0m | \u001b[36mdata_processing.english_data_processing\u001b[0m:\u001b[36mevaluate_models\u001b[0m:\u001b[36m74\u001b[0m - \u001b[1mModel <class 'sklearn.ensemble._forest.RandomForestClassifier'> - scaler: StandardScaler(), accuracy: 0.6322033898305085\u001b[0m\n",
      "\u001b[32m2024-05-23 03:29:22.384\u001b[0m | \u001b[1mINFO    \u001b[0m | \u001b[36mdata_processing.english_data_processing\u001b[0m:\u001b[36mevaluate_models\u001b[0m:\u001b[36m74\u001b[0m - \u001b[1mModel <class 'sklearn.ensemble._forest.ExtraTreesClassifier'> - scaler: StandardScaler(), accuracy: 0.6318465655664586\u001b[0m\n",
      "\u001b[32m2024-05-23 03:30:52.848\u001b[0m | \u001b[1mINFO    \u001b[0m | \u001b[36mdata_processing.english_data_processing\u001b[0m:\u001b[36mevaluate_models\u001b[0m:\u001b[36m74\u001b[0m - \u001b[1mModel <class 'sklearn.ensemble._forest.RandomForestClassifier'> - scaler: MinMaxScaler(), accuracy: 0.6363960749330955\u001b[0m\n",
      "\u001b[32m2024-05-23 03:31:15.962\u001b[0m | \u001b[1mINFO    \u001b[0m | \u001b[36mdata_processing.english_data_processing\u001b[0m:\u001b[36mevaluate_models\u001b[0m:\u001b[36m74\u001b[0m - \u001b[1mModel <class 'sklearn.ensemble._forest.ExtraTreesClassifier'> - scaler: MinMaxScaler(), accuracy: 0.631757359500446\u001b[0m\n",
      "\u001b[32m2024-05-23 03:33:06.615\u001b[0m | \u001b[1mINFO    \u001b[0m | \u001b[36mdata_processing.english_data_processing\u001b[0m:\u001b[36mevaluate_models\u001b[0m:\u001b[36m74\u001b[0m - \u001b[1mModel <class 'sklearn.ensemble._forest.RandomForestClassifier'> - scaler: MaxAbsScaler(), accuracy: 0.635057983942908\u001b[0m\n",
      "\u001b[32m2024-05-23 03:33:29.711\u001b[0m | \u001b[1mINFO    \u001b[0m | \u001b[36mdata_processing.english_data_processing\u001b[0m:\u001b[36mevaluate_models\u001b[0m:\u001b[36m74\u001b[0m - \u001b[1mModel <class 'sklearn.ensemble._forest.ExtraTreesClassifier'> - scaler: MaxAbsScaler(), accuracy: 0.6298840321141836\u001b[0m\n",
      "\u001b[32m2024-05-23 03:35:11.607\u001b[0m | \u001b[1mINFO    \u001b[0m | \u001b[36mdata_processing.english_data_processing\u001b[0m:\u001b[36mevaluate_models\u001b[0m:\u001b[36m74\u001b[0m - \u001b[1mModel <class 'sklearn.ensemble._forest.RandomForestClassifier'> - scaler: RobustScaler(), accuracy: 0.6372881355932203\u001b[0m\n",
      "\u001b[32m2024-05-23 03:35:34.811\u001b[0m | \u001b[1mINFO    \u001b[0m | \u001b[36mdata_processing.english_data_processing\u001b[0m:\u001b[36mevaluate_models\u001b[0m:\u001b[36m74\u001b[0m - \u001b[1mModel <class 'sklearn.ensemble._forest.ExtraTreesClassifier'> - scaler: RobustScaler(), accuracy: 0.6286351471900089\u001b[0m\n",
      "\u001b[32m2024-05-23 03:37:23.676\u001b[0m | \u001b[1mINFO    \u001b[0m | \u001b[36mdata_processing.english_data_processing\u001b[0m:\u001b[36mevaluate_models\u001b[0m:\u001b[36m74\u001b[0m - \u001b[1mModel <class 'sklearn.ensemble._forest.RandomForestClassifier'> - scaler: Normalizer(), accuracy: 0.6109723461195361\u001b[0m\n",
      "\u001b[32m2024-05-23 03:37:48.737\u001b[0m | \u001b[1mINFO    \u001b[0m | \u001b[36mdata_processing.english_data_processing\u001b[0m:\u001b[36mevaluate_models\u001b[0m:\u001b[36m74\u001b[0m - \u001b[1mModel <class 'sklearn.ensemble._forest.ExtraTreesClassifier'> - scaler: Normalizer(), accuracy: 0.6126672613737734\u001b[0m\n",
      "\u001b[32m2024-05-23 03:37:48.738\u001b[0m | \u001b[1mINFO    \u001b[0m | \u001b[36mdata_processing.english_data_processing\u001b[0m:\u001b[36mevaluate_models\u001b[0m:\u001b[36m82\u001b[0m - \u001b[1mBest Model: <class 'sklearn.ensemble._forest.RandomForestClassifier'>\u001b[0m\n",
      "\u001b[32m2024-05-23 03:37:48.738\u001b[0m | \u001b[1mINFO    \u001b[0m | \u001b[36mdata_processing.english_data_processing\u001b[0m:\u001b[36mevaluate_models\u001b[0m:\u001b[36m83\u001b[0m - \u001b[1mBest Scaler: RobustScaler\u001b[0m\n",
      "\u001b[32m2024-05-23 03:37:48.739\u001b[0m | \u001b[1mINFO    \u001b[0m | \u001b[36mdata_processing.english_data_processing\u001b[0m:\u001b[36mevaluate_models\u001b[0m:\u001b[36m84\u001b[0m - \u001b[1mBest Average Accuracy: 0.6372881355932203\u001b[0m\n",
      "\u001b[32m2024-05-23 03:37:48.743\u001b[0m | \u001b[1mINFO    \u001b[0m | \u001b[36mfeature_extraction.feature_extractor\u001b[0m:\u001b[36mprocess_folder\u001b[0m:\u001b[36m148\u001b[0m - \u001b[1mProcessing input folder: D:/data_analysis/speech_emotion_recognition/data/EnglishDataset/combined_data\u001b[0m\n"
     ]
    },
    {
     "name": "stdout",
     "output_type": "stream",
     "text": [
      "Scaler: RobustScaler, Model: <class 'sklearn.ensemble._forest.RandomForestClassifier'>, n_mfcc: 26, Selected features: ['mfcc_statistics', 'zcr', 'pitch', 'rms'], Accuracy: 0.6372881355932203\n",
      "['zcr', 'pitch', 'rms']\n"
     ]
    },
    {
     "name": "stderr",
     "output_type": "stream",
     "text": [
      "\u001b[32m2024-05-23 03:39:02.398\u001b[0m | \u001b[1mINFO    \u001b[0m | \u001b[36mfeature_extraction.feature_extractor\u001b[0m:\u001b[36mprocess_folder\u001b[0m:\u001b[36m158\u001b[0m - \u001b[1mFeature extraction completed. Data saved to: D:/data_analysis/speech_emotion_recognition/notebooks/feature1.csv\u001b[0m\n",
      "\u001b[32m2024-05-23 03:39:02.424\u001b[0m | \u001b[1mINFO    \u001b[0m | \u001b[36mdata_processing.english_data_processing\u001b[0m:\u001b[36mevaluate_models\u001b[0m:\u001b[36m53\u001b[0m - \u001b[1mFinding best model....\u001b[0m\n",
      "\u001b[32m2024-05-23 03:39:34.662\u001b[0m | \u001b[1mINFO    \u001b[0m | \u001b[36mdata_processing.english_data_processing\u001b[0m:\u001b[36mevaluate_models\u001b[0m:\u001b[36m74\u001b[0m - \u001b[1mModel <class 'sklearn.ensemble._forest.RandomForestClassifier'> - scaler: None, accuracy: 0.5272078501338091\u001b[0m\n",
      "\u001b[32m2024-05-23 03:39:45.391\u001b[0m | \u001b[1mINFO    \u001b[0m | \u001b[36mdata_processing.english_data_processing\u001b[0m:\u001b[36mevaluate_models\u001b[0m:\u001b[36m74\u001b[0m - \u001b[1mModel <class 'sklearn.ensemble._forest.ExtraTreesClassifier'> - scaler: None, accuracy: 0.5254237288135594\u001b[0m\n",
      "\u001b[32m2024-05-23 03:40:10.145\u001b[0m | \u001b[1mINFO    \u001b[0m | \u001b[36mdata_processing.english_data_processing\u001b[0m:\u001b[36mevaluate_models\u001b[0m:\u001b[36m74\u001b[0m - \u001b[1mModel <class 'sklearn.ensemble._forest.RandomForestClassifier'> - scaler: StandardScaler(), accuracy: 0.5272078501338091\u001b[0m\n",
      "\u001b[32m2024-05-23 03:40:18.311\u001b[0m | \u001b[1mINFO    \u001b[0m | \u001b[36mdata_processing.english_data_processing\u001b[0m:\u001b[36mevaluate_models\u001b[0m:\u001b[36m74\u001b[0m - \u001b[1mModel <class 'sklearn.ensemble._forest.ExtraTreesClassifier'> - scaler: StandardScaler(), accuracy: 0.5261373773416593\u001b[0m\n",
      "\u001b[32m2024-05-23 03:40:42.495\u001b[0m | \u001b[1mINFO    \u001b[0m | \u001b[36mdata_processing.english_data_processing\u001b[0m:\u001b[36mevaluate_models\u001b[0m:\u001b[36m74\u001b[0m - \u001b[1mModel <class 'sklearn.ensemble._forest.RandomForestClassifier'> - scaler: MinMaxScaler(), accuracy: 0.5261373773416593\u001b[0m\n",
      "\u001b[32m2024-05-23 03:40:53.595\u001b[0m | \u001b[1mINFO    \u001b[0m | \u001b[36mdata_processing.english_data_processing\u001b[0m:\u001b[36mevaluate_models\u001b[0m:\u001b[36m74\u001b[0m - \u001b[1mModel <class 'sklearn.ensemble._forest.ExtraTreesClassifier'> - scaler: MinMaxScaler(), accuracy: 0.5304192685102587\u001b[0m\n",
      "\u001b[32m2024-05-23 03:41:26.390\u001b[0m | \u001b[1mINFO    \u001b[0m | \u001b[36mdata_processing.english_data_processing\u001b[0m:\u001b[36mevaluate_models\u001b[0m:\u001b[36m74\u001b[0m - \u001b[1mModel <class 'sklearn.ensemble._forest.RandomForestClassifier'> - scaler: MaxAbsScaler(), accuracy: 0.5246208742194469\u001b[0m\n",
      "\u001b[32m2024-05-23 03:41:37.272\u001b[0m | \u001b[1mINFO    \u001b[0m | \u001b[36mdata_processing.english_data_processing\u001b[0m:\u001b[36mevaluate_models\u001b[0m:\u001b[36m74\u001b[0m - \u001b[1mModel <class 'sklearn.ensemble._forest.ExtraTreesClassifier'> - scaler: MaxAbsScaler(), accuracy: 0.5266726137377342\u001b[0m\n",
      "\u001b[32m2024-05-23 03:42:09.121\u001b[0m | \u001b[1mINFO    \u001b[0m | \u001b[36mdata_processing.english_data_processing\u001b[0m:\u001b[36mevaluate_models\u001b[0m:\u001b[36m74\u001b[0m - \u001b[1mModel <class 'sklearn.ensemble._forest.RandomForestClassifier'> - scaler: RobustScaler(), accuracy: 0.5272078501338091\u001b[0m\n",
      "\u001b[32m2024-05-23 03:42:20.488\u001b[0m | \u001b[1mINFO    \u001b[0m | \u001b[36mdata_processing.english_data_processing\u001b[0m:\u001b[36mevaluate_models\u001b[0m:\u001b[36m74\u001b[0m - \u001b[1mModel <class 'sklearn.ensemble._forest.ExtraTreesClassifier'> - scaler: RobustScaler(), accuracy: 0.527743086529884\u001b[0m\n",
      "\u001b[32m2024-05-23 03:42:53.626\u001b[0m | \u001b[1mINFO    \u001b[0m | \u001b[36mdata_processing.english_data_processing\u001b[0m:\u001b[36mevaluate_models\u001b[0m:\u001b[36m74\u001b[0m - \u001b[1mModel <class 'sklearn.ensemble._forest.RandomForestClassifier'> - scaler: Normalizer(), accuracy: 0.4973238180196253\u001b[0m\n",
      "\u001b[32m2024-05-23 03:43:05.762\u001b[0m | \u001b[1mINFO    \u001b[0m | \u001b[36mdata_processing.english_data_processing\u001b[0m:\u001b[36mevaluate_models\u001b[0m:\u001b[36m74\u001b[0m - \u001b[1mModel <class 'sklearn.ensemble._forest.ExtraTreesClassifier'> - scaler: Normalizer(), accuracy: 0.4953612845673506\u001b[0m\n",
      "\u001b[32m2024-05-23 03:43:05.762\u001b[0m | \u001b[1mINFO    \u001b[0m | \u001b[36mdata_processing.english_data_processing\u001b[0m:\u001b[36mevaluate_models\u001b[0m:\u001b[36m82\u001b[0m - \u001b[1mBest Model: <class 'sklearn.ensemble._forest.ExtraTreesClassifier'>\u001b[0m\n",
      "\u001b[32m2024-05-23 03:43:05.763\u001b[0m | \u001b[1mINFO    \u001b[0m | \u001b[36mdata_processing.english_data_processing\u001b[0m:\u001b[36mevaluate_models\u001b[0m:\u001b[36m83\u001b[0m - \u001b[1mBest Scaler: MinMaxScaler\u001b[0m\n",
      "\u001b[32m2024-05-23 03:43:05.763\u001b[0m | \u001b[1mINFO    \u001b[0m | \u001b[36mdata_processing.english_data_processing\u001b[0m:\u001b[36mevaluate_models\u001b[0m:\u001b[36m84\u001b[0m - \u001b[1mBest Average Accuracy: 0.5304192685102587\u001b[0m\n",
      "\u001b[32m2024-05-23 03:43:05.764\u001b[0m | \u001b[1mINFO    \u001b[0m | \u001b[36mfeature_extraction.feature_extractor\u001b[0m:\u001b[36mprocess_folder\u001b[0m:\u001b[36m148\u001b[0m - \u001b[1mProcessing input folder: D:/data_analysis/speech_emotion_recognition/data/EnglishDataset/combined_data\u001b[0m\n"
     ]
    },
    {
     "name": "stdout",
     "output_type": "stream",
     "text": [
      "Scaler: MinMaxScaler, Model: <class 'sklearn.ensemble._forest.ExtraTreesClassifier'>, n_mfcc: 26, Selected features: ['zcr', 'pitch', 'rms'], Accuracy: 0.5304192685102587\n",
      "['mfcc_statistics', 'pitch', 'rms']\n"
     ]
    },
    {
     "name": "stderr",
     "output_type": "stream",
     "text": [
      "\u001b[32m2024-05-23 03:44:51.996\u001b[0m | \u001b[1mINFO    \u001b[0m | \u001b[36mfeature_extraction.feature_extractor\u001b[0m:\u001b[36mprocess_folder\u001b[0m:\u001b[36m158\u001b[0m - \u001b[1mFeature extraction completed. Data saved to: D:/data_analysis/speech_emotion_recognition/notebooks/feature1.csv\u001b[0m\n",
      "\u001b[32m2024-05-23 03:44:52.132\u001b[0m | \u001b[1mINFO    \u001b[0m | \u001b[36mdata_processing.english_data_processing\u001b[0m:\u001b[36mevaluate_models\u001b[0m:\u001b[36m53\u001b[0m - \u001b[1mFinding best model....\u001b[0m\n",
      "\u001b[32m2024-05-23 03:46:29.084\u001b[0m | \u001b[1mINFO    \u001b[0m | \u001b[36mdata_processing.english_data_processing\u001b[0m:\u001b[36mevaluate_models\u001b[0m:\u001b[36m74\u001b[0m - \u001b[1mModel <class 'sklearn.ensemble._forest.RandomForestClassifier'> - scaler: None, accuracy: 0.6351471900089206\u001b[0m\n",
      "\u001b[32m2024-05-23 03:46:51.707\u001b[0m | \u001b[1mINFO    \u001b[0m | \u001b[36mdata_processing.english_data_processing\u001b[0m:\u001b[36mevaluate_models\u001b[0m:\u001b[36m74\u001b[0m - \u001b[1mModel <class 'sklearn.ensemble._forest.ExtraTreesClassifier'> - scaler: None, accuracy: 0.6300624442462087\u001b[0m\n",
      "\u001b[32m2024-05-23 03:48:48.095\u001b[0m | \u001b[1mINFO    \u001b[0m | \u001b[36mdata_processing.english_data_processing\u001b[0m:\u001b[36mevaluate_models\u001b[0m:\u001b[36m74\u001b[0m - \u001b[1mModel <class 'sklearn.ensemble._forest.RandomForestClassifier'> - scaler: StandardScaler(), accuracy: 0.632471008028546\u001b[0m\n",
      "\u001b[32m2024-05-23 03:49:09.004\u001b[0m | \u001b[1mINFO    \u001b[0m | \u001b[36mdata_processing.english_data_processing\u001b[0m:\u001b[36mevaluate_models\u001b[0m:\u001b[36m74\u001b[0m - \u001b[1mModel <class 'sklearn.ensemble._forest.ExtraTreesClassifier'> - scaler: StandardScaler(), accuracy: 0.6325602140945583\u001b[0m\n",
      "\u001b[32m2024-05-23 03:51:06.435\u001b[0m | \u001b[1mINFO    \u001b[0m | \u001b[36mdata_processing.english_data_processing\u001b[0m:\u001b[36mevaluate_models\u001b[0m:\u001b[36m74\u001b[0m - \u001b[1mModel <class 'sklearn.ensemble._forest.RandomForestClassifier'> - scaler: MinMaxScaler(), accuracy: 0.6334522747546832\u001b[0m\n",
      "\u001b[32m2024-05-23 03:51:23.258\u001b[0m | \u001b[1mINFO    \u001b[0m | \u001b[36mdata_processing.english_data_processing\u001b[0m:\u001b[36mevaluate_models\u001b[0m:\u001b[36m74\u001b[0m - \u001b[1mModel <class 'sklearn.ensemble._forest.ExtraTreesClassifier'> - scaler: MinMaxScaler(), accuracy: 0.6243532560214095\u001b[0m\n",
      "\u001b[32m2024-05-23 03:52:55.775\u001b[0m | \u001b[1mINFO    \u001b[0m | \u001b[36mdata_processing.english_data_processing\u001b[0m:\u001b[36mevaluate_models\u001b[0m:\u001b[36m74\u001b[0m - \u001b[1mModel <class 'sklearn.ensemble._forest.RandomForestClassifier'> - scaler: MaxAbsScaler(), accuracy: 0.6322033898305085\u001b[0m\n",
      "\u001b[32m2024-05-23 03:53:22.656\u001b[0m | \u001b[1mINFO    \u001b[0m | \u001b[36mdata_processing.english_data_processing\u001b[0m:\u001b[36mevaluate_models\u001b[0m:\u001b[36m74\u001b[0m - \u001b[1mModel <class 'sklearn.ensemble._forest.ExtraTreesClassifier'> - scaler: MaxAbsScaler(), accuracy: 0.6290811775200714\u001b[0m\n",
      "\u001b[32m2024-05-23 03:55:08.208\u001b[0m | \u001b[1mINFO    \u001b[0m | \u001b[36mdata_processing.english_data_processing\u001b[0m:\u001b[36mevaluate_models\u001b[0m:\u001b[36m74\u001b[0m - \u001b[1mModel <class 'sklearn.ensemble._forest.RandomForestClassifier'> - scaler: RobustScaler(), accuracy: 0.6333630686886708\u001b[0m\n",
      "\u001b[32m2024-05-23 03:55:24.767\u001b[0m | \u001b[1mINFO    \u001b[0m | \u001b[36mdata_processing.english_data_processing\u001b[0m:\u001b[36mevaluate_models\u001b[0m:\u001b[36m74\u001b[0m - \u001b[1mModel <class 'sklearn.ensemble._forest.ExtraTreesClassifier'> - scaler: RobustScaler(), accuracy: 0.6298840321141836\u001b[0m\n",
      "\u001b[32m2024-05-23 03:56:46.600\u001b[0m | \u001b[1mINFO    \u001b[0m | \u001b[36mdata_processing.english_data_processing\u001b[0m:\u001b[36mevaluate_models\u001b[0m:\u001b[36m74\u001b[0m - \u001b[1mModel <class 'sklearn.ensemble._forest.RandomForestClassifier'> - scaler: Normalizer(), accuracy: 0.6138269402319357\u001b[0m\n",
      "\u001b[32m2024-05-23 03:57:02.668\u001b[0m | \u001b[1mINFO    \u001b[0m | \u001b[36mdata_processing.english_data_processing\u001b[0m:\u001b[36mevaluate_models\u001b[0m:\u001b[36m74\u001b[0m - \u001b[1mModel <class 'sklearn.ensemble._forest.ExtraTreesClassifier'> - scaler: Normalizer(), accuracy: 0.6123104371097234\u001b[0m\n",
      "\u001b[32m2024-05-23 03:57:02.668\u001b[0m | \u001b[1mINFO    \u001b[0m | \u001b[36mdata_processing.english_data_processing\u001b[0m:\u001b[36mevaluate_models\u001b[0m:\u001b[36m82\u001b[0m - \u001b[1mBest Model: <class 'sklearn.ensemble._forest.RandomForestClassifier'>\u001b[0m\n",
      "\u001b[32m2024-05-23 03:57:02.669\u001b[0m | \u001b[1mINFO    \u001b[0m | \u001b[36mdata_processing.english_data_processing\u001b[0m:\u001b[36mevaluate_models\u001b[0m:\u001b[36m83\u001b[0m - \u001b[1mBest Scaler: None\u001b[0m\n",
      "\u001b[32m2024-05-23 03:57:02.669\u001b[0m | \u001b[1mINFO    \u001b[0m | \u001b[36mdata_processing.english_data_processing\u001b[0m:\u001b[36mevaluate_models\u001b[0m:\u001b[36m84\u001b[0m - \u001b[1mBest Average Accuracy: 0.6351471900089206\u001b[0m\n",
      "\u001b[32m2024-05-23 03:57:02.672\u001b[0m | \u001b[1mINFO    \u001b[0m | \u001b[36mfeature_extraction.feature_extractor\u001b[0m:\u001b[36mprocess_folder\u001b[0m:\u001b[36m148\u001b[0m - \u001b[1mProcessing input folder: D:/data_analysis/speech_emotion_recognition/data/EnglishDataset/combined_data\u001b[0m\n"
     ]
    },
    {
     "name": "stdout",
     "output_type": "stream",
     "text": [
      "Scaler: None, Model: <class 'sklearn.ensemble._forest.RandomForestClassifier'>, n_mfcc: 26, Selected features: ['mfcc_statistics', 'pitch', 'rms'], Accuracy: 0.6351471900089206\n",
      "['mfcc_statistics', 'zcr', 'rms']\n"
     ]
    },
    {
     "name": "stderr",
     "output_type": "stream",
     "text": [
      "\u001b[32m2024-05-23 03:58:41.952\u001b[0m | \u001b[1mINFO    \u001b[0m | \u001b[36mfeature_extraction.feature_extractor\u001b[0m:\u001b[36mprocess_folder\u001b[0m:\u001b[36m158\u001b[0m - \u001b[1mFeature extraction completed. Data saved to: D:/data_analysis/speech_emotion_recognition/notebooks/feature1.csv\u001b[0m\n",
      "\u001b[32m2024-05-23 03:58:42.093\u001b[0m | \u001b[1mINFO    \u001b[0m | \u001b[36mdata_processing.english_data_processing\u001b[0m:\u001b[36mevaluate_models\u001b[0m:\u001b[36m53\u001b[0m - \u001b[1mFinding best model....\u001b[0m\n",
      "\u001b[32m2024-05-23 04:00:08.937\u001b[0m | \u001b[1mINFO    \u001b[0m | \u001b[36mdata_processing.english_data_processing\u001b[0m:\u001b[36mevaluate_models\u001b[0m:\u001b[36m74\u001b[0m - \u001b[1mModel <class 'sklearn.ensemble._forest.RandomForestClassifier'> - scaler: None, accuracy: 0.631757359500446\u001b[0m\n",
      "\u001b[32m2024-05-23 04:00:25.460\u001b[0m | \u001b[1mINFO    \u001b[0m | \u001b[36mdata_processing.english_data_processing\u001b[0m:\u001b[36mevaluate_models\u001b[0m:\u001b[36m74\u001b[0m - \u001b[1mModel <class 'sklearn.ensemble._forest.ExtraTreesClassifier'> - scaler: None, accuracy: 0.6276538804638716\u001b[0m\n",
      "\u001b[32m2024-05-23 04:01:56.237\u001b[0m | \u001b[1mINFO    \u001b[0m | \u001b[36mdata_processing.english_data_processing\u001b[0m:\u001b[36mevaluate_models\u001b[0m:\u001b[36m74\u001b[0m - \u001b[1mModel <class 'sklearn.ensemble._forest.RandomForestClassifier'> - scaler: StandardScaler(), accuracy: 0.6327386262265834\u001b[0m\n",
      "\u001b[32m2024-05-23 04:02:12.836\u001b[0m | \u001b[1mINFO    \u001b[0m | \u001b[36mdata_processing.english_data_processing\u001b[0m:\u001b[36mevaluate_models\u001b[0m:\u001b[36m74\u001b[0m - \u001b[1mModel <class 'sklearn.ensemble._forest.ExtraTreesClassifier'> - scaler: StandardScaler(), accuracy: 0.6246208742194469\u001b[0m\n",
      "\u001b[32m2024-05-23 04:03:40.002\u001b[0m | \u001b[1mINFO    \u001b[0m | \u001b[36mdata_processing.english_data_processing\u001b[0m:\u001b[36mevaluate_models\u001b[0m:\u001b[36m74\u001b[0m - \u001b[1mModel <class 'sklearn.ensemble._forest.RandomForestClassifier'> - scaler: MinMaxScaler(), accuracy: 0.627564674397859\u001b[0m\n",
      "\u001b[32m2024-05-23 04:03:56.347\u001b[0m | \u001b[1mINFO    \u001b[0m | \u001b[36mdata_processing.english_data_processing\u001b[0m:\u001b[36mevaluate_models\u001b[0m:\u001b[36m74\u001b[0m - \u001b[1mModel <class 'sklearn.ensemble._forest.ExtraTreesClassifier'> - scaler: MinMaxScaler(), accuracy: 0.6271186440677965\u001b[0m\n",
      "\u001b[32m2024-05-23 04:05:23.430\u001b[0m | \u001b[1mINFO    \u001b[0m | \u001b[36mdata_processing.english_data_processing\u001b[0m:\u001b[36mevaluate_models\u001b[0m:\u001b[36m74\u001b[0m - \u001b[1mModel <class 'sklearn.ensemble._forest.RandomForestClassifier'> - scaler: MaxAbsScaler(), accuracy: 0.6303300624442463\u001b[0m\n",
      "\u001b[32m2024-05-23 04:05:40.011\u001b[0m | \u001b[1mINFO    \u001b[0m | \u001b[36mdata_processing.english_data_processing\u001b[0m:\u001b[36mevaluate_models\u001b[0m:\u001b[36m74\u001b[0m - \u001b[1mModel <class 'sklearn.ensemble._forest.ExtraTreesClassifier'> - scaler: MaxAbsScaler(), accuracy: 0.628099910793934\u001b[0m\n",
      "\u001b[32m2024-05-23 04:07:09.313\u001b[0m | \u001b[1mINFO    \u001b[0m | \u001b[36mdata_processing.english_data_processing\u001b[0m:\u001b[36mevaluate_models\u001b[0m:\u001b[36m74\u001b[0m - \u001b[1mModel <class 'sklearn.ensemble._forest.RandomForestClassifier'> - scaler: RobustScaler(), accuracy: 0.6337198929527207\u001b[0m\n",
      "\u001b[32m2024-05-23 04:07:26.402\u001b[0m | \u001b[1mINFO    \u001b[0m | \u001b[36mdata_processing.english_data_processing\u001b[0m:\u001b[36mevaluate_models\u001b[0m:\u001b[36m74\u001b[0m - \u001b[1mModel <class 'sklearn.ensemble._forest.ExtraTreesClassifier'> - scaler: RobustScaler(), accuracy: 0.6275646743978591\u001b[0m\n",
      "\u001b[32m2024-05-23 04:08:47.704\u001b[0m | \u001b[1mINFO    \u001b[0m | \u001b[36mdata_processing.english_data_processing\u001b[0m:\u001b[36mevaluate_models\u001b[0m:\u001b[36m74\u001b[0m - \u001b[1mModel <class 'sklearn.ensemble._forest.RandomForestClassifier'> - scaler: Normalizer(), accuracy: 0.6088314005352364\u001b[0m\n",
      "\u001b[32m2024-05-23 04:09:04.025\u001b[0m | \u001b[1mINFO    \u001b[0m | \u001b[36mdata_processing.english_data_processing\u001b[0m:\u001b[36mevaluate_models\u001b[0m:\u001b[36m74\u001b[0m - \u001b[1mModel <class 'sklearn.ensemble._forest.ExtraTreesClassifier'> - scaler: Normalizer(), accuracy: 0.6112399643175737\u001b[0m\n",
      "\u001b[32m2024-05-23 04:09:04.025\u001b[0m | \u001b[1mINFO    \u001b[0m | \u001b[36mdata_processing.english_data_processing\u001b[0m:\u001b[36mevaluate_models\u001b[0m:\u001b[36m82\u001b[0m - \u001b[1mBest Model: <class 'sklearn.ensemble._forest.RandomForestClassifier'>\u001b[0m\n",
      "\u001b[32m2024-05-23 04:09:04.026\u001b[0m | \u001b[1mINFO    \u001b[0m | \u001b[36mdata_processing.english_data_processing\u001b[0m:\u001b[36mevaluate_models\u001b[0m:\u001b[36m83\u001b[0m - \u001b[1mBest Scaler: RobustScaler\u001b[0m\n",
      "\u001b[32m2024-05-23 04:09:04.026\u001b[0m | \u001b[1mINFO    \u001b[0m | \u001b[36mdata_processing.english_data_processing\u001b[0m:\u001b[36mevaluate_models\u001b[0m:\u001b[36m84\u001b[0m - \u001b[1mBest Average Accuracy: 0.6337198929527207\u001b[0m\n",
      "\u001b[32m2024-05-23 04:09:04.029\u001b[0m | \u001b[1mINFO    \u001b[0m | \u001b[36mfeature_extraction.feature_extractor\u001b[0m:\u001b[36mprocess_folder\u001b[0m:\u001b[36m148\u001b[0m - \u001b[1mProcessing input folder: D:/data_analysis/speech_emotion_recognition/data/EnglishDataset/combined_data\u001b[0m\n"
     ]
    },
    {
     "name": "stdout",
     "output_type": "stream",
     "text": [
      "Scaler: RobustScaler, Model: <class 'sklearn.ensemble._forest.RandomForestClassifier'>, n_mfcc: 26, Selected features: ['mfcc_statistics', 'zcr', 'rms'], Accuracy: 0.6337198929527207\n",
      "['mfcc_statistics', 'zcr', 'pitch']\n"
     ]
    },
    {
     "name": "stderr",
     "output_type": "stream",
     "text": [
      "\u001b[32m2024-05-23 04:10:24.417\u001b[0m | \u001b[1mINFO    \u001b[0m | \u001b[36mfeature_extraction.feature_extractor\u001b[0m:\u001b[36mprocess_folder\u001b[0m:\u001b[36m158\u001b[0m - \u001b[1mFeature extraction completed. Data saved to: D:/data_analysis/speech_emotion_recognition/notebooks/feature1.csv\u001b[0m\n",
      "\u001b[32m2024-05-23 04:10:24.566\u001b[0m | \u001b[1mINFO    \u001b[0m | \u001b[36mdata_processing.english_data_processing\u001b[0m:\u001b[36mevaluate_models\u001b[0m:\u001b[36m53\u001b[0m - \u001b[1mFinding best model....\u001b[0m\n",
      "\u001b[32m2024-05-23 04:11:50.934\u001b[0m | \u001b[1mINFO    \u001b[0m | \u001b[36mdata_processing.english_data_processing\u001b[0m:\u001b[36mevaluate_models\u001b[0m:\u001b[36m74\u001b[0m - \u001b[1mModel <class 'sklearn.ensemble._forest.RandomForestClassifier'> - scaler: None, accuracy: 0.6300624442462087\u001b[0m\n",
      "\u001b[32m2024-05-23 04:12:07.009\u001b[0m | \u001b[1mINFO    \u001b[0m | \u001b[36mdata_processing.english_data_processing\u001b[0m:\u001b[36mevaluate_models\u001b[0m:\u001b[36m74\u001b[0m - \u001b[1mModel <class 'sklearn.ensemble._forest.ExtraTreesClassifier'> - scaler: None, accuracy: 0.627029438001784\u001b[0m\n",
      "\u001b[32m2024-05-23 04:13:33.819\u001b[0m | \u001b[1mINFO    \u001b[0m | \u001b[36mdata_processing.english_data_processing\u001b[0m:\u001b[36mevaluate_models\u001b[0m:\u001b[36m74\u001b[0m - \u001b[1mModel <class 'sklearn.ensemble._forest.RandomForestClassifier'> - scaler: StandardScaler(), accuracy: 0.6307760927743087\u001b[0m\n",
      "\u001b[32m2024-05-23 04:13:50.127\u001b[0m | \u001b[1mINFO    \u001b[0m | \u001b[36mdata_processing.english_data_processing\u001b[0m:\u001b[36mevaluate_models\u001b[0m:\u001b[36m74\u001b[0m - \u001b[1mModel <class 'sklearn.ensemble._forest.ExtraTreesClassifier'> - scaler: StandardScaler(), accuracy: 0.6289027653880465\u001b[0m\n",
      "\u001b[32m2024-05-23 04:15:16.713\u001b[0m | \u001b[1mINFO    \u001b[0m | \u001b[36mdata_processing.english_data_processing\u001b[0m:\u001b[36mevaluate_models\u001b[0m:\u001b[36m74\u001b[0m - \u001b[1mModel <class 'sklearn.ensemble._forest.RandomForestClassifier'> - scaler: MinMaxScaler(), accuracy: 0.6312221231043711\u001b[0m\n",
      "\u001b[32m2024-05-23 04:15:32.955\u001b[0m | \u001b[1mINFO    \u001b[0m | \u001b[36mdata_processing.english_data_processing\u001b[0m:\u001b[36mevaluate_models\u001b[0m:\u001b[36m74\u001b[0m - \u001b[1mModel <class 'sklearn.ensemble._forest.ExtraTreesClassifier'> - scaler: MinMaxScaler(), accuracy: 0.6289027653880465\u001b[0m\n",
      "\u001b[32m2024-05-23 04:16:58.996\u001b[0m | \u001b[1mINFO    \u001b[0m | \u001b[36mdata_processing.english_data_processing\u001b[0m:\u001b[36mevaluate_models\u001b[0m:\u001b[36m74\u001b[0m - \u001b[1mModel <class 'sklearn.ensemble._forest.RandomForestClassifier'> - scaler: MaxAbsScaler(), accuracy: 0.6244424620874219\u001b[0m\n",
      "\u001b[32m2024-05-23 04:17:15.316\u001b[0m | \u001b[1mINFO    \u001b[0m | \u001b[36mdata_processing.english_data_processing\u001b[0m:\u001b[36mevaluate_models\u001b[0m:\u001b[36m74\u001b[0m - \u001b[1mModel <class 'sklearn.ensemble._forest.ExtraTreesClassifier'> - scaler: MaxAbsScaler(), accuracy: 0.6231043710972346\u001b[0m\n",
      "\u001b[32m2024-05-23 04:18:43.523\u001b[0m | \u001b[1mINFO    \u001b[0m | \u001b[36mdata_processing.english_data_processing\u001b[0m:\u001b[36mevaluate_models\u001b[0m:\u001b[36m74\u001b[0m - \u001b[1mModel <class 'sklearn.ensemble._forest.RandomForestClassifier'> - scaler: RobustScaler(), accuracy: 0.6347011596788581\u001b[0m\n",
      "\u001b[32m2024-05-23 04:19:00.149\u001b[0m | \u001b[1mINFO    \u001b[0m | \u001b[36mdata_processing.english_data_processing\u001b[0m:\u001b[36mevaluate_models\u001b[0m:\u001b[36m74\u001b[0m - \u001b[1mModel <class 'sklearn.ensemble._forest.ExtraTreesClassifier'> - scaler: RobustScaler(), accuracy: 0.6266726137377341\u001b[0m\n",
      "\u001b[32m2024-05-23 04:20:22.155\u001b[0m | \u001b[1mINFO    \u001b[0m | \u001b[36mdata_processing.english_data_processing\u001b[0m:\u001b[36mevaluate_models\u001b[0m:\u001b[36m74\u001b[0m - \u001b[1mModel <class 'sklearn.ensemble._forest.RandomForestClassifier'> - scaler: Normalizer(), accuracy: 0.6103479036574486\u001b[0m\n",
      "\u001b[32m2024-05-23 04:20:38.345\u001b[0m | \u001b[1mINFO    \u001b[0m | \u001b[36mdata_processing.english_data_processing\u001b[0m:\u001b[36mevaluate_models\u001b[0m:\u001b[36m74\u001b[0m - \u001b[1mModel <class 'sklearn.ensemble._forest.ExtraTreesClassifier'> - scaler: Normalizer(), accuracy: 0.6035682426404996\u001b[0m\n",
      "\u001b[32m2024-05-23 04:20:38.346\u001b[0m | \u001b[1mINFO    \u001b[0m | \u001b[36mdata_processing.english_data_processing\u001b[0m:\u001b[36mevaluate_models\u001b[0m:\u001b[36m82\u001b[0m - \u001b[1mBest Model: <class 'sklearn.ensemble._forest.RandomForestClassifier'>\u001b[0m\n",
      "\u001b[32m2024-05-23 04:20:38.346\u001b[0m | \u001b[1mINFO    \u001b[0m | \u001b[36mdata_processing.english_data_processing\u001b[0m:\u001b[36mevaluate_models\u001b[0m:\u001b[36m83\u001b[0m - \u001b[1mBest Scaler: RobustScaler\u001b[0m\n",
      "\u001b[32m2024-05-23 04:20:38.347\u001b[0m | \u001b[1mINFO    \u001b[0m | \u001b[36mdata_processing.english_data_processing\u001b[0m:\u001b[36mevaluate_models\u001b[0m:\u001b[36m84\u001b[0m - \u001b[1mBest Average Accuracy: 0.6347011596788581\u001b[0m\n",
      "\u001b[32m2024-05-23 04:20:38.350\u001b[0m | \u001b[1mINFO    \u001b[0m | \u001b[36mfeature_extraction.feature_extractor\u001b[0m:\u001b[36mprocess_folder\u001b[0m:\u001b[36m148\u001b[0m - \u001b[1mProcessing input folder: D:/data_analysis/speech_emotion_recognition/data/EnglishDataset/combined_data\u001b[0m\n"
     ]
    },
    {
     "name": "stdout",
     "output_type": "stream",
     "text": [
      "Scaler: RobustScaler, Model: <class 'sklearn.ensemble._forest.RandomForestClassifier'>, n_mfcc: 26, Selected features: ['mfcc_statistics', 'zcr', 'pitch'], Accuracy: 0.6347011596788581\n",
      "['pitch', 'rms']\n"
     ]
    },
    {
     "name": "stderr",
     "output_type": "stream",
     "text": [
      "\u001b[32m2024-05-23 04:21:19.983\u001b[0m | \u001b[1mINFO    \u001b[0m | \u001b[36mfeature_extraction.feature_extractor\u001b[0m:\u001b[36mprocess_folder\u001b[0m:\u001b[36m158\u001b[0m - \u001b[1mFeature extraction completed. Data saved to: D:/data_analysis/speech_emotion_recognition/notebooks/feature1.csv\u001b[0m\n",
      "\u001b[32m2024-05-23 04:21:19.998\u001b[0m | \u001b[1mINFO    \u001b[0m | \u001b[36mdata_processing.english_data_processing\u001b[0m:\u001b[36mevaluate_models\u001b[0m:\u001b[36m53\u001b[0m - \u001b[1mFinding best model....\u001b[0m\n",
      "\u001b[32m2024-05-23 04:21:38.367\u001b[0m | \u001b[1mINFO    \u001b[0m | \u001b[36mdata_processing.english_data_processing\u001b[0m:\u001b[36mevaluate_models\u001b[0m:\u001b[36m74\u001b[0m - \u001b[1mModel <class 'sklearn.ensemble._forest.RandomForestClassifier'> - scaler: None, accuracy: 0.47047279214986626\u001b[0m\n",
      "\u001b[32m2024-05-23 04:21:45.381\u001b[0m | \u001b[1mINFO    \u001b[0m | \u001b[36mdata_processing.english_data_processing\u001b[0m:\u001b[36mevaluate_models\u001b[0m:\u001b[36m74\u001b[0m - \u001b[1mModel <class 'sklearn.ensemble._forest.ExtraTreesClassifier'> - scaler: None, accuracy: 0.4732381801962534\u001b[0m\n",
      "\u001b[32m2024-05-23 04:22:03.994\u001b[0m | \u001b[1mINFO    \u001b[0m | \u001b[36mdata_processing.english_data_processing\u001b[0m:\u001b[36mevaluate_models\u001b[0m:\u001b[36m74\u001b[0m - \u001b[1mModel <class 'sklearn.ensemble._forest.RandomForestClassifier'> - scaler: StandardScaler(), accuracy: 0.46913470115967887\u001b[0m\n",
      "\u001b[32m2024-05-23 04:22:11.028\u001b[0m | \u001b[1mINFO    \u001b[0m | \u001b[36mdata_processing.english_data_processing\u001b[0m:\u001b[36mevaluate_models\u001b[0m:\u001b[36m74\u001b[0m - \u001b[1mModel <class 'sklearn.ensemble._forest.ExtraTreesClassifier'> - scaler: StandardScaler(), accuracy: 0.4714540588760035\u001b[0m\n",
      "\u001b[32m2024-05-23 04:22:29.605\u001b[0m | \u001b[1mINFO    \u001b[0m | \u001b[36mdata_processing.english_data_processing\u001b[0m:\u001b[36mevaluate_models\u001b[0m:\u001b[36m74\u001b[0m - \u001b[1mModel <class 'sklearn.ensemble._forest.RandomForestClassifier'> - scaler: MinMaxScaler(), accuracy: 0.4709188224799286\u001b[0m\n",
      "\u001b[32m2024-05-23 04:22:36.634\u001b[0m | \u001b[1mINFO    \u001b[0m | \u001b[36mdata_processing.english_data_processing\u001b[0m:\u001b[36mevaluate_models\u001b[0m:\u001b[36m74\u001b[0m - \u001b[1mModel <class 'sklearn.ensemble._forest.ExtraTreesClassifier'> - scaler: MinMaxScaler(), accuracy: 0.468242640499554\u001b[0m\n",
      "\u001b[32m2024-05-23 04:22:55.221\u001b[0m | \u001b[1mINFO    \u001b[0m | \u001b[36mdata_processing.english_data_processing\u001b[0m:\u001b[36mevaluate_models\u001b[0m:\u001b[36m74\u001b[0m - \u001b[1mModel <class 'sklearn.ensemble._forest.RandomForestClassifier'> - scaler: MaxAbsScaler(), accuracy: 0.47252453166815345\u001b[0m\n",
      "\u001b[32m2024-05-23 04:23:02.251\u001b[0m | \u001b[1mINFO    \u001b[0m | \u001b[36mdata_processing.english_data_processing\u001b[0m:\u001b[36mevaluate_models\u001b[0m:\u001b[36m74\u001b[0m - \u001b[1mModel <class 'sklearn.ensemble._forest.ExtraTreesClassifier'> - scaler: MaxAbsScaler(), accuracy: 0.4732381801962533\u001b[0m\n",
      "\u001b[32m2024-05-23 04:23:20.982\u001b[0m | \u001b[1mINFO    \u001b[0m | \u001b[36mdata_processing.english_data_processing\u001b[0m:\u001b[36mevaluate_models\u001b[0m:\u001b[36m74\u001b[0m - \u001b[1mModel <class 'sklearn.ensemble._forest.RandomForestClassifier'> - scaler: RobustScaler(), accuracy: 0.47225691347011595\u001b[0m\n",
      "\u001b[32m2024-05-23 04:23:28.030\u001b[0m | \u001b[1mINFO    \u001b[0m | \u001b[36mdata_processing.english_data_processing\u001b[0m:\u001b[36mevaluate_models\u001b[0m:\u001b[36m74\u001b[0m - \u001b[1mModel <class 'sklearn.ensemble._forest.ExtraTreesClassifier'> - scaler: RobustScaler(), accuracy: 0.4702943800178412\u001b[0m\n",
      "\u001b[32m2024-05-23 04:23:44.718\u001b[0m | \u001b[1mINFO    \u001b[0m | \u001b[36mdata_processing.english_data_processing\u001b[0m:\u001b[36mevaluate_models\u001b[0m:\u001b[36m74\u001b[0m - \u001b[1mModel <class 'sklearn.ensemble._forest.RandomForestClassifier'> - scaler: Normalizer(), accuracy: 0.436128456735058\u001b[0m\n",
      "\u001b[32m2024-05-23 04:23:51.947\u001b[0m | \u001b[1mINFO    \u001b[0m | \u001b[36mdata_processing.english_data_processing\u001b[0m:\u001b[36mevaluate_models\u001b[0m:\u001b[36m74\u001b[0m - \u001b[1mModel <class 'sklearn.ensemble._forest.ExtraTreesClassifier'> - scaler: Normalizer(), accuracy: 0.42809991079393395\u001b[0m\n",
      "\u001b[32m2024-05-23 04:23:51.948\u001b[0m | \u001b[1mINFO    \u001b[0m | \u001b[36mdata_processing.english_data_processing\u001b[0m:\u001b[36mevaluate_models\u001b[0m:\u001b[36m82\u001b[0m - \u001b[1mBest Model: <class 'sklearn.ensemble._forest.ExtraTreesClassifier'>\u001b[0m\n",
      "\u001b[32m2024-05-23 04:23:51.948\u001b[0m | \u001b[1mINFO    \u001b[0m | \u001b[36mdata_processing.english_data_processing\u001b[0m:\u001b[36mevaluate_models\u001b[0m:\u001b[36m83\u001b[0m - \u001b[1mBest Scaler: None\u001b[0m\n",
      "\u001b[32m2024-05-23 04:23:51.948\u001b[0m | \u001b[1mINFO    \u001b[0m | \u001b[36mdata_processing.english_data_processing\u001b[0m:\u001b[36mevaluate_models\u001b[0m:\u001b[36m84\u001b[0m - \u001b[1mBest Average Accuracy: 0.4732381801962534\u001b[0m\n",
      "\u001b[32m2024-05-23 04:23:51.949\u001b[0m | \u001b[1mINFO    \u001b[0m | \u001b[36mfeature_extraction.feature_extractor\u001b[0m:\u001b[36mprocess_folder\u001b[0m:\u001b[36m148\u001b[0m - \u001b[1mProcessing input folder: D:/data_analysis/speech_emotion_recognition/data/EnglishDataset/combined_data\u001b[0m\n"
     ]
    },
    {
     "name": "stdout",
     "output_type": "stream",
     "text": [
      "Scaler: None, Model: <class 'sklearn.ensemble._forest.ExtraTreesClassifier'>, n_mfcc: 26, Selected features: ['pitch', 'rms'], Accuracy: 0.4732381801962534\n",
      "['zcr', 'rms']\n"
     ]
    },
    {
     "name": "stderr",
     "output_type": "stream",
     "text": [
      "\u001b[32m2024-05-23 04:24:12.380\u001b[0m | \u001b[1mINFO    \u001b[0m | \u001b[36mfeature_extraction.feature_extractor\u001b[0m:\u001b[36mprocess_folder\u001b[0m:\u001b[36m158\u001b[0m - \u001b[1mFeature extraction completed. Data saved to: D:/data_analysis/speech_emotion_recognition/notebooks/feature1.csv\u001b[0m\n",
      "\u001b[32m2024-05-23 04:24:12.409\u001b[0m | \u001b[1mINFO    \u001b[0m | \u001b[36mdata_processing.english_data_processing\u001b[0m:\u001b[36mevaluate_models\u001b[0m:\u001b[36m53\u001b[0m - \u001b[1mFinding best model....\u001b[0m\n",
      "\u001b[32m2024-05-23 04:24:36.495\u001b[0m | \u001b[1mINFO    \u001b[0m | \u001b[36mdata_processing.english_data_processing\u001b[0m:\u001b[36mevaluate_models\u001b[0m:\u001b[36m74\u001b[0m - \u001b[1mModel <class 'sklearn.ensemble._forest.RandomForestClassifier'> - scaler: None, accuracy: 0.5101694915254237\u001b[0m\n",
      "\u001b[32m2024-05-23 04:24:44.815\u001b[0m | \u001b[1mINFO    \u001b[0m | \u001b[36mdata_processing.english_data_processing\u001b[0m:\u001b[36mevaluate_models\u001b[0m:\u001b[36m74\u001b[0m - \u001b[1mModel <class 'sklearn.ensemble._forest.ExtraTreesClassifier'> - scaler: None, accuracy: 0.5159678858162355\u001b[0m\n",
      "\u001b[32m2024-05-23 04:25:09.287\u001b[0m | \u001b[1mINFO    \u001b[0m | \u001b[36mdata_processing.english_data_processing\u001b[0m:\u001b[36mevaluate_models\u001b[0m:\u001b[36m74\u001b[0m - \u001b[1mModel <class 'sklearn.ensemble._forest.RandomForestClassifier'> - scaler: StandardScaler(), accuracy: 0.5154326494201605\u001b[0m\n",
      "\u001b[32m2024-05-23 04:25:17.549\u001b[0m | \u001b[1mINFO    \u001b[0m | \u001b[36mdata_processing.english_data_processing\u001b[0m:\u001b[36mevaluate_models\u001b[0m:\u001b[36m74\u001b[0m - \u001b[1mModel <class 'sklearn.ensemble._forest.ExtraTreesClassifier'> - scaler: StandardScaler(), accuracy: 0.5119536128456735\u001b[0m\n",
      "\u001b[32m2024-05-23 04:25:42.114\u001b[0m | \u001b[1mINFO    \u001b[0m | \u001b[36mdata_processing.english_data_processing\u001b[0m:\u001b[36mevaluate_models\u001b[0m:\u001b[36m74\u001b[0m - \u001b[1mModel <class 'sklearn.ensemble._forest.RandomForestClassifier'> - scaler: MinMaxScaler(), accuracy: 0.5133809099018734\u001b[0m\n",
      "\u001b[32m2024-05-23 04:25:50.453\u001b[0m | \u001b[1mINFO    \u001b[0m | \u001b[36mdata_processing.english_data_processing\u001b[0m:\u001b[36mevaluate_models\u001b[0m:\u001b[36m74\u001b[0m - \u001b[1mModel <class 'sklearn.ensemble._forest.ExtraTreesClassifier'> - scaler: MinMaxScaler(), accuracy: 0.512578055307761\u001b[0m\n",
      "\u001b[32m2024-05-23 04:26:14.681\u001b[0m | \u001b[1mINFO    \u001b[0m | \u001b[36mdata_processing.english_data_processing\u001b[0m:\u001b[36mevaluate_models\u001b[0m:\u001b[36m74\u001b[0m - \u001b[1mModel <class 'sklearn.ensemble._forest.RandomForestClassifier'> - scaler: MaxAbsScaler(), accuracy: 0.5141837644959858\u001b[0m\n",
      "\u001b[32m2024-05-23 04:26:22.797\u001b[0m | \u001b[1mINFO    \u001b[0m | \u001b[36mdata_processing.english_data_processing\u001b[0m:\u001b[36mevaluate_models\u001b[0m:\u001b[36m74\u001b[0m - \u001b[1mModel <class 'sklearn.ensemble._forest.ExtraTreesClassifier'> - scaler: MaxAbsScaler(), accuracy: 0.5117752007136485\u001b[0m\n",
      "\u001b[32m2024-05-23 04:26:47.013\u001b[0m | \u001b[1mINFO    \u001b[0m | \u001b[36mdata_processing.english_data_processing\u001b[0m:\u001b[36mevaluate_models\u001b[0m:\u001b[36m74\u001b[0m - \u001b[1mModel <class 'sklearn.ensemble._forest.RandomForestClassifier'> - scaler: RobustScaler(), accuracy: 0.5129348795718108\u001b[0m\n",
      "\u001b[32m2024-05-23 04:26:55.140\u001b[0m | \u001b[1mINFO    \u001b[0m | \u001b[36mdata_processing.english_data_processing\u001b[0m:\u001b[36mevaluate_models\u001b[0m:\u001b[36m74\u001b[0m - \u001b[1mModel <class 'sklearn.ensemble._forest.ExtraTreesClassifier'> - scaler: RobustScaler(), accuracy: 0.5112399643175737\u001b[0m\n",
      "\u001b[32m2024-05-23 04:27:21.290\u001b[0m | \u001b[1mINFO    \u001b[0m | \u001b[36mdata_processing.english_data_processing\u001b[0m:\u001b[36mevaluate_models\u001b[0m:\u001b[36m74\u001b[0m - \u001b[1mModel <class 'sklearn.ensemble._forest.RandomForestClassifier'> - scaler: Normalizer(), accuracy: 0.4974130240856378\u001b[0m\n",
      "\u001b[32m2024-05-23 04:27:29.544\u001b[0m | \u001b[1mINFO    \u001b[0m | \u001b[36mdata_processing.english_data_processing\u001b[0m:\u001b[36mevaluate_models\u001b[0m:\u001b[36m74\u001b[0m - \u001b[1mModel <class 'sklearn.ensemble._forest.ExtraTreesClassifier'> - scaler: Normalizer(), accuracy: 0.4970561998215879\u001b[0m\n",
      "\u001b[32m2024-05-23 04:27:29.545\u001b[0m | \u001b[1mINFO    \u001b[0m | \u001b[36mdata_processing.english_data_processing\u001b[0m:\u001b[36mevaluate_models\u001b[0m:\u001b[36m82\u001b[0m - \u001b[1mBest Model: <class 'sklearn.ensemble._forest.ExtraTreesClassifier'>\u001b[0m\n",
      "\u001b[32m2024-05-23 04:27:29.546\u001b[0m | \u001b[1mINFO    \u001b[0m | \u001b[36mdata_processing.english_data_processing\u001b[0m:\u001b[36mevaluate_models\u001b[0m:\u001b[36m83\u001b[0m - \u001b[1mBest Scaler: None\u001b[0m\n",
      "\u001b[32m2024-05-23 04:27:29.546\u001b[0m | \u001b[1mINFO    \u001b[0m | \u001b[36mdata_processing.english_data_processing\u001b[0m:\u001b[36mevaluate_models\u001b[0m:\u001b[36m84\u001b[0m - \u001b[1mBest Average Accuracy: 0.5159678858162355\u001b[0m\n",
      "\u001b[32m2024-05-23 04:27:29.547\u001b[0m | \u001b[1mINFO    \u001b[0m | \u001b[36mfeature_extraction.feature_extractor\u001b[0m:\u001b[36mprocess_folder\u001b[0m:\u001b[36m148\u001b[0m - \u001b[1mProcessing input folder: D:/data_analysis/speech_emotion_recognition/data/EnglishDataset/combined_data\u001b[0m\n"
     ]
    },
    {
     "name": "stdout",
     "output_type": "stream",
     "text": [
      "Scaler: None, Model: <class 'sklearn.ensemble._forest.ExtraTreesClassifier'>, n_mfcc: 26, Selected features: ['zcr', 'rms'], Accuracy: 0.5159678858162355\n",
      "['zcr', 'pitch']\n"
     ]
    },
    {
     "name": "stderr",
     "output_type": "stream",
     "text": [
      "\u001b[32m2024-05-23 04:28:09.703\u001b[0m | \u001b[1mINFO    \u001b[0m | \u001b[36mfeature_extraction.feature_extractor\u001b[0m:\u001b[36mprocess_folder\u001b[0m:\u001b[36m158\u001b[0m - \u001b[1mFeature extraction completed. Data saved to: D:/data_analysis/speech_emotion_recognition/notebooks/feature1.csv\u001b[0m\n",
      "\u001b[32m2024-05-23 04:28:09.719\u001b[0m | \u001b[1mINFO    \u001b[0m | \u001b[36mdata_processing.english_data_processing\u001b[0m:\u001b[36mevaluate_models\u001b[0m:\u001b[36m53\u001b[0m - \u001b[1mFinding best model....\u001b[0m\n",
      "\u001b[32m2024-05-23 04:28:26.070\u001b[0m | \u001b[1mINFO    \u001b[0m | \u001b[36mdata_processing.english_data_processing\u001b[0m:\u001b[36mevaluate_models\u001b[0m:\u001b[36m74\u001b[0m - \u001b[1mModel <class 'sklearn.ensemble._forest.RandomForestClassifier'> - scaler: None, accuracy: 0.41757359500446034\u001b[0m\n",
      "\u001b[32m2024-05-23 04:28:33.246\u001b[0m | \u001b[1mINFO    \u001b[0m | \u001b[36mdata_processing.english_data_processing\u001b[0m:\u001b[36mevaluate_models\u001b[0m:\u001b[36m74\u001b[0m - \u001b[1mModel <class 'sklearn.ensemble._forest.ExtraTreesClassifier'> - scaler: None, accuracy: 0.4159678858162355\u001b[0m\n",
      "\u001b[32m2024-05-23 04:28:49.558\u001b[0m | \u001b[1mINFO    \u001b[0m | \u001b[36mdata_processing.english_data_processing\u001b[0m:\u001b[36mevaluate_models\u001b[0m:\u001b[36m74\u001b[0m - \u001b[1mModel <class 'sklearn.ensemble._forest.RandomForestClassifier'> - scaler: StandardScaler(), accuracy: 0.4151650312221231\u001b[0m\n",
      "\u001b[32m2024-05-23 04:28:56.711\u001b[0m | \u001b[1mINFO    \u001b[0m | \u001b[36mdata_processing.english_data_processing\u001b[0m:\u001b[36mevaluate_models\u001b[0m:\u001b[36m74\u001b[0m - \u001b[1mModel <class 'sklearn.ensemble._forest.ExtraTreesClassifier'> - scaler: StandardScaler(), accuracy: 0.4101694915254237\u001b[0m\n",
      "\u001b[32m2024-05-23 04:29:13.055\u001b[0m | \u001b[1mINFO    \u001b[0m | \u001b[36mdata_processing.english_data_processing\u001b[0m:\u001b[36mevaluate_models\u001b[0m:\u001b[36m74\u001b[0m - \u001b[1mModel <class 'sklearn.ensemble._forest.RandomForestClassifier'> - scaler: MinMaxScaler(), accuracy: 0.4150758251561106\u001b[0m\n",
      "\u001b[32m2024-05-23 04:29:20.262\u001b[0m | \u001b[1mINFO    \u001b[0m | \u001b[36mdata_processing.english_data_processing\u001b[0m:\u001b[36mevaluate_models\u001b[0m:\u001b[36m74\u001b[0m - \u001b[1mModel <class 'sklearn.ensemble._forest.ExtraTreesClassifier'> - scaler: MinMaxScaler(), accuracy: 0.40847457627118644\u001b[0m\n",
      "\u001b[32m2024-05-23 04:29:36.641\u001b[0m | \u001b[1mINFO    \u001b[0m | \u001b[36mdata_processing.english_data_processing\u001b[0m:\u001b[36mevaluate_models\u001b[0m:\u001b[36m74\u001b[0m - \u001b[1mModel <class 'sklearn.ensemble._forest.RandomForestClassifier'> - scaler: MaxAbsScaler(), accuracy: 0.4171275646743979\u001b[0m\n",
      "\u001b[32m2024-05-23 04:29:43.855\u001b[0m | \u001b[1mINFO    \u001b[0m | \u001b[36mdata_processing.english_data_processing\u001b[0m:\u001b[36mevaluate_models\u001b[0m:\u001b[36m74\u001b[0m - \u001b[1mModel <class 'sklearn.ensemble._forest.ExtraTreesClassifier'> - scaler: MaxAbsScaler(), accuracy: 0.4114183764495986\u001b[0m\n",
      "\u001b[32m2024-05-23 04:30:00.209\u001b[0m | \u001b[1mINFO    \u001b[0m | \u001b[36mdata_processing.english_data_processing\u001b[0m:\u001b[36mevaluate_models\u001b[0m:\u001b[36m74\u001b[0m - \u001b[1mModel <class 'sklearn.ensemble._forest.RandomForestClassifier'> - scaler: RobustScaler(), accuracy: 0.4171275646743979\u001b[0m\n",
      "\u001b[32m2024-05-23 04:30:07.428\u001b[0m | \u001b[1mINFO    \u001b[0m | \u001b[36mdata_processing.english_data_processing\u001b[0m:\u001b[36mevaluate_models\u001b[0m:\u001b[36m74\u001b[0m - \u001b[1mModel <class 'sklearn.ensemble._forest.ExtraTreesClassifier'> - scaler: RobustScaler(), accuracy: 0.4154326494201606\u001b[0m\n",
      "\u001b[32m2024-05-23 04:30:26.701\u001b[0m | \u001b[1mINFO    \u001b[0m | \u001b[36mdata_processing.english_data_processing\u001b[0m:\u001b[36mevaluate_models\u001b[0m:\u001b[36m74\u001b[0m - \u001b[1mModel <class 'sklearn.ensemble._forest.RandomForestClassifier'> - scaler: Normalizer(), accuracy: 0.3653880463871543\u001b[0m\n",
      "\u001b[32m2024-05-23 04:30:34.145\u001b[0m | \u001b[1mINFO    \u001b[0m | \u001b[36mdata_processing.english_data_processing\u001b[0m:\u001b[36mevaluate_models\u001b[0m:\u001b[36m74\u001b[0m - \u001b[1mModel <class 'sklearn.ensemble._forest.ExtraTreesClassifier'> - scaler: Normalizer(), accuracy: 0.35388046387154326\u001b[0m\n",
      "\u001b[32m2024-05-23 04:30:34.146\u001b[0m | \u001b[1mINFO    \u001b[0m | \u001b[36mdata_processing.english_data_processing\u001b[0m:\u001b[36mevaluate_models\u001b[0m:\u001b[36m82\u001b[0m - \u001b[1mBest Model: <class 'sklearn.ensemble._forest.RandomForestClassifier'>\u001b[0m\n",
      "\u001b[32m2024-05-23 04:30:34.147\u001b[0m | \u001b[1mINFO    \u001b[0m | \u001b[36mdata_processing.english_data_processing\u001b[0m:\u001b[36mevaluate_models\u001b[0m:\u001b[36m83\u001b[0m - \u001b[1mBest Scaler: None\u001b[0m\n",
      "\u001b[32m2024-05-23 04:30:34.147\u001b[0m | \u001b[1mINFO    \u001b[0m | \u001b[36mdata_processing.english_data_processing\u001b[0m:\u001b[36mevaluate_models\u001b[0m:\u001b[36m84\u001b[0m - \u001b[1mBest Average Accuracy: 0.41757359500446034\u001b[0m\n",
      "\u001b[32m2024-05-23 04:30:34.148\u001b[0m | \u001b[1mINFO    \u001b[0m | \u001b[36mfeature_extraction.feature_extractor\u001b[0m:\u001b[36mprocess_folder\u001b[0m:\u001b[36m148\u001b[0m - \u001b[1mProcessing input folder: D:/data_analysis/speech_emotion_recognition/data/EnglishDataset/combined_data\u001b[0m\n"
     ]
    },
    {
     "name": "stdout",
     "output_type": "stream",
     "text": [
      "Scaler: None, Model: <class 'sklearn.ensemble._forest.RandomForestClassifier'>, n_mfcc: 26, Selected features: ['zcr', 'pitch'], Accuracy: 0.41757359500446034\n",
      "['mfcc_statistics', 'rms']\n"
     ]
    },
    {
     "name": "stderr",
     "output_type": "stream",
     "text": [
      "\u001b[32m2024-05-23 04:31:31.186\u001b[0m | \u001b[1mINFO    \u001b[0m | \u001b[36mfeature_extraction.feature_extractor\u001b[0m:\u001b[36mprocess_folder\u001b[0m:\u001b[36m158\u001b[0m - \u001b[1mFeature extraction completed. Data saved to: D:/data_analysis/speech_emotion_recognition/notebooks/feature1.csv\u001b[0m\n",
      "\u001b[32m2024-05-23 04:31:31.322\u001b[0m | \u001b[1mINFO    \u001b[0m | \u001b[36mdata_processing.english_data_processing\u001b[0m:\u001b[36mevaluate_models\u001b[0m:\u001b[36m53\u001b[0m - \u001b[1mFinding best model....\u001b[0m\n",
      "\u001b[32m2024-05-23 04:32:59.494\u001b[0m | \u001b[1mINFO    \u001b[0m | \u001b[36mdata_processing.english_data_processing\u001b[0m:\u001b[36mevaluate_models\u001b[0m:\u001b[36m74\u001b[0m - \u001b[1mModel <class 'sklearn.ensemble._forest.RandomForestClassifier'> - scaler: None, accuracy: 0.6265834076717216\u001b[0m\n",
      "\u001b[32m2024-05-23 04:33:15.795\u001b[0m | \u001b[1mINFO    \u001b[0m | \u001b[36mdata_processing.english_data_processing\u001b[0m:\u001b[36mevaluate_models\u001b[0m:\u001b[36m74\u001b[0m - \u001b[1mModel <class 'sklearn.ensemble._forest.ExtraTreesClassifier'> - scaler: None, accuracy: 0.6275646743978591\u001b[0m\n",
      "\u001b[32m2024-05-23 04:34:43.473\u001b[0m | \u001b[1mINFO    \u001b[0m | \u001b[36mdata_processing.english_data_processing\u001b[0m:\u001b[36mevaluate_models\u001b[0m:\u001b[36m74\u001b[0m - \u001b[1mModel <class 'sklearn.ensemble._forest.RandomForestClassifier'> - scaler: StandardScaler(), accuracy: 0.6280107047279215\u001b[0m\n",
      "\u001b[32m2024-05-23 04:34:59.972\u001b[0m | \u001b[1mINFO    \u001b[0m | \u001b[36mdata_processing.english_data_processing\u001b[0m:\u001b[36mevaluate_models\u001b[0m:\u001b[36m74\u001b[0m - \u001b[1mModel <class 'sklearn.ensemble._forest.ExtraTreesClassifier'> - scaler: StandardScaler(), accuracy: 0.6239964317573595\u001b[0m\n",
      "\u001b[32m2024-05-23 04:36:27.865\u001b[0m | \u001b[1mINFO    \u001b[0m | \u001b[36mdata_processing.english_data_processing\u001b[0m:\u001b[36mevaluate_models\u001b[0m:\u001b[36m74\u001b[0m - \u001b[1mModel <class 'sklearn.ensemble._forest.RandomForestClassifier'> - scaler: MinMaxScaler(), accuracy: 0.6256913470115968\u001b[0m\n",
      "\u001b[32m2024-05-23 04:36:44.423\u001b[0m | \u001b[1mINFO    \u001b[0m | \u001b[36mdata_processing.english_data_processing\u001b[0m:\u001b[36mevaluate_models\u001b[0m:\u001b[36m74\u001b[0m - \u001b[1mModel <class 'sklearn.ensemble._forest.ExtraTreesClassifier'> - scaler: MinMaxScaler(), accuracy: 0.6248884924174843\u001b[0m\n",
      "\u001b[32m2024-05-23 04:38:14.396\u001b[0m | \u001b[1mINFO    \u001b[0m | \u001b[36mdata_processing.english_data_processing\u001b[0m:\u001b[36mevaluate_models\u001b[0m:\u001b[36m74\u001b[0m - \u001b[1mModel <class 'sklearn.ensemble._forest.RandomForestClassifier'> - scaler: MaxAbsScaler(), accuracy: 0.6291703835860838\u001b[0m\n",
      "\u001b[32m2024-05-23 04:38:30.640\u001b[0m | \u001b[1mINFO    \u001b[0m | \u001b[36mdata_processing.english_data_processing\u001b[0m:\u001b[36mevaluate_models\u001b[0m:\u001b[36m74\u001b[0m - \u001b[1mModel <class 'sklearn.ensemble._forest.ExtraTreesClassifier'> - scaler: MaxAbsScaler(), accuracy: 0.6262265834076717\u001b[0m\n",
      "\u001b[32m2024-05-23 04:39:59.211\u001b[0m | \u001b[1mINFO    \u001b[0m | \u001b[36mdata_processing.english_data_processing\u001b[0m:\u001b[36mevaluate_models\u001b[0m:\u001b[36m74\u001b[0m - \u001b[1mModel <class 'sklearn.ensemble._forest.RandomForestClassifier'> - scaler: RobustScaler(), accuracy: 0.6304192685102586\u001b[0m\n",
      "\u001b[32m2024-05-23 04:40:15.745\u001b[0m | \u001b[1mINFO    \u001b[0m | \u001b[36mdata_processing.english_data_processing\u001b[0m:\u001b[36mevaluate_models\u001b[0m:\u001b[36m74\u001b[0m - \u001b[1mModel <class 'sklearn.ensemble._forest.ExtraTreesClassifier'> - scaler: RobustScaler(), accuracy: 0.627921498661909\u001b[0m\n",
      "\u001b[32m2024-05-23 04:41:37.508\u001b[0m | \u001b[1mINFO    \u001b[0m | \u001b[36mdata_processing.english_data_processing\u001b[0m:\u001b[36mevaluate_models\u001b[0m:\u001b[36m74\u001b[0m - \u001b[1mModel <class 'sklearn.ensemble._forest.RandomForestClassifier'> - scaler: Normalizer(), accuracy: 0.6070472792149866\u001b[0m\n",
      "\u001b[32m2024-05-23 04:41:53.921\u001b[0m | \u001b[1mINFO    \u001b[0m | \u001b[36mdata_processing.english_data_processing\u001b[0m:\u001b[36mevaluate_models\u001b[0m:\u001b[36m74\u001b[0m - \u001b[1mModel <class 'sklearn.ensemble._forest.ExtraTreesClassifier'> - scaler: Normalizer(), accuracy: 0.6046387154326494\u001b[0m\n",
      "\u001b[32m2024-05-23 04:41:53.922\u001b[0m | \u001b[1mINFO    \u001b[0m | \u001b[36mdata_processing.english_data_processing\u001b[0m:\u001b[36mevaluate_models\u001b[0m:\u001b[36m82\u001b[0m - \u001b[1mBest Model: <class 'sklearn.ensemble._forest.RandomForestClassifier'>\u001b[0m\n",
      "\u001b[32m2024-05-23 04:41:53.923\u001b[0m | \u001b[1mINFO    \u001b[0m | \u001b[36mdata_processing.english_data_processing\u001b[0m:\u001b[36mevaluate_models\u001b[0m:\u001b[36m83\u001b[0m - \u001b[1mBest Scaler: RobustScaler\u001b[0m\n",
      "\u001b[32m2024-05-23 04:41:53.923\u001b[0m | \u001b[1mINFO    \u001b[0m | \u001b[36mdata_processing.english_data_processing\u001b[0m:\u001b[36mevaluate_models\u001b[0m:\u001b[36m84\u001b[0m - \u001b[1mBest Average Accuracy: 0.6304192685102586\u001b[0m\n",
      "\u001b[32m2024-05-23 04:41:53.925\u001b[0m | \u001b[1mINFO    \u001b[0m | \u001b[36mfeature_extraction.feature_extractor\u001b[0m:\u001b[36mprocess_folder\u001b[0m:\u001b[36m148\u001b[0m - \u001b[1mProcessing input folder: D:/data_analysis/speech_emotion_recognition/data/EnglishDataset/combined_data\u001b[0m\n"
     ]
    },
    {
     "name": "stdout",
     "output_type": "stream",
     "text": [
      "Scaler: RobustScaler, Model: <class 'sklearn.ensemble._forest.RandomForestClassifier'>, n_mfcc: 26, Selected features: ['mfcc_statistics', 'rms'], Accuracy: 0.6304192685102586\n",
      "['mfcc_statistics', 'pitch']\n"
     ]
    },
    {
     "name": "stderr",
     "output_type": "stream",
     "text": [
      "\u001b[32m2024-05-23 04:43:08.632\u001b[0m | \u001b[1mINFO    \u001b[0m | \u001b[36mfeature_extraction.feature_extractor\u001b[0m:\u001b[36mprocess_folder\u001b[0m:\u001b[36m158\u001b[0m - \u001b[1mFeature extraction completed. Data saved to: D:/data_analysis/speech_emotion_recognition/notebooks/feature1.csv\u001b[0m\n",
      "\u001b[32m2024-05-23 04:43:08.770\u001b[0m | \u001b[1mINFO    \u001b[0m | \u001b[36mdata_processing.english_data_processing\u001b[0m:\u001b[36mevaluate_models\u001b[0m:\u001b[36m53\u001b[0m - \u001b[1mFinding best model....\u001b[0m\n",
      "\u001b[32m2024-05-23 04:44:35.860\u001b[0m | \u001b[1mINFO    \u001b[0m | \u001b[36mdata_processing.english_data_processing\u001b[0m:\u001b[36mevaluate_models\u001b[0m:\u001b[36m74\u001b[0m - \u001b[1mModel <class 'sklearn.ensemble._forest.RandomForestClassifier'> - scaler: None, accuracy: 0.6316681534344336\u001b[0m\n",
      "\u001b[32m2024-05-23 04:44:51.916\u001b[0m | \u001b[1mINFO    \u001b[0m | \u001b[36mdata_processing.english_data_processing\u001b[0m:\u001b[36mevaluate_models\u001b[0m:\u001b[36m74\u001b[0m - \u001b[1mModel <class 'sklearn.ensemble._forest.ExtraTreesClassifier'> - scaler: None, accuracy: 0.6248884924174843\u001b[0m\n",
      "\u001b[32m2024-05-23 04:46:18.352\u001b[0m | \u001b[1mINFO    \u001b[0m | \u001b[36mdata_processing.english_data_processing\u001b[0m:\u001b[36mevaluate_models\u001b[0m:\u001b[36m74\u001b[0m - \u001b[1mModel <class 'sklearn.ensemble._forest.RandomForestClassifier'> - scaler: StandardScaler(), accuracy: 0.6283675289919713\u001b[0m\n",
      "\u001b[32m2024-05-23 04:46:34.531\u001b[0m | \u001b[1mINFO    \u001b[0m | \u001b[36mdata_processing.english_data_processing\u001b[0m:\u001b[36mevaluate_models\u001b[0m:\u001b[36m74\u001b[0m - \u001b[1mModel <class 'sklearn.ensemble._forest.ExtraTreesClassifier'> - scaler: StandardScaler(), accuracy: 0.627921498661909\u001b[0m\n",
      "\u001b[32m2024-05-23 04:48:01.519\u001b[0m | \u001b[1mINFO    \u001b[0m | \u001b[36mdata_processing.english_data_processing\u001b[0m:\u001b[36mevaluate_models\u001b[0m:\u001b[36m74\u001b[0m - \u001b[1mModel <class 'sklearn.ensemble._forest.RandomForestClassifier'> - scaler: MinMaxScaler(), accuracy: 0.6300624442462087\u001b[0m\n",
      "\u001b[32m2024-05-23 04:48:17.702\u001b[0m | \u001b[1mINFO    \u001b[0m | \u001b[36mdata_processing.english_data_processing\u001b[0m:\u001b[36mevaluate_models\u001b[0m:\u001b[36m74\u001b[0m - \u001b[1mModel <class 'sklearn.ensemble._forest.ExtraTreesClassifier'> - scaler: MinMaxScaler(), accuracy: 0.628099910793934\u001b[0m\n",
      "\u001b[32m2024-05-23 04:49:45.921\u001b[0m | \u001b[1mINFO    \u001b[0m | \u001b[36mdata_processing.english_data_processing\u001b[0m:\u001b[36mevaluate_models\u001b[0m:\u001b[36m74\u001b[0m - \u001b[1mModel <class 'sklearn.ensemble._forest.RandomForestClassifier'> - scaler: MaxAbsScaler(), accuracy: 0.6299732381801962\u001b[0m\n",
      "\u001b[32m2024-05-23 04:50:02.664\u001b[0m | \u001b[1mINFO    \u001b[0m | \u001b[36mdata_processing.english_data_processing\u001b[0m:\u001b[36mevaluate_models\u001b[0m:\u001b[36m74\u001b[0m - \u001b[1mModel <class 'sklearn.ensemble._forest.ExtraTreesClassifier'> - scaler: MaxAbsScaler(), accuracy: 0.6234611953612845\u001b[0m\n",
      "\u001b[32m2024-05-23 04:51:31.086\u001b[0m | \u001b[1mINFO    \u001b[0m | \u001b[36mdata_processing.english_data_processing\u001b[0m:\u001b[36mevaluate_models\u001b[0m:\u001b[36m74\u001b[0m - \u001b[1mModel <class 'sklearn.ensemble._forest.RandomForestClassifier'> - scaler: RobustScaler(), accuracy: 0.6271186440677966\u001b[0m\n",
      "\u001b[32m2024-05-23 04:51:47.565\u001b[0m | \u001b[1mINFO    \u001b[0m | \u001b[36mdata_processing.english_data_processing\u001b[0m:\u001b[36mevaluate_models\u001b[0m:\u001b[36m74\u001b[0m - \u001b[1mModel <class 'sklearn.ensemble._forest.ExtraTreesClassifier'> - scaler: RobustScaler(), accuracy: 0.6248884924174843\u001b[0m\n",
      "\u001b[32m2024-05-23 04:53:10.264\u001b[0m | \u001b[1mINFO    \u001b[0m | \u001b[36mdata_processing.english_data_processing\u001b[0m:\u001b[36mevaluate_models\u001b[0m:\u001b[36m74\u001b[0m - \u001b[1mModel <class 'sklearn.ensemble._forest.RandomForestClassifier'> - scaler: Normalizer(), accuracy: 0.6060660124888493\u001b[0m\n",
      "\u001b[32m2024-05-23 04:53:26.460\u001b[0m | \u001b[1mINFO    \u001b[0m | \u001b[36mdata_processing.english_data_processing\u001b[0m:\u001b[36mevaluate_models\u001b[0m:\u001b[36m74\u001b[0m - \u001b[1mModel <class 'sklearn.ensemble._forest.ExtraTreesClassifier'> - scaler: Normalizer(), accuracy: 0.6096342551293488\u001b[0m\n",
      "\u001b[32m2024-05-23 04:53:26.461\u001b[0m | \u001b[1mINFO    \u001b[0m | \u001b[36mdata_processing.english_data_processing\u001b[0m:\u001b[36mevaluate_models\u001b[0m:\u001b[36m82\u001b[0m - \u001b[1mBest Model: <class 'sklearn.ensemble._forest.RandomForestClassifier'>\u001b[0m\n",
      "\u001b[32m2024-05-23 04:53:26.462\u001b[0m | \u001b[1mINFO    \u001b[0m | \u001b[36mdata_processing.english_data_processing\u001b[0m:\u001b[36mevaluate_models\u001b[0m:\u001b[36m83\u001b[0m - \u001b[1mBest Scaler: None\u001b[0m\n",
      "\u001b[32m2024-05-23 04:53:26.462\u001b[0m | \u001b[1mINFO    \u001b[0m | \u001b[36mdata_processing.english_data_processing\u001b[0m:\u001b[36mevaluate_models\u001b[0m:\u001b[36m84\u001b[0m - \u001b[1mBest Average Accuracy: 0.6316681534344336\u001b[0m\n",
      "\u001b[32m2024-05-23 04:53:26.465\u001b[0m | \u001b[1mINFO    \u001b[0m | \u001b[36mfeature_extraction.feature_extractor\u001b[0m:\u001b[36mprocess_folder\u001b[0m:\u001b[36m148\u001b[0m - \u001b[1mProcessing input folder: D:/data_analysis/speech_emotion_recognition/data/EnglishDataset/combined_data\u001b[0m\n"
     ]
    },
    {
     "name": "stdout",
     "output_type": "stream",
     "text": [
      "Scaler: None, Model: <class 'sklearn.ensemble._forest.RandomForestClassifier'>, n_mfcc: 26, Selected features: ['mfcc_statistics', 'pitch'], Accuracy: 0.6316681534344336\n",
      "['mfcc_statistics', 'zcr']\n"
     ]
    },
    {
     "name": "stderr",
     "output_type": "stream",
     "text": [
      "\u001b[32m2024-05-23 04:54:21.357\u001b[0m | \u001b[1mINFO    \u001b[0m | \u001b[36mfeature_extraction.feature_extractor\u001b[0m:\u001b[36mprocess_folder\u001b[0m:\u001b[36m158\u001b[0m - \u001b[1mFeature extraction completed. Data saved to: D:/data_analysis/speech_emotion_recognition/notebooks/feature1.csv\u001b[0m\n",
      "\u001b[32m2024-05-23 04:54:21.486\u001b[0m | \u001b[1mINFO    \u001b[0m | \u001b[36mdata_processing.english_data_processing\u001b[0m:\u001b[36mevaluate_models\u001b[0m:\u001b[36m53\u001b[0m - \u001b[1mFinding best model....\u001b[0m\n",
      "\u001b[32m2024-05-23 04:55:48.669\u001b[0m | \u001b[1mINFO    \u001b[0m | \u001b[36mdata_processing.english_data_processing\u001b[0m:\u001b[36mevaluate_models\u001b[0m:\u001b[36m74\u001b[0m - \u001b[1mModel <class 'sklearn.ensemble._forest.RandomForestClassifier'> - scaler: None, accuracy: 0.6275646743978591\u001b[0m\n",
      "\u001b[32m2024-05-23 04:56:04.997\u001b[0m | \u001b[1mINFO    \u001b[0m | \u001b[36mdata_processing.english_data_processing\u001b[0m:\u001b[36mevaluate_models\u001b[0m:\u001b[36m74\u001b[0m - \u001b[1mModel <class 'sklearn.ensemble._forest.ExtraTreesClassifier'> - scaler: None, accuracy: 0.6199821587867975\u001b[0m\n",
      "\u001b[32m2024-05-23 04:57:31.623\u001b[0m | \u001b[1mINFO    \u001b[0m | \u001b[36mdata_processing.english_data_processing\u001b[0m:\u001b[36mevaluate_models\u001b[0m:\u001b[36m74\u001b[0m - \u001b[1mModel <class 'sklearn.ensemble._forest.RandomForestClassifier'> - scaler: StandardScaler(), accuracy: 0.6225691347011597\u001b[0m\n",
      "\u001b[32m2024-05-23 04:57:48.158\u001b[0m | \u001b[1mINFO    \u001b[0m | \u001b[36mdata_processing.english_data_processing\u001b[0m:\u001b[36mevaluate_models\u001b[0m:\u001b[36m74\u001b[0m - \u001b[1mModel <class 'sklearn.ensemble._forest.ExtraTreesClassifier'> - scaler: StandardScaler(), accuracy: 0.6271186440677967\u001b[0m\n",
      "\u001b[32m2024-05-23 04:59:14.401\u001b[0m | \u001b[1mINFO    \u001b[0m | \u001b[36mdata_processing.english_data_processing\u001b[0m:\u001b[36mevaluate_models\u001b[0m:\u001b[36m74\u001b[0m - \u001b[1mModel <class 'sklearn.ensemble._forest.RandomForestClassifier'> - scaler: MinMaxScaler(), accuracy: 0.6265834076717217\u001b[0m\n",
      "\u001b[32m2024-05-23 04:59:30.852\u001b[0m | \u001b[1mINFO    \u001b[0m | \u001b[36mdata_processing.english_data_processing\u001b[0m:\u001b[36mevaluate_models\u001b[0m:\u001b[36m74\u001b[0m - \u001b[1mModel <class 'sklearn.ensemble._forest.ExtraTreesClassifier'> - scaler: MinMaxScaler(), accuracy: 0.6246208742194469\u001b[0m\n",
      "\u001b[32m2024-05-23 05:00:57.611\u001b[0m | \u001b[1mINFO    \u001b[0m | \u001b[36mdata_processing.english_data_processing\u001b[0m:\u001b[36mevaluate_models\u001b[0m:\u001b[36m74\u001b[0m - \u001b[1mModel <class 'sklearn.ensemble._forest.RandomForestClassifier'> - scaler: MaxAbsScaler(), accuracy: 0.6256913470115968\u001b[0m\n",
      "\u001b[32m2024-05-23 05:01:14.249\u001b[0m | \u001b[1mINFO    \u001b[0m | \u001b[36mdata_processing.english_data_processing\u001b[0m:\u001b[36mevaluate_models\u001b[0m:\u001b[36m74\u001b[0m - \u001b[1mModel <class 'sklearn.ensemble._forest.ExtraTreesClassifier'> - scaler: MaxAbsScaler(), accuracy: 0.6184656556645851\u001b[0m\n",
      "\u001b[32m2024-05-23 05:02:41.896\u001b[0m | \u001b[1mINFO    \u001b[0m | \u001b[36mdata_processing.english_data_processing\u001b[0m:\u001b[36mevaluate_models\u001b[0m:\u001b[36m74\u001b[0m - \u001b[1mModel <class 'sklearn.ensemble._forest.RandomForestClassifier'> - scaler: RobustScaler(), accuracy: 0.6259589652096342\u001b[0m\n",
      "\u001b[32m2024-05-23 05:02:58.415\u001b[0m | \u001b[1mINFO    \u001b[0m | \u001b[36mdata_processing.english_data_processing\u001b[0m:\u001b[36mevaluate_models\u001b[0m:\u001b[36m74\u001b[0m - \u001b[1mModel <class 'sklearn.ensemble._forest.ExtraTreesClassifier'> - scaler: RobustScaler(), accuracy: 0.623907225691347\u001b[0m\n",
      "\u001b[32m2024-05-23 05:04:20.041\u001b[0m | \u001b[1mINFO    \u001b[0m | \u001b[36mdata_processing.english_data_processing\u001b[0m:\u001b[36mevaluate_models\u001b[0m:\u001b[36m74\u001b[0m - \u001b[1mModel <class 'sklearn.ensemble._forest.RandomForestClassifier'> - scaler: Normalizer(), accuracy: 0.607314897413024\u001b[0m\n",
      "\u001b[32m2024-05-23 05:04:36.091\u001b[0m | \u001b[1mINFO    \u001b[0m | \u001b[36mdata_processing.english_data_processing\u001b[0m:\u001b[36mevaluate_models\u001b[0m:\u001b[36m74\u001b[0m - \u001b[1mModel <class 'sklearn.ensemble._forest.ExtraTreesClassifier'> - scaler: Normalizer(), accuracy: 0.6058876003568243\u001b[0m\n",
      "\u001b[32m2024-05-23 05:04:36.092\u001b[0m | \u001b[1mINFO    \u001b[0m | \u001b[36mdata_processing.english_data_processing\u001b[0m:\u001b[36mevaluate_models\u001b[0m:\u001b[36m82\u001b[0m - \u001b[1mBest Model: <class 'sklearn.ensemble._forest.RandomForestClassifier'>\u001b[0m\n",
      "\u001b[32m2024-05-23 05:04:36.092\u001b[0m | \u001b[1mINFO    \u001b[0m | \u001b[36mdata_processing.english_data_processing\u001b[0m:\u001b[36mevaluate_models\u001b[0m:\u001b[36m83\u001b[0m - \u001b[1mBest Scaler: None\u001b[0m\n",
      "\u001b[32m2024-05-23 05:04:36.093\u001b[0m | \u001b[1mINFO    \u001b[0m | \u001b[36mdata_processing.english_data_processing\u001b[0m:\u001b[36mevaluate_models\u001b[0m:\u001b[36m84\u001b[0m - \u001b[1mBest Average Accuracy: 0.6275646743978591\u001b[0m\n",
      "\u001b[32m2024-05-23 05:04:36.095\u001b[0m | \u001b[1mINFO    \u001b[0m | \u001b[36mfeature_extraction.feature_extractor\u001b[0m:\u001b[36mprocess_folder\u001b[0m:\u001b[36m148\u001b[0m - \u001b[1mProcessing input folder: D:/data_analysis/speech_emotion_recognition/data/EnglishDataset/combined_data\u001b[0m\n"
     ]
    },
    {
     "name": "stdout",
     "output_type": "stream",
     "text": [
      "Scaler: None, Model: <class 'sklearn.ensemble._forest.RandomForestClassifier'>, n_mfcc: 26, Selected features: ['mfcc_statistics', 'zcr'], Accuracy: 0.6275646743978591\n",
      "['rms']\n"
     ]
    },
    {
     "name": "stderr",
     "output_type": "stream",
     "text": [
      "\u001b[32m2024-05-23 05:04:49.355\u001b[0m | \u001b[1mINFO    \u001b[0m | \u001b[36mfeature_extraction.feature_extractor\u001b[0m:\u001b[36mprocess_folder\u001b[0m:\u001b[36m158\u001b[0m - \u001b[1mFeature extraction completed. Data saved to: D:/data_analysis/speech_emotion_recognition/notebooks/feature1.csv\u001b[0m\n",
      "\u001b[32m2024-05-23 05:04:49.370\u001b[0m | \u001b[1mINFO    \u001b[0m | \u001b[36mdata_processing.english_data_processing\u001b[0m:\u001b[36mevaluate_models\u001b[0m:\u001b[36m53\u001b[0m - \u001b[1mFinding best model....\u001b[0m\n",
      "\u001b[32m2024-05-23 05:05:08.468\u001b[0m | \u001b[1mINFO    \u001b[0m | \u001b[36mdata_processing.english_data_processing\u001b[0m:\u001b[36mevaluate_models\u001b[0m:\u001b[36m74\u001b[0m - \u001b[1mModel <class 'sklearn.ensemble._forest.RandomForestClassifier'> - scaler: None, accuracy: 0.42506690454950935\u001b[0m\n",
      "\u001b[32m2024-05-23 05:05:15.883\u001b[0m | \u001b[1mINFO    \u001b[0m | \u001b[36mdata_processing.english_data_processing\u001b[0m:\u001b[36mevaluate_models\u001b[0m:\u001b[36m74\u001b[0m - \u001b[1mModel <class 'sklearn.ensemble._forest.ExtraTreesClassifier'> - scaler: None, accuracy: 0.4248884924174844\u001b[0m\n",
      "\u001b[32m2024-05-23 05:05:35.923\u001b[0m | \u001b[1mINFO    \u001b[0m | \u001b[36mdata_processing.english_data_processing\u001b[0m:\u001b[36mevaluate_models\u001b[0m:\u001b[36m74\u001b[0m - \u001b[1mModel <class 'sklearn.ensemble._forest.RandomForestClassifier'> - scaler: StandardScaler(), accuracy: 0.4290811775200714\u001b[0m\n",
      "\u001b[32m2024-05-23 05:05:43.182\u001b[0m | \u001b[1mINFO    \u001b[0m | \u001b[36mdata_processing.english_data_processing\u001b[0m:\u001b[36mevaluate_models\u001b[0m:\u001b[36m74\u001b[0m - \u001b[1mModel <class 'sklearn.ensemble._forest.ExtraTreesClassifier'> - scaler: StandardScaler(), accuracy: 0.4262265834076717\u001b[0m\n",
      "\u001b[32m2024-05-23 05:06:02.927\u001b[0m | \u001b[1mINFO    \u001b[0m | \u001b[36mdata_processing.english_data_processing\u001b[0m:\u001b[36mevaluate_models\u001b[0m:\u001b[36m74\u001b[0m - \u001b[1mModel <class 'sklearn.ensemble._forest.RandomForestClassifier'> - scaler: MinMaxScaler(), accuracy: 0.4274754683318466\u001b[0m\n",
      "\u001b[32m2024-05-23 05:06:10.192\u001b[0m | \u001b[1mINFO    \u001b[0m | \u001b[36mdata_processing.english_data_processing\u001b[0m:\u001b[36mevaluate_models\u001b[0m:\u001b[36m74\u001b[0m - \u001b[1mModel <class 'sklearn.ensemble._forest.ExtraTreesClassifier'> - scaler: MinMaxScaler(), accuracy: 0.4262265834076717\u001b[0m\n",
      "\u001b[32m2024-05-23 05:06:29.792\u001b[0m | \u001b[1mINFO    \u001b[0m | \u001b[36mdata_processing.english_data_processing\u001b[0m:\u001b[36mevaluate_models\u001b[0m:\u001b[36m74\u001b[0m - \u001b[1mModel <class 'sklearn.ensemble._forest.RandomForestClassifier'> - scaler: MaxAbsScaler(), accuracy: 0.42515611061552183\u001b[0m\n",
      "\u001b[32m2024-05-23 05:06:36.868\u001b[0m | \u001b[1mINFO    \u001b[0m | \u001b[36mdata_processing.english_data_processing\u001b[0m:\u001b[36mevaluate_models\u001b[0m:\u001b[36m74\u001b[0m - \u001b[1mModel <class 'sklearn.ensemble._forest.ExtraTreesClassifier'> - scaler: MaxAbsScaler(), accuracy: 0.42390722569134703\u001b[0m\n",
      "\u001b[32m2024-05-23 05:06:56.446\u001b[0m | \u001b[1mINFO    \u001b[0m | \u001b[36mdata_processing.english_data_processing\u001b[0m:\u001b[36mevaluate_models\u001b[0m:\u001b[36m74\u001b[0m - \u001b[1mModel <class 'sklearn.ensemble._forest.RandomForestClassifier'> - scaler: RobustScaler(), accuracy: 0.4293487957181089\u001b[0m\n",
      "\u001b[32m2024-05-23 05:07:03.613\u001b[0m | \u001b[1mINFO    \u001b[0m | \u001b[36mdata_processing.english_data_processing\u001b[0m:\u001b[36mevaluate_models\u001b[0m:\u001b[36m74\u001b[0m - \u001b[1mModel <class 'sklearn.ensemble._forest.ExtraTreesClassifier'> - scaler: RobustScaler(), accuracy: 0.4272078501338091\u001b[0m\n",
      "\u001b[32m2024-05-23 05:07:23.775\u001b[0m | \u001b[1mINFO    \u001b[0m | \u001b[36mdata_processing.english_data_processing\u001b[0m:\u001b[36mevaluate_models\u001b[0m:\u001b[36m74\u001b[0m - \u001b[1mModel <class 'sklearn.ensemble._forest.RandomForestClassifier'> - scaler: Normalizer(), accuracy: 0.4086529884032114\u001b[0m\n",
      "\u001b[32m2024-05-23 05:07:31.020\u001b[0m | \u001b[1mINFO    \u001b[0m | \u001b[36mdata_processing.english_data_processing\u001b[0m:\u001b[36mevaluate_models\u001b[0m:\u001b[36m74\u001b[0m - \u001b[1mModel <class 'sklearn.ensemble._forest.ExtraTreesClassifier'> - scaler: Normalizer(), accuracy: 0.39741302408563783\u001b[0m\n",
      "\u001b[32m2024-05-23 05:07:31.021\u001b[0m | \u001b[1mINFO    \u001b[0m | \u001b[36mdata_processing.english_data_processing\u001b[0m:\u001b[36mevaluate_models\u001b[0m:\u001b[36m82\u001b[0m - \u001b[1mBest Model: <class 'sklearn.ensemble._forest.RandomForestClassifier'>\u001b[0m\n",
      "\u001b[32m2024-05-23 05:07:31.021\u001b[0m | \u001b[1mINFO    \u001b[0m | \u001b[36mdata_processing.english_data_processing\u001b[0m:\u001b[36mevaluate_models\u001b[0m:\u001b[36m83\u001b[0m - \u001b[1mBest Scaler: RobustScaler\u001b[0m\n",
      "\u001b[32m2024-05-23 05:07:31.022\u001b[0m | \u001b[1mINFO    \u001b[0m | \u001b[36mdata_processing.english_data_processing\u001b[0m:\u001b[36mevaluate_models\u001b[0m:\u001b[36m84\u001b[0m - \u001b[1mBest Average Accuracy: 0.4293487957181089\u001b[0m\n",
      "\u001b[32m2024-05-23 05:07:31.022\u001b[0m | \u001b[1mINFO    \u001b[0m | \u001b[36mfeature_extraction.feature_extractor\u001b[0m:\u001b[36mprocess_folder\u001b[0m:\u001b[36m148\u001b[0m - \u001b[1mProcessing input folder: D:/data_analysis/speech_emotion_recognition/data/EnglishDataset/combined_data\u001b[0m\n"
     ]
    },
    {
     "name": "stdout",
     "output_type": "stream",
     "text": [
      "Scaler: RobustScaler, Model: <class 'sklearn.ensemble._forest.RandomForestClassifier'>, n_mfcc: 26, Selected features: ['rms'], Accuracy: 0.4293487957181089\n",
      "['pitch']\n"
     ]
    },
    {
     "name": "stderr",
     "output_type": "stream",
     "text": [
      "\u001b[32m2024-05-23 05:08:04.315\u001b[0m | \u001b[1mINFO    \u001b[0m | \u001b[36mfeature_extraction.feature_extractor\u001b[0m:\u001b[36mprocess_folder\u001b[0m:\u001b[36m158\u001b[0m - \u001b[1mFeature extraction completed. Data saved to: D:/data_analysis/speech_emotion_recognition/notebooks/feature1.csv\u001b[0m\n",
      "\u001b[32m2024-05-23 05:08:04.326\u001b[0m | \u001b[1mINFO    \u001b[0m | \u001b[36mdata_processing.english_data_processing\u001b[0m:\u001b[36mevaluate_models\u001b[0m:\u001b[36m53\u001b[0m - \u001b[1mFinding best model....\u001b[0m\n",
      "\u001b[32m2024-05-23 05:08:17.783\u001b[0m | \u001b[1mINFO    \u001b[0m | \u001b[36mdata_processing.english_data_processing\u001b[0m:\u001b[36mevaluate_models\u001b[0m:\u001b[36m74\u001b[0m - \u001b[1mModel <class 'sklearn.ensemble._forest.RandomForestClassifier'> - scaler: None, accuracy: 0.21097234611953614\u001b[0m\n",
      "\u001b[32m2024-05-23 05:08:24.272\u001b[0m | \u001b[1mINFO    \u001b[0m | \u001b[36mdata_processing.english_data_processing\u001b[0m:\u001b[36mevaluate_models\u001b[0m:\u001b[36m74\u001b[0m - \u001b[1mModel <class 'sklearn.ensemble._forest.ExtraTreesClassifier'> - scaler: None, accuracy: 0.20856378233719894\u001b[0m\n",
      "\u001b[32m2024-05-23 05:08:37.702\u001b[0m | \u001b[1mINFO    \u001b[0m | \u001b[36mdata_processing.english_data_processing\u001b[0m:\u001b[36mevaluate_models\u001b[0m:\u001b[36m74\u001b[0m - \u001b[1mModel <class 'sklearn.ensemble._forest.RandomForestClassifier'> - scaler: StandardScaler(), accuracy: 0.21097234611953614\u001b[0m\n",
      "\u001b[32m2024-05-23 05:08:44.190\u001b[0m | \u001b[1mINFO    \u001b[0m | \u001b[36mdata_processing.english_data_processing\u001b[0m:\u001b[36mevaluate_models\u001b[0m:\u001b[36m74\u001b[0m - \u001b[1mModel <class 'sklearn.ensemble._forest.ExtraTreesClassifier'> - scaler: StandardScaler(), accuracy: 0.20918822479928637\u001b[0m\n",
      "\u001b[32m2024-05-23 05:08:57.573\u001b[0m | \u001b[1mINFO    \u001b[0m | \u001b[36mdata_processing.english_data_processing\u001b[0m:\u001b[36mevaluate_models\u001b[0m:\u001b[36m74\u001b[0m - \u001b[1mModel <class 'sklearn.ensemble._forest.RandomForestClassifier'> - scaler: MinMaxScaler(), accuracy: 0.21052631578947367\u001b[0m\n",
      "\u001b[32m2024-05-23 05:09:04.012\u001b[0m | \u001b[1mINFO    \u001b[0m | \u001b[36mdata_processing.english_data_processing\u001b[0m:\u001b[36mevaluate_models\u001b[0m:\u001b[36m74\u001b[0m - \u001b[1mModel <class 'sklearn.ensemble._forest.ExtraTreesClassifier'> - scaler: MinMaxScaler(), accuracy: 0.2090098126672614\u001b[0m\n",
      "\u001b[32m2024-05-23 05:09:17.339\u001b[0m | \u001b[1mINFO    \u001b[0m | \u001b[36mdata_processing.english_data_processing\u001b[0m:\u001b[36mevaluate_models\u001b[0m:\u001b[36m74\u001b[0m - \u001b[1mModel <class 'sklearn.ensemble._forest.RandomForestClassifier'> - scaler: MaxAbsScaler(), accuracy: 0.21061552185548615\u001b[0m\n",
      "\u001b[32m2024-05-23 05:09:23.866\u001b[0m | \u001b[1mINFO    \u001b[0m | \u001b[36mdata_processing.english_data_processing\u001b[0m:\u001b[36mevaluate_models\u001b[0m:\u001b[36m74\u001b[0m - \u001b[1mModel <class 'sklearn.ensemble._forest.ExtraTreesClassifier'> - scaler: MaxAbsScaler(), accuracy: 0.20981266726137376\u001b[0m\n",
      "\u001b[32m2024-05-23 05:09:37.281\u001b[0m | \u001b[1mINFO    \u001b[0m | \u001b[36mdata_processing.english_data_processing\u001b[0m:\u001b[36mevaluate_models\u001b[0m:\u001b[36m74\u001b[0m - \u001b[1mModel <class 'sklearn.ensemble._forest.RandomForestClassifier'> - scaler: RobustScaler(), accuracy: 0.21097234611953614\u001b[0m\n",
      "\u001b[32m2024-05-23 05:09:43.752\u001b[0m | \u001b[1mINFO    \u001b[0m | \u001b[36mdata_processing.english_data_processing\u001b[0m:\u001b[36mevaluate_models\u001b[0m:\u001b[36m74\u001b[0m - \u001b[1mModel <class 'sklearn.ensemble._forest.ExtraTreesClassifier'> - scaler: RobustScaler(), accuracy: 0.21061552185548615\u001b[0m\n",
      "\u001b[32m2024-05-23 05:09:44.940\u001b[0m | \u001b[1mINFO    \u001b[0m | \u001b[36mdata_processing.english_data_processing\u001b[0m:\u001b[36mevaluate_models\u001b[0m:\u001b[36m74\u001b[0m - \u001b[1mModel <class 'sklearn.ensemble._forest.RandomForestClassifier'> - scaler: Normalizer(), accuracy: 0.15396966993755573\u001b[0m\n",
      "\u001b[32m2024-05-23 05:09:45.836\u001b[0m | \u001b[1mINFO    \u001b[0m | \u001b[36mdata_processing.english_data_processing\u001b[0m:\u001b[36mevaluate_models\u001b[0m:\u001b[36m74\u001b[0m - \u001b[1mModel <class 'sklearn.ensemble._forest.ExtraTreesClassifier'> - scaler: Normalizer(), accuracy: 0.15316681534344337\u001b[0m\n",
      "\u001b[32m2024-05-23 05:09:45.837\u001b[0m | \u001b[1mINFO    \u001b[0m | \u001b[36mdata_processing.english_data_processing\u001b[0m:\u001b[36mevaluate_models\u001b[0m:\u001b[36m82\u001b[0m - \u001b[1mBest Model: <class 'sklearn.ensemble._forest.RandomForestClassifier'>\u001b[0m\n",
      "\u001b[32m2024-05-23 05:09:45.837\u001b[0m | \u001b[1mINFO    \u001b[0m | \u001b[36mdata_processing.english_data_processing\u001b[0m:\u001b[36mevaluate_models\u001b[0m:\u001b[36m83\u001b[0m - \u001b[1mBest Scaler: None\u001b[0m\n",
      "\u001b[32m2024-05-23 05:09:45.838\u001b[0m | \u001b[1mINFO    \u001b[0m | \u001b[36mdata_processing.english_data_processing\u001b[0m:\u001b[36mevaluate_models\u001b[0m:\u001b[36m84\u001b[0m - \u001b[1mBest Average Accuracy: 0.21097234611953614\u001b[0m\n",
      "\u001b[32m2024-05-23 05:09:45.839\u001b[0m | \u001b[1mINFO    \u001b[0m | \u001b[36mfeature_extraction.feature_extractor\u001b[0m:\u001b[36mprocess_folder\u001b[0m:\u001b[36m148\u001b[0m - \u001b[1mProcessing input folder: D:/data_analysis/speech_emotion_recognition/data/EnglishDataset/combined_data\u001b[0m\n"
     ]
    },
    {
     "name": "stdout",
     "output_type": "stream",
     "text": [
      "Scaler: None, Model: <class 'sklearn.ensemble._forest.RandomForestClassifier'>, n_mfcc: 26, Selected features: ['pitch'], Accuracy: 0.21097234611953614\n",
      "['zcr']\n"
     ]
    },
    {
     "name": "stderr",
     "output_type": "stream",
     "text": [
      "\u001b[32m2024-05-23 05:09:56.907\u001b[0m | \u001b[1mINFO    \u001b[0m | \u001b[36mfeature_extraction.feature_extractor\u001b[0m:\u001b[36mprocess_folder\u001b[0m:\u001b[36m158\u001b[0m - \u001b[1mFeature extraction completed. Data saved to: D:/data_analysis/speech_emotion_recognition/notebooks/feature1.csv\u001b[0m\n",
      "\u001b[32m2024-05-23 05:09:56.922\u001b[0m | \u001b[1mINFO    \u001b[0m | \u001b[36mdata_processing.english_data_processing\u001b[0m:\u001b[36mevaluate_models\u001b[0m:\u001b[36m53\u001b[0m - \u001b[1mFinding best model....\u001b[0m\n",
      "\u001b[32m2024-05-23 05:10:12.500\u001b[0m | \u001b[1mINFO    \u001b[0m | \u001b[36mdata_processing.english_data_processing\u001b[0m:\u001b[36mevaluate_models\u001b[0m:\u001b[36m74\u001b[0m - \u001b[1mModel <class 'sklearn.ensemble._forest.RandomForestClassifier'> - scaler: None, accuracy: 0.3868867082961641\u001b[0m\n",
      "\u001b[32m2024-05-23 05:10:19.709\u001b[0m | \u001b[1mINFO    \u001b[0m | \u001b[36mdata_processing.english_data_processing\u001b[0m:\u001b[36mevaluate_models\u001b[0m:\u001b[36m74\u001b[0m - \u001b[1mModel <class 'sklearn.ensemble._forest.ExtraTreesClassifier'> - scaler: None, accuracy: 0.3813559322033898\u001b[0m\n",
      "\u001b[32m2024-05-23 05:10:35.262\u001b[0m | \u001b[1mINFO    \u001b[0m | \u001b[36mdata_processing.english_data_processing\u001b[0m:\u001b[36mevaluate_models\u001b[0m:\u001b[36m74\u001b[0m - \u001b[1mModel <class 'sklearn.ensemble._forest.RandomForestClassifier'> - scaler: StandardScaler(), accuracy: 0.3846565566458519\u001b[0m\n",
      "\u001b[32m2024-05-23 05:10:42.516\u001b[0m | \u001b[1mINFO    \u001b[0m | \u001b[36mdata_processing.english_data_processing\u001b[0m:\u001b[36mevaluate_models\u001b[0m:\u001b[36m74\u001b[0m - \u001b[1mModel <class 'sklearn.ensemble._forest.ExtraTreesClassifier'> - scaler: StandardScaler(), accuracy: 0.38412132024977697\u001b[0m\n",
      "\u001b[32m2024-05-23 05:10:58.050\u001b[0m | \u001b[1mINFO    \u001b[0m | \u001b[36mdata_processing.english_data_processing\u001b[0m:\u001b[36mevaluate_models\u001b[0m:\u001b[36m74\u001b[0m - \u001b[1mModel <class 'sklearn.ensemble._forest.RandomForestClassifier'> - scaler: MinMaxScaler(), accuracy: 0.3868867082961641\u001b[0m\n",
      "\u001b[32m2024-05-23 05:11:05.337\u001b[0m | \u001b[1mINFO    \u001b[0m | \u001b[36mdata_processing.english_data_processing\u001b[0m:\u001b[36mevaluate_models\u001b[0m:\u001b[36m74\u001b[0m - \u001b[1mModel <class 'sklearn.ensemble._forest.ExtraTreesClassifier'> - scaler: MinMaxScaler(), accuracy: 0.3792149866190901\u001b[0m\n",
      "\u001b[32m2024-05-23 05:11:20.991\u001b[0m | \u001b[1mINFO    \u001b[0m | \u001b[36mdata_processing.english_data_processing\u001b[0m:\u001b[36mevaluate_models\u001b[0m:\u001b[36m74\u001b[0m - \u001b[1mModel <class 'sklearn.ensemble._forest.RandomForestClassifier'> - scaler: MaxAbsScaler(), accuracy: 0.38492417484388936\u001b[0m\n",
      "\u001b[32m2024-05-23 05:11:28.231\u001b[0m | \u001b[1mINFO    \u001b[0m | \u001b[36mdata_processing.english_data_processing\u001b[0m:\u001b[36mevaluate_models\u001b[0m:\u001b[36m74\u001b[0m - \u001b[1mModel <class 'sklearn.ensemble._forest.ExtraTreesClassifier'> - scaler: MaxAbsScaler(), accuracy: 0.380463871543265\u001b[0m\n",
      "\u001b[32m2024-05-23 05:11:44.002\u001b[0m | \u001b[1mINFO    \u001b[0m | \u001b[36mdata_processing.english_data_processing\u001b[0m:\u001b[36mevaluate_models\u001b[0m:\u001b[36m74\u001b[0m - \u001b[1mModel <class 'sklearn.ensemble._forest.RandomForestClassifier'> - scaler: RobustScaler(), accuracy: 0.3870651204281891\u001b[0m\n",
      "\u001b[32m2024-05-23 05:11:51.291\u001b[0m | \u001b[1mINFO    \u001b[0m | \u001b[36mdata_processing.english_data_processing\u001b[0m:\u001b[36mevaluate_models\u001b[0m:\u001b[36m74\u001b[0m - \u001b[1mModel <class 'sklearn.ensemble._forest.ExtraTreesClassifier'> - scaler: RobustScaler(), accuracy: 0.38296164139161465\u001b[0m\n",
      "\u001b[32m2024-05-23 05:12:11.658\u001b[0m | \u001b[1mINFO    \u001b[0m | \u001b[36mdata_processing.english_data_processing\u001b[0m:\u001b[36mevaluate_models\u001b[0m:\u001b[36m74\u001b[0m - \u001b[1mModel <class 'sklearn.ensemble._forest.RandomForestClassifier'> - scaler: Normalizer(), accuracy: 0.33844781445138267\u001b[0m\n",
      "\u001b[32m2024-05-23 05:12:19.029\u001b[0m | \u001b[1mINFO    \u001b[0m | \u001b[36mdata_processing.english_data_processing\u001b[0m:\u001b[36mevaluate_models\u001b[0m:\u001b[36m74\u001b[0m - \u001b[1mModel <class 'sklearn.ensemble._forest.ExtraTreesClassifier'> - scaler: Normalizer(), accuracy: 0.3332738626226584\u001b[0m\n",
      "\u001b[32m2024-05-23 05:12:19.030\u001b[0m | \u001b[1mINFO    \u001b[0m | \u001b[36mdata_processing.english_data_processing\u001b[0m:\u001b[36mevaluate_models\u001b[0m:\u001b[36m82\u001b[0m - \u001b[1mBest Model: <class 'sklearn.ensemble._forest.RandomForestClassifier'>\u001b[0m\n",
      "\u001b[32m2024-05-23 05:12:19.030\u001b[0m | \u001b[1mINFO    \u001b[0m | \u001b[36mdata_processing.english_data_processing\u001b[0m:\u001b[36mevaluate_models\u001b[0m:\u001b[36m83\u001b[0m - \u001b[1mBest Scaler: RobustScaler\u001b[0m\n",
      "\u001b[32m2024-05-23 05:12:19.031\u001b[0m | \u001b[1mINFO    \u001b[0m | \u001b[36mdata_processing.english_data_processing\u001b[0m:\u001b[36mevaluate_models\u001b[0m:\u001b[36m84\u001b[0m - \u001b[1mBest Average Accuracy: 0.3870651204281891\u001b[0m\n",
      "\u001b[32m2024-05-23 05:12:19.032\u001b[0m | \u001b[1mINFO    \u001b[0m | \u001b[36mfeature_extraction.feature_extractor\u001b[0m:\u001b[36mprocess_folder\u001b[0m:\u001b[36m148\u001b[0m - \u001b[1mProcessing input folder: D:/data_analysis/speech_emotion_recognition/data/EnglishDataset/combined_data\u001b[0m\n"
     ]
    },
    {
     "name": "stdout",
     "output_type": "stream",
     "text": [
      "Scaler: RobustScaler, Model: <class 'sklearn.ensemble._forest.RandomForestClassifier'>, n_mfcc: 26, Selected features: ['zcr'], Accuracy: 0.3870651204281891\n",
      "['mfcc_statistics']\n"
     ]
    },
    {
     "name": "stderr",
     "output_type": "stream",
     "text": [
      "\u001b[32m2024-05-23 05:13:06.933\u001b[0m | \u001b[1mINFO    \u001b[0m | \u001b[36mfeature_extraction.feature_extractor\u001b[0m:\u001b[36mprocess_folder\u001b[0m:\u001b[36m158\u001b[0m - \u001b[1mFeature extraction completed. Data saved to: D:/data_analysis/speech_emotion_recognition/notebooks/feature1.csv\u001b[0m\n",
      "\u001b[32m2024-05-23 05:13:07.066\u001b[0m | \u001b[1mINFO    \u001b[0m | \u001b[36mdata_processing.english_data_processing\u001b[0m:\u001b[36mevaluate_models\u001b[0m:\u001b[36m53\u001b[0m - \u001b[1mFinding best model....\u001b[0m\n",
      "\u001b[32m2024-05-23 05:14:34.635\u001b[0m | \u001b[1mINFO    \u001b[0m | \u001b[36mdata_processing.english_data_processing\u001b[0m:\u001b[36mevaluate_models\u001b[0m:\u001b[36m74\u001b[0m - \u001b[1mModel <class 'sklearn.ensemble._forest.RandomForestClassifier'> - scaler: None, accuracy: 0.6264942016057091\u001b[0m\n",
      "\u001b[32m2024-05-23 05:14:50.879\u001b[0m | \u001b[1mINFO    \u001b[0m | \u001b[36mdata_processing.english_data_processing\u001b[0m:\u001b[36mevaluate_models\u001b[0m:\u001b[36m74\u001b[0m - \u001b[1mModel <class 'sklearn.ensemble._forest.ExtraTreesClassifier'> - scaler: None, accuracy: 0.623728813559322\u001b[0m\n",
      "\u001b[32m2024-05-23 05:16:26.213\u001b[0m | \u001b[1mINFO    \u001b[0m | \u001b[36mdata_processing.english_data_processing\u001b[0m:\u001b[36mevaluate_models\u001b[0m:\u001b[36m74\u001b[0m - \u001b[1mModel <class 'sklearn.ensemble._forest.RandomForestClassifier'> - scaler: StandardScaler(), accuracy: 0.6220338983050848\u001b[0m\n",
      "\u001b[32m2024-05-23 05:16:50.265\u001b[0m | \u001b[1mINFO    \u001b[0m | \u001b[36mdata_processing.english_data_processing\u001b[0m:\u001b[36mevaluate_models\u001b[0m:\u001b[36m74\u001b[0m - \u001b[1mModel <class 'sklearn.ensemble._forest.ExtraTreesClassifier'> - scaler: StandardScaler(), accuracy: 0.6219446922390722\u001b[0m\n",
      "\u001b[32m2024-05-23 05:18:41.669\u001b[0m | \u001b[1mINFO    \u001b[0m | \u001b[36mdata_processing.english_data_processing\u001b[0m:\u001b[36mevaluate_models\u001b[0m:\u001b[36m74\u001b[0m - \u001b[1mModel <class 'sklearn.ensemble._forest.RandomForestClassifier'> - scaler: MinMaxScaler(), accuracy: 0.6221231043710972\u001b[0m\n",
      "\u001b[32m2024-05-23 05:18:58.349\u001b[0m | \u001b[1mINFO    \u001b[0m | \u001b[36mdata_processing.english_data_processing\u001b[0m:\u001b[36mevaluate_models\u001b[0m:\u001b[36m74\u001b[0m - \u001b[1mModel <class 'sklearn.ensemble._forest.ExtraTreesClassifier'> - scaler: MinMaxScaler(), accuracy: 0.6171275646743978\u001b[0m\n",
      "\u001b[32m2024-05-23 05:20:25.854\u001b[0m | \u001b[1mINFO    \u001b[0m | \u001b[36mdata_processing.english_data_processing\u001b[0m:\u001b[36mevaluate_models\u001b[0m:\u001b[36m74\u001b[0m - \u001b[1mModel <class 'sklearn.ensemble._forest.RandomForestClassifier'> - scaler: MaxAbsScaler(), accuracy: 0.6238180196253345\u001b[0m\n",
      "\u001b[32m2024-05-23 05:20:42.211\u001b[0m | \u001b[1mINFO    \u001b[0m | \u001b[36mdata_processing.english_data_processing\u001b[0m:\u001b[36mevaluate_models\u001b[0m:\u001b[36m74\u001b[0m - \u001b[1mModel <class 'sklearn.ensemble._forest.ExtraTreesClassifier'> - scaler: MaxAbsScaler(), accuracy: 0.6223907225691347\u001b[0m\n",
      "\u001b[32m2024-05-23 05:22:14.057\u001b[0m | \u001b[1mINFO    \u001b[0m | \u001b[36mdata_processing.english_data_processing\u001b[0m:\u001b[36mevaluate_models\u001b[0m:\u001b[36m74\u001b[0m - \u001b[1mModel <class 'sklearn.ensemble._forest.RandomForestClassifier'> - scaler: RobustScaler(), accuracy: 0.624264049955397\u001b[0m\n",
      "\u001b[32m2024-05-23 05:22:33.179\u001b[0m | \u001b[1mINFO    \u001b[0m | \u001b[36mdata_processing.english_data_processing\u001b[0m:\u001b[36mevaluate_models\u001b[0m:\u001b[36m74\u001b[0m - \u001b[1mModel <class 'sklearn.ensemble._forest.ExtraTreesClassifier'> - scaler: RobustScaler(), accuracy: 0.6205173951828724\u001b[0m\n",
      "\u001b[32m2024-05-23 05:23:56.017\u001b[0m | \u001b[1mINFO    \u001b[0m | \u001b[36mdata_processing.english_data_processing\u001b[0m:\u001b[36mevaluate_models\u001b[0m:\u001b[36m74\u001b[0m - \u001b[1mModel <class 'sklearn.ensemble._forest.RandomForestClassifier'> - scaler: Normalizer(), accuracy: 0.6057983942908118\u001b[0m\n",
      "\u001b[32m2024-05-23 05:24:12.239\u001b[0m | \u001b[1mINFO    \u001b[0m | \u001b[36mdata_processing.english_data_processing\u001b[0m:\u001b[36mevaluate_models\u001b[0m:\u001b[36m74\u001b[0m - \u001b[1mModel <class 'sklearn.ensemble._forest.ExtraTreesClassifier'> - scaler: Normalizer(), accuracy: 0.601605709188225\u001b[0m\n",
      "\u001b[32m2024-05-23 05:24:12.240\u001b[0m | \u001b[1mINFO    \u001b[0m | \u001b[36mdata_processing.english_data_processing\u001b[0m:\u001b[36mevaluate_models\u001b[0m:\u001b[36m82\u001b[0m - \u001b[1mBest Model: <class 'sklearn.ensemble._forest.RandomForestClassifier'>\u001b[0m\n",
      "\u001b[32m2024-05-23 05:24:12.240\u001b[0m | \u001b[1mINFO    \u001b[0m | \u001b[36mdata_processing.english_data_processing\u001b[0m:\u001b[36mevaluate_models\u001b[0m:\u001b[36m83\u001b[0m - \u001b[1mBest Scaler: None\u001b[0m\n",
      "\u001b[32m2024-05-23 05:24:12.241\u001b[0m | \u001b[1mINFO    \u001b[0m | \u001b[36mdata_processing.english_data_processing\u001b[0m:\u001b[36mevaluate_models\u001b[0m:\u001b[36m84\u001b[0m - \u001b[1mBest Average Accuracy: 0.6264942016057091\u001b[0m\n"
     ]
    },
    {
     "name": "stdout",
     "output_type": "stream",
     "text": [
      "Scaler: None, Model: <class 'sklearn.ensemble._forest.RandomForestClassifier'>, n_mfcc: 26, Selected features: ['mfcc_statistics'], Accuracy: 0.6264942016057091\n"
     ]
    }
   ],
   "source": [
    "#'mfcc','mfcc_statistics', 'zcr', 'pitch', 'rms'\n",
    "ranked_results = process_data(256, 128, 0.001, 'D:/data_analysis/speech_emotion_recognition/data/EnglishDataset/combined_data', 'D:/data_analysis/speech_emotion_recognition/data/EnglishDataset/combined_data', [26], 'D:/data_analysis/speech_emotion_recognition/notebooks/feature1.csv', 100, 'D:/data_analysis/speech_emotion_recognition/data/EnglishDataset/images', ['mfcc_statistics', 'zcr', 'pitch', 'rms'])"
   ]
  },
  {
   "cell_type": "code",
   "execution_count": 11,
   "metadata": {},
   "outputs": [
    {
     "data": {
      "text/html": [
       "<div>\n",
       "<style scoped>\n",
       "    .dataframe tbody tr th:only-of-type {\n",
       "        vertical-align: middle;\n",
       "    }\n",
       "\n",
       "    .dataframe tbody tr th {\n",
       "        vertical-align: top;\n",
       "    }\n",
       "\n",
       "    .dataframe thead th {\n",
       "        text-align: right;\n",
       "    }\n",
       "</style>\n",
       "<table border=\"1\" class=\"dataframe\">\n",
       "  <thead>\n",
       "    <tr style=\"text-align: right;\">\n",
       "      <th></th>\n",
       "      <th>Scaler</th>\n",
       "      <th>Model</th>\n",
       "      <th>N_MFCC</th>\n",
       "      <th>Selected Features</th>\n",
       "      <th>Average Accuracy</th>\n",
       "    </tr>\n",
       "  </thead>\n",
       "  <tbody>\n",
       "    <tr>\n",
       "      <th>0</th>\n",
       "      <td>RobustScaler</td>\n",
       "      <td>&lt;class 'sklearn.ensemble._forest.RandomForestC...</td>\n",
       "      <td>26</td>\n",
       "      <td>[mfcc_statistics, zcr, pitch, rms]</td>\n",
       "      <td>0.637288</td>\n",
       "    </tr>\n",
       "    <tr>\n",
       "      <th>2</th>\n",
       "      <td>None</td>\n",
       "      <td>&lt;class 'sklearn.ensemble._forest.RandomForestC...</td>\n",
       "      <td>26</td>\n",
       "      <td>[mfcc_statistics, pitch, rms]</td>\n",
       "      <td>0.635147</td>\n",
       "    </tr>\n",
       "    <tr>\n",
       "      <th>4</th>\n",
       "      <td>RobustScaler</td>\n",
       "      <td>&lt;class 'sklearn.ensemble._forest.RandomForestC...</td>\n",
       "      <td>26</td>\n",
       "      <td>[mfcc_statistics, zcr, pitch]</td>\n",
       "      <td>0.634701</td>\n",
       "    </tr>\n",
       "    <tr>\n",
       "      <th>3</th>\n",
       "      <td>RobustScaler</td>\n",
       "      <td>&lt;class 'sklearn.ensemble._forest.RandomForestC...</td>\n",
       "      <td>26</td>\n",
       "      <td>[mfcc_statistics, zcr, rms]</td>\n",
       "      <td>0.633720</td>\n",
       "    </tr>\n",
       "    <tr>\n",
       "      <th>9</th>\n",
       "      <td>None</td>\n",
       "      <td>&lt;class 'sklearn.ensemble._forest.RandomForestC...</td>\n",
       "      <td>26</td>\n",
       "      <td>[mfcc_statistics, pitch]</td>\n",
       "      <td>0.631668</td>\n",
       "    </tr>\n",
       "    <tr>\n",
       "      <th>8</th>\n",
       "      <td>RobustScaler</td>\n",
       "      <td>&lt;class 'sklearn.ensemble._forest.RandomForestC...</td>\n",
       "      <td>26</td>\n",
       "      <td>[mfcc_statistics, rms]</td>\n",
       "      <td>0.630419</td>\n",
       "    </tr>\n",
       "    <tr>\n",
       "      <th>10</th>\n",
       "      <td>None</td>\n",
       "      <td>&lt;class 'sklearn.ensemble._forest.RandomForestC...</td>\n",
       "      <td>26</td>\n",
       "      <td>[mfcc_statistics, zcr]</td>\n",
       "      <td>0.627565</td>\n",
       "    </tr>\n",
       "    <tr>\n",
       "      <th>14</th>\n",
       "      <td>None</td>\n",
       "      <td>&lt;class 'sklearn.ensemble._forest.RandomForestC...</td>\n",
       "      <td>26</td>\n",
       "      <td>[mfcc_statistics]</td>\n",
       "      <td>0.626494</td>\n",
       "    </tr>\n",
       "    <tr>\n",
       "      <th>1</th>\n",
       "      <td>MinMaxScaler</td>\n",
       "      <td>&lt;class 'sklearn.ensemble._forest.ExtraTreesCla...</td>\n",
       "      <td>26</td>\n",
       "      <td>[zcr, pitch, rms]</td>\n",
       "      <td>0.530419</td>\n",
       "    </tr>\n",
       "    <tr>\n",
       "      <th>6</th>\n",
       "      <td>None</td>\n",
       "      <td>&lt;class 'sklearn.ensemble._forest.ExtraTreesCla...</td>\n",
       "      <td>26</td>\n",
       "      <td>[zcr, rms]</td>\n",
       "      <td>0.515968</td>\n",
       "    </tr>\n",
       "    <tr>\n",
       "      <th>5</th>\n",
       "      <td>None</td>\n",
       "      <td>&lt;class 'sklearn.ensemble._forest.ExtraTreesCla...</td>\n",
       "      <td>26</td>\n",
       "      <td>[pitch, rms]</td>\n",
       "      <td>0.473238</td>\n",
       "    </tr>\n",
       "    <tr>\n",
       "      <th>11</th>\n",
       "      <td>RobustScaler</td>\n",
       "      <td>&lt;class 'sklearn.ensemble._forest.RandomForestC...</td>\n",
       "      <td>26</td>\n",
       "      <td>[rms]</td>\n",
       "      <td>0.429349</td>\n",
       "    </tr>\n",
       "    <tr>\n",
       "      <th>7</th>\n",
       "      <td>None</td>\n",
       "      <td>&lt;class 'sklearn.ensemble._forest.RandomForestC...</td>\n",
       "      <td>26</td>\n",
       "      <td>[zcr, pitch]</td>\n",
       "      <td>0.417574</td>\n",
       "    </tr>\n",
       "    <tr>\n",
       "      <th>13</th>\n",
       "      <td>RobustScaler</td>\n",
       "      <td>&lt;class 'sklearn.ensemble._forest.RandomForestC...</td>\n",
       "      <td>26</td>\n",
       "      <td>[zcr]</td>\n",
       "      <td>0.387065</td>\n",
       "    </tr>\n",
       "    <tr>\n",
       "      <th>12</th>\n",
       "      <td>None</td>\n",
       "      <td>&lt;class 'sklearn.ensemble._forest.RandomForestC...</td>\n",
       "      <td>26</td>\n",
       "      <td>[pitch]</td>\n",
       "      <td>0.210972</td>\n",
       "    </tr>\n",
       "  </tbody>\n",
       "</table>\n",
       "</div>"
      ],
      "text/plain": [
       "          Scaler                                              Model  N_MFCC  \\\n",
       "0   RobustScaler  <class 'sklearn.ensemble._forest.RandomForestC...      26   \n",
       "2           None  <class 'sklearn.ensemble._forest.RandomForestC...      26   \n",
       "4   RobustScaler  <class 'sklearn.ensemble._forest.RandomForestC...      26   \n",
       "3   RobustScaler  <class 'sklearn.ensemble._forest.RandomForestC...      26   \n",
       "9           None  <class 'sklearn.ensemble._forest.RandomForestC...      26   \n",
       "8   RobustScaler  <class 'sklearn.ensemble._forest.RandomForestC...      26   \n",
       "10          None  <class 'sklearn.ensemble._forest.RandomForestC...      26   \n",
       "14          None  <class 'sklearn.ensemble._forest.RandomForestC...      26   \n",
       "1   MinMaxScaler  <class 'sklearn.ensemble._forest.ExtraTreesCla...      26   \n",
       "6           None  <class 'sklearn.ensemble._forest.ExtraTreesCla...      26   \n",
       "5           None  <class 'sklearn.ensemble._forest.ExtraTreesCla...      26   \n",
       "11  RobustScaler  <class 'sklearn.ensemble._forest.RandomForestC...      26   \n",
       "7           None  <class 'sklearn.ensemble._forest.RandomForestC...      26   \n",
       "13  RobustScaler  <class 'sklearn.ensemble._forest.RandomForestC...      26   \n",
       "12          None  <class 'sklearn.ensemble._forest.RandomForestC...      26   \n",
       "\n",
       "                     Selected Features  Average Accuracy  \n",
       "0   [mfcc_statistics, zcr, pitch, rms]          0.637288  \n",
       "2        [mfcc_statistics, pitch, rms]          0.635147  \n",
       "4        [mfcc_statistics, zcr, pitch]          0.634701  \n",
       "3          [mfcc_statistics, zcr, rms]          0.633720  \n",
       "9             [mfcc_statistics, pitch]          0.631668  \n",
       "8               [mfcc_statistics, rms]          0.630419  \n",
       "10              [mfcc_statistics, zcr]          0.627565  \n",
       "14                   [mfcc_statistics]          0.626494  \n",
       "1                    [zcr, pitch, rms]          0.530419  \n",
       "6                           [zcr, rms]          0.515968  \n",
       "5                         [pitch, rms]          0.473238  \n",
       "11                               [rms]          0.429349  \n",
       "7                         [zcr, pitch]          0.417574  \n",
       "13                               [zcr]          0.387065  \n",
       "12                             [pitch]          0.210972  "
      ]
     },
     "execution_count": 11,
     "metadata": {},
     "output_type": "execute_result"
    }
   ],
   "source": [
    "ranked_results.head(30)"
   ]
  }
 ],
 "metadata": {
  "kernelspec": {
   "display_name": ".venv",
   "language": "python",
   "name": "python3"
  },
  "language_info": {
   "codemirror_mode": {
    "name": "ipython",
    "version": 3
   },
   "file_extension": ".py",
   "mimetype": "text/x-python",
   "name": "python",
   "nbconvert_exporter": "python",
   "pygments_lexer": "ipython3",
   "version": "3.11.9"
  }
 },
 "nbformat": 4,
 "nbformat_minor": 2
}
