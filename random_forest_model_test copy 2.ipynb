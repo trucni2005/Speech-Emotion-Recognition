{
 "cells": [
  {
   "cell_type": "code",
   "execution_count": 5,
   "metadata": {},
   "outputs": [],
   "source": [
    "original_features = ['mfcc_mean', 'mfcc_variance', 'mfcc_max', 'mfcc_min', 'mfcc_median', 'mfcc_25th_percentile', 'mfcc_75th_percentile',\n",
    "                     'zcr_mean', 'zcr_variance', 'zcr_max', 'zcr_min', 'zcr_median', 'zcr_25th_percentile', 'zcr_75th_percentile',\n",
    "                     'rms_mean', 'rms_variance', 'rms_max', 'rms_min', 'rms_median', 'rms_25th_percentile', 'rms_75th_percentile',\n",
    "                     'pitch_mean', 'pitch_variance', 'pitch_max', 'pitch_min', 'pitch_median', 'pitch_25th_percentile', 'pitch_75th_percentile',\n",
    "                     'mfcc_range', 'mfcc_skewness', 'mfcc_kurtosis', 'mfcc_energy']"
   ]
  },
  {
   "cell_type": "code",
   "execution_count": 6,
   "metadata": {},
   "outputs": [],
   "source": [
    "from itertools import combinations\n",
    "\n",
    "def generate_feature_combinations(features):\n",
    "    n = len(features)\n",
    "    all_combinations = []\n",
    "    for r in range(n):\n",
    "        for combo in combinations(range(n), r):\n",
    "            selected_features = [features[i] for i in range(n) if i not in combo]\n",
    "            all_combinations.append(selected_features)\n",
    "    return all_combinations"
   ]
  },
  {
   "cell_type": "code",
   "execution_count": 7,
   "metadata": {},
   "outputs": [
    {
     "name": "stdout",
     "output_type": "stream",
     "text": [
      "[['mfcc', 'zcr', 'rms', 'pitch'], ['zcr', 'rms', 'pitch'], ['mfcc', 'rms', 'pitch'], ['mfcc', 'zcr', 'pitch'], ['mfcc', 'zcr', 'rms'], ['rms', 'pitch'], ['zcr', 'pitch'], ['zcr', 'rms'], ['mfcc', 'pitch'], ['mfcc', 'rms'], ['mfcc', 'zcr'], ['pitch'], ['rms'], ['zcr'], ['mfcc']]\n",
      "[['mean', 'variance', 'max', 'min', 'median', '25th_percentile', '75th_percentile'], ['variance', 'max', 'min', 'median', '25th_percentile', '75th_percentile'], ['mean', 'max', 'min', 'median', '25th_percentile', '75th_percentile'], ['mean', 'variance', 'min', 'median', '25th_percentile', '75th_percentile'], ['mean', 'variance', 'max', 'median', '25th_percentile', '75th_percentile'], ['mean', 'variance', 'max', 'min', '25th_percentile', '75th_percentile'], ['mean', 'variance', 'max', 'min', 'median', '75th_percentile'], ['mean', 'variance', 'max', 'min', 'median', '25th_percentile'], ['max', 'min', 'median', '25th_percentile', '75th_percentile'], ['variance', 'min', 'median', '25th_percentile', '75th_percentile'], ['variance', 'max', 'median', '25th_percentile', '75th_percentile'], ['variance', 'max', 'min', '25th_percentile', '75th_percentile'], ['variance', 'max', 'min', 'median', '75th_percentile'], ['variance', 'max', 'min', 'median', '25th_percentile'], ['mean', 'min', 'median', '25th_percentile', '75th_percentile'], ['mean', 'max', 'median', '25th_percentile', '75th_percentile'], ['mean', 'max', 'min', '25th_percentile', '75th_percentile'], ['mean', 'max', 'min', 'median', '75th_percentile'], ['mean', 'max', 'min', 'median', '25th_percentile'], ['mean', 'variance', 'median', '25th_percentile', '75th_percentile'], ['mean', 'variance', 'min', '25th_percentile', '75th_percentile'], ['mean', 'variance', 'min', 'median', '75th_percentile'], ['mean', 'variance', 'min', 'median', '25th_percentile'], ['mean', 'variance', 'max', '25th_percentile', '75th_percentile'], ['mean', 'variance', 'max', 'median', '75th_percentile'], ['mean', 'variance', 'max', 'median', '25th_percentile'], ['mean', 'variance', 'max', 'min', '75th_percentile'], ['mean', 'variance', 'max', 'min', '25th_percentile'], ['mean', 'variance', 'max', 'min', 'median'], ['min', 'median', '25th_percentile', '75th_percentile'], ['max', 'median', '25th_percentile', '75th_percentile'], ['max', 'min', '25th_percentile', '75th_percentile'], ['max', 'min', 'median', '75th_percentile'], ['max', 'min', 'median', '25th_percentile'], ['variance', 'median', '25th_percentile', '75th_percentile'], ['variance', 'min', '25th_percentile', '75th_percentile'], ['variance', 'min', 'median', '75th_percentile'], ['variance', 'min', 'median', '25th_percentile'], ['variance', 'max', '25th_percentile', '75th_percentile'], ['variance', 'max', 'median', '75th_percentile'], ['variance', 'max', 'median', '25th_percentile'], ['variance', 'max', 'min', '75th_percentile'], ['variance', 'max', 'min', '25th_percentile'], ['variance', 'max', 'min', 'median'], ['mean', 'median', '25th_percentile', '75th_percentile'], ['mean', 'min', '25th_percentile', '75th_percentile'], ['mean', 'min', 'median', '75th_percentile'], ['mean', 'min', 'median', '25th_percentile'], ['mean', 'max', '25th_percentile', '75th_percentile'], ['mean', 'max', 'median', '75th_percentile'], ['mean', 'max', 'median', '25th_percentile'], ['mean', 'max', 'min', '75th_percentile'], ['mean', 'max', 'min', '25th_percentile'], ['mean', 'max', 'min', 'median'], ['mean', 'variance', '25th_percentile', '75th_percentile'], ['mean', 'variance', 'median', '75th_percentile'], ['mean', 'variance', 'median', '25th_percentile'], ['mean', 'variance', 'min', '75th_percentile'], ['mean', 'variance', 'min', '25th_percentile'], ['mean', 'variance', 'min', 'median'], ['mean', 'variance', 'max', '75th_percentile'], ['mean', 'variance', 'max', '25th_percentile'], ['mean', 'variance', 'max', 'median'], ['mean', 'variance', 'max', 'min'], ['median', '25th_percentile', '75th_percentile'], ['min', '25th_percentile', '75th_percentile'], ['min', 'median', '75th_percentile'], ['min', 'median', '25th_percentile'], ['max', '25th_percentile', '75th_percentile'], ['max', 'median', '75th_percentile'], ['max', 'median', '25th_percentile'], ['max', 'min', '75th_percentile'], ['max', 'min', '25th_percentile'], ['max', 'min', 'median'], ['variance', '25th_percentile', '75th_percentile'], ['variance', 'median', '75th_percentile'], ['variance', 'median', '25th_percentile'], ['variance', 'min', '75th_percentile'], ['variance', 'min', '25th_percentile'], ['variance', 'min', 'median'], ['variance', 'max', '75th_percentile'], ['variance', 'max', '25th_percentile'], ['variance', 'max', 'median'], ['variance', 'max', 'min'], ['mean', '25th_percentile', '75th_percentile'], ['mean', 'median', '75th_percentile'], ['mean', 'median', '25th_percentile'], ['mean', 'min', '75th_percentile'], ['mean', 'min', '25th_percentile'], ['mean', 'min', 'median'], ['mean', 'max', '75th_percentile'], ['mean', 'max', '25th_percentile'], ['mean', 'max', 'median'], ['mean', 'max', 'min'], ['mean', 'variance', '75th_percentile'], ['mean', 'variance', '25th_percentile'], ['mean', 'variance', 'median'], ['mean', 'variance', 'min'], ['mean', 'variance', 'max'], ['25th_percentile', '75th_percentile'], ['median', '75th_percentile'], ['median', '25th_percentile'], ['min', '75th_percentile'], ['min', '25th_percentile'], ['min', 'median'], ['max', '75th_percentile'], ['max', '25th_percentile'], ['max', 'median'], ['max', 'min'], ['variance', '75th_percentile'], ['variance', '25th_percentile'], ['variance', 'median'], ['variance', 'min'], ['variance', 'max'], ['mean', '75th_percentile'], ['mean', '25th_percentile'], ['mean', 'median'], ['mean', 'min'], ['mean', 'max'], ['mean', 'variance'], ['75th_percentile'], ['25th_percentile'], ['median'], ['min'], ['max'], ['variance'], ['mean']]\n"
     ]
    }
   ],
   "source": [
    "# Sử dụng hàm\n",
    "features = ['mfcc', 'zcr', 'rms', 'pitch']\n",
    "features_combo = generate_feature_combinations(features)\n",
    "print(features_combo)\n",
    "\n",
    "statistics = ['mean', 'variance', 'max', 'min', 'median', '25th_percentile', '75th_percentile']\n",
    "statistics_combo = generate_feature_combinations(statistics)\n",
    "print(statistics_combo)"
   ]
  },
  {
   "cell_type": "code",
   "execution_count": 8,
   "metadata": {},
   "outputs": [
    {
     "ename": "ModuleNotFoundError",
     "evalue": "No module named 'config.config'",
     "output_type": "error",
     "traceback": [
      "\u001b[1;31m---------------------------------------------------------------------------\u001b[0m",
      "\u001b[1;31mModuleNotFoundError\u001b[0m                       Traceback (most recent call last)",
      "Cell \u001b[1;32mIn[8], line 1\u001b[0m\n\u001b[1;32m----> 1\u001b[0m \u001b[38;5;28;01mfrom\u001b[39;00m \u001b[38;5;21;01mconfig\u001b[39;00m\u001b[38;5;21;01m.\u001b[39;00m\u001b[38;5;21;01mconfig\u001b[39;00m \u001b[38;5;28;01mimport\u001b[39;00m Config\n",
      "\u001b[1;31mModuleNotFoundError\u001b[0m: No module named 'config.config'"
     ]
    }
   ],
   "source": [
    "from config.eng_config import Config"
   ]
  },
  {
   "cell_type": "code",
   "execution_count": null,
   "metadata": {},
   "outputs": [],
   "source": [
    "def get_n_mfcc_paths(n_mfcc):\n",
    "    train_path = Config.n_mfcc_config[n_mfcc].train_path\n",
    "    validation_path = Config.n_mfcc_config[n_mfcc].validation_path\n",
    "    test_path = Config.n_mfcc_config[n_mfcc].test_path\n",
    "    return train_path, validation_path, test_path"
   ]
  },
  {
   "cell_type": "code",
   "execution_count": null,
   "metadata": {},
   "outputs": [],
   "source": [
    "import pandas as pd"
   ]
  },
  {
   "cell_type": "code",
   "execution_count": null,
   "metadata": {},
   "outputs": [],
   "source": [
    "def load_data(file_path):\n",
    "        data = pd.read_csv(file_path)\n",
    "        X = data.drop(columns=['label', 'file_path'])\n",
    "        y = data['label']\n",
    "        return X, y"
   ]
  },
  {
   "cell_type": "code",
   "execution_count": null,
   "metadata": {},
   "outputs": [],
   "source": [
    "train_path, validation_path, test_path = get_n_mfcc_paths(20)\n",
    "X_train, y_train = load_data(train_path)\n",
    "X_test, y_test = load_data(test_path)\n",
    "X_val, y_val = load_data(validation_path)"
   ]
  },
  {
   "cell_type": "code",
   "execution_count": null,
   "metadata": {},
   "outputs": [],
   "source": [
    "from sklearn.preprocessing import StandardScaler, MinMaxScaler, RobustScaler, MaxAbsScaler\n",
    "import numpy as np\n",
    "from sklearn.ensemble import RandomForestClassifier\n",
    "from sklearn.preprocessing import StandardScaler\n",
    "from sklearn.metrics import accuracy_score, classification_report"
   ]
  },
  {
   "cell_type": "code",
   "execution_count": null,
   "metadata": {},
   "outputs": [],
   "source": [
    "def test_models(X_train, X_val, y_train, y_val, scalers, models):\n",
    "    best_accuracy = 0\n",
    "    best_result = None\n",
    "\n",
    "    for scaler in scalers:\n",
    "        for model in models:\n",
    "            # Scaling dữ liệu\n",
    "            X_train_scaled = scaler.fit_transform(X_train)\n",
    "            X_val_scaled = scaler.transform(X_val)\n",
    "\n",
    "            # Huấn luyện mô hình\n",
    "            model.fit(X_train_scaled, y_train)\n",
    "\n",
    "            # Dự đoán trên tập validation\n",
    "            y_val_pred = model.predict(X_val_scaled)\n",
    "\n",
    "            # Tính toán độ chính xác và báo cáo phân loại\n",
    "            val_accuracy = accuracy_score(y_val, y_val_pred)\n",
    "            # Nếu độ chính xác tốt hơn kết quả tốt nhất trước đó, cập nhật kết quả tốt nhất\n",
    "            if val_accuracy > best_accuracy:\n",
    "                best_accuracy = val_accuracy\n",
    "                best_result = {\n",
    "                    'scaler': type(scaler).__name__,\n",
    "                    'model': type(model).__name__,\n",
    "                    'accuracy': val_accuracy\n",
    "                }\n",
    "    return best_result"
   ]
  },
  {
   "cell_type": "code",
   "execution_count": null,
   "metadata": {},
   "outputs": [],
   "source": [
    "from sklearn.ensemble import RandomForestClassifier, ExtraTreesClassifier\n",
    "from sklearn.svm import SVC"
   ]
  },
  {
   "cell_type": "code",
   "execution_count": null,
   "metadata": {},
   "outputs": [],
   "source": [
    "scalers = [StandardScaler(), MinMaxScaler(), RobustScaler()]\n",
    "models = [RandomForestClassifier(random_state=42), ExtraTreesClassifier(random_state=42), SVC(kernel='linear', random_state=42)]\n",
    "\n",
    "# Để lưu kết quả cho mỗi lần loại bỏ đặc trưng\n",
    "results = []\n",
    "\n",
    "# Khởi tạo các biến để lưu pipeline tốt nhất\n",
    "best_accuracy = 0\n",
    "best_pipeline = None\n",
    "\n",
    "# Lặp qua mỗi đặc trưng và mỗi thống kê để tạo các tổ hợp\n",
    "for feature in features_combo:\n",
    "    for statistic in statistics_combo:\n",
    "        combined_features = []\n",
    "        for f in feature:\n",
    "            for s in statistic:\n",
    "                combined_features.append(f'{f}_{s}')\n",
    "        \n",
    "        features_to_use = []\n",
    "        for f in combined_features:\n",
    "            # Tạo danh sách các cột bắt đầu bằng feature\n",
    "            cols_starting_with_feature = [col for col in X_train.columns if col.startswith(f)]\n",
    "            features_to_use.extend(cols_starting_with_feature)\n",
    "\n",
    "        # Tạo tập dữ liệu mới với các đặc trưng đã loại bỏ\n",
    "        X_train_new = X_train[features_to_use]\n",
    "        X_val_new = X_val[features_to_use]\n",
    "        \n",
    "        # Thử nghiệm mỗi tổ hợp scaler và mô hình\n",
    "        result_dict = test_models(X_train_new, X_val_new, y_train, y_val, scalers, models)\n",
    "\n",
    "        scaler = result_dict['scaler']\n",
    "        model = result_dict['model']\n",
    "        accuracy = result_dict['accuracy']\n",
    "        results.append((feature, statistic, scaler, model, accuracy))\n",
    "        \n",
    "        \n",
    "        # Cập nhật pipeline tốt nhất nếu có độ chính xác cao hơn\n",
    "        if accuracy > best_accuracy:\n",
    "            best_accuracy = accuracy\n",
    "            best_pipeline = (feature, statistic, scaler, model, accuracy)\n",
    "            print(best_pipeline)\n",
    "\n",
    "# In pipeline tốt nhất\n",
    "print(\"Best Pipeline:\")\n",
    "print(\"Features:\", best_pipeline[0])\n",
    "print(\"Statistic:\", best_pipeline[1])\n",
    "print(\"Scaler:\", best_pipeline[2])\n",
    "print(\"Model:\", best_pipeline[3])\n",
    "print(\"Accuracy:\", best_pipeline[4])"
   ]
  }
 ],
 "metadata": {
  "kernelspec": {
   "display_name": ".venv",
   "language": "python",
   "name": "python3"
  },
  "language_info": {
   "codemirror_mode": {
    "name": "ipython",
    "version": 3
   },
   "file_extension": ".py",
   "mimetype": "text/x-python",
   "name": "python",
   "nbconvert_exporter": "python",
   "pygments_lexer": "ipython3",
   "version": "3.11.9"
  }
 },
 "nbformat": 4,
 "nbformat_minor": 2
}
